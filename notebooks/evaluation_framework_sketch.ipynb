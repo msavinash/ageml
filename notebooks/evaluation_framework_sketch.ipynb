{
 "cells": [
  {
   "cell_type": "code",
   "execution_count": 2,
   "id": "4d2ccdc6",
   "metadata": {},
   "outputs": [],
   "source": [
    "import numpy as np\n",
    "import pandas as pd\n",
    "import nannyml as nml\n",
    "from matplotlib import pyplot as plt\n",
    "from sklearn.datasets import fetch_california_housing\n",
    "from sklearn.linear_model import LinearRegression\n",
    "from sklearn.metrics import mean_absolute_error\n",
    "import seaborn as sns"
   ]
  },
  {
   "cell_type": "code",
   "execution_count": 3,
   "id": "71caf8ee",
   "metadata": {},
   "outputs": [],
   "source": [
    "def train_val_test_split(data, target, n_train, n_val):\n",
    "    # start train index is generated randomly and we make sure\n",
    "    # to leave space of the validation and test\n",
    "    idx_train_start = np.random.randint(0, len(data) - n_train - n_val - n_test)\n",
    "    idx_train_end = idx_train_start + n_train\n",
    "\n",
    "    # validation set is adjacent to the train set\n",
    "    idx_val_start = idx_train_end\n",
    "    idx_val_end = idx_val_start + n_val\n",
    "\n",
    "    # test set can be at any point after the validation set\n",
    "    # it doesn't need to be adjacent to it\n",
    "    # idx_test_start = np.random.randint(idx_val_end, len(data) - n_test)\n",
    "    # idx_test_end = idx_test_start + n_test\n",
    "    idx_test_start = idx_val_end + 1\n",
    "    idx_test_end = len(data) - 1\n",
    "    \n",
    "    # split data\n",
    "    X_train = data.iloc[idx_train_start:idx_train_end]\n",
    "    X_val = data.iloc[idx_val_start:idx_val_end]\n",
    "    X_test = data.iloc[idx_test_start:idx_test_end]\n",
    "\n",
    "    # split targets\n",
    "    y_train = target.iloc[idx_train_start:idx_train_end]\n",
    "    y_val = target.iloc[idx_val_start:idx_val_end]\n",
    "    y_test = target.iloc[idx_test_start:idx_test_end]\n",
    "    \n",
    "    # TODO: return only 3 objects df_train, ... targets next to data\n",
    "    return X_train, X_val, X_test, y_train, y_val, y_test"
   ]
  },
  {
   "cell_type": "code",
   "execution_count": 4,
   "id": "2b077018",
   "metadata": {},
   "outputs": [],
   "source": [
    "def compute_model_errors(data, target, model, n_train, n_val):\n",
    "    # create random split\n",
    "    X_train, X_val, X_test, y_train, y_val, y_test = train_val_test_split(data, target, n_train, n_val)\n",
    "    \n",
    "    # train the model\n",
    "    model.fit(X_train, y_train)\n",
    "    \n",
    "    # make predictions\n",
    "    y_train_pred = model.predict(X_train)\n",
    "    y_val_pred = model.predict(X_val)\n",
    "    y_test_pred = model.predict(X_test)\n",
    "    \n",
    "    # calculate errors\n",
    "    train_errors = np.abs(y_train - y_train_pred)\n",
    "    val_errors = np.abs(y_val - y_val_pred)\n",
    "    test_errors = np.abs(y_test - y_test_pred)\n",
    "    \n",
    "    return train_errors, val_errors, test_errors"
   ]
  },
  {
   "cell_type": "code",
   "execution_count": 5,
   "id": "bebf95ec",
   "metadata": {},
   "outputs": [],
   "source": [
    "def generate_model_errors_dataframe(train_errors, val_errors, test_errors):\n",
    "    train_errors_df = pd.DataFrame(train_errors)\n",
    "    train_errors_df['partition'] = 'train'\n",
    "\n",
    "    val_errors_df = pd.DataFrame(val_errors)\n",
    "    val_errors_df['partition'] = 'val'\n",
    "\n",
    "    test_errors_df = pd.DataFrame(test_errors)\n",
    "    test_errors_df['partition'] = 'test'\n",
    "\n",
    "    errors_df = pd.concat([train_errors_df, val_errors_df, test_errors_df])\n",
    "    errors_df['index'] = errors_df.index\n",
    "    errors_df = errors_df.rename(columns={\"MedHouseVal\": \"error\"})\n",
    "    errors_df['model_age'] = (errors_df.index - val_errors.index[-1]).days\n",
    "    \n",
    "    return errors_df"
   ]
  },
  {
   "cell_type": "code",
   "execution_count": 6,
   "id": "275f8422",
   "metadata": {},
   "outputs": [],
   "source": [
    "def evaluation_runner(data, target, model, n_train, n_val, n_simulations=1):\n",
    "    \n",
    "    # empty error lists\n",
    "    errors_df_list = []\n",
    "    \n",
    "    # for every simulation compute the models errors, append the errors to the error lists\n",
    "    for _ in range(n_simulations):\n",
    "        train_errors, val_errors, test_errors = compute_model_errors(data, target, model, n_train, n_val)\n",
    "    \n",
    "        # generate a single error dataframe\n",
    "        errors_df = generate_model_errors_dataframe(train_errors, val_errors, test_errors)\n",
    "        errors_df_list.append(errors_df)\n",
    "    \n",
    "    errors_df = pd.concat(errors_df_list)\n",
    "    \n",
    "    return errors_df"
   ]
  },
  {
   "cell_type": "code",
   "execution_count": 9,
   "id": "062f5c42",
   "metadata": {},
   "outputs": [],
   "source": [
    "data, target = fetch_california_housing(as_frame=True, return_X_y=True)\n",
    "timestamp = pd.date_range(start='1/1/2018', periods=len(data), freq='H')\n",
    "data.index = timestamp\n",
    "target.index = timestamp\n",
    "\n",
    "n_train = 5000\n",
    "n_val = 1000\n",
    "n_test = 1000 # fix this because n_test is not a parameter\n",
    "model = LinearRegression()\n",
    "\n",
    "errors_df = evaluation_runner(data, target, model, n_train, n_val, n_simulations=2)"
   ]
  },
  {
   "cell_type": "code",
   "execution_count": 10,
   "id": "16771534",
   "metadata": {},
   "outputs": [
    {
     "data": {
      "text/html": [
       "<div>\n",
       "<style scoped>\n",
       "    .dataframe tbody tr th:only-of-type {\n",
       "        vertical-align: middle;\n",
       "    }\n",
       "\n",
       "    .dataframe tbody tr th {\n",
       "        vertical-align: top;\n",
       "    }\n",
       "\n",
       "    .dataframe thead th {\n",
       "        text-align: right;\n",
       "    }\n",
       "</style>\n",
       "<table border=\"1\" class=\"dataframe\">\n",
       "  <thead>\n",
       "    <tr style=\"text-align: right;\">\n",
       "      <th></th>\n",
       "      <th>error</th>\n",
       "      <th>partition</th>\n",
       "      <th>index</th>\n",
       "      <th>model_age</th>\n",
       "    </tr>\n",
       "  </thead>\n",
       "  <tbody>\n",
       "    <tr>\n",
       "      <th>2019-06-02 05:00:00</th>\n",
       "      <td>0.168539</td>\n",
       "      <td>train</td>\n",
       "      <td>2019-06-02 05:00:00</td>\n",
       "      <td>-250</td>\n",
       "    </tr>\n",
       "    <tr>\n",
       "      <th>2019-06-02 06:00:00</th>\n",
       "      <td>0.026820</td>\n",
       "      <td>train</td>\n",
       "      <td>2019-06-02 06:00:00</td>\n",
       "      <td>-250</td>\n",
       "    </tr>\n",
       "    <tr>\n",
       "      <th>2019-06-02 07:00:00</th>\n",
       "      <td>0.054637</td>\n",
       "      <td>train</td>\n",
       "      <td>2019-06-02 07:00:00</td>\n",
       "      <td>-250</td>\n",
       "    </tr>\n",
       "    <tr>\n",
       "      <th>2019-06-02 08:00:00</th>\n",
       "      <td>0.166946</td>\n",
       "      <td>train</td>\n",
       "      <td>2019-06-02 08:00:00</td>\n",
       "      <td>-250</td>\n",
       "    </tr>\n",
       "    <tr>\n",
       "      <th>2019-06-02 09:00:00</th>\n",
       "      <td>0.091314</td>\n",
       "      <td>train</td>\n",
       "      <td>2019-06-02 09:00:00</td>\n",
       "      <td>-250</td>\n",
       "    </tr>\n",
       "    <tr>\n",
       "      <th>...</th>\n",
       "      <td>...</td>\n",
       "      <td>...</td>\n",
       "      <td>...</td>\n",
       "      <td>...</td>\n",
       "    </tr>\n",
       "    <tr>\n",
       "      <th>2020-05-09 18:00:00</th>\n",
       "      <td>0.227391</td>\n",
       "      <td>test</td>\n",
       "      <td>2020-05-09 18:00:00</td>\n",
       "      <td>307</td>\n",
       "    </tr>\n",
       "    <tr>\n",
       "      <th>2020-05-09 19:00:00</th>\n",
       "      <td>0.428235</td>\n",
       "      <td>test</td>\n",
       "      <td>2020-05-09 19:00:00</td>\n",
       "      <td>307</td>\n",
       "    </tr>\n",
       "    <tr>\n",
       "      <th>2020-05-09 20:00:00</th>\n",
       "      <td>0.015467</td>\n",
       "      <td>test</td>\n",
       "      <td>2020-05-09 20:00:00</td>\n",
       "      <td>307</td>\n",
       "    </tr>\n",
       "    <tr>\n",
       "      <th>2020-05-09 21:00:00</th>\n",
       "      <td>0.486901</td>\n",
       "      <td>test</td>\n",
       "      <td>2020-05-09 21:00:00</td>\n",
       "      <td>307</td>\n",
       "    </tr>\n",
       "    <tr>\n",
       "      <th>2020-05-09 22:00:00</th>\n",
       "      <td>0.247063</td>\n",
       "      <td>test</td>\n",
       "      <td>2020-05-09 22:00:00</td>\n",
       "      <td>307</td>\n",
       "    </tr>\n",
       "  </tbody>\n",
       "</table>\n",
       "<p>21610 rows × 4 columns</p>\n",
       "</div>"
      ],
      "text/plain": [
       "                        error partition               index  model_age\n",
       "2019-06-02 05:00:00  0.168539     train 2019-06-02 05:00:00       -250\n",
       "2019-06-02 06:00:00  0.026820     train 2019-06-02 06:00:00       -250\n",
       "2019-06-02 07:00:00  0.054637     train 2019-06-02 07:00:00       -250\n",
       "2019-06-02 08:00:00  0.166946     train 2019-06-02 08:00:00       -250\n",
       "2019-06-02 09:00:00  0.091314     train 2019-06-02 09:00:00       -250\n",
       "...                       ...       ...                 ...        ...\n",
       "2020-05-09 18:00:00  0.227391      test 2020-05-09 18:00:00        307\n",
       "2020-05-09 19:00:00  0.428235      test 2020-05-09 19:00:00        307\n",
       "2020-05-09 20:00:00  0.015467      test 2020-05-09 20:00:00        307\n",
       "2020-05-09 21:00:00  0.486901      test 2020-05-09 21:00:00        307\n",
       "2020-05-09 22:00:00  0.247063      test 2020-05-09 22:00:00        307\n",
       "\n",
       "[21610 rows x 4 columns]"
      ]
     },
     "execution_count": 10,
     "metadata": {},
     "output_type": "execute_result"
    }
   ],
   "source": [
    "errors_df"
   ]
  },
  {
   "cell_type": "code",
   "execution_count": 11,
   "id": "8e7863bb",
   "metadata": {},
   "outputs": [
    {
     "data": {
      "text/plain": [
       "0"
      ]
     },
     "execution_count": 11,
     "metadata": {},
     "output_type": "execute_result"
    }
   ],
   "source": [
    "errors_df[errors_df['partition'] == 'test']['model_age'].min()"
   ]
  },
  {
   "cell_type": "code",
   "execution_count": 29,
   "id": "04e8d3ee",
   "metadata": {},
   "outputs": [],
   "source": [
    "val_mean_error = errors_df[errors_df['partition'] == 'val']['error'].mean()\n",
    "val_std_error = errors_df[errors_df['partition'] == 'val']['error'].std()\n",
    "lower_threshold = 0 # train_mean_error - 3 * train_std_error\n",
    "upper_threshold = val_mean_error + 3 * val_std_error"
   ]
  },
  {
   "cell_type": "code",
   "execution_count": 30,
   "id": "ec6e7561",
   "metadata": {},
   "outputs": [
    {
     "data": {
      "text/plain": [
       "<matplotlib.lines.Line2D at 0x7fa0bd3dcdf0>"
      ]
     },
     "execution_count": 30,
     "metadata": {},
     "output_type": "execute_result"
    },
    {
     "data": {
      "image/png": "[encoded data removed]",
      "text/plain": [
       "<Figure size 640x480 with 1 Axes>"
      ]
     },
     "metadata": {},
     "output_type": "display_data"
    }
   ],
   "source": [
    "sns.scatterplot(data=errors_df, x='model_age', y='error', hue='partition', s=5,\n",
    "                palette=sns.cubehelix_palette(n_colors=3), alpha=0.3)\n",
    "\n",
    "plt.axhline(y=lower_threshold, ls='--')\n",
    "plt.axhline(y=upper_threshold, ls='--')"
   ]
  },
  {
   "cell_type": "code",
   "execution_count": 31,
   "id": "343ce1a4",
   "metadata": {},
   "outputs": [
    {
     "data": {
      "text/plain": [
       "<matplotlib.lines.Line2D at 0x7fa0bd2534c0>"
      ]
     },
     "execution_count": 31,
     "metadata": {},
     "output_type": "execute_result"
    },
    {
     "data": {
      "image/png": "[encoded data removed]",
      "text/plain": [
       "<Figure size 640x480 with 1 Axes>"
      ]
     },
     "metadata": {},
     "output_type": "display_data"
    }
   ],
   "source": [
    "sns.scatterplot(data=errors_df[errors_df['partition'] == 'test'], x='model_age', y='error',\n",
    "                s=5, alpha=0.3)\n",
    "\n",
    "plt.axhline(y=lower_threshold, ls='--')\n",
    "plt.axhline(y=upper_threshold, ls='--')"
   ]
  },
  {
   "cell_type": "markdown",
   "id": "a553556a",
   "metadata": {},
   "source": [
    "TODO:\n",
    "\n",
    "- validate that this make sense\n",
    "- elaborate on the plots\n",
    "- plot aggregated error of simulations\n",
    "- review thresholds"
   ]
  }
 ],
 "metadata": {
  "kernelspec": {
   "display_name": "Python 3 (ipykernel)",
   "language": "python",
   "name": "python3"
  },
  "language_info": {
   "codemirror_mode": {
    "name": "ipython",
    "version": 3
   },
   "file_extension": ".py",
   "mimetype": "text/x-python",
   "name": "python",
   "nbconvert_exporter": "python",
   "pygments_lexer": "ipython3",
   "version": "3.10.11"
  }
 },
 "nbformat": 4,
 "nbformat_minor": 5
}
