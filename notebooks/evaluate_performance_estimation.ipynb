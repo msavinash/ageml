{
 "cells": [
  {
   "cell_type": "code",
   "execution_count": 39,
   "id": "42e09bac",
   "metadata": {},
   "outputs": [],
   "source": [
    "import numpy as np\n",
    "import pandas as pd\n",
    "import nannyml as nml\n",
    "from sklearn.datasets import fetch_california_housing"
   ]
  },
  {
   "cell_type": "code",
   "execution_count": 6,
   "id": "3546632e",
   "metadata": {},
   "outputs": [],
   "source": [
    "# load original data\n",
    "data, target = fetch_california_housing(as_frame=True, return_X_y=True)\n",
    "timestamp = pd.date_range(start='1/1/2018', periods=len(data), freq='H')\n",
    "data.index = timestamp\n",
    "target.index = timestamp\n",
    "\n",
    "# load aging results\n",
    "aging_results = pd.read_parquet('../results/aging/cal_house/aging_cal_house_1_simulations_3000_prod.parquet')"
   ]
  },
  {
   "cell_type": "code",
   "execution_count": 7,
   "id": "7f28e1bc",
   "metadata": {},
   "outputs": [
    {
     "data": {
      "text/plain": [
       "2018-01-01 00:00:00    4.526\n",
       "2018-01-01 01:00:00    3.585\n",
       "2018-01-01 02:00:00    3.521\n",
       "2018-01-01 03:00:00    3.413\n",
       "2018-01-01 04:00:00    3.422\n",
       "                       ...  \n",
       "2020-05-09 19:00:00    0.781\n",
       "2020-05-09 20:00:00    0.771\n",
       "2020-05-09 21:00:00    0.923\n",
       "2020-05-09 22:00:00    0.847\n",
       "2020-05-09 23:00:00    0.894\n",
       "Freq: H, Name: MedHouseVal, Length: 20640, dtype: float64"
      ]
     },
     "execution_count": 7,
     "metadata": {},
     "output_type": "execute_result"
    }
   ],
   "source": [
    "target"
   ]
  },
  {
   "cell_type": "code",
   "execution_count": 8,
   "id": "7e28ea6e",
   "metadata": {},
   "outputs": [
    {
     "data": {
      "text/html": [
       "<div>\n",
       "<style scoped>\n",
       "    .dataframe tbody tr th:only-of-type {\n",
       "        vertical-align: middle;\n",
       "    }\n",
       "\n",
       "    .dataframe tbody tr th {\n",
       "        vertical-align: top;\n",
       "    }\n",
       "\n",
       "    .dataframe thead th {\n",
       "        text-align: right;\n",
       "    }\n",
       "</style>\n",
       "<table border=\"1\" class=\"dataframe\">\n",
       "  <thead>\n",
       "    <tr style=\"text-align: right;\">\n",
       "      <th></th>\n",
       "      <th>y</th>\n",
       "      <th>y_pred</th>\n",
       "      <th>partition</th>\n",
       "      <th>timestamp</th>\n",
       "      <th>model_age</th>\n",
       "      <th>is_model_valid</th>\n",
       "      <th>simulation_id</th>\n",
       "    </tr>\n",
       "  </thead>\n",
       "  <tbody>\n",
       "    <tr>\n",
       "      <th>2018-03-31 10:00:00</th>\n",
       "      <td>0.647</td>\n",
       "      <td>0.659553</td>\n",
       "      <td>train</td>\n",
       "      <td>2018-03-31 10:00:00</td>\n",
       "      <td>-313</td>\n",
       "      <td>True</td>\n",
       "      <td>0</td>\n",
       "    </tr>\n",
       "    <tr>\n",
       "      <th>2018-03-31 11:00:00</th>\n",
       "      <td>0.673</td>\n",
       "      <td>0.777707</td>\n",
       "      <td>train</td>\n",
       "      <td>2018-03-31 11:00:00</td>\n",
       "      <td>-313</td>\n",
       "      <td>True</td>\n",
       "      <td>0</td>\n",
       "    </tr>\n",
       "    <tr>\n",
       "      <th>2018-03-31 12:00:00</th>\n",
       "      <td>0.677</td>\n",
       "      <td>0.895240</td>\n",
       "      <td>train</td>\n",
       "      <td>2018-03-31 12:00:00</td>\n",
       "      <td>-313</td>\n",
       "      <td>True</td>\n",
       "      <td>0</td>\n",
       "    </tr>\n",
       "    <tr>\n",
       "      <th>2018-03-31 13:00:00</th>\n",
       "      <td>0.619</td>\n",
       "      <td>0.714690</td>\n",
       "      <td>train</td>\n",
       "      <td>2018-03-31 13:00:00</td>\n",
       "      <td>-313</td>\n",
       "      <td>True</td>\n",
       "      <td>0</td>\n",
       "    </tr>\n",
       "    <tr>\n",
       "      <th>2018-03-31 14:00:00</th>\n",
       "      <td>0.581</td>\n",
       "      <td>0.653271</td>\n",
       "      <td>train</td>\n",
       "      <td>2018-03-31 14:00:00</td>\n",
       "      <td>-313</td>\n",
       "      <td>True</td>\n",
       "      <td>0</td>\n",
       "    </tr>\n",
       "    <tr>\n",
       "      <th>...</th>\n",
       "      <td>...</td>\n",
       "      <td>...</td>\n",
       "      <td>...</td>\n",
       "      <td>...</td>\n",
       "      <td>...</td>\n",
       "      <td>...</td>\n",
       "      <td>...</td>\n",
       "    </tr>\n",
       "    <tr>\n",
       "      <th>2020-04-26 23:00:00</th>\n",
       "      <td>3.912</td>\n",
       "      <td>3.409645</td>\n",
       "      <td>prod</td>\n",
       "      <td>2020-04-26 23:00:00</td>\n",
       "      <td>445</td>\n",
       "      <td>True</td>\n",
       "      <td>0</td>\n",
       "    </tr>\n",
       "    <tr>\n",
       "      <th>2020-04-27 00:00:00</th>\n",
       "      <td>4.521</td>\n",
       "      <td>2.945761</td>\n",
       "      <td>prod</td>\n",
       "      <td>2020-04-27 00:00:00</td>\n",
       "      <td>445</td>\n",
       "      <td>True</td>\n",
       "      <td>0</td>\n",
       "    </tr>\n",
       "    <tr>\n",
       "      <th>2020-04-27 01:00:00</th>\n",
       "      <td>2.287</td>\n",
       "      <td>1.877643</td>\n",
       "      <td>prod</td>\n",
       "      <td>2020-04-27 01:00:00</td>\n",
       "      <td>445</td>\n",
       "      <td>True</td>\n",
       "      <td>0</td>\n",
       "    </tr>\n",
       "    <tr>\n",
       "      <th>2020-04-27 02:00:00</th>\n",
       "      <td>3.406</td>\n",
       "      <td>2.652814</td>\n",
       "      <td>prod</td>\n",
       "      <td>2020-04-27 02:00:00</td>\n",
       "      <td>445</td>\n",
       "      <td>True</td>\n",
       "      <td>0</td>\n",
       "    </tr>\n",
       "    <tr>\n",
       "      <th>2020-04-27 03:00:00</th>\n",
       "      <td>3.119</td>\n",
       "      <td>2.549381</td>\n",
       "      <td>prod</td>\n",
       "      <td>2020-04-27 03:00:00</td>\n",
       "      <td>445</td>\n",
       "      <td>True</td>\n",
       "      <td>0</td>\n",
       "    </tr>\n",
       "  </tbody>\n",
       "</table>\n",
       "<p>13000 rows × 7 columns</p>\n",
       "</div>"
      ],
      "text/plain": [
       "                         y    y_pred partition           timestamp  model_age  \\\n",
       "2018-03-31 10:00:00  0.647  0.659553     train 2018-03-31 10:00:00       -313   \n",
       "2018-03-31 11:00:00  0.673  0.777707     train 2018-03-31 11:00:00       -313   \n",
       "2018-03-31 12:00:00  0.677  0.895240     train 2018-03-31 12:00:00       -313   \n",
       "2018-03-31 13:00:00  0.619  0.714690     train 2018-03-31 13:00:00       -313   \n",
       "2018-03-31 14:00:00  0.581  0.653271     train 2018-03-31 14:00:00       -313   \n",
       "...                    ...       ...       ...                 ...        ...   \n",
       "2020-04-26 23:00:00  3.912  3.409645      prod 2020-04-26 23:00:00        445   \n",
       "2020-04-27 00:00:00  4.521  2.945761      prod 2020-04-27 00:00:00        445   \n",
       "2020-04-27 01:00:00  2.287  1.877643      prod 2020-04-27 01:00:00        445   \n",
       "2020-04-27 02:00:00  3.406  2.652814      prod 2020-04-27 02:00:00        445   \n",
       "2020-04-27 03:00:00  3.119  2.549381      prod 2020-04-27 03:00:00        445   \n",
       "\n",
       "                     is_model_valid  simulation_id  \n",
       "2018-03-31 10:00:00            True              0  \n",
       "2018-03-31 11:00:00            True              0  \n",
       "2018-03-31 12:00:00            True              0  \n",
       "2018-03-31 13:00:00            True              0  \n",
       "2018-03-31 14:00:00            True              0  \n",
       "...                             ...            ...  \n",
       "2020-04-26 23:00:00            True              0  \n",
       "2020-04-27 00:00:00            True              0  \n",
       "2020-04-27 01:00:00            True              0  \n",
       "2020-04-27 02:00:00            True              0  \n",
       "2020-04-27 03:00:00            True              0  \n",
       "\n",
       "[13000 rows x 7 columns]"
      ]
     },
     "execution_count": 8,
     "metadata": {},
     "output_type": "execute_result"
    }
   ],
   "source": [
    "aging_results"
   ]
  },
  {
   "cell_type": "code",
   "execution_count": 21,
   "id": "07f95a2e",
   "metadata": {},
   "outputs": [
    {
     "name": "stdout",
     "output_type": "stream",
     "text": [
      "0\n"
     ]
    },
    {
     "name": "stderr",
     "output_type": "stream",
     "text": [
      "/Users/santiago/miniconda3/envs/thesis/lib/python3.10/site-packages/lightgbm/basic.py:2065: UserWarning:\n",
      "\n",
      "Using categorical_feature in Dataset.\n",
      "\n"
     ]
    }
   ],
   "source": [
    "simulation_ids = aging_results['simulation_id'].unique()\n",
    "nml_data = aging_results.merge(data, left_index=True, right_index=True, how='left')\n",
    "\n",
    "for simulation_id in simulation_ids:\n",
    "    print(simulation_id)\n",
    "    simulation_df = nml_data[nml_data['simulation_id'] == simulation_id]\n",
    "    \n",
    "    # get original test set\n",
    "    test_aging_results = simulation_df[simulation_df['partition'] == 'test']\n",
    "    idx_test_start, idx_test_end = test_aging_results.index[0], test_aging_results.index[-1]\n",
    "    reference_df = nml_data[idx_test_start:idx_test_end]\n",
    "    \n",
    "    # get original prod set\n",
    "    prod_aging_results = simulation_df[simulation_df['partition'] == 'prod']\n",
    "    idx_prod_start, idx_prod_end = prod_aging_results.index[0], prod_aging_results.index[-1]\n",
    "    analysis_df = nml_data[idx_prod_start:idx_prod_end]\n",
    "    \n",
    "    # fit DLE from NannyML\n",
    "    estimator = nml.DLE(\n",
    "        feature_column_names=data.columns.tolist(),\n",
    "        y_pred='y_pred',\n",
    "        y_true='y',\n",
    "        timestamp_column_name='timestamp',\n",
    "        metrics=['mape'],\n",
    "        chunk_period='d',\n",
    "        tune_hyperparameters=False\n",
    "    )\n",
    "    \n",
    "    estimator.fit(reference_df)\n",
    "    # performance estimation results\n",
    "    pe_results = estimator.estimate(analysis_df)\n",
    "    \n",
    "    calculator = nml.PerformanceCalculator(\n",
    "        y_pred='y_pred',\n",
    "        y_true='y',\n",
    "        timestamp_column_name='timestamp',\n",
    "        metrics=['mape'],\n",
    "        chunk_period='d',\n",
    "        problem_type='regression'\n",
    "    ).fit(reference_df)\n",
    "    realized_results = calculator.calculate(analysis_df)"
   ]
  },
  {
   "cell_type": "code",
   "execution_count": 22,
   "id": "6e99646e",
   "metadata": {},
   "outputs": [
    {
     "data": {
      "application/vnd.plotly.v1+json": {
       "config": {
        "plotlyServerURL": "https://plot.ly"
       },
       "data": [
        {
         "hoverinfo": "skip",
         "legendgroup": "metric_analysis",
         "line": {
          "color": "#3b0280",
          "dash": "dash",
          "shape": "hv",
          "width": 2
         },
         "mode": "lines",
         "name": "Metric",
         "showlegend": true,
         "type": "scatter",
         "x": [
          "2019-12-24T00:00:00",
          "2019-12-25T00:00:00",
          "2019-12-26T00:00:00",
          "2019-12-27T00:00:00",
          "2019-12-28T00:00:00",
          "2019-12-29T00:00:00",
          "2019-12-30T00:00:00",
          "2019-12-31T00:00:00",
          "2020-01-01T00:00:00",
          "2020-01-02T00:00:00",
          "2020-01-03T00:00:00",
          "2020-01-04T00:00:00",
          "2020-01-05T00:00:00",
          "2020-01-06T00:00:00",
          "2020-01-07T00:00:00",
          "2020-01-08T00:00:00",
          "2020-01-09T00:00:00",
          "2020-01-10T00:00:00",
          "2020-01-11T00:00:00",
          "2020-01-12T00:00:00",
          "2020-01-13T00:00:00",
          "2020-01-14T00:00:00",
          "2020-01-15T00:00:00",
          "2020-01-16T00:00:00",
          "2020-01-17T00:00:00",
          "2020-01-18T00:00:00",
          "2020-01-19T00:00:00",
          "2020-01-20T00:00:00",
          "2020-01-21T00:00:00",
          "2020-01-22T00:00:00",
          "2020-01-23T00:00:00",
          "2020-01-24T00:00:00",
          "2020-01-25T00:00:00",
          "2020-01-26T00:00:00",
          "2020-01-27T00:00:00",
          "2020-01-28T00:00:00",
          "2020-01-29T00:00:00",
          "2020-01-30T00:00:00",
          "2020-01-31T00:00:00",
          "2020-02-01T00:00:00",
          "2020-02-02T00:00:00",
          "2020-02-03T00:00:00",
          "2020-02-04T00:00:00",
          "2020-02-05T00:00:00",
          "2020-02-06T00:00:00",
          "2020-02-07T00:00:00",
          "2020-02-08T00:00:00",
          "2020-02-09T00:00:00",
          "2020-02-10T00:00:00",
          "2020-02-11T00:00:00",
          "2020-02-12T00:00:00",
          "2020-02-13T00:00:00",
          "2020-02-14T00:00:00",
          "2020-02-15T00:00:00",
          "2020-02-16T00:00:00",
          "2020-02-17T00:00:00",
          "2020-02-18T00:00:00",
          "2020-02-19T00:00:00",
          "2020-02-20T00:00:00",
          "2020-02-21T00:00:00",
          "2020-02-22T00:00:00",
          "2020-02-23T00:00:00",
          "2020-02-24T00:00:00",
          "2020-02-25T00:00:00",
          "2020-02-26T00:00:00",
          "2020-02-27T00:00:00",
          "2020-02-28T00:00:00",
          "2020-02-29T00:00:00",
          "2020-03-01T00:00:00",
          "2020-03-02T00:00:00",
          "2020-03-03T00:00:00",
          "2020-03-04T00:00:00",
          "2020-03-05T00:00:00",
          "2020-03-06T00:00:00",
          "2020-03-07T00:00:00",
          "2020-03-08T00:00:00",
          "2020-03-09T00:00:00",
          "2020-03-10T00:00:00",
          "2020-03-11T00:00:00",
          "2020-03-12T00:00:00",
          "2020-03-13T00:00:00",
          "2020-03-14T00:00:00",
          "2020-03-15T00:00:00",
          "2020-03-16T00:00:00",
          "2020-03-17T00:00:00",
          "2020-03-18T00:00:00",
          "2020-03-19T00:00:00",
          "2020-03-20T00:00:00",
          "2020-03-21T00:00:00",
          "2020-03-22T00:00:00",
          "2020-03-23T00:00:00",
          "2020-03-24T00:00:00",
          "2020-03-25T00:00:00",
          "2020-03-26T00:00:00",
          "2020-03-27T00:00:00",
          "2020-03-28T00:00:00",
          "2020-03-29T00:00:00",
          "2020-03-30T00:00:00",
          "2020-03-31T00:00:00",
          "2020-04-01T00:00:00",
          "2020-04-02T00:00:00",
          "2020-04-03T00:00:00",
          "2020-04-04T00:00:00",
          "2020-04-05T00:00:00",
          "2020-04-06T00:00:00",
          "2020-04-07T00:00:00",
          "2020-04-08T00:00:00",
          "2020-04-09T00:00:00",
          "2020-04-10T00:00:00",
          "2020-04-11T00:00:00",
          "2020-04-12T00:00:00",
          "2020-04-13T00:00:00",
          "2020-04-14T00:00:00",
          "2020-04-15T00:00:00",
          "2020-04-16T00:00:00",
          "2020-04-17T00:00:00",
          "2020-04-18T00:00:00",
          "2020-04-19T00:00:00",
          "2020-04-20T00:00:00",
          "2020-04-21T00:00:00",
          "2020-04-22T00:00:00",
          "2020-04-23T00:00:00",
          "2020-04-24T00:00:00",
          "2020-04-25T00:00:00",
          "2020-04-26T00:00:00",
          "2020-04-27T00:00:00",
          "2020-04-27T23:59:59.999999999"
         ],
         "xaxis": "x",
         "y": [
          0.14955399974142047,
          0.13586662996783147,
          0.1316987154702048,
          0.1365788067108258,
          0.12930705918463306,
          0.1194723781453696,
          0.12875059286751186,
          0.13864358396156548,
          0.1420631605008087,
          0.14021367520860537,
          0.13501468843184916,
          0.11291313457392822,
          0.1227356822414059,
          0.11024911926002928,
          0.14800426518587542,
          0.11064222576661333,
          0.10032138133249362,
          0.14176811465704928,
          0.12293475886931926,
          0.10819702478183106,
          0.11496444203327334,
          0.10109084200059336,
          0.14837766508343275,
          0.12696683711023507,
          0.11300854139879302,
          0.11895443943141316,
          0.10472792180633521,
          0.1403705109637385,
          0.10912711325615425,
          0.11278708306484937,
          0.09998076819286124,
          0.09992371639716036,
          0.09873734373066685,
          0.12015595459082044,
          0.09509090466776199,
          0.11676912696967286,
          0.1243240276725116,
          0.14077951476669623,
          0.1296768128904728,
          0.10151250729707922,
          0.08925397647692919,
          0.10387538070214193,
          0.09769397409777451,
          0.11397467642114173,
          0.10474839848501098,
          0.12868993229397555,
          0.12077304254810539,
          0.11914965661904155,
          0.11683368515657132,
          0.13530766317616705,
          0.18272237219213752,
          0.17040276963031276,
          0.13141680160384314,
          0.12650864938978873,
          0.12863303486652367,
          0.13877359647423926,
          0.1401450444887057,
          0.2770632162584378,
          0.2574752590526653,
          0.22904747813291224,
          0.24851694085330892,
          0.26425938393172316,
          0.2320249766674888,
          0.23249200674215853,
          0.22946334235320298,
          0.20279852163372414,
          0.19051761338444193,
          0.19819303564839205,
          0.19436366743918512,
          0.21230735902303735,
          0.1974577457865081,
          0.21693420357165985,
          0.22103995621136927,
          0.127700292041294,
          0.11577487829174331,
          0.11365751780039035,
          0.10304076394583267,
          0.1685812409850481,
          0.1720123999118762,
          0.10055614322899259,
          0.13818953423379746,
          0.0912612788220301,
          0.10505915478347287,
          0.13830781824284297,
          0.12942950540060036,
          0.13900113395259814,
          0.11829563625947544,
          0.15341098324881125,
          0.10333084782790518,
          0.11807767966974879,
          0.11025889737040968,
          0.15402083454002433,
          0.1136004354919871,
          0.10289955541456697,
          0.11429945098807347,
          0.1324594357775205,
          0.11497297156243179,
          0.13659139214420046,
          0.18124517611132476,
          0.22612702757208777,
          0.24451688046997952,
          0.27568855308321605,
          0.24246733474714036,
          0.1910583553747526,
          0.1583358157992645,
          0.14452672088128263,
          0.1377505590199887,
          0.1449530336241158,
          0.13453209719008064,
          0.16315967141683438,
          0.1634310626656399,
          0.14762865988877882,
          0.13487623044424188,
          0.1409820919324534,
          0.18082630121466658,
          0.1815642913871789,
          0.13483015696366804,
          0.1350362790702003,
          0.11722930429298627,
          0.12168869839222435,
          0.11821614818703574,
          0.11035499955108134,
          0.13486682908621783,
          0.12538699164255246,
          0.1425000299947499,
          0.09803650748045671,
          0.09803650748045671
         ],
         "yaxis": "y"
        },
        {
         "customdata": [
          [
           "Estimated <b>MAPE</b>",
           "<b style=\"color:#3b0280;line-height:60px\">Analysis</b>",
           "",
           "2019-12-24",
           "From <b>Dec-24-2019</b> to <b>Dec-24-2019</b>",
           0.1496,
           0.1038
          ],
          [
           "Estimated <b>MAPE</b>",
           "<b style=\"color:#3b0280;line-height:60px\">Analysis</b>",
           "",
           "2019-12-25",
           "From <b>Dec-25-2019</b> to <b>Dec-25-2019</b>",
           0.1359,
           0.0948
          ],
          [
           "Estimated <b>MAPE</b>",
           "<b style=\"color:#3b0280;line-height:60px\">Analysis</b>",
           "",
           "2019-12-26",
           "From <b>Dec-26-2019</b> to <b>Dec-26-2019</b>",
           0.1317,
           0.0948
          ],
          [
           "Estimated <b>MAPE</b>",
           "<b style=\"color:#3b0280;line-height:60px\">Analysis</b>",
           "",
           "2019-12-27",
           "From <b>Dec-27-2019</b> to <b>Dec-27-2019</b>",
           0.1366,
           0.0948
          ],
          [
           "Estimated <b>MAPE</b>",
           "<b style=\"color:#3b0280;line-height:60px\">Analysis</b>",
           "",
           "2019-12-28",
           "From <b>Dec-28-2019</b> to <b>Dec-28-2019</b>",
           0.1293,
           0.0948
          ],
          [
           "Estimated <b>MAPE</b>",
           "<b style=\"color:#3b0280;line-height:60px\">Analysis</b>",
           "",
           "2019-12-29",
           "From <b>Dec-29-2019</b> to <b>Dec-29-2019</b>",
           0.1195,
           0.0948
          ],
          [
           "Estimated <b>MAPE</b>",
           "<b style=\"color:#3b0280;line-height:60px\">Analysis</b>",
           "",
           "2019-12-30",
           "From <b>Dec-30-2019</b> to <b>Dec-30-2019</b>",
           0.1288,
           0.0948
          ],
          [
           "Estimated <b>MAPE</b>",
           "<b style=\"color:#3b0280;line-height:60px\">Analysis</b>",
           "",
           "2019-12-31",
           "From <b>Dec-31-2019</b> to <b>Dec-31-2019</b>",
           0.1386,
           0.0948
          ],
          [
           "Estimated <b>MAPE</b>",
           "<b style=\"color:#3b0280;line-height:60px\">Analysis</b>",
           "",
           "2020-01-01",
           "From <b>Jan-01-2020</b> to <b>Jan-01-2020</b>",
           0.1421,
           0.0948
          ],
          [
           "Estimated <b>MAPE</b>",
           "<b style=\"color:#3b0280;line-height:60px\">Analysis</b>",
           "",
           "2020-01-02",
           "From <b>Jan-02-2020</b> to <b>Jan-02-2020</b>",
           0.1402,
           0.0948
          ],
          [
           "Estimated <b>MAPE</b>",
           "<b style=\"color:#3b0280;line-height:60px\">Analysis</b>",
           "",
           "2020-01-03",
           "From <b>Jan-03-2020</b> to <b>Jan-03-2020</b>",
           0.135,
           0.0948
          ],
          [
           "Estimated <b>MAPE</b>",
           "<b style=\"color:#3b0280;line-height:60px\">Analysis</b>",
           "",
           "2020-01-04",
           "From <b>Jan-04-2020</b> to <b>Jan-04-2020</b>",
           0.1129,
           0.0948
          ],
          [
           "Estimated <b>MAPE</b>",
           "<b style=\"color:#3b0280;line-height:60px\">Analysis</b>",
           "",
           "2020-01-05",
           "From <b>Jan-05-2020</b> to <b>Jan-05-2020</b>",
           0.1227,
           0.0948
          ],
          [
           "Estimated <b>MAPE</b>",
           "<b style=\"color:#3b0280;line-height:60px\">Analysis</b>",
           "",
           "2020-01-06",
           "From <b>Jan-06-2020</b> to <b>Jan-06-2020</b>",
           0.1102,
           0.0948
          ],
          [
           "Estimated <b>MAPE</b>",
           "<b style=\"color:#3b0280;line-height:60px\">Analysis</b>",
           "",
           "2020-01-07",
           "From <b>Jan-07-2020</b> to <b>Jan-07-2020</b>",
           0.148,
           0.0948
          ],
          [
           "Estimated <b>MAPE</b>",
           "<b style=\"color:#3b0280;line-height:60px\">Analysis</b>",
           "",
           "2020-01-08",
           "From <b>Jan-08-2020</b> to <b>Jan-08-2020</b>",
           0.1106,
           0.0948
          ],
          [
           "Estimated <b>MAPE</b>",
           "<b style=\"color:#3b0280;line-height:60px\">Analysis</b>",
           "",
           "2020-01-09",
           "From <b>Jan-09-2020</b> to <b>Jan-09-2020</b>",
           0.1003,
           0.0948
          ],
          [
           "Estimated <b>MAPE</b>",
           "<b style=\"color:#3b0280;line-height:60px\">Analysis</b>",
           "",
           "2020-01-10",
           "From <b>Jan-10-2020</b> to <b>Jan-10-2020</b>",
           0.1418,
           0.0948
          ],
          [
           "Estimated <b>MAPE</b>",
           "<b style=\"color:#3b0280;line-height:60px\">Analysis</b>",
           "",
           "2020-01-11",
           "From <b>Jan-11-2020</b> to <b>Jan-11-2020</b>",
           0.1229,
           0.0948
          ],
          [
           "Estimated <b>MAPE</b>",
           "<b style=\"color:#3b0280;line-height:60px\">Analysis</b>",
           "",
           "2020-01-12",
           "From <b>Jan-12-2020</b> to <b>Jan-12-2020</b>",
           0.1082,
           0.0948
          ],
          [
           "Estimated <b>MAPE</b>",
           "<b style=\"color:#3b0280;line-height:60px\">Analysis</b>",
           "",
           "2020-01-13",
           "From <b>Jan-13-2020</b> to <b>Jan-13-2020</b>",
           0.115,
           0.0948
          ],
          [
           "Estimated <b>MAPE</b>",
           "<b style=\"color:#3b0280;line-height:60px\">Analysis</b>",
           "",
           "2020-01-14",
           "From <b>Jan-14-2020</b> to <b>Jan-14-2020</b>",
           0.1011,
           0.0948
          ],
          [
           "Estimated <b>MAPE</b>",
           "<b style=\"color:#3b0280;line-height:60px\">Analysis</b>",
           "",
           "2020-01-15",
           "From <b>Jan-15-2020</b> to <b>Jan-15-2020</b>",
           0.1484,
           0.0948
          ],
          [
           "Estimated <b>MAPE</b>",
           "<b style=\"color:#3b0280;line-height:60px\">Analysis</b>",
           "",
           "2020-01-16",
           "From <b>Jan-16-2020</b> to <b>Jan-16-2020</b>",
           0.127,
           0.0948
          ],
          [
           "Estimated <b>MAPE</b>",
           "<b style=\"color:#3b0280;line-height:60px\">Analysis</b>",
           "",
           "2020-01-17",
           "From <b>Jan-17-2020</b> to <b>Jan-17-2020</b>",
           0.113,
           0.0948
          ],
          [
           "Estimated <b>MAPE</b>",
           "<b style=\"color:#3b0280;line-height:60px\">Analysis</b>",
           "",
           "2020-01-18",
           "From <b>Jan-18-2020</b> to <b>Jan-18-2020</b>",
           0.119,
           0.0948
          ],
          [
           "Estimated <b>MAPE</b>",
           "<b style=\"color:#3b0280;line-height:60px\">Analysis</b>",
           "",
           "2020-01-19",
           "From <b>Jan-19-2020</b> to <b>Jan-19-2020</b>",
           0.1047,
           0.0948
          ],
          [
           "Estimated <b>MAPE</b>",
           "<b style=\"color:#3b0280;line-height:60px\">Analysis</b>",
           "",
           "2020-01-20",
           "From <b>Jan-20-2020</b> to <b>Jan-20-2020</b>",
           0.1404,
           0.0948
          ],
          [
           "Estimated <b>MAPE</b>",
           "<b style=\"color:#3b0280;line-height:60px\">Analysis</b>",
           "",
           "2020-01-21",
           "From <b>Jan-21-2020</b> to <b>Jan-21-2020</b>",
           0.1091,
           0.0948
          ],
          [
           "Estimated <b>MAPE</b>",
           "<b style=\"color:#3b0280;line-height:60px\">Analysis</b>",
           "",
           "2020-01-22",
           "From <b>Jan-22-2020</b> to <b>Jan-22-2020</b>",
           0.1128,
           0.0948
          ],
          [
           "Estimated <b>MAPE</b>",
           "<b style=\"color:#3b0280;line-height:60px\">Analysis</b>",
           "",
           "2020-01-23",
           "From <b>Jan-23-2020</b> to <b>Jan-23-2020</b>",
           0.1,
           0.0948
          ],
          [
           "Estimated <b>MAPE</b>",
           "<b style=\"color:#3b0280;line-height:60px\">Analysis</b>",
           "",
           "2020-01-24",
           "From <b>Jan-24-2020</b> to <b>Jan-24-2020</b>",
           0.0999,
           0.0948
          ],
          [
           "Estimated <b>MAPE</b>",
           "<b style=\"color:#3b0280;line-height:60px\">Analysis</b>",
           "",
           "2020-01-25",
           "From <b>Jan-25-2020</b> to <b>Jan-25-2020</b>",
           0.0987,
           0.0948
          ],
          [
           "Estimated <b>MAPE</b>",
           "<b style=\"color:#3b0280;line-height:60px\">Analysis</b>",
           "",
           "2020-01-26",
           "From <b>Jan-26-2020</b> to <b>Jan-26-2020</b>",
           0.1202,
           0.0948
          ],
          [
           "Estimated <b>MAPE</b>",
           "<b style=\"color:#3b0280;line-height:60px\">Analysis</b>",
           "",
           "2020-01-27",
           "From <b>Jan-27-2020</b> to <b>Jan-27-2020</b>",
           0.0951,
           0.0948
          ],
          [
           "Estimated <b>MAPE</b>",
           "<b style=\"color:#3b0280;line-height:60px\">Analysis</b>",
           "",
           "2020-01-28",
           "From <b>Jan-28-2020</b> to <b>Jan-28-2020</b>",
           0.1168,
           0.0948
          ],
          [
           "Estimated <b>MAPE</b>",
           "<b style=\"color:#3b0280;line-height:60px\">Analysis</b>",
           "",
           "2020-01-29",
           "From <b>Jan-29-2020</b> to <b>Jan-29-2020</b>",
           0.1243,
           0.0948
          ],
          [
           "Estimated <b>MAPE</b>",
           "<b style=\"color:#3b0280;line-height:60px\">Analysis</b>",
           "",
           "2020-01-30",
           "From <b>Jan-30-2020</b> to <b>Jan-30-2020</b>",
           0.1408,
           0.0948
          ],
          [
           "Estimated <b>MAPE</b>",
           "<b style=\"color:#3b0280;line-height:60px\">Analysis</b>",
           "",
           "2020-01-31",
           "From <b>Jan-31-2020</b> to <b>Jan-31-2020</b>",
           0.1297,
           0.0948
          ],
          [
           "Estimated <b>MAPE</b>",
           "<b style=\"color:#3b0280;line-height:60px\">Analysis</b>",
           "",
           "2020-02-01",
           "From <b>Feb-01-2020</b> to <b>Feb-01-2020</b>",
           0.1015,
           0.0948
          ],
          [
           "Estimated <b>MAPE</b>",
           "<b style=\"color:#3b0280;line-height:60px\">Analysis</b>",
           "",
           "2020-02-02",
           "From <b>Feb-02-2020</b> to <b>Feb-02-2020</b>",
           0.0893,
           0.0948
          ],
          [
           "Estimated <b>MAPE</b>",
           "<b style=\"color:#3b0280;line-height:60px\">Analysis</b>",
           "",
           "2020-02-03",
           "From <b>Feb-03-2020</b> to <b>Feb-03-2020</b>",
           0.1039,
           0.0948
          ],
          [
           "Estimated <b>MAPE</b>",
           "<b style=\"color:#3b0280;line-height:60px\">Analysis</b>",
           "",
           "2020-02-04",
           "From <b>Feb-04-2020</b> to <b>Feb-04-2020</b>",
           0.0977,
           0.0948
          ],
          [
           "Estimated <b>MAPE</b>",
           "<b style=\"color:#3b0280;line-height:60px\">Analysis</b>",
           "",
           "2020-02-05",
           "From <b>Feb-05-2020</b> to <b>Feb-05-2020</b>",
           0.114,
           0.0948
          ],
          [
           "Estimated <b>MAPE</b>",
           "<b style=\"color:#3b0280;line-height:60px\">Analysis</b>",
           "",
           "2020-02-06",
           "From <b>Feb-06-2020</b> to <b>Feb-06-2020</b>",
           0.1047,
           0.0948
          ],
          [
           "Estimated <b>MAPE</b>",
           "<b style=\"color:#3b0280;line-height:60px\">Analysis</b>",
           "",
           "2020-02-07",
           "From <b>Feb-07-2020</b> to <b>Feb-07-2020</b>",
           0.1287,
           0.0948
          ],
          [
           "Estimated <b>MAPE</b>",
           "<b style=\"color:#3b0280;line-height:60px\">Analysis</b>",
           "",
           "2020-02-08",
           "From <b>Feb-08-2020</b> to <b>Feb-08-2020</b>",
           0.1208,
           0.0948
          ],
          [
           "Estimated <b>MAPE</b>",
           "<b style=\"color:#3b0280;line-height:60px\">Analysis</b>",
           "",
           "2020-02-09",
           "From <b>Feb-09-2020</b> to <b>Feb-09-2020</b>",
           0.1191,
           0.0948
          ],
          [
           "Estimated <b>MAPE</b>",
           "<b style=\"color:#3b0280;line-height:60px\">Analysis</b>",
           "",
           "2020-02-10",
           "From <b>Feb-10-2020</b> to <b>Feb-10-2020</b>",
           0.1168,
           0.0948
          ],
          [
           "Estimated <b>MAPE</b>",
           "<b style=\"color:#3b0280;line-height:60px\">Analysis</b>",
           "",
           "2020-02-11",
           "From <b>Feb-11-2020</b> to <b>Feb-11-2020</b>",
           0.1353,
           0.0948
          ],
          [
           "Estimated <b>MAPE</b>",
           "<b style=\"color:#3b0280;line-height:60px\">Analysis</b>",
           "",
           "2020-02-12",
           "From <b>Feb-12-2020</b> to <b>Feb-12-2020</b>",
           0.1827,
           0.0948
          ],
          [
           "Estimated <b>MAPE</b>",
           "<b style=\"color:#3b0280;line-height:60px\">Analysis</b>",
           "",
           "2020-02-13",
           "From <b>Feb-13-2020</b> to <b>Feb-13-2020</b>",
           0.1704,
           0.0948
          ],
          [
           "Estimated <b>MAPE</b>",
           "<b style=\"color:#3b0280;line-height:60px\">Analysis</b>",
           "",
           "2020-02-14",
           "From <b>Feb-14-2020</b> to <b>Feb-14-2020</b>",
           0.1314,
           0.0948
          ],
          [
           "Estimated <b>MAPE</b>",
           "<b style=\"color:#3b0280;line-height:60px\">Analysis</b>",
           "",
           "2020-02-15",
           "From <b>Feb-15-2020</b> to <b>Feb-15-2020</b>",
           0.1265,
           0.0948
          ],
          [
           "Estimated <b>MAPE</b>",
           "<b style=\"color:#3b0280;line-height:60px\">Analysis</b>",
           "",
           "2020-02-16",
           "From <b>Feb-16-2020</b> to <b>Feb-16-2020</b>",
           0.1286,
           0.0948
          ],
          [
           "Estimated <b>MAPE</b>",
           "<b style=\"color:#3b0280;line-height:60px\">Analysis</b>",
           "",
           "2020-02-17",
           "From <b>Feb-17-2020</b> to <b>Feb-17-2020</b>",
           0.1388,
           0.0948
          ],
          [
           "Estimated <b>MAPE</b>",
           "<b style=\"color:#3b0280;line-height:60px\">Analysis</b>",
           "",
           "2020-02-18",
           "From <b>Feb-18-2020</b> to <b>Feb-18-2020</b>",
           0.1401,
           0.0948
          ],
          [
           "Estimated <b>MAPE</b>",
           "<b style=\"color:#3b0280;line-height:60px\">Analysis</b>",
           "<span style=\"color:#AD0000\">⚠ <b>Drift detected</b></span>",
           "2020-02-19",
           "From <b>Feb-19-2020</b> to <b>Feb-19-2020</b>",
           0.2771,
           0.0948
          ],
          [
           "Estimated <b>MAPE</b>",
           "<b style=\"color:#3b0280;line-height:60px\">Analysis</b>",
           "<span style=\"color:#AD0000\">⚠ <b>Drift detected</b></span>",
           "2020-02-20",
           "From <b>Feb-20-2020</b> to <b>Feb-20-2020</b>",
           0.2575,
           0.0948
          ],
          [
           "Estimated <b>MAPE</b>",
           "<b style=\"color:#3b0280;line-height:60px\">Analysis</b>",
           "",
           "2020-02-21",
           "From <b>Feb-21-2020</b> to <b>Feb-21-2020</b>",
           0.229,
           0.0948
          ],
          [
           "Estimated <b>MAPE</b>",
           "<b style=\"color:#3b0280;line-height:60px\">Analysis</b>",
           "<span style=\"color:#AD0000\">⚠ <b>Drift detected</b></span>",
           "2020-02-22",
           "From <b>Feb-22-2020</b> to <b>Feb-22-2020</b>",
           0.2485,
           0.0948
          ],
          [
           "Estimated <b>MAPE</b>",
           "<b style=\"color:#3b0280;line-height:60px\">Analysis</b>",
           "<span style=\"color:#AD0000\">⚠ <b>Drift detected</b></span>",
           "2020-02-23",
           "From <b>Feb-23-2020</b> to <b>Feb-23-2020</b>",
           0.2643,
           0.0948
          ],
          [
           "Estimated <b>MAPE</b>",
           "<b style=\"color:#3b0280;line-height:60px\">Analysis</b>",
           "<span style=\"color:#AD0000\">⚠ <b>Drift detected</b></span>",
           "2020-02-24",
           "From <b>Feb-24-2020</b> to <b>Feb-24-2020</b>",
           0.232,
           0.0948
          ],
          [
           "Estimated <b>MAPE</b>",
           "<b style=\"color:#3b0280;line-height:60px\">Analysis</b>",
           "<span style=\"color:#AD0000\">⚠ <b>Drift detected</b></span>",
           "2020-02-25",
           "From <b>Feb-25-2020</b> to <b>Feb-25-2020</b>",
           0.2325,
           0.0948
          ],
          [
           "Estimated <b>MAPE</b>",
           "<b style=\"color:#3b0280;line-height:60px\">Analysis</b>",
           "",
           "2020-02-26",
           "From <b>Feb-26-2020</b> to <b>Feb-26-2020</b>",
           0.2295,
           0.0948
          ],
          [
           "Estimated <b>MAPE</b>",
           "<b style=\"color:#3b0280;line-height:60px\">Analysis</b>",
           "",
           "2020-02-27",
           "From <b>Feb-27-2020</b> to <b>Feb-27-2020</b>",
           0.2028,
           0.0948
          ],
          [
           "Estimated <b>MAPE</b>",
           "<b style=\"color:#3b0280;line-height:60px\">Analysis</b>",
           "",
           "2020-02-28",
           "From <b>Feb-28-2020</b> to <b>Feb-28-2020</b>",
           0.1905,
           0.0948
          ],
          [
           "Estimated <b>MAPE</b>",
           "<b style=\"color:#3b0280;line-height:60px\">Analysis</b>",
           "",
           "2020-02-29",
           "From <b>Feb-29-2020</b> to <b>Feb-29-2020</b>",
           0.1982,
           0.0948
          ],
          [
           "Estimated <b>MAPE</b>",
           "<b style=\"color:#3b0280;line-height:60px\">Analysis</b>",
           "",
           "2020-03-01",
           "From <b>Mar-01-2020</b> to <b>Mar-01-2020</b>",
           0.1944,
           0.0948
          ],
          [
           "Estimated <b>MAPE</b>",
           "<b style=\"color:#3b0280;line-height:60px\">Analysis</b>",
           "",
           "2020-03-02",
           "From <b>Mar-02-2020</b> to <b>Mar-02-2020</b>",
           0.2123,
           0.0948
          ],
          [
           "Estimated <b>MAPE</b>",
           "<b style=\"color:#3b0280;line-height:60px\">Analysis</b>",
           "",
           "2020-03-03",
           "From <b>Mar-03-2020</b> to <b>Mar-03-2020</b>",
           0.1975,
           0.0948
          ],
          [
           "Estimated <b>MAPE</b>",
           "<b style=\"color:#3b0280;line-height:60px\">Analysis</b>",
           "",
           "2020-03-04",
           "From <b>Mar-04-2020</b> to <b>Mar-04-2020</b>",
           0.2169,
           0.0948
          ],
          [
           "Estimated <b>MAPE</b>",
           "<b style=\"color:#3b0280;line-height:60px\">Analysis</b>",
           "",
           "2020-03-05",
           "From <b>Mar-05-2020</b> to <b>Mar-05-2020</b>",
           0.221,
           0.0948
          ],
          [
           "Estimated <b>MAPE</b>",
           "<b style=\"color:#3b0280;line-height:60px\">Analysis</b>",
           "",
           "2020-03-06",
           "From <b>Mar-06-2020</b> to <b>Mar-06-2020</b>",
           0.1277,
           0.0948
          ],
          [
           "Estimated <b>MAPE</b>",
           "<b style=\"color:#3b0280;line-height:60px\">Analysis</b>",
           "",
           "2020-03-07",
           "From <b>Mar-07-2020</b> to <b>Mar-07-2020</b>",
           0.1158,
           0.0948
          ],
          [
           "Estimated <b>MAPE</b>",
           "<b style=\"color:#3b0280;line-height:60px\">Analysis</b>",
           "",
           "2020-03-08",
           "From <b>Mar-08-2020</b> to <b>Mar-08-2020</b>",
           0.1137,
           0.0948
          ],
          [
           "Estimated <b>MAPE</b>",
           "<b style=\"color:#3b0280;line-height:60px\">Analysis</b>",
           "",
           "2020-03-09",
           "From <b>Mar-09-2020</b> to <b>Mar-09-2020</b>",
           0.103,
           0.0948
          ],
          [
           "Estimated <b>MAPE</b>",
           "<b style=\"color:#3b0280;line-height:60px\">Analysis</b>",
           "",
           "2020-03-10",
           "From <b>Mar-10-2020</b> to <b>Mar-10-2020</b>",
           0.1686,
           0.0948
          ],
          [
           "Estimated <b>MAPE</b>",
           "<b style=\"color:#3b0280;line-height:60px\">Analysis</b>",
           "",
           "2020-03-11",
           "From <b>Mar-11-2020</b> to <b>Mar-11-2020</b>",
           0.172,
           0.0948
          ],
          [
           "Estimated <b>MAPE</b>",
           "<b style=\"color:#3b0280;line-height:60px\">Analysis</b>",
           "",
           "2020-03-12",
           "From <b>Mar-12-2020</b> to <b>Mar-12-2020</b>",
           0.1006,
           0.0948
          ],
          [
           "Estimated <b>MAPE</b>",
           "<b style=\"color:#3b0280;line-height:60px\">Analysis</b>",
           "",
           "2020-03-13",
           "From <b>Mar-13-2020</b> to <b>Mar-13-2020</b>",
           0.1382,
           0.0948
          ],
          [
           "Estimated <b>MAPE</b>",
           "<b style=\"color:#3b0280;line-height:60px\">Analysis</b>",
           "",
           "2020-03-14",
           "From <b>Mar-14-2020</b> to <b>Mar-14-2020</b>",
           0.0913,
           0.0948
          ],
          [
           "Estimated <b>MAPE</b>",
           "<b style=\"color:#3b0280;line-height:60px\">Analysis</b>",
           "",
           "2020-03-15",
           "From <b>Mar-15-2020</b> to <b>Mar-15-2020</b>",
           0.1051,
           0.0948
          ],
          [
           "Estimated <b>MAPE</b>",
           "<b style=\"color:#3b0280;line-height:60px\">Analysis</b>",
           "",
           "2020-03-16",
           "From <b>Mar-16-2020</b> to <b>Mar-16-2020</b>",
           0.1383,
           0.0948
          ],
          [
           "Estimated <b>MAPE</b>",
           "<b style=\"color:#3b0280;line-height:60px\">Analysis</b>",
           "",
           "2020-03-17",
           "From <b>Mar-17-2020</b> to <b>Mar-17-2020</b>",
           0.1294,
           0.0948
          ],
          [
           "Estimated <b>MAPE</b>",
           "<b style=\"color:#3b0280;line-height:60px\">Analysis</b>",
           "",
           "2020-03-18",
           "From <b>Mar-18-2020</b> to <b>Mar-18-2020</b>",
           0.139,
           0.0948
          ],
          [
           "Estimated <b>MAPE</b>",
           "<b style=\"color:#3b0280;line-height:60px\">Analysis</b>",
           "",
           "2020-03-19",
           "From <b>Mar-19-2020</b> to <b>Mar-19-2020</b>",
           0.1183,
           0.0948
          ],
          [
           "Estimated <b>MAPE</b>",
           "<b style=\"color:#3b0280;line-height:60px\">Analysis</b>",
           "",
           "2020-03-20",
           "From <b>Mar-20-2020</b> to <b>Mar-20-2020</b>",
           0.1534,
           0.0948
          ],
          [
           "Estimated <b>MAPE</b>",
           "<b style=\"color:#3b0280;line-height:60px\">Analysis</b>",
           "",
           "2020-03-21",
           "From <b>Mar-21-2020</b> to <b>Mar-21-2020</b>",
           0.1033,
           0.0948
          ],
          [
           "Estimated <b>MAPE</b>",
           "<b style=\"color:#3b0280;line-height:60px\">Analysis</b>",
           "",
           "2020-03-22",
           "From <b>Mar-22-2020</b> to <b>Mar-22-2020</b>",
           0.1181,
           0.0948
          ],
          [
           "Estimated <b>MAPE</b>",
           "<b style=\"color:#3b0280;line-height:60px\">Analysis</b>",
           "",
           "2020-03-23",
           "From <b>Mar-23-2020</b> to <b>Mar-23-2020</b>",
           0.1103,
           0.0948
          ],
          [
           "Estimated <b>MAPE</b>",
           "<b style=\"color:#3b0280;line-height:60px\">Analysis</b>",
           "",
           "2020-03-24",
           "From <b>Mar-24-2020</b> to <b>Mar-24-2020</b>",
           0.154,
           0.0948
          ],
          [
           "Estimated <b>MAPE</b>",
           "<b style=\"color:#3b0280;line-height:60px\">Analysis</b>",
           "",
           "2020-03-25",
           "From <b>Mar-25-2020</b> to <b>Mar-25-2020</b>",
           0.1136,
           0.0948
          ],
          [
           "Estimated <b>MAPE</b>",
           "<b style=\"color:#3b0280;line-height:60px\">Analysis</b>",
           "",
           "2020-03-26",
           "From <b>Mar-26-2020</b> to <b>Mar-26-2020</b>",
           0.1029,
           0.0948
          ],
          [
           "Estimated <b>MAPE</b>",
           "<b style=\"color:#3b0280;line-height:60px\">Analysis</b>",
           "",
           "2020-03-27",
           "From <b>Mar-27-2020</b> to <b>Mar-27-2020</b>",
           0.1143,
           0.0948
          ],
          [
           "Estimated <b>MAPE</b>",
           "<b style=\"color:#3b0280;line-height:60px\">Analysis</b>",
           "",
           "2020-03-28",
           "From <b>Mar-28-2020</b> to <b>Mar-28-2020</b>",
           0.1325,
           0.0948
          ],
          [
           "Estimated <b>MAPE</b>",
           "<b style=\"color:#3b0280;line-height:60px\">Analysis</b>",
           "",
           "2020-03-29",
           "From <b>Mar-29-2020</b> to <b>Mar-29-2020</b>",
           0.115,
           0.0948
          ],
          [
           "Estimated <b>MAPE</b>",
           "<b style=\"color:#3b0280;line-height:60px\">Analysis</b>",
           "",
           "2020-03-30",
           "From <b>Mar-30-2020</b> to <b>Mar-30-2020</b>",
           0.1366,
           0.0948
          ],
          [
           "Estimated <b>MAPE</b>",
           "<b style=\"color:#3b0280;line-height:60px\">Analysis</b>",
           "",
           "2020-03-31",
           "From <b>Mar-31-2020</b> to <b>Mar-31-2020</b>",
           0.1812,
           0.0948
          ],
          [
           "Estimated <b>MAPE</b>",
           "<b style=\"color:#3b0280;line-height:60px\">Analysis</b>",
           "",
           "2020-04-01",
           "From <b>Apr-01-2020</b> to <b>Apr-01-2020</b>",
           0.2261,
           0.0948
          ],
          [
           "Estimated <b>MAPE</b>",
           "<b style=\"color:#3b0280;line-height:60px\">Analysis</b>",
           "<span style=\"color:#AD0000\">⚠ <b>Drift detected</b></span>",
           "2020-04-02",
           "From <b>Apr-02-2020</b> to <b>Apr-02-2020</b>",
           0.2445,
           0.0948
          ],
          [
           "Estimated <b>MAPE</b>",
           "<b style=\"color:#3b0280;line-height:60px\">Analysis</b>",
           "<span style=\"color:#AD0000\">⚠ <b>Drift detected</b></span>",
           "2020-04-03",
           "From <b>Apr-03-2020</b> to <b>Apr-03-2020</b>",
           0.2757,
           0.0948
          ],
          [
           "Estimated <b>MAPE</b>",
           "<b style=\"color:#3b0280;line-height:60px\">Analysis</b>",
           "<span style=\"color:#AD0000\">⚠ <b>Drift detected</b></span>",
           "2020-04-04",
           "From <b>Apr-04-2020</b> to <b>Apr-04-2020</b>",
           0.2425,
           0.0948
          ],
          [
           "Estimated <b>MAPE</b>",
           "<b style=\"color:#3b0280;line-height:60px\">Analysis</b>",
           "",
           "2020-04-05",
           "From <b>Apr-05-2020</b> to <b>Apr-05-2020</b>",
           0.1911,
           0.0948
          ],
          [
           "Estimated <b>MAPE</b>",
           "<b style=\"color:#3b0280;line-height:60px\">Analysis</b>",
           "",
           "2020-04-06",
           "From <b>Apr-06-2020</b> to <b>Apr-06-2020</b>",
           0.1583,
           0.0948
          ],
          [
           "Estimated <b>MAPE</b>",
           "<b style=\"color:#3b0280;line-height:60px\">Analysis</b>",
           "",
           "2020-04-07",
           "From <b>Apr-07-2020</b> to <b>Apr-07-2020</b>",
           0.1445,
           0.0948
          ],
          [
           "Estimated <b>MAPE</b>",
           "<b style=\"color:#3b0280;line-height:60px\">Analysis</b>",
           "",
           "2020-04-08",
           "From <b>Apr-08-2020</b> to <b>Apr-08-2020</b>",
           0.1378,
           0.0948
          ],
          [
           "Estimated <b>MAPE</b>",
           "<b style=\"color:#3b0280;line-height:60px\">Analysis</b>",
           "",
           "2020-04-09",
           "From <b>Apr-09-2020</b> to <b>Apr-09-2020</b>",
           0.145,
           0.0948
          ],
          [
           "Estimated <b>MAPE</b>",
           "<b style=\"color:#3b0280;line-height:60px\">Analysis</b>",
           "",
           "2020-04-10",
           "From <b>Apr-10-2020</b> to <b>Apr-10-2020</b>",
           0.1345,
           0.0948
          ],
          [
           "Estimated <b>MAPE</b>",
           "<b style=\"color:#3b0280;line-height:60px\">Analysis</b>",
           "",
           "2020-04-11",
           "From <b>Apr-11-2020</b> to <b>Apr-11-2020</b>",
           0.1632,
           0.0948
          ],
          [
           "Estimated <b>MAPE</b>",
           "<b style=\"color:#3b0280;line-height:60px\">Analysis</b>",
           "",
           "2020-04-12",
           "From <b>Apr-12-2020</b> to <b>Apr-12-2020</b>",
           0.1634,
           0.0948
          ],
          [
           "Estimated <b>MAPE</b>",
           "<b style=\"color:#3b0280;line-height:60px\">Analysis</b>",
           "",
           "2020-04-13",
           "From <b>Apr-13-2020</b> to <b>Apr-13-2020</b>",
           0.1476,
           0.0948
          ],
          [
           "Estimated <b>MAPE</b>",
           "<b style=\"color:#3b0280;line-height:60px\">Analysis</b>",
           "",
           "2020-04-14",
           "From <b>Apr-14-2020</b> to <b>Apr-14-2020</b>",
           0.1349,
           0.0948
          ],
          [
           "Estimated <b>MAPE</b>",
           "<b style=\"color:#3b0280;line-height:60px\">Analysis</b>",
           "",
           "2020-04-15",
           "From <b>Apr-15-2020</b> to <b>Apr-15-2020</b>",
           0.141,
           0.0948
          ],
          [
           "Estimated <b>MAPE</b>",
           "<b style=\"color:#3b0280;line-height:60px\">Analysis</b>",
           "",
           "2020-04-16",
           "From <b>Apr-16-2020</b> to <b>Apr-16-2020</b>",
           0.1808,
           0.0948
          ],
          [
           "Estimated <b>MAPE</b>",
           "<b style=\"color:#3b0280;line-height:60px\">Analysis</b>",
           "",
           "2020-04-17",
           "From <b>Apr-17-2020</b> to <b>Apr-17-2020</b>",
           0.1816,
           0.0948
          ],
          [
           "Estimated <b>MAPE</b>",
           "<b style=\"color:#3b0280;line-height:60px\">Analysis</b>",
           "",
           "2020-04-18",
           "From <b>Apr-18-2020</b> to <b>Apr-18-2020</b>",
           0.1348,
           0.0948
          ],
          [
           "Estimated <b>MAPE</b>",
           "<b style=\"color:#3b0280;line-height:60px\">Analysis</b>",
           "",
           "2020-04-19",
           "From <b>Apr-19-2020</b> to <b>Apr-19-2020</b>",
           0.135,
           0.0948
          ],
          [
           "Estimated <b>MAPE</b>",
           "<b style=\"color:#3b0280;line-height:60px\">Analysis</b>",
           "",
           "2020-04-20",
           "From <b>Apr-20-2020</b> to <b>Apr-20-2020</b>",
           0.1172,
           0.0948
          ],
          [
           "Estimated <b>MAPE</b>",
           "<b style=\"color:#3b0280;line-height:60px\">Analysis</b>",
           "",
           "2020-04-21",
           "From <b>Apr-21-2020</b> to <b>Apr-21-2020</b>",
           0.1217,
           0.0948
          ],
          [
           "Estimated <b>MAPE</b>",
           "<b style=\"color:#3b0280;line-height:60px\">Analysis</b>",
           "",
           "2020-04-22",
           "From <b>Apr-22-2020</b> to <b>Apr-22-2020</b>",
           0.1182,
           0.0948
          ],
          [
           "Estimated <b>MAPE</b>",
           "<b style=\"color:#3b0280;line-height:60px\">Analysis</b>",
           "",
           "2020-04-23",
           "From <b>Apr-23-2020</b> to <b>Apr-23-2020</b>",
           0.1104,
           0.0948
          ],
          [
           "Estimated <b>MAPE</b>",
           "<b style=\"color:#3b0280;line-height:60px\">Analysis</b>",
           "",
           "2020-04-24",
           "From <b>Apr-24-2020</b> to <b>Apr-24-2020</b>",
           0.1349,
           0.0948
          ],
          [
           "Estimated <b>MAPE</b>",
           "<b style=\"color:#3b0280;line-height:60px\">Analysis</b>",
           "",
           "2020-04-25",
           "From <b>Apr-25-2020</b> to <b>Apr-25-2020</b>",
           0.1254,
           0.0948
          ],
          [
           "Estimated <b>MAPE</b>",
           "<b style=\"color:#3b0280;line-height:60px\">Analysis</b>",
           "",
           "2020-04-26",
           "From <b>Apr-26-2020</b> to <b>Apr-26-2020</b>",
           0.1425,
           0.0948
          ],
          [
           "Estimated <b>MAPE</b>",
           "<b style=\"color:#3b0280;line-height:60px\">Analysis</b>",
           "",
           "2020-04-27",
           "From <b>Apr-27-2020</b> to <b>Apr-27-2020</b>",
           0.098,
           0.2321
          ]
         ],
         "hovertemplate": "%{customdata[1]} &nbsp; &nbsp; %{customdata[2]} <br />Chunk: <b>%{customdata[3]}</b> &nbsp; &nbsp; %{customdata[4]} <br />%{customdata[0]}: <b>%{customdata[5]}</b><br />Confidence band: +/- <b>%{customdata[6]}</b><br /><extra></extra>",
         "legendgroup": "metric_analysis",
         "line": {
          "dash": "dash"
         },
         "marker": {
          "color": "#3b0280",
          "size": 5,
          "symbol": "circle"
         },
         "mode": "markers",
         "name": "Metric",
         "showlegend": false,
         "type": "scatter",
         "x": [
          "2019-12-24T12:00:00",
          "2019-12-25T12:00:00",
          "2019-12-26T12:00:00",
          "2019-12-27T12:00:00",
          "2019-12-28T12:00:00",
          "2019-12-29T12:00:00",
          "2019-12-30T12:00:00",
          "2019-12-31T12:00:00",
          "2020-01-01T12:00:00",
          "2020-01-02T12:00:00",
          "2020-01-03T12:00:00",
          "2020-01-04T12:00:00",
          "2020-01-05T12:00:00",
          "2020-01-06T12:00:00",
          "2020-01-07T12:00:00",
          "2020-01-08T12:00:00",
          "2020-01-09T12:00:00",
          "2020-01-10T12:00:00",
          "2020-01-11T12:00:00",
          "2020-01-12T12:00:00",
          "2020-01-13T12:00:00",
          "2020-01-14T12:00:00",
          "2020-01-15T12:00:00",
          "2020-01-16T12:00:00",
          "2020-01-17T12:00:00",
          "2020-01-18T12:00:00",
          "2020-01-19T12:00:00",
          "2020-01-20T12:00:00",
          "2020-01-21T12:00:00",
          "2020-01-22T12:00:00",
          "2020-01-23T12:00:00",
          "2020-01-24T12:00:00",
          "2020-01-25T12:00:00",
          "2020-01-26T12:00:00",
          "2020-01-27T12:00:00",
          "2020-01-28T12:00:00",
          "2020-01-29T12:00:00",
          "2020-01-30T12:00:00",
          "2020-01-31T12:00:00",
          "2020-02-01T12:00:00",
          "2020-02-02T12:00:00",
          "2020-02-03T12:00:00",
          "2020-02-04T12:00:00",
          "2020-02-05T12:00:00",
          "2020-02-06T12:00:00",
          "2020-02-07T12:00:00",
          "2020-02-08T12:00:00",
          "2020-02-09T12:00:00",
          "2020-02-10T12:00:00",
          "2020-02-11T12:00:00",
          "2020-02-12T12:00:00",
          "2020-02-13T12:00:00",
          "2020-02-14T12:00:00",
          "2020-02-15T12:00:00",
          "2020-02-16T12:00:00",
          "2020-02-17T12:00:00",
          "2020-02-18T12:00:00",
          "2020-02-19T12:00:00",
          "2020-02-20T12:00:00",
          "2020-02-21T12:00:00",
          "2020-02-22T12:00:00",
          "2020-02-23T12:00:00",
          "2020-02-24T12:00:00",
          "2020-02-25T12:00:00",
          "2020-02-26T12:00:00",
          "2020-02-27T12:00:00",
          "2020-02-28T12:00:00",
          "2020-02-29T12:00:00",
          "2020-03-01T12:00:00",
          "2020-03-02T12:00:00",
          "2020-03-03T12:00:00",
          "2020-03-04T12:00:00",
          "2020-03-05T12:00:00",
          "2020-03-06T12:00:00",
          "2020-03-07T12:00:00",
          "2020-03-08T12:00:00",
          "2020-03-09T12:00:00",
          "2020-03-10T12:00:00",
          "2020-03-11T12:00:00",
          "2020-03-12T12:00:00",
          "2020-03-13T12:00:00",
          "2020-03-14T12:00:00",
          "2020-03-15T12:00:00",
          "2020-03-16T12:00:00",
          "2020-03-17T12:00:00",
          "2020-03-18T12:00:00",
          "2020-03-19T12:00:00",
          "2020-03-20T12:00:00",
          "2020-03-21T12:00:00",
          "2020-03-22T12:00:00",
          "2020-03-23T12:00:00",
          "2020-03-24T12:00:00",
          "2020-03-25T12:00:00",
          "2020-03-26T12:00:00",
          "2020-03-27T12:00:00",
          "2020-03-28T12:00:00",
          "2020-03-29T12:00:00",
          "2020-03-30T12:00:00",
          "2020-03-31T12:00:00",
          "2020-04-01T12:00:00",
          "2020-04-02T12:00:00",
          "2020-04-03T12:00:00",
          "2020-04-04T12:00:00",
          "2020-04-05T12:00:00",
          "2020-04-06T12:00:00",
          "2020-04-07T12:00:00",
          "2020-04-08T12:00:00",
          "2020-04-09T12:00:00",
          "2020-04-10T12:00:00",
          "2020-04-11T12:00:00",
          "2020-04-12T12:00:00",
          "2020-04-13T12:00:00",
          "2020-04-14T12:00:00",
          "2020-04-15T12:00:00",
          "2020-04-16T12:00:00",
          "2020-04-17T12:00:00",
          "2020-04-18T12:00:00",
          "2020-04-19T12:00:00",
          "2020-04-20T12:00:00",
          "2020-04-21T12:00:00",
          "2020-04-22T12:00:00",
          "2020-04-23T12:00:00",
          "2020-04-24T12:00:00",
          "2020-04-25T12:00:00",
          "2020-04-26T12:00:00",
          "2020-04-27T11:59:59.999999999"
         ],
         "xaxis": "x",
         "y": [
          0.14955399974142047,
          0.13586662996783147,
          0.1316987154702048,
          0.1365788067108258,
          0.12930705918463306,
          0.1194723781453696,
          0.12875059286751186,
          0.13864358396156548,
          0.1420631605008087,
          0.14021367520860537,
          0.13501468843184916,
          0.11291313457392822,
          0.1227356822414059,
          0.11024911926002928,
          0.14800426518587542,
          0.11064222576661333,
          0.10032138133249362,
          0.14176811465704928,
          0.12293475886931926,
          0.10819702478183106,
          0.11496444203327334,
          0.10109084200059336,
          0.14837766508343275,
          0.12696683711023507,
          0.11300854139879302,
          0.11895443943141316,
          0.10472792180633521,
          0.1403705109637385,
          0.10912711325615425,
          0.11278708306484937,
          0.09998076819286124,
          0.09992371639716036,
          0.09873734373066685,
          0.12015595459082044,
          0.09509090466776199,
          0.11676912696967286,
          0.1243240276725116,
          0.14077951476669623,
          0.1296768128904728,
          0.10151250729707922,
          0.08925397647692919,
          0.10387538070214193,
          0.09769397409777451,
          0.11397467642114173,
          0.10474839848501098,
          0.12868993229397555,
          0.12077304254810539,
          0.11914965661904155,
          0.11683368515657132,
          0.13530766317616705,
          0.18272237219213752,
          0.17040276963031276,
          0.13141680160384314,
          0.12650864938978873,
          0.12863303486652367,
          0.13877359647423926,
          0.1401450444887057,
          0.2770632162584378,
          0.2574752590526653,
          0.22904747813291224,
          0.24851694085330892,
          0.26425938393172316,
          0.2320249766674888,
          0.23249200674215853,
          0.22946334235320298,
          0.20279852163372414,
          0.19051761338444193,
          0.19819303564839205,
          0.19436366743918512,
          0.21230735902303735,
          0.1974577457865081,
          0.21693420357165985,
          0.22103995621136927,
          0.127700292041294,
          0.11577487829174331,
          0.11365751780039035,
          0.10304076394583267,
          0.1685812409850481,
          0.1720123999118762,
          0.10055614322899259,
          0.13818953423379746,
          0.0912612788220301,
          0.10505915478347287,
          0.13830781824284297,
          0.12942950540060036,
          0.13900113395259814,
          0.11829563625947544,
          0.15341098324881125,
          0.10333084782790518,
          0.11807767966974879,
          0.11025889737040968,
          0.15402083454002433,
          0.1136004354919871,
          0.10289955541456697,
          0.11429945098807347,
          0.1324594357775205,
          0.11497297156243179,
          0.13659139214420046,
          0.18124517611132476,
          0.22612702757208777,
          0.24451688046997952,
          0.27568855308321605,
          0.24246733474714036,
          0.1910583553747526,
          0.1583358157992645,
          0.14452672088128263,
          0.1377505590199887,
          0.1449530336241158,
          0.13453209719008064,
          0.16315967141683438,
          0.1634310626656399,
          0.14762865988877882,
          0.13487623044424188,
          0.1409820919324534,
          0.18082630121466658,
          0.1815642913871789,
          0.13483015696366804,
          0.1350362790702003,
          0.11722930429298627,
          0.12168869839222435,
          0.11821614818703574,
          0.11035499955108134,
          0.13486682908621783,
          0.12538699164255246,
          0.1425000299947499,
          0.09803650748045671,
          0.09803650748045671
         ],
         "yaxis": "y"
        },
        {
         "hoverinfo": "skip",
         "legendgroup": "alert",
         "marker": {
          "color": "#DD4040",
          "size": 8,
          "symbol": "diamond"
         },
         "mode": "markers",
         "name": "Alert",
         "showlegend": true,
         "type": "scatter",
         "x": [
          "2020-02-19T12:00:00",
          "2020-02-20T12:00:00",
          "2020-02-22T12:00:00",
          "2020-02-23T12:00:00",
          "2020-02-24T12:00:00",
          "2020-02-25T12:00:00",
          "2020-04-02T12:00:00",
          "2020-04-03T12:00:00",
          "2020-04-04T12:00:00"
         ],
         "xaxis": "x",
         "y": [
          0.2770632162584378,
          0.2574752590526653,
          0.24851694085330892,
          0.26425938393172316,
          0.2320249766674888,
          0.23249200674215853,
          0.24451688046997952,
          0.27568855308321605,
          0.24246733474714036
         ],
         "yaxis": "y"
        },
        {
         "hoverinfo": "skip",
         "legendgroup": "thresh",
         "line": {
          "color": "#DD4040",
          "dash": "dash",
          "width": 2
         },
         "mode": "lines",
         "name": "Threshold",
         "showlegend": true,
         "type": "scatter",
         "x": [
          "2019-12-24T00:00:00",
          "2019-12-25T00:00:00",
          "2019-12-26T00:00:00",
          "2019-12-27T00:00:00",
          "2019-12-28T00:00:00",
          "2019-12-29T00:00:00",
          "2019-12-30T00:00:00",
          "2019-12-31T00:00:00",
          "2020-01-01T00:00:00",
          "2020-01-02T00:00:00",
          "2020-01-03T00:00:00",
          "2020-01-04T00:00:00",
          "2020-01-05T00:00:00",
          "2020-01-06T00:00:00",
          "2020-01-07T00:00:00",
          "2020-01-08T00:00:00",
          "2020-01-09T00:00:00",
          "2020-01-10T00:00:00",
          "2020-01-11T00:00:00",
          "2020-01-12T00:00:00",
          "2020-01-13T00:00:00",
          "2020-01-14T00:00:00",
          "2020-01-15T00:00:00",
          "2020-01-16T00:00:00",
          "2020-01-17T00:00:00",
          "2020-01-18T00:00:00",
          "2020-01-19T00:00:00",
          "2020-01-20T00:00:00",
          "2020-01-21T00:00:00",
          "2020-01-22T00:00:00",
          "2020-01-23T00:00:00",
          "2020-01-24T00:00:00",
          "2020-01-25T00:00:00",
          "2020-01-26T00:00:00",
          "2020-01-27T00:00:00",
          "2020-01-28T00:00:00",
          "2020-01-29T00:00:00",
          "2020-01-30T00:00:00",
          "2020-01-31T00:00:00",
          "2020-02-01T00:00:00",
          "2020-02-02T00:00:00",
          "2020-02-03T00:00:00",
          "2020-02-04T00:00:00",
          "2020-02-05T00:00:00",
          "2020-02-06T00:00:00",
          "2020-02-07T00:00:00",
          "2020-02-08T00:00:00",
          "2020-02-09T00:00:00",
          "2020-02-10T00:00:00",
          "2020-02-11T00:00:00",
          "2020-02-12T00:00:00",
          "2020-02-13T00:00:00",
          "2020-02-14T00:00:00",
          "2020-02-15T00:00:00",
          "2020-02-16T00:00:00",
          "2020-02-17T00:00:00",
          "2020-02-18T00:00:00",
          "2020-02-19T00:00:00",
          "2020-02-20T00:00:00",
          "2020-02-21T00:00:00",
          "2020-02-22T00:00:00",
          "2020-02-23T00:00:00",
          "2020-02-24T00:00:00",
          "2020-02-25T00:00:00",
          "2020-02-26T00:00:00",
          "2020-02-27T00:00:00",
          "2020-02-28T00:00:00",
          "2020-02-29T00:00:00",
          "2020-03-01T00:00:00",
          "2020-03-02T00:00:00",
          "2020-03-03T00:00:00",
          "2020-03-04T00:00:00",
          "2020-03-05T00:00:00",
          "2020-03-06T00:00:00",
          "2020-03-07T00:00:00",
          "2020-03-08T00:00:00",
          "2020-03-09T00:00:00",
          "2020-03-10T00:00:00",
          "2020-03-11T00:00:00",
          "2020-03-12T00:00:00",
          "2020-03-13T00:00:00",
          "2020-03-14T00:00:00",
          "2020-03-15T00:00:00",
          "2020-03-16T00:00:00",
          "2020-03-17T00:00:00",
          "2020-03-18T00:00:00",
          "2020-03-19T00:00:00",
          "2020-03-20T00:00:00",
          "2020-03-21T00:00:00",
          "2020-03-22T00:00:00",
          "2020-03-23T00:00:00",
          "2020-03-24T00:00:00",
          "2020-03-25T00:00:00",
          "2020-03-26T00:00:00",
          "2020-03-27T00:00:00",
          "2020-03-28T00:00:00",
          "2020-03-29T00:00:00",
          "2020-03-30T00:00:00",
          "2020-03-31T00:00:00",
          "2020-04-01T00:00:00",
          "2020-04-02T00:00:00",
          "2020-04-03T00:00:00",
          "2020-04-04T00:00:00",
          "2020-04-05T00:00:00",
          "2020-04-06T00:00:00",
          "2020-04-07T00:00:00",
          "2020-04-08T00:00:00",
          "2020-04-09T00:00:00",
          "2020-04-10T00:00:00",
          "2020-04-11T00:00:00",
          "2020-04-12T00:00:00",
          "2020-04-13T00:00:00",
          "2020-04-14T00:00:00",
          "2020-04-15T00:00:00",
          "2020-04-16T00:00:00",
          "2020-04-17T00:00:00",
          "2020-04-18T00:00:00",
          "2020-04-19T00:00:00",
          "2020-04-20T00:00:00",
          "2020-04-21T00:00:00",
          "2020-04-22T00:00:00",
          "2020-04-23T00:00:00",
          "2020-04-24T00:00:00",
          "2020-04-25T00:00:00",
          "2020-04-26T00:00:00",
          "2020-04-27T00:00:00",
          "2020-04-27T23:59:59.999999999"
         ],
         "xaxis": "x",
         "y": [
          0.2298023345782439,
          0.2298023345782439,
          0.2298023345782439,
          0.2298023345782439,
          0.2298023345782439,
          0.2298023345782439,
          0.2298023345782439,
          0.2298023345782439,
          0.2298023345782439,
          0.2298023345782439,
          0.2298023345782439,
          0.2298023345782439,
          0.2298023345782439,
          0.2298023345782439,
          0.2298023345782439,
          0.2298023345782439,
          0.2298023345782439,
          0.2298023345782439,
          0.2298023345782439,
          0.2298023345782439,
          0.2298023345782439,
          0.2298023345782439,
          0.2298023345782439,
          0.2298023345782439,
          0.2298023345782439,
          0.2298023345782439,
          0.2298023345782439,
          0.2298023345782439,
          0.2298023345782439,
          0.2298023345782439,
          0.2298023345782439,
          0.2298023345782439,
          0.2298023345782439,
          0.2298023345782439,
          0.2298023345782439,
          0.2298023345782439,
          0.2298023345782439,
          0.2298023345782439,
          0.2298023345782439,
          0.2298023345782439,
          0.2298023345782439,
          0.2298023345782439,
          0.2298023345782439,
          0.2298023345782439,
          0.2298023345782439,
          0.2298023345782439,
          0.2298023345782439,
          0.2298023345782439,
          0.2298023345782439,
          0.2298023345782439,
          0.2298023345782439,
          0.2298023345782439,
          0.2298023345782439,
          0.2298023345782439,
          0.2298023345782439,
          0.2298023345782439,
          0.2298023345782439,
          0.2298023345782439,
          0.2298023345782439,
          0.2298023345782439,
          0.2298023345782439,
          0.2298023345782439,
          0.2298023345782439,
          0.2298023345782439,
          0.2298023345782439,
          0.2298023345782439,
          0.2298023345782439,
          0.2298023345782439,
          0.2298023345782439,
          0.2298023345782439,
          0.2298023345782439,
          0.2298023345782439,
          0.2298023345782439,
          0.2298023345782439,
          0.2298023345782439,
          0.2298023345782439,
          0.2298023345782439,
          0.2298023345782439,
          0.2298023345782439,
          0.2298023345782439,
          0.2298023345782439,
          0.2298023345782439,
          0.2298023345782439,
          0.2298023345782439,
          0.2298023345782439,
          0.2298023345782439,
          0.2298023345782439,
          0.2298023345782439,
          0.2298023345782439,
          0.2298023345782439,
          0.2298023345782439,
          0.2298023345782439,
          0.2298023345782439,
          0.2298023345782439,
          0.2298023345782439,
          0.2298023345782439,
          0.2298023345782439,
          0.2298023345782439,
          0.2298023345782439,
          0.2298023345782439,
          0.2298023345782439,
          0.2298023345782439,
          0.2298023345782439,
          0.2298023345782439,
          0.2298023345782439,
          0.2298023345782439,
          0.2298023345782439,
          0.2298023345782439,
          0.2298023345782439,
          0.2298023345782439,
          0.2298023345782439,
          0.2298023345782439,
          0.2298023345782439,
          0.2298023345782439,
          0.2298023345782439,
          0.2298023345782439,
          0.2298023345782439,
          0.2298023345782439,
          0.2298023345782439,
          0.2298023345782439,
          0.2298023345782439,
          0.2298023345782439,
          0.2298023345782439,
          0.2298023345782439,
          0.2298023345782439,
          0.2298023345782439,
          0.2298023345782439
         ],
         "yaxis": "y"
        },
        {
         "hoverinfo": "skip",
         "legendgroup": "thresh",
         "line": {
          "color": "#DD4040",
          "dash": "dash",
          "width": 2
         },
         "mode": "lines",
         "name": "Threshold",
         "showlegend": false,
         "type": "scatter",
         "x": [
          "2019-12-24T00:00:00",
          "2019-12-25T00:00:00",
          "2019-12-26T00:00:00",
          "2019-12-27T00:00:00",
          "2019-12-28T00:00:00",
          "2019-12-29T00:00:00",
          "2019-12-30T00:00:00",
          "2019-12-31T00:00:00",
          "2020-01-01T00:00:00",
          "2020-01-02T00:00:00",
          "2020-01-03T00:00:00",
          "2020-01-04T00:00:00",
          "2020-01-05T00:00:00",
          "2020-01-06T00:00:00",
          "2020-01-07T00:00:00",
          "2020-01-08T00:00:00",
          "2020-01-09T00:00:00",
          "2020-01-10T00:00:00",
          "2020-01-11T00:00:00",
          "2020-01-12T00:00:00",
          "2020-01-13T00:00:00",
          "2020-01-14T00:00:00",
          "2020-01-15T00:00:00",
          "2020-01-16T00:00:00",
          "2020-01-17T00:00:00",
          "2020-01-18T00:00:00",
          "2020-01-19T00:00:00",
          "2020-01-20T00:00:00",
          "2020-01-21T00:00:00",
          "2020-01-22T00:00:00",
          "2020-01-23T00:00:00",
          "2020-01-24T00:00:00",
          "2020-01-25T00:00:00",
          "2020-01-26T00:00:00",
          "2020-01-27T00:00:00",
          "2020-01-28T00:00:00",
          "2020-01-29T00:00:00",
          "2020-01-30T00:00:00",
          "2020-01-31T00:00:00",
          "2020-02-01T00:00:00",
          "2020-02-02T00:00:00",
          "2020-02-03T00:00:00",
          "2020-02-04T00:00:00",
          "2020-02-05T00:00:00",
          "2020-02-06T00:00:00",
          "2020-02-07T00:00:00",
          "2020-02-08T00:00:00",
          "2020-02-09T00:00:00",
          "2020-02-10T00:00:00",
          "2020-02-11T00:00:00",
          "2020-02-12T00:00:00",
          "2020-02-13T00:00:00",
          "2020-02-14T00:00:00",
          "2020-02-15T00:00:00",
          "2020-02-16T00:00:00",
          "2020-02-17T00:00:00",
          "2020-02-18T00:00:00",
          "2020-02-19T00:00:00",
          "2020-02-20T00:00:00",
          "2020-02-21T00:00:00",
          "2020-02-22T00:00:00",
          "2020-02-23T00:00:00",
          "2020-02-24T00:00:00",
          "2020-02-25T00:00:00",
          "2020-02-26T00:00:00",
          "2020-02-27T00:00:00",
          "2020-02-28T00:00:00",
          "2020-02-29T00:00:00",
          "2020-03-01T00:00:00",
          "2020-03-02T00:00:00",
          "2020-03-03T00:00:00",
          "2020-03-04T00:00:00",
          "2020-03-05T00:00:00",
          "2020-03-06T00:00:00",
          "2020-03-07T00:00:00",
          "2020-03-08T00:00:00",
          "2020-03-09T00:00:00",
          "2020-03-10T00:00:00",
          "2020-03-11T00:00:00",
          "2020-03-12T00:00:00",
          "2020-03-13T00:00:00",
          "2020-03-14T00:00:00",
          "2020-03-15T00:00:00",
          "2020-03-16T00:00:00",
          "2020-03-17T00:00:00",
          "2020-03-18T00:00:00",
          "2020-03-19T00:00:00",
          "2020-03-20T00:00:00",
          "2020-03-21T00:00:00",
          "2020-03-22T00:00:00",
          "2020-03-23T00:00:00",
          "2020-03-24T00:00:00",
          "2020-03-25T00:00:00",
          "2020-03-26T00:00:00",
          "2020-03-27T00:00:00",
          "2020-03-28T00:00:00",
          "2020-03-29T00:00:00",
          "2020-03-30T00:00:00",
          "2020-03-31T00:00:00",
          "2020-04-01T00:00:00",
          "2020-04-02T00:00:00",
          "2020-04-03T00:00:00",
          "2020-04-04T00:00:00",
          "2020-04-05T00:00:00",
          "2020-04-06T00:00:00",
          "2020-04-07T00:00:00",
          "2020-04-08T00:00:00",
          "2020-04-09T00:00:00",
          "2020-04-10T00:00:00",
          "2020-04-11T00:00:00",
          "2020-04-12T00:00:00",
          "2020-04-13T00:00:00",
          "2020-04-14T00:00:00",
          "2020-04-15T00:00:00",
          "2020-04-16T00:00:00",
          "2020-04-17T00:00:00",
          "2020-04-18T00:00:00",
          "2020-04-19T00:00:00",
          "2020-04-20T00:00:00",
          "2020-04-21T00:00:00",
          "2020-04-22T00:00:00",
          "2020-04-23T00:00:00",
          "2020-04-24T00:00:00",
          "2020-04-25T00:00:00",
          "2020-04-26T00:00:00",
          "2020-04-27T00:00:00",
          "2020-04-27T23:59:59.999999999"
         ],
         "xaxis": "x",
         "y": [
          0,
          0,
          0,
          0,
          0,
          0,
          0,
          0,
          0,
          0,
          0,
          0,
          0,
          0,
          0,
          0,
          0,
          0,
          0,
          0,
          0,
          0,
          0,
          0,
          0,
          0,
          0,
          0,
          0,
          0,
          0,
          0,
          0,
          0,
          0,
          0,
          0,
          0,
          0,
          0,
          0,
          0,
          0,
          0,
          0,
          0,
          0,
          0,
          0,
          0,
          0,
          0,
          0,
          0,
          0,
          0,
          0,
          0,
          0,
          0,
          0,
          0,
          0,
          0,
          0,
          0,
          0,
          0,
          0,
          0,
          0,
          0,
          0,
          0,
          0,
          0,
          0,
          0,
          0,
          0,
          0,
          0,
          0,
          0,
          0,
          0,
          0,
          0,
          0,
          0,
          0,
          0,
          0,
          0,
          0,
          0,
          0,
          0,
          0,
          0,
          0,
          0,
          0,
          0,
          0,
          0,
          0,
          0,
          0,
          0,
          0,
          0,
          0,
          0,
          0,
          0,
          0,
          0,
          0,
          0,
          0,
          0,
          0,
          0,
          0,
          0,
          0
         ],
         "yaxis": "y"
        },
        {
         "hoverinfo": "skip",
         "line": {
          "color": "rgba(0,0,0,0)",
          "shape": "hv"
         },
         "mode": "lines",
         "name": "Confidence band",
         "showlegend": false,
         "type": "scatter",
         "x": [
          "2019-12-24T00:00:00",
          "2019-12-25T00:00:00",
          "2019-12-26T00:00:00",
          "2019-12-27T00:00:00",
          "2019-12-28T00:00:00",
          "2019-12-29T00:00:00",
          "2019-12-30T00:00:00",
          "2019-12-31T00:00:00",
          "2020-01-01T00:00:00",
          "2020-01-02T00:00:00",
          "2020-01-03T00:00:00",
          "2020-01-04T00:00:00",
          "2020-01-05T00:00:00",
          "2020-01-06T00:00:00",
          "2020-01-07T00:00:00",
          "2020-01-08T00:00:00",
          "2020-01-09T00:00:00",
          "2020-01-10T00:00:00",
          "2020-01-11T00:00:00",
          "2020-01-12T00:00:00",
          "2020-01-13T00:00:00",
          "2020-01-14T00:00:00",
          "2020-01-15T00:00:00",
          "2020-01-16T00:00:00",
          "2020-01-17T00:00:00",
          "2020-01-18T00:00:00",
          "2020-01-19T00:00:00",
          "2020-01-20T00:00:00",
          "2020-01-21T00:00:00",
          "2020-01-22T00:00:00",
          "2020-01-23T00:00:00",
          "2020-01-24T00:00:00",
          "2020-01-25T00:00:00",
          "2020-01-26T00:00:00",
          "2020-01-27T00:00:00",
          "2020-01-28T00:00:00",
          "2020-01-29T00:00:00",
          "2020-01-30T00:00:00",
          "2020-01-31T00:00:00",
          "2020-02-01T00:00:00",
          "2020-02-02T00:00:00",
          "2020-02-03T00:00:00",
          "2020-02-04T00:00:00",
          "2020-02-05T00:00:00",
          "2020-02-06T00:00:00",
          "2020-02-07T00:00:00",
          "2020-02-08T00:00:00",
          "2020-02-09T00:00:00",
          "2020-02-10T00:00:00",
          "2020-02-11T00:00:00",
          "2020-02-12T00:00:00",
          "2020-02-13T00:00:00",
          "2020-02-14T00:00:00",
          "2020-02-15T00:00:00",
          "2020-02-16T00:00:00",
          "2020-02-17T00:00:00",
          "2020-02-18T00:00:00",
          "2020-02-19T00:00:00",
          "2020-02-20T00:00:00",
          "2020-02-21T00:00:00",
          "2020-02-22T00:00:00",
          "2020-02-23T00:00:00",
          "2020-02-24T00:00:00",
          "2020-02-25T00:00:00",
          "2020-02-26T00:00:00",
          "2020-02-27T00:00:00",
          "2020-02-28T00:00:00",
          "2020-02-29T00:00:00",
          "2020-03-01T00:00:00",
          "2020-03-02T00:00:00",
          "2020-03-03T00:00:00",
          "2020-03-04T00:00:00",
          "2020-03-05T00:00:00",
          "2020-03-06T00:00:00",
          "2020-03-07T00:00:00",
          "2020-03-08T00:00:00",
          "2020-03-09T00:00:00",
          "2020-03-10T00:00:00",
          "2020-03-11T00:00:00",
          "2020-03-12T00:00:00",
          "2020-03-13T00:00:00",
          "2020-03-14T00:00:00",
          "2020-03-15T00:00:00",
          "2020-03-16T00:00:00",
          "2020-03-17T00:00:00",
          "2020-03-18T00:00:00",
          "2020-03-19T00:00:00",
          "2020-03-20T00:00:00",
          "2020-03-21T00:00:00",
          "2020-03-22T00:00:00",
          "2020-03-23T00:00:00",
          "2020-03-24T00:00:00",
          "2020-03-25T00:00:00",
          "2020-03-26T00:00:00",
          "2020-03-27T00:00:00",
          "2020-03-28T00:00:00",
          "2020-03-29T00:00:00",
          "2020-03-30T00:00:00",
          "2020-03-31T00:00:00",
          "2020-04-01T00:00:00",
          "2020-04-02T00:00:00",
          "2020-04-03T00:00:00",
          "2020-04-04T00:00:00",
          "2020-04-05T00:00:00",
          "2020-04-06T00:00:00",
          "2020-04-07T00:00:00",
          "2020-04-08T00:00:00",
          "2020-04-09T00:00:00",
          "2020-04-10T00:00:00",
          "2020-04-11T00:00:00",
          "2020-04-12T00:00:00",
          "2020-04-13T00:00:00",
          "2020-04-14T00:00:00",
          "2020-04-15T00:00:00",
          "2020-04-16T00:00:00",
          "2020-04-17T00:00:00",
          "2020-04-18T00:00:00",
          "2020-04-19T00:00:00",
          "2020-04-20T00:00:00",
          "2020-04-21T00:00:00",
          "2020-04-22T00:00:00",
          "2020-04-23T00:00:00",
          "2020-04-24T00:00:00",
          "2020-04-25T00:00:00",
          "2020-04-26T00:00:00",
          "2020-04-27T00:00:00",
          "2020-04-27T23:59:59.999999999"
         ],
         "xaxis": "x",
         "y": [
          0.253362526794366,
          0.2306304165149707,
          0.22646250201734405,
          0.23134259325796505,
          0.2240708457317723,
          0.21423616469250883,
          0.2235143794146511,
          0.23340737050870472,
          0.23682694704794793,
          0.2349774617557446,
          0.2297784749789884,
          0.20767692112106745,
          0.21749946878854515,
          0.20501290580716852,
          0.24276805173301466,
          0.20540601231375255,
          0.19508516787963287,
          0.23653190120418852,
          0.2176985454164585,
          0.20296081132897031,
          0.20972822858041257,
          0.1958546285477326,
          0.243141451630572,
          0.2217306236573743,
          0.20777232794593226,
          0.2137182259785524,
          0.19949170835347446,
          0.23513429751087775,
          0.2038908998032935,
          0.2075508696119886,
          0.19474455474000046,
          0.1946875029442996,
          0.19350113027780608,
          0.2149197411379597,
          0.18985469121490123,
          0.21153291351681208,
          0.21908781421965084,
          0.23554330131383547,
          0.22444059943761205,
          0.19627629384421846,
          0.18401776302406841,
          0.19863916724928116,
          0.19245776064491377,
          0.20873846296828097,
          0.19951218503215024,
          0.22345371884111478,
          0.21553682909524463,
          0.21391344316618077,
          0.21159747170371057,
          0.2300714497233063,
          0.27748615873927673,
          0.265166556177452,
          0.22618058815098238,
          0.22127243593692797,
          0.2233968214136629,
          0.2335373830213785,
          0.23490883103584495,
          0.37182700280557707,
          0.3522390455998045,
          0.3238112646800515,
          0.3432807274004481,
          0.3590231704788624,
          0.326788763214628,
          0.32725579328929777,
          0.3242271289003422,
          0.2975623081808634,
          0.2852813999315812,
          0.2929568221955313,
          0.28912745398632433,
          0.30707114557017656,
          0.29222153233364734,
          0.31169799011879906,
          0.31580374275850853,
          0.22246407858843323,
          0.21053866483888256,
          0.2084213043475296,
          0.1978045504929719,
          0.26334502753218736,
          0.26677618645901546,
          0.19531992977613183,
          0.2329533207809367,
          0.18602506536916935,
          0.19982294133061212,
          0.2330716047899822,
          0.2241932919477396,
          0.23376492049973738,
          0.21305942280661466,
          0.2481747697959505,
          0.19809463437504443,
          0.21284146621688804,
          0.2050226839175489,
          0.24878462108716357,
          0.20836422203912636,
          0.1976633419617062,
          0.20906323753521272,
          0.22722322232465975,
          0.20973675810957104,
          0.2313551786913397,
          0.276008962658464,
          0.32089081411922704,
          0.3392806670171188,
          0.3704523396303553,
          0.33723112129427957,
          0.2858221419218918,
          0.2530996023464037,
          0.23929050742842187,
          0.23251434556712794,
          0.23971682017125504,
          0.22929588373721987,
          0.25792345796397365,
          0.25819484921277913,
          0.24239244643591806,
          0.22964001699138112,
          0.23574587847959264,
          0.2755900877618058,
          0.27632807793431813,
          0.22959394351080728,
          0.22980006561733954,
          0.21199309084012552,
          0.2164524849393636,
          0.21297993473417498,
          0.2051187860982206,
          0.22963061563335707,
          0.2201507781896917,
          0.23726381654188913,
          0.3301594306149688,
          0.3301594306149688
         ],
         "yaxis": "y"
        },
        {
         "fill": "tonexty",
         "fillcolor": "rgba(0.23137254901960785, 0.00784313725490196, 0.5019607843137255, 0.2)",
         "hoverinfo": "skip",
         "line": {
          "color": "rgba(0,0,0,0)",
          "shape": "hv"
         },
         "mode": "lines",
         "name": "Confidence band",
         "showlegend": true,
         "type": "scatter",
         "x": [
          "2019-12-24T00:00:00",
          "2019-12-25T00:00:00",
          "2019-12-26T00:00:00",
          "2019-12-27T00:00:00",
          "2019-12-28T00:00:00",
          "2019-12-29T00:00:00",
          "2019-12-30T00:00:00",
          "2019-12-31T00:00:00",
          "2020-01-01T00:00:00",
          "2020-01-02T00:00:00",
          "2020-01-03T00:00:00",
          "2020-01-04T00:00:00",
          "2020-01-05T00:00:00",
          "2020-01-06T00:00:00",
          "2020-01-07T00:00:00",
          "2020-01-08T00:00:00",
          "2020-01-09T00:00:00",
          "2020-01-10T00:00:00",
          "2020-01-11T00:00:00",
          "2020-01-12T00:00:00",
          "2020-01-13T00:00:00",
          "2020-01-14T00:00:00",
          "2020-01-15T00:00:00",
          "2020-01-16T00:00:00",
          "2020-01-17T00:00:00",
          "2020-01-18T00:00:00",
          "2020-01-19T00:00:00",
          "2020-01-20T00:00:00",
          "2020-01-21T00:00:00",
          "2020-01-22T00:00:00",
          "2020-01-23T00:00:00",
          "2020-01-24T00:00:00",
          "2020-01-25T00:00:00",
          "2020-01-26T00:00:00",
          "2020-01-27T00:00:00",
          "2020-01-28T00:00:00",
          "2020-01-29T00:00:00",
          "2020-01-30T00:00:00",
          "2020-01-31T00:00:00",
          "2020-02-01T00:00:00",
          "2020-02-02T00:00:00",
          "2020-02-03T00:00:00",
          "2020-02-04T00:00:00",
          "2020-02-05T00:00:00",
          "2020-02-06T00:00:00",
          "2020-02-07T00:00:00",
          "2020-02-08T00:00:00",
          "2020-02-09T00:00:00",
          "2020-02-10T00:00:00",
          "2020-02-11T00:00:00",
          "2020-02-12T00:00:00",
          "2020-02-13T00:00:00",
          "2020-02-14T00:00:00",
          "2020-02-15T00:00:00",
          "2020-02-16T00:00:00",
          "2020-02-17T00:00:00",
          "2020-02-18T00:00:00",
          "2020-02-19T00:00:00",
          "2020-02-20T00:00:00",
          "2020-02-21T00:00:00",
          "2020-02-22T00:00:00",
          "2020-02-23T00:00:00",
          "2020-02-24T00:00:00",
          "2020-02-25T00:00:00",
          "2020-02-26T00:00:00",
          "2020-02-27T00:00:00",
          "2020-02-28T00:00:00",
          "2020-02-29T00:00:00",
          "2020-03-01T00:00:00",
          "2020-03-02T00:00:00",
          "2020-03-03T00:00:00",
          "2020-03-04T00:00:00",
          "2020-03-05T00:00:00",
          "2020-03-06T00:00:00",
          "2020-03-07T00:00:00",
          "2020-03-08T00:00:00",
          "2020-03-09T00:00:00",
          "2020-03-10T00:00:00",
          "2020-03-11T00:00:00",
          "2020-03-12T00:00:00",
          "2020-03-13T00:00:00",
          "2020-03-14T00:00:00",
          "2020-03-15T00:00:00",
          "2020-03-16T00:00:00",
          "2020-03-17T00:00:00",
          "2020-03-18T00:00:00",
          "2020-03-19T00:00:00",
          "2020-03-20T00:00:00",
          "2020-03-21T00:00:00",
          "2020-03-22T00:00:00",
          "2020-03-23T00:00:00",
          "2020-03-24T00:00:00",
          "2020-03-25T00:00:00",
          "2020-03-26T00:00:00",
          "2020-03-27T00:00:00",
          "2020-03-28T00:00:00",
          "2020-03-29T00:00:00",
          "2020-03-30T00:00:00",
          "2020-03-31T00:00:00",
          "2020-04-01T00:00:00",
          "2020-04-02T00:00:00",
          "2020-04-03T00:00:00",
          "2020-04-04T00:00:00",
          "2020-04-05T00:00:00",
          "2020-04-06T00:00:00",
          "2020-04-07T00:00:00",
          "2020-04-08T00:00:00",
          "2020-04-09T00:00:00",
          "2020-04-10T00:00:00",
          "2020-04-11T00:00:00",
          "2020-04-12T00:00:00",
          "2020-04-13T00:00:00",
          "2020-04-14T00:00:00",
          "2020-04-15T00:00:00",
          "2020-04-16T00:00:00",
          "2020-04-17T00:00:00",
          "2020-04-18T00:00:00",
          "2020-04-19T00:00:00",
          "2020-04-20T00:00:00",
          "2020-04-21T00:00:00",
          "2020-04-22T00:00:00",
          "2020-04-23T00:00:00",
          "2020-04-24T00:00:00",
          "2020-04-25T00:00:00",
          "2020-04-26T00:00:00",
          "2020-04-27T00:00:00",
          "2020-04-27T23:59:59.999999999"
         ],
         "xaxis": "x",
         "y": [
          0.04574547268847498,
          0.04110284342069223,
          0.036934928923065574,
          0.04181502016368657,
          0.03454327263749382,
          0.024708591598230356,
          0.033986806320372626,
          0.04387979741442624,
          0.047299373953669455,
          0.045449888661466126,
          0.04025090188470992,
          0.018149348026788983,
          0.027971895694266655,
          0.015485332712890043,
          0.05324047863873618,
          0.015878439219474086,
          0.005557594785354378,
          0.04700432810991004,
          0.02817097232218002,
          0.013433238234691822,
          0.020200655486134103,
          0.00632705545345412,
          0.05361387853629351,
          0.03220305056309583,
          0.018244754851653777,
          0.024190652884273925,
          0.00996413525919597,
          0.04560672441659927,
          0.014363326709015009,
          0.018023296517710133,
          0.005216981645721999,
          0.005159929850021117,
          0.003973557183527612,
          0.025392168043681204,
          0.00032711812062274914,
          0.022005340422533617,
          0.029560241125372366,
          0.04601572821955699,
          0.03491302634333357,
          0.006748720749939985,
          0,
          0.009111594155002692,
          0.0029301875506352743,
          0.01921088987400249,
          0.009984611937871743,
          0.033926145746836306,
          0.026009256000966152,
          0.024385870071902307,
          0.02206989860943208,
          0.04054387662902781,
          0.08795858564499828,
          0.07563898308317352,
          0.0366530150567039,
          0.03174486284264949,
          0.033869248319384426,
          0.04400980992710002,
          0.04538125794156647,
          0.1822994297112986,
          0.16271147250552603,
          0.134283691585773,
          0.15375315430616968,
          0.16949559738458392,
          0.13726119012034957,
          0.1377282201950193,
          0.13469955580606374,
          0.1080347350865849,
          0.09575382683730269,
          0.10342924910125281,
          0.09959988089204588,
          0.11754357247589811,
          0.10269395923936886,
          0.12217041702452061,
          0.12627616966423003,
          0.03293650549415475,
          0.02101109174460407,
          0.01889373125325111,
          0.00827697739869343,
          0.07381745443790885,
          0.07724861336473696,
          0.00579235668185335,
          0.04342574768665822,
          0,
          0.010295368236333632,
          0.04354403169570373,
          0.03466571885346112,
          0.0442373474054589,
          0.023531849712336197,
          0.05864719670167201,
          0.008567061280765939,
          0.02331389312260955,
          0.015495110823270444,
          0.05925704799288509,
          0.018836648944847864,
          0.008135768867427728,
          0.019535664440934228,
          0.03769564923038127,
          0.02020918501529255,
          0.041827605597061224,
          0.08648138956418552,
          0.13136324102494853,
          0.14975309392284028,
          0.1809247665360768,
          0.14770354820000112,
          0.09629456882761336,
          0.06357202925212527,
          0.04976293433414339,
          0.04298677247284946,
          0.050189247076976556,
          0.039768310642941396,
          0.06839588486969514,
          0.06866727611850065,
          0.052864873341639584,
          0.04011244389710264,
          0.04621830538531416,
          0.08606251466752735,
          0.08680050484003965,
          0.0400663704165288,
          0.04027249252306106,
          0.022465517745847027,
          0.02692491184508511,
          0.023452361639896502,
          0.015591213003942103,
          0.04010304253907859,
          0.03062320509541322,
          0.047736243447610655,
          0,
          0
         ],
         "yaxis": "y"
        }
       ],
       "layout": {
        "annotations": [
         {
          "font": {
           "size": 16
          },
          "showarrow": false,
          "text": "Estimated <b>MAPE</b>",
          "x": 0.5,
          "xanchor": "center",
          "xref": "paper",
          "y": 1,
          "yanchor": "bottom",
          "yref": "paper"
         }
        ],
        "height": 500,
        "hoverlabel": {
         "bgcolor": "white",
         "font": {
          "size": 14
         }
        },
        "legend": {
         "itemclick": false,
         "itemdoubleclick": false,
         "traceorder": "grouped"
        },
        "paper_bgcolor": "rgba(255,255,255,1)",
        "plot_bgcolor": "rgba(255,255,255,1)",
        "template": {
         "data": {
          "bar": [
           {
            "error_x": {
             "color": "#2a3f5f"
            },
            "error_y": {
             "color": "#2a3f5f"
            },
            "marker": {
             "line": {
              "color": "#E5ECF6",
              "width": 0.5
             },
             "pattern": {
              "fillmode": "overlay",
              "size": 10,
              "solidity": 0.2
             }
            },
            "type": "bar"
           }
          ],
          "barpolar": [
           {
            "marker": {
             "line": {
              "color": "#E5ECF6",
              "width": 0.5
             },
             "pattern": {
              "fillmode": "overlay",
              "size": 10,
              "solidity": 0.2
             }
            },
            "type": "barpolar"
           }
          ],
          "carpet": [
           {
            "aaxis": {
             "endlinecolor": "#2a3f5f",
             "gridcolor": "white",
             "linecolor": "white",
             "minorgridcolor": "white",
             "startlinecolor": "#2a3f5f"
            },
            "baxis": {
             "endlinecolor": "#2a3f5f",
             "gridcolor": "white",
             "linecolor": "white",
             "minorgridcolor": "white",
             "startlinecolor": "#2a3f5f"
            },
            "type": "carpet"
           }
          ],
          "choropleth": [
           {
            "colorbar": {
             "outlinewidth": 0,
             "ticks": ""
            },
            "type": "choropleth"
           }
          ],
          "contour": [
           {
            "colorbar": {
             "outlinewidth": 0,
             "ticks": ""
            },
            "colorscale": [
             [
              0,
              "#0d0887"
             ],
             [
              0.1111111111111111,
              "#46039f"
             ],
             [
              0.2222222222222222,
              "#7201a8"
             ],
             [
              0.3333333333333333,
              "#9c179e"
             ],
             [
              0.4444444444444444,
              "#bd3786"
             ],
             [
              0.5555555555555556,
              "#d8576b"
             ],
             [
              0.6666666666666666,
              "#ed7953"
             ],
             [
              0.7777777777777778,
              "#fb9f3a"
             ],
             [
              0.8888888888888888,
              "#fdca26"
             ],
             [
              1,
              "#f0f921"
             ]
            ],
            "type": "contour"
           }
          ],
          "contourcarpet": [
           {
            "colorbar": {
             "outlinewidth": 0,
             "ticks": ""
            },
            "type": "contourcarpet"
           }
          ],
          "heatmap": [
           {
            "colorbar": {
             "outlinewidth": 0,
             "ticks": ""
            },
            "colorscale": [
             [
              0,
              "#0d0887"
             ],
             [
              0.1111111111111111,
              "#46039f"
             ],
             [
              0.2222222222222222,
              "#7201a8"
             ],
             [
              0.3333333333333333,
              "#9c179e"
             ],
             [
              0.4444444444444444,
              "#bd3786"
             ],
             [
              0.5555555555555556,
              "#d8576b"
             ],
             [
              0.6666666666666666,
              "#ed7953"
             ],
             [
              0.7777777777777778,
              "#fb9f3a"
             ],
             [
              0.8888888888888888,
              "#fdca26"
             ],
             [
              1,
              "#f0f921"
             ]
            ],
            "type": "heatmap"
           }
          ],
          "heatmapgl": [
           {
            "colorbar": {
             "outlinewidth": 0,
             "ticks": ""
            },
            "colorscale": [
             [
              0,
              "#0d0887"
             ],
             [
              0.1111111111111111,
              "#46039f"
             ],
             [
              0.2222222222222222,
              "#7201a8"
             ],
             [
              0.3333333333333333,
              "#9c179e"
             ],
             [
              0.4444444444444444,
              "#bd3786"
             ],
             [
              0.5555555555555556,
              "#d8576b"
             ],
             [
              0.6666666666666666,
              "#ed7953"
             ],
             [
              0.7777777777777778,
              "#fb9f3a"
             ],
             [
              0.8888888888888888,
              "#fdca26"
             ],
             [
              1,
              "#f0f921"
             ]
            ],
            "type": "heatmapgl"
           }
          ],
          "histogram": [
           {
            "marker": {
             "pattern": {
              "fillmode": "overlay",
              "size": 10,
              "solidity": 0.2
             }
            },
            "type": "histogram"
           }
          ],
          "histogram2d": [
           {
            "colorbar": {
             "outlinewidth": 0,
             "ticks": ""
            },
            "colorscale": [
             [
              0,
              "#0d0887"
             ],
             [
              0.1111111111111111,
              "#46039f"
             ],
             [
              0.2222222222222222,
              "#7201a8"
             ],
             [
              0.3333333333333333,
              "#9c179e"
             ],
             [
              0.4444444444444444,
              "#bd3786"
             ],
             [
              0.5555555555555556,
              "#d8576b"
             ],
             [
              0.6666666666666666,
              "#ed7953"
             ],
             [
              0.7777777777777778,
              "#fb9f3a"
             ],
             [
              0.8888888888888888,
              "#fdca26"
             ],
             [
              1,
              "#f0f921"
             ]
            ],
            "type": "histogram2d"
           }
          ],
          "histogram2dcontour": [
           {
            "colorbar": {
             "outlinewidth": 0,
             "ticks": ""
            },
            "colorscale": [
             [
              0,
              "#0d0887"
             ],
             [
              0.1111111111111111,
              "#46039f"
             ],
             [
              0.2222222222222222,
              "#7201a8"
             ],
             [
              0.3333333333333333,
              "#9c179e"
             ],
             [
              0.4444444444444444,
              "#bd3786"
             ],
             [
              0.5555555555555556,
              "#d8576b"
             ],
             [
              0.6666666666666666,
              "#ed7953"
             ],
             [
              0.7777777777777778,
              "#fb9f3a"
             ],
             [
              0.8888888888888888,
              "#fdca26"
             ],
             [
              1,
              "#f0f921"
             ]
            ],
            "type": "histogram2dcontour"
           }
          ],
          "mesh3d": [
           {
            "colorbar": {
             "outlinewidth": 0,
             "ticks": ""
            },
            "type": "mesh3d"
           }
          ],
          "parcoords": [
           {
            "line": {
             "colorbar": {
              "outlinewidth": 0,
              "ticks": ""
             }
            },
            "type": "parcoords"
           }
          ],
          "pie": [
           {
            "automargin": true,
            "type": "pie"
           }
          ],
          "scatter": [
           {
            "fillpattern": {
             "fillmode": "overlay",
             "size": 10,
             "solidity": 0.2
            },
            "type": "scatter"
           }
          ],
          "scatter3d": [
           {
            "line": {
             "colorbar": {
              "outlinewidth": 0,
              "ticks": ""
             }
            },
            "marker": {
             "colorbar": {
              "outlinewidth": 0,
              "ticks": ""
             }
            },
            "type": "scatter3d"
           }
          ],
          "scattercarpet": [
           {
            "marker": {
             "colorbar": {
              "outlinewidth": 0,
              "ticks": ""
             }
            },
            "type": "scattercarpet"
           }
          ],
          "scattergeo": [
           {
            "marker": {
             "colorbar": {
              "outlinewidth": 0,
              "ticks": ""
             }
            },
            "type": "scattergeo"
           }
          ],
          "scattergl": [
           {
            "marker": {
             "colorbar": {
              "outlinewidth": 0,
              "ticks": ""
             }
            },
            "type": "scattergl"
           }
          ],
          "scattermapbox": [
           {
            "marker": {
             "colorbar": {
              "outlinewidth": 0,
              "ticks": ""
             }
            },
            "type": "scattermapbox"
           }
          ],
          "scatterpolar": [
           {
            "marker": {
             "colorbar": {
              "outlinewidth": 0,
              "ticks": ""
             }
            },
            "type": "scatterpolar"
           }
          ],
          "scatterpolargl": [
           {
            "marker": {
             "colorbar": {
              "outlinewidth": 0,
              "ticks": ""
             }
            },
            "type": "scatterpolargl"
           }
          ],
          "scatterternary": [
           {
            "marker": {
             "colorbar": {
              "outlinewidth": 0,
              "ticks": ""
             }
            },
            "type": "scatterternary"
           }
          ],
          "surface": [
           {
            "colorbar": {
             "outlinewidth": 0,
             "ticks": ""
            },
            "colorscale": [
             [
              0,
              "#0d0887"
             ],
             [
              0.1111111111111111,
              "#46039f"
             ],
             [
              0.2222222222222222,
              "#7201a8"
             ],
             [
              0.3333333333333333,
              "#9c179e"
             ],
             [
              0.4444444444444444,
              "#bd3786"
             ],
             [
              0.5555555555555556,
              "#d8576b"
             ],
             [
              0.6666666666666666,
              "#ed7953"
             ],
             [
              0.7777777777777778,
              "#fb9f3a"
             ],
             [
              0.8888888888888888,
              "#fdca26"
             ],
             [
              1,
              "#f0f921"
             ]
            ],
            "type": "surface"
           }
          ],
          "table": [
           {
            "cells": {
             "fill": {
              "color": "#EBF0F8"
             },
             "line": {
              "color": "white"
             }
            },
            "header": {
             "fill": {
              "color": "#C8D4E3"
             },
             "line": {
              "color": "white"
             }
            },
            "type": "table"
           }
          ]
         },
         "layout": {
          "annotationdefaults": {
           "arrowcolor": "#2a3f5f",
           "arrowhead": 0,
           "arrowwidth": 1
          },
          "autotypenumbers": "strict",
          "coloraxis": {
           "colorbar": {
            "outlinewidth": 0,
            "ticks": ""
           }
          },
          "colorscale": {
           "diverging": [
            [
             0,
             "#8e0152"
            ],
            [
             0.1,
             "#c51b7d"
            ],
            [
             0.2,
             "#de77ae"
            ],
            [
             0.3,
             "#f1b6da"
            ],
            [
             0.4,
             "#fde0ef"
            ],
            [
             0.5,
             "#f7f7f7"
            ],
            [
             0.6,
             "#e6f5d0"
            ],
            [
             0.7,
             "#b8e186"
            ],
            [
             0.8,
             "#7fbc41"
            ],
            [
             0.9,
             "#4d9221"
            ],
            [
             1,
             "#276419"
            ]
           ],
           "sequential": [
            [
             0,
             "#0d0887"
            ],
            [
             0.1111111111111111,
             "#46039f"
            ],
            [
             0.2222222222222222,
             "#7201a8"
            ],
            [
             0.3333333333333333,
             "#9c179e"
            ],
            [
             0.4444444444444444,
             "#bd3786"
            ],
            [
             0.5555555555555556,
             "#d8576b"
            ],
            [
             0.6666666666666666,
             "#ed7953"
            ],
            [
             0.7777777777777778,
             "#fb9f3a"
            ],
            [
             0.8888888888888888,
             "#fdca26"
            ],
            [
             1,
             "#f0f921"
            ]
           ],
           "sequentialminus": [
            [
             0,
             "#0d0887"
            ],
            [
             0.1111111111111111,
             "#46039f"
            ],
            [
             0.2222222222222222,
             "#7201a8"
            ],
            [
             0.3333333333333333,
             "#9c179e"
            ],
            [
             0.4444444444444444,
             "#bd3786"
            ],
            [
             0.5555555555555556,
             "#d8576b"
            ],
            [
             0.6666666666666666,
             "#ed7953"
            ],
            [
             0.7777777777777778,
             "#fb9f3a"
            ],
            [
             0.8888888888888888,
             "#fdca26"
            ],
            [
             1,
             "#f0f921"
            ]
           ]
          },
          "colorway": [
           "#636efa",
           "#EF553B",
           "#00cc96",
           "#ab63fa",
           "#FFA15A",
           "#19d3f3",
           "#FF6692",
           "#B6E880",
           "#FF97FF",
           "#FECB52"
          ],
          "font": {
           "color": "#2a3f5f"
          },
          "geo": {
           "bgcolor": "white",
           "lakecolor": "white",
           "landcolor": "#E5ECF6",
           "showlakes": true,
           "showland": true,
           "subunitcolor": "white"
          },
          "hoverlabel": {
           "align": "left"
          },
          "hovermode": "closest",
          "mapbox": {
           "style": "light"
          },
          "paper_bgcolor": "white",
          "plot_bgcolor": "#E5ECF6",
          "polar": {
           "angularaxis": {
            "gridcolor": "white",
            "linecolor": "white",
            "ticks": ""
           },
           "bgcolor": "#E5ECF6",
           "radialaxis": {
            "gridcolor": "white",
            "linecolor": "white",
            "ticks": ""
           }
          },
          "scene": {
           "xaxis": {
            "backgroundcolor": "#E5ECF6",
            "gridcolor": "white",
            "gridwidth": 2,
            "linecolor": "white",
            "showbackground": true,
            "ticks": "",
            "zerolinecolor": "white"
           },
           "yaxis": {
            "backgroundcolor": "#E5ECF6",
            "gridcolor": "white",
            "gridwidth": 2,
            "linecolor": "white",
            "showbackground": true,
            "ticks": "",
            "zerolinecolor": "white"
           },
           "zaxis": {
            "backgroundcolor": "#E5ECF6",
            "gridcolor": "white",
            "gridwidth": 2,
            "linecolor": "white",
            "showbackground": true,
            "ticks": "",
            "zerolinecolor": "white"
           }
          },
          "shapedefaults": {
           "line": {
            "color": "#2a3f5f"
           }
          },
          "ternary": {
           "aaxis": {
            "gridcolor": "white",
            "linecolor": "white",
            "ticks": ""
           },
           "baxis": {
            "gridcolor": "white",
            "linecolor": "white",
            "ticks": ""
           },
           "bgcolor": "#E5ECF6",
           "caxis": {
            "gridcolor": "white",
            "linecolor": "white",
            "ticks": ""
           }
          },
          "title": {
           "x": 0.05
          },
          "xaxis": {
           "automargin": true,
           "gridcolor": "white",
           "linecolor": "white",
           "ticks": "",
           "title": {
            "standoff": 15
           },
           "zerolinecolor": "white",
           "zerolinewidth": 2
          },
          "yaxis": {
           "automargin": true,
           "gridcolor": "white",
           "linecolor": "white",
           "ticks": "",
           "title": {
            "standoff": 15
           },
           "zerolinecolor": "white",
           "zerolinewidth": 2
          }
         }
        },
        "title": {
         "text": "Estimated performance <b>(DLE)</b>"
        },
        "xaxis": {
         "anchor": "y",
         "domain": [
          0,
          1
         ],
         "linecolor": "#3b0280",
         "matches": "x",
         "mirror": true,
         "showgrid": false,
         "title": {
          "text": "Time"
         },
         "zeroline": false
        },
        "yaxis": {
         "anchor": "x",
         "domain": [
          0,
          1
         ],
         "linecolor": "#3b0280",
         "mirror": true,
         "showgrid": false,
         "title": {
          "text": "MAPE"
         },
         "zeroline": false
        }
       }
      },
      "text/html": [
       "<div>                            <div id=\"98a2abbf-5cb0-4b78-a80d-16dcd2967868\" class=\"plotly-graph-div\" style=\"height:500.0px; width:100%;\"></div>            <script type=\"text/javascript\">                require([\"plotly\"], function(Plotly) {                    window.PLOTLYENV=window.PLOTLYENV || {};                                    if (document.getElementById(\"98a2abbf-5cb0-4b78-a80d-16dcd2967868\")) {                    Plotly.newPlot(                        \"98a2abbf-5cb0-4b78-a80d-16dcd2967868\",                        [{\"hoverinfo\":\"skip\",\"legendgroup\":\"metric_analysis\",\"line\":{\"color\":\"#3b0280\",\"dash\":\"dash\",\"shape\":\"hv\",\"width\":2},\"mode\":\"lines\",\"name\":\"Metric\",\"showlegend\":true,\"x\":[\"2019-12-24T00:00:00\",\"2019-12-25T00:00:00\",\"2019-12-26T00:00:00\",\"2019-12-27T00:00:00\",\"2019-12-28T00:00:00\",\"2019-12-29T00:00:00\",\"2019-12-30T00:00:00\",\"2019-12-31T00:00:00\",\"2020-01-01T00:00:00\",\"2020-01-02T00:00:00\",\"2020-01-03T00:00:00\",\"2020-01-04T00:00:00\",\"2020-01-05T00:00:00\",\"2020-01-06T00:00:00\",\"2020-01-07T00:00:00\",\"2020-01-08T00:00:00\",\"2020-01-09T00:00:00\",\"2020-01-10T00:00:00\",\"2020-01-11T00:00:00\",\"2020-01-12T00:00:00\",\"2020-01-13T00:00:00\",\"2020-01-14T00:00:00\",\"2020-01-15T00:00:00\",\"2020-01-16T00:00:00\",\"2020-01-17T00:00:00\",\"2020-01-18T00:00:00\",\"2020-01-19T00:00:00\",\"2020-01-20T00:00:00\",\"2020-01-21T00:00:00\",\"2020-01-22T00:00:00\",\"2020-01-23T00:00:00\",\"2020-01-24T00:00:00\",\"2020-01-25T00:00:00\",\"2020-01-26T00:00:00\",\"2020-01-27T00:00:00\",\"2020-01-28T00:00:00\",\"2020-01-29T00:00:00\",\"2020-01-30T00:00:00\",\"2020-01-31T00:00:00\",\"2020-02-01T00:00:00\",\"2020-02-02T00:00:00\",\"2020-02-03T00:00:00\",\"2020-02-04T00:00:00\",\"2020-02-05T00:00:00\",\"2020-02-06T00:00:00\",\"2020-02-07T00:00:00\",\"2020-02-08T00:00:00\",\"2020-02-09T00:00:00\",\"2020-02-10T00:00:00\",\"2020-02-11T00:00:00\",\"2020-02-12T00:00:00\",\"2020-02-13T00:00:00\",\"2020-02-14T00:00:00\",\"2020-02-15T00:00:00\",\"2020-02-16T00:00:00\",\"2020-02-17T00:00:00\",\"2020-02-18T00:00:00\",\"2020-02-19T00:00:00\",\"2020-02-20T00:00:00\",\"2020-02-21T00:00:00\",\"2020-02-22T00:00:00\",\"2020-02-23T00:00:00\",\"2020-02-24T00:00:00\",\"2020-02-25T00:00:00\",\"2020-02-26T00:00:00\",\"2020-02-27T00:00:00\",\"2020-02-28T00:00:00\",\"2020-02-29T00:00:00\",\"2020-03-01T00:00:00\",\"2020-03-02T00:00:00\",\"2020-03-03T00:00:00\",\"2020-03-04T00:00:00\",\"2020-03-05T00:00:00\",\"2020-03-06T00:00:00\",\"2020-03-07T00:00:00\",\"2020-03-08T00:00:00\",\"2020-03-09T00:00:00\",\"2020-03-10T00:00:00\",\"2020-03-11T00:00:00\",\"2020-03-12T00:00:00\",\"2020-03-13T00:00:00\",\"2020-03-14T00:00:00\",\"2020-03-15T00:00:00\",\"2020-03-16T00:00:00\",\"2020-03-17T00:00:00\",\"2020-03-18T00:00:00\",\"2020-03-19T00:00:00\",\"2020-03-20T00:00:00\",\"2020-03-21T00:00:00\",\"2020-03-22T00:00:00\",\"2020-03-23T00:00:00\",\"2020-03-24T00:00:00\",\"2020-03-25T00:00:00\",\"2020-03-26T00:00:00\",\"2020-03-27T00:00:00\",\"2020-03-28T00:00:00\",\"2020-03-29T00:00:00\",\"2020-03-30T00:00:00\",\"2020-03-31T00:00:00\",\"2020-04-01T00:00:00\",\"2020-04-02T00:00:00\",\"2020-04-03T00:00:00\",\"2020-04-04T00:00:00\",\"2020-04-05T00:00:00\",\"2020-04-06T00:00:00\",\"2020-04-07T00:00:00\",\"2020-04-08T00:00:00\",\"2020-04-09T00:00:00\",\"2020-04-10T00:00:00\",\"2020-04-11T00:00:00\",\"2020-04-12T00:00:00\",\"2020-04-13T00:00:00\",\"2020-04-14T00:00:00\",\"2020-04-15T00:00:00\",\"2020-04-16T00:00:00\",\"2020-04-17T00:00:00\",\"2020-04-18T00:00:00\",\"2020-04-19T00:00:00\",\"2020-04-20T00:00:00\",\"2020-04-21T00:00:00\",\"2020-04-22T00:00:00\",\"2020-04-23T00:00:00\",\"2020-04-24T00:00:00\",\"2020-04-25T00:00:00\",\"2020-04-26T00:00:00\",\"2020-04-27T00:00:00\",\"2020-04-27T23:59:59.999999999\"],\"y\":[0.14955399974142047,0.13586662996783147,0.1316987154702048,0.1365788067108258,0.12930705918463306,0.1194723781453696,0.12875059286751186,0.13864358396156548,0.1420631605008087,0.14021367520860537,0.13501468843184916,0.11291313457392822,0.1227356822414059,0.11024911926002928,0.14800426518587542,0.11064222576661333,0.10032138133249362,0.14176811465704928,0.12293475886931926,0.10819702478183106,0.11496444203327334,0.10109084200059336,0.14837766508343275,0.12696683711023507,0.11300854139879302,0.11895443943141316,0.10472792180633521,0.1403705109637385,0.10912711325615425,0.11278708306484937,0.09998076819286124,0.09992371639716036,0.09873734373066685,0.12015595459082044,0.09509090466776199,0.11676912696967286,0.1243240276725116,0.14077951476669623,0.1296768128904728,0.10151250729707922,0.08925397647692919,0.10387538070214193,0.09769397409777451,0.11397467642114173,0.10474839848501098,0.12868993229397555,0.12077304254810539,0.11914965661904155,0.11683368515657132,0.13530766317616705,0.18272237219213752,0.17040276963031276,0.13141680160384314,0.12650864938978873,0.12863303486652367,0.13877359647423926,0.1401450444887057,0.2770632162584378,0.2574752590526653,0.22904747813291224,0.24851694085330892,0.26425938393172316,0.2320249766674888,0.23249200674215853,0.22946334235320298,0.20279852163372414,0.19051761338444193,0.19819303564839205,0.19436366743918512,0.21230735902303735,0.1974577457865081,0.21693420357165985,0.22103995621136927,0.127700292041294,0.11577487829174331,0.11365751780039035,0.10304076394583267,0.1685812409850481,0.1720123999118762,0.10055614322899259,0.13818953423379746,0.0912612788220301,0.10505915478347287,0.13830781824284297,0.12942950540060036,0.13900113395259814,0.11829563625947544,0.15341098324881125,0.10333084782790518,0.11807767966974879,0.11025889737040968,0.15402083454002433,0.1136004354919871,0.10289955541456697,0.11429945098807347,0.1324594357775205,0.11497297156243179,0.13659139214420046,0.18124517611132476,0.22612702757208777,0.24451688046997952,0.27568855308321605,0.24246733474714036,0.1910583553747526,0.1583358157992645,0.14452672088128263,0.1377505590199887,0.1449530336241158,0.13453209719008064,0.16315967141683438,0.1634310626656399,0.14762865988877882,0.13487623044424188,0.1409820919324534,0.18082630121466658,0.1815642913871789,0.13483015696366804,0.1350362790702003,0.11722930429298627,0.12168869839222435,0.11821614818703574,0.11035499955108134,0.13486682908621783,0.12538699164255246,0.1425000299947499,0.09803650748045671,0.09803650748045671],\"type\":\"scatter\",\"xaxis\":\"x\",\"yaxis\":\"y\"},{\"customdata\":[[\"Estimated \\u003cb\\u003eMAPE\\u003c\\u002fb\\u003e\",\"\\u003cb style=\\\"color:#3b0280;line-height:60px\\\"\\u003eAnalysis\\u003c\\u002fb\\u003e\",\"\",\"2019-12-24\",\"From \\u003cb\\u003eDec-24-2019\\u003c\\u002fb\\u003e to \\u003cb\\u003eDec-24-2019\\u003c\\u002fb\\u003e\",0.1496,0.1038],[\"Estimated \\u003cb\\u003eMAPE\\u003c\\u002fb\\u003e\",\"\\u003cb style=\\\"color:#3b0280;line-height:60px\\\"\\u003eAnalysis\\u003c\\u002fb\\u003e\",\"\",\"2019-12-25\",\"From \\u003cb\\u003eDec-25-2019\\u003c\\u002fb\\u003e to \\u003cb\\u003eDec-25-2019\\u003c\\u002fb\\u003e\",0.1359,0.0948],[\"Estimated \\u003cb\\u003eMAPE\\u003c\\u002fb\\u003e\",\"\\u003cb style=\\\"color:#3b0280;line-height:60px\\\"\\u003eAnalysis\\u003c\\u002fb\\u003e\",\"\",\"2019-12-26\",\"From \\u003cb\\u003eDec-26-2019\\u003c\\u002fb\\u003e to \\u003cb\\u003eDec-26-2019\\u003c\\u002fb\\u003e\",0.1317,0.0948],[\"Estimated \\u003cb\\u003eMAPE\\u003c\\u002fb\\u003e\",\"\\u003cb style=\\\"color:#3b0280;line-height:60px\\\"\\u003eAnalysis\\u003c\\u002fb\\u003e\",\"\",\"2019-12-27\",\"From \\u003cb\\u003eDec-27-2019\\u003c\\u002fb\\u003e to \\u003cb\\u003eDec-27-2019\\u003c\\u002fb\\u003e\",0.1366,0.0948],[\"Estimated \\u003cb\\u003eMAPE\\u003c\\u002fb\\u003e\",\"\\u003cb style=\\\"color:#3b0280;line-height:60px\\\"\\u003eAnalysis\\u003c\\u002fb\\u003e\",\"\",\"2019-12-28\",\"From \\u003cb\\u003eDec-28-2019\\u003c\\u002fb\\u003e to \\u003cb\\u003eDec-28-2019\\u003c\\u002fb\\u003e\",0.1293,0.0948],[\"Estimated \\u003cb\\u003eMAPE\\u003c\\u002fb\\u003e\",\"\\u003cb style=\\\"color:#3b0280;line-height:60px\\\"\\u003eAnalysis\\u003c\\u002fb\\u003e\",\"\",\"2019-12-29\",\"From \\u003cb\\u003eDec-29-2019\\u003c\\u002fb\\u003e to \\u003cb\\u003eDec-29-2019\\u003c\\u002fb\\u003e\",0.1195,0.0948],[\"Estimated \\u003cb\\u003eMAPE\\u003c\\u002fb\\u003e\",\"\\u003cb style=\\\"color:#3b0280;line-height:60px\\\"\\u003eAnalysis\\u003c\\u002fb\\u003e\",\"\",\"2019-12-30\",\"From \\u003cb\\u003eDec-30-2019\\u003c\\u002fb\\u003e to \\u003cb\\u003eDec-30-2019\\u003c\\u002fb\\u003e\",0.1288,0.0948],[\"Estimated \\u003cb\\u003eMAPE\\u003c\\u002fb\\u003e\",\"\\u003cb style=\\\"color:#3b0280;line-height:60px\\\"\\u003eAnalysis\\u003c\\u002fb\\u003e\",\"\",\"2019-12-31\",\"From \\u003cb\\u003eDec-31-2019\\u003c\\u002fb\\u003e to \\u003cb\\u003eDec-31-2019\\u003c\\u002fb\\u003e\",0.1386,0.0948],[\"Estimated \\u003cb\\u003eMAPE\\u003c\\u002fb\\u003e\",\"\\u003cb style=\\\"color:#3b0280;line-height:60px\\\"\\u003eAnalysis\\u003c\\u002fb\\u003e\",\"\",\"2020-01-01\",\"From \\u003cb\\u003eJan-01-2020\\u003c\\u002fb\\u003e to \\u003cb\\u003eJan-01-2020\\u003c\\u002fb\\u003e\",0.1421,0.0948],[\"Estimated \\u003cb\\u003eMAPE\\u003c\\u002fb\\u003e\",\"\\u003cb style=\\\"color:#3b0280;line-height:60px\\\"\\u003eAnalysis\\u003c\\u002fb\\u003e\",\"\",\"2020-01-02\",\"From \\u003cb\\u003eJan-02-2020\\u003c\\u002fb\\u003e to \\u003cb\\u003eJan-02-2020\\u003c\\u002fb\\u003e\",0.1402,0.0948],[\"Estimated \\u003cb\\u003eMAPE\\u003c\\u002fb\\u003e\",\"\\u003cb style=\\\"color:#3b0280;line-height:60px\\\"\\u003eAnalysis\\u003c\\u002fb\\u003e\",\"\",\"2020-01-03\",\"From \\u003cb\\u003eJan-03-2020\\u003c\\u002fb\\u003e to \\u003cb\\u003eJan-03-2020\\u003c\\u002fb\\u003e\",0.135,0.0948],[\"Estimated \\u003cb\\u003eMAPE\\u003c\\u002fb\\u003e\",\"\\u003cb style=\\\"color:#3b0280;line-height:60px\\\"\\u003eAnalysis\\u003c\\u002fb\\u003e\",\"\",\"2020-01-04\",\"From \\u003cb\\u003eJan-04-2020\\u003c\\u002fb\\u003e to \\u003cb\\u003eJan-04-2020\\u003c\\u002fb\\u003e\",0.1129,0.0948],[\"Estimated \\u003cb\\u003eMAPE\\u003c\\u002fb\\u003e\",\"\\u003cb style=\\\"color:#3b0280;line-height:60px\\\"\\u003eAnalysis\\u003c\\u002fb\\u003e\",\"\",\"2020-01-05\",\"From \\u003cb\\u003eJan-05-2020\\u003c\\u002fb\\u003e to \\u003cb\\u003eJan-05-2020\\u003c\\u002fb\\u003e\",0.1227,0.0948],[\"Estimated \\u003cb\\u003eMAPE\\u003c\\u002fb\\u003e\",\"\\u003cb style=\\\"color:#3b0280;line-height:60px\\\"\\u003eAnalysis\\u003c\\u002fb\\u003e\",\"\",\"2020-01-06\",\"From \\u003cb\\u003eJan-06-2020\\u003c\\u002fb\\u003e to \\u003cb\\u003eJan-06-2020\\u003c\\u002fb\\u003e\",0.1102,0.0948],[\"Estimated \\u003cb\\u003eMAPE\\u003c\\u002fb\\u003e\",\"\\u003cb style=\\\"color:#3b0280;line-height:60px\\\"\\u003eAnalysis\\u003c\\u002fb\\u003e\",\"\",\"2020-01-07\",\"From \\u003cb\\u003eJan-07-2020\\u003c\\u002fb\\u003e to \\u003cb\\u003eJan-07-2020\\u003c\\u002fb\\u003e\",0.148,0.0948],[\"Estimated \\u003cb\\u003eMAPE\\u003c\\u002fb\\u003e\",\"\\u003cb style=\\\"color:#3b0280;line-height:60px\\\"\\u003eAnalysis\\u003c\\u002fb\\u003e\",\"\",\"2020-01-08\",\"From \\u003cb\\u003eJan-08-2020\\u003c\\u002fb\\u003e to \\u003cb\\u003eJan-08-2020\\u003c\\u002fb\\u003e\",0.1106,0.0948],[\"Estimated \\u003cb\\u003eMAPE\\u003c\\u002fb\\u003e\",\"\\u003cb style=\\\"color:#3b0280;line-height:60px\\\"\\u003eAnalysis\\u003c\\u002fb\\u003e\",\"\",\"2020-01-09\",\"From \\u003cb\\u003eJan-09-2020\\u003c\\u002fb\\u003e to \\u003cb\\u003eJan-09-2020\\u003c\\u002fb\\u003e\",0.1003,0.0948],[\"Estimated \\u003cb\\u003eMAPE\\u003c\\u002fb\\u003e\",\"\\u003cb style=\\\"color:#3b0280;line-height:60px\\\"\\u003eAnalysis\\u003c\\u002fb\\u003e\",\"\",\"2020-01-10\",\"From \\u003cb\\u003eJan-10-2020\\u003c\\u002fb\\u003e to \\u003cb\\u003eJan-10-2020\\u003c\\u002fb\\u003e\",0.1418,0.0948],[\"Estimated \\u003cb\\u003eMAPE\\u003c\\u002fb\\u003e\",\"\\u003cb style=\\\"color:#3b0280;line-height:60px\\\"\\u003eAnalysis\\u003c\\u002fb\\u003e\",\"\",\"2020-01-11\",\"From \\u003cb\\u003eJan-11-2020\\u003c\\u002fb\\u003e to \\u003cb\\u003eJan-11-2020\\u003c\\u002fb\\u003e\",0.1229,0.0948],[\"Estimated \\u003cb\\u003eMAPE\\u003c\\u002fb\\u003e\",\"\\u003cb style=\\\"color:#3b0280;line-height:60px\\\"\\u003eAnalysis\\u003c\\u002fb\\u003e\",\"\",\"2020-01-12\",\"From \\u003cb\\u003eJan-12-2020\\u003c\\u002fb\\u003e to \\u003cb\\u003eJan-12-2020\\u003c\\u002fb\\u003e\",0.1082,0.0948],[\"Estimated \\u003cb\\u003eMAPE\\u003c\\u002fb\\u003e\",\"\\u003cb style=\\\"color:#3b0280;line-height:60px\\\"\\u003eAnalysis\\u003c\\u002fb\\u003e\",\"\",\"2020-01-13\",\"From \\u003cb\\u003eJan-13-2020\\u003c\\u002fb\\u003e to \\u003cb\\u003eJan-13-2020\\u003c\\u002fb\\u003e\",0.115,0.0948],[\"Estimated \\u003cb\\u003eMAPE\\u003c\\u002fb\\u003e\",\"\\u003cb style=\\\"color:#3b0280;line-height:60px\\\"\\u003eAnalysis\\u003c\\u002fb\\u003e\",\"\",\"2020-01-14\",\"From \\u003cb\\u003eJan-14-2020\\u003c\\u002fb\\u003e to \\u003cb\\u003eJan-14-2020\\u003c\\u002fb\\u003e\",0.1011,0.0948],[\"Estimated \\u003cb\\u003eMAPE\\u003c\\u002fb\\u003e\",\"\\u003cb style=\\\"color:#3b0280;line-height:60px\\\"\\u003eAnalysis\\u003c\\u002fb\\u003e\",\"\",\"2020-01-15\",\"From \\u003cb\\u003eJan-15-2020\\u003c\\u002fb\\u003e to \\u003cb\\u003eJan-15-2020\\u003c\\u002fb\\u003e\",0.1484,0.0948],[\"Estimated \\u003cb\\u003eMAPE\\u003c\\u002fb\\u003e\",\"\\u003cb style=\\\"color:#3b0280;line-height:60px\\\"\\u003eAnalysis\\u003c\\u002fb\\u003e\",\"\",\"2020-01-16\",\"From \\u003cb\\u003eJan-16-2020\\u003c\\u002fb\\u003e to \\u003cb\\u003eJan-16-2020\\u003c\\u002fb\\u003e\",0.127,0.0948],[\"Estimated \\u003cb\\u003eMAPE\\u003c\\u002fb\\u003e\",\"\\u003cb style=\\\"color:#3b0280;line-height:60px\\\"\\u003eAnalysis\\u003c\\u002fb\\u003e\",\"\",\"2020-01-17\",\"From \\u003cb\\u003eJan-17-2020\\u003c\\u002fb\\u003e to \\u003cb\\u003eJan-17-2020\\u003c\\u002fb\\u003e\",0.113,0.0948],[\"Estimated \\u003cb\\u003eMAPE\\u003c\\u002fb\\u003e\",\"\\u003cb style=\\\"color:#3b0280;line-height:60px\\\"\\u003eAnalysis\\u003c\\u002fb\\u003e\",\"\",\"2020-01-18\",\"From \\u003cb\\u003eJan-18-2020\\u003c\\u002fb\\u003e to \\u003cb\\u003eJan-18-2020\\u003c\\u002fb\\u003e\",0.119,0.0948],[\"Estimated \\u003cb\\u003eMAPE\\u003c\\u002fb\\u003e\",\"\\u003cb style=\\\"color:#3b0280;line-height:60px\\\"\\u003eAnalysis\\u003c\\u002fb\\u003e\",\"\",\"2020-01-19\",\"From \\u003cb\\u003eJan-19-2020\\u003c\\u002fb\\u003e to \\u003cb\\u003eJan-19-2020\\u003c\\u002fb\\u003e\",0.1047,0.0948],[\"Estimated \\u003cb\\u003eMAPE\\u003c\\u002fb\\u003e\",\"\\u003cb style=\\\"color:#3b0280;line-height:60px\\\"\\u003eAnalysis\\u003c\\u002fb\\u003e\",\"\",\"2020-01-20\",\"From \\u003cb\\u003eJan-20-2020\\u003c\\u002fb\\u003e to \\u003cb\\u003eJan-20-2020\\u003c\\u002fb\\u003e\",0.1404,0.0948],[\"Estimated \\u003cb\\u003eMAPE\\u003c\\u002fb\\u003e\",\"\\u003cb style=\\\"color:#3b0280;line-height:60px\\\"\\u003eAnalysis\\u003c\\u002fb\\u003e\",\"\",\"2020-01-21\",\"From \\u003cb\\u003eJan-21-2020\\u003c\\u002fb\\u003e to \\u003cb\\u003eJan-21-2020\\u003c\\u002fb\\u003e\",0.1091,0.0948],[\"Estimated \\u003cb\\u003eMAPE\\u003c\\u002fb\\u003e\",\"\\u003cb style=\\\"color:#3b0280;line-height:60px\\\"\\u003eAnalysis\\u003c\\u002fb\\u003e\",\"\",\"2020-01-22\",\"From \\u003cb\\u003eJan-22-2020\\u003c\\u002fb\\u003e to \\u003cb\\u003eJan-22-2020\\u003c\\u002fb\\u003e\",0.1128,0.0948],[\"Estimated \\u003cb\\u003eMAPE\\u003c\\u002fb\\u003e\",\"\\u003cb style=\\\"color:#3b0280;line-height:60px\\\"\\u003eAnalysis\\u003c\\u002fb\\u003e\",\"\",\"2020-01-23\",\"From \\u003cb\\u003eJan-23-2020\\u003c\\u002fb\\u003e to \\u003cb\\u003eJan-23-2020\\u003c\\u002fb\\u003e\",0.1,0.0948],[\"Estimated \\u003cb\\u003eMAPE\\u003c\\u002fb\\u003e\",\"\\u003cb style=\\\"color:#3b0280;line-height:60px\\\"\\u003eAnalysis\\u003c\\u002fb\\u003e\",\"\",\"2020-01-24\",\"From \\u003cb\\u003eJan-24-2020\\u003c\\u002fb\\u003e to \\u003cb\\u003eJan-24-2020\\u003c\\u002fb\\u003e\",0.0999,0.0948],[\"Estimated \\u003cb\\u003eMAPE\\u003c\\u002fb\\u003e\",\"\\u003cb style=\\\"color:#3b0280;line-height:60px\\\"\\u003eAnalysis\\u003c\\u002fb\\u003e\",\"\",\"2020-01-25\",\"From \\u003cb\\u003eJan-25-2020\\u003c\\u002fb\\u003e to \\u003cb\\u003eJan-25-2020\\u003c\\u002fb\\u003e\",0.0987,0.0948],[\"Estimated \\u003cb\\u003eMAPE\\u003c\\u002fb\\u003e\",\"\\u003cb style=\\\"color:#3b0280;line-height:60px\\\"\\u003eAnalysis\\u003c\\u002fb\\u003e\",\"\",\"2020-01-26\",\"From \\u003cb\\u003eJan-26-2020\\u003c\\u002fb\\u003e to \\u003cb\\u003eJan-26-2020\\u003c\\u002fb\\u003e\",0.1202,0.0948],[\"Estimated \\u003cb\\u003eMAPE\\u003c\\u002fb\\u003e\",\"\\u003cb style=\\\"color:#3b0280;line-height:60px\\\"\\u003eAnalysis\\u003c\\u002fb\\u003e\",\"\",\"2020-01-27\",\"From \\u003cb\\u003eJan-27-2020\\u003c\\u002fb\\u003e to \\u003cb\\u003eJan-27-2020\\u003c\\u002fb\\u003e\",0.0951,0.0948],[\"Estimated \\u003cb\\u003eMAPE\\u003c\\u002fb\\u003e\",\"\\u003cb style=\\\"color:#3b0280;line-height:60px\\\"\\u003eAnalysis\\u003c\\u002fb\\u003e\",\"\",\"2020-01-28\",\"From \\u003cb\\u003eJan-28-2020\\u003c\\u002fb\\u003e to \\u003cb\\u003eJan-28-2020\\u003c\\u002fb\\u003e\",0.1168,0.0948],[\"Estimated \\u003cb\\u003eMAPE\\u003c\\u002fb\\u003e\",\"\\u003cb style=\\\"color:#3b0280;line-height:60px\\\"\\u003eAnalysis\\u003c\\u002fb\\u003e\",\"\",\"2020-01-29\",\"From \\u003cb\\u003eJan-29-2020\\u003c\\u002fb\\u003e to \\u003cb\\u003eJan-29-2020\\u003c\\u002fb\\u003e\",0.1243,0.0948],[\"Estimated \\u003cb\\u003eMAPE\\u003c\\u002fb\\u003e\",\"\\u003cb style=\\\"color:#3b0280;line-height:60px\\\"\\u003eAnalysis\\u003c\\u002fb\\u003e\",\"\",\"2020-01-30\",\"From \\u003cb\\u003eJan-30-2020\\u003c\\u002fb\\u003e to \\u003cb\\u003eJan-30-2020\\u003c\\u002fb\\u003e\",0.1408,0.0948],[\"Estimated \\u003cb\\u003eMAPE\\u003c\\u002fb\\u003e\",\"\\u003cb style=\\\"color:#3b0280;line-height:60px\\\"\\u003eAnalysis\\u003c\\u002fb\\u003e\",\"\",\"2020-01-31\",\"From \\u003cb\\u003eJan-31-2020\\u003c\\u002fb\\u003e to \\u003cb\\u003eJan-31-2020\\u003c\\u002fb\\u003e\",0.1297,0.0948],[\"Estimated \\u003cb\\u003eMAPE\\u003c\\u002fb\\u003e\",\"\\u003cb style=\\\"color:#3b0280;line-height:60px\\\"\\u003eAnalysis\\u003c\\u002fb\\u003e\",\"\",\"2020-02-01\",\"From \\u003cb\\u003eFeb-01-2020\\u003c\\u002fb\\u003e to \\u003cb\\u003eFeb-01-2020\\u003c\\u002fb\\u003e\",0.1015,0.0948],[\"Estimated \\u003cb\\u003eMAPE\\u003c\\u002fb\\u003e\",\"\\u003cb style=\\\"color:#3b0280;line-height:60px\\\"\\u003eAnalysis\\u003c\\u002fb\\u003e\",\"\",\"2020-02-02\",\"From \\u003cb\\u003eFeb-02-2020\\u003c\\u002fb\\u003e to \\u003cb\\u003eFeb-02-2020\\u003c\\u002fb\\u003e\",0.0893,0.0948],[\"Estimated \\u003cb\\u003eMAPE\\u003c\\u002fb\\u003e\",\"\\u003cb style=\\\"color:#3b0280;line-height:60px\\\"\\u003eAnalysis\\u003c\\u002fb\\u003e\",\"\",\"2020-02-03\",\"From \\u003cb\\u003eFeb-03-2020\\u003c\\u002fb\\u003e to \\u003cb\\u003eFeb-03-2020\\u003c\\u002fb\\u003e\",0.1039,0.0948],[\"Estimated \\u003cb\\u003eMAPE\\u003c\\u002fb\\u003e\",\"\\u003cb style=\\\"color:#3b0280;line-height:60px\\\"\\u003eAnalysis\\u003c\\u002fb\\u003e\",\"\",\"2020-02-04\",\"From \\u003cb\\u003eFeb-04-2020\\u003c\\u002fb\\u003e to \\u003cb\\u003eFeb-04-2020\\u003c\\u002fb\\u003e\",0.0977,0.0948],[\"Estimated \\u003cb\\u003eMAPE\\u003c\\u002fb\\u003e\",\"\\u003cb style=\\\"color:#3b0280;line-height:60px\\\"\\u003eAnalysis\\u003c\\u002fb\\u003e\",\"\",\"2020-02-05\",\"From \\u003cb\\u003eFeb-05-2020\\u003c\\u002fb\\u003e to \\u003cb\\u003eFeb-05-2020\\u003c\\u002fb\\u003e\",0.114,0.0948],[\"Estimated \\u003cb\\u003eMAPE\\u003c\\u002fb\\u003e\",\"\\u003cb style=\\\"color:#3b0280;line-height:60px\\\"\\u003eAnalysis\\u003c\\u002fb\\u003e\",\"\",\"2020-02-06\",\"From \\u003cb\\u003eFeb-06-2020\\u003c\\u002fb\\u003e to \\u003cb\\u003eFeb-06-2020\\u003c\\u002fb\\u003e\",0.1047,0.0948],[\"Estimated \\u003cb\\u003eMAPE\\u003c\\u002fb\\u003e\",\"\\u003cb style=\\\"color:#3b0280;line-height:60px\\\"\\u003eAnalysis\\u003c\\u002fb\\u003e\",\"\",\"2020-02-07\",\"From \\u003cb\\u003eFeb-07-2020\\u003c\\u002fb\\u003e to \\u003cb\\u003eFeb-07-2020\\u003c\\u002fb\\u003e\",0.1287,0.0948],[\"Estimated \\u003cb\\u003eMAPE\\u003c\\u002fb\\u003e\",\"\\u003cb style=\\\"color:#3b0280;line-height:60px\\\"\\u003eAnalysis\\u003c\\u002fb\\u003e\",\"\",\"2020-02-08\",\"From \\u003cb\\u003eFeb-08-2020\\u003c\\u002fb\\u003e to \\u003cb\\u003eFeb-08-2020\\u003c\\u002fb\\u003e\",0.1208,0.0948],[\"Estimated \\u003cb\\u003eMAPE\\u003c\\u002fb\\u003e\",\"\\u003cb style=\\\"color:#3b0280;line-height:60px\\\"\\u003eAnalysis\\u003c\\u002fb\\u003e\",\"\",\"2020-02-09\",\"From \\u003cb\\u003eFeb-09-2020\\u003c\\u002fb\\u003e to \\u003cb\\u003eFeb-09-2020\\u003c\\u002fb\\u003e\",0.1191,0.0948],[\"Estimated \\u003cb\\u003eMAPE\\u003c\\u002fb\\u003e\",\"\\u003cb style=\\\"color:#3b0280;line-height:60px\\\"\\u003eAnalysis\\u003c\\u002fb\\u003e\",\"\",\"2020-02-10\",\"From \\u003cb\\u003eFeb-10-2020\\u003c\\u002fb\\u003e to \\u003cb\\u003eFeb-10-2020\\u003c\\u002fb\\u003e\",0.1168,0.0948],[\"Estimated \\u003cb\\u003eMAPE\\u003c\\u002fb\\u003e\",\"\\u003cb style=\\\"color:#3b0280;line-height:60px\\\"\\u003eAnalysis\\u003c\\u002fb\\u003e\",\"\",\"2020-02-11\",\"From \\u003cb\\u003eFeb-11-2020\\u003c\\u002fb\\u003e to \\u003cb\\u003eFeb-11-2020\\u003c\\u002fb\\u003e\",0.1353,0.0948],[\"Estimated \\u003cb\\u003eMAPE\\u003c\\u002fb\\u003e\",\"\\u003cb style=\\\"color:#3b0280;line-height:60px\\\"\\u003eAnalysis\\u003c\\u002fb\\u003e\",\"\",\"2020-02-12\",\"From \\u003cb\\u003eFeb-12-2020\\u003c\\u002fb\\u003e to \\u003cb\\u003eFeb-12-2020\\u003c\\u002fb\\u003e\",0.1827,0.0948],[\"Estimated \\u003cb\\u003eMAPE\\u003c\\u002fb\\u003e\",\"\\u003cb style=\\\"color:#3b0280;line-height:60px\\\"\\u003eAnalysis\\u003c\\u002fb\\u003e\",\"\",\"2020-02-13\",\"From \\u003cb\\u003eFeb-13-2020\\u003c\\u002fb\\u003e to \\u003cb\\u003eFeb-13-2020\\u003c\\u002fb\\u003e\",0.1704,0.0948],[\"Estimated \\u003cb\\u003eMAPE\\u003c\\u002fb\\u003e\",\"\\u003cb style=\\\"color:#3b0280;line-height:60px\\\"\\u003eAnalysis\\u003c\\u002fb\\u003e\",\"\",\"2020-02-14\",\"From \\u003cb\\u003eFeb-14-2020\\u003c\\u002fb\\u003e to \\u003cb\\u003eFeb-14-2020\\u003c\\u002fb\\u003e\",0.1314,0.0948],[\"Estimated \\u003cb\\u003eMAPE\\u003c\\u002fb\\u003e\",\"\\u003cb style=\\\"color:#3b0280;line-height:60px\\\"\\u003eAnalysis\\u003c\\u002fb\\u003e\",\"\",\"2020-02-15\",\"From \\u003cb\\u003eFeb-15-2020\\u003c\\u002fb\\u003e to \\u003cb\\u003eFeb-15-2020\\u003c\\u002fb\\u003e\",0.1265,0.0948],[\"Estimated \\u003cb\\u003eMAPE\\u003c\\u002fb\\u003e\",\"\\u003cb style=\\\"color:#3b0280;line-height:60px\\\"\\u003eAnalysis\\u003c\\u002fb\\u003e\",\"\",\"2020-02-16\",\"From \\u003cb\\u003eFeb-16-2020\\u003c\\u002fb\\u003e to \\u003cb\\u003eFeb-16-2020\\u003c\\u002fb\\u003e\",0.1286,0.0948],[\"Estimated \\u003cb\\u003eMAPE\\u003c\\u002fb\\u003e\",\"\\u003cb style=\\\"color:#3b0280;line-height:60px\\\"\\u003eAnalysis\\u003c\\u002fb\\u003e\",\"\",\"2020-02-17\",\"From \\u003cb\\u003eFeb-17-2020\\u003c\\u002fb\\u003e to \\u003cb\\u003eFeb-17-2020\\u003c\\u002fb\\u003e\",0.1388,0.0948],[\"Estimated \\u003cb\\u003eMAPE\\u003c\\u002fb\\u003e\",\"\\u003cb style=\\\"color:#3b0280;line-height:60px\\\"\\u003eAnalysis\\u003c\\u002fb\\u003e\",\"\",\"2020-02-18\",\"From \\u003cb\\u003eFeb-18-2020\\u003c\\u002fb\\u003e to \\u003cb\\u003eFeb-18-2020\\u003c\\u002fb\\u003e\",0.1401,0.0948],[\"Estimated \\u003cb\\u003eMAPE\\u003c\\u002fb\\u003e\",\"\\u003cb style=\\\"color:#3b0280;line-height:60px\\\"\\u003eAnalysis\\u003c\\u002fb\\u003e\",\"\\u003cspan style=\\\"color:#AD0000\\\"\\u003e\\u26a0 \\u003cb\\u003eDrift detected\\u003c\\u002fb\\u003e\\u003c\\u002fspan\\u003e\",\"2020-02-19\",\"From \\u003cb\\u003eFeb-19-2020\\u003c\\u002fb\\u003e to \\u003cb\\u003eFeb-19-2020\\u003c\\u002fb\\u003e\",0.2771,0.0948],[\"Estimated \\u003cb\\u003eMAPE\\u003c\\u002fb\\u003e\",\"\\u003cb style=\\\"color:#3b0280;line-height:60px\\\"\\u003eAnalysis\\u003c\\u002fb\\u003e\",\"\\u003cspan style=\\\"color:#AD0000\\\"\\u003e\\u26a0 \\u003cb\\u003eDrift detected\\u003c\\u002fb\\u003e\\u003c\\u002fspan\\u003e\",\"2020-02-20\",\"From \\u003cb\\u003eFeb-20-2020\\u003c\\u002fb\\u003e to \\u003cb\\u003eFeb-20-2020\\u003c\\u002fb\\u003e\",0.2575,0.0948],[\"Estimated \\u003cb\\u003eMAPE\\u003c\\u002fb\\u003e\",\"\\u003cb style=\\\"color:#3b0280;line-height:60px\\\"\\u003eAnalysis\\u003c\\u002fb\\u003e\",\"\",\"2020-02-21\",\"From \\u003cb\\u003eFeb-21-2020\\u003c\\u002fb\\u003e to \\u003cb\\u003eFeb-21-2020\\u003c\\u002fb\\u003e\",0.229,0.0948],[\"Estimated \\u003cb\\u003eMAPE\\u003c\\u002fb\\u003e\",\"\\u003cb style=\\\"color:#3b0280;line-height:60px\\\"\\u003eAnalysis\\u003c\\u002fb\\u003e\",\"\\u003cspan style=\\\"color:#AD0000\\\"\\u003e\\u26a0 \\u003cb\\u003eDrift detected\\u003c\\u002fb\\u003e\\u003c\\u002fspan\\u003e\",\"2020-02-22\",\"From \\u003cb\\u003eFeb-22-2020\\u003c\\u002fb\\u003e to \\u003cb\\u003eFeb-22-2020\\u003c\\u002fb\\u003e\",0.2485,0.0948],[\"Estimated \\u003cb\\u003eMAPE\\u003c\\u002fb\\u003e\",\"\\u003cb style=\\\"color:#3b0280;line-height:60px\\\"\\u003eAnalysis\\u003c\\u002fb\\u003e\",\"\\u003cspan style=\\\"color:#AD0000\\\"\\u003e\\u26a0 \\u003cb\\u003eDrift detected\\u003c\\u002fb\\u003e\\u003c\\u002fspan\\u003e\",\"2020-02-23\",\"From \\u003cb\\u003eFeb-23-2020\\u003c\\u002fb\\u003e to \\u003cb\\u003eFeb-23-2020\\u003c\\u002fb\\u003e\",0.2643,0.0948],[\"Estimated \\u003cb\\u003eMAPE\\u003c\\u002fb\\u003e\",\"\\u003cb style=\\\"color:#3b0280;line-height:60px\\\"\\u003eAnalysis\\u003c\\u002fb\\u003e\",\"\\u003cspan style=\\\"color:#AD0000\\\"\\u003e\\u26a0 \\u003cb\\u003eDrift detected\\u003c\\u002fb\\u003e\\u003c\\u002fspan\\u003e\",\"2020-02-24\",\"From \\u003cb\\u003eFeb-24-2020\\u003c\\u002fb\\u003e to \\u003cb\\u003eFeb-24-2020\\u003c\\u002fb\\u003e\",0.232,0.0948],[\"Estimated \\u003cb\\u003eMAPE\\u003c\\u002fb\\u003e\",\"\\u003cb style=\\\"color:#3b0280;line-height:60px\\\"\\u003eAnalysis\\u003c\\u002fb\\u003e\",\"\\u003cspan style=\\\"color:#AD0000\\\"\\u003e\\u26a0 \\u003cb\\u003eDrift detected\\u003c\\u002fb\\u003e\\u003c\\u002fspan\\u003e\",\"2020-02-25\",\"From \\u003cb\\u003eFeb-25-2020\\u003c\\u002fb\\u003e to \\u003cb\\u003eFeb-25-2020\\u003c\\u002fb\\u003e\",0.2325,0.0948],[\"Estimated \\u003cb\\u003eMAPE\\u003c\\u002fb\\u003e\",\"\\u003cb style=\\\"color:#3b0280;line-height:60px\\\"\\u003eAnalysis\\u003c\\u002fb\\u003e\",\"\",\"2020-02-26\",\"From \\u003cb\\u003eFeb-26-2020\\u003c\\u002fb\\u003e to \\u003cb\\u003eFeb-26-2020\\u003c\\u002fb\\u003e\",0.2295,0.0948],[\"Estimated \\u003cb\\u003eMAPE\\u003c\\u002fb\\u003e\",\"\\u003cb style=\\\"color:#3b0280;line-height:60px\\\"\\u003eAnalysis\\u003c\\u002fb\\u003e\",\"\",\"2020-02-27\",\"From \\u003cb\\u003eFeb-27-2020\\u003c\\u002fb\\u003e to \\u003cb\\u003eFeb-27-2020\\u003c\\u002fb\\u003e\",0.2028,0.0948],[\"Estimated \\u003cb\\u003eMAPE\\u003c\\u002fb\\u003e\",\"\\u003cb style=\\\"color:#3b0280;line-height:60px\\\"\\u003eAnalysis\\u003c\\u002fb\\u003e\",\"\",\"2020-02-28\",\"From \\u003cb\\u003eFeb-28-2020\\u003c\\u002fb\\u003e to \\u003cb\\u003eFeb-28-2020\\u003c\\u002fb\\u003e\",0.1905,0.0948],[\"Estimated \\u003cb\\u003eMAPE\\u003c\\u002fb\\u003e\",\"\\u003cb style=\\\"color:#3b0280;line-height:60px\\\"\\u003eAnalysis\\u003c\\u002fb\\u003e\",\"\",\"2020-02-29\",\"From \\u003cb\\u003eFeb-29-2020\\u003c\\u002fb\\u003e to \\u003cb\\u003eFeb-29-2020\\u003c\\u002fb\\u003e\",0.1982,0.0948],[\"Estimated \\u003cb\\u003eMAPE\\u003c\\u002fb\\u003e\",\"\\u003cb style=\\\"color:#3b0280;line-height:60px\\\"\\u003eAnalysis\\u003c\\u002fb\\u003e\",\"\",\"2020-03-01\",\"From \\u003cb\\u003eMar-01-2020\\u003c\\u002fb\\u003e to \\u003cb\\u003eMar-01-2020\\u003c\\u002fb\\u003e\",0.1944,0.0948],[\"Estimated \\u003cb\\u003eMAPE\\u003c\\u002fb\\u003e\",\"\\u003cb style=\\\"color:#3b0280;line-height:60px\\\"\\u003eAnalysis\\u003c\\u002fb\\u003e\",\"\",\"2020-03-02\",\"From \\u003cb\\u003eMar-02-2020\\u003c\\u002fb\\u003e to \\u003cb\\u003eMar-02-2020\\u003c\\u002fb\\u003e\",0.2123,0.0948],[\"Estimated \\u003cb\\u003eMAPE\\u003c\\u002fb\\u003e\",\"\\u003cb style=\\\"color:#3b0280;line-height:60px\\\"\\u003eAnalysis\\u003c\\u002fb\\u003e\",\"\",\"2020-03-03\",\"From \\u003cb\\u003eMar-03-2020\\u003c\\u002fb\\u003e to \\u003cb\\u003eMar-03-2020\\u003c\\u002fb\\u003e\",0.1975,0.0948],[\"Estimated \\u003cb\\u003eMAPE\\u003c\\u002fb\\u003e\",\"\\u003cb style=\\\"color:#3b0280;line-height:60px\\\"\\u003eAnalysis\\u003c\\u002fb\\u003e\",\"\",\"2020-03-04\",\"From \\u003cb\\u003eMar-04-2020\\u003c\\u002fb\\u003e to \\u003cb\\u003eMar-04-2020\\u003c\\u002fb\\u003e\",0.2169,0.0948],[\"Estimated \\u003cb\\u003eMAPE\\u003c\\u002fb\\u003e\",\"\\u003cb style=\\\"color:#3b0280;line-height:60px\\\"\\u003eAnalysis\\u003c\\u002fb\\u003e\",\"\",\"2020-03-05\",\"From \\u003cb\\u003eMar-05-2020\\u003c\\u002fb\\u003e to \\u003cb\\u003eMar-05-2020\\u003c\\u002fb\\u003e\",0.221,0.0948],[\"Estimated \\u003cb\\u003eMAPE\\u003c\\u002fb\\u003e\",\"\\u003cb style=\\\"color:#3b0280;line-height:60px\\\"\\u003eAnalysis\\u003c\\u002fb\\u003e\",\"\",\"2020-03-06\",\"From \\u003cb\\u003eMar-06-2020\\u003c\\u002fb\\u003e to \\u003cb\\u003eMar-06-2020\\u003c\\u002fb\\u003e\",0.1277,0.0948],[\"Estimated \\u003cb\\u003eMAPE\\u003c\\u002fb\\u003e\",\"\\u003cb style=\\\"color:#3b0280;line-height:60px\\\"\\u003eAnalysis\\u003c\\u002fb\\u003e\",\"\",\"2020-03-07\",\"From \\u003cb\\u003eMar-07-2020\\u003c\\u002fb\\u003e to \\u003cb\\u003eMar-07-2020\\u003c\\u002fb\\u003e\",0.1158,0.0948],[\"Estimated \\u003cb\\u003eMAPE\\u003c\\u002fb\\u003e\",\"\\u003cb style=\\\"color:#3b0280;line-height:60px\\\"\\u003eAnalysis\\u003c\\u002fb\\u003e\",\"\",\"2020-03-08\",\"From \\u003cb\\u003eMar-08-2020\\u003c\\u002fb\\u003e to \\u003cb\\u003eMar-08-2020\\u003c\\u002fb\\u003e\",0.1137,0.0948],[\"Estimated \\u003cb\\u003eMAPE\\u003c\\u002fb\\u003e\",\"\\u003cb style=\\\"color:#3b0280;line-height:60px\\\"\\u003eAnalysis\\u003c\\u002fb\\u003e\",\"\",\"2020-03-09\",\"From \\u003cb\\u003eMar-09-2020\\u003c\\u002fb\\u003e to \\u003cb\\u003eMar-09-2020\\u003c\\u002fb\\u003e\",0.103,0.0948],[\"Estimated \\u003cb\\u003eMAPE\\u003c\\u002fb\\u003e\",\"\\u003cb style=\\\"color:#3b0280;line-height:60px\\\"\\u003eAnalysis\\u003c\\u002fb\\u003e\",\"\",\"2020-03-10\",\"From \\u003cb\\u003eMar-10-2020\\u003c\\u002fb\\u003e to \\u003cb\\u003eMar-10-2020\\u003c\\u002fb\\u003e\",0.1686,0.0948],[\"Estimated \\u003cb\\u003eMAPE\\u003c\\u002fb\\u003e\",\"\\u003cb style=\\\"color:#3b0280;line-height:60px\\\"\\u003eAnalysis\\u003c\\u002fb\\u003e\",\"\",\"2020-03-11\",\"From \\u003cb\\u003eMar-11-2020\\u003c\\u002fb\\u003e to \\u003cb\\u003eMar-11-2020\\u003c\\u002fb\\u003e\",0.172,0.0948],[\"Estimated \\u003cb\\u003eMAPE\\u003c\\u002fb\\u003e\",\"\\u003cb style=\\\"color:#3b0280;line-height:60px\\\"\\u003eAnalysis\\u003c\\u002fb\\u003e\",\"\",\"2020-03-12\",\"From \\u003cb\\u003eMar-12-2020\\u003c\\u002fb\\u003e to \\u003cb\\u003eMar-12-2020\\u003c\\u002fb\\u003e\",0.1006,0.0948],[\"Estimated \\u003cb\\u003eMAPE\\u003c\\u002fb\\u003e\",\"\\u003cb style=\\\"color:#3b0280;line-height:60px\\\"\\u003eAnalysis\\u003c\\u002fb\\u003e\",\"\",\"2020-03-13\",\"From \\u003cb\\u003eMar-13-2020\\u003c\\u002fb\\u003e to \\u003cb\\u003eMar-13-2020\\u003c\\u002fb\\u003e\",0.1382,0.0948],[\"Estimated \\u003cb\\u003eMAPE\\u003c\\u002fb\\u003e\",\"\\u003cb style=\\\"color:#3b0280;line-height:60px\\\"\\u003eAnalysis\\u003c\\u002fb\\u003e\",\"\",\"2020-03-14\",\"From \\u003cb\\u003eMar-14-2020\\u003c\\u002fb\\u003e to \\u003cb\\u003eMar-14-2020\\u003c\\u002fb\\u003e\",0.0913,0.0948],[\"Estimated \\u003cb\\u003eMAPE\\u003c\\u002fb\\u003e\",\"\\u003cb style=\\\"color:#3b0280;line-height:60px\\\"\\u003eAnalysis\\u003c\\u002fb\\u003e\",\"\",\"2020-03-15\",\"From \\u003cb\\u003eMar-15-2020\\u003c\\u002fb\\u003e to \\u003cb\\u003eMar-15-2020\\u003c\\u002fb\\u003e\",0.1051,0.0948],[\"Estimated \\u003cb\\u003eMAPE\\u003c\\u002fb\\u003e\",\"\\u003cb style=\\\"color:#3b0280;line-height:60px\\\"\\u003eAnalysis\\u003c\\u002fb\\u003e\",\"\",\"2020-03-16\",\"From \\u003cb\\u003eMar-16-2020\\u003c\\u002fb\\u003e to \\u003cb\\u003eMar-16-2020\\u003c\\u002fb\\u003e\",0.1383,0.0948],[\"Estimated \\u003cb\\u003eMAPE\\u003c\\u002fb\\u003e\",\"\\u003cb style=\\\"color:#3b0280;line-height:60px\\\"\\u003eAnalysis\\u003c\\u002fb\\u003e\",\"\",\"2020-03-17\",\"From \\u003cb\\u003eMar-17-2020\\u003c\\u002fb\\u003e to \\u003cb\\u003eMar-17-2020\\u003c\\u002fb\\u003e\",0.1294,0.0948],[\"Estimated \\u003cb\\u003eMAPE\\u003c\\u002fb\\u003e\",\"\\u003cb style=\\\"color:#3b0280;line-height:60px\\\"\\u003eAnalysis\\u003c\\u002fb\\u003e\",\"\",\"2020-03-18\",\"From \\u003cb\\u003eMar-18-2020\\u003c\\u002fb\\u003e to \\u003cb\\u003eMar-18-2020\\u003c\\u002fb\\u003e\",0.139,0.0948],[\"Estimated \\u003cb\\u003eMAPE\\u003c\\u002fb\\u003e\",\"\\u003cb style=\\\"color:#3b0280;line-height:60px\\\"\\u003eAnalysis\\u003c\\u002fb\\u003e\",\"\",\"2020-03-19\",\"From \\u003cb\\u003eMar-19-2020\\u003c\\u002fb\\u003e to \\u003cb\\u003eMar-19-2020\\u003c\\u002fb\\u003e\",0.1183,0.0948],[\"Estimated \\u003cb\\u003eMAPE\\u003c\\u002fb\\u003e\",\"\\u003cb style=\\\"color:#3b0280;line-height:60px\\\"\\u003eAnalysis\\u003c\\u002fb\\u003e\",\"\",\"2020-03-20\",\"From \\u003cb\\u003eMar-20-2020\\u003c\\u002fb\\u003e to \\u003cb\\u003eMar-20-2020\\u003c\\u002fb\\u003e\",0.1534,0.0948],[\"Estimated \\u003cb\\u003eMAPE\\u003c\\u002fb\\u003e\",\"\\u003cb style=\\\"color:#3b0280;line-height:60px\\\"\\u003eAnalysis\\u003c\\u002fb\\u003e\",\"\",\"2020-03-21\",\"From \\u003cb\\u003eMar-21-2020\\u003c\\u002fb\\u003e to \\u003cb\\u003eMar-21-2020\\u003c\\u002fb\\u003e\",0.1033,0.0948],[\"Estimated \\u003cb\\u003eMAPE\\u003c\\u002fb\\u003e\",\"\\u003cb style=\\\"color:#3b0280;line-height:60px\\\"\\u003eAnalysis\\u003c\\u002fb\\u003e\",\"\",\"2020-03-22\",\"From \\u003cb\\u003eMar-22-2020\\u003c\\u002fb\\u003e to \\u003cb\\u003eMar-22-2020\\u003c\\u002fb\\u003e\",0.1181,0.0948],[\"Estimated \\u003cb\\u003eMAPE\\u003c\\u002fb\\u003e\",\"\\u003cb style=\\\"color:#3b0280;line-height:60px\\\"\\u003eAnalysis\\u003c\\u002fb\\u003e\",\"\",\"2020-03-23\",\"From \\u003cb\\u003eMar-23-2020\\u003c\\u002fb\\u003e to \\u003cb\\u003eMar-23-2020\\u003c\\u002fb\\u003e\",0.1103,0.0948],[\"Estimated \\u003cb\\u003eMAPE\\u003c\\u002fb\\u003e\",\"\\u003cb style=\\\"color:#3b0280;line-height:60px\\\"\\u003eAnalysis\\u003c\\u002fb\\u003e\",\"\",\"2020-03-24\",\"From \\u003cb\\u003eMar-24-2020\\u003c\\u002fb\\u003e to \\u003cb\\u003eMar-24-2020\\u003c\\u002fb\\u003e\",0.154,0.0948],[\"Estimated \\u003cb\\u003eMAPE\\u003c\\u002fb\\u003e\",\"\\u003cb style=\\\"color:#3b0280;line-height:60px\\\"\\u003eAnalysis\\u003c\\u002fb\\u003e\",\"\",\"2020-03-25\",\"From \\u003cb\\u003eMar-25-2020\\u003c\\u002fb\\u003e to \\u003cb\\u003eMar-25-2020\\u003c\\u002fb\\u003e\",0.1136,0.0948],[\"Estimated \\u003cb\\u003eMAPE\\u003c\\u002fb\\u003e\",\"\\u003cb style=\\\"color:#3b0280;line-height:60px\\\"\\u003eAnalysis\\u003c\\u002fb\\u003e\",\"\",\"2020-03-26\",\"From \\u003cb\\u003eMar-26-2020\\u003c\\u002fb\\u003e to \\u003cb\\u003eMar-26-2020\\u003c\\u002fb\\u003e\",0.1029,0.0948],[\"Estimated \\u003cb\\u003eMAPE\\u003c\\u002fb\\u003e\",\"\\u003cb style=\\\"color:#3b0280;line-height:60px\\\"\\u003eAnalysis\\u003c\\u002fb\\u003e\",\"\",\"2020-03-27\",\"From \\u003cb\\u003eMar-27-2020\\u003c\\u002fb\\u003e to \\u003cb\\u003eMar-27-2020\\u003c\\u002fb\\u003e\",0.1143,0.0948],[\"Estimated \\u003cb\\u003eMAPE\\u003c\\u002fb\\u003e\",\"\\u003cb style=\\\"color:#3b0280;line-height:60px\\\"\\u003eAnalysis\\u003c\\u002fb\\u003e\",\"\",\"2020-03-28\",\"From \\u003cb\\u003eMar-28-2020\\u003c\\u002fb\\u003e to \\u003cb\\u003eMar-28-2020\\u003c\\u002fb\\u003e\",0.1325,0.0948],[\"Estimated \\u003cb\\u003eMAPE\\u003c\\u002fb\\u003e\",\"\\u003cb style=\\\"color:#3b0280;line-height:60px\\\"\\u003eAnalysis\\u003c\\u002fb\\u003e\",\"\",\"2020-03-29\",\"From \\u003cb\\u003eMar-29-2020\\u003c\\u002fb\\u003e to \\u003cb\\u003eMar-29-2020\\u003c\\u002fb\\u003e\",0.115,0.0948],[\"Estimated \\u003cb\\u003eMAPE\\u003c\\u002fb\\u003e\",\"\\u003cb style=\\\"color:#3b0280;line-height:60px\\\"\\u003eAnalysis\\u003c\\u002fb\\u003e\",\"\",\"2020-03-30\",\"From \\u003cb\\u003eMar-30-2020\\u003c\\u002fb\\u003e to \\u003cb\\u003eMar-30-2020\\u003c\\u002fb\\u003e\",0.1366,0.0948],[\"Estimated \\u003cb\\u003eMAPE\\u003c\\u002fb\\u003e\",\"\\u003cb style=\\\"color:#3b0280;line-height:60px\\\"\\u003eAnalysis\\u003c\\u002fb\\u003e\",\"\",\"2020-03-31\",\"From \\u003cb\\u003eMar-31-2020\\u003c\\u002fb\\u003e to \\u003cb\\u003eMar-31-2020\\u003c\\u002fb\\u003e\",0.1812,0.0948],[\"Estimated \\u003cb\\u003eMAPE\\u003c\\u002fb\\u003e\",\"\\u003cb style=\\\"color:#3b0280;line-height:60px\\\"\\u003eAnalysis\\u003c\\u002fb\\u003e\",\"\",\"2020-04-01\",\"From \\u003cb\\u003eApr-01-2020\\u003c\\u002fb\\u003e to \\u003cb\\u003eApr-01-2020\\u003c\\u002fb\\u003e\",0.2261,0.0948],[\"Estimated \\u003cb\\u003eMAPE\\u003c\\u002fb\\u003e\",\"\\u003cb style=\\\"color:#3b0280;line-height:60px\\\"\\u003eAnalysis\\u003c\\u002fb\\u003e\",\"\\u003cspan style=\\\"color:#AD0000\\\"\\u003e\\u26a0 \\u003cb\\u003eDrift detected\\u003c\\u002fb\\u003e\\u003c\\u002fspan\\u003e\",\"2020-04-02\",\"From \\u003cb\\u003eApr-02-2020\\u003c\\u002fb\\u003e to \\u003cb\\u003eApr-02-2020\\u003c\\u002fb\\u003e\",0.2445,0.0948],[\"Estimated \\u003cb\\u003eMAPE\\u003c\\u002fb\\u003e\",\"\\u003cb style=\\\"color:#3b0280;line-height:60px\\\"\\u003eAnalysis\\u003c\\u002fb\\u003e\",\"\\u003cspan style=\\\"color:#AD0000\\\"\\u003e\\u26a0 \\u003cb\\u003eDrift detected\\u003c\\u002fb\\u003e\\u003c\\u002fspan\\u003e\",\"2020-04-03\",\"From \\u003cb\\u003eApr-03-2020\\u003c\\u002fb\\u003e to \\u003cb\\u003eApr-03-2020\\u003c\\u002fb\\u003e\",0.2757,0.0948],[\"Estimated \\u003cb\\u003eMAPE\\u003c\\u002fb\\u003e\",\"\\u003cb style=\\\"color:#3b0280;line-height:60px\\\"\\u003eAnalysis\\u003c\\u002fb\\u003e\",\"\\u003cspan style=\\\"color:#AD0000\\\"\\u003e\\u26a0 \\u003cb\\u003eDrift detected\\u003c\\u002fb\\u003e\\u003c\\u002fspan\\u003e\",\"2020-04-04\",\"From \\u003cb\\u003eApr-04-2020\\u003c\\u002fb\\u003e to \\u003cb\\u003eApr-04-2020\\u003c\\u002fb\\u003e\",0.2425,0.0948],[\"Estimated \\u003cb\\u003eMAPE\\u003c\\u002fb\\u003e\",\"\\u003cb style=\\\"color:#3b0280;line-height:60px\\\"\\u003eAnalysis\\u003c\\u002fb\\u003e\",\"\",\"2020-04-05\",\"From \\u003cb\\u003eApr-05-2020\\u003c\\u002fb\\u003e to \\u003cb\\u003eApr-05-2020\\u003c\\u002fb\\u003e\",0.1911,0.0948],[\"Estimated \\u003cb\\u003eMAPE\\u003c\\u002fb\\u003e\",\"\\u003cb style=\\\"color:#3b0280;line-height:60px\\\"\\u003eAnalysis\\u003c\\u002fb\\u003e\",\"\",\"2020-04-06\",\"From \\u003cb\\u003eApr-06-2020\\u003c\\u002fb\\u003e to \\u003cb\\u003eApr-06-2020\\u003c\\u002fb\\u003e\",0.1583,0.0948],[\"Estimated \\u003cb\\u003eMAPE\\u003c\\u002fb\\u003e\",\"\\u003cb style=\\\"color:#3b0280;line-height:60px\\\"\\u003eAnalysis\\u003c\\u002fb\\u003e\",\"\",\"2020-04-07\",\"From \\u003cb\\u003eApr-07-2020\\u003c\\u002fb\\u003e to \\u003cb\\u003eApr-07-2020\\u003c\\u002fb\\u003e\",0.1445,0.0948],[\"Estimated \\u003cb\\u003eMAPE\\u003c\\u002fb\\u003e\",\"\\u003cb style=\\\"color:#3b0280;line-height:60px\\\"\\u003eAnalysis\\u003c\\u002fb\\u003e\",\"\",\"2020-04-08\",\"From \\u003cb\\u003eApr-08-2020\\u003c\\u002fb\\u003e to \\u003cb\\u003eApr-08-2020\\u003c\\u002fb\\u003e\",0.1378,0.0948],[\"Estimated \\u003cb\\u003eMAPE\\u003c\\u002fb\\u003e\",\"\\u003cb style=\\\"color:#3b0280;line-height:60px\\\"\\u003eAnalysis\\u003c\\u002fb\\u003e\",\"\",\"2020-04-09\",\"From \\u003cb\\u003eApr-09-2020\\u003c\\u002fb\\u003e to \\u003cb\\u003eApr-09-2020\\u003c\\u002fb\\u003e\",0.145,0.0948],[\"Estimated \\u003cb\\u003eMAPE\\u003c\\u002fb\\u003e\",\"\\u003cb style=\\\"color:#3b0280;line-height:60px\\\"\\u003eAnalysis\\u003c\\u002fb\\u003e\",\"\",\"2020-04-10\",\"From \\u003cb\\u003eApr-10-2020\\u003c\\u002fb\\u003e to \\u003cb\\u003eApr-10-2020\\u003c\\u002fb\\u003e\",0.1345,0.0948],[\"Estimated \\u003cb\\u003eMAPE\\u003c\\u002fb\\u003e\",\"\\u003cb style=\\\"color:#3b0280;line-height:60px\\\"\\u003eAnalysis\\u003c\\u002fb\\u003e\",\"\",\"2020-04-11\",\"From \\u003cb\\u003eApr-11-2020\\u003c\\u002fb\\u003e to \\u003cb\\u003eApr-11-2020\\u003c\\u002fb\\u003e\",0.1632,0.0948],[\"Estimated \\u003cb\\u003eMAPE\\u003c\\u002fb\\u003e\",\"\\u003cb style=\\\"color:#3b0280;line-height:60px\\\"\\u003eAnalysis\\u003c\\u002fb\\u003e\",\"\",\"2020-04-12\",\"From \\u003cb\\u003eApr-12-2020\\u003c\\u002fb\\u003e to \\u003cb\\u003eApr-12-2020\\u003c\\u002fb\\u003e\",0.1634,0.0948],[\"Estimated \\u003cb\\u003eMAPE\\u003c\\u002fb\\u003e\",\"\\u003cb style=\\\"color:#3b0280;line-height:60px\\\"\\u003eAnalysis\\u003c\\u002fb\\u003e\",\"\",\"2020-04-13\",\"From \\u003cb\\u003eApr-13-2020\\u003c\\u002fb\\u003e to \\u003cb\\u003eApr-13-2020\\u003c\\u002fb\\u003e\",0.1476,0.0948],[\"Estimated \\u003cb\\u003eMAPE\\u003c\\u002fb\\u003e\",\"\\u003cb style=\\\"color:#3b0280;line-height:60px\\\"\\u003eAnalysis\\u003c\\u002fb\\u003e\",\"\",\"2020-04-14\",\"From \\u003cb\\u003eApr-14-2020\\u003c\\u002fb\\u003e to \\u003cb\\u003eApr-14-2020\\u003c\\u002fb\\u003e\",0.1349,0.0948],[\"Estimated \\u003cb\\u003eMAPE\\u003c\\u002fb\\u003e\",\"\\u003cb style=\\\"color:#3b0280;line-height:60px\\\"\\u003eAnalysis\\u003c\\u002fb\\u003e\",\"\",\"2020-04-15\",\"From \\u003cb\\u003eApr-15-2020\\u003c\\u002fb\\u003e to \\u003cb\\u003eApr-15-2020\\u003c\\u002fb\\u003e\",0.141,0.0948],[\"Estimated \\u003cb\\u003eMAPE\\u003c\\u002fb\\u003e\",\"\\u003cb style=\\\"color:#3b0280;line-height:60px\\\"\\u003eAnalysis\\u003c\\u002fb\\u003e\",\"\",\"2020-04-16\",\"From \\u003cb\\u003eApr-16-2020\\u003c\\u002fb\\u003e to \\u003cb\\u003eApr-16-2020\\u003c\\u002fb\\u003e\",0.1808,0.0948],[\"Estimated \\u003cb\\u003eMAPE\\u003c\\u002fb\\u003e\",\"\\u003cb style=\\\"color:#3b0280;line-height:60px\\\"\\u003eAnalysis\\u003c\\u002fb\\u003e\",\"\",\"2020-04-17\",\"From \\u003cb\\u003eApr-17-2020\\u003c\\u002fb\\u003e to \\u003cb\\u003eApr-17-2020\\u003c\\u002fb\\u003e\",0.1816,0.0948],[\"Estimated \\u003cb\\u003eMAPE\\u003c\\u002fb\\u003e\",\"\\u003cb style=\\\"color:#3b0280;line-height:60px\\\"\\u003eAnalysis\\u003c\\u002fb\\u003e\",\"\",\"2020-04-18\",\"From \\u003cb\\u003eApr-18-2020\\u003c\\u002fb\\u003e to \\u003cb\\u003eApr-18-2020\\u003c\\u002fb\\u003e\",0.1348,0.0948],[\"Estimated \\u003cb\\u003eMAPE\\u003c\\u002fb\\u003e\",\"\\u003cb style=\\\"color:#3b0280;line-height:60px\\\"\\u003eAnalysis\\u003c\\u002fb\\u003e\",\"\",\"2020-04-19\",\"From \\u003cb\\u003eApr-19-2020\\u003c\\u002fb\\u003e to \\u003cb\\u003eApr-19-2020\\u003c\\u002fb\\u003e\",0.135,0.0948],[\"Estimated \\u003cb\\u003eMAPE\\u003c\\u002fb\\u003e\",\"\\u003cb style=\\\"color:#3b0280;line-height:60px\\\"\\u003eAnalysis\\u003c\\u002fb\\u003e\",\"\",\"2020-04-20\",\"From \\u003cb\\u003eApr-20-2020\\u003c\\u002fb\\u003e to \\u003cb\\u003eApr-20-2020\\u003c\\u002fb\\u003e\",0.1172,0.0948],[\"Estimated \\u003cb\\u003eMAPE\\u003c\\u002fb\\u003e\",\"\\u003cb style=\\\"color:#3b0280;line-height:60px\\\"\\u003eAnalysis\\u003c\\u002fb\\u003e\",\"\",\"2020-04-21\",\"From \\u003cb\\u003eApr-21-2020\\u003c\\u002fb\\u003e to \\u003cb\\u003eApr-21-2020\\u003c\\u002fb\\u003e\",0.1217,0.0948],[\"Estimated \\u003cb\\u003eMAPE\\u003c\\u002fb\\u003e\",\"\\u003cb style=\\\"color:#3b0280;line-height:60px\\\"\\u003eAnalysis\\u003c\\u002fb\\u003e\",\"\",\"2020-04-22\",\"From \\u003cb\\u003eApr-22-2020\\u003c\\u002fb\\u003e to \\u003cb\\u003eApr-22-2020\\u003c\\u002fb\\u003e\",0.1182,0.0948],[\"Estimated \\u003cb\\u003eMAPE\\u003c\\u002fb\\u003e\",\"\\u003cb style=\\\"color:#3b0280;line-height:60px\\\"\\u003eAnalysis\\u003c\\u002fb\\u003e\",\"\",\"2020-04-23\",\"From \\u003cb\\u003eApr-23-2020\\u003c\\u002fb\\u003e to \\u003cb\\u003eApr-23-2020\\u003c\\u002fb\\u003e\",0.1104,0.0948],[\"Estimated \\u003cb\\u003eMAPE\\u003c\\u002fb\\u003e\",\"\\u003cb style=\\\"color:#3b0280;line-height:60px\\\"\\u003eAnalysis\\u003c\\u002fb\\u003e\",\"\",\"2020-04-24\",\"From \\u003cb\\u003eApr-24-2020\\u003c\\u002fb\\u003e to \\u003cb\\u003eApr-24-2020\\u003c\\u002fb\\u003e\",0.1349,0.0948],[\"Estimated \\u003cb\\u003eMAPE\\u003c\\u002fb\\u003e\",\"\\u003cb style=\\\"color:#3b0280;line-height:60px\\\"\\u003eAnalysis\\u003c\\u002fb\\u003e\",\"\",\"2020-04-25\",\"From \\u003cb\\u003eApr-25-2020\\u003c\\u002fb\\u003e to \\u003cb\\u003eApr-25-2020\\u003c\\u002fb\\u003e\",0.1254,0.0948],[\"Estimated \\u003cb\\u003eMAPE\\u003c\\u002fb\\u003e\",\"\\u003cb style=\\\"color:#3b0280;line-height:60px\\\"\\u003eAnalysis\\u003c\\u002fb\\u003e\",\"\",\"2020-04-26\",\"From \\u003cb\\u003eApr-26-2020\\u003c\\u002fb\\u003e to \\u003cb\\u003eApr-26-2020\\u003c\\u002fb\\u003e\",0.1425,0.0948],[\"Estimated \\u003cb\\u003eMAPE\\u003c\\u002fb\\u003e\",\"\\u003cb style=\\\"color:#3b0280;line-height:60px\\\"\\u003eAnalysis\\u003c\\u002fb\\u003e\",\"\",\"2020-04-27\",\"From \\u003cb\\u003eApr-27-2020\\u003c\\u002fb\\u003e to \\u003cb\\u003eApr-27-2020\\u003c\\u002fb\\u003e\",0.098,0.2321]],\"hovertemplate\":\"%{customdata[1]} &nbsp; &nbsp; %{customdata[2]} \\u003cbr \\u002f\\u003eChunk: \\u003cb\\u003e%{customdata[3]}\\u003c\\u002fb\\u003e &nbsp; &nbsp; %{customdata[4]} \\u003cbr \\u002f\\u003e%{customdata[0]}: \\u003cb\\u003e%{customdata[5]}\\u003c\\u002fb\\u003e\\u003cbr \\u002f\\u003eConfidence band: +\\u002f- \\u003cb\\u003e%{customdata[6]}\\u003c\\u002fb\\u003e\\u003cbr \\u002f\\u003e\\u003cextra\\u003e\\u003c\\u002fextra\\u003e\",\"legendgroup\":\"metric_analysis\",\"line\":{\"dash\":\"dash\"},\"marker\":{\"color\":\"#3b0280\",\"size\":5,\"symbol\":\"circle\"},\"mode\":\"markers\",\"name\":\"Metric\",\"showlegend\":false,\"x\":[\"2019-12-24T12:00:00\",\"2019-12-25T12:00:00\",\"2019-12-26T12:00:00\",\"2019-12-27T12:00:00\",\"2019-12-28T12:00:00\",\"2019-12-29T12:00:00\",\"2019-12-30T12:00:00\",\"2019-12-31T12:00:00\",\"2020-01-01T12:00:00\",\"2020-01-02T12:00:00\",\"2020-01-03T12:00:00\",\"2020-01-04T12:00:00\",\"2020-01-05T12:00:00\",\"2020-01-06T12:00:00\",\"2020-01-07T12:00:00\",\"2020-01-08T12:00:00\",\"2020-01-09T12:00:00\",\"2020-01-10T12:00:00\",\"2020-01-11T12:00:00\",\"2020-01-12T12:00:00\",\"2020-01-13T12:00:00\",\"2020-01-14T12:00:00\",\"2020-01-15T12:00:00\",\"2020-01-16T12:00:00\",\"2020-01-17T12:00:00\",\"2020-01-18T12:00:00\",\"2020-01-19T12:00:00\",\"2020-01-20T12:00:00\",\"2020-01-21T12:00:00\",\"2020-01-22T12:00:00\",\"2020-01-23T12:00:00\",\"2020-01-24T12:00:00\",\"2020-01-25T12:00:00\",\"2020-01-26T12:00:00\",\"2020-01-27T12:00:00\",\"2020-01-28T12:00:00\",\"2020-01-29T12:00:00\",\"2020-01-30T12:00:00\",\"2020-01-31T12:00:00\",\"2020-02-01T12:00:00\",\"2020-02-02T12:00:00\",\"2020-02-03T12:00:00\",\"2020-02-04T12:00:00\",\"2020-02-05T12:00:00\",\"2020-02-06T12:00:00\",\"2020-02-07T12:00:00\",\"2020-02-08T12:00:00\",\"2020-02-09T12:00:00\",\"2020-02-10T12:00:00\",\"2020-02-11T12:00:00\",\"2020-02-12T12:00:00\",\"2020-02-13T12:00:00\",\"2020-02-14T12:00:00\",\"2020-02-15T12:00:00\",\"2020-02-16T12:00:00\",\"2020-02-17T12:00:00\",\"2020-02-18T12:00:00\",\"2020-02-19T12:00:00\",\"2020-02-20T12:00:00\",\"2020-02-21T12:00:00\",\"2020-02-22T12:00:00\",\"2020-02-23T12:00:00\",\"2020-02-24T12:00:00\",\"2020-02-25T12:00:00\",\"2020-02-26T12:00:00\",\"2020-02-27T12:00:00\",\"2020-02-28T12:00:00\",\"2020-02-29T12:00:00\",\"2020-03-01T12:00:00\",\"2020-03-02T12:00:00\",\"2020-03-03T12:00:00\",\"2020-03-04T12:00:00\",\"2020-03-05T12:00:00\",\"2020-03-06T12:00:00\",\"2020-03-07T12:00:00\",\"2020-03-08T12:00:00\",\"2020-03-09T12:00:00\",\"2020-03-10T12:00:00\",\"2020-03-11T12:00:00\",\"2020-03-12T12:00:00\",\"2020-03-13T12:00:00\",\"2020-03-14T12:00:00\",\"2020-03-15T12:00:00\",\"2020-03-16T12:00:00\",\"2020-03-17T12:00:00\",\"2020-03-18T12:00:00\",\"2020-03-19T12:00:00\",\"2020-03-20T12:00:00\",\"2020-03-21T12:00:00\",\"2020-03-22T12:00:00\",\"2020-03-23T12:00:00\",\"2020-03-24T12:00:00\",\"2020-03-25T12:00:00\",\"2020-03-26T12:00:00\",\"2020-03-27T12:00:00\",\"2020-03-28T12:00:00\",\"2020-03-29T12:00:00\",\"2020-03-30T12:00:00\",\"2020-03-31T12:00:00\",\"2020-04-01T12:00:00\",\"2020-04-02T12:00:00\",\"2020-04-03T12:00:00\",\"2020-04-04T12:00:00\",\"2020-04-05T12:00:00\",\"2020-04-06T12:00:00\",\"2020-04-07T12:00:00\",\"2020-04-08T12:00:00\",\"2020-04-09T12:00:00\",\"2020-04-10T12:00:00\",\"2020-04-11T12:00:00\",\"2020-04-12T12:00:00\",\"2020-04-13T12:00:00\",\"2020-04-14T12:00:00\",\"2020-04-15T12:00:00\",\"2020-04-16T12:00:00\",\"2020-04-17T12:00:00\",\"2020-04-18T12:00:00\",\"2020-04-19T12:00:00\",\"2020-04-20T12:00:00\",\"2020-04-21T12:00:00\",\"2020-04-22T12:00:00\",\"2020-04-23T12:00:00\",\"2020-04-24T12:00:00\",\"2020-04-25T12:00:00\",\"2020-04-26T12:00:00\",\"2020-04-27T11:59:59.999999999\"],\"y\":[0.14955399974142047,0.13586662996783147,0.1316987154702048,0.1365788067108258,0.12930705918463306,0.1194723781453696,0.12875059286751186,0.13864358396156548,0.1420631605008087,0.14021367520860537,0.13501468843184916,0.11291313457392822,0.1227356822414059,0.11024911926002928,0.14800426518587542,0.11064222576661333,0.10032138133249362,0.14176811465704928,0.12293475886931926,0.10819702478183106,0.11496444203327334,0.10109084200059336,0.14837766508343275,0.12696683711023507,0.11300854139879302,0.11895443943141316,0.10472792180633521,0.1403705109637385,0.10912711325615425,0.11278708306484937,0.09998076819286124,0.09992371639716036,0.09873734373066685,0.12015595459082044,0.09509090466776199,0.11676912696967286,0.1243240276725116,0.14077951476669623,0.1296768128904728,0.10151250729707922,0.08925397647692919,0.10387538070214193,0.09769397409777451,0.11397467642114173,0.10474839848501098,0.12868993229397555,0.12077304254810539,0.11914965661904155,0.11683368515657132,0.13530766317616705,0.18272237219213752,0.17040276963031276,0.13141680160384314,0.12650864938978873,0.12863303486652367,0.13877359647423926,0.1401450444887057,0.2770632162584378,0.2574752590526653,0.22904747813291224,0.24851694085330892,0.26425938393172316,0.2320249766674888,0.23249200674215853,0.22946334235320298,0.20279852163372414,0.19051761338444193,0.19819303564839205,0.19436366743918512,0.21230735902303735,0.1974577457865081,0.21693420357165985,0.22103995621136927,0.127700292041294,0.11577487829174331,0.11365751780039035,0.10304076394583267,0.1685812409850481,0.1720123999118762,0.10055614322899259,0.13818953423379746,0.0912612788220301,0.10505915478347287,0.13830781824284297,0.12942950540060036,0.13900113395259814,0.11829563625947544,0.15341098324881125,0.10333084782790518,0.11807767966974879,0.11025889737040968,0.15402083454002433,0.1136004354919871,0.10289955541456697,0.11429945098807347,0.1324594357775205,0.11497297156243179,0.13659139214420046,0.18124517611132476,0.22612702757208777,0.24451688046997952,0.27568855308321605,0.24246733474714036,0.1910583553747526,0.1583358157992645,0.14452672088128263,0.1377505590199887,0.1449530336241158,0.13453209719008064,0.16315967141683438,0.1634310626656399,0.14762865988877882,0.13487623044424188,0.1409820919324534,0.18082630121466658,0.1815642913871789,0.13483015696366804,0.1350362790702003,0.11722930429298627,0.12168869839222435,0.11821614818703574,0.11035499955108134,0.13486682908621783,0.12538699164255246,0.1425000299947499,0.09803650748045671,0.09803650748045671],\"type\":\"scatter\",\"xaxis\":\"x\",\"yaxis\":\"y\"},{\"hoverinfo\":\"skip\",\"legendgroup\":\"alert\",\"marker\":{\"color\":\"#DD4040\",\"size\":8,\"symbol\":\"diamond\"},\"mode\":\"markers\",\"name\":\"Alert\",\"showlegend\":true,\"x\":[\"2020-02-19T12:00:00\",\"2020-02-20T12:00:00\",\"2020-02-22T12:00:00\",\"2020-02-23T12:00:00\",\"2020-02-24T12:00:00\",\"2020-02-25T12:00:00\",\"2020-04-02T12:00:00\",\"2020-04-03T12:00:00\",\"2020-04-04T12:00:00\"],\"y\":[0.2770632162584378,0.2574752590526653,0.24851694085330892,0.26425938393172316,0.2320249766674888,0.23249200674215853,0.24451688046997952,0.27568855308321605,0.24246733474714036],\"type\":\"scatter\",\"xaxis\":\"x\",\"yaxis\":\"y\"},{\"hoverinfo\":\"skip\",\"legendgroup\":\"thresh\",\"line\":{\"color\":\"#DD4040\",\"dash\":\"dash\",\"width\":2},\"mode\":\"lines\",\"name\":\"Threshold\",\"showlegend\":true,\"x\":[\"2019-12-24T00:00:00\",\"2019-12-25T00:00:00\",\"2019-12-26T00:00:00\",\"2019-12-27T00:00:00\",\"2019-12-28T00:00:00\",\"2019-12-29T00:00:00\",\"2019-12-30T00:00:00\",\"2019-12-31T00:00:00\",\"2020-01-01T00:00:00\",\"2020-01-02T00:00:00\",\"2020-01-03T00:00:00\",\"2020-01-04T00:00:00\",\"2020-01-05T00:00:00\",\"2020-01-06T00:00:00\",\"2020-01-07T00:00:00\",\"2020-01-08T00:00:00\",\"2020-01-09T00:00:00\",\"2020-01-10T00:00:00\",\"2020-01-11T00:00:00\",\"2020-01-12T00:00:00\",\"2020-01-13T00:00:00\",\"2020-01-14T00:00:00\",\"2020-01-15T00:00:00\",\"2020-01-16T00:00:00\",\"2020-01-17T00:00:00\",\"2020-01-18T00:00:00\",\"2020-01-19T00:00:00\",\"2020-01-20T00:00:00\",\"2020-01-21T00:00:00\",\"2020-01-22T00:00:00\",\"2020-01-23T00:00:00\",\"2020-01-24T00:00:00\",\"2020-01-25T00:00:00\",\"2020-01-26T00:00:00\",\"2020-01-27T00:00:00\",\"2020-01-28T00:00:00\",\"2020-01-29T00:00:00\",\"2020-01-30T00:00:00\",\"2020-01-31T00:00:00\",\"2020-02-01T00:00:00\",\"2020-02-02T00:00:00\",\"2020-02-03T00:00:00\",\"2020-02-04T00:00:00\",\"2020-02-05T00:00:00\",\"2020-02-06T00:00:00\",\"2020-02-07T00:00:00\",\"2020-02-08T00:00:00\",\"2020-02-09T00:00:00\",\"2020-02-10T00:00:00\",\"2020-02-11T00:00:00\",\"2020-02-12T00:00:00\",\"2020-02-13T00:00:00\",\"2020-02-14T00:00:00\",\"2020-02-15T00:00:00\",\"2020-02-16T00:00:00\",\"2020-02-17T00:00:00\",\"2020-02-18T00:00:00\",\"2020-02-19T00:00:00\",\"2020-02-20T00:00:00\",\"2020-02-21T00:00:00\",\"2020-02-22T00:00:00\",\"2020-02-23T00:00:00\",\"2020-02-24T00:00:00\",\"2020-02-25T00:00:00\",\"2020-02-26T00:00:00\",\"2020-02-27T00:00:00\",\"2020-02-28T00:00:00\",\"2020-02-29T00:00:00\",\"2020-03-01T00:00:00\",\"2020-03-02T00:00:00\",\"2020-03-03T00:00:00\",\"2020-03-04T00:00:00\",\"2020-03-05T00:00:00\",\"2020-03-06T00:00:00\",\"2020-03-07T00:00:00\",\"2020-03-08T00:00:00\",\"2020-03-09T00:00:00\",\"2020-03-10T00:00:00\",\"2020-03-11T00:00:00\",\"2020-03-12T00:00:00\",\"2020-03-13T00:00:00\",\"2020-03-14T00:00:00\",\"2020-03-15T00:00:00\",\"2020-03-16T00:00:00\",\"2020-03-17T00:00:00\",\"2020-03-18T00:00:00\",\"2020-03-19T00:00:00\",\"2020-03-20T00:00:00\",\"2020-03-21T00:00:00\",\"2020-03-22T00:00:00\",\"2020-03-23T00:00:00\",\"2020-03-24T00:00:00\",\"2020-03-25T00:00:00\",\"2020-03-26T00:00:00\",\"2020-03-27T00:00:00\",\"2020-03-28T00:00:00\",\"2020-03-29T00:00:00\",\"2020-03-30T00:00:00\",\"2020-03-31T00:00:00\",\"2020-04-01T00:00:00\",\"2020-04-02T00:00:00\",\"2020-04-03T00:00:00\",\"2020-04-04T00:00:00\",\"2020-04-05T00:00:00\",\"2020-04-06T00:00:00\",\"2020-04-07T00:00:00\",\"2020-04-08T00:00:00\",\"2020-04-09T00:00:00\",\"2020-04-10T00:00:00\",\"2020-04-11T00:00:00\",\"2020-04-12T00:00:00\",\"2020-04-13T00:00:00\",\"2020-04-14T00:00:00\",\"2020-04-15T00:00:00\",\"2020-04-16T00:00:00\",\"2020-04-17T00:00:00\",\"2020-04-18T00:00:00\",\"2020-04-19T00:00:00\",\"2020-04-20T00:00:00\",\"2020-04-21T00:00:00\",\"2020-04-22T00:00:00\",\"2020-04-23T00:00:00\",\"2020-04-24T00:00:00\",\"2020-04-25T00:00:00\",\"2020-04-26T00:00:00\",\"2020-04-27T00:00:00\",\"2020-04-27T23:59:59.999999999\"],\"y\":[0.2298023345782439,0.2298023345782439,0.2298023345782439,0.2298023345782439,0.2298023345782439,0.2298023345782439,0.2298023345782439,0.2298023345782439,0.2298023345782439,0.2298023345782439,0.2298023345782439,0.2298023345782439,0.2298023345782439,0.2298023345782439,0.2298023345782439,0.2298023345782439,0.2298023345782439,0.2298023345782439,0.2298023345782439,0.2298023345782439,0.2298023345782439,0.2298023345782439,0.2298023345782439,0.2298023345782439,0.2298023345782439,0.2298023345782439,0.2298023345782439,0.2298023345782439,0.2298023345782439,0.2298023345782439,0.2298023345782439,0.2298023345782439,0.2298023345782439,0.2298023345782439,0.2298023345782439,0.2298023345782439,0.2298023345782439,0.2298023345782439,0.2298023345782439,0.2298023345782439,0.2298023345782439,0.2298023345782439,0.2298023345782439,0.2298023345782439,0.2298023345782439,0.2298023345782439,0.2298023345782439,0.2298023345782439,0.2298023345782439,0.2298023345782439,0.2298023345782439,0.2298023345782439,0.2298023345782439,0.2298023345782439,0.2298023345782439,0.2298023345782439,0.2298023345782439,0.2298023345782439,0.2298023345782439,0.2298023345782439,0.2298023345782439,0.2298023345782439,0.2298023345782439,0.2298023345782439,0.2298023345782439,0.2298023345782439,0.2298023345782439,0.2298023345782439,0.2298023345782439,0.2298023345782439,0.2298023345782439,0.2298023345782439,0.2298023345782439,0.2298023345782439,0.2298023345782439,0.2298023345782439,0.2298023345782439,0.2298023345782439,0.2298023345782439,0.2298023345782439,0.2298023345782439,0.2298023345782439,0.2298023345782439,0.2298023345782439,0.2298023345782439,0.2298023345782439,0.2298023345782439,0.2298023345782439,0.2298023345782439,0.2298023345782439,0.2298023345782439,0.2298023345782439,0.2298023345782439,0.2298023345782439,0.2298023345782439,0.2298023345782439,0.2298023345782439,0.2298023345782439,0.2298023345782439,0.2298023345782439,0.2298023345782439,0.2298023345782439,0.2298023345782439,0.2298023345782439,0.2298023345782439,0.2298023345782439,0.2298023345782439,0.2298023345782439,0.2298023345782439,0.2298023345782439,0.2298023345782439,0.2298023345782439,0.2298023345782439,0.2298023345782439,0.2298023345782439,0.2298023345782439,0.2298023345782439,0.2298023345782439,0.2298023345782439,0.2298023345782439,0.2298023345782439,0.2298023345782439,0.2298023345782439,0.2298023345782439,0.2298023345782439,0.2298023345782439,0.2298023345782439],\"type\":\"scatter\",\"xaxis\":\"x\",\"yaxis\":\"y\"},{\"hoverinfo\":\"skip\",\"legendgroup\":\"thresh\",\"line\":{\"color\":\"#DD4040\",\"dash\":\"dash\",\"width\":2},\"mode\":\"lines\",\"name\":\"Threshold\",\"showlegend\":false,\"x\":[\"2019-12-24T00:00:00\",\"2019-12-25T00:00:00\",\"2019-12-26T00:00:00\",\"2019-12-27T00:00:00\",\"2019-12-28T00:00:00\",\"2019-12-29T00:00:00\",\"2019-12-30T00:00:00\",\"2019-12-31T00:00:00\",\"2020-01-01T00:00:00\",\"2020-01-02T00:00:00\",\"2020-01-03T00:00:00\",\"2020-01-04T00:00:00\",\"2020-01-05T00:00:00\",\"2020-01-06T00:00:00\",\"2020-01-07T00:00:00\",\"2020-01-08T00:00:00\",\"2020-01-09T00:00:00\",\"2020-01-10T00:00:00\",\"2020-01-11T00:00:00\",\"2020-01-12T00:00:00\",\"2020-01-13T00:00:00\",\"2020-01-14T00:00:00\",\"2020-01-15T00:00:00\",\"2020-01-16T00:00:00\",\"2020-01-17T00:00:00\",\"2020-01-18T00:00:00\",\"2020-01-19T00:00:00\",\"2020-01-20T00:00:00\",\"2020-01-21T00:00:00\",\"2020-01-22T00:00:00\",\"2020-01-23T00:00:00\",\"2020-01-24T00:00:00\",\"2020-01-25T00:00:00\",\"2020-01-26T00:00:00\",\"2020-01-27T00:00:00\",\"2020-01-28T00:00:00\",\"2020-01-29T00:00:00\",\"2020-01-30T00:00:00\",\"2020-01-31T00:00:00\",\"2020-02-01T00:00:00\",\"2020-02-02T00:00:00\",\"2020-02-03T00:00:00\",\"2020-02-04T00:00:00\",\"2020-02-05T00:00:00\",\"2020-02-06T00:00:00\",\"2020-02-07T00:00:00\",\"2020-02-08T00:00:00\",\"2020-02-09T00:00:00\",\"2020-02-10T00:00:00\",\"2020-02-11T00:00:00\",\"2020-02-12T00:00:00\",\"2020-02-13T00:00:00\",\"2020-02-14T00:00:00\",\"2020-02-15T00:00:00\",\"2020-02-16T00:00:00\",\"2020-02-17T00:00:00\",\"2020-02-18T00:00:00\",\"2020-02-19T00:00:00\",\"2020-02-20T00:00:00\",\"2020-02-21T00:00:00\",\"2020-02-22T00:00:00\",\"2020-02-23T00:00:00\",\"2020-02-24T00:00:00\",\"2020-02-25T00:00:00\",\"2020-02-26T00:00:00\",\"2020-02-27T00:00:00\",\"2020-02-28T00:00:00\",\"2020-02-29T00:00:00\",\"2020-03-01T00:00:00\",\"2020-03-02T00:00:00\",\"2020-03-03T00:00:00\",\"2020-03-04T00:00:00\",\"2020-03-05T00:00:00\",\"2020-03-06T00:00:00\",\"2020-03-07T00:00:00\",\"2020-03-08T00:00:00\",\"2020-03-09T00:00:00\",\"2020-03-10T00:00:00\",\"2020-03-11T00:00:00\",\"2020-03-12T00:00:00\",\"2020-03-13T00:00:00\",\"2020-03-14T00:00:00\",\"2020-03-15T00:00:00\",\"2020-03-16T00:00:00\",\"2020-03-17T00:00:00\",\"2020-03-18T00:00:00\",\"2020-03-19T00:00:00\",\"2020-03-20T00:00:00\",\"2020-03-21T00:00:00\",\"2020-03-22T00:00:00\",\"2020-03-23T00:00:00\",\"2020-03-24T00:00:00\",\"2020-03-25T00:00:00\",\"2020-03-26T00:00:00\",\"2020-03-27T00:00:00\",\"2020-03-28T00:00:00\",\"2020-03-29T00:00:00\",\"2020-03-30T00:00:00\",\"2020-03-31T00:00:00\",\"2020-04-01T00:00:00\",\"2020-04-02T00:00:00\",\"2020-04-03T00:00:00\",\"2020-04-04T00:00:00\",\"2020-04-05T00:00:00\",\"2020-04-06T00:00:00\",\"2020-04-07T00:00:00\",\"2020-04-08T00:00:00\",\"2020-04-09T00:00:00\",\"2020-04-10T00:00:00\",\"2020-04-11T00:00:00\",\"2020-04-12T00:00:00\",\"2020-04-13T00:00:00\",\"2020-04-14T00:00:00\",\"2020-04-15T00:00:00\",\"2020-04-16T00:00:00\",\"2020-04-17T00:00:00\",\"2020-04-18T00:00:00\",\"2020-04-19T00:00:00\",\"2020-04-20T00:00:00\",\"2020-04-21T00:00:00\",\"2020-04-22T00:00:00\",\"2020-04-23T00:00:00\",\"2020-04-24T00:00:00\",\"2020-04-25T00:00:00\",\"2020-04-26T00:00:00\",\"2020-04-27T00:00:00\",\"2020-04-27T23:59:59.999999999\"],\"y\":[0.0,0.0,0.0,0.0,0.0,0.0,0.0,0.0,0.0,0.0,0.0,0.0,0.0,0.0,0.0,0.0,0.0,0.0,0.0,0.0,0.0,0.0,0.0,0.0,0.0,0.0,0.0,0.0,0.0,0.0,0.0,0.0,0.0,0.0,0.0,0.0,0.0,0.0,0.0,0.0,0.0,0.0,0.0,0.0,0.0,0.0,0.0,0.0,0.0,0.0,0.0,0.0,0.0,0.0,0.0,0.0,0.0,0.0,0.0,0.0,0.0,0.0,0.0,0.0,0.0,0.0,0.0,0.0,0.0,0.0,0.0,0.0,0.0,0.0,0.0,0.0,0.0,0.0,0.0,0.0,0.0,0.0,0.0,0.0,0.0,0.0,0.0,0.0,0.0,0.0,0.0,0.0,0.0,0.0,0.0,0.0,0.0,0.0,0.0,0.0,0.0,0.0,0.0,0.0,0.0,0.0,0.0,0.0,0.0,0.0,0.0,0.0,0.0,0.0,0.0,0.0,0.0,0.0,0.0,0.0,0.0,0.0,0.0,0.0,0.0,0.0,0.0],\"type\":\"scatter\",\"xaxis\":\"x\",\"yaxis\":\"y\"},{\"hoverinfo\":\"skip\",\"line\":{\"color\":\"rgba(0,0,0,0)\",\"shape\":\"hv\"},\"mode\":\"lines\",\"name\":\"Confidence band\",\"showlegend\":false,\"x\":[\"2019-12-24T00:00:00\",\"2019-12-25T00:00:00\",\"2019-12-26T00:00:00\",\"2019-12-27T00:00:00\",\"2019-12-28T00:00:00\",\"2019-12-29T00:00:00\",\"2019-12-30T00:00:00\",\"2019-12-31T00:00:00\",\"2020-01-01T00:00:00\",\"2020-01-02T00:00:00\",\"2020-01-03T00:00:00\",\"2020-01-04T00:00:00\",\"2020-01-05T00:00:00\",\"2020-01-06T00:00:00\",\"2020-01-07T00:00:00\",\"2020-01-08T00:00:00\",\"2020-01-09T00:00:00\",\"2020-01-10T00:00:00\",\"2020-01-11T00:00:00\",\"2020-01-12T00:00:00\",\"2020-01-13T00:00:00\",\"2020-01-14T00:00:00\",\"2020-01-15T00:00:00\",\"2020-01-16T00:00:00\",\"2020-01-17T00:00:00\",\"2020-01-18T00:00:00\",\"2020-01-19T00:00:00\",\"2020-01-20T00:00:00\",\"2020-01-21T00:00:00\",\"2020-01-22T00:00:00\",\"2020-01-23T00:00:00\",\"2020-01-24T00:00:00\",\"2020-01-25T00:00:00\",\"2020-01-26T00:00:00\",\"2020-01-27T00:00:00\",\"2020-01-28T00:00:00\",\"2020-01-29T00:00:00\",\"2020-01-30T00:00:00\",\"2020-01-31T00:00:00\",\"2020-02-01T00:00:00\",\"2020-02-02T00:00:00\",\"2020-02-03T00:00:00\",\"2020-02-04T00:00:00\",\"2020-02-05T00:00:00\",\"2020-02-06T00:00:00\",\"2020-02-07T00:00:00\",\"2020-02-08T00:00:00\",\"2020-02-09T00:00:00\",\"2020-02-10T00:00:00\",\"2020-02-11T00:00:00\",\"2020-02-12T00:00:00\",\"2020-02-13T00:00:00\",\"2020-02-14T00:00:00\",\"2020-02-15T00:00:00\",\"2020-02-16T00:00:00\",\"2020-02-17T00:00:00\",\"2020-02-18T00:00:00\",\"2020-02-19T00:00:00\",\"2020-02-20T00:00:00\",\"2020-02-21T00:00:00\",\"2020-02-22T00:00:00\",\"2020-02-23T00:00:00\",\"2020-02-24T00:00:00\",\"2020-02-25T00:00:00\",\"2020-02-26T00:00:00\",\"2020-02-27T00:00:00\",\"2020-02-28T00:00:00\",\"2020-02-29T00:00:00\",\"2020-03-01T00:00:00\",\"2020-03-02T00:00:00\",\"2020-03-03T00:00:00\",\"2020-03-04T00:00:00\",\"2020-03-05T00:00:00\",\"2020-03-06T00:00:00\",\"2020-03-07T00:00:00\",\"2020-03-08T00:00:00\",\"2020-03-09T00:00:00\",\"2020-03-10T00:00:00\",\"2020-03-11T00:00:00\",\"2020-03-12T00:00:00\",\"2020-03-13T00:00:00\",\"2020-03-14T00:00:00\",\"2020-03-15T00:00:00\",\"2020-03-16T00:00:00\",\"2020-03-17T00:00:00\",\"2020-03-18T00:00:00\",\"2020-03-19T00:00:00\",\"2020-03-20T00:00:00\",\"2020-03-21T00:00:00\",\"2020-03-22T00:00:00\",\"2020-03-23T00:00:00\",\"2020-03-24T00:00:00\",\"2020-03-25T00:00:00\",\"2020-03-26T00:00:00\",\"2020-03-27T00:00:00\",\"2020-03-28T00:00:00\",\"2020-03-29T00:00:00\",\"2020-03-30T00:00:00\",\"2020-03-31T00:00:00\",\"2020-04-01T00:00:00\",\"2020-04-02T00:00:00\",\"2020-04-03T00:00:00\",\"2020-04-04T00:00:00\",\"2020-04-05T00:00:00\",\"2020-04-06T00:00:00\",\"2020-04-07T00:00:00\",\"2020-04-08T00:00:00\",\"2020-04-09T00:00:00\",\"2020-04-10T00:00:00\",\"2020-04-11T00:00:00\",\"2020-04-12T00:00:00\",\"2020-04-13T00:00:00\",\"2020-04-14T00:00:00\",\"2020-04-15T00:00:00\",\"2020-04-16T00:00:00\",\"2020-04-17T00:00:00\",\"2020-04-18T00:00:00\",\"2020-04-19T00:00:00\",\"2020-04-20T00:00:00\",\"2020-04-21T00:00:00\",\"2020-04-22T00:00:00\",\"2020-04-23T00:00:00\",\"2020-04-24T00:00:00\",\"2020-04-25T00:00:00\",\"2020-04-26T00:00:00\",\"2020-04-27T00:00:00\",\"2020-04-27T23:59:59.999999999\"],\"y\":[0.253362526794366,0.2306304165149707,0.22646250201734405,0.23134259325796505,0.2240708457317723,0.21423616469250883,0.2235143794146511,0.23340737050870472,0.23682694704794793,0.2349774617557446,0.2297784749789884,0.20767692112106745,0.21749946878854515,0.20501290580716852,0.24276805173301466,0.20540601231375255,0.19508516787963287,0.23653190120418852,0.2176985454164585,0.20296081132897031,0.20972822858041257,0.1958546285477326,0.243141451630572,0.2217306236573743,0.20777232794593226,0.2137182259785524,0.19949170835347446,0.23513429751087775,0.2038908998032935,0.2075508696119886,0.19474455474000046,0.1946875029442996,0.19350113027780608,0.2149197411379597,0.18985469121490123,0.21153291351681208,0.21908781421965084,0.23554330131383547,0.22444059943761205,0.19627629384421846,0.18401776302406841,0.19863916724928116,0.19245776064491377,0.20873846296828097,0.19951218503215024,0.22345371884111478,0.21553682909524463,0.21391344316618077,0.21159747170371057,0.2300714497233063,0.27748615873927673,0.265166556177452,0.22618058815098238,0.22127243593692797,0.2233968214136629,0.2335373830213785,0.23490883103584495,0.37182700280557707,0.3522390455998045,0.3238112646800515,0.3432807274004481,0.3590231704788624,0.326788763214628,0.32725579328929777,0.3242271289003422,0.2975623081808634,0.2852813999315812,0.2929568221955313,0.28912745398632433,0.30707114557017656,0.29222153233364734,0.31169799011879906,0.31580374275850853,0.22246407858843323,0.21053866483888256,0.2084213043475296,0.1978045504929719,0.26334502753218736,0.26677618645901546,0.19531992977613183,0.2329533207809367,0.18602506536916935,0.19982294133061212,0.2330716047899822,0.2241932919477396,0.23376492049973738,0.21305942280661466,0.2481747697959505,0.19809463437504443,0.21284146621688804,0.2050226839175489,0.24878462108716357,0.20836422203912636,0.1976633419617062,0.20906323753521272,0.22722322232465975,0.20973675810957104,0.2313551786913397,0.276008962658464,0.32089081411922704,0.3392806670171188,0.3704523396303553,0.33723112129427957,0.2858221419218918,0.2530996023464037,0.23929050742842187,0.23251434556712794,0.23971682017125504,0.22929588373721987,0.25792345796397365,0.25819484921277913,0.24239244643591806,0.22964001699138112,0.23574587847959264,0.2755900877618058,0.27632807793431813,0.22959394351080728,0.22980006561733954,0.21199309084012552,0.2164524849393636,0.21297993473417498,0.2051187860982206,0.22963061563335707,0.2201507781896917,0.23726381654188913,0.3301594306149688,0.3301594306149688],\"type\":\"scatter\",\"xaxis\":\"x\",\"yaxis\":\"y\"},{\"fill\":\"tonexty\",\"fillcolor\":\"rgba(0.23137254901960785, 0.00784313725490196, 0.5019607843137255, 0.2)\",\"hoverinfo\":\"skip\",\"line\":{\"color\":\"rgba(0,0,0,0)\",\"shape\":\"hv\"},\"mode\":\"lines\",\"name\":\"Confidence band\",\"showlegend\":true,\"x\":[\"2019-12-24T00:00:00\",\"2019-12-25T00:00:00\",\"2019-12-26T00:00:00\",\"2019-12-27T00:00:00\",\"2019-12-28T00:00:00\",\"2019-12-29T00:00:00\",\"2019-12-30T00:00:00\",\"2019-12-31T00:00:00\",\"2020-01-01T00:00:00\",\"2020-01-02T00:00:00\",\"2020-01-03T00:00:00\",\"2020-01-04T00:00:00\",\"2020-01-05T00:00:00\",\"2020-01-06T00:00:00\",\"2020-01-07T00:00:00\",\"2020-01-08T00:00:00\",\"2020-01-09T00:00:00\",\"2020-01-10T00:00:00\",\"2020-01-11T00:00:00\",\"2020-01-12T00:00:00\",\"2020-01-13T00:00:00\",\"2020-01-14T00:00:00\",\"2020-01-15T00:00:00\",\"2020-01-16T00:00:00\",\"2020-01-17T00:00:00\",\"2020-01-18T00:00:00\",\"2020-01-19T00:00:00\",\"2020-01-20T00:00:00\",\"2020-01-21T00:00:00\",\"2020-01-22T00:00:00\",\"2020-01-23T00:00:00\",\"2020-01-24T00:00:00\",\"2020-01-25T00:00:00\",\"2020-01-26T00:00:00\",\"2020-01-27T00:00:00\",\"2020-01-28T00:00:00\",\"2020-01-29T00:00:00\",\"2020-01-30T00:00:00\",\"2020-01-31T00:00:00\",\"2020-02-01T00:00:00\",\"2020-02-02T00:00:00\",\"2020-02-03T00:00:00\",\"2020-02-04T00:00:00\",\"2020-02-05T00:00:00\",\"2020-02-06T00:00:00\",\"2020-02-07T00:00:00\",\"2020-02-08T00:00:00\",\"2020-02-09T00:00:00\",\"2020-02-10T00:00:00\",\"2020-02-11T00:00:00\",\"2020-02-12T00:00:00\",\"2020-02-13T00:00:00\",\"2020-02-14T00:00:00\",\"2020-02-15T00:00:00\",\"2020-02-16T00:00:00\",\"2020-02-17T00:00:00\",\"2020-02-18T00:00:00\",\"2020-02-19T00:00:00\",\"2020-02-20T00:00:00\",\"2020-02-21T00:00:00\",\"2020-02-22T00:00:00\",\"2020-02-23T00:00:00\",\"2020-02-24T00:00:00\",\"2020-02-25T00:00:00\",\"2020-02-26T00:00:00\",\"2020-02-27T00:00:00\",\"2020-02-28T00:00:00\",\"2020-02-29T00:00:00\",\"2020-03-01T00:00:00\",\"2020-03-02T00:00:00\",\"2020-03-03T00:00:00\",\"2020-03-04T00:00:00\",\"2020-03-05T00:00:00\",\"2020-03-06T00:00:00\",\"2020-03-07T00:00:00\",\"2020-03-08T00:00:00\",\"2020-03-09T00:00:00\",\"2020-03-10T00:00:00\",\"2020-03-11T00:00:00\",\"2020-03-12T00:00:00\",\"2020-03-13T00:00:00\",\"2020-03-14T00:00:00\",\"2020-03-15T00:00:00\",\"2020-03-16T00:00:00\",\"2020-03-17T00:00:00\",\"2020-03-18T00:00:00\",\"2020-03-19T00:00:00\",\"2020-03-20T00:00:00\",\"2020-03-21T00:00:00\",\"2020-03-22T00:00:00\",\"2020-03-23T00:00:00\",\"2020-03-24T00:00:00\",\"2020-03-25T00:00:00\",\"2020-03-26T00:00:00\",\"2020-03-27T00:00:00\",\"2020-03-28T00:00:00\",\"2020-03-29T00:00:00\",\"2020-03-30T00:00:00\",\"2020-03-31T00:00:00\",\"2020-04-01T00:00:00\",\"2020-04-02T00:00:00\",\"2020-04-03T00:00:00\",\"2020-04-04T00:00:00\",\"2020-04-05T00:00:00\",\"2020-04-06T00:00:00\",\"2020-04-07T00:00:00\",\"2020-04-08T00:00:00\",\"2020-04-09T00:00:00\",\"2020-04-10T00:00:00\",\"2020-04-11T00:00:00\",\"2020-04-12T00:00:00\",\"2020-04-13T00:00:00\",\"2020-04-14T00:00:00\",\"2020-04-15T00:00:00\",\"2020-04-16T00:00:00\",\"2020-04-17T00:00:00\",\"2020-04-18T00:00:00\",\"2020-04-19T00:00:00\",\"2020-04-20T00:00:00\",\"2020-04-21T00:00:00\",\"2020-04-22T00:00:00\",\"2020-04-23T00:00:00\",\"2020-04-24T00:00:00\",\"2020-04-25T00:00:00\",\"2020-04-26T00:00:00\",\"2020-04-27T00:00:00\",\"2020-04-27T23:59:59.999999999\"],\"y\":[0.04574547268847498,0.04110284342069223,0.036934928923065574,0.04181502016368657,0.03454327263749382,0.024708591598230356,0.033986806320372626,0.04387979741442624,0.047299373953669455,0.045449888661466126,0.04025090188470992,0.018149348026788983,0.027971895694266655,0.015485332712890043,0.05324047863873618,0.015878439219474086,0.005557594785354378,0.04700432810991004,0.02817097232218002,0.013433238234691822,0.020200655486134103,0.00632705545345412,0.05361387853629351,0.03220305056309583,0.018244754851653777,0.024190652884273925,0.00996413525919597,0.04560672441659927,0.014363326709015009,0.018023296517710133,0.005216981645721999,0.005159929850021117,0.003973557183527612,0.025392168043681204,0.00032711812062274914,0.022005340422533617,0.029560241125372366,0.04601572821955699,0.03491302634333357,0.006748720749939985,0.0,0.009111594155002692,0.0029301875506352743,0.01921088987400249,0.009984611937871743,0.033926145746836306,0.026009256000966152,0.024385870071902307,0.02206989860943208,0.04054387662902781,0.08795858564499828,0.07563898308317352,0.0366530150567039,0.03174486284264949,0.033869248319384426,0.04400980992710002,0.04538125794156647,0.1822994297112986,0.16271147250552603,0.134283691585773,0.15375315430616968,0.16949559738458392,0.13726119012034957,0.1377282201950193,0.13469955580606374,0.1080347350865849,0.09575382683730269,0.10342924910125281,0.09959988089204588,0.11754357247589811,0.10269395923936886,0.12217041702452061,0.12627616966423003,0.03293650549415475,0.02101109174460407,0.01889373125325111,0.00827697739869343,0.07381745443790885,0.07724861336473696,0.00579235668185335,0.04342574768665822,0.0,0.010295368236333632,0.04354403169570373,0.03466571885346112,0.0442373474054589,0.023531849712336197,0.05864719670167201,0.008567061280765939,0.02331389312260955,0.015495110823270444,0.05925704799288509,0.018836648944847864,0.008135768867427728,0.019535664440934228,0.03769564923038127,0.02020918501529255,0.041827605597061224,0.08648138956418552,0.13136324102494853,0.14975309392284028,0.1809247665360768,0.14770354820000112,0.09629456882761336,0.06357202925212527,0.04976293433414339,0.04298677247284946,0.050189247076976556,0.039768310642941396,0.06839588486969514,0.06866727611850065,0.052864873341639584,0.04011244389710264,0.04621830538531416,0.08606251466752735,0.08680050484003965,0.0400663704165288,0.04027249252306106,0.022465517745847027,0.02692491184508511,0.023452361639896502,0.015591213003942103,0.04010304253907859,0.03062320509541322,0.047736243447610655,0.0,0.0],\"type\":\"scatter\",\"xaxis\":\"x\",\"yaxis\":\"y\"}],                        {\"height\":500.0,\"hoverlabel\":{\"bgcolor\":\"white\",\"font\":{\"size\":14}},\"legend\":{\"itemclick\":false,\"itemdoubleclick\":false,\"traceorder\":\"grouped\"},\"paper_bgcolor\":\"rgba(255,255,255,1)\",\"plot_bgcolor\":\"rgba(255,255,255,1)\",\"title\":{\"text\":\"Estimated performance \\u003cb\\u003e(DLE)\\u003c\\u002fb\\u003e\"},\"xaxis\":{\"linecolor\":\"#3b0280\",\"mirror\":true,\"showgrid\":false,\"title\":{\"text\":\"Time\"},\"zeroline\":false,\"anchor\":\"y\",\"domain\":[0.0,1.0],\"matches\":\"x\"},\"yaxis\":{\"linecolor\":\"#3b0280\",\"mirror\":true,\"showgrid\":false,\"title\":{\"text\":\"MAPE\"},\"zeroline\":false,\"anchor\":\"x\",\"domain\":[0.0,1.0]},\"template\":{\"data\":{\"histogram2dcontour\":[{\"type\":\"histogram2dcontour\",\"colorbar\":{\"outlinewidth\":0,\"ticks\":\"\"},\"colorscale\":[[0.0,\"#0d0887\"],[0.1111111111111111,\"#46039f\"],[0.2222222222222222,\"#7201a8\"],[0.3333333333333333,\"#9c179e\"],[0.4444444444444444,\"#bd3786\"],[0.5555555555555556,\"#d8576b\"],[0.6666666666666666,\"#ed7953\"],[0.7777777777777778,\"#fb9f3a\"],[0.8888888888888888,\"#fdca26\"],[1.0,\"#f0f921\"]]}],\"choropleth\":[{\"type\":\"choropleth\",\"colorbar\":{\"outlinewidth\":0,\"ticks\":\"\"}}],\"histogram2d\":[{\"type\":\"histogram2d\",\"colorbar\":{\"outlinewidth\":0,\"ticks\":\"\"},\"colorscale\":[[0.0,\"#0d0887\"],[0.1111111111111111,\"#46039f\"],[0.2222222222222222,\"#7201a8\"],[0.3333333333333333,\"#9c179e\"],[0.4444444444444444,\"#bd3786\"],[0.5555555555555556,\"#d8576b\"],[0.6666666666666666,\"#ed7953\"],[0.7777777777777778,\"#fb9f3a\"],[0.8888888888888888,\"#fdca26\"],[1.0,\"#f0f921\"]]}],\"heatmap\":[{\"type\":\"heatmap\",\"colorbar\":{\"outlinewidth\":0,\"ticks\":\"\"},\"colorscale\":[[0.0,\"#0d0887\"],[0.1111111111111111,\"#46039f\"],[0.2222222222222222,\"#7201a8\"],[0.3333333333333333,\"#9c179e\"],[0.4444444444444444,\"#bd3786\"],[0.5555555555555556,\"#d8576b\"],[0.6666666666666666,\"#ed7953\"],[0.7777777777777778,\"#fb9f3a\"],[0.8888888888888888,\"#fdca26\"],[1.0,\"#f0f921\"]]}],\"heatmapgl\":[{\"type\":\"heatmapgl\",\"colorbar\":{\"outlinewidth\":0,\"ticks\":\"\"},\"colorscale\":[[0.0,\"#0d0887\"],[0.1111111111111111,\"#46039f\"],[0.2222222222222222,\"#7201a8\"],[0.3333333333333333,\"#9c179e\"],[0.4444444444444444,\"#bd3786\"],[0.5555555555555556,\"#d8576b\"],[0.6666666666666666,\"#ed7953\"],[0.7777777777777778,\"#fb9f3a\"],[0.8888888888888888,\"#fdca26\"],[1.0,\"#f0f921\"]]}],\"contourcarpet\":[{\"type\":\"contourcarpet\",\"colorbar\":{\"outlinewidth\":0,\"ticks\":\"\"}}],\"contour\":[{\"type\":\"contour\",\"colorbar\":{\"outlinewidth\":0,\"ticks\":\"\"},\"colorscale\":[[0.0,\"#0d0887\"],[0.1111111111111111,\"#46039f\"],[0.2222222222222222,\"#7201a8\"],[0.3333333333333333,\"#9c179e\"],[0.4444444444444444,\"#bd3786\"],[0.5555555555555556,\"#d8576b\"],[0.6666666666666666,\"#ed7953\"],[0.7777777777777778,\"#fb9f3a\"],[0.8888888888888888,\"#fdca26\"],[1.0,\"#f0f921\"]]}],\"surface\":[{\"type\":\"surface\",\"colorbar\":{\"outlinewidth\":0,\"ticks\":\"\"},\"colorscale\":[[0.0,\"#0d0887\"],[0.1111111111111111,\"#46039f\"],[0.2222222222222222,\"#7201a8\"],[0.3333333333333333,\"#9c179e\"],[0.4444444444444444,\"#bd3786\"],[0.5555555555555556,\"#d8576b\"],[0.6666666666666666,\"#ed7953\"],[0.7777777777777778,\"#fb9f3a\"],[0.8888888888888888,\"#fdca26\"],[1.0,\"#f0f921\"]]}],\"mesh3d\":[{\"type\":\"mesh3d\",\"colorbar\":{\"outlinewidth\":0,\"ticks\":\"\"}}],\"scatter\":[{\"fillpattern\":{\"fillmode\":\"overlay\",\"size\":10,\"solidity\":0.2},\"type\":\"scatter\"}],\"parcoords\":[{\"type\":\"parcoords\",\"line\":{\"colorbar\":{\"outlinewidth\":0,\"ticks\":\"\"}}}],\"scatterpolargl\":[{\"type\":\"scatterpolargl\",\"marker\":{\"colorbar\":{\"outlinewidth\":0,\"ticks\":\"\"}}}],\"bar\":[{\"error_x\":{\"color\":\"#2a3f5f\"},\"error_y\":{\"color\":\"#2a3f5f\"},\"marker\":{\"line\":{\"color\":\"#E5ECF6\",\"width\":0.5},\"pattern\":{\"fillmode\":\"overlay\",\"size\":10,\"solidity\":0.2}},\"type\":\"bar\"}],\"scattergeo\":[{\"type\":\"scattergeo\",\"marker\":{\"colorbar\":{\"outlinewidth\":0,\"ticks\":\"\"}}}],\"scatterpolar\":[{\"type\":\"scatterpolar\",\"marker\":{\"colorbar\":{\"outlinewidth\":0,\"ticks\":\"\"}}}],\"histogram\":[{\"marker\":{\"pattern\":{\"fillmode\":\"overlay\",\"size\":10,\"solidity\":0.2}},\"type\":\"histogram\"}],\"scattergl\":[{\"type\":\"scattergl\",\"marker\":{\"colorbar\":{\"outlinewidth\":0,\"ticks\":\"\"}}}],\"scatter3d\":[{\"type\":\"scatter3d\",\"line\":{\"colorbar\":{\"outlinewidth\":0,\"ticks\":\"\"}},\"marker\":{\"colorbar\":{\"outlinewidth\":0,\"ticks\":\"\"}}}],\"scattermapbox\":[{\"type\":\"scattermapbox\",\"marker\":{\"colorbar\":{\"outlinewidth\":0,\"ticks\":\"\"}}}],\"scatterternary\":[{\"type\":\"scatterternary\",\"marker\":{\"colorbar\":{\"outlinewidth\":0,\"ticks\":\"\"}}}],\"scattercarpet\":[{\"type\":\"scattercarpet\",\"marker\":{\"colorbar\":{\"outlinewidth\":0,\"ticks\":\"\"}}}],\"carpet\":[{\"aaxis\":{\"endlinecolor\":\"#2a3f5f\",\"gridcolor\":\"white\",\"linecolor\":\"white\",\"minorgridcolor\":\"white\",\"startlinecolor\":\"#2a3f5f\"},\"baxis\":{\"endlinecolor\":\"#2a3f5f\",\"gridcolor\":\"white\",\"linecolor\":\"white\",\"minorgridcolor\":\"white\",\"startlinecolor\":\"#2a3f5f\"},\"type\":\"carpet\"}],\"table\":[{\"cells\":{\"fill\":{\"color\":\"#EBF0F8\"},\"line\":{\"color\":\"white\"}},\"header\":{\"fill\":{\"color\":\"#C8D4E3\"},\"line\":{\"color\":\"white\"}},\"type\":\"table\"}],\"barpolar\":[{\"marker\":{\"line\":{\"color\":\"#E5ECF6\",\"width\":0.5},\"pattern\":{\"fillmode\":\"overlay\",\"size\":10,\"solidity\":0.2}},\"type\":\"barpolar\"}],\"pie\":[{\"automargin\":true,\"type\":\"pie\"}]},\"layout\":{\"autotypenumbers\":\"strict\",\"colorway\":[\"#636efa\",\"#EF553B\",\"#00cc96\",\"#ab63fa\",\"#FFA15A\",\"#19d3f3\",\"#FF6692\",\"#B6E880\",\"#FF97FF\",\"#FECB52\"],\"font\":{\"color\":\"#2a3f5f\"},\"hovermode\":\"closest\",\"hoverlabel\":{\"align\":\"left\"},\"paper_bgcolor\":\"white\",\"plot_bgcolor\":\"#E5ECF6\",\"polar\":{\"bgcolor\":\"#E5ECF6\",\"angularaxis\":{\"gridcolor\":\"white\",\"linecolor\":\"white\",\"ticks\":\"\"},\"radialaxis\":{\"gridcolor\":\"white\",\"linecolor\":\"white\",\"ticks\":\"\"}},\"ternary\":{\"bgcolor\":\"#E5ECF6\",\"aaxis\":{\"gridcolor\":\"white\",\"linecolor\":\"white\",\"ticks\":\"\"},\"baxis\":{\"gridcolor\":\"white\",\"linecolor\":\"white\",\"ticks\":\"\"},\"caxis\":{\"gridcolor\":\"white\",\"linecolor\":\"white\",\"ticks\":\"\"}},\"coloraxis\":{\"colorbar\":{\"outlinewidth\":0,\"ticks\":\"\"}},\"colorscale\":{\"sequential\":[[0.0,\"#0d0887\"],[0.1111111111111111,\"#46039f\"],[0.2222222222222222,\"#7201a8\"],[0.3333333333333333,\"#9c179e\"],[0.4444444444444444,\"#bd3786\"],[0.5555555555555556,\"#d8576b\"],[0.6666666666666666,\"#ed7953\"],[0.7777777777777778,\"#fb9f3a\"],[0.8888888888888888,\"#fdca26\"],[1.0,\"#f0f921\"]],\"sequentialminus\":[[0.0,\"#0d0887\"],[0.1111111111111111,\"#46039f\"],[0.2222222222222222,\"#7201a8\"],[0.3333333333333333,\"#9c179e\"],[0.4444444444444444,\"#bd3786\"],[0.5555555555555556,\"#d8576b\"],[0.6666666666666666,\"#ed7953\"],[0.7777777777777778,\"#fb9f3a\"],[0.8888888888888888,\"#fdca26\"],[1.0,\"#f0f921\"]],\"diverging\":[[0,\"#8e0152\"],[0.1,\"#c51b7d\"],[0.2,\"#de77ae\"],[0.3,\"#f1b6da\"],[0.4,\"#fde0ef\"],[0.5,\"#f7f7f7\"],[0.6,\"#e6f5d0\"],[0.7,\"#b8e186\"],[0.8,\"#7fbc41\"],[0.9,\"#4d9221\"],[1,\"#276419\"]]},\"xaxis\":{\"gridcolor\":\"white\",\"linecolor\":\"white\",\"ticks\":\"\",\"title\":{\"standoff\":15},\"zerolinecolor\":\"white\",\"automargin\":true,\"zerolinewidth\":2},\"yaxis\":{\"gridcolor\":\"white\",\"linecolor\":\"white\",\"ticks\":\"\",\"title\":{\"standoff\":15},\"zerolinecolor\":\"white\",\"automargin\":true,\"zerolinewidth\":2},\"scene\":{\"xaxis\":{\"backgroundcolor\":\"#E5ECF6\",\"gridcolor\":\"white\",\"linecolor\":\"white\",\"showbackground\":true,\"ticks\":\"\",\"zerolinecolor\":\"white\",\"gridwidth\":2},\"yaxis\":{\"backgroundcolor\":\"#E5ECF6\",\"gridcolor\":\"white\",\"linecolor\":\"white\",\"showbackground\":true,\"ticks\":\"\",\"zerolinecolor\":\"white\",\"gridwidth\":2},\"zaxis\":{\"backgroundcolor\":\"#E5ECF6\",\"gridcolor\":\"white\",\"linecolor\":\"white\",\"showbackground\":true,\"ticks\":\"\",\"zerolinecolor\":\"white\",\"gridwidth\":2}},\"shapedefaults\":{\"line\":{\"color\":\"#2a3f5f\"}},\"annotationdefaults\":{\"arrowcolor\":\"#2a3f5f\",\"arrowhead\":0,\"arrowwidth\":1},\"geo\":{\"bgcolor\":\"white\",\"landcolor\":\"#E5ECF6\",\"subunitcolor\":\"white\",\"showland\":true,\"showlakes\":true,\"lakecolor\":\"white\"},\"title\":{\"x\":0.05},\"mapbox\":{\"style\":\"light\"}}},\"annotations\":[{\"font\":{\"size\":16},\"showarrow\":false,\"text\":\"Estimated \\u003cb\\u003eMAPE\\u003c\\u002fb\\u003e\",\"x\":0.5,\"xanchor\":\"center\",\"xref\":\"paper\",\"y\":1.0,\"yanchor\":\"bottom\",\"yref\":\"paper\"}]},                        {\"responsive\": true}                    ).then(function(){\n",
       "                            \n",
       "var gd = document.getElementById('98a2abbf-5cb0-4b78-a80d-16dcd2967868');\n",
       "var x = new MutationObserver(function (mutations, observer) {{\n",
       "        var display = window.getComputedStyle(gd).display;\n",
       "        if (!display || display === 'none') {{\n",
       "            console.log([gd, 'removed!']);\n",
       "            Plotly.purge(gd);\n",
       "            observer.disconnect();\n",
       "        }}\n",
       "}});\n",
       "\n",
       "// Listen for the removal of the full notebook cells\n",
       "var notebookContainer = gd.closest('#notebook-container');\n",
       "if (notebookContainer) {{\n",
       "    x.observe(notebookContainer, {childList: true});\n",
       "}}\n",
       "\n",
       "// Listen for the clearing of the current output cell\n",
       "var outputEl = gd.closest('.output');\n",
       "if (outputEl) {{\n",
       "    x.observe(outputEl, {childList: true});\n",
       "}}\n",
       "\n",
       "                        })                };                });            </script>        </div>"
      ]
     },
     "metadata": {},
     "output_type": "display_data"
    }
   ],
   "source": [
    "pe_results.filter(period='analysis').plot()"
   ]
  },
  {
   "cell_type": "code",
   "execution_count": 25,
   "id": "bcb1df3f",
   "metadata": {},
   "outputs": [
    {
     "data": {
      "application/vnd.plotly.v1+json": {
       "config": {
        "plotlyServerURL": "https://plot.ly"
       },
       "data": [
        {
         "hoverinfo": "skip",
         "line": {
          "color": "#3b0280",
          "dash": "dash",
          "shape": "hv",
          "width": 2
         },
         "mode": "lines",
         "name": "<b>MAPE</b> (estimated MAPE)",
         "showlegend": true,
         "type": "scatter",
         "x": [
          "2019-12-24T00:00:00",
          "2019-12-25T00:00:00",
          "2019-12-26T00:00:00",
          "2019-12-27T00:00:00",
          "2019-12-28T00:00:00",
          "2019-12-29T00:00:00",
          "2019-12-30T00:00:00",
          "2019-12-31T00:00:00",
          "2020-01-01T00:00:00",
          "2020-01-02T00:00:00",
          "2020-01-03T00:00:00",
          "2020-01-04T00:00:00",
          "2020-01-05T00:00:00",
          "2020-01-06T00:00:00",
          "2020-01-07T00:00:00",
          "2020-01-08T00:00:00",
          "2020-01-09T00:00:00",
          "2020-01-10T00:00:00",
          "2020-01-11T00:00:00",
          "2020-01-12T00:00:00",
          "2020-01-13T00:00:00",
          "2020-01-14T00:00:00",
          "2020-01-15T00:00:00",
          "2020-01-16T00:00:00",
          "2020-01-17T00:00:00",
          "2020-01-18T00:00:00",
          "2020-01-19T00:00:00",
          "2020-01-20T00:00:00",
          "2020-01-21T00:00:00",
          "2020-01-22T00:00:00",
          "2020-01-23T00:00:00",
          "2020-01-24T00:00:00",
          "2020-01-25T00:00:00",
          "2020-01-26T00:00:00",
          "2020-01-27T00:00:00",
          "2020-01-28T00:00:00",
          "2020-01-29T00:00:00",
          "2020-01-30T00:00:00",
          "2020-01-31T00:00:00",
          "2020-02-01T00:00:00",
          "2020-02-02T00:00:00",
          "2020-02-03T00:00:00",
          "2020-02-04T00:00:00",
          "2020-02-05T00:00:00",
          "2020-02-06T00:00:00",
          "2020-02-07T00:00:00",
          "2020-02-08T00:00:00",
          "2020-02-09T00:00:00",
          "2020-02-10T00:00:00",
          "2020-02-11T00:00:00",
          "2020-02-12T00:00:00",
          "2020-02-13T00:00:00",
          "2020-02-14T00:00:00",
          "2020-02-15T00:00:00",
          "2020-02-16T00:00:00",
          "2020-02-17T00:00:00",
          "2020-02-18T00:00:00",
          "2020-02-19T00:00:00",
          "2020-02-20T00:00:00",
          "2020-02-21T00:00:00",
          "2020-02-22T00:00:00",
          "2020-02-23T00:00:00",
          "2020-02-24T00:00:00",
          "2020-02-25T00:00:00",
          "2020-02-26T00:00:00",
          "2020-02-27T00:00:00",
          "2020-02-28T00:00:00",
          "2020-02-29T00:00:00",
          "2020-03-01T00:00:00",
          "2020-03-02T00:00:00",
          "2020-03-03T00:00:00",
          "2020-03-04T00:00:00",
          "2020-03-05T00:00:00",
          "2020-03-06T00:00:00",
          "2020-03-07T00:00:00",
          "2020-03-08T00:00:00",
          "2020-03-09T00:00:00",
          "2020-03-10T00:00:00",
          "2020-03-11T00:00:00",
          "2020-03-12T00:00:00",
          "2020-03-13T00:00:00",
          "2020-03-14T00:00:00",
          "2020-03-15T00:00:00",
          "2020-03-16T00:00:00",
          "2020-03-17T00:00:00",
          "2020-03-18T00:00:00",
          "2020-03-19T00:00:00",
          "2020-03-20T00:00:00",
          "2020-03-21T00:00:00",
          "2020-03-22T00:00:00",
          "2020-03-23T00:00:00",
          "2020-03-24T00:00:00",
          "2020-03-25T00:00:00",
          "2020-03-26T00:00:00",
          "2020-03-27T00:00:00",
          "2020-03-28T00:00:00",
          "2020-03-29T00:00:00",
          "2020-03-30T00:00:00",
          "2020-03-31T00:00:00",
          "2020-04-01T00:00:00",
          "2020-04-02T00:00:00",
          "2020-04-03T00:00:00",
          "2020-04-04T00:00:00",
          "2020-04-05T00:00:00",
          "2020-04-06T00:00:00",
          "2020-04-07T00:00:00",
          "2020-04-08T00:00:00",
          "2020-04-09T00:00:00",
          "2020-04-10T00:00:00",
          "2020-04-11T00:00:00",
          "2020-04-12T00:00:00",
          "2020-04-13T00:00:00",
          "2020-04-14T00:00:00",
          "2020-04-15T00:00:00",
          "2020-04-16T00:00:00",
          "2020-04-17T00:00:00",
          "2020-04-18T00:00:00",
          "2020-04-19T00:00:00",
          "2020-04-20T00:00:00",
          "2020-04-21T00:00:00",
          "2020-04-22T00:00:00",
          "2020-04-23T00:00:00",
          "2020-04-24T00:00:00",
          "2020-04-25T00:00:00",
          "2020-04-26T00:00:00",
          "2020-04-27T00:00:00",
          "2020-04-27T23:59:59.999999999"
         ],
         "xaxis": "x",
         "y": [
          0.14955399974142047,
          0.13586662996783147,
          0.1316987154702048,
          0.1365788067108258,
          0.12930705918463306,
          0.1194723781453696,
          0.12875059286751186,
          0.13864358396156548,
          0.1420631605008087,
          0.14021367520860537,
          0.13501468843184916,
          0.11291313457392822,
          0.1227356822414059,
          0.11024911926002928,
          0.14800426518587542,
          0.11064222576661333,
          0.10032138133249362,
          0.14176811465704928,
          0.12293475886931926,
          0.10819702478183106,
          0.11496444203327334,
          0.10109084200059336,
          0.14837766508343275,
          0.12696683711023507,
          0.11300854139879302,
          0.11895443943141316,
          0.10472792180633521,
          0.1403705109637385,
          0.10912711325615425,
          0.11278708306484937,
          0.09998076819286124,
          0.09992371639716036,
          0.09873734373066685,
          0.12015595459082044,
          0.09509090466776199,
          0.11676912696967286,
          0.1243240276725116,
          0.14077951476669623,
          0.1296768128904728,
          0.10151250729707922,
          0.08925397647692919,
          0.10387538070214193,
          0.09769397409777451,
          0.11397467642114173,
          0.10474839848501098,
          0.12868993229397555,
          0.12077304254810539,
          0.11914965661904155,
          0.11683368515657132,
          0.13530766317616705,
          0.18272237219213752,
          0.17040276963031276,
          0.13141680160384314,
          0.12650864938978873,
          0.12863303486652367,
          0.13877359647423926,
          0.1401450444887057,
          0.2770632162584378,
          0.2574752590526653,
          0.22904747813291224,
          0.24851694085330892,
          0.26425938393172316,
          0.2320249766674888,
          0.23249200674215853,
          0.22946334235320298,
          0.20279852163372414,
          0.19051761338444193,
          0.19819303564839205,
          0.19436366743918512,
          0.21230735902303735,
          0.1974577457865081,
          0.21693420357165985,
          0.22103995621136927,
          0.127700292041294,
          0.11577487829174331,
          0.11365751780039035,
          0.10304076394583267,
          0.1685812409850481,
          0.1720123999118762,
          0.10055614322899259,
          0.13818953423379746,
          0.0912612788220301,
          0.10505915478347287,
          0.13830781824284297,
          0.12942950540060036,
          0.13900113395259814,
          0.11829563625947544,
          0.15341098324881125,
          0.10333084782790518,
          0.11807767966974879,
          0.11025889737040968,
          0.15402083454002433,
          0.1136004354919871,
          0.10289955541456697,
          0.11429945098807347,
          0.1324594357775205,
          0.11497297156243179,
          0.13659139214420046,
          0.18124517611132476,
          0.22612702757208777,
          0.24451688046997952,
          0.27568855308321605,
          0.24246733474714036,
          0.1910583553747526,
          0.1583358157992645,
          0.14452672088128263,
          0.1377505590199887,
          0.1449530336241158,
          0.13453209719008064,
          0.16315967141683438,
          0.1634310626656399,
          0.14762865988877882,
          0.13487623044424188,
          0.1409820919324534,
          0.18082630121466658,
          0.1815642913871789,
          0.13483015696366804,
          0.1350362790702003,
          0.11722930429298627,
          0.12168869839222435,
          0.11821614818703574,
          0.11035499955108134,
          0.13486682908621783,
          0.12538699164255246,
          0.1425000299947499,
          0.09803650748045671,
          0.09803650748045671
         ],
         "yaxis": "y"
        },
        {
         "customdata": [
          [
           "<b>MAPE</b> (estimated MAPE)",
           "<b style=\"color:#3b0280;line-height:60px\">Analysis</b>",
           "",
           "2019-12-24",
           "From <b>Dec-24-2019</b> to <b>Dec-24-2019</b>",
           0.1496
          ],
          [
           "<b>MAPE</b> (estimated MAPE)",
           "<b style=\"color:#3b0280;line-height:60px\">Analysis</b>",
           "",
           "2019-12-25",
           "From <b>Dec-25-2019</b> to <b>Dec-25-2019</b>",
           0.1359
          ],
          [
           "<b>MAPE</b> (estimated MAPE)",
           "<b style=\"color:#3b0280;line-height:60px\">Analysis</b>",
           "",
           "2019-12-26",
           "From <b>Dec-26-2019</b> to <b>Dec-26-2019</b>",
           0.1317
          ],
          [
           "<b>MAPE</b> (estimated MAPE)",
           "<b style=\"color:#3b0280;line-height:60px\">Analysis</b>",
           "",
           "2019-12-27",
           "From <b>Dec-27-2019</b> to <b>Dec-27-2019</b>",
           0.1366
          ],
          [
           "<b>MAPE</b> (estimated MAPE)",
           "<b style=\"color:#3b0280;line-height:60px\">Analysis</b>",
           "",
           "2019-12-28",
           "From <b>Dec-28-2019</b> to <b>Dec-28-2019</b>",
           0.1293
          ],
          [
           "<b>MAPE</b> (estimated MAPE)",
           "<b style=\"color:#3b0280;line-height:60px\">Analysis</b>",
           "",
           "2019-12-29",
           "From <b>Dec-29-2019</b> to <b>Dec-29-2019</b>",
           0.1195
          ],
          [
           "<b>MAPE</b> (estimated MAPE)",
           "<b style=\"color:#3b0280;line-height:60px\">Analysis</b>",
           "",
           "2019-12-30",
           "From <b>Dec-30-2019</b> to <b>Dec-30-2019</b>",
           0.1288
          ],
          [
           "<b>MAPE</b> (estimated MAPE)",
           "<b style=\"color:#3b0280;line-height:60px\">Analysis</b>",
           "",
           "2019-12-31",
           "From <b>Dec-31-2019</b> to <b>Dec-31-2019</b>",
           0.1386
          ],
          [
           "<b>MAPE</b> (estimated MAPE)",
           "<b style=\"color:#3b0280;line-height:60px\">Analysis</b>",
           "",
           "2020-01-01",
           "From <b>Jan-01-2020</b> to <b>Jan-01-2020</b>",
           0.1421
          ],
          [
           "<b>MAPE</b> (estimated MAPE)",
           "<b style=\"color:#3b0280;line-height:60px\">Analysis</b>",
           "",
           "2020-01-02",
           "From <b>Jan-02-2020</b> to <b>Jan-02-2020</b>",
           0.1402
          ],
          [
           "<b>MAPE</b> (estimated MAPE)",
           "<b style=\"color:#3b0280;line-height:60px\">Analysis</b>",
           "",
           "2020-01-03",
           "From <b>Jan-03-2020</b> to <b>Jan-03-2020</b>",
           0.135
          ],
          [
           "<b>MAPE</b> (estimated MAPE)",
           "<b style=\"color:#3b0280;line-height:60px\">Analysis</b>",
           "",
           "2020-01-04",
           "From <b>Jan-04-2020</b> to <b>Jan-04-2020</b>",
           0.1129
          ],
          [
           "<b>MAPE</b> (estimated MAPE)",
           "<b style=\"color:#3b0280;line-height:60px\">Analysis</b>",
           "",
           "2020-01-05",
           "From <b>Jan-05-2020</b> to <b>Jan-05-2020</b>",
           0.1227
          ],
          [
           "<b>MAPE</b> (estimated MAPE)",
           "<b style=\"color:#3b0280;line-height:60px\">Analysis</b>",
           "",
           "2020-01-06",
           "From <b>Jan-06-2020</b> to <b>Jan-06-2020</b>",
           0.1102
          ],
          [
           "<b>MAPE</b> (estimated MAPE)",
           "<b style=\"color:#3b0280;line-height:60px\">Analysis</b>",
           "",
           "2020-01-07",
           "From <b>Jan-07-2020</b> to <b>Jan-07-2020</b>",
           0.148
          ],
          [
           "<b>MAPE</b> (estimated MAPE)",
           "<b style=\"color:#3b0280;line-height:60px\">Analysis</b>",
           "",
           "2020-01-08",
           "From <b>Jan-08-2020</b> to <b>Jan-08-2020</b>",
           0.1106
          ],
          [
           "<b>MAPE</b> (estimated MAPE)",
           "<b style=\"color:#3b0280;line-height:60px\">Analysis</b>",
           "",
           "2020-01-09",
           "From <b>Jan-09-2020</b> to <b>Jan-09-2020</b>",
           0.1003
          ],
          [
           "<b>MAPE</b> (estimated MAPE)",
           "<b style=\"color:#3b0280;line-height:60px\">Analysis</b>",
           "",
           "2020-01-10",
           "From <b>Jan-10-2020</b> to <b>Jan-10-2020</b>",
           0.1418
          ],
          [
           "<b>MAPE</b> (estimated MAPE)",
           "<b style=\"color:#3b0280;line-height:60px\">Analysis</b>",
           "",
           "2020-01-11",
           "From <b>Jan-11-2020</b> to <b>Jan-11-2020</b>",
           0.1229
          ],
          [
           "<b>MAPE</b> (estimated MAPE)",
           "<b style=\"color:#3b0280;line-height:60px\">Analysis</b>",
           "",
           "2020-01-12",
           "From <b>Jan-12-2020</b> to <b>Jan-12-2020</b>",
           0.1082
          ],
          [
           "<b>MAPE</b> (estimated MAPE)",
           "<b style=\"color:#3b0280;line-height:60px\">Analysis</b>",
           "",
           "2020-01-13",
           "From <b>Jan-13-2020</b> to <b>Jan-13-2020</b>",
           0.115
          ],
          [
           "<b>MAPE</b> (estimated MAPE)",
           "<b style=\"color:#3b0280;line-height:60px\">Analysis</b>",
           "",
           "2020-01-14",
           "From <b>Jan-14-2020</b> to <b>Jan-14-2020</b>",
           0.1011
          ],
          [
           "<b>MAPE</b> (estimated MAPE)",
           "<b style=\"color:#3b0280;line-height:60px\">Analysis</b>",
           "",
           "2020-01-15",
           "From <b>Jan-15-2020</b> to <b>Jan-15-2020</b>",
           0.1484
          ],
          [
           "<b>MAPE</b> (estimated MAPE)",
           "<b style=\"color:#3b0280;line-height:60px\">Analysis</b>",
           "",
           "2020-01-16",
           "From <b>Jan-16-2020</b> to <b>Jan-16-2020</b>",
           0.127
          ],
          [
           "<b>MAPE</b> (estimated MAPE)",
           "<b style=\"color:#3b0280;line-height:60px\">Analysis</b>",
           "",
           "2020-01-17",
           "From <b>Jan-17-2020</b> to <b>Jan-17-2020</b>",
           0.113
          ],
          [
           "<b>MAPE</b> (estimated MAPE)",
           "<b style=\"color:#3b0280;line-height:60px\">Analysis</b>",
           "",
           "2020-01-18",
           "From <b>Jan-18-2020</b> to <b>Jan-18-2020</b>",
           0.119
          ],
          [
           "<b>MAPE</b> (estimated MAPE)",
           "<b style=\"color:#3b0280;line-height:60px\">Analysis</b>",
           "",
           "2020-01-19",
           "From <b>Jan-19-2020</b> to <b>Jan-19-2020</b>",
           0.1047
          ],
          [
           "<b>MAPE</b> (estimated MAPE)",
           "<b style=\"color:#3b0280;line-height:60px\">Analysis</b>",
           "",
           "2020-01-20",
           "From <b>Jan-20-2020</b> to <b>Jan-20-2020</b>",
           0.1404
          ],
          [
           "<b>MAPE</b> (estimated MAPE)",
           "<b style=\"color:#3b0280;line-height:60px\">Analysis</b>",
           "",
           "2020-01-21",
           "From <b>Jan-21-2020</b> to <b>Jan-21-2020</b>",
           0.1091
          ],
          [
           "<b>MAPE</b> (estimated MAPE)",
           "<b style=\"color:#3b0280;line-height:60px\">Analysis</b>",
           "",
           "2020-01-22",
           "From <b>Jan-22-2020</b> to <b>Jan-22-2020</b>",
           0.1128
          ],
          [
           "<b>MAPE</b> (estimated MAPE)",
           "<b style=\"color:#3b0280;line-height:60px\">Analysis</b>",
           "",
           "2020-01-23",
           "From <b>Jan-23-2020</b> to <b>Jan-23-2020</b>",
           0.1
          ],
          [
           "<b>MAPE</b> (estimated MAPE)",
           "<b style=\"color:#3b0280;line-height:60px\">Analysis</b>",
           "",
           "2020-01-24",
           "From <b>Jan-24-2020</b> to <b>Jan-24-2020</b>",
           0.0999
          ],
          [
           "<b>MAPE</b> (estimated MAPE)",
           "<b style=\"color:#3b0280;line-height:60px\">Analysis</b>",
           "",
           "2020-01-25",
           "From <b>Jan-25-2020</b> to <b>Jan-25-2020</b>",
           0.0987
          ],
          [
           "<b>MAPE</b> (estimated MAPE)",
           "<b style=\"color:#3b0280;line-height:60px\">Analysis</b>",
           "",
           "2020-01-26",
           "From <b>Jan-26-2020</b> to <b>Jan-26-2020</b>",
           0.1202
          ],
          [
           "<b>MAPE</b> (estimated MAPE)",
           "<b style=\"color:#3b0280;line-height:60px\">Analysis</b>",
           "",
           "2020-01-27",
           "From <b>Jan-27-2020</b> to <b>Jan-27-2020</b>",
           0.0951
          ],
          [
           "<b>MAPE</b> (estimated MAPE)",
           "<b style=\"color:#3b0280;line-height:60px\">Analysis</b>",
           "",
           "2020-01-28",
           "From <b>Jan-28-2020</b> to <b>Jan-28-2020</b>",
           0.1168
          ],
          [
           "<b>MAPE</b> (estimated MAPE)",
           "<b style=\"color:#3b0280;line-height:60px\">Analysis</b>",
           "",
           "2020-01-29",
           "From <b>Jan-29-2020</b> to <b>Jan-29-2020</b>",
           0.1243
          ],
          [
           "<b>MAPE</b> (estimated MAPE)",
           "<b style=\"color:#3b0280;line-height:60px\">Analysis</b>",
           "",
           "2020-01-30",
           "From <b>Jan-30-2020</b> to <b>Jan-30-2020</b>",
           0.1408
          ],
          [
           "<b>MAPE</b> (estimated MAPE)",
           "<b style=\"color:#3b0280;line-height:60px\">Analysis</b>",
           "",
           "2020-01-31",
           "From <b>Jan-31-2020</b> to <b>Jan-31-2020</b>",
           0.1297
          ],
          [
           "<b>MAPE</b> (estimated MAPE)",
           "<b style=\"color:#3b0280;line-height:60px\">Analysis</b>",
           "",
           "2020-02-01",
           "From <b>Feb-01-2020</b> to <b>Feb-01-2020</b>",
           0.1015
          ],
          [
           "<b>MAPE</b> (estimated MAPE)",
           "<b style=\"color:#3b0280;line-height:60px\">Analysis</b>",
           "",
           "2020-02-02",
           "From <b>Feb-02-2020</b> to <b>Feb-02-2020</b>",
           0.0893
          ],
          [
           "<b>MAPE</b> (estimated MAPE)",
           "<b style=\"color:#3b0280;line-height:60px\">Analysis</b>",
           "",
           "2020-02-03",
           "From <b>Feb-03-2020</b> to <b>Feb-03-2020</b>",
           0.1039
          ],
          [
           "<b>MAPE</b> (estimated MAPE)",
           "<b style=\"color:#3b0280;line-height:60px\">Analysis</b>",
           "",
           "2020-02-04",
           "From <b>Feb-04-2020</b> to <b>Feb-04-2020</b>",
           0.0977
          ],
          [
           "<b>MAPE</b> (estimated MAPE)",
           "<b style=\"color:#3b0280;line-height:60px\">Analysis</b>",
           "",
           "2020-02-05",
           "From <b>Feb-05-2020</b> to <b>Feb-05-2020</b>",
           0.114
          ],
          [
           "<b>MAPE</b> (estimated MAPE)",
           "<b style=\"color:#3b0280;line-height:60px\">Analysis</b>",
           "",
           "2020-02-06",
           "From <b>Feb-06-2020</b> to <b>Feb-06-2020</b>",
           0.1047
          ],
          [
           "<b>MAPE</b> (estimated MAPE)",
           "<b style=\"color:#3b0280;line-height:60px\">Analysis</b>",
           "",
           "2020-02-07",
           "From <b>Feb-07-2020</b> to <b>Feb-07-2020</b>",
           0.1287
          ],
          [
           "<b>MAPE</b> (estimated MAPE)",
           "<b style=\"color:#3b0280;line-height:60px\">Analysis</b>",
           "",
           "2020-02-08",
           "From <b>Feb-08-2020</b> to <b>Feb-08-2020</b>",
           0.1208
          ],
          [
           "<b>MAPE</b> (estimated MAPE)",
           "<b style=\"color:#3b0280;line-height:60px\">Analysis</b>",
           "",
           "2020-02-09",
           "From <b>Feb-09-2020</b> to <b>Feb-09-2020</b>",
           0.1191
          ],
          [
           "<b>MAPE</b> (estimated MAPE)",
           "<b style=\"color:#3b0280;line-height:60px\">Analysis</b>",
           "",
           "2020-02-10",
           "From <b>Feb-10-2020</b> to <b>Feb-10-2020</b>",
           0.1168
          ],
          [
           "<b>MAPE</b> (estimated MAPE)",
           "<b style=\"color:#3b0280;line-height:60px\">Analysis</b>",
           "",
           "2020-02-11",
           "From <b>Feb-11-2020</b> to <b>Feb-11-2020</b>",
           0.1353
          ],
          [
           "<b>MAPE</b> (estimated MAPE)",
           "<b style=\"color:#3b0280;line-height:60px\">Analysis</b>",
           "",
           "2020-02-12",
           "From <b>Feb-12-2020</b> to <b>Feb-12-2020</b>",
           0.1827
          ],
          [
           "<b>MAPE</b> (estimated MAPE)",
           "<b style=\"color:#3b0280;line-height:60px\">Analysis</b>",
           "",
           "2020-02-13",
           "From <b>Feb-13-2020</b> to <b>Feb-13-2020</b>",
           0.1704
          ],
          [
           "<b>MAPE</b> (estimated MAPE)",
           "<b style=\"color:#3b0280;line-height:60px\">Analysis</b>",
           "",
           "2020-02-14",
           "From <b>Feb-14-2020</b> to <b>Feb-14-2020</b>",
           0.1314
          ],
          [
           "<b>MAPE</b> (estimated MAPE)",
           "<b style=\"color:#3b0280;line-height:60px\">Analysis</b>",
           "",
           "2020-02-15",
           "From <b>Feb-15-2020</b> to <b>Feb-15-2020</b>",
           0.1265
          ],
          [
           "<b>MAPE</b> (estimated MAPE)",
           "<b style=\"color:#3b0280;line-height:60px\">Analysis</b>",
           "",
           "2020-02-16",
           "From <b>Feb-16-2020</b> to <b>Feb-16-2020</b>",
           0.1286
          ],
          [
           "<b>MAPE</b> (estimated MAPE)",
           "<b style=\"color:#3b0280;line-height:60px\">Analysis</b>",
           "",
           "2020-02-17",
           "From <b>Feb-17-2020</b> to <b>Feb-17-2020</b>",
           0.1388
          ],
          [
           "<b>MAPE</b> (estimated MAPE)",
           "<b style=\"color:#3b0280;line-height:60px\">Analysis</b>",
           "",
           "2020-02-18",
           "From <b>Feb-18-2020</b> to <b>Feb-18-2020</b>",
           0.1401
          ],
          [
           "<b>MAPE</b> (estimated MAPE)",
           "<b style=\"color:#3b0280;line-height:60px\">Analysis</b>",
           "<span style=\"color:#AD0000\">⚠ <b>Drift detected</b></span>",
           "2020-02-19",
           "From <b>Feb-19-2020</b> to <b>Feb-19-2020</b>",
           0.2771
          ],
          [
           "<b>MAPE</b> (estimated MAPE)",
           "<b style=\"color:#3b0280;line-height:60px\">Analysis</b>",
           "<span style=\"color:#AD0000\">⚠ <b>Drift detected</b></span>",
           "2020-02-20",
           "From <b>Feb-20-2020</b> to <b>Feb-20-2020</b>",
           0.2575
          ],
          [
           "<b>MAPE</b> (estimated MAPE)",
           "<b style=\"color:#3b0280;line-height:60px\">Analysis</b>",
           "",
           "2020-02-21",
           "From <b>Feb-21-2020</b> to <b>Feb-21-2020</b>",
           0.229
          ],
          [
           "<b>MAPE</b> (estimated MAPE)",
           "<b style=\"color:#3b0280;line-height:60px\">Analysis</b>",
           "<span style=\"color:#AD0000\">⚠ <b>Drift detected</b></span>",
           "2020-02-22",
           "From <b>Feb-22-2020</b> to <b>Feb-22-2020</b>",
           0.2485
          ],
          [
           "<b>MAPE</b> (estimated MAPE)",
           "<b style=\"color:#3b0280;line-height:60px\">Analysis</b>",
           "<span style=\"color:#AD0000\">⚠ <b>Drift detected</b></span>",
           "2020-02-23",
           "From <b>Feb-23-2020</b> to <b>Feb-23-2020</b>",
           0.2643
          ],
          [
           "<b>MAPE</b> (estimated MAPE)",
           "<b style=\"color:#3b0280;line-height:60px\">Analysis</b>",
           "<span style=\"color:#AD0000\">⚠ <b>Drift detected</b></span>",
           "2020-02-24",
           "From <b>Feb-24-2020</b> to <b>Feb-24-2020</b>",
           0.232
          ],
          [
           "<b>MAPE</b> (estimated MAPE)",
           "<b style=\"color:#3b0280;line-height:60px\">Analysis</b>",
           "<span style=\"color:#AD0000\">⚠ <b>Drift detected</b></span>",
           "2020-02-25",
           "From <b>Feb-25-2020</b> to <b>Feb-25-2020</b>",
           0.2325
          ],
          [
           "<b>MAPE</b> (estimated MAPE)",
           "<b style=\"color:#3b0280;line-height:60px\">Analysis</b>",
           "",
           "2020-02-26",
           "From <b>Feb-26-2020</b> to <b>Feb-26-2020</b>",
           0.2295
          ],
          [
           "<b>MAPE</b> (estimated MAPE)",
           "<b style=\"color:#3b0280;line-height:60px\">Analysis</b>",
           "",
           "2020-02-27",
           "From <b>Feb-27-2020</b> to <b>Feb-27-2020</b>",
           0.2028
          ],
          [
           "<b>MAPE</b> (estimated MAPE)",
           "<b style=\"color:#3b0280;line-height:60px\">Analysis</b>",
           "",
           "2020-02-28",
           "From <b>Feb-28-2020</b> to <b>Feb-28-2020</b>",
           0.1905
          ],
          [
           "<b>MAPE</b> (estimated MAPE)",
           "<b style=\"color:#3b0280;line-height:60px\">Analysis</b>",
           "",
           "2020-02-29",
           "From <b>Feb-29-2020</b> to <b>Feb-29-2020</b>",
           0.1982
          ],
          [
           "<b>MAPE</b> (estimated MAPE)",
           "<b style=\"color:#3b0280;line-height:60px\">Analysis</b>",
           "",
           "2020-03-01",
           "From <b>Mar-01-2020</b> to <b>Mar-01-2020</b>",
           0.1944
          ],
          [
           "<b>MAPE</b> (estimated MAPE)",
           "<b style=\"color:#3b0280;line-height:60px\">Analysis</b>",
           "",
           "2020-03-02",
           "From <b>Mar-02-2020</b> to <b>Mar-02-2020</b>",
           0.2123
          ],
          [
           "<b>MAPE</b> (estimated MAPE)",
           "<b style=\"color:#3b0280;line-height:60px\">Analysis</b>",
           "",
           "2020-03-03",
           "From <b>Mar-03-2020</b> to <b>Mar-03-2020</b>",
           0.1975
          ],
          [
           "<b>MAPE</b> (estimated MAPE)",
           "<b style=\"color:#3b0280;line-height:60px\">Analysis</b>",
           "",
           "2020-03-04",
           "From <b>Mar-04-2020</b> to <b>Mar-04-2020</b>",
           0.2169
          ],
          [
           "<b>MAPE</b> (estimated MAPE)",
           "<b style=\"color:#3b0280;line-height:60px\">Analysis</b>",
           "",
           "2020-03-05",
           "From <b>Mar-05-2020</b> to <b>Mar-05-2020</b>",
           0.221
          ],
          [
           "<b>MAPE</b> (estimated MAPE)",
           "<b style=\"color:#3b0280;line-height:60px\">Analysis</b>",
           "",
           "2020-03-06",
           "From <b>Mar-06-2020</b> to <b>Mar-06-2020</b>",
           0.1277
          ],
          [
           "<b>MAPE</b> (estimated MAPE)",
           "<b style=\"color:#3b0280;line-height:60px\">Analysis</b>",
           "",
           "2020-03-07",
           "From <b>Mar-07-2020</b> to <b>Mar-07-2020</b>",
           0.1158
          ],
          [
           "<b>MAPE</b> (estimated MAPE)",
           "<b style=\"color:#3b0280;line-height:60px\">Analysis</b>",
           "",
           "2020-03-08",
           "From <b>Mar-08-2020</b> to <b>Mar-08-2020</b>",
           0.1137
          ],
          [
           "<b>MAPE</b> (estimated MAPE)",
           "<b style=\"color:#3b0280;line-height:60px\">Analysis</b>",
           "",
           "2020-03-09",
           "From <b>Mar-09-2020</b> to <b>Mar-09-2020</b>",
           0.103
          ],
          [
           "<b>MAPE</b> (estimated MAPE)",
           "<b style=\"color:#3b0280;line-height:60px\">Analysis</b>",
           "",
           "2020-03-10",
           "From <b>Mar-10-2020</b> to <b>Mar-10-2020</b>",
           0.1686
          ],
          [
           "<b>MAPE</b> (estimated MAPE)",
           "<b style=\"color:#3b0280;line-height:60px\">Analysis</b>",
           "",
           "2020-03-11",
           "From <b>Mar-11-2020</b> to <b>Mar-11-2020</b>",
           0.172
          ],
          [
           "<b>MAPE</b> (estimated MAPE)",
           "<b style=\"color:#3b0280;line-height:60px\">Analysis</b>",
           "",
           "2020-03-12",
           "From <b>Mar-12-2020</b> to <b>Mar-12-2020</b>",
           0.1006
          ],
          [
           "<b>MAPE</b> (estimated MAPE)",
           "<b style=\"color:#3b0280;line-height:60px\">Analysis</b>",
           "",
           "2020-03-13",
           "From <b>Mar-13-2020</b> to <b>Mar-13-2020</b>",
           0.1382
          ],
          [
           "<b>MAPE</b> (estimated MAPE)",
           "<b style=\"color:#3b0280;line-height:60px\">Analysis</b>",
           "",
           "2020-03-14",
           "From <b>Mar-14-2020</b> to <b>Mar-14-2020</b>",
           0.0913
          ],
          [
           "<b>MAPE</b> (estimated MAPE)",
           "<b style=\"color:#3b0280;line-height:60px\">Analysis</b>",
           "",
           "2020-03-15",
           "From <b>Mar-15-2020</b> to <b>Mar-15-2020</b>",
           0.1051
          ],
          [
           "<b>MAPE</b> (estimated MAPE)",
           "<b style=\"color:#3b0280;line-height:60px\">Analysis</b>",
           "",
           "2020-03-16",
           "From <b>Mar-16-2020</b> to <b>Mar-16-2020</b>",
           0.1383
          ],
          [
           "<b>MAPE</b> (estimated MAPE)",
           "<b style=\"color:#3b0280;line-height:60px\">Analysis</b>",
           "",
           "2020-03-17",
           "From <b>Mar-17-2020</b> to <b>Mar-17-2020</b>",
           0.1294
          ],
          [
           "<b>MAPE</b> (estimated MAPE)",
           "<b style=\"color:#3b0280;line-height:60px\">Analysis</b>",
           "",
           "2020-03-18",
           "From <b>Mar-18-2020</b> to <b>Mar-18-2020</b>",
           0.139
          ],
          [
           "<b>MAPE</b> (estimated MAPE)",
           "<b style=\"color:#3b0280;line-height:60px\">Analysis</b>",
           "",
           "2020-03-19",
           "From <b>Mar-19-2020</b> to <b>Mar-19-2020</b>",
           0.1183
          ],
          [
           "<b>MAPE</b> (estimated MAPE)",
           "<b style=\"color:#3b0280;line-height:60px\">Analysis</b>",
           "",
           "2020-03-20",
           "From <b>Mar-20-2020</b> to <b>Mar-20-2020</b>",
           0.1534
          ],
          [
           "<b>MAPE</b> (estimated MAPE)",
           "<b style=\"color:#3b0280;line-height:60px\">Analysis</b>",
           "",
           "2020-03-21",
           "From <b>Mar-21-2020</b> to <b>Mar-21-2020</b>",
           0.1033
          ],
          [
           "<b>MAPE</b> (estimated MAPE)",
           "<b style=\"color:#3b0280;line-height:60px\">Analysis</b>",
           "",
           "2020-03-22",
           "From <b>Mar-22-2020</b> to <b>Mar-22-2020</b>",
           0.1181
          ],
          [
           "<b>MAPE</b> (estimated MAPE)",
           "<b style=\"color:#3b0280;line-height:60px\">Analysis</b>",
           "",
           "2020-03-23",
           "From <b>Mar-23-2020</b> to <b>Mar-23-2020</b>",
           0.1103
          ],
          [
           "<b>MAPE</b> (estimated MAPE)",
           "<b style=\"color:#3b0280;line-height:60px\">Analysis</b>",
           "",
           "2020-03-24",
           "From <b>Mar-24-2020</b> to <b>Mar-24-2020</b>",
           0.154
          ],
          [
           "<b>MAPE</b> (estimated MAPE)",
           "<b style=\"color:#3b0280;line-height:60px\">Analysis</b>",
           "",
           "2020-03-25",
           "From <b>Mar-25-2020</b> to <b>Mar-25-2020</b>",
           0.1136
          ],
          [
           "<b>MAPE</b> (estimated MAPE)",
           "<b style=\"color:#3b0280;line-height:60px\">Analysis</b>",
           "",
           "2020-03-26",
           "From <b>Mar-26-2020</b> to <b>Mar-26-2020</b>",
           0.1029
          ],
          [
           "<b>MAPE</b> (estimated MAPE)",
           "<b style=\"color:#3b0280;line-height:60px\">Analysis</b>",
           "",
           "2020-03-27",
           "From <b>Mar-27-2020</b> to <b>Mar-27-2020</b>",
           0.1143
          ],
          [
           "<b>MAPE</b> (estimated MAPE)",
           "<b style=\"color:#3b0280;line-height:60px\">Analysis</b>",
           "",
           "2020-03-28",
           "From <b>Mar-28-2020</b> to <b>Mar-28-2020</b>",
           0.1325
          ],
          [
           "<b>MAPE</b> (estimated MAPE)",
           "<b style=\"color:#3b0280;line-height:60px\">Analysis</b>",
           "",
           "2020-03-29",
           "From <b>Mar-29-2020</b> to <b>Mar-29-2020</b>",
           0.115
          ],
          [
           "<b>MAPE</b> (estimated MAPE)",
           "<b style=\"color:#3b0280;line-height:60px\">Analysis</b>",
           "",
           "2020-03-30",
           "From <b>Mar-30-2020</b> to <b>Mar-30-2020</b>",
           0.1366
          ],
          [
           "<b>MAPE</b> (estimated MAPE)",
           "<b style=\"color:#3b0280;line-height:60px\">Analysis</b>",
           "",
           "2020-03-31",
           "From <b>Mar-31-2020</b> to <b>Mar-31-2020</b>",
           0.1812
          ],
          [
           "<b>MAPE</b> (estimated MAPE)",
           "<b style=\"color:#3b0280;line-height:60px\">Analysis</b>",
           "",
           "2020-04-01",
           "From <b>Apr-01-2020</b> to <b>Apr-01-2020</b>",
           0.2261
          ],
          [
           "<b>MAPE</b> (estimated MAPE)",
           "<b style=\"color:#3b0280;line-height:60px\">Analysis</b>",
           "<span style=\"color:#AD0000\">⚠ <b>Drift detected</b></span>",
           "2020-04-02",
           "From <b>Apr-02-2020</b> to <b>Apr-02-2020</b>",
           0.2445
          ],
          [
           "<b>MAPE</b> (estimated MAPE)",
           "<b style=\"color:#3b0280;line-height:60px\">Analysis</b>",
           "<span style=\"color:#AD0000\">⚠ <b>Drift detected</b></span>",
           "2020-04-03",
           "From <b>Apr-03-2020</b> to <b>Apr-03-2020</b>",
           0.2757
          ],
          [
           "<b>MAPE</b> (estimated MAPE)",
           "<b style=\"color:#3b0280;line-height:60px\">Analysis</b>",
           "<span style=\"color:#AD0000\">⚠ <b>Drift detected</b></span>",
           "2020-04-04",
           "From <b>Apr-04-2020</b> to <b>Apr-04-2020</b>",
           0.2425
          ],
          [
           "<b>MAPE</b> (estimated MAPE)",
           "<b style=\"color:#3b0280;line-height:60px\">Analysis</b>",
           "",
           "2020-04-05",
           "From <b>Apr-05-2020</b> to <b>Apr-05-2020</b>",
           0.1911
          ],
          [
           "<b>MAPE</b> (estimated MAPE)",
           "<b style=\"color:#3b0280;line-height:60px\">Analysis</b>",
           "",
           "2020-04-06",
           "From <b>Apr-06-2020</b> to <b>Apr-06-2020</b>",
           0.1583
          ],
          [
           "<b>MAPE</b> (estimated MAPE)",
           "<b style=\"color:#3b0280;line-height:60px\">Analysis</b>",
           "",
           "2020-04-07",
           "From <b>Apr-07-2020</b> to <b>Apr-07-2020</b>",
           0.1445
          ],
          [
           "<b>MAPE</b> (estimated MAPE)",
           "<b style=\"color:#3b0280;line-height:60px\">Analysis</b>",
           "",
           "2020-04-08",
           "From <b>Apr-08-2020</b> to <b>Apr-08-2020</b>",
           0.1378
          ],
          [
           "<b>MAPE</b> (estimated MAPE)",
           "<b style=\"color:#3b0280;line-height:60px\">Analysis</b>",
           "",
           "2020-04-09",
           "From <b>Apr-09-2020</b> to <b>Apr-09-2020</b>",
           0.145
          ],
          [
           "<b>MAPE</b> (estimated MAPE)",
           "<b style=\"color:#3b0280;line-height:60px\">Analysis</b>",
           "",
           "2020-04-10",
           "From <b>Apr-10-2020</b> to <b>Apr-10-2020</b>",
           0.1345
          ],
          [
           "<b>MAPE</b> (estimated MAPE)",
           "<b style=\"color:#3b0280;line-height:60px\">Analysis</b>",
           "",
           "2020-04-11",
           "From <b>Apr-11-2020</b> to <b>Apr-11-2020</b>",
           0.1632
          ],
          [
           "<b>MAPE</b> (estimated MAPE)",
           "<b style=\"color:#3b0280;line-height:60px\">Analysis</b>",
           "",
           "2020-04-12",
           "From <b>Apr-12-2020</b> to <b>Apr-12-2020</b>",
           0.1634
          ],
          [
           "<b>MAPE</b> (estimated MAPE)",
           "<b style=\"color:#3b0280;line-height:60px\">Analysis</b>",
           "",
           "2020-04-13",
           "From <b>Apr-13-2020</b> to <b>Apr-13-2020</b>",
           0.1476
          ],
          [
           "<b>MAPE</b> (estimated MAPE)",
           "<b style=\"color:#3b0280;line-height:60px\">Analysis</b>",
           "",
           "2020-04-14",
           "From <b>Apr-14-2020</b> to <b>Apr-14-2020</b>",
           0.1349
          ],
          [
           "<b>MAPE</b> (estimated MAPE)",
           "<b style=\"color:#3b0280;line-height:60px\">Analysis</b>",
           "",
           "2020-04-15",
           "From <b>Apr-15-2020</b> to <b>Apr-15-2020</b>",
           0.141
          ],
          [
           "<b>MAPE</b> (estimated MAPE)",
           "<b style=\"color:#3b0280;line-height:60px\">Analysis</b>",
           "",
           "2020-04-16",
           "From <b>Apr-16-2020</b> to <b>Apr-16-2020</b>",
           0.1808
          ],
          [
           "<b>MAPE</b> (estimated MAPE)",
           "<b style=\"color:#3b0280;line-height:60px\">Analysis</b>",
           "",
           "2020-04-17",
           "From <b>Apr-17-2020</b> to <b>Apr-17-2020</b>",
           0.1816
          ],
          [
           "<b>MAPE</b> (estimated MAPE)",
           "<b style=\"color:#3b0280;line-height:60px\">Analysis</b>",
           "",
           "2020-04-18",
           "From <b>Apr-18-2020</b> to <b>Apr-18-2020</b>",
           0.1348
          ],
          [
           "<b>MAPE</b> (estimated MAPE)",
           "<b style=\"color:#3b0280;line-height:60px\">Analysis</b>",
           "",
           "2020-04-19",
           "From <b>Apr-19-2020</b> to <b>Apr-19-2020</b>",
           0.135
          ],
          [
           "<b>MAPE</b> (estimated MAPE)",
           "<b style=\"color:#3b0280;line-height:60px\">Analysis</b>",
           "",
           "2020-04-20",
           "From <b>Apr-20-2020</b> to <b>Apr-20-2020</b>",
           0.1172
          ],
          [
           "<b>MAPE</b> (estimated MAPE)",
           "<b style=\"color:#3b0280;line-height:60px\">Analysis</b>",
           "",
           "2020-04-21",
           "From <b>Apr-21-2020</b> to <b>Apr-21-2020</b>",
           0.1217
          ],
          [
           "<b>MAPE</b> (estimated MAPE)",
           "<b style=\"color:#3b0280;line-height:60px\">Analysis</b>",
           "",
           "2020-04-22",
           "From <b>Apr-22-2020</b> to <b>Apr-22-2020</b>",
           0.1182
          ],
          [
           "<b>MAPE</b> (estimated MAPE)",
           "<b style=\"color:#3b0280;line-height:60px\">Analysis</b>",
           "",
           "2020-04-23",
           "From <b>Apr-23-2020</b> to <b>Apr-23-2020</b>",
           0.1104
          ],
          [
           "<b>MAPE</b> (estimated MAPE)",
           "<b style=\"color:#3b0280;line-height:60px\">Analysis</b>",
           "",
           "2020-04-24",
           "From <b>Apr-24-2020</b> to <b>Apr-24-2020</b>",
           0.1349
          ],
          [
           "<b>MAPE</b> (estimated MAPE)",
           "<b style=\"color:#3b0280;line-height:60px\">Analysis</b>",
           "",
           "2020-04-25",
           "From <b>Apr-25-2020</b> to <b>Apr-25-2020</b>",
           0.1254
          ],
          [
           "<b>MAPE</b> (estimated MAPE)",
           "<b style=\"color:#3b0280;line-height:60px\">Analysis</b>",
           "",
           "2020-04-26",
           "From <b>Apr-26-2020</b> to <b>Apr-26-2020</b>",
           0.1425
          ],
          [
           "<b>MAPE</b> (estimated MAPE)",
           "<b style=\"color:#3b0280;line-height:60px\">Analysis</b>",
           "",
           "2020-04-27",
           "From <b>Apr-27-2020</b> to <b>Apr-27-2020</b>",
           0.098
          ]
         ],
         "hovertemplate": "%{customdata[1]} &nbsp; &nbsp; %{customdata[2]} <br />Chunk: <b>%{customdata[3]}</b> &nbsp; &nbsp; %{customdata[4]} <br />%{customdata[0]}: <b>%{customdata[5]}</b><br /><extra></extra>",
         "line": {
          "dash": "dash"
         },
         "marker": {
          "color": "#3b0280",
          "size": 5,
          "symbol": "circle"
         },
         "mode": "markers",
         "name": "<b>MAPE</b> (estimated MAPE)",
         "showlegend": false,
         "type": "scatter",
         "x": [
          "2019-12-24T12:00:00",
          "2019-12-25T12:00:00",
          "2019-12-26T12:00:00",
          "2019-12-27T12:00:00",
          "2019-12-28T12:00:00",
          "2019-12-29T12:00:00",
          "2019-12-30T12:00:00",
          "2019-12-31T12:00:00",
          "2020-01-01T12:00:00",
          "2020-01-02T12:00:00",
          "2020-01-03T12:00:00",
          "2020-01-04T12:00:00",
          "2020-01-05T12:00:00",
          "2020-01-06T12:00:00",
          "2020-01-07T12:00:00",
          "2020-01-08T12:00:00",
          "2020-01-09T12:00:00",
          "2020-01-10T12:00:00",
          "2020-01-11T12:00:00",
          "2020-01-12T12:00:00",
          "2020-01-13T12:00:00",
          "2020-01-14T12:00:00",
          "2020-01-15T12:00:00",
          "2020-01-16T12:00:00",
          "2020-01-17T12:00:00",
          "2020-01-18T12:00:00",
          "2020-01-19T12:00:00",
          "2020-01-20T12:00:00",
          "2020-01-21T12:00:00",
          "2020-01-22T12:00:00",
          "2020-01-23T12:00:00",
          "2020-01-24T12:00:00",
          "2020-01-25T12:00:00",
          "2020-01-26T12:00:00",
          "2020-01-27T12:00:00",
          "2020-01-28T12:00:00",
          "2020-01-29T12:00:00",
          "2020-01-30T12:00:00",
          "2020-01-31T12:00:00",
          "2020-02-01T12:00:00",
          "2020-02-02T12:00:00",
          "2020-02-03T12:00:00",
          "2020-02-04T12:00:00",
          "2020-02-05T12:00:00",
          "2020-02-06T12:00:00",
          "2020-02-07T12:00:00",
          "2020-02-08T12:00:00",
          "2020-02-09T12:00:00",
          "2020-02-10T12:00:00",
          "2020-02-11T12:00:00",
          "2020-02-12T12:00:00",
          "2020-02-13T12:00:00",
          "2020-02-14T12:00:00",
          "2020-02-15T12:00:00",
          "2020-02-16T12:00:00",
          "2020-02-17T12:00:00",
          "2020-02-18T12:00:00",
          "2020-02-19T12:00:00",
          "2020-02-20T12:00:00",
          "2020-02-21T12:00:00",
          "2020-02-22T12:00:00",
          "2020-02-23T12:00:00",
          "2020-02-24T12:00:00",
          "2020-02-25T12:00:00",
          "2020-02-26T12:00:00",
          "2020-02-27T12:00:00",
          "2020-02-28T12:00:00",
          "2020-02-29T12:00:00",
          "2020-03-01T12:00:00",
          "2020-03-02T12:00:00",
          "2020-03-03T12:00:00",
          "2020-03-04T12:00:00",
          "2020-03-05T12:00:00",
          "2020-03-06T12:00:00",
          "2020-03-07T12:00:00",
          "2020-03-08T12:00:00",
          "2020-03-09T12:00:00",
          "2020-03-10T12:00:00",
          "2020-03-11T12:00:00",
          "2020-03-12T12:00:00",
          "2020-03-13T12:00:00",
          "2020-03-14T12:00:00",
          "2020-03-15T12:00:00",
          "2020-03-16T12:00:00",
          "2020-03-17T12:00:00",
          "2020-03-18T12:00:00",
          "2020-03-19T12:00:00",
          "2020-03-20T12:00:00",
          "2020-03-21T12:00:00",
          "2020-03-22T12:00:00",
          "2020-03-23T12:00:00",
          "2020-03-24T12:00:00",
          "2020-03-25T12:00:00",
          "2020-03-26T12:00:00",
          "2020-03-27T12:00:00",
          "2020-03-28T12:00:00",
          "2020-03-29T12:00:00",
          "2020-03-30T12:00:00",
          "2020-03-31T12:00:00",
          "2020-04-01T12:00:00",
          "2020-04-02T12:00:00",
          "2020-04-03T12:00:00",
          "2020-04-04T12:00:00",
          "2020-04-05T12:00:00",
          "2020-04-06T12:00:00",
          "2020-04-07T12:00:00",
          "2020-04-08T12:00:00",
          "2020-04-09T12:00:00",
          "2020-04-10T12:00:00",
          "2020-04-11T12:00:00",
          "2020-04-12T12:00:00",
          "2020-04-13T12:00:00",
          "2020-04-14T12:00:00",
          "2020-04-15T12:00:00",
          "2020-04-16T12:00:00",
          "2020-04-17T12:00:00",
          "2020-04-18T12:00:00",
          "2020-04-19T12:00:00",
          "2020-04-20T12:00:00",
          "2020-04-21T12:00:00",
          "2020-04-22T12:00:00",
          "2020-04-23T12:00:00",
          "2020-04-24T12:00:00",
          "2020-04-25T12:00:00",
          "2020-04-26T12:00:00",
          "2020-04-27T11:59:59.999999999"
         ],
         "xaxis": "x",
         "y": [
          0.14955399974142047,
          0.13586662996783147,
          0.1316987154702048,
          0.1365788067108258,
          0.12930705918463306,
          0.1194723781453696,
          0.12875059286751186,
          0.13864358396156548,
          0.1420631605008087,
          0.14021367520860537,
          0.13501468843184916,
          0.11291313457392822,
          0.1227356822414059,
          0.11024911926002928,
          0.14800426518587542,
          0.11064222576661333,
          0.10032138133249362,
          0.14176811465704928,
          0.12293475886931926,
          0.10819702478183106,
          0.11496444203327334,
          0.10109084200059336,
          0.14837766508343275,
          0.12696683711023507,
          0.11300854139879302,
          0.11895443943141316,
          0.10472792180633521,
          0.1403705109637385,
          0.10912711325615425,
          0.11278708306484937,
          0.09998076819286124,
          0.09992371639716036,
          0.09873734373066685,
          0.12015595459082044,
          0.09509090466776199,
          0.11676912696967286,
          0.1243240276725116,
          0.14077951476669623,
          0.1296768128904728,
          0.10151250729707922,
          0.08925397647692919,
          0.10387538070214193,
          0.09769397409777451,
          0.11397467642114173,
          0.10474839848501098,
          0.12868993229397555,
          0.12077304254810539,
          0.11914965661904155,
          0.11683368515657132,
          0.13530766317616705,
          0.18272237219213752,
          0.17040276963031276,
          0.13141680160384314,
          0.12650864938978873,
          0.12863303486652367,
          0.13877359647423926,
          0.1401450444887057,
          0.2770632162584378,
          0.2574752590526653,
          0.22904747813291224,
          0.24851694085330892,
          0.26425938393172316,
          0.2320249766674888,
          0.23249200674215853,
          0.22946334235320298,
          0.20279852163372414,
          0.19051761338444193,
          0.19819303564839205,
          0.19436366743918512,
          0.21230735902303735,
          0.1974577457865081,
          0.21693420357165985,
          0.22103995621136927,
          0.127700292041294,
          0.11577487829174331,
          0.11365751780039035,
          0.10304076394583267,
          0.1685812409850481,
          0.1720123999118762,
          0.10055614322899259,
          0.13818953423379746,
          0.0912612788220301,
          0.10505915478347287,
          0.13830781824284297,
          0.12942950540060036,
          0.13900113395259814,
          0.11829563625947544,
          0.15341098324881125,
          0.10333084782790518,
          0.11807767966974879,
          0.11025889737040968,
          0.15402083454002433,
          0.1136004354919871,
          0.10289955541456697,
          0.11429945098807347,
          0.1324594357775205,
          0.11497297156243179,
          0.13659139214420046,
          0.18124517611132476,
          0.22612702757208777,
          0.24451688046997952,
          0.27568855308321605,
          0.24246733474714036,
          0.1910583553747526,
          0.1583358157992645,
          0.14452672088128263,
          0.1377505590199887,
          0.1449530336241158,
          0.13453209719008064,
          0.16315967141683438,
          0.1634310626656399,
          0.14762865988877882,
          0.13487623044424188,
          0.1409820919324534,
          0.18082630121466658,
          0.1815642913871789,
          0.13483015696366804,
          0.1350362790702003,
          0.11722930429298627,
          0.12168869839222435,
          0.11821614818703574,
          0.11035499955108134,
          0.13486682908621783,
          0.12538699164255246,
          0.1425000299947499,
          0.09803650748045671,
          0.09803650748045671
         ],
         "yaxis": "y"
        },
        {
         "hoverinfo": "skip",
         "line": {
          "color": "rgba(0,0,0,0)",
          "shape": "hv"
         },
         "mode": "lines",
         "name": "Confidence band",
         "showlegend": false,
         "type": "scatter",
         "x": [
          "2019-12-24T00:00:00",
          "2019-12-25T00:00:00",
          "2019-12-26T00:00:00",
          "2019-12-27T00:00:00",
          "2019-12-28T00:00:00",
          "2019-12-29T00:00:00",
          "2019-12-30T00:00:00",
          "2019-12-31T00:00:00",
          "2020-01-01T00:00:00",
          "2020-01-02T00:00:00",
          "2020-01-03T00:00:00",
          "2020-01-04T00:00:00",
          "2020-01-05T00:00:00",
          "2020-01-06T00:00:00",
          "2020-01-07T00:00:00",
          "2020-01-08T00:00:00",
          "2020-01-09T00:00:00",
          "2020-01-10T00:00:00",
          "2020-01-11T00:00:00",
          "2020-01-12T00:00:00",
          "2020-01-13T00:00:00",
          "2020-01-14T00:00:00",
          "2020-01-15T00:00:00",
          "2020-01-16T00:00:00",
          "2020-01-17T00:00:00",
          "2020-01-18T00:00:00",
          "2020-01-19T00:00:00",
          "2020-01-20T00:00:00",
          "2020-01-21T00:00:00",
          "2020-01-22T00:00:00",
          "2020-01-23T00:00:00",
          "2020-01-24T00:00:00",
          "2020-01-25T00:00:00",
          "2020-01-26T00:00:00",
          "2020-01-27T00:00:00",
          "2020-01-28T00:00:00",
          "2020-01-29T00:00:00",
          "2020-01-30T00:00:00",
          "2020-01-31T00:00:00",
          "2020-02-01T00:00:00",
          "2020-02-02T00:00:00",
          "2020-02-03T00:00:00",
          "2020-02-04T00:00:00",
          "2020-02-05T00:00:00",
          "2020-02-06T00:00:00",
          "2020-02-07T00:00:00",
          "2020-02-08T00:00:00",
          "2020-02-09T00:00:00",
          "2020-02-10T00:00:00",
          "2020-02-11T00:00:00",
          "2020-02-12T00:00:00",
          "2020-02-13T00:00:00",
          "2020-02-14T00:00:00",
          "2020-02-15T00:00:00",
          "2020-02-16T00:00:00",
          "2020-02-17T00:00:00",
          "2020-02-18T00:00:00",
          "2020-02-19T00:00:00",
          "2020-02-20T00:00:00",
          "2020-02-21T00:00:00",
          "2020-02-22T00:00:00",
          "2020-02-23T00:00:00",
          "2020-02-24T00:00:00",
          "2020-02-25T00:00:00",
          "2020-02-26T00:00:00",
          "2020-02-27T00:00:00",
          "2020-02-28T00:00:00",
          "2020-02-29T00:00:00",
          "2020-03-01T00:00:00",
          "2020-03-02T00:00:00",
          "2020-03-03T00:00:00",
          "2020-03-04T00:00:00",
          "2020-03-05T00:00:00",
          "2020-03-06T00:00:00",
          "2020-03-07T00:00:00",
          "2020-03-08T00:00:00",
          "2020-03-09T00:00:00",
          "2020-03-10T00:00:00",
          "2020-03-11T00:00:00",
          "2020-03-12T00:00:00",
          "2020-03-13T00:00:00",
          "2020-03-14T00:00:00",
          "2020-03-15T00:00:00",
          "2020-03-16T00:00:00",
          "2020-03-17T00:00:00",
          "2020-03-18T00:00:00",
          "2020-03-19T00:00:00",
          "2020-03-20T00:00:00",
          "2020-03-21T00:00:00",
          "2020-03-22T00:00:00",
          "2020-03-23T00:00:00",
          "2020-03-24T00:00:00",
          "2020-03-25T00:00:00",
          "2020-03-26T00:00:00",
          "2020-03-27T00:00:00",
          "2020-03-28T00:00:00",
          "2020-03-29T00:00:00",
          "2020-03-30T00:00:00",
          "2020-03-31T00:00:00",
          "2020-04-01T00:00:00",
          "2020-04-02T00:00:00",
          "2020-04-03T00:00:00",
          "2020-04-04T00:00:00",
          "2020-04-05T00:00:00",
          "2020-04-06T00:00:00",
          "2020-04-07T00:00:00",
          "2020-04-08T00:00:00",
          "2020-04-09T00:00:00",
          "2020-04-10T00:00:00",
          "2020-04-11T00:00:00",
          "2020-04-12T00:00:00",
          "2020-04-13T00:00:00",
          "2020-04-14T00:00:00",
          "2020-04-15T00:00:00",
          "2020-04-16T00:00:00",
          "2020-04-17T00:00:00",
          "2020-04-18T00:00:00",
          "2020-04-19T00:00:00",
          "2020-04-20T00:00:00",
          "2020-04-21T00:00:00",
          "2020-04-22T00:00:00",
          "2020-04-23T00:00:00",
          "2020-04-24T00:00:00",
          "2020-04-25T00:00:00",
          "2020-04-26T00:00:00",
          "2020-04-27T00:00:00",
          "2020-04-27T23:59:59.999999999"
         ],
         "xaxis": "x",
         "y": [
          0.253362526794366,
          0.2306304165149707,
          0.22646250201734405,
          0.23134259325796505,
          0.2240708457317723,
          0.21423616469250883,
          0.2235143794146511,
          0.23340737050870472,
          0.23682694704794793,
          0.2349774617557446,
          0.2297784749789884,
          0.20767692112106745,
          0.21749946878854515,
          0.20501290580716852,
          0.24276805173301466,
          0.20540601231375255,
          0.19508516787963287,
          0.23653190120418852,
          0.2176985454164585,
          0.20296081132897031,
          0.20972822858041257,
          0.1958546285477326,
          0.243141451630572,
          0.2217306236573743,
          0.20777232794593226,
          0.2137182259785524,
          0.19949170835347446,
          0.23513429751087775,
          0.2038908998032935,
          0.2075508696119886,
          0.19474455474000046,
          0.1946875029442996,
          0.19350113027780608,
          0.2149197411379597,
          0.18985469121490123,
          0.21153291351681208,
          0.21908781421965084,
          0.23554330131383547,
          0.22444059943761205,
          0.19627629384421846,
          0.18401776302406841,
          0.19863916724928116,
          0.19245776064491377,
          0.20873846296828097,
          0.19951218503215024,
          0.22345371884111478,
          0.21553682909524463,
          0.21391344316618077,
          0.21159747170371057,
          0.2300714497233063,
          0.27748615873927673,
          0.265166556177452,
          0.22618058815098238,
          0.22127243593692797,
          0.2233968214136629,
          0.2335373830213785,
          0.23490883103584495,
          0.37182700280557707,
          0.3522390455998045,
          0.3238112646800515,
          0.3432807274004481,
          0.3590231704788624,
          0.326788763214628,
          0.32725579328929777,
          0.3242271289003422,
          0.2975623081808634,
          0.2852813999315812,
          0.2929568221955313,
          0.28912745398632433,
          0.30707114557017656,
          0.29222153233364734,
          0.31169799011879906,
          0.31580374275850853,
          0.22246407858843323,
          0.21053866483888256,
          0.2084213043475296,
          0.1978045504929719,
          0.26334502753218736,
          0.26677618645901546,
          0.19531992977613183,
          0.2329533207809367,
          0.18602506536916935,
          0.19982294133061212,
          0.2330716047899822,
          0.2241932919477396,
          0.23376492049973738,
          0.21305942280661466,
          0.2481747697959505,
          0.19809463437504443,
          0.21284146621688804,
          0.2050226839175489,
          0.24878462108716357,
          0.20836422203912636,
          0.1976633419617062,
          0.20906323753521272,
          0.22722322232465975,
          0.20973675810957104,
          0.2313551786913397,
          0.276008962658464,
          0.32089081411922704,
          0.3392806670171188,
          0.3704523396303553,
          0.33723112129427957,
          0.2858221419218918,
          0.2530996023464037,
          0.23929050742842187,
          0.23251434556712794,
          0.23971682017125504,
          0.22929588373721987,
          0.25792345796397365,
          0.25819484921277913,
          0.24239244643591806,
          0.22964001699138112,
          0.23574587847959264,
          0.2755900877618058,
          0.27632807793431813,
          0.22959394351080728,
          0.22980006561733954,
          0.21199309084012552,
          0.2164524849393636,
          0.21297993473417498,
          0.2051187860982206,
          0.22963061563335707,
          0.2201507781896917,
          0.23726381654188913,
          0.3301594306149688,
          0.3301594306149688
         ],
         "yaxis": "y"
        },
        {
         "fill": "tonexty",
         "fillcolor": "rgba(0.23137254901960785, 0.00784313725490196, 0.5019607843137255, 0.2)",
         "hoverinfo": "skip",
         "line": {
          "color": "rgba(0,0,0,0)",
          "shape": "hv"
         },
         "mode": "lines",
         "name": "Confidence band",
         "showlegend": true,
         "type": "scatter",
         "x": [
          "2019-12-24T00:00:00",
          "2019-12-25T00:00:00",
          "2019-12-26T00:00:00",
          "2019-12-27T00:00:00",
          "2019-12-28T00:00:00",
          "2019-12-29T00:00:00",
          "2019-12-30T00:00:00",
          "2019-12-31T00:00:00",
          "2020-01-01T00:00:00",
          "2020-01-02T00:00:00",
          "2020-01-03T00:00:00",
          "2020-01-04T00:00:00",
          "2020-01-05T00:00:00",
          "2020-01-06T00:00:00",
          "2020-01-07T00:00:00",
          "2020-01-08T00:00:00",
          "2020-01-09T00:00:00",
          "2020-01-10T00:00:00",
          "2020-01-11T00:00:00",
          "2020-01-12T00:00:00",
          "2020-01-13T00:00:00",
          "2020-01-14T00:00:00",
          "2020-01-15T00:00:00",
          "2020-01-16T00:00:00",
          "2020-01-17T00:00:00",
          "2020-01-18T00:00:00",
          "2020-01-19T00:00:00",
          "2020-01-20T00:00:00",
          "2020-01-21T00:00:00",
          "2020-01-22T00:00:00",
          "2020-01-23T00:00:00",
          "2020-01-24T00:00:00",
          "2020-01-25T00:00:00",
          "2020-01-26T00:00:00",
          "2020-01-27T00:00:00",
          "2020-01-28T00:00:00",
          "2020-01-29T00:00:00",
          "2020-01-30T00:00:00",
          "2020-01-31T00:00:00",
          "2020-02-01T00:00:00",
          "2020-02-02T00:00:00",
          "2020-02-03T00:00:00",
          "2020-02-04T00:00:00",
          "2020-02-05T00:00:00",
          "2020-02-06T00:00:00",
          "2020-02-07T00:00:00",
          "2020-02-08T00:00:00",
          "2020-02-09T00:00:00",
          "2020-02-10T00:00:00",
          "2020-02-11T00:00:00",
          "2020-02-12T00:00:00",
          "2020-02-13T00:00:00",
          "2020-02-14T00:00:00",
          "2020-02-15T00:00:00",
          "2020-02-16T00:00:00",
          "2020-02-17T00:00:00",
          "2020-02-18T00:00:00",
          "2020-02-19T00:00:00",
          "2020-02-20T00:00:00",
          "2020-02-21T00:00:00",
          "2020-02-22T00:00:00",
          "2020-02-23T00:00:00",
          "2020-02-24T00:00:00",
          "2020-02-25T00:00:00",
          "2020-02-26T00:00:00",
          "2020-02-27T00:00:00",
          "2020-02-28T00:00:00",
          "2020-02-29T00:00:00",
          "2020-03-01T00:00:00",
          "2020-03-02T00:00:00",
          "2020-03-03T00:00:00",
          "2020-03-04T00:00:00",
          "2020-03-05T00:00:00",
          "2020-03-06T00:00:00",
          "2020-03-07T00:00:00",
          "2020-03-08T00:00:00",
          "2020-03-09T00:00:00",
          "2020-03-10T00:00:00",
          "2020-03-11T00:00:00",
          "2020-03-12T00:00:00",
          "2020-03-13T00:00:00",
          "2020-03-14T00:00:00",
          "2020-03-15T00:00:00",
          "2020-03-16T00:00:00",
          "2020-03-17T00:00:00",
          "2020-03-18T00:00:00",
          "2020-03-19T00:00:00",
          "2020-03-20T00:00:00",
          "2020-03-21T00:00:00",
          "2020-03-22T00:00:00",
          "2020-03-23T00:00:00",
          "2020-03-24T00:00:00",
          "2020-03-25T00:00:00",
          "2020-03-26T00:00:00",
          "2020-03-27T00:00:00",
          "2020-03-28T00:00:00",
          "2020-03-29T00:00:00",
          "2020-03-30T00:00:00",
          "2020-03-31T00:00:00",
          "2020-04-01T00:00:00",
          "2020-04-02T00:00:00",
          "2020-04-03T00:00:00",
          "2020-04-04T00:00:00",
          "2020-04-05T00:00:00",
          "2020-04-06T00:00:00",
          "2020-04-07T00:00:00",
          "2020-04-08T00:00:00",
          "2020-04-09T00:00:00",
          "2020-04-10T00:00:00",
          "2020-04-11T00:00:00",
          "2020-04-12T00:00:00",
          "2020-04-13T00:00:00",
          "2020-04-14T00:00:00",
          "2020-04-15T00:00:00",
          "2020-04-16T00:00:00",
          "2020-04-17T00:00:00",
          "2020-04-18T00:00:00",
          "2020-04-19T00:00:00",
          "2020-04-20T00:00:00",
          "2020-04-21T00:00:00",
          "2020-04-22T00:00:00",
          "2020-04-23T00:00:00",
          "2020-04-24T00:00:00",
          "2020-04-25T00:00:00",
          "2020-04-26T00:00:00",
          "2020-04-27T00:00:00",
          "2020-04-27T23:59:59.999999999"
         ],
         "xaxis": "x",
         "y": [
          0.04574547268847498,
          0.04110284342069223,
          0.036934928923065574,
          0.04181502016368657,
          0.03454327263749382,
          0.024708591598230356,
          0.033986806320372626,
          0.04387979741442624,
          0.047299373953669455,
          0.045449888661466126,
          0.04025090188470992,
          0.018149348026788983,
          0.027971895694266655,
          0.015485332712890043,
          0.05324047863873618,
          0.015878439219474086,
          0.005557594785354378,
          0.04700432810991004,
          0.02817097232218002,
          0.013433238234691822,
          0.020200655486134103,
          0.00632705545345412,
          0.05361387853629351,
          0.03220305056309583,
          0.018244754851653777,
          0.024190652884273925,
          0.00996413525919597,
          0.04560672441659927,
          0.014363326709015009,
          0.018023296517710133,
          0.005216981645721999,
          0.005159929850021117,
          0.003973557183527612,
          0.025392168043681204,
          0.00032711812062274914,
          0.022005340422533617,
          0.029560241125372366,
          0.04601572821955699,
          0.03491302634333357,
          0.006748720749939985,
          0,
          0.009111594155002692,
          0.0029301875506352743,
          0.01921088987400249,
          0.009984611937871743,
          0.033926145746836306,
          0.026009256000966152,
          0.024385870071902307,
          0.02206989860943208,
          0.04054387662902781,
          0.08795858564499828,
          0.07563898308317352,
          0.0366530150567039,
          0.03174486284264949,
          0.033869248319384426,
          0.04400980992710002,
          0.04538125794156647,
          0.1822994297112986,
          0.16271147250552603,
          0.134283691585773,
          0.15375315430616968,
          0.16949559738458392,
          0.13726119012034957,
          0.1377282201950193,
          0.13469955580606374,
          0.1080347350865849,
          0.09575382683730269,
          0.10342924910125281,
          0.09959988089204588,
          0.11754357247589811,
          0.10269395923936886,
          0.12217041702452061,
          0.12627616966423003,
          0.03293650549415475,
          0.02101109174460407,
          0.01889373125325111,
          0.00827697739869343,
          0.07381745443790885,
          0.07724861336473696,
          0.00579235668185335,
          0.04342574768665822,
          0,
          0.010295368236333632,
          0.04354403169570373,
          0.03466571885346112,
          0.0442373474054589,
          0.023531849712336197,
          0.05864719670167201,
          0.008567061280765939,
          0.02331389312260955,
          0.015495110823270444,
          0.05925704799288509,
          0.018836648944847864,
          0.008135768867427728,
          0.019535664440934228,
          0.03769564923038127,
          0.02020918501529255,
          0.041827605597061224,
          0.08648138956418552,
          0.13136324102494853,
          0.14975309392284028,
          0.1809247665360768,
          0.14770354820000112,
          0.09629456882761336,
          0.06357202925212527,
          0.04976293433414339,
          0.04298677247284946,
          0.050189247076976556,
          0.039768310642941396,
          0.06839588486969514,
          0.06866727611850065,
          0.052864873341639584,
          0.04011244389710264,
          0.04621830538531416,
          0.08606251466752735,
          0.08680050484003965,
          0.0400663704165288,
          0.04027249252306106,
          0.022465517745847027,
          0.02692491184508511,
          0.023452361639896502,
          0.015591213003942103,
          0.04010304253907859,
          0.03062320509541322,
          0.047736243447610655,
          0,
          0
         ],
         "yaxis": "y"
        },
        {
         "hoverinfo": "skip",
         "line": {
          "color": "#00c8e5",
          "shape": "hv",
          "width": 2
         },
         "mode": "lines",
         "name": "<b>MAPE</b> (realized MAPE)",
         "showlegend": true,
         "type": "scatter",
         "x": [
          "2019-12-24T00:00:00",
          "2019-12-25T00:00:00",
          "2019-12-26T00:00:00",
          "2019-12-27T00:00:00",
          "2019-12-28T00:00:00",
          "2019-12-29T00:00:00",
          "2019-12-30T00:00:00",
          "2019-12-31T00:00:00",
          "2020-01-01T00:00:00",
          "2020-01-02T00:00:00",
          "2020-01-03T00:00:00",
          "2020-01-04T00:00:00",
          "2020-01-05T00:00:00",
          "2020-01-06T00:00:00",
          "2020-01-07T00:00:00",
          "2020-01-08T00:00:00",
          "2020-01-09T00:00:00",
          "2020-01-10T00:00:00",
          "2020-01-11T00:00:00",
          "2020-01-12T00:00:00",
          "2020-01-13T00:00:00",
          "2020-01-14T00:00:00",
          "2020-01-15T00:00:00",
          "2020-01-16T00:00:00",
          "2020-01-17T00:00:00",
          "2020-01-18T00:00:00",
          "2020-01-19T00:00:00",
          "2020-01-20T00:00:00",
          "2020-01-21T00:00:00",
          "2020-01-22T00:00:00",
          "2020-01-23T00:00:00",
          "2020-01-24T00:00:00",
          "2020-01-25T00:00:00",
          "2020-01-26T00:00:00",
          "2020-01-27T00:00:00",
          "2020-01-28T00:00:00",
          "2020-01-29T00:00:00",
          "2020-01-30T00:00:00",
          "2020-01-31T00:00:00",
          "2020-02-01T00:00:00",
          "2020-02-02T00:00:00",
          "2020-02-03T00:00:00",
          "2020-02-04T00:00:00",
          "2020-02-05T00:00:00",
          "2020-02-06T00:00:00",
          "2020-02-07T00:00:00",
          "2020-02-08T00:00:00",
          "2020-02-09T00:00:00",
          "2020-02-10T00:00:00",
          "2020-02-11T00:00:00",
          "2020-02-12T00:00:00",
          "2020-02-13T00:00:00",
          "2020-02-14T00:00:00",
          "2020-02-15T00:00:00",
          "2020-02-16T00:00:00",
          "2020-02-17T00:00:00",
          "2020-02-18T00:00:00",
          "2020-02-19T00:00:00",
          "2020-02-20T00:00:00",
          "2020-02-21T00:00:00",
          "2020-02-22T00:00:00",
          "2020-02-23T00:00:00",
          "2020-02-24T00:00:00",
          "2020-02-25T00:00:00",
          "2020-02-26T00:00:00",
          "2020-02-27T00:00:00",
          "2020-02-28T00:00:00",
          "2020-02-29T00:00:00",
          "2020-03-01T00:00:00",
          "2020-03-02T00:00:00",
          "2020-03-03T00:00:00",
          "2020-03-04T00:00:00",
          "2020-03-05T00:00:00",
          "2020-03-06T00:00:00",
          "2020-03-07T00:00:00",
          "2020-03-08T00:00:00",
          "2020-03-09T00:00:00",
          "2020-03-10T00:00:00",
          "2020-03-11T00:00:00",
          "2020-03-12T00:00:00",
          "2020-03-13T00:00:00",
          "2020-03-14T00:00:00",
          "2020-03-15T00:00:00",
          "2020-03-16T00:00:00",
          "2020-03-17T00:00:00",
          "2020-03-18T00:00:00",
          "2020-03-19T00:00:00",
          "2020-03-20T00:00:00",
          "2020-03-21T00:00:00",
          "2020-03-22T00:00:00",
          "2020-03-23T00:00:00",
          "2020-03-24T00:00:00",
          "2020-03-25T00:00:00",
          "2020-03-26T00:00:00",
          "2020-03-27T00:00:00",
          "2020-03-28T00:00:00",
          "2020-03-29T00:00:00",
          "2020-03-30T00:00:00",
          "2020-03-31T00:00:00",
          "2020-04-01T00:00:00",
          "2020-04-02T00:00:00",
          "2020-04-03T00:00:00",
          "2020-04-04T00:00:00",
          "2020-04-05T00:00:00",
          "2020-04-06T00:00:00",
          "2020-04-07T00:00:00",
          "2020-04-08T00:00:00",
          "2020-04-09T00:00:00",
          "2020-04-10T00:00:00",
          "2020-04-11T00:00:00",
          "2020-04-12T00:00:00",
          "2020-04-13T00:00:00",
          "2020-04-14T00:00:00",
          "2020-04-15T00:00:00",
          "2020-04-16T00:00:00",
          "2020-04-17T00:00:00",
          "2020-04-18T00:00:00",
          "2020-04-19T00:00:00",
          "2020-04-20T00:00:00",
          "2020-04-21T00:00:00",
          "2020-04-22T00:00:00",
          "2020-04-23T00:00:00",
          "2020-04-24T00:00:00",
          "2020-04-25T00:00:00",
          "2020-04-26T00:00:00",
          "2020-04-27T00:00:00",
          "2020-04-27T23:59:59.999999999"
         ],
         "xaxis": "x",
         "y": [
          0.33741113024233244,
          0.34481582389118187,
          0.26938783034173236,
          0.28967528975817325,
          0.13819151170035635,
          0.30251764595042446,
          0.3039419769888281,
          0.4260483496617245,
          0.4107754343641214,
          0.45854149864054944,
          0.39357932615438473,
          0.29043825131876805,
          0.27767737212047927,
          0.27374433033033285,
          0.3171341362603628,
          0.24397675998214777,
          0.22122595609710036,
          0.23132385753113796,
          0.3318179309146739,
          0.22480507452695653,
          0.2468265025568089,
          0.21407916319208098,
          0.30284825270260657,
          0.43092799763492456,
          0.30192583192446604,
          0.36183410687862905,
          0.27761631780992535,
          0.387733883268276,
          0.32716151078174033,
          0.31088841661490446,
          0.31721878457485286,
          0.3087368744836899,
          0.299758800695946,
          0.25171892152615777,
          0.304728180529736,
          0.36878369977657827,
          0.5051550375267506,
          0.36863774209846123,
          0.4242104818701022,
          0.32181806476396957,
          0.3145787719652388,
          0.3475953627071151,
          0.3623567969237879,
          0.3309414341596179,
          0.2459238097834533,
          0.297214990153653,
          0.21576053482727722,
          0.43815297881149645,
          0.5084111719931378,
          0.39617064466519963,
          0.5705239572531963,
          0.4672996968915956,
          0.4260354315669675,
          0.2387357451026423,
          0.4464897025609031,
          0.48894849040183774,
          0.4007607643225526,
          0.17673308889784578,
          0.15190153841408816,
          0.1824408117288019,
          0.11862615012252102,
          0.1627366250009496,
          0.30548941055408424,
          0.24056525636732093,
          0.2695576088245671,
          0.29239022471539233,
          0.26269632937458814,
          0.2630932774309826,
          0.15716148637489766,
          0.39423380848848194,
          0.2547055305427454,
          0.20383411580735433,
          0.3897585753322139,
          0.28850669930560374,
          0.19520550465860578,
          0.29200952479303455,
          0.2423151348127861,
          0.2527611809170314,
          0.2851366286537761,
          0.2021495233277447,
          0.2374427540071914,
          0.29158968747402353,
          0.32328301544724997,
          0.26368386931745486,
          0.23856001948063985,
          0.27637549014127466,
          0.2273933920655703,
          0.2619328716190488,
          0.2365801758414945,
          0.15807982990025926,
          0.1073461424863394,
          0.23455250806143166,
          0.2710466930785249,
          0.16814878423060386,
          0.26804522308628137,
          0.20327467530728774,
          0.22803542801332877,
          0.21965517801422899,
          0.20568208738285987,
          0.18710624465687062,
          0.28713972711075936,
          0.17229005532783925,
          0.21681373428384676,
          0.6924223004002564,
          0.12909693997949373,
          0.21574848004846695,
          0.18400146896152977,
          0.12250043481727456,
          0.1735818686852432,
          0.16837169633847657,
          0.2360665830513564,
          0.25564312211363904,
          0.15466171630500947,
          0.2148137260548708,
          0.20257343640496286,
          0.19225552940848645,
          0.24206564865167243,
          0.20223629378239547,
          0.18338611435816507,
          0.20103832381668738,
          0.17596280730873395,
          0.12167972110091752,
          0.19249789163776374,
          0.17357890386860234,
          0.29679644147242434,
          0.23279595884775944,
          0.23279595884775944
         ],
         "yaxis": "y"
        },
        {
         "customdata": [
          [
           "<b>MAPE</b>",
           "<b style=\"color:#00c8e5;line-height:60px\">Analysis</b>",
           "<span style=\"color:#AD0000\">⚠ <b>Drift detected</b></span>",
           "2019-12-24",
           "From <b>Dec-24-2019</b> to <b>Dec-24-2019</b>",
           0.3374
          ],
          [
           "<b>MAPE</b>",
           "<b style=\"color:#00c8e5;line-height:60px\">Analysis</b>",
           "<span style=\"color:#AD0000\">⚠ <b>Drift detected</b></span>",
           "2019-12-25",
           "From <b>Dec-25-2019</b> to <b>Dec-25-2019</b>",
           0.3448
          ],
          [
           "<b>MAPE</b>",
           "<b style=\"color:#00c8e5;line-height:60px\">Analysis</b>",
           "<span style=\"color:#AD0000\">⚠ <b>Drift detected</b></span>",
           "2019-12-26",
           "From <b>Dec-26-2019</b> to <b>Dec-26-2019</b>",
           0.2694
          ],
          [
           "<b>MAPE</b>",
           "<b style=\"color:#00c8e5;line-height:60px\">Analysis</b>",
           "<span style=\"color:#AD0000\">⚠ <b>Drift detected</b></span>",
           "2019-12-27",
           "From <b>Dec-27-2019</b> to <b>Dec-27-2019</b>",
           0.2897
          ],
          [
           "<b>MAPE</b>",
           "<b style=\"color:#00c8e5;line-height:60px\">Analysis</b>",
           "",
           "2019-12-28",
           "From <b>Dec-28-2019</b> to <b>Dec-28-2019</b>",
           0.1382
          ],
          [
           "<b>MAPE</b>",
           "<b style=\"color:#00c8e5;line-height:60px\">Analysis</b>",
           "<span style=\"color:#AD0000\">⚠ <b>Drift detected</b></span>",
           "2019-12-29",
           "From <b>Dec-29-2019</b> to <b>Dec-29-2019</b>",
           0.3025
          ],
          [
           "<b>MAPE</b>",
           "<b style=\"color:#00c8e5;line-height:60px\">Analysis</b>",
           "<span style=\"color:#AD0000\">⚠ <b>Drift detected</b></span>",
           "2019-12-30",
           "From <b>Dec-30-2019</b> to <b>Dec-30-2019</b>",
           0.3039
          ],
          [
           "<b>MAPE</b>",
           "<b style=\"color:#00c8e5;line-height:60px\">Analysis</b>",
           "<span style=\"color:#AD0000\">⚠ <b>Drift detected</b></span>",
           "2019-12-31",
           "From <b>Dec-31-2019</b> to <b>Dec-31-2019</b>",
           0.426
          ],
          [
           "<b>MAPE</b>",
           "<b style=\"color:#00c8e5;line-height:60px\">Analysis</b>",
           "<span style=\"color:#AD0000\">⚠ <b>Drift detected</b></span>",
           "2020-01-01",
           "From <b>Jan-01-2020</b> to <b>Jan-01-2020</b>",
           0.4108
          ],
          [
           "<b>MAPE</b>",
           "<b style=\"color:#00c8e5;line-height:60px\">Analysis</b>",
           "<span style=\"color:#AD0000\">⚠ <b>Drift detected</b></span>",
           "2020-01-02",
           "From <b>Jan-02-2020</b> to <b>Jan-02-2020</b>",
           0.4585
          ],
          [
           "<b>MAPE</b>",
           "<b style=\"color:#00c8e5;line-height:60px\">Analysis</b>",
           "<span style=\"color:#AD0000\">⚠ <b>Drift detected</b></span>",
           "2020-01-03",
           "From <b>Jan-03-2020</b> to <b>Jan-03-2020</b>",
           0.3936
          ],
          [
           "<b>MAPE</b>",
           "<b style=\"color:#00c8e5;line-height:60px\">Analysis</b>",
           "<span style=\"color:#AD0000\">⚠ <b>Drift detected</b></span>",
           "2020-01-04",
           "From <b>Jan-04-2020</b> to <b>Jan-04-2020</b>",
           0.2904
          ],
          [
           "<b>MAPE</b>",
           "<b style=\"color:#00c8e5;line-height:60px\">Analysis</b>",
           "<span style=\"color:#AD0000\">⚠ <b>Drift detected</b></span>",
           "2020-01-05",
           "From <b>Jan-05-2020</b> to <b>Jan-05-2020</b>",
           0.2777
          ],
          [
           "<b>MAPE</b>",
           "<b style=\"color:#00c8e5;line-height:60px\">Analysis</b>",
           "<span style=\"color:#AD0000\">⚠ <b>Drift detected</b></span>",
           "2020-01-06",
           "From <b>Jan-06-2020</b> to <b>Jan-06-2020</b>",
           0.2737
          ],
          [
           "<b>MAPE</b>",
           "<b style=\"color:#00c8e5;line-height:60px\">Analysis</b>",
           "<span style=\"color:#AD0000\">⚠ <b>Drift detected</b></span>",
           "2020-01-07",
           "From <b>Jan-07-2020</b> to <b>Jan-07-2020</b>",
           0.3171
          ],
          [
           "<b>MAPE</b>",
           "<b style=\"color:#00c8e5;line-height:60px\">Analysis</b>",
           "<span style=\"color:#AD0000\">⚠ <b>Drift detected</b></span>",
           "2020-01-08",
           "From <b>Jan-08-2020</b> to <b>Jan-08-2020</b>",
           0.244
          ],
          [
           "<b>MAPE</b>",
           "<b style=\"color:#00c8e5;line-height:60px\">Analysis</b>",
           "",
           "2020-01-09",
           "From <b>Jan-09-2020</b> to <b>Jan-09-2020</b>",
           0.2212
          ],
          [
           "<b>MAPE</b>",
           "<b style=\"color:#00c8e5;line-height:60px\">Analysis</b>",
           "<span style=\"color:#AD0000\">⚠ <b>Drift detected</b></span>",
           "2020-01-10",
           "From <b>Jan-10-2020</b> to <b>Jan-10-2020</b>",
           0.2313
          ],
          [
           "<b>MAPE</b>",
           "<b style=\"color:#00c8e5;line-height:60px\">Analysis</b>",
           "<span style=\"color:#AD0000\">⚠ <b>Drift detected</b></span>",
           "2020-01-11",
           "From <b>Jan-11-2020</b> to <b>Jan-11-2020</b>",
           0.3318
          ],
          [
           "<b>MAPE</b>",
           "<b style=\"color:#00c8e5;line-height:60px\">Analysis</b>",
           "",
           "2020-01-12",
           "From <b>Jan-12-2020</b> to <b>Jan-12-2020</b>",
           0.2248
          ],
          [
           "<b>MAPE</b>",
           "<b style=\"color:#00c8e5;line-height:60px\">Analysis</b>",
           "<span style=\"color:#AD0000\">⚠ <b>Drift detected</b></span>",
           "2020-01-13",
           "From <b>Jan-13-2020</b> to <b>Jan-13-2020</b>",
           0.2468
          ],
          [
           "<b>MAPE</b>",
           "<b style=\"color:#00c8e5;line-height:60px\">Analysis</b>",
           "",
           "2020-01-14",
           "From <b>Jan-14-2020</b> to <b>Jan-14-2020</b>",
           0.2141
          ],
          [
           "<b>MAPE</b>",
           "<b style=\"color:#00c8e5;line-height:60px\">Analysis</b>",
           "<span style=\"color:#AD0000\">⚠ <b>Drift detected</b></span>",
           "2020-01-15",
           "From <b>Jan-15-2020</b> to <b>Jan-15-2020</b>",
           0.3028
          ],
          [
           "<b>MAPE</b>",
           "<b style=\"color:#00c8e5;line-height:60px\">Analysis</b>",
           "<span style=\"color:#AD0000\">⚠ <b>Drift detected</b></span>",
           "2020-01-16",
           "From <b>Jan-16-2020</b> to <b>Jan-16-2020</b>",
           0.4309
          ],
          [
           "<b>MAPE</b>",
           "<b style=\"color:#00c8e5;line-height:60px\">Analysis</b>",
           "<span style=\"color:#AD0000\">⚠ <b>Drift detected</b></span>",
           "2020-01-17",
           "From <b>Jan-17-2020</b> to <b>Jan-17-2020</b>",
           0.3019
          ],
          [
           "<b>MAPE</b>",
           "<b style=\"color:#00c8e5;line-height:60px\">Analysis</b>",
           "<span style=\"color:#AD0000\">⚠ <b>Drift detected</b></span>",
           "2020-01-18",
           "From <b>Jan-18-2020</b> to <b>Jan-18-2020</b>",
           0.3618
          ],
          [
           "<b>MAPE</b>",
           "<b style=\"color:#00c8e5;line-height:60px\">Analysis</b>",
           "<span style=\"color:#AD0000\">⚠ <b>Drift detected</b></span>",
           "2020-01-19",
           "From <b>Jan-19-2020</b> to <b>Jan-19-2020</b>",
           0.2776
          ],
          [
           "<b>MAPE</b>",
           "<b style=\"color:#00c8e5;line-height:60px\">Analysis</b>",
           "<span style=\"color:#AD0000\">⚠ <b>Drift detected</b></span>",
           "2020-01-20",
           "From <b>Jan-20-2020</b> to <b>Jan-20-2020</b>",
           0.3877
          ],
          [
           "<b>MAPE</b>",
           "<b style=\"color:#00c8e5;line-height:60px\">Analysis</b>",
           "<span style=\"color:#AD0000\">⚠ <b>Drift detected</b></span>",
           "2020-01-21",
           "From <b>Jan-21-2020</b> to <b>Jan-21-2020</b>",
           0.3272
          ],
          [
           "<b>MAPE</b>",
           "<b style=\"color:#00c8e5;line-height:60px\">Analysis</b>",
           "<span style=\"color:#AD0000\">⚠ <b>Drift detected</b></span>",
           "2020-01-22",
           "From <b>Jan-22-2020</b> to <b>Jan-22-2020</b>",
           0.3109
          ],
          [
           "<b>MAPE</b>",
           "<b style=\"color:#00c8e5;line-height:60px\">Analysis</b>",
           "<span style=\"color:#AD0000\">⚠ <b>Drift detected</b></span>",
           "2020-01-23",
           "From <b>Jan-23-2020</b> to <b>Jan-23-2020</b>",
           0.3172
          ],
          [
           "<b>MAPE</b>",
           "<b style=\"color:#00c8e5;line-height:60px\">Analysis</b>",
           "<span style=\"color:#AD0000\">⚠ <b>Drift detected</b></span>",
           "2020-01-24",
           "From <b>Jan-24-2020</b> to <b>Jan-24-2020</b>",
           0.3087
          ],
          [
           "<b>MAPE</b>",
           "<b style=\"color:#00c8e5;line-height:60px\">Analysis</b>",
           "<span style=\"color:#AD0000\">⚠ <b>Drift detected</b></span>",
           "2020-01-25",
           "From <b>Jan-25-2020</b> to <b>Jan-25-2020</b>",
           0.2998
          ],
          [
           "<b>MAPE</b>",
           "<b style=\"color:#00c8e5;line-height:60px\">Analysis</b>",
           "<span style=\"color:#AD0000\">⚠ <b>Drift detected</b></span>",
           "2020-01-26",
           "From <b>Jan-26-2020</b> to <b>Jan-26-2020</b>",
           0.2517
          ],
          [
           "<b>MAPE</b>",
           "<b style=\"color:#00c8e5;line-height:60px\">Analysis</b>",
           "<span style=\"color:#AD0000\">⚠ <b>Drift detected</b></span>",
           "2020-01-27",
           "From <b>Jan-27-2020</b> to <b>Jan-27-2020</b>",
           0.3047
          ],
          [
           "<b>MAPE</b>",
           "<b style=\"color:#00c8e5;line-height:60px\">Analysis</b>",
           "<span style=\"color:#AD0000\">⚠ <b>Drift detected</b></span>",
           "2020-01-28",
           "From <b>Jan-28-2020</b> to <b>Jan-28-2020</b>",
           0.3688
          ],
          [
           "<b>MAPE</b>",
           "<b style=\"color:#00c8e5;line-height:60px\">Analysis</b>",
           "<span style=\"color:#AD0000\">⚠ <b>Drift detected</b></span>",
           "2020-01-29",
           "From <b>Jan-29-2020</b> to <b>Jan-29-2020</b>",
           0.5052
          ],
          [
           "<b>MAPE</b>",
           "<b style=\"color:#00c8e5;line-height:60px\">Analysis</b>",
           "<span style=\"color:#AD0000\">⚠ <b>Drift detected</b></span>",
           "2020-01-30",
           "From <b>Jan-30-2020</b> to <b>Jan-30-2020</b>",
           0.3686
          ],
          [
           "<b>MAPE</b>",
           "<b style=\"color:#00c8e5;line-height:60px\">Analysis</b>",
           "<span style=\"color:#AD0000\">⚠ <b>Drift detected</b></span>",
           "2020-01-31",
           "From <b>Jan-31-2020</b> to <b>Jan-31-2020</b>",
           0.4242
          ],
          [
           "<b>MAPE</b>",
           "<b style=\"color:#00c8e5;line-height:60px\">Analysis</b>",
           "<span style=\"color:#AD0000\">⚠ <b>Drift detected</b></span>",
           "2020-02-01",
           "From <b>Feb-01-2020</b> to <b>Feb-01-2020</b>",
           0.3218
          ],
          [
           "<b>MAPE</b>",
           "<b style=\"color:#00c8e5;line-height:60px\">Analysis</b>",
           "<span style=\"color:#AD0000\">⚠ <b>Drift detected</b></span>",
           "2020-02-02",
           "From <b>Feb-02-2020</b> to <b>Feb-02-2020</b>",
           0.3146
          ],
          [
           "<b>MAPE</b>",
           "<b style=\"color:#00c8e5;line-height:60px\">Analysis</b>",
           "<span style=\"color:#AD0000\">⚠ <b>Drift detected</b></span>",
           "2020-02-03",
           "From <b>Feb-03-2020</b> to <b>Feb-03-2020</b>",
           0.3476
          ],
          [
           "<b>MAPE</b>",
           "<b style=\"color:#00c8e5;line-height:60px\">Analysis</b>",
           "<span style=\"color:#AD0000\">⚠ <b>Drift detected</b></span>",
           "2020-02-04",
           "From <b>Feb-04-2020</b> to <b>Feb-04-2020</b>",
           0.3624
          ],
          [
           "<b>MAPE</b>",
           "<b style=\"color:#00c8e5;line-height:60px\">Analysis</b>",
           "<span style=\"color:#AD0000\">⚠ <b>Drift detected</b></span>",
           "2020-02-05",
           "From <b>Feb-05-2020</b> to <b>Feb-05-2020</b>",
           0.3309
          ],
          [
           "<b>MAPE</b>",
           "<b style=\"color:#00c8e5;line-height:60px\">Analysis</b>",
           "<span style=\"color:#AD0000\">⚠ <b>Drift detected</b></span>",
           "2020-02-06",
           "From <b>Feb-06-2020</b> to <b>Feb-06-2020</b>",
           0.2459
          ],
          [
           "<b>MAPE</b>",
           "<b style=\"color:#00c8e5;line-height:60px\">Analysis</b>",
           "<span style=\"color:#AD0000\">⚠ <b>Drift detected</b></span>",
           "2020-02-07",
           "From <b>Feb-07-2020</b> to <b>Feb-07-2020</b>",
           0.2972
          ],
          [
           "<b>MAPE</b>",
           "<b style=\"color:#00c8e5;line-height:60px\">Analysis</b>",
           "",
           "2020-02-08",
           "From <b>Feb-08-2020</b> to <b>Feb-08-2020</b>",
           0.2158
          ],
          [
           "<b>MAPE</b>",
           "<b style=\"color:#00c8e5;line-height:60px\">Analysis</b>",
           "<span style=\"color:#AD0000\">⚠ <b>Drift detected</b></span>",
           "2020-02-09",
           "From <b>Feb-09-2020</b> to <b>Feb-09-2020</b>",
           0.4382
          ],
          [
           "<b>MAPE</b>",
           "<b style=\"color:#00c8e5;line-height:60px\">Analysis</b>",
           "<span style=\"color:#AD0000\">⚠ <b>Drift detected</b></span>",
           "2020-02-10",
           "From <b>Feb-10-2020</b> to <b>Feb-10-2020</b>",
           0.5084
          ],
          [
           "<b>MAPE</b>",
           "<b style=\"color:#00c8e5;line-height:60px\">Analysis</b>",
           "<span style=\"color:#AD0000\">⚠ <b>Drift detected</b></span>",
           "2020-02-11",
           "From <b>Feb-11-2020</b> to <b>Feb-11-2020</b>",
           0.3962
          ],
          [
           "<b>MAPE</b>",
           "<b style=\"color:#00c8e5;line-height:60px\">Analysis</b>",
           "<span style=\"color:#AD0000\">⚠ <b>Drift detected</b></span>",
           "2020-02-12",
           "From <b>Feb-12-2020</b> to <b>Feb-12-2020</b>",
           0.5705
          ],
          [
           "<b>MAPE</b>",
           "<b style=\"color:#00c8e5;line-height:60px\">Analysis</b>",
           "<span style=\"color:#AD0000\">⚠ <b>Drift detected</b></span>",
           "2020-02-13",
           "From <b>Feb-13-2020</b> to <b>Feb-13-2020</b>",
           0.4673
          ],
          [
           "<b>MAPE</b>",
           "<b style=\"color:#00c8e5;line-height:60px\">Analysis</b>",
           "<span style=\"color:#AD0000\">⚠ <b>Drift detected</b></span>",
           "2020-02-14",
           "From <b>Feb-14-2020</b> to <b>Feb-14-2020</b>",
           0.426
          ],
          [
           "<b>MAPE</b>",
           "<b style=\"color:#00c8e5;line-height:60px\">Analysis</b>",
           "<span style=\"color:#AD0000\">⚠ <b>Drift detected</b></span>",
           "2020-02-15",
           "From <b>Feb-15-2020</b> to <b>Feb-15-2020</b>",
           0.2387
          ],
          [
           "<b>MAPE</b>",
           "<b style=\"color:#00c8e5;line-height:60px\">Analysis</b>",
           "<span style=\"color:#AD0000\">⚠ <b>Drift detected</b></span>",
           "2020-02-16",
           "From <b>Feb-16-2020</b> to <b>Feb-16-2020</b>",
           0.4465
          ],
          [
           "<b>MAPE</b>",
           "<b style=\"color:#00c8e5;line-height:60px\">Analysis</b>",
           "<span style=\"color:#AD0000\">⚠ <b>Drift detected</b></span>",
           "2020-02-17",
           "From <b>Feb-17-2020</b> to <b>Feb-17-2020</b>",
           0.4889
          ],
          [
           "<b>MAPE</b>",
           "<b style=\"color:#00c8e5;line-height:60px\">Analysis</b>",
           "<span style=\"color:#AD0000\">⚠ <b>Drift detected</b></span>",
           "2020-02-18",
           "From <b>Feb-18-2020</b> to <b>Feb-18-2020</b>",
           0.4008
          ],
          [
           "<b>MAPE</b>",
           "<b style=\"color:#00c8e5;line-height:60px\">Analysis</b>",
           "",
           "2020-02-19",
           "From <b>Feb-19-2020</b> to <b>Feb-19-2020</b>",
           0.1767
          ],
          [
           "<b>MAPE</b>",
           "<b style=\"color:#00c8e5;line-height:60px\">Analysis</b>",
           "",
           "2020-02-20",
           "From <b>Feb-20-2020</b> to <b>Feb-20-2020</b>",
           0.1519
          ],
          [
           "<b>MAPE</b>",
           "<b style=\"color:#00c8e5;line-height:60px\">Analysis</b>",
           "",
           "2020-02-21",
           "From <b>Feb-21-2020</b> to <b>Feb-21-2020</b>",
           0.1824
          ],
          [
           "<b>MAPE</b>",
           "<b style=\"color:#00c8e5;line-height:60px\">Analysis</b>",
           "",
           "2020-02-22",
           "From <b>Feb-22-2020</b> to <b>Feb-22-2020</b>",
           0.1186
          ],
          [
           "<b>MAPE</b>",
           "<b style=\"color:#00c8e5;line-height:60px\">Analysis</b>",
           "",
           "2020-02-23",
           "From <b>Feb-23-2020</b> to <b>Feb-23-2020</b>",
           0.1627
          ],
          [
           "<b>MAPE</b>",
           "<b style=\"color:#00c8e5;line-height:60px\">Analysis</b>",
           "<span style=\"color:#AD0000\">⚠ <b>Drift detected</b></span>",
           "2020-02-24",
           "From <b>Feb-24-2020</b> to <b>Feb-24-2020</b>",
           0.3055
          ],
          [
           "<b>MAPE</b>",
           "<b style=\"color:#00c8e5;line-height:60px\">Analysis</b>",
           "<span style=\"color:#AD0000\">⚠ <b>Drift detected</b></span>",
           "2020-02-25",
           "From <b>Feb-25-2020</b> to <b>Feb-25-2020</b>",
           0.2406
          ],
          [
           "<b>MAPE</b>",
           "<b style=\"color:#00c8e5;line-height:60px\">Analysis</b>",
           "<span style=\"color:#AD0000\">⚠ <b>Drift detected</b></span>",
           "2020-02-26",
           "From <b>Feb-26-2020</b> to <b>Feb-26-2020</b>",
           0.2696
          ],
          [
           "<b>MAPE</b>",
           "<b style=\"color:#00c8e5;line-height:60px\">Analysis</b>",
           "<span style=\"color:#AD0000\">⚠ <b>Drift detected</b></span>",
           "2020-02-27",
           "From <b>Feb-27-2020</b> to <b>Feb-27-2020</b>",
           0.2924
          ],
          [
           "<b>MAPE</b>",
           "<b style=\"color:#00c8e5;line-height:60px\">Analysis</b>",
           "<span style=\"color:#AD0000\">⚠ <b>Drift detected</b></span>",
           "2020-02-28",
           "From <b>Feb-28-2020</b> to <b>Feb-28-2020</b>",
           0.2627
          ],
          [
           "<b>MAPE</b>",
           "<b style=\"color:#00c8e5;line-height:60px\">Analysis</b>",
           "<span style=\"color:#AD0000\">⚠ <b>Drift detected</b></span>",
           "2020-02-29",
           "From <b>Feb-29-2020</b> to <b>Feb-29-2020</b>",
           0.2631
          ],
          [
           "<b>MAPE</b>",
           "<b style=\"color:#00c8e5;line-height:60px\">Analysis</b>",
           "",
           "2020-03-01",
           "From <b>Mar-01-2020</b> to <b>Mar-01-2020</b>",
           0.1572
          ],
          [
           "<b>MAPE</b>",
           "<b style=\"color:#00c8e5;line-height:60px\">Analysis</b>",
           "<span style=\"color:#AD0000\">⚠ <b>Drift detected</b></span>",
           "2020-03-02",
           "From <b>Mar-02-2020</b> to <b>Mar-02-2020</b>",
           0.3942
          ],
          [
           "<b>MAPE</b>",
           "<b style=\"color:#00c8e5;line-height:60px\">Analysis</b>",
           "<span style=\"color:#AD0000\">⚠ <b>Drift detected</b></span>",
           "2020-03-03",
           "From <b>Mar-03-2020</b> to <b>Mar-03-2020</b>",
           0.2547
          ],
          [
           "<b>MAPE</b>",
           "<b style=\"color:#00c8e5;line-height:60px\">Analysis</b>",
           "",
           "2020-03-04",
           "From <b>Mar-04-2020</b> to <b>Mar-04-2020</b>",
           0.2038
          ],
          [
           "<b>MAPE</b>",
           "<b style=\"color:#00c8e5;line-height:60px\">Analysis</b>",
           "<span style=\"color:#AD0000\">⚠ <b>Drift detected</b></span>",
           "2020-03-05",
           "From <b>Mar-05-2020</b> to <b>Mar-05-2020</b>",
           0.3898
          ],
          [
           "<b>MAPE</b>",
           "<b style=\"color:#00c8e5;line-height:60px\">Analysis</b>",
           "<span style=\"color:#AD0000\">⚠ <b>Drift detected</b></span>",
           "2020-03-06",
           "From <b>Mar-06-2020</b> to <b>Mar-06-2020</b>",
           0.2885
          ],
          [
           "<b>MAPE</b>",
           "<b style=\"color:#00c8e5;line-height:60px\">Analysis</b>",
           "",
           "2020-03-07",
           "From <b>Mar-07-2020</b> to <b>Mar-07-2020</b>",
           0.1952
          ],
          [
           "<b>MAPE</b>",
           "<b style=\"color:#00c8e5;line-height:60px\">Analysis</b>",
           "<span style=\"color:#AD0000\">⚠ <b>Drift detected</b></span>",
           "2020-03-08",
           "From <b>Mar-08-2020</b> to <b>Mar-08-2020</b>",
           0.292
          ],
          [
           "<b>MAPE</b>",
           "<b style=\"color:#00c8e5;line-height:60px\">Analysis</b>",
           "<span style=\"color:#AD0000\">⚠ <b>Drift detected</b></span>",
           "2020-03-09",
           "From <b>Mar-09-2020</b> to <b>Mar-09-2020</b>",
           0.2423
          ],
          [
           "<b>MAPE</b>",
           "<b style=\"color:#00c8e5;line-height:60px\">Analysis</b>",
           "<span style=\"color:#AD0000\">⚠ <b>Drift detected</b></span>",
           "2020-03-10",
           "From <b>Mar-10-2020</b> to <b>Mar-10-2020</b>",
           0.2528
          ],
          [
           "<b>MAPE</b>",
           "<b style=\"color:#00c8e5;line-height:60px\">Analysis</b>",
           "<span style=\"color:#AD0000\">⚠ <b>Drift detected</b></span>",
           "2020-03-11",
           "From <b>Mar-11-2020</b> to <b>Mar-11-2020</b>",
           0.2851
          ],
          [
           "<b>MAPE</b>",
           "<b style=\"color:#00c8e5;line-height:60px\">Analysis</b>",
           "",
           "2020-03-12",
           "From <b>Mar-12-2020</b> to <b>Mar-12-2020</b>",
           0.2021
          ],
          [
           "<b>MAPE</b>",
           "<b style=\"color:#00c8e5;line-height:60px\">Analysis</b>",
           "<span style=\"color:#AD0000\">⚠ <b>Drift detected</b></span>",
           "2020-03-13",
           "From <b>Mar-13-2020</b> to <b>Mar-13-2020</b>",
           0.2374
          ],
          [
           "<b>MAPE</b>",
           "<b style=\"color:#00c8e5;line-height:60px\">Analysis</b>",
           "<span style=\"color:#AD0000\">⚠ <b>Drift detected</b></span>",
           "2020-03-14",
           "From <b>Mar-14-2020</b> to <b>Mar-14-2020</b>",
           0.2916
          ],
          [
           "<b>MAPE</b>",
           "<b style=\"color:#00c8e5;line-height:60px\">Analysis</b>",
           "<span style=\"color:#AD0000\">⚠ <b>Drift detected</b></span>",
           "2020-03-15",
           "From <b>Mar-15-2020</b> to <b>Mar-15-2020</b>",
           0.3233
          ],
          [
           "<b>MAPE</b>",
           "<b style=\"color:#00c8e5;line-height:60px\">Analysis</b>",
           "<span style=\"color:#AD0000\">⚠ <b>Drift detected</b></span>",
           "2020-03-16",
           "From <b>Mar-16-2020</b> to <b>Mar-16-2020</b>",
           0.2637
          ],
          [
           "<b>MAPE</b>",
           "<b style=\"color:#00c8e5;line-height:60px\">Analysis</b>",
           "<span style=\"color:#AD0000\">⚠ <b>Drift detected</b></span>",
           "2020-03-17",
           "From <b>Mar-17-2020</b> to <b>Mar-17-2020</b>",
           0.2386
          ],
          [
           "<b>MAPE</b>",
           "<b style=\"color:#00c8e5;line-height:60px\">Analysis</b>",
           "<span style=\"color:#AD0000\">⚠ <b>Drift detected</b></span>",
           "2020-03-18",
           "From <b>Mar-18-2020</b> to <b>Mar-18-2020</b>",
           0.2764
          ],
          [
           "<b>MAPE</b>",
           "<b style=\"color:#00c8e5;line-height:60px\">Analysis</b>",
           "",
           "2020-03-19",
           "From <b>Mar-19-2020</b> to <b>Mar-19-2020</b>",
           0.2274
          ],
          [
           "<b>MAPE</b>",
           "<b style=\"color:#00c8e5;line-height:60px\">Analysis</b>",
           "<span style=\"color:#AD0000\">⚠ <b>Drift detected</b></span>",
           "2020-03-20",
           "From <b>Mar-20-2020</b> to <b>Mar-20-2020</b>",
           0.2619
          ],
          [
           "<b>MAPE</b>",
           "<b style=\"color:#00c8e5;line-height:60px\">Analysis</b>",
           "<span style=\"color:#AD0000\">⚠ <b>Drift detected</b></span>",
           "2020-03-21",
           "From <b>Mar-21-2020</b> to <b>Mar-21-2020</b>",
           0.2366
          ],
          [
           "<b>MAPE</b>",
           "<b style=\"color:#00c8e5;line-height:60px\">Analysis</b>",
           "",
           "2020-03-22",
           "From <b>Mar-22-2020</b> to <b>Mar-22-2020</b>",
           0.1581
          ],
          [
           "<b>MAPE</b>",
           "<b style=\"color:#00c8e5;line-height:60px\">Analysis</b>",
           "",
           "2020-03-23",
           "From <b>Mar-23-2020</b> to <b>Mar-23-2020</b>",
           0.1073
          ],
          [
           "<b>MAPE</b>",
           "<b style=\"color:#00c8e5;line-height:60px\">Analysis</b>",
           "<span style=\"color:#AD0000\">⚠ <b>Drift detected</b></span>",
           "2020-03-24",
           "From <b>Mar-24-2020</b> to <b>Mar-24-2020</b>",
           0.2346
          ],
          [
           "<b>MAPE</b>",
           "<b style=\"color:#00c8e5;line-height:60px\">Analysis</b>",
           "<span style=\"color:#AD0000\">⚠ <b>Drift detected</b></span>",
           "2020-03-25",
           "From <b>Mar-25-2020</b> to <b>Mar-25-2020</b>",
           0.271
          ],
          [
           "<b>MAPE</b>",
           "<b style=\"color:#00c8e5;line-height:60px\">Analysis</b>",
           "",
           "2020-03-26",
           "From <b>Mar-26-2020</b> to <b>Mar-26-2020</b>",
           0.1681
          ],
          [
           "<b>MAPE</b>",
           "<b style=\"color:#00c8e5;line-height:60px\">Analysis</b>",
           "<span style=\"color:#AD0000\">⚠ <b>Drift detected</b></span>",
           "2020-03-27",
           "From <b>Mar-27-2020</b> to <b>Mar-27-2020</b>",
           0.268
          ],
          [
           "<b>MAPE</b>",
           "<b style=\"color:#00c8e5;line-height:60px\">Analysis</b>",
           "",
           "2020-03-28",
           "From <b>Mar-28-2020</b> to <b>Mar-28-2020</b>",
           0.2033
          ],
          [
           "<b>MAPE</b>",
           "<b style=\"color:#00c8e5;line-height:60px\">Analysis</b>",
           "",
           "2020-03-29",
           "From <b>Mar-29-2020</b> to <b>Mar-29-2020</b>",
           0.228
          ],
          [
           "<b>MAPE</b>",
           "<b style=\"color:#00c8e5;line-height:60px\">Analysis</b>",
           "",
           "2020-03-30",
           "From <b>Mar-30-2020</b> to <b>Mar-30-2020</b>",
           0.2197
          ],
          [
           "<b>MAPE</b>",
           "<b style=\"color:#00c8e5;line-height:60px\">Analysis</b>",
           "",
           "2020-03-31",
           "From <b>Mar-31-2020</b> to <b>Mar-31-2020</b>",
           0.2057
          ],
          [
           "<b>MAPE</b>",
           "<b style=\"color:#00c8e5;line-height:60px\">Analysis</b>",
           "",
           "2020-04-01",
           "From <b>Apr-01-2020</b> to <b>Apr-01-2020</b>",
           0.1871
          ],
          [
           "<b>MAPE</b>",
           "<b style=\"color:#00c8e5;line-height:60px\">Analysis</b>",
           "<span style=\"color:#AD0000\">⚠ <b>Drift detected</b></span>",
           "2020-04-02",
           "From <b>Apr-02-2020</b> to <b>Apr-02-2020</b>",
           0.2871
          ],
          [
           "<b>MAPE</b>",
           "<b style=\"color:#00c8e5;line-height:60px\">Analysis</b>",
           "",
           "2020-04-03",
           "From <b>Apr-03-2020</b> to <b>Apr-03-2020</b>",
           0.1723
          ],
          [
           "<b>MAPE</b>",
           "<b style=\"color:#00c8e5;line-height:60px\">Analysis</b>",
           "",
           "2020-04-04",
           "From <b>Apr-04-2020</b> to <b>Apr-04-2020</b>",
           0.2168
          ],
          [
           "<b>MAPE</b>",
           "<b style=\"color:#00c8e5;line-height:60px\">Analysis</b>",
           "<span style=\"color:#AD0000\">⚠ <b>Drift detected</b></span>",
           "2020-04-05",
           "From <b>Apr-05-2020</b> to <b>Apr-05-2020</b>",
           0.6924
          ],
          [
           "<b>MAPE</b>",
           "<b style=\"color:#00c8e5;line-height:60px\">Analysis</b>",
           "",
           "2020-04-06",
           "From <b>Apr-06-2020</b> to <b>Apr-06-2020</b>",
           0.1291
          ],
          [
           "<b>MAPE</b>",
           "<b style=\"color:#00c8e5;line-height:60px\">Analysis</b>",
           "",
           "2020-04-07",
           "From <b>Apr-07-2020</b> to <b>Apr-07-2020</b>",
           0.2157
          ],
          [
           "<b>MAPE</b>",
           "<b style=\"color:#00c8e5;line-height:60px\">Analysis</b>",
           "",
           "2020-04-08",
           "From <b>Apr-08-2020</b> to <b>Apr-08-2020</b>",
           0.184
          ],
          [
           "<b>MAPE</b>",
           "<b style=\"color:#00c8e5;line-height:60px\">Analysis</b>",
           "",
           "2020-04-09",
           "From <b>Apr-09-2020</b> to <b>Apr-09-2020</b>",
           0.1225
          ],
          [
           "<b>MAPE</b>",
           "<b style=\"color:#00c8e5;line-height:60px\">Analysis</b>",
           "",
           "2020-04-10",
           "From <b>Apr-10-2020</b> to <b>Apr-10-2020</b>",
           0.1736
          ],
          [
           "<b>MAPE</b>",
           "<b style=\"color:#00c8e5;line-height:60px\">Analysis</b>",
           "",
           "2020-04-11",
           "From <b>Apr-11-2020</b> to <b>Apr-11-2020</b>",
           0.1684
          ],
          [
           "<b>MAPE</b>",
           "<b style=\"color:#00c8e5;line-height:60px\">Analysis</b>",
           "<span style=\"color:#AD0000\">⚠ <b>Drift detected</b></span>",
           "2020-04-12",
           "From <b>Apr-12-2020</b> to <b>Apr-12-2020</b>",
           0.2361
          ],
          [
           "<b>MAPE</b>",
           "<b style=\"color:#00c8e5;line-height:60px\">Analysis</b>",
           "<span style=\"color:#AD0000\">⚠ <b>Drift detected</b></span>",
           "2020-04-13",
           "From <b>Apr-13-2020</b> to <b>Apr-13-2020</b>",
           0.2556
          ],
          [
           "<b>MAPE</b>",
           "<b style=\"color:#00c8e5;line-height:60px\">Analysis</b>",
           "",
           "2020-04-14",
           "From <b>Apr-14-2020</b> to <b>Apr-14-2020</b>",
           0.1547
          ],
          [
           "<b>MAPE</b>",
           "<b style=\"color:#00c8e5;line-height:60px\">Analysis</b>",
           "",
           "2020-04-15",
           "From <b>Apr-15-2020</b> to <b>Apr-15-2020</b>",
           0.2148
          ],
          [
           "<b>MAPE</b>",
           "<b style=\"color:#00c8e5;line-height:60px\">Analysis</b>",
           "",
           "2020-04-16",
           "From <b>Apr-16-2020</b> to <b>Apr-16-2020</b>",
           0.2026
          ],
          [
           "<b>MAPE</b>",
           "<b style=\"color:#00c8e5;line-height:60px\">Analysis</b>",
           "",
           "2020-04-17",
           "From <b>Apr-17-2020</b> to <b>Apr-17-2020</b>",
           0.1923
          ],
          [
           "<b>MAPE</b>",
           "<b style=\"color:#00c8e5;line-height:60px\">Analysis</b>",
           "<span style=\"color:#AD0000\">⚠ <b>Drift detected</b></span>",
           "2020-04-18",
           "From <b>Apr-18-2020</b> to <b>Apr-18-2020</b>",
           0.2421
          ],
          [
           "<b>MAPE</b>",
           "<b style=\"color:#00c8e5;line-height:60px\">Analysis</b>",
           "",
           "2020-04-19",
           "From <b>Apr-19-2020</b> to <b>Apr-19-2020</b>",
           0.2022
          ],
          [
           "<b>MAPE</b>",
           "<b style=\"color:#00c8e5;line-height:60px\">Analysis</b>",
           "",
           "2020-04-20",
           "From <b>Apr-20-2020</b> to <b>Apr-20-2020</b>",
           0.1834
          ],
          [
           "<b>MAPE</b>",
           "<b style=\"color:#00c8e5;line-height:60px\">Analysis</b>",
           "",
           "2020-04-21",
           "From <b>Apr-21-2020</b> to <b>Apr-21-2020</b>",
           0.201
          ],
          [
           "<b>MAPE</b>",
           "<b style=\"color:#00c8e5;line-height:60px\">Analysis</b>",
           "",
           "2020-04-22",
           "From <b>Apr-22-2020</b> to <b>Apr-22-2020</b>",
           0.176
          ],
          [
           "<b>MAPE</b>",
           "<b style=\"color:#00c8e5;line-height:60px\">Analysis</b>",
           "",
           "2020-04-23",
           "From <b>Apr-23-2020</b> to <b>Apr-23-2020</b>",
           0.1217
          ],
          [
           "<b>MAPE</b>",
           "<b style=\"color:#00c8e5;line-height:60px\">Analysis</b>",
           "",
           "2020-04-24",
           "From <b>Apr-24-2020</b> to <b>Apr-24-2020</b>",
           0.1925
          ],
          [
           "<b>MAPE</b>",
           "<b style=\"color:#00c8e5;line-height:60px\">Analysis</b>",
           "",
           "2020-04-25",
           "From <b>Apr-25-2020</b> to <b>Apr-25-2020</b>",
           0.1736
          ],
          [
           "<b>MAPE</b>",
           "<b style=\"color:#00c8e5;line-height:60px\">Analysis</b>",
           "<span style=\"color:#AD0000\">⚠ <b>Drift detected</b></span>",
           "2020-04-26",
           "From <b>Apr-26-2020</b> to <b>Apr-26-2020</b>",
           0.2968
          ],
          [
           "<b>MAPE</b>",
           "<b style=\"color:#00c8e5;line-height:60px\">Analysis</b>",
           "<span style=\"color:#AD0000\">⚠ <b>Drift detected</b></span>",
           "2020-04-27",
           "From <b>Apr-27-2020</b> to <b>Apr-27-2020</b>",
           0.2328
          ]
         ],
         "hovertemplate": "%{customdata[1]} &nbsp; &nbsp; %{customdata[2]} <br />Chunk: <b>%{customdata[3]}</b> &nbsp; &nbsp; %{customdata[4]} <br />%{customdata[0]}: <b>%{customdata[5]}</b><br /><extra></extra>",
         "marker": {
          "color": "#00c8e5",
          "size": 5,
          "symbol": "circle"
         },
         "mode": "markers",
         "name": "<b>MAPE</b> (realized MAPE)",
         "showlegend": false,
         "type": "scatter",
         "x": [
          "2019-12-24T12:00:00",
          "2019-12-25T12:00:00",
          "2019-12-26T12:00:00",
          "2019-12-27T12:00:00",
          "2019-12-28T12:00:00",
          "2019-12-29T12:00:00",
          "2019-12-30T12:00:00",
          "2019-12-31T12:00:00",
          "2020-01-01T12:00:00",
          "2020-01-02T12:00:00",
          "2020-01-03T12:00:00",
          "2020-01-04T12:00:00",
          "2020-01-05T12:00:00",
          "2020-01-06T12:00:00",
          "2020-01-07T12:00:00",
          "2020-01-08T12:00:00",
          "2020-01-09T12:00:00",
          "2020-01-10T12:00:00",
          "2020-01-11T12:00:00",
          "2020-01-12T12:00:00",
          "2020-01-13T12:00:00",
          "2020-01-14T12:00:00",
          "2020-01-15T12:00:00",
          "2020-01-16T12:00:00",
          "2020-01-17T12:00:00",
          "2020-01-18T12:00:00",
          "2020-01-19T12:00:00",
          "2020-01-20T12:00:00",
          "2020-01-21T12:00:00",
          "2020-01-22T12:00:00",
          "2020-01-23T12:00:00",
          "2020-01-24T12:00:00",
          "2020-01-25T12:00:00",
          "2020-01-26T12:00:00",
          "2020-01-27T12:00:00",
          "2020-01-28T12:00:00",
          "2020-01-29T12:00:00",
          "2020-01-30T12:00:00",
          "2020-01-31T12:00:00",
          "2020-02-01T12:00:00",
          "2020-02-02T12:00:00",
          "2020-02-03T12:00:00",
          "2020-02-04T12:00:00",
          "2020-02-05T12:00:00",
          "2020-02-06T12:00:00",
          "2020-02-07T12:00:00",
          "2020-02-08T12:00:00",
          "2020-02-09T12:00:00",
          "2020-02-10T12:00:00",
          "2020-02-11T12:00:00",
          "2020-02-12T12:00:00",
          "2020-02-13T12:00:00",
          "2020-02-14T12:00:00",
          "2020-02-15T12:00:00",
          "2020-02-16T12:00:00",
          "2020-02-17T12:00:00",
          "2020-02-18T12:00:00",
          "2020-02-19T12:00:00",
          "2020-02-20T12:00:00",
          "2020-02-21T12:00:00",
          "2020-02-22T12:00:00",
          "2020-02-23T12:00:00",
          "2020-02-24T12:00:00",
          "2020-02-25T12:00:00",
          "2020-02-26T12:00:00",
          "2020-02-27T12:00:00",
          "2020-02-28T12:00:00",
          "2020-02-29T12:00:00",
          "2020-03-01T12:00:00",
          "2020-03-02T12:00:00",
          "2020-03-03T12:00:00",
          "2020-03-04T12:00:00",
          "2020-03-05T12:00:00",
          "2020-03-06T12:00:00",
          "2020-03-07T12:00:00",
          "2020-03-08T12:00:00",
          "2020-03-09T12:00:00",
          "2020-03-10T12:00:00",
          "2020-03-11T12:00:00",
          "2020-03-12T12:00:00",
          "2020-03-13T12:00:00",
          "2020-03-14T12:00:00",
          "2020-03-15T12:00:00",
          "2020-03-16T12:00:00",
          "2020-03-17T12:00:00",
          "2020-03-18T12:00:00",
          "2020-03-19T12:00:00",
          "2020-03-20T12:00:00",
          "2020-03-21T12:00:00",
          "2020-03-22T12:00:00",
          "2020-03-23T12:00:00",
          "2020-03-24T12:00:00",
          "2020-03-25T12:00:00",
          "2020-03-26T12:00:00",
          "2020-03-27T12:00:00",
          "2020-03-28T12:00:00",
          "2020-03-29T12:00:00",
          "2020-03-30T12:00:00",
          "2020-03-31T12:00:00",
          "2020-04-01T12:00:00",
          "2020-04-02T12:00:00",
          "2020-04-03T12:00:00",
          "2020-04-04T12:00:00",
          "2020-04-05T12:00:00",
          "2020-04-06T12:00:00",
          "2020-04-07T12:00:00",
          "2020-04-08T12:00:00",
          "2020-04-09T12:00:00",
          "2020-04-10T12:00:00",
          "2020-04-11T12:00:00",
          "2020-04-12T12:00:00",
          "2020-04-13T12:00:00",
          "2020-04-14T12:00:00",
          "2020-04-15T12:00:00",
          "2020-04-16T12:00:00",
          "2020-04-17T12:00:00",
          "2020-04-18T12:00:00",
          "2020-04-19T12:00:00",
          "2020-04-20T12:00:00",
          "2020-04-21T12:00:00",
          "2020-04-22T12:00:00",
          "2020-04-23T12:00:00",
          "2020-04-24T12:00:00",
          "2020-04-25T12:00:00",
          "2020-04-26T12:00:00",
          "2020-04-27T11:59:59.999999999"
         ],
         "xaxis": "x",
         "y": [
          0.33741113024233244,
          0.34481582389118187,
          0.26938783034173236,
          0.28967528975817325,
          0.13819151170035635,
          0.30251764595042446,
          0.3039419769888281,
          0.4260483496617245,
          0.4107754343641214,
          0.45854149864054944,
          0.39357932615438473,
          0.29043825131876805,
          0.27767737212047927,
          0.27374433033033285,
          0.3171341362603628,
          0.24397675998214777,
          0.22122595609710036,
          0.23132385753113796,
          0.3318179309146739,
          0.22480507452695653,
          0.2468265025568089,
          0.21407916319208098,
          0.30284825270260657,
          0.43092799763492456,
          0.30192583192446604,
          0.36183410687862905,
          0.27761631780992535,
          0.387733883268276,
          0.32716151078174033,
          0.31088841661490446,
          0.31721878457485286,
          0.3087368744836899,
          0.299758800695946,
          0.25171892152615777,
          0.304728180529736,
          0.36878369977657827,
          0.5051550375267506,
          0.36863774209846123,
          0.4242104818701022,
          0.32181806476396957,
          0.3145787719652388,
          0.3475953627071151,
          0.3623567969237879,
          0.3309414341596179,
          0.2459238097834533,
          0.297214990153653,
          0.21576053482727722,
          0.43815297881149645,
          0.5084111719931378,
          0.39617064466519963,
          0.5705239572531963,
          0.4672996968915956,
          0.4260354315669675,
          0.2387357451026423,
          0.4464897025609031,
          0.48894849040183774,
          0.4007607643225526,
          0.17673308889784578,
          0.15190153841408816,
          0.1824408117288019,
          0.11862615012252102,
          0.1627366250009496,
          0.30548941055408424,
          0.24056525636732093,
          0.2695576088245671,
          0.29239022471539233,
          0.26269632937458814,
          0.2630932774309826,
          0.15716148637489766,
          0.39423380848848194,
          0.2547055305427454,
          0.20383411580735433,
          0.3897585753322139,
          0.28850669930560374,
          0.19520550465860578,
          0.29200952479303455,
          0.2423151348127861,
          0.2527611809170314,
          0.2851366286537761,
          0.2021495233277447,
          0.2374427540071914,
          0.29158968747402353,
          0.32328301544724997,
          0.26368386931745486,
          0.23856001948063985,
          0.27637549014127466,
          0.2273933920655703,
          0.2619328716190488,
          0.2365801758414945,
          0.15807982990025926,
          0.1073461424863394,
          0.23455250806143166,
          0.2710466930785249,
          0.16814878423060386,
          0.26804522308628137,
          0.20327467530728774,
          0.22803542801332877,
          0.21965517801422899,
          0.20568208738285987,
          0.18710624465687062,
          0.28713972711075936,
          0.17229005532783925,
          0.21681373428384676,
          0.6924223004002564,
          0.12909693997949373,
          0.21574848004846695,
          0.18400146896152977,
          0.12250043481727456,
          0.1735818686852432,
          0.16837169633847657,
          0.2360665830513564,
          0.25564312211363904,
          0.15466171630500947,
          0.2148137260548708,
          0.20257343640496286,
          0.19225552940848645,
          0.24206564865167243,
          0.20223629378239547,
          0.18338611435816507,
          0.20103832381668738,
          0.17596280730873395,
          0.12167972110091752,
          0.19249789163776374,
          0.17357890386860234,
          0.29679644147242434,
          0.23279595884775944,
          0.23279595884775944
         ],
         "yaxis": "y"
        },
        {
         "hoverinfo": "skip",
         "legendgroup": "alert",
         "marker": {
          "color": "#DD4040",
          "size": 8,
          "symbol": "diamond"
         },
         "mode": "markers",
         "name": "Alert",
         "showlegend": true,
         "type": "scatter",
         "x": [
          "2020-02-19T12:00:00",
          "2020-02-20T12:00:00",
          "2020-02-22T12:00:00",
          "2020-02-23T12:00:00",
          "2020-02-24T12:00:00",
          "2020-02-25T12:00:00",
          "2020-04-02T12:00:00",
          "2020-04-03T12:00:00",
          "2020-04-04T12:00:00"
         ],
         "xaxis": "x",
         "y": [
          0.2770632162584378,
          0.2574752590526653,
          0.24851694085330892,
          0.26425938393172316,
          0.2320249766674888,
          0.23249200674215853,
          0.24451688046997952,
          0.27568855308321605,
          0.24246733474714036
         ],
         "yaxis": "y"
        },
        {
         "hoverinfo": "skip",
         "legendgroup": "alert",
         "marker": {
          "color": "#DD4040",
          "size": 8,
          "symbol": "diamond"
         },
         "mode": "markers",
         "name": "Alert",
         "showlegend": false,
         "type": "scatter",
         "x": [
          "2019-12-24T12:00:00",
          "2019-12-25T12:00:00",
          "2019-12-26T12:00:00",
          "2019-12-27T12:00:00",
          "2019-12-29T12:00:00",
          "2019-12-30T12:00:00",
          "2019-12-31T12:00:00",
          "2020-01-01T12:00:00",
          "2020-01-02T12:00:00",
          "2020-01-03T12:00:00",
          "2020-01-04T12:00:00",
          "2020-01-05T12:00:00",
          "2020-01-06T12:00:00",
          "2020-01-07T12:00:00",
          "2020-01-08T12:00:00",
          "2020-01-10T12:00:00",
          "2020-01-11T12:00:00",
          "2020-01-13T12:00:00",
          "2020-01-15T12:00:00",
          "2020-01-16T12:00:00",
          "2020-01-17T12:00:00",
          "2020-01-18T12:00:00",
          "2020-01-19T12:00:00",
          "2020-01-20T12:00:00",
          "2020-01-21T12:00:00",
          "2020-01-22T12:00:00",
          "2020-01-23T12:00:00",
          "2020-01-24T12:00:00",
          "2020-01-25T12:00:00",
          "2020-01-26T12:00:00",
          "2020-01-27T12:00:00",
          "2020-01-28T12:00:00",
          "2020-01-29T12:00:00",
          "2020-01-30T12:00:00",
          "2020-01-31T12:00:00",
          "2020-02-01T12:00:00",
          "2020-02-02T12:00:00",
          "2020-02-03T12:00:00",
          "2020-02-04T12:00:00",
          "2020-02-05T12:00:00",
          "2020-02-06T12:00:00",
          "2020-02-07T12:00:00",
          "2020-02-09T12:00:00",
          "2020-02-10T12:00:00",
          "2020-02-11T12:00:00",
          "2020-02-12T12:00:00",
          "2020-02-13T12:00:00",
          "2020-02-14T12:00:00",
          "2020-02-15T12:00:00",
          "2020-02-16T12:00:00",
          "2020-02-17T12:00:00",
          "2020-02-18T12:00:00",
          "2020-02-24T12:00:00",
          "2020-02-25T12:00:00",
          "2020-02-26T12:00:00",
          "2020-02-27T12:00:00",
          "2020-02-28T12:00:00",
          "2020-02-29T12:00:00",
          "2020-03-02T12:00:00",
          "2020-03-03T12:00:00",
          "2020-03-05T12:00:00",
          "2020-03-06T12:00:00",
          "2020-03-08T12:00:00",
          "2020-03-09T12:00:00",
          "2020-03-10T12:00:00",
          "2020-03-11T12:00:00",
          "2020-03-13T12:00:00",
          "2020-03-14T12:00:00",
          "2020-03-15T12:00:00",
          "2020-03-16T12:00:00",
          "2020-03-17T12:00:00",
          "2020-03-18T12:00:00",
          "2020-03-20T12:00:00",
          "2020-03-21T12:00:00",
          "2020-03-24T12:00:00",
          "2020-03-25T12:00:00",
          "2020-03-27T12:00:00",
          "2020-04-02T12:00:00",
          "2020-04-05T12:00:00",
          "2020-04-12T12:00:00",
          "2020-04-13T12:00:00",
          "2020-04-18T12:00:00",
          "2020-04-26T12:00:00",
          "2020-04-27T11:59:59.999999999"
         ],
         "xaxis": "x",
         "y": [
          0.33741113024233244,
          0.34481582389118187,
          0.26938783034173236,
          0.28967528975817325,
          0.30251764595042446,
          0.3039419769888281,
          0.4260483496617245,
          0.4107754343641214,
          0.45854149864054944,
          0.39357932615438473,
          0.29043825131876805,
          0.27767737212047927,
          0.27374433033033285,
          0.3171341362603628,
          0.24397675998214777,
          0.23132385753113796,
          0.3318179309146739,
          0.2468265025568089,
          0.30284825270260657,
          0.43092799763492456,
          0.30192583192446604,
          0.36183410687862905,
          0.27761631780992535,
          0.387733883268276,
          0.32716151078174033,
          0.31088841661490446,
          0.31721878457485286,
          0.3087368744836899,
          0.299758800695946,
          0.25171892152615777,
          0.304728180529736,
          0.36878369977657827,
          0.5051550375267506,
          0.36863774209846123,
          0.4242104818701022,
          0.32181806476396957,
          0.3145787719652388,
          0.3475953627071151,
          0.3623567969237879,
          0.3309414341596179,
          0.2459238097834533,
          0.297214990153653,
          0.43815297881149645,
          0.5084111719931378,
          0.39617064466519963,
          0.5705239572531963,
          0.4672996968915956,
          0.4260354315669675,
          0.2387357451026423,
          0.4464897025609031,
          0.48894849040183774,
          0.4007607643225526,
          0.30548941055408424,
          0.24056525636732093,
          0.2695576088245671,
          0.29239022471539233,
          0.26269632937458814,
          0.2630932774309826,
          0.39423380848848194,
          0.2547055305427454,
          0.3897585753322139,
          0.28850669930560374,
          0.29200952479303455,
          0.2423151348127861,
          0.2527611809170314,
          0.2851366286537761,
          0.2374427540071914,
          0.29158968747402353,
          0.32328301544724997,
          0.26368386931745486,
          0.23856001948063985,
          0.27637549014127466,
          0.2619328716190488,
          0.2365801758414945,
          0.23455250806143166,
          0.2710466930785249,
          0.26804522308628137,
          0.28713972711075936,
          0.6924223004002564,
          0.2360665830513564,
          0.25564312211363904,
          0.24206564865167243,
          0.29679644147242434,
          0.23279595884775944
         ],
         "yaxis": "y"
        }
       ],
       "layout": {
        "annotations": [
         {
          "font": {
           "size": 16
          },
          "showarrow": false,
          "text": "<b>MAPE</b> (estimated MAPE) vs. <b>MAPE</b> (realized MAPE)",
          "x": 0.47,
          "xanchor": "center",
          "xref": "paper",
          "y": 1,
          "yanchor": "bottom",
          "yref": "paper"
         }
        ],
        "height": 500,
        "hoverlabel": {
         "bgcolor": "white",
         "font": {
          "size": 14
         }
        },
        "legend": {
         "itemclick": false,
         "itemdoubleclick": false,
         "traceorder": "grouped"
        },
        "paper_bgcolor": "rgba(255,255,255,1)",
        "plot_bgcolor": "rgba(255,255,255,1)",
        "template": {
         "data": {
          "bar": [
           {
            "error_x": {
             "color": "#2a3f5f"
            },
            "error_y": {
             "color": "#2a3f5f"
            },
            "marker": {
             "line": {
              "color": "#E5ECF6",
              "width": 0.5
             },
             "pattern": {
              "fillmode": "overlay",
              "size": 10,
              "solidity": 0.2
             }
            },
            "type": "bar"
           }
          ],
          "barpolar": [
           {
            "marker": {
             "line": {
              "color": "#E5ECF6",
              "width": 0.5
             },
             "pattern": {
              "fillmode": "overlay",
              "size": 10,
              "solidity": 0.2
             }
            },
            "type": "barpolar"
           }
          ],
          "carpet": [
           {
            "aaxis": {
             "endlinecolor": "#2a3f5f",
             "gridcolor": "white",
             "linecolor": "white",
             "minorgridcolor": "white",
             "startlinecolor": "#2a3f5f"
            },
            "baxis": {
             "endlinecolor": "#2a3f5f",
             "gridcolor": "white",
             "linecolor": "white",
             "minorgridcolor": "white",
             "startlinecolor": "#2a3f5f"
            },
            "type": "carpet"
           }
          ],
          "choropleth": [
           {
            "colorbar": {
             "outlinewidth": 0,
             "ticks": ""
            },
            "type": "choropleth"
           }
          ],
          "contour": [
           {
            "colorbar": {
             "outlinewidth": 0,
             "ticks": ""
            },
            "colorscale": [
             [
              0,
              "#0d0887"
             ],
             [
              0.1111111111111111,
              "#46039f"
             ],
             [
              0.2222222222222222,
              "#7201a8"
             ],
             [
              0.3333333333333333,
              "#9c179e"
             ],
             [
              0.4444444444444444,
              "#bd3786"
             ],
             [
              0.5555555555555556,
              "#d8576b"
             ],
             [
              0.6666666666666666,
              "#ed7953"
             ],
             [
              0.7777777777777778,
              "#fb9f3a"
             ],
             [
              0.8888888888888888,
              "#fdca26"
             ],
             [
              1,
              "#f0f921"
             ]
            ],
            "type": "contour"
           }
          ],
          "contourcarpet": [
           {
            "colorbar": {
             "outlinewidth": 0,
             "ticks": ""
            },
            "type": "contourcarpet"
           }
          ],
          "heatmap": [
           {
            "colorbar": {
             "outlinewidth": 0,
             "ticks": ""
            },
            "colorscale": [
             [
              0,
              "#0d0887"
             ],
             [
              0.1111111111111111,
              "#46039f"
             ],
             [
              0.2222222222222222,
              "#7201a8"
             ],
             [
              0.3333333333333333,
              "#9c179e"
             ],
             [
              0.4444444444444444,
              "#bd3786"
             ],
             [
              0.5555555555555556,
              "#d8576b"
             ],
             [
              0.6666666666666666,
              "#ed7953"
             ],
             [
              0.7777777777777778,
              "#fb9f3a"
             ],
             [
              0.8888888888888888,
              "#fdca26"
             ],
             [
              1,
              "#f0f921"
             ]
            ],
            "type": "heatmap"
           }
          ],
          "heatmapgl": [
           {
            "colorbar": {
             "outlinewidth": 0,
             "ticks": ""
            },
            "colorscale": [
             [
              0,
              "#0d0887"
             ],
             [
              0.1111111111111111,
              "#46039f"
             ],
             [
              0.2222222222222222,
              "#7201a8"
             ],
             [
              0.3333333333333333,
              "#9c179e"
             ],
             [
              0.4444444444444444,
              "#bd3786"
             ],
             [
              0.5555555555555556,
              "#d8576b"
             ],
             [
              0.6666666666666666,
              "#ed7953"
             ],
             [
              0.7777777777777778,
              "#fb9f3a"
             ],
             [
              0.8888888888888888,
              "#fdca26"
             ],
             [
              1,
              "#f0f921"
             ]
            ],
            "type": "heatmapgl"
           }
          ],
          "histogram": [
           {
            "marker": {
             "pattern": {
              "fillmode": "overlay",
              "size": 10,
              "solidity": 0.2
             }
            },
            "type": "histogram"
           }
          ],
          "histogram2d": [
           {
            "colorbar": {
             "outlinewidth": 0,
             "ticks": ""
            },
            "colorscale": [
             [
              0,
              "#0d0887"
             ],
             [
              0.1111111111111111,
              "#46039f"
             ],
             [
              0.2222222222222222,
              "#7201a8"
             ],
             [
              0.3333333333333333,
              "#9c179e"
             ],
             [
              0.4444444444444444,
              "#bd3786"
             ],
             [
              0.5555555555555556,
              "#d8576b"
             ],
             [
              0.6666666666666666,
              "#ed7953"
             ],
             [
              0.7777777777777778,
              "#fb9f3a"
             ],
             [
              0.8888888888888888,
              "#fdca26"
             ],
             [
              1,
              "#f0f921"
             ]
            ],
            "type": "histogram2d"
           }
          ],
          "histogram2dcontour": [
           {
            "colorbar": {
             "outlinewidth": 0,
             "ticks": ""
            },
            "colorscale": [
             [
              0,
              "#0d0887"
             ],
             [
              0.1111111111111111,
              "#46039f"
             ],
             [
              0.2222222222222222,
              "#7201a8"
             ],
             [
              0.3333333333333333,
              "#9c179e"
             ],
             [
              0.4444444444444444,
              "#bd3786"
             ],
             [
              0.5555555555555556,
              "#d8576b"
             ],
             [
              0.6666666666666666,
              "#ed7953"
             ],
             [
              0.7777777777777778,
              "#fb9f3a"
             ],
             [
              0.8888888888888888,
              "#fdca26"
             ],
             [
              1,
              "#f0f921"
             ]
            ],
            "type": "histogram2dcontour"
           }
          ],
          "mesh3d": [
           {
            "colorbar": {
             "outlinewidth": 0,
             "ticks": ""
            },
            "type": "mesh3d"
           }
          ],
          "parcoords": [
           {
            "line": {
             "colorbar": {
              "outlinewidth": 0,
              "ticks": ""
             }
            },
            "type": "parcoords"
           }
          ],
          "pie": [
           {
            "automargin": true,
            "type": "pie"
           }
          ],
          "scatter": [
           {
            "fillpattern": {
             "fillmode": "overlay",
             "size": 10,
             "solidity": 0.2
            },
            "type": "scatter"
           }
          ],
          "scatter3d": [
           {
            "line": {
             "colorbar": {
              "outlinewidth": 0,
              "ticks": ""
             }
            },
            "marker": {
             "colorbar": {
              "outlinewidth": 0,
              "ticks": ""
             }
            },
            "type": "scatter3d"
           }
          ],
          "scattercarpet": [
           {
            "marker": {
             "colorbar": {
              "outlinewidth": 0,
              "ticks": ""
             }
            },
            "type": "scattercarpet"
           }
          ],
          "scattergeo": [
           {
            "marker": {
             "colorbar": {
              "outlinewidth": 0,
              "ticks": ""
             }
            },
            "type": "scattergeo"
           }
          ],
          "scattergl": [
           {
            "marker": {
             "colorbar": {
              "outlinewidth": 0,
              "ticks": ""
             }
            },
            "type": "scattergl"
           }
          ],
          "scattermapbox": [
           {
            "marker": {
             "colorbar": {
              "outlinewidth": 0,
              "ticks": ""
             }
            },
            "type": "scattermapbox"
           }
          ],
          "scatterpolar": [
           {
            "marker": {
             "colorbar": {
              "outlinewidth": 0,
              "ticks": ""
             }
            },
            "type": "scatterpolar"
           }
          ],
          "scatterpolargl": [
           {
            "marker": {
             "colorbar": {
              "outlinewidth": 0,
              "ticks": ""
             }
            },
            "type": "scatterpolargl"
           }
          ],
          "scatterternary": [
           {
            "marker": {
             "colorbar": {
              "outlinewidth": 0,
              "ticks": ""
             }
            },
            "type": "scatterternary"
           }
          ],
          "surface": [
           {
            "colorbar": {
             "outlinewidth": 0,
             "ticks": ""
            },
            "colorscale": [
             [
              0,
              "#0d0887"
             ],
             [
              0.1111111111111111,
              "#46039f"
             ],
             [
              0.2222222222222222,
              "#7201a8"
             ],
             [
              0.3333333333333333,
              "#9c179e"
             ],
             [
              0.4444444444444444,
              "#bd3786"
             ],
             [
              0.5555555555555556,
              "#d8576b"
             ],
             [
              0.6666666666666666,
              "#ed7953"
             ],
             [
              0.7777777777777778,
              "#fb9f3a"
             ],
             [
              0.8888888888888888,
              "#fdca26"
             ],
             [
              1,
              "#f0f921"
             ]
            ],
            "type": "surface"
           }
          ],
          "table": [
           {
            "cells": {
             "fill": {
              "color": "#EBF0F8"
             },
             "line": {
              "color": "white"
             }
            },
            "header": {
             "fill": {
              "color": "#C8D4E3"
             },
             "line": {
              "color": "white"
             }
            },
            "type": "table"
           }
          ]
         },
         "layout": {
          "annotationdefaults": {
           "arrowcolor": "#2a3f5f",
           "arrowhead": 0,
           "arrowwidth": 1
          },
          "autotypenumbers": "strict",
          "coloraxis": {
           "colorbar": {
            "outlinewidth": 0,
            "ticks": ""
           }
          },
          "colorscale": {
           "diverging": [
            [
             0,
             "#8e0152"
            ],
            [
             0.1,
             "#c51b7d"
            ],
            [
             0.2,
             "#de77ae"
            ],
            [
             0.3,
             "#f1b6da"
            ],
            [
             0.4,
             "#fde0ef"
            ],
            [
             0.5,
             "#f7f7f7"
            ],
            [
             0.6,
             "#e6f5d0"
            ],
            [
             0.7,
             "#b8e186"
            ],
            [
             0.8,
             "#7fbc41"
            ],
            [
             0.9,
             "#4d9221"
            ],
            [
             1,
             "#276419"
            ]
           ],
           "sequential": [
            [
             0,
             "#0d0887"
            ],
            [
             0.1111111111111111,
             "#46039f"
            ],
            [
             0.2222222222222222,
             "#7201a8"
            ],
            [
             0.3333333333333333,
             "#9c179e"
            ],
            [
             0.4444444444444444,
             "#bd3786"
            ],
            [
             0.5555555555555556,
             "#d8576b"
            ],
            [
             0.6666666666666666,
             "#ed7953"
            ],
            [
             0.7777777777777778,
             "#fb9f3a"
            ],
            [
             0.8888888888888888,
             "#fdca26"
            ],
            [
             1,
             "#f0f921"
            ]
           ],
           "sequentialminus": [
            [
             0,
             "#0d0887"
            ],
            [
             0.1111111111111111,
             "#46039f"
            ],
            [
             0.2222222222222222,
             "#7201a8"
            ],
            [
             0.3333333333333333,
             "#9c179e"
            ],
            [
             0.4444444444444444,
             "#bd3786"
            ],
            [
             0.5555555555555556,
             "#d8576b"
            ],
            [
             0.6666666666666666,
             "#ed7953"
            ],
            [
             0.7777777777777778,
             "#fb9f3a"
            ],
            [
             0.8888888888888888,
             "#fdca26"
            ],
            [
             1,
             "#f0f921"
            ]
           ]
          },
          "colorway": [
           "#636efa",
           "#EF553B",
           "#00cc96",
           "#ab63fa",
           "#FFA15A",
           "#19d3f3",
           "#FF6692",
           "#B6E880",
           "#FF97FF",
           "#FECB52"
          ],
          "font": {
           "color": "#2a3f5f"
          },
          "geo": {
           "bgcolor": "white",
           "lakecolor": "white",
           "landcolor": "#E5ECF6",
           "showlakes": true,
           "showland": true,
           "subunitcolor": "white"
          },
          "hoverlabel": {
           "align": "left"
          },
          "hovermode": "closest",
          "mapbox": {
           "style": "light"
          },
          "paper_bgcolor": "white",
          "plot_bgcolor": "#E5ECF6",
          "polar": {
           "angularaxis": {
            "gridcolor": "white",
            "linecolor": "white",
            "ticks": ""
           },
           "bgcolor": "#E5ECF6",
           "radialaxis": {
            "gridcolor": "white",
            "linecolor": "white",
            "ticks": ""
           }
          },
          "scene": {
           "xaxis": {
            "backgroundcolor": "#E5ECF6",
            "gridcolor": "white",
            "gridwidth": 2,
            "linecolor": "white",
            "showbackground": true,
            "ticks": "",
            "zerolinecolor": "white"
           },
           "yaxis": {
            "backgroundcolor": "#E5ECF6",
            "gridcolor": "white",
            "gridwidth": 2,
            "linecolor": "white",
            "showbackground": true,
            "ticks": "",
            "zerolinecolor": "white"
           },
           "zaxis": {
            "backgroundcolor": "#E5ECF6",
            "gridcolor": "white",
            "gridwidth": 2,
            "linecolor": "white",
            "showbackground": true,
            "ticks": "",
            "zerolinecolor": "white"
           }
          },
          "shapedefaults": {
           "line": {
            "color": "#2a3f5f"
           }
          },
          "ternary": {
           "aaxis": {
            "gridcolor": "white",
            "linecolor": "white",
            "ticks": ""
           },
           "baxis": {
            "gridcolor": "white",
            "linecolor": "white",
            "ticks": ""
           },
           "bgcolor": "#E5ECF6",
           "caxis": {
            "gridcolor": "white",
            "linecolor": "white",
            "ticks": ""
           }
          },
          "title": {
           "x": 0.05
          },
          "xaxis": {
           "automargin": true,
           "gridcolor": "white",
           "linecolor": "white",
           "ticks": "",
           "title": {
            "standoff": 15
           },
           "zerolinecolor": "white",
           "zerolinewidth": 2
          },
          "yaxis": {
           "automargin": true,
           "gridcolor": "white",
           "linecolor": "white",
           "ticks": "",
           "title": {
            "standoff": 15
           },
           "zerolinecolor": "white",
           "zerolinewidth": 2
          }
         }
        },
        "title": {
         "text": "<b>Estimated performance (DLE)</b> vs. <b>Realized performance</b>"
        },
        "xaxis": {
         "anchor": "y",
         "domain": [
          0,
          0.94
         ],
         "linecolor": "#3b0280",
         "matches": "x",
         "mirror": true,
         "showgrid": false,
         "title": {
          "text": "Chunk"
         },
         "zeroline": false
        },
        "yaxis": {
         "anchor": "x",
         "domain": [
          0,
          1
         ],
         "linecolor": "#3b0280",
         "mirror": true,
         "showgrid": false,
         "title": {
          "text": "<b>MAPE</b>"
         },
         "zeroline": false
        },
        "yaxis2": {
         "anchor": "x",
         "linecolor": "#3b0280",
         "mirror": true,
         "overlaying": "y",
         "showgrid": false,
         "side": "right",
         "title": {
          "text": "Comparison"
         },
         "zeroline": false
        }
       }
      },
      "text/html": [
       "<div>                            <div id=\"bcb19bc3-1495-41be-8106-2c2499a53511\" class=\"plotly-graph-div\" style=\"height:500.0px; width:100%;\"></div>            <script type=\"text/javascript\">                require([\"plotly\"], function(Plotly) {                    window.PLOTLYENV=window.PLOTLYENV || {};                                    if (document.getElementById(\"bcb19bc3-1495-41be-8106-2c2499a53511\")) {                    Plotly.newPlot(                        \"bcb19bc3-1495-41be-8106-2c2499a53511\",                        [{\"hoverinfo\":\"skip\",\"line\":{\"color\":\"#3b0280\",\"dash\":\"dash\",\"shape\":\"hv\",\"width\":2},\"mode\":\"lines\",\"name\":\"\\u003cb\\u003eMAPE\\u003c\\u002fb\\u003e (estimated MAPE)\",\"showlegend\":true,\"x\":[\"2019-12-24T00:00:00\",\"2019-12-25T00:00:00\",\"2019-12-26T00:00:00\",\"2019-12-27T00:00:00\",\"2019-12-28T00:00:00\",\"2019-12-29T00:00:00\",\"2019-12-30T00:00:00\",\"2019-12-31T00:00:00\",\"2020-01-01T00:00:00\",\"2020-01-02T00:00:00\",\"2020-01-03T00:00:00\",\"2020-01-04T00:00:00\",\"2020-01-05T00:00:00\",\"2020-01-06T00:00:00\",\"2020-01-07T00:00:00\",\"2020-01-08T00:00:00\",\"2020-01-09T00:00:00\",\"2020-01-10T00:00:00\",\"2020-01-11T00:00:00\",\"2020-01-12T00:00:00\",\"2020-01-13T00:00:00\",\"2020-01-14T00:00:00\",\"2020-01-15T00:00:00\",\"2020-01-16T00:00:00\",\"2020-01-17T00:00:00\",\"2020-01-18T00:00:00\",\"2020-01-19T00:00:00\",\"2020-01-20T00:00:00\",\"2020-01-21T00:00:00\",\"2020-01-22T00:00:00\",\"2020-01-23T00:00:00\",\"2020-01-24T00:00:00\",\"2020-01-25T00:00:00\",\"2020-01-26T00:00:00\",\"2020-01-27T00:00:00\",\"2020-01-28T00:00:00\",\"2020-01-29T00:00:00\",\"2020-01-30T00:00:00\",\"2020-01-31T00:00:00\",\"2020-02-01T00:00:00\",\"2020-02-02T00:00:00\",\"2020-02-03T00:00:00\",\"2020-02-04T00:00:00\",\"2020-02-05T00:00:00\",\"2020-02-06T00:00:00\",\"2020-02-07T00:00:00\",\"2020-02-08T00:00:00\",\"2020-02-09T00:00:00\",\"2020-02-10T00:00:00\",\"2020-02-11T00:00:00\",\"2020-02-12T00:00:00\",\"2020-02-13T00:00:00\",\"2020-02-14T00:00:00\",\"2020-02-15T00:00:00\",\"2020-02-16T00:00:00\",\"2020-02-17T00:00:00\",\"2020-02-18T00:00:00\",\"2020-02-19T00:00:00\",\"2020-02-20T00:00:00\",\"2020-02-21T00:00:00\",\"2020-02-22T00:00:00\",\"2020-02-23T00:00:00\",\"2020-02-24T00:00:00\",\"2020-02-25T00:00:00\",\"2020-02-26T00:00:00\",\"2020-02-27T00:00:00\",\"2020-02-28T00:00:00\",\"2020-02-29T00:00:00\",\"2020-03-01T00:00:00\",\"2020-03-02T00:00:00\",\"2020-03-03T00:00:00\",\"2020-03-04T00:00:00\",\"2020-03-05T00:00:00\",\"2020-03-06T00:00:00\",\"2020-03-07T00:00:00\",\"2020-03-08T00:00:00\",\"2020-03-09T00:00:00\",\"2020-03-10T00:00:00\",\"2020-03-11T00:00:00\",\"2020-03-12T00:00:00\",\"2020-03-13T00:00:00\",\"2020-03-14T00:00:00\",\"2020-03-15T00:00:00\",\"2020-03-16T00:00:00\",\"2020-03-17T00:00:00\",\"2020-03-18T00:00:00\",\"2020-03-19T00:00:00\",\"2020-03-20T00:00:00\",\"2020-03-21T00:00:00\",\"2020-03-22T00:00:00\",\"2020-03-23T00:00:00\",\"2020-03-24T00:00:00\",\"2020-03-25T00:00:00\",\"2020-03-26T00:00:00\",\"2020-03-27T00:00:00\",\"2020-03-28T00:00:00\",\"2020-03-29T00:00:00\",\"2020-03-30T00:00:00\",\"2020-03-31T00:00:00\",\"2020-04-01T00:00:00\",\"2020-04-02T00:00:00\",\"2020-04-03T00:00:00\",\"2020-04-04T00:00:00\",\"2020-04-05T00:00:00\",\"2020-04-06T00:00:00\",\"2020-04-07T00:00:00\",\"2020-04-08T00:00:00\",\"2020-04-09T00:00:00\",\"2020-04-10T00:00:00\",\"2020-04-11T00:00:00\",\"2020-04-12T00:00:00\",\"2020-04-13T00:00:00\",\"2020-04-14T00:00:00\",\"2020-04-15T00:00:00\",\"2020-04-16T00:00:00\",\"2020-04-17T00:00:00\",\"2020-04-18T00:00:00\",\"2020-04-19T00:00:00\",\"2020-04-20T00:00:00\",\"2020-04-21T00:00:00\",\"2020-04-22T00:00:00\",\"2020-04-23T00:00:00\",\"2020-04-24T00:00:00\",\"2020-04-25T00:00:00\",\"2020-04-26T00:00:00\",\"2020-04-27T00:00:00\",\"2020-04-27T23:59:59.999999999\"],\"xaxis\":\"x\",\"y\":[0.14955399974142047,0.13586662996783147,0.1316987154702048,0.1365788067108258,0.12930705918463306,0.1194723781453696,0.12875059286751186,0.13864358396156548,0.1420631605008087,0.14021367520860537,0.13501468843184916,0.11291313457392822,0.1227356822414059,0.11024911926002928,0.14800426518587542,0.11064222576661333,0.10032138133249362,0.14176811465704928,0.12293475886931926,0.10819702478183106,0.11496444203327334,0.10109084200059336,0.14837766508343275,0.12696683711023507,0.11300854139879302,0.11895443943141316,0.10472792180633521,0.1403705109637385,0.10912711325615425,0.11278708306484937,0.09998076819286124,0.09992371639716036,0.09873734373066685,0.12015595459082044,0.09509090466776199,0.11676912696967286,0.1243240276725116,0.14077951476669623,0.1296768128904728,0.10151250729707922,0.08925397647692919,0.10387538070214193,0.09769397409777451,0.11397467642114173,0.10474839848501098,0.12868993229397555,0.12077304254810539,0.11914965661904155,0.11683368515657132,0.13530766317616705,0.18272237219213752,0.17040276963031276,0.13141680160384314,0.12650864938978873,0.12863303486652367,0.13877359647423926,0.1401450444887057,0.2770632162584378,0.2574752590526653,0.22904747813291224,0.24851694085330892,0.26425938393172316,0.2320249766674888,0.23249200674215853,0.22946334235320298,0.20279852163372414,0.19051761338444193,0.19819303564839205,0.19436366743918512,0.21230735902303735,0.1974577457865081,0.21693420357165985,0.22103995621136927,0.127700292041294,0.11577487829174331,0.11365751780039035,0.10304076394583267,0.1685812409850481,0.1720123999118762,0.10055614322899259,0.13818953423379746,0.0912612788220301,0.10505915478347287,0.13830781824284297,0.12942950540060036,0.13900113395259814,0.11829563625947544,0.15341098324881125,0.10333084782790518,0.11807767966974879,0.11025889737040968,0.15402083454002433,0.1136004354919871,0.10289955541456697,0.11429945098807347,0.1324594357775205,0.11497297156243179,0.13659139214420046,0.18124517611132476,0.22612702757208777,0.24451688046997952,0.27568855308321605,0.24246733474714036,0.1910583553747526,0.1583358157992645,0.14452672088128263,0.1377505590199887,0.1449530336241158,0.13453209719008064,0.16315967141683438,0.1634310626656399,0.14762865988877882,0.13487623044424188,0.1409820919324534,0.18082630121466658,0.1815642913871789,0.13483015696366804,0.1350362790702003,0.11722930429298627,0.12168869839222435,0.11821614818703574,0.11035499955108134,0.13486682908621783,0.12538699164255246,0.1425000299947499,0.09803650748045671,0.09803650748045671],\"yaxis\":\"y\",\"type\":\"scatter\"},{\"customdata\":[[\"\\u003cb\\u003eMAPE\\u003c\\u002fb\\u003e (estimated MAPE)\",\"\\u003cb style=\\\"color:#3b0280;line-height:60px\\\"\\u003eAnalysis\\u003c\\u002fb\\u003e\",\"\",\"2019-12-24\",\"From \\u003cb\\u003eDec-24-2019\\u003c\\u002fb\\u003e to \\u003cb\\u003eDec-24-2019\\u003c\\u002fb\\u003e\",0.1496],[\"\\u003cb\\u003eMAPE\\u003c\\u002fb\\u003e (estimated MAPE)\",\"\\u003cb style=\\\"color:#3b0280;line-height:60px\\\"\\u003eAnalysis\\u003c\\u002fb\\u003e\",\"\",\"2019-12-25\",\"From \\u003cb\\u003eDec-25-2019\\u003c\\u002fb\\u003e to \\u003cb\\u003eDec-25-2019\\u003c\\u002fb\\u003e\",0.1359],[\"\\u003cb\\u003eMAPE\\u003c\\u002fb\\u003e (estimated MAPE)\",\"\\u003cb style=\\\"color:#3b0280;line-height:60px\\\"\\u003eAnalysis\\u003c\\u002fb\\u003e\",\"\",\"2019-12-26\",\"From \\u003cb\\u003eDec-26-2019\\u003c\\u002fb\\u003e to \\u003cb\\u003eDec-26-2019\\u003c\\u002fb\\u003e\",0.1317],[\"\\u003cb\\u003eMAPE\\u003c\\u002fb\\u003e (estimated MAPE)\",\"\\u003cb style=\\\"color:#3b0280;line-height:60px\\\"\\u003eAnalysis\\u003c\\u002fb\\u003e\",\"\",\"2019-12-27\",\"From \\u003cb\\u003eDec-27-2019\\u003c\\u002fb\\u003e to \\u003cb\\u003eDec-27-2019\\u003c\\u002fb\\u003e\",0.1366],[\"\\u003cb\\u003eMAPE\\u003c\\u002fb\\u003e (estimated MAPE)\",\"\\u003cb style=\\\"color:#3b0280;line-height:60px\\\"\\u003eAnalysis\\u003c\\u002fb\\u003e\",\"\",\"2019-12-28\",\"From \\u003cb\\u003eDec-28-2019\\u003c\\u002fb\\u003e to \\u003cb\\u003eDec-28-2019\\u003c\\u002fb\\u003e\",0.1293],[\"\\u003cb\\u003eMAPE\\u003c\\u002fb\\u003e (estimated MAPE)\",\"\\u003cb style=\\\"color:#3b0280;line-height:60px\\\"\\u003eAnalysis\\u003c\\u002fb\\u003e\",\"\",\"2019-12-29\",\"From \\u003cb\\u003eDec-29-2019\\u003c\\u002fb\\u003e to \\u003cb\\u003eDec-29-2019\\u003c\\u002fb\\u003e\",0.1195],[\"\\u003cb\\u003eMAPE\\u003c\\u002fb\\u003e (estimated MAPE)\",\"\\u003cb style=\\\"color:#3b0280;line-height:60px\\\"\\u003eAnalysis\\u003c\\u002fb\\u003e\",\"\",\"2019-12-30\",\"From \\u003cb\\u003eDec-30-2019\\u003c\\u002fb\\u003e to \\u003cb\\u003eDec-30-2019\\u003c\\u002fb\\u003e\",0.1288],[\"\\u003cb\\u003eMAPE\\u003c\\u002fb\\u003e (estimated MAPE)\",\"\\u003cb style=\\\"color:#3b0280;line-height:60px\\\"\\u003eAnalysis\\u003c\\u002fb\\u003e\",\"\",\"2019-12-31\",\"From \\u003cb\\u003eDec-31-2019\\u003c\\u002fb\\u003e to \\u003cb\\u003eDec-31-2019\\u003c\\u002fb\\u003e\",0.1386],[\"\\u003cb\\u003eMAPE\\u003c\\u002fb\\u003e (estimated MAPE)\",\"\\u003cb style=\\\"color:#3b0280;line-height:60px\\\"\\u003eAnalysis\\u003c\\u002fb\\u003e\",\"\",\"2020-01-01\",\"From \\u003cb\\u003eJan-01-2020\\u003c\\u002fb\\u003e to \\u003cb\\u003eJan-01-2020\\u003c\\u002fb\\u003e\",0.1421],[\"\\u003cb\\u003eMAPE\\u003c\\u002fb\\u003e (estimated MAPE)\",\"\\u003cb style=\\\"color:#3b0280;line-height:60px\\\"\\u003eAnalysis\\u003c\\u002fb\\u003e\",\"\",\"2020-01-02\",\"From \\u003cb\\u003eJan-02-2020\\u003c\\u002fb\\u003e to \\u003cb\\u003eJan-02-2020\\u003c\\u002fb\\u003e\",0.1402],[\"\\u003cb\\u003eMAPE\\u003c\\u002fb\\u003e (estimated MAPE)\",\"\\u003cb style=\\\"color:#3b0280;line-height:60px\\\"\\u003eAnalysis\\u003c\\u002fb\\u003e\",\"\",\"2020-01-03\",\"From \\u003cb\\u003eJan-03-2020\\u003c\\u002fb\\u003e to \\u003cb\\u003eJan-03-2020\\u003c\\u002fb\\u003e\",0.135],[\"\\u003cb\\u003eMAPE\\u003c\\u002fb\\u003e (estimated MAPE)\",\"\\u003cb style=\\\"color:#3b0280;line-height:60px\\\"\\u003eAnalysis\\u003c\\u002fb\\u003e\",\"\",\"2020-01-04\",\"From \\u003cb\\u003eJan-04-2020\\u003c\\u002fb\\u003e to \\u003cb\\u003eJan-04-2020\\u003c\\u002fb\\u003e\",0.1129],[\"\\u003cb\\u003eMAPE\\u003c\\u002fb\\u003e (estimated MAPE)\",\"\\u003cb style=\\\"color:#3b0280;line-height:60px\\\"\\u003eAnalysis\\u003c\\u002fb\\u003e\",\"\",\"2020-01-05\",\"From \\u003cb\\u003eJan-05-2020\\u003c\\u002fb\\u003e to \\u003cb\\u003eJan-05-2020\\u003c\\u002fb\\u003e\",0.1227],[\"\\u003cb\\u003eMAPE\\u003c\\u002fb\\u003e (estimated MAPE)\",\"\\u003cb style=\\\"color:#3b0280;line-height:60px\\\"\\u003eAnalysis\\u003c\\u002fb\\u003e\",\"\",\"2020-01-06\",\"From \\u003cb\\u003eJan-06-2020\\u003c\\u002fb\\u003e to \\u003cb\\u003eJan-06-2020\\u003c\\u002fb\\u003e\",0.1102],[\"\\u003cb\\u003eMAPE\\u003c\\u002fb\\u003e (estimated MAPE)\",\"\\u003cb style=\\\"color:#3b0280;line-height:60px\\\"\\u003eAnalysis\\u003c\\u002fb\\u003e\",\"\",\"2020-01-07\",\"From \\u003cb\\u003eJan-07-2020\\u003c\\u002fb\\u003e to \\u003cb\\u003eJan-07-2020\\u003c\\u002fb\\u003e\",0.148],[\"\\u003cb\\u003eMAPE\\u003c\\u002fb\\u003e (estimated MAPE)\",\"\\u003cb style=\\\"color:#3b0280;line-height:60px\\\"\\u003eAnalysis\\u003c\\u002fb\\u003e\",\"\",\"2020-01-08\",\"From \\u003cb\\u003eJan-08-2020\\u003c\\u002fb\\u003e to \\u003cb\\u003eJan-08-2020\\u003c\\u002fb\\u003e\",0.1106],[\"\\u003cb\\u003eMAPE\\u003c\\u002fb\\u003e (estimated MAPE)\",\"\\u003cb style=\\\"color:#3b0280;line-height:60px\\\"\\u003eAnalysis\\u003c\\u002fb\\u003e\",\"\",\"2020-01-09\",\"From \\u003cb\\u003eJan-09-2020\\u003c\\u002fb\\u003e to \\u003cb\\u003eJan-09-2020\\u003c\\u002fb\\u003e\",0.1003],[\"\\u003cb\\u003eMAPE\\u003c\\u002fb\\u003e (estimated MAPE)\",\"\\u003cb style=\\\"color:#3b0280;line-height:60px\\\"\\u003eAnalysis\\u003c\\u002fb\\u003e\",\"\",\"2020-01-10\",\"From \\u003cb\\u003eJan-10-2020\\u003c\\u002fb\\u003e to \\u003cb\\u003eJan-10-2020\\u003c\\u002fb\\u003e\",0.1418],[\"\\u003cb\\u003eMAPE\\u003c\\u002fb\\u003e (estimated MAPE)\",\"\\u003cb style=\\\"color:#3b0280;line-height:60px\\\"\\u003eAnalysis\\u003c\\u002fb\\u003e\",\"\",\"2020-01-11\",\"From \\u003cb\\u003eJan-11-2020\\u003c\\u002fb\\u003e to \\u003cb\\u003eJan-11-2020\\u003c\\u002fb\\u003e\",0.1229],[\"\\u003cb\\u003eMAPE\\u003c\\u002fb\\u003e (estimated MAPE)\",\"\\u003cb style=\\\"color:#3b0280;line-height:60px\\\"\\u003eAnalysis\\u003c\\u002fb\\u003e\",\"\",\"2020-01-12\",\"From \\u003cb\\u003eJan-12-2020\\u003c\\u002fb\\u003e to \\u003cb\\u003eJan-12-2020\\u003c\\u002fb\\u003e\",0.1082],[\"\\u003cb\\u003eMAPE\\u003c\\u002fb\\u003e (estimated MAPE)\",\"\\u003cb style=\\\"color:#3b0280;line-height:60px\\\"\\u003eAnalysis\\u003c\\u002fb\\u003e\",\"\",\"2020-01-13\",\"From \\u003cb\\u003eJan-13-2020\\u003c\\u002fb\\u003e to \\u003cb\\u003eJan-13-2020\\u003c\\u002fb\\u003e\",0.115],[\"\\u003cb\\u003eMAPE\\u003c\\u002fb\\u003e (estimated MAPE)\",\"\\u003cb style=\\\"color:#3b0280;line-height:60px\\\"\\u003eAnalysis\\u003c\\u002fb\\u003e\",\"\",\"2020-01-14\",\"From \\u003cb\\u003eJan-14-2020\\u003c\\u002fb\\u003e to \\u003cb\\u003eJan-14-2020\\u003c\\u002fb\\u003e\",0.1011],[\"\\u003cb\\u003eMAPE\\u003c\\u002fb\\u003e (estimated MAPE)\",\"\\u003cb style=\\\"color:#3b0280;line-height:60px\\\"\\u003eAnalysis\\u003c\\u002fb\\u003e\",\"\",\"2020-01-15\",\"From \\u003cb\\u003eJan-15-2020\\u003c\\u002fb\\u003e to \\u003cb\\u003eJan-15-2020\\u003c\\u002fb\\u003e\",0.1484],[\"\\u003cb\\u003eMAPE\\u003c\\u002fb\\u003e (estimated MAPE)\",\"\\u003cb style=\\\"color:#3b0280;line-height:60px\\\"\\u003eAnalysis\\u003c\\u002fb\\u003e\",\"\",\"2020-01-16\",\"From \\u003cb\\u003eJan-16-2020\\u003c\\u002fb\\u003e to \\u003cb\\u003eJan-16-2020\\u003c\\u002fb\\u003e\",0.127],[\"\\u003cb\\u003eMAPE\\u003c\\u002fb\\u003e (estimated MAPE)\",\"\\u003cb style=\\\"color:#3b0280;line-height:60px\\\"\\u003eAnalysis\\u003c\\u002fb\\u003e\",\"\",\"2020-01-17\",\"From \\u003cb\\u003eJan-17-2020\\u003c\\u002fb\\u003e to \\u003cb\\u003eJan-17-2020\\u003c\\u002fb\\u003e\",0.113],[\"\\u003cb\\u003eMAPE\\u003c\\u002fb\\u003e (estimated MAPE)\",\"\\u003cb style=\\\"color:#3b0280;line-height:60px\\\"\\u003eAnalysis\\u003c\\u002fb\\u003e\",\"\",\"2020-01-18\",\"From \\u003cb\\u003eJan-18-2020\\u003c\\u002fb\\u003e to \\u003cb\\u003eJan-18-2020\\u003c\\u002fb\\u003e\",0.119],[\"\\u003cb\\u003eMAPE\\u003c\\u002fb\\u003e (estimated MAPE)\",\"\\u003cb style=\\\"color:#3b0280;line-height:60px\\\"\\u003eAnalysis\\u003c\\u002fb\\u003e\",\"\",\"2020-01-19\",\"From \\u003cb\\u003eJan-19-2020\\u003c\\u002fb\\u003e to \\u003cb\\u003eJan-19-2020\\u003c\\u002fb\\u003e\",0.1047],[\"\\u003cb\\u003eMAPE\\u003c\\u002fb\\u003e (estimated MAPE)\",\"\\u003cb style=\\\"color:#3b0280;line-height:60px\\\"\\u003eAnalysis\\u003c\\u002fb\\u003e\",\"\",\"2020-01-20\",\"From \\u003cb\\u003eJan-20-2020\\u003c\\u002fb\\u003e to \\u003cb\\u003eJan-20-2020\\u003c\\u002fb\\u003e\",0.1404],[\"\\u003cb\\u003eMAPE\\u003c\\u002fb\\u003e (estimated MAPE)\",\"\\u003cb style=\\\"color:#3b0280;line-height:60px\\\"\\u003eAnalysis\\u003c\\u002fb\\u003e\",\"\",\"2020-01-21\",\"From \\u003cb\\u003eJan-21-2020\\u003c\\u002fb\\u003e to \\u003cb\\u003eJan-21-2020\\u003c\\u002fb\\u003e\",0.1091],[\"\\u003cb\\u003eMAPE\\u003c\\u002fb\\u003e (estimated MAPE)\",\"\\u003cb style=\\\"color:#3b0280;line-height:60px\\\"\\u003eAnalysis\\u003c\\u002fb\\u003e\",\"\",\"2020-01-22\",\"From \\u003cb\\u003eJan-22-2020\\u003c\\u002fb\\u003e to \\u003cb\\u003eJan-22-2020\\u003c\\u002fb\\u003e\",0.1128],[\"\\u003cb\\u003eMAPE\\u003c\\u002fb\\u003e (estimated MAPE)\",\"\\u003cb style=\\\"color:#3b0280;line-height:60px\\\"\\u003eAnalysis\\u003c\\u002fb\\u003e\",\"\",\"2020-01-23\",\"From \\u003cb\\u003eJan-23-2020\\u003c\\u002fb\\u003e to \\u003cb\\u003eJan-23-2020\\u003c\\u002fb\\u003e\",0.1],[\"\\u003cb\\u003eMAPE\\u003c\\u002fb\\u003e (estimated MAPE)\",\"\\u003cb style=\\\"color:#3b0280;line-height:60px\\\"\\u003eAnalysis\\u003c\\u002fb\\u003e\",\"\",\"2020-01-24\",\"From \\u003cb\\u003eJan-24-2020\\u003c\\u002fb\\u003e to \\u003cb\\u003eJan-24-2020\\u003c\\u002fb\\u003e\",0.0999],[\"\\u003cb\\u003eMAPE\\u003c\\u002fb\\u003e (estimated MAPE)\",\"\\u003cb style=\\\"color:#3b0280;line-height:60px\\\"\\u003eAnalysis\\u003c\\u002fb\\u003e\",\"\",\"2020-01-25\",\"From \\u003cb\\u003eJan-25-2020\\u003c\\u002fb\\u003e to \\u003cb\\u003eJan-25-2020\\u003c\\u002fb\\u003e\",0.0987],[\"\\u003cb\\u003eMAPE\\u003c\\u002fb\\u003e (estimated MAPE)\",\"\\u003cb style=\\\"color:#3b0280;line-height:60px\\\"\\u003eAnalysis\\u003c\\u002fb\\u003e\",\"\",\"2020-01-26\",\"From \\u003cb\\u003eJan-26-2020\\u003c\\u002fb\\u003e to \\u003cb\\u003eJan-26-2020\\u003c\\u002fb\\u003e\",0.1202],[\"\\u003cb\\u003eMAPE\\u003c\\u002fb\\u003e (estimated MAPE)\",\"\\u003cb style=\\\"color:#3b0280;line-height:60px\\\"\\u003eAnalysis\\u003c\\u002fb\\u003e\",\"\",\"2020-01-27\",\"From \\u003cb\\u003eJan-27-2020\\u003c\\u002fb\\u003e to \\u003cb\\u003eJan-27-2020\\u003c\\u002fb\\u003e\",0.0951],[\"\\u003cb\\u003eMAPE\\u003c\\u002fb\\u003e (estimated MAPE)\",\"\\u003cb style=\\\"color:#3b0280;line-height:60px\\\"\\u003eAnalysis\\u003c\\u002fb\\u003e\",\"\",\"2020-01-28\",\"From \\u003cb\\u003eJan-28-2020\\u003c\\u002fb\\u003e to \\u003cb\\u003eJan-28-2020\\u003c\\u002fb\\u003e\",0.1168],[\"\\u003cb\\u003eMAPE\\u003c\\u002fb\\u003e (estimated MAPE)\",\"\\u003cb style=\\\"color:#3b0280;line-height:60px\\\"\\u003eAnalysis\\u003c\\u002fb\\u003e\",\"\",\"2020-01-29\",\"From \\u003cb\\u003eJan-29-2020\\u003c\\u002fb\\u003e to \\u003cb\\u003eJan-29-2020\\u003c\\u002fb\\u003e\",0.1243],[\"\\u003cb\\u003eMAPE\\u003c\\u002fb\\u003e (estimated MAPE)\",\"\\u003cb style=\\\"color:#3b0280;line-height:60px\\\"\\u003eAnalysis\\u003c\\u002fb\\u003e\",\"\",\"2020-01-30\",\"From \\u003cb\\u003eJan-30-2020\\u003c\\u002fb\\u003e to \\u003cb\\u003eJan-30-2020\\u003c\\u002fb\\u003e\",0.1408],[\"\\u003cb\\u003eMAPE\\u003c\\u002fb\\u003e (estimated MAPE)\",\"\\u003cb style=\\\"color:#3b0280;line-height:60px\\\"\\u003eAnalysis\\u003c\\u002fb\\u003e\",\"\",\"2020-01-31\",\"From \\u003cb\\u003eJan-31-2020\\u003c\\u002fb\\u003e to \\u003cb\\u003eJan-31-2020\\u003c\\u002fb\\u003e\",0.1297],[\"\\u003cb\\u003eMAPE\\u003c\\u002fb\\u003e (estimated MAPE)\",\"\\u003cb style=\\\"color:#3b0280;line-height:60px\\\"\\u003eAnalysis\\u003c\\u002fb\\u003e\",\"\",\"2020-02-01\",\"From \\u003cb\\u003eFeb-01-2020\\u003c\\u002fb\\u003e to \\u003cb\\u003eFeb-01-2020\\u003c\\u002fb\\u003e\",0.1015],[\"\\u003cb\\u003eMAPE\\u003c\\u002fb\\u003e (estimated MAPE)\",\"\\u003cb style=\\\"color:#3b0280;line-height:60px\\\"\\u003eAnalysis\\u003c\\u002fb\\u003e\",\"\",\"2020-02-02\",\"From \\u003cb\\u003eFeb-02-2020\\u003c\\u002fb\\u003e to \\u003cb\\u003eFeb-02-2020\\u003c\\u002fb\\u003e\",0.0893],[\"\\u003cb\\u003eMAPE\\u003c\\u002fb\\u003e (estimated MAPE)\",\"\\u003cb style=\\\"color:#3b0280;line-height:60px\\\"\\u003eAnalysis\\u003c\\u002fb\\u003e\",\"\",\"2020-02-03\",\"From \\u003cb\\u003eFeb-03-2020\\u003c\\u002fb\\u003e to \\u003cb\\u003eFeb-03-2020\\u003c\\u002fb\\u003e\",0.1039],[\"\\u003cb\\u003eMAPE\\u003c\\u002fb\\u003e (estimated MAPE)\",\"\\u003cb style=\\\"color:#3b0280;line-height:60px\\\"\\u003eAnalysis\\u003c\\u002fb\\u003e\",\"\",\"2020-02-04\",\"From \\u003cb\\u003eFeb-04-2020\\u003c\\u002fb\\u003e to \\u003cb\\u003eFeb-04-2020\\u003c\\u002fb\\u003e\",0.0977],[\"\\u003cb\\u003eMAPE\\u003c\\u002fb\\u003e (estimated MAPE)\",\"\\u003cb style=\\\"color:#3b0280;line-height:60px\\\"\\u003eAnalysis\\u003c\\u002fb\\u003e\",\"\",\"2020-02-05\",\"From \\u003cb\\u003eFeb-05-2020\\u003c\\u002fb\\u003e to \\u003cb\\u003eFeb-05-2020\\u003c\\u002fb\\u003e\",0.114],[\"\\u003cb\\u003eMAPE\\u003c\\u002fb\\u003e (estimated MAPE)\",\"\\u003cb style=\\\"color:#3b0280;line-height:60px\\\"\\u003eAnalysis\\u003c\\u002fb\\u003e\",\"\",\"2020-02-06\",\"From \\u003cb\\u003eFeb-06-2020\\u003c\\u002fb\\u003e to \\u003cb\\u003eFeb-06-2020\\u003c\\u002fb\\u003e\",0.1047],[\"\\u003cb\\u003eMAPE\\u003c\\u002fb\\u003e (estimated MAPE)\",\"\\u003cb style=\\\"color:#3b0280;line-height:60px\\\"\\u003eAnalysis\\u003c\\u002fb\\u003e\",\"\",\"2020-02-07\",\"From \\u003cb\\u003eFeb-07-2020\\u003c\\u002fb\\u003e to \\u003cb\\u003eFeb-07-2020\\u003c\\u002fb\\u003e\",0.1287],[\"\\u003cb\\u003eMAPE\\u003c\\u002fb\\u003e (estimated MAPE)\",\"\\u003cb style=\\\"color:#3b0280;line-height:60px\\\"\\u003eAnalysis\\u003c\\u002fb\\u003e\",\"\",\"2020-02-08\",\"From \\u003cb\\u003eFeb-08-2020\\u003c\\u002fb\\u003e to \\u003cb\\u003eFeb-08-2020\\u003c\\u002fb\\u003e\",0.1208],[\"\\u003cb\\u003eMAPE\\u003c\\u002fb\\u003e (estimated MAPE)\",\"\\u003cb style=\\\"color:#3b0280;line-height:60px\\\"\\u003eAnalysis\\u003c\\u002fb\\u003e\",\"\",\"2020-02-09\",\"From \\u003cb\\u003eFeb-09-2020\\u003c\\u002fb\\u003e to \\u003cb\\u003eFeb-09-2020\\u003c\\u002fb\\u003e\",0.1191],[\"\\u003cb\\u003eMAPE\\u003c\\u002fb\\u003e (estimated MAPE)\",\"\\u003cb style=\\\"color:#3b0280;line-height:60px\\\"\\u003eAnalysis\\u003c\\u002fb\\u003e\",\"\",\"2020-02-10\",\"From \\u003cb\\u003eFeb-10-2020\\u003c\\u002fb\\u003e to \\u003cb\\u003eFeb-10-2020\\u003c\\u002fb\\u003e\",0.1168],[\"\\u003cb\\u003eMAPE\\u003c\\u002fb\\u003e (estimated MAPE)\",\"\\u003cb style=\\\"color:#3b0280;line-height:60px\\\"\\u003eAnalysis\\u003c\\u002fb\\u003e\",\"\",\"2020-02-11\",\"From \\u003cb\\u003eFeb-11-2020\\u003c\\u002fb\\u003e to \\u003cb\\u003eFeb-11-2020\\u003c\\u002fb\\u003e\",0.1353],[\"\\u003cb\\u003eMAPE\\u003c\\u002fb\\u003e (estimated MAPE)\",\"\\u003cb style=\\\"color:#3b0280;line-height:60px\\\"\\u003eAnalysis\\u003c\\u002fb\\u003e\",\"\",\"2020-02-12\",\"From \\u003cb\\u003eFeb-12-2020\\u003c\\u002fb\\u003e to \\u003cb\\u003eFeb-12-2020\\u003c\\u002fb\\u003e\",0.1827],[\"\\u003cb\\u003eMAPE\\u003c\\u002fb\\u003e (estimated MAPE)\",\"\\u003cb style=\\\"color:#3b0280;line-height:60px\\\"\\u003eAnalysis\\u003c\\u002fb\\u003e\",\"\",\"2020-02-13\",\"From \\u003cb\\u003eFeb-13-2020\\u003c\\u002fb\\u003e to \\u003cb\\u003eFeb-13-2020\\u003c\\u002fb\\u003e\",0.1704],[\"\\u003cb\\u003eMAPE\\u003c\\u002fb\\u003e (estimated MAPE)\",\"\\u003cb style=\\\"color:#3b0280;line-height:60px\\\"\\u003eAnalysis\\u003c\\u002fb\\u003e\",\"\",\"2020-02-14\",\"From \\u003cb\\u003eFeb-14-2020\\u003c\\u002fb\\u003e to \\u003cb\\u003eFeb-14-2020\\u003c\\u002fb\\u003e\",0.1314],[\"\\u003cb\\u003eMAPE\\u003c\\u002fb\\u003e (estimated MAPE)\",\"\\u003cb style=\\\"color:#3b0280;line-height:60px\\\"\\u003eAnalysis\\u003c\\u002fb\\u003e\",\"\",\"2020-02-15\",\"From \\u003cb\\u003eFeb-15-2020\\u003c\\u002fb\\u003e to \\u003cb\\u003eFeb-15-2020\\u003c\\u002fb\\u003e\",0.1265],[\"\\u003cb\\u003eMAPE\\u003c\\u002fb\\u003e (estimated MAPE)\",\"\\u003cb style=\\\"color:#3b0280;line-height:60px\\\"\\u003eAnalysis\\u003c\\u002fb\\u003e\",\"\",\"2020-02-16\",\"From \\u003cb\\u003eFeb-16-2020\\u003c\\u002fb\\u003e to \\u003cb\\u003eFeb-16-2020\\u003c\\u002fb\\u003e\",0.1286],[\"\\u003cb\\u003eMAPE\\u003c\\u002fb\\u003e (estimated MAPE)\",\"\\u003cb style=\\\"color:#3b0280;line-height:60px\\\"\\u003eAnalysis\\u003c\\u002fb\\u003e\",\"\",\"2020-02-17\",\"From \\u003cb\\u003eFeb-17-2020\\u003c\\u002fb\\u003e to \\u003cb\\u003eFeb-17-2020\\u003c\\u002fb\\u003e\",0.1388],[\"\\u003cb\\u003eMAPE\\u003c\\u002fb\\u003e (estimated MAPE)\",\"\\u003cb style=\\\"color:#3b0280;line-height:60px\\\"\\u003eAnalysis\\u003c\\u002fb\\u003e\",\"\",\"2020-02-18\",\"From \\u003cb\\u003eFeb-18-2020\\u003c\\u002fb\\u003e to \\u003cb\\u003eFeb-18-2020\\u003c\\u002fb\\u003e\",0.1401],[\"\\u003cb\\u003eMAPE\\u003c\\u002fb\\u003e (estimated MAPE)\",\"\\u003cb style=\\\"color:#3b0280;line-height:60px\\\"\\u003eAnalysis\\u003c\\u002fb\\u003e\",\"\\u003cspan style=\\\"color:#AD0000\\\"\\u003e\\u26a0 \\u003cb\\u003eDrift detected\\u003c\\u002fb\\u003e\\u003c\\u002fspan\\u003e\",\"2020-02-19\",\"From \\u003cb\\u003eFeb-19-2020\\u003c\\u002fb\\u003e to \\u003cb\\u003eFeb-19-2020\\u003c\\u002fb\\u003e\",0.2771],[\"\\u003cb\\u003eMAPE\\u003c\\u002fb\\u003e (estimated MAPE)\",\"\\u003cb style=\\\"color:#3b0280;line-height:60px\\\"\\u003eAnalysis\\u003c\\u002fb\\u003e\",\"\\u003cspan style=\\\"color:#AD0000\\\"\\u003e\\u26a0 \\u003cb\\u003eDrift detected\\u003c\\u002fb\\u003e\\u003c\\u002fspan\\u003e\",\"2020-02-20\",\"From \\u003cb\\u003eFeb-20-2020\\u003c\\u002fb\\u003e to \\u003cb\\u003eFeb-20-2020\\u003c\\u002fb\\u003e\",0.2575],[\"\\u003cb\\u003eMAPE\\u003c\\u002fb\\u003e (estimated MAPE)\",\"\\u003cb style=\\\"color:#3b0280;line-height:60px\\\"\\u003eAnalysis\\u003c\\u002fb\\u003e\",\"\",\"2020-02-21\",\"From \\u003cb\\u003eFeb-21-2020\\u003c\\u002fb\\u003e to \\u003cb\\u003eFeb-21-2020\\u003c\\u002fb\\u003e\",0.229],[\"\\u003cb\\u003eMAPE\\u003c\\u002fb\\u003e (estimated MAPE)\",\"\\u003cb style=\\\"color:#3b0280;line-height:60px\\\"\\u003eAnalysis\\u003c\\u002fb\\u003e\",\"\\u003cspan style=\\\"color:#AD0000\\\"\\u003e\\u26a0 \\u003cb\\u003eDrift detected\\u003c\\u002fb\\u003e\\u003c\\u002fspan\\u003e\",\"2020-02-22\",\"From \\u003cb\\u003eFeb-22-2020\\u003c\\u002fb\\u003e to \\u003cb\\u003eFeb-22-2020\\u003c\\u002fb\\u003e\",0.2485],[\"\\u003cb\\u003eMAPE\\u003c\\u002fb\\u003e (estimated MAPE)\",\"\\u003cb style=\\\"color:#3b0280;line-height:60px\\\"\\u003eAnalysis\\u003c\\u002fb\\u003e\",\"\\u003cspan style=\\\"color:#AD0000\\\"\\u003e\\u26a0 \\u003cb\\u003eDrift detected\\u003c\\u002fb\\u003e\\u003c\\u002fspan\\u003e\",\"2020-02-23\",\"From \\u003cb\\u003eFeb-23-2020\\u003c\\u002fb\\u003e to \\u003cb\\u003eFeb-23-2020\\u003c\\u002fb\\u003e\",0.2643],[\"\\u003cb\\u003eMAPE\\u003c\\u002fb\\u003e (estimated MAPE)\",\"\\u003cb style=\\\"color:#3b0280;line-height:60px\\\"\\u003eAnalysis\\u003c\\u002fb\\u003e\",\"\\u003cspan style=\\\"color:#AD0000\\\"\\u003e\\u26a0 \\u003cb\\u003eDrift detected\\u003c\\u002fb\\u003e\\u003c\\u002fspan\\u003e\",\"2020-02-24\",\"From \\u003cb\\u003eFeb-24-2020\\u003c\\u002fb\\u003e to \\u003cb\\u003eFeb-24-2020\\u003c\\u002fb\\u003e\",0.232],[\"\\u003cb\\u003eMAPE\\u003c\\u002fb\\u003e (estimated MAPE)\",\"\\u003cb style=\\\"color:#3b0280;line-height:60px\\\"\\u003eAnalysis\\u003c\\u002fb\\u003e\",\"\\u003cspan style=\\\"color:#AD0000\\\"\\u003e\\u26a0 \\u003cb\\u003eDrift detected\\u003c\\u002fb\\u003e\\u003c\\u002fspan\\u003e\",\"2020-02-25\",\"From \\u003cb\\u003eFeb-25-2020\\u003c\\u002fb\\u003e to \\u003cb\\u003eFeb-25-2020\\u003c\\u002fb\\u003e\",0.2325],[\"\\u003cb\\u003eMAPE\\u003c\\u002fb\\u003e (estimated MAPE)\",\"\\u003cb style=\\\"color:#3b0280;line-height:60px\\\"\\u003eAnalysis\\u003c\\u002fb\\u003e\",\"\",\"2020-02-26\",\"From \\u003cb\\u003eFeb-26-2020\\u003c\\u002fb\\u003e to \\u003cb\\u003eFeb-26-2020\\u003c\\u002fb\\u003e\",0.2295],[\"\\u003cb\\u003eMAPE\\u003c\\u002fb\\u003e (estimated MAPE)\",\"\\u003cb style=\\\"color:#3b0280;line-height:60px\\\"\\u003eAnalysis\\u003c\\u002fb\\u003e\",\"\",\"2020-02-27\",\"From \\u003cb\\u003eFeb-27-2020\\u003c\\u002fb\\u003e to \\u003cb\\u003eFeb-27-2020\\u003c\\u002fb\\u003e\",0.2028],[\"\\u003cb\\u003eMAPE\\u003c\\u002fb\\u003e (estimated MAPE)\",\"\\u003cb style=\\\"color:#3b0280;line-height:60px\\\"\\u003eAnalysis\\u003c\\u002fb\\u003e\",\"\",\"2020-02-28\",\"From \\u003cb\\u003eFeb-28-2020\\u003c\\u002fb\\u003e to \\u003cb\\u003eFeb-28-2020\\u003c\\u002fb\\u003e\",0.1905],[\"\\u003cb\\u003eMAPE\\u003c\\u002fb\\u003e (estimated MAPE)\",\"\\u003cb style=\\\"color:#3b0280;line-height:60px\\\"\\u003eAnalysis\\u003c\\u002fb\\u003e\",\"\",\"2020-02-29\",\"From \\u003cb\\u003eFeb-29-2020\\u003c\\u002fb\\u003e to \\u003cb\\u003eFeb-29-2020\\u003c\\u002fb\\u003e\",0.1982],[\"\\u003cb\\u003eMAPE\\u003c\\u002fb\\u003e (estimated MAPE)\",\"\\u003cb style=\\\"color:#3b0280;line-height:60px\\\"\\u003eAnalysis\\u003c\\u002fb\\u003e\",\"\",\"2020-03-01\",\"From \\u003cb\\u003eMar-01-2020\\u003c\\u002fb\\u003e to \\u003cb\\u003eMar-01-2020\\u003c\\u002fb\\u003e\",0.1944],[\"\\u003cb\\u003eMAPE\\u003c\\u002fb\\u003e (estimated MAPE)\",\"\\u003cb style=\\\"color:#3b0280;line-height:60px\\\"\\u003eAnalysis\\u003c\\u002fb\\u003e\",\"\",\"2020-03-02\",\"From \\u003cb\\u003eMar-02-2020\\u003c\\u002fb\\u003e to \\u003cb\\u003eMar-02-2020\\u003c\\u002fb\\u003e\",0.2123],[\"\\u003cb\\u003eMAPE\\u003c\\u002fb\\u003e (estimated MAPE)\",\"\\u003cb style=\\\"color:#3b0280;line-height:60px\\\"\\u003eAnalysis\\u003c\\u002fb\\u003e\",\"\",\"2020-03-03\",\"From \\u003cb\\u003eMar-03-2020\\u003c\\u002fb\\u003e to \\u003cb\\u003eMar-03-2020\\u003c\\u002fb\\u003e\",0.1975],[\"\\u003cb\\u003eMAPE\\u003c\\u002fb\\u003e (estimated MAPE)\",\"\\u003cb style=\\\"color:#3b0280;line-height:60px\\\"\\u003eAnalysis\\u003c\\u002fb\\u003e\",\"\",\"2020-03-04\",\"From \\u003cb\\u003eMar-04-2020\\u003c\\u002fb\\u003e to \\u003cb\\u003eMar-04-2020\\u003c\\u002fb\\u003e\",0.2169],[\"\\u003cb\\u003eMAPE\\u003c\\u002fb\\u003e (estimated MAPE)\",\"\\u003cb style=\\\"color:#3b0280;line-height:60px\\\"\\u003eAnalysis\\u003c\\u002fb\\u003e\",\"\",\"2020-03-05\",\"From \\u003cb\\u003eMar-05-2020\\u003c\\u002fb\\u003e to \\u003cb\\u003eMar-05-2020\\u003c\\u002fb\\u003e\",0.221],[\"\\u003cb\\u003eMAPE\\u003c\\u002fb\\u003e (estimated MAPE)\",\"\\u003cb style=\\\"color:#3b0280;line-height:60px\\\"\\u003eAnalysis\\u003c\\u002fb\\u003e\",\"\",\"2020-03-06\",\"From \\u003cb\\u003eMar-06-2020\\u003c\\u002fb\\u003e to \\u003cb\\u003eMar-06-2020\\u003c\\u002fb\\u003e\",0.1277],[\"\\u003cb\\u003eMAPE\\u003c\\u002fb\\u003e (estimated MAPE)\",\"\\u003cb style=\\\"color:#3b0280;line-height:60px\\\"\\u003eAnalysis\\u003c\\u002fb\\u003e\",\"\",\"2020-03-07\",\"From \\u003cb\\u003eMar-07-2020\\u003c\\u002fb\\u003e to \\u003cb\\u003eMar-07-2020\\u003c\\u002fb\\u003e\",0.1158],[\"\\u003cb\\u003eMAPE\\u003c\\u002fb\\u003e (estimated MAPE)\",\"\\u003cb style=\\\"color:#3b0280;line-height:60px\\\"\\u003eAnalysis\\u003c\\u002fb\\u003e\",\"\",\"2020-03-08\",\"From \\u003cb\\u003eMar-08-2020\\u003c\\u002fb\\u003e to \\u003cb\\u003eMar-08-2020\\u003c\\u002fb\\u003e\",0.1137],[\"\\u003cb\\u003eMAPE\\u003c\\u002fb\\u003e (estimated MAPE)\",\"\\u003cb style=\\\"color:#3b0280;line-height:60px\\\"\\u003eAnalysis\\u003c\\u002fb\\u003e\",\"\",\"2020-03-09\",\"From \\u003cb\\u003eMar-09-2020\\u003c\\u002fb\\u003e to \\u003cb\\u003eMar-09-2020\\u003c\\u002fb\\u003e\",0.103],[\"\\u003cb\\u003eMAPE\\u003c\\u002fb\\u003e (estimated MAPE)\",\"\\u003cb style=\\\"color:#3b0280;line-height:60px\\\"\\u003eAnalysis\\u003c\\u002fb\\u003e\",\"\",\"2020-03-10\",\"From \\u003cb\\u003eMar-10-2020\\u003c\\u002fb\\u003e to \\u003cb\\u003eMar-10-2020\\u003c\\u002fb\\u003e\",0.1686],[\"\\u003cb\\u003eMAPE\\u003c\\u002fb\\u003e (estimated MAPE)\",\"\\u003cb style=\\\"color:#3b0280;line-height:60px\\\"\\u003eAnalysis\\u003c\\u002fb\\u003e\",\"\",\"2020-03-11\",\"From \\u003cb\\u003eMar-11-2020\\u003c\\u002fb\\u003e to \\u003cb\\u003eMar-11-2020\\u003c\\u002fb\\u003e\",0.172],[\"\\u003cb\\u003eMAPE\\u003c\\u002fb\\u003e (estimated MAPE)\",\"\\u003cb style=\\\"color:#3b0280;line-height:60px\\\"\\u003eAnalysis\\u003c\\u002fb\\u003e\",\"\",\"2020-03-12\",\"From \\u003cb\\u003eMar-12-2020\\u003c\\u002fb\\u003e to \\u003cb\\u003eMar-12-2020\\u003c\\u002fb\\u003e\",0.1006],[\"\\u003cb\\u003eMAPE\\u003c\\u002fb\\u003e (estimated MAPE)\",\"\\u003cb style=\\\"color:#3b0280;line-height:60px\\\"\\u003eAnalysis\\u003c\\u002fb\\u003e\",\"\",\"2020-03-13\",\"From \\u003cb\\u003eMar-13-2020\\u003c\\u002fb\\u003e to \\u003cb\\u003eMar-13-2020\\u003c\\u002fb\\u003e\",0.1382],[\"\\u003cb\\u003eMAPE\\u003c\\u002fb\\u003e (estimated MAPE)\",\"\\u003cb style=\\\"color:#3b0280;line-height:60px\\\"\\u003eAnalysis\\u003c\\u002fb\\u003e\",\"\",\"2020-03-14\",\"From \\u003cb\\u003eMar-14-2020\\u003c\\u002fb\\u003e to \\u003cb\\u003eMar-14-2020\\u003c\\u002fb\\u003e\",0.0913],[\"\\u003cb\\u003eMAPE\\u003c\\u002fb\\u003e (estimated MAPE)\",\"\\u003cb style=\\\"color:#3b0280;line-height:60px\\\"\\u003eAnalysis\\u003c\\u002fb\\u003e\",\"\",\"2020-03-15\",\"From \\u003cb\\u003eMar-15-2020\\u003c\\u002fb\\u003e to \\u003cb\\u003eMar-15-2020\\u003c\\u002fb\\u003e\",0.1051],[\"\\u003cb\\u003eMAPE\\u003c\\u002fb\\u003e (estimated MAPE)\",\"\\u003cb style=\\\"color:#3b0280;line-height:60px\\\"\\u003eAnalysis\\u003c\\u002fb\\u003e\",\"\",\"2020-03-16\",\"From \\u003cb\\u003eMar-16-2020\\u003c\\u002fb\\u003e to \\u003cb\\u003eMar-16-2020\\u003c\\u002fb\\u003e\",0.1383],[\"\\u003cb\\u003eMAPE\\u003c\\u002fb\\u003e (estimated MAPE)\",\"\\u003cb style=\\\"color:#3b0280;line-height:60px\\\"\\u003eAnalysis\\u003c\\u002fb\\u003e\",\"\",\"2020-03-17\",\"From \\u003cb\\u003eMar-17-2020\\u003c\\u002fb\\u003e to \\u003cb\\u003eMar-17-2020\\u003c\\u002fb\\u003e\",0.1294],[\"\\u003cb\\u003eMAPE\\u003c\\u002fb\\u003e (estimated MAPE)\",\"\\u003cb style=\\\"color:#3b0280;line-height:60px\\\"\\u003eAnalysis\\u003c\\u002fb\\u003e\",\"\",\"2020-03-18\",\"From \\u003cb\\u003eMar-18-2020\\u003c\\u002fb\\u003e to \\u003cb\\u003eMar-18-2020\\u003c\\u002fb\\u003e\",0.139],[\"\\u003cb\\u003eMAPE\\u003c\\u002fb\\u003e (estimated MAPE)\",\"\\u003cb style=\\\"color:#3b0280;line-height:60px\\\"\\u003eAnalysis\\u003c\\u002fb\\u003e\",\"\",\"2020-03-19\",\"From \\u003cb\\u003eMar-19-2020\\u003c\\u002fb\\u003e to \\u003cb\\u003eMar-19-2020\\u003c\\u002fb\\u003e\",0.1183],[\"\\u003cb\\u003eMAPE\\u003c\\u002fb\\u003e (estimated MAPE)\",\"\\u003cb style=\\\"color:#3b0280;line-height:60px\\\"\\u003eAnalysis\\u003c\\u002fb\\u003e\",\"\",\"2020-03-20\",\"From \\u003cb\\u003eMar-20-2020\\u003c\\u002fb\\u003e to \\u003cb\\u003eMar-20-2020\\u003c\\u002fb\\u003e\",0.1534],[\"\\u003cb\\u003eMAPE\\u003c\\u002fb\\u003e (estimated MAPE)\",\"\\u003cb style=\\\"color:#3b0280;line-height:60px\\\"\\u003eAnalysis\\u003c\\u002fb\\u003e\",\"\",\"2020-03-21\",\"From \\u003cb\\u003eMar-21-2020\\u003c\\u002fb\\u003e to \\u003cb\\u003eMar-21-2020\\u003c\\u002fb\\u003e\",0.1033],[\"\\u003cb\\u003eMAPE\\u003c\\u002fb\\u003e (estimated MAPE)\",\"\\u003cb style=\\\"color:#3b0280;line-height:60px\\\"\\u003eAnalysis\\u003c\\u002fb\\u003e\",\"\",\"2020-03-22\",\"From \\u003cb\\u003eMar-22-2020\\u003c\\u002fb\\u003e to \\u003cb\\u003eMar-22-2020\\u003c\\u002fb\\u003e\",0.1181],[\"\\u003cb\\u003eMAPE\\u003c\\u002fb\\u003e (estimated MAPE)\",\"\\u003cb style=\\\"color:#3b0280;line-height:60px\\\"\\u003eAnalysis\\u003c\\u002fb\\u003e\",\"\",\"2020-03-23\",\"From \\u003cb\\u003eMar-23-2020\\u003c\\u002fb\\u003e to \\u003cb\\u003eMar-23-2020\\u003c\\u002fb\\u003e\",0.1103],[\"\\u003cb\\u003eMAPE\\u003c\\u002fb\\u003e (estimated MAPE)\",\"\\u003cb style=\\\"color:#3b0280;line-height:60px\\\"\\u003eAnalysis\\u003c\\u002fb\\u003e\",\"\",\"2020-03-24\",\"From \\u003cb\\u003eMar-24-2020\\u003c\\u002fb\\u003e to \\u003cb\\u003eMar-24-2020\\u003c\\u002fb\\u003e\",0.154],[\"\\u003cb\\u003eMAPE\\u003c\\u002fb\\u003e (estimated MAPE)\",\"\\u003cb style=\\\"color:#3b0280;line-height:60px\\\"\\u003eAnalysis\\u003c\\u002fb\\u003e\",\"\",\"2020-03-25\",\"From \\u003cb\\u003eMar-25-2020\\u003c\\u002fb\\u003e to \\u003cb\\u003eMar-25-2020\\u003c\\u002fb\\u003e\",0.1136],[\"\\u003cb\\u003eMAPE\\u003c\\u002fb\\u003e (estimated MAPE)\",\"\\u003cb style=\\\"color:#3b0280;line-height:60px\\\"\\u003eAnalysis\\u003c\\u002fb\\u003e\",\"\",\"2020-03-26\",\"From \\u003cb\\u003eMar-26-2020\\u003c\\u002fb\\u003e to \\u003cb\\u003eMar-26-2020\\u003c\\u002fb\\u003e\",0.1029],[\"\\u003cb\\u003eMAPE\\u003c\\u002fb\\u003e (estimated MAPE)\",\"\\u003cb style=\\\"color:#3b0280;line-height:60px\\\"\\u003eAnalysis\\u003c\\u002fb\\u003e\",\"\",\"2020-03-27\",\"From \\u003cb\\u003eMar-27-2020\\u003c\\u002fb\\u003e to \\u003cb\\u003eMar-27-2020\\u003c\\u002fb\\u003e\",0.1143],[\"\\u003cb\\u003eMAPE\\u003c\\u002fb\\u003e (estimated MAPE)\",\"\\u003cb style=\\\"color:#3b0280;line-height:60px\\\"\\u003eAnalysis\\u003c\\u002fb\\u003e\",\"\",\"2020-03-28\",\"From \\u003cb\\u003eMar-28-2020\\u003c\\u002fb\\u003e to \\u003cb\\u003eMar-28-2020\\u003c\\u002fb\\u003e\",0.1325],[\"\\u003cb\\u003eMAPE\\u003c\\u002fb\\u003e (estimated MAPE)\",\"\\u003cb style=\\\"color:#3b0280;line-height:60px\\\"\\u003eAnalysis\\u003c\\u002fb\\u003e\",\"\",\"2020-03-29\",\"From \\u003cb\\u003eMar-29-2020\\u003c\\u002fb\\u003e to \\u003cb\\u003eMar-29-2020\\u003c\\u002fb\\u003e\",0.115],[\"\\u003cb\\u003eMAPE\\u003c\\u002fb\\u003e (estimated MAPE)\",\"\\u003cb style=\\\"color:#3b0280;line-height:60px\\\"\\u003eAnalysis\\u003c\\u002fb\\u003e\",\"\",\"2020-03-30\",\"From \\u003cb\\u003eMar-30-2020\\u003c\\u002fb\\u003e to \\u003cb\\u003eMar-30-2020\\u003c\\u002fb\\u003e\",0.1366],[\"\\u003cb\\u003eMAPE\\u003c\\u002fb\\u003e (estimated MAPE)\",\"\\u003cb style=\\\"color:#3b0280;line-height:60px\\\"\\u003eAnalysis\\u003c\\u002fb\\u003e\",\"\",\"2020-03-31\",\"From \\u003cb\\u003eMar-31-2020\\u003c\\u002fb\\u003e to \\u003cb\\u003eMar-31-2020\\u003c\\u002fb\\u003e\",0.1812],[\"\\u003cb\\u003eMAPE\\u003c\\u002fb\\u003e (estimated MAPE)\",\"\\u003cb style=\\\"color:#3b0280;line-height:60px\\\"\\u003eAnalysis\\u003c\\u002fb\\u003e\",\"\",\"2020-04-01\",\"From \\u003cb\\u003eApr-01-2020\\u003c\\u002fb\\u003e to \\u003cb\\u003eApr-01-2020\\u003c\\u002fb\\u003e\",0.2261],[\"\\u003cb\\u003eMAPE\\u003c\\u002fb\\u003e (estimated MAPE)\",\"\\u003cb style=\\\"color:#3b0280;line-height:60px\\\"\\u003eAnalysis\\u003c\\u002fb\\u003e\",\"\\u003cspan style=\\\"color:#AD0000\\\"\\u003e\\u26a0 \\u003cb\\u003eDrift detected\\u003c\\u002fb\\u003e\\u003c\\u002fspan\\u003e\",\"2020-04-02\",\"From \\u003cb\\u003eApr-02-2020\\u003c\\u002fb\\u003e to \\u003cb\\u003eApr-02-2020\\u003c\\u002fb\\u003e\",0.2445],[\"\\u003cb\\u003eMAPE\\u003c\\u002fb\\u003e (estimated MAPE)\",\"\\u003cb style=\\\"color:#3b0280;line-height:60px\\\"\\u003eAnalysis\\u003c\\u002fb\\u003e\",\"\\u003cspan style=\\\"color:#AD0000\\\"\\u003e\\u26a0 \\u003cb\\u003eDrift detected\\u003c\\u002fb\\u003e\\u003c\\u002fspan\\u003e\",\"2020-04-03\",\"From \\u003cb\\u003eApr-03-2020\\u003c\\u002fb\\u003e to \\u003cb\\u003eApr-03-2020\\u003c\\u002fb\\u003e\",0.2757],[\"\\u003cb\\u003eMAPE\\u003c\\u002fb\\u003e (estimated MAPE)\",\"\\u003cb style=\\\"color:#3b0280;line-height:60px\\\"\\u003eAnalysis\\u003c\\u002fb\\u003e\",\"\\u003cspan style=\\\"color:#AD0000\\\"\\u003e\\u26a0 \\u003cb\\u003eDrift detected\\u003c\\u002fb\\u003e\\u003c\\u002fspan\\u003e\",\"2020-04-04\",\"From \\u003cb\\u003eApr-04-2020\\u003c\\u002fb\\u003e to \\u003cb\\u003eApr-04-2020\\u003c\\u002fb\\u003e\",0.2425],[\"\\u003cb\\u003eMAPE\\u003c\\u002fb\\u003e (estimated MAPE)\",\"\\u003cb style=\\\"color:#3b0280;line-height:60px\\\"\\u003eAnalysis\\u003c\\u002fb\\u003e\",\"\",\"2020-04-05\",\"From \\u003cb\\u003eApr-05-2020\\u003c\\u002fb\\u003e to \\u003cb\\u003eApr-05-2020\\u003c\\u002fb\\u003e\",0.1911],[\"\\u003cb\\u003eMAPE\\u003c\\u002fb\\u003e (estimated MAPE)\",\"\\u003cb style=\\\"color:#3b0280;line-height:60px\\\"\\u003eAnalysis\\u003c\\u002fb\\u003e\",\"\",\"2020-04-06\",\"From \\u003cb\\u003eApr-06-2020\\u003c\\u002fb\\u003e to \\u003cb\\u003eApr-06-2020\\u003c\\u002fb\\u003e\",0.1583],[\"\\u003cb\\u003eMAPE\\u003c\\u002fb\\u003e (estimated MAPE)\",\"\\u003cb style=\\\"color:#3b0280;line-height:60px\\\"\\u003eAnalysis\\u003c\\u002fb\\u003e\",\"\",\"2020-04-07\",\"From \\u003cb\\u003eApr-07-2020\\u003c\\u002fb\\u003e to \\u003cb\\u003eApr-07-2020\\u003c\\u002fb\\u003e\",0.1445],[\"\\u003cb\\u003eMAPE\\u003c\\u002fb\\u003e (estimated MAPE)\",\"\\u003cb style=\\\"color:#3b0280;line-height:60px\\\"\\u003eAnalysis\\u003c\\u002fb\\u003e\",\"\",\"2020-04-08\",\"From \\u003cb\\u003eApr-08-2020\\u003c\\u002fb\\u003e to \\u003cb\\u003eApr-08-2020\\u003c\\u002fb\\u003e\",0.1378],[\"\\u003cb\\u003eMAPE\\u003c\\u002fb\\u003e (estimated MAPE)\",\"\\u003cb style=\\\"color:#3b0280;line-height:60px\\\"\\u003eAnalysis\\u003c\\u002fb\\u003e\",\"\",\"2020-04-09\",\"From \\u003cb\\u003eApr-09-2020\\u003c\\u002fb\\u003e to \\u003cb\\u003eApr-09-2020\\u003c\\u002fb\\u003e\",0.145],[\"\\u003cb\\u003eMAPE\\u003c\\u002fb\\u003e (estimated MAPE)\",\"\\u003cb style=\\\"color:#3b0280;line-height:60px\\\"\\u003eAnalysis\\u003c\\u002fb\\u003e\",\"\",\"2020-04-10\",\"From \\u003cb\\u003eApr-10-2020\\u003c\\u002fb\\u003e to \\u003cb\\u003eApr-10-2020\\u003c\\u002fb\\u003e\",0.1345],[\"\\u003cb\\u003eMAPE\\u003c\\u002fb\\u003e (estimated MAPE)\",\"\\u003cb style=\\\"color:#3b0280;line-height:60px\\\"\\u003eAnalysis\\u003c\\u002fb\\u003e\",\"\",\"2020-04-11\",\"From \\u003cb\\u003eApr-11-2020\\u003c\\u002fb\\u003e to \\u003cb\\u003eApr-11-2020\\u003c\\u002fb\\u003e\",0.1632],[\"\\u003cb\\u003eMAPE\\u003c\\u002fb\\u003e (estimated MAPE)\",\"\\u003cb style=\\\"color:#3b0280;line-height:60px\\\"\\u003eAnalysis\\u003c\\u002fb\\u003e\",\"\",\"2020-04-12\",\"From \\u003cb\\u003eApr-12-2020\\u003c\\u002fb\\u003e to \\u003cb\\u003eApr-12-2020\\u003c\\u002fb\\u003e\",0.1634],[\"\\u003cb\\u003eMAPE\\u003c\\u002fb\\u003e (estimated MAPE)\",\"\\u003cb style=\\\"color:#3b0280;line-height:60px\\\"\\u003eAnalysis\\u003c\\u002fb\\u003e\",\"\",\"2020-04-13\",\"From \\u003cb\\u003eApr-13-2020\\u003c\\u002fb\\u003e to \\u003cb\\u003eApr-13-2020\\u003c\\u002fb\\u003e\",0.1476],[\"\\u003cb\\u003eMAPE\\u003c\\u002fb\\u003e (estimated MAPE)\",\"\\u003cb style=\\\"color:#3b0280;line-height:60px\\\"\\u003eAnalysis\\u003c\\u002fb\\u003e\",\"\",\"2020-04-14\",\"From \\u003cb\\u003eApr-14-2020\\u003c\\u002fb\\u003e to \\u003cb\\u003eApr-14-2020\\u003c\\u002fb\\u003e\",0.1349],[\"\\u003cb\\u003eMAPE\\u003c\\u002fb\\u003e (estimated MAPE)\",\"\\u003cb style=\\\"color:#3b0280;line-height:60px\\\"\\u003eAnalysis\\u003c\\u002fb\\u003e\",\"\",\"2020-04-15\",\"From \\u003cb\\u003eApr-15-2020\\u003c\\u002fb\\u003e to \\u003cb\\u003eApr-15-2020\\u003c\\u002fb\\u003e\",0.141],[\"\\u003cb\\u003eMAPE\\u003c\\u002fb\\u003e (estimated MAPE)\",\"\\u003cb style=\\\"color:#3b0280;line-height:60px\\\"\\u003eAnalysis\\u003c\\u002fb\\u003e\",\"\",\"2020-04-16\",\"From \\u003cb\\u003eApr-16-2020\\u003c\\u002fb\\u003e to \\u003cb\\u003eApr-16-2020\\u003c\\u002fb\\u003e\",0.1808],[\"\\u003cb\\u003eMAPE\\u003c\\u002fb\\u003e (estimated MAPE)\",\"\\u003cb style=\\\"color:#3b0280;line-height:60px\\\"\\u003eAnalysis\\u003c\\u002fb\\u003e\",\"\",\"2020-04-17\",\"From \\u003cb\\u003eApr-17-2020\\u003c\\u002fb\\u003e to \\u003cb\\u003eApr-17-2020\\u003c\\u002fb\\u003e\",0.1816],[\"\\u003cb\\u003eMAPE\\u003c\\u002fb\\u003e (estimated MAPE)\",\"\\u003cb style=\\\"color:#3b0280;line-height:60px\\\"\\u003eAnalysis\\u003c\\u002fb\\u003e\",\"\",\"2020-04-18\",\"From \\u003cb\\u003eApr-18-2020\\u003c\\u002fb\\u003e to \\u003cb\\u003eApr-18-2020\\u003c\\u002fb\\u003e\",0.1348],[\"\\u003cb\\u003eMAPE\\u003c\\u002fb\\u003e (estimated MAPE)\",\"\\u003cb style=\\\"color:#3b0280;line-height:60px\\\"\\u003eAnalysis\\u003c\\u002fb\\u003e\",\"\",\"2020-04-19\",\"From \\u003cb\\u003eApr-19-2020\\u003c\\u002fb\\u003e to \\u003cb\\u003eApr-19-2020\\u003c\\u002fb\\u003e\",0.135],[\"\\u003cb\\u003eMAPE\\u003c\\u002fb\\u003e (estimated MAPE)\",\"\\u003cb style=\\\"color:#3b0280;line-height:60px\\\"\\u003eAnalysis\\u003c\\u002fb\\u003e\",\"\",\"2020-04-20\",\"From \\u003cb\\u003eApr-20-2020\\u003c\\u002fb\\u003e to \\u003cb\\u003eApr-20-2020\\u003c\\u002fb\\u003e\",0.1172],[\"\\u003cb\\u003eMAPE\\u003c\\u002fb\\u003e (estimated MAPE)\",\"\\u003cb style=\\\"color:#3b0280;line-height:60px\\\"\\u003eAnalysis\\u003c\\u002fb\\u003e\",\"\",\"2020-04-21\",\"From \\u003cb\\u003eApr-21-2020\\u003c\\u002fb\\u003e to \\u003cb\\u003eApr-21-2020\\u003c\\u002fb\\u003e\",0.1217],[\"\\u003cb\\u003eMAPE\\u003c\\u002fb\\u003e (estimated MAPE)\",\"\\u003cb style=\\\"color:#3b0280;line-height:60px\\\"\\u003eAnalysis\\u003c\\u002fb\\u003e\",\"\",\"2020-04-22\",\"From \\u003cb\\u003eApr-22-2020\\u003c\\u002fb\\u003e to \\u003cb\\u003eApr-22-2020\\u003c\\u002fb\\u003e\",0.1182],[\"\\u003cb\\u003eMAPE\\u003c\\u002fb\\u003e (estimated MAPE)\",\"\\u003cb style=\\\"color:#3b0280;line-height:60px\\\"\\u003eAnalysis\\u003c\\u002fb\\u003e\",\"\",\"2020-04-23\",\"From \\u003cb\\u003eApr-23-2020\\u003c\\u002fb\\u003e to \\u003cb\\u003eApr-23-2020\\u003c\\u002fb\\u003e\",0.1104],[\"\\u003cb\\u003eMAPE\\u003c\\u002fb\\u003e (estimated MAPE)\",\"\\u003cb style=\\\"color:#3b0280;line-height:60px\\\"\\u003eAnalysis\\u003c\\u002fb\\u003e\",\"\",\"2020-04-24\",\"From \\u003cb\\u003eApr-24-2020\\u003c\\u002fb\\u003e to \\u003cb\\u003eApr-24-2020\\u003c\\u002fb\\u003e\",0.1349],[\"\\u003cb\\u003eMAPE\\u003c\\u002fb\\u003e (estimated MAPE)\",\"\\u003cb style=\\\"color:#3b0280;line-height:60px\\\"\\u003eAnalysis\\u003c\\u002fb\\u003e\",\"\",\"2020-04-25\",\"From \\u003cb\\u003eApr-25-2020\\u003c\\u002fb\\u003e to \\u003cb\\u003eApr-25-2020\\u003c\\u002fb\\u003e\",0.1254],[\"\\u003cb\\u003eMAPE\\u003c\\u002fb\\u003e (estimated MAPE)\",\"\\u003cb style=\\\"color:#3b0280;line-height:60px\\\"\\u003eAnalysis\\u003c\\u002fb\\u003e\",\"\",\"2020-04-26\",\"From \\u003cb\\u003eApr-26-2020\\u003c\\u002fb\\u003e to \\u003cb\\u003eApr-26-2020\\u003c\\u002fb\\u003e\",0.1425],[\"\\u003cb\\u003eMAPE\\u003c\\u002fb\\u003e (estimated MAPE)\",\"\\u003cb style=\\\"color:#3b0280;line-height:60px\\\"\\u003eAnalysis\\u003c\\u002fb\\u003e\",\"\",\"2020-04-27\",\"From \\u003cb\\u003eApr-27-2020\\u003c\\u002fb\\u003e to \\u003cb\\u003eApr-27-2020\\u003c\\u002fb\\u003e\",0.098]],\"hovertemplate\":\"%{customdata[1]} &nbsp; &nbsp; %{customdata[2]} \\u003cbr \\u002f\\u003eChunk: \\u003cb\\u003e%{customdata[3]}\\u003c\\u002fb\\u003e &nbsp; &nbsp; %{customdata[4]} \\u003cbr \\u002f\\u003e%{customdata[0]}: \\u003cb\\u003e%{customdata[5]}\\u003c\\u002fb\\u003e\\u003cbr \\u002f\\u003e\\u003cextra\\u003e\\u003c\\u002fextra\\u003e\",\"line\":{\"dash\":\"dash\"},\"marker\":{\"color\":\"#3b0280\",\"size\":5,\"symbol\":\"circle\"},\"mode\":\"markers\",\"name\":\"\\u003cb\\u003eMAPE\\u003c\\u002fb\\u003e (estimated MAPE)\",\"showlegend\":false,\"x\":[\"2019-12-24T12:00:00\",\"2019-12-25T12:00:00\",\"2019-12-26T12:00:00\",\"2019-12-27T12:00:00\",\"2019-12-28T12:00:00\",\"2019-12-29T12:00:00\",\"2019-12-30T12:00:00\",\"2019-12-31T12:00:00\",\"2020-01-01T12:00:00\",\"2020-01-02T12:00:00\",\"2020-01-03T12:00:00\",\"2020-01-04T12:00:00\",\"2020-01-05T12:00:00\",\"2020-01-06T12:00:00\",\"2020-01-07T12:00:00\",\"2020-01-08T12:00:00\",\"2020-01-09T12:00:00\",\"2020-01-10T12:00:00\",\"2020-01-11T12:00:00\",\"2020-01-12T12:00:00\",\"2020-01-13T12:00:00\",\"2020-01-14T12:00:00\",\"2020-01-15T12:00:00\",\"2020-01-16T12:00:00\",\"2020-01-17T12:00:00\",\"2020-01-18T12:00:00\",\"2020-01-19T12:00:00\",\"2020-01-20T12:00:00\",\"2020-01-21T12:00:00\",\"2020-01-22T12:00:00\",\"2020-01-23T12:00:00\",\"2020-01-24T12:00:00\",\"2020-01-25T12:00:00\",\"2020-01-26T12:00:00\",\"2020-01-27T12:00:00\",\"2020-01-28T12:00:00\",\"2020-01-29T12:00:00\",\"2020-01-30T12:00:00\",\"2020-01-31T12:00:00\",\"2020-02-01T12:00:00\",\"2020-02-02T12:00:00\",\"2020-02-03T12:00:00\",\"2020-02-04T12:00:00\",\"2020-02-05T12:00:00\",\"2020-02-06T12:00:00\",\"2020-02-07T12:00:00\",\"2020-02-08T12:00:00\",\"2020-02-09T12:00:00\",\"2020-02-10T12:00:00\",\"2020-02-11T12:00:00\",\"2020-02-12T12:00:00\",\"2020-02-13T12:00:00\",\"2020-02-14T12:00:00\",\"2020-02-15T12:00:00\",\"2020-02-16T12:00:00\",\"2020-02-17T12:00:00\",\"2020-02-18T12:00:00\",\"2020-02-19T12:00:00\",\"2020-02-20T12:00:00\",\"2020-02-21T12:00:00\",\"2020-02-22T12:00:00\",\"2020-02-23T12:00:00\",\"2020-02-24T12:00:00\",\"2020-02-25T12:00:00\",\"2020-02-26T12:00:00\",\"2020-02-27T12:00:00\",\"2020-02-28T12:00:00\",\"2020-02-29T12:00:00\",\"2020-03-01T12:00:00\",\"2020-03-02T12:00:00\",\"2020-03-03T12:00:00\",\"2020-03-04T12:00:00\",\"2020-03-05T12:00:00\",\"2020-03-06T12:00:00\",\"2020-03-07T12:00:00\",\"2020-03-08T12:00:00\",\"2020-03-09T12:00:00\",\"2020-03-10T12:00:00\",\"2020-03-11T12:00:00\",\"2020-03-12T12:00:00\",\"2020-03-13T12:00:00\",\"2020-03-14T12:00:00\",\"2020-03-15T12:00:00\",\"2020-03-16T12:00:00\",\"2020-03-17T12:00:00\",\"2020-03-18T12:00:00\",\"2020-03-19T12:00:00\",\"2020-03-20T12:00:00\",\"2020-03-21T12:00:00\",\"2020-03-22T12:00:00\",\"2020-03-23T12:00:00\",\"2020-03-24T12:00:00\",\"2020-03-25T12:00:00\",\"2020-03-26T12:00:00\",\"2020-03-27T12:00:00\",\"2020-03-28T12:00:00\",\"2020-03-29T12:00:00\",\"2020-03-30T12:00:00\",\"2020-03-31T12:00:00\",\"2020-04-01T12:00:00\",\"2020-04-02T12:00:00\",\"2020-04-03T12:00:00\",\"2020-04-04T12:00:00\",\"2020-04-05T12:00:00\",\"2020-04-06T12:00:00\",\"2020-04-07T12:00:00\",\"2020-04-08T12:00:00\",\"2020-04-09T12:00:00\",\"2020-04-10T12:00:00\",\"2020-04-11T12:00:00\",\"2020-04-12T12:00:00\",\"2020-04-13T12:00:00\",\"2020-04-14T12:00:00\",\"2020-04-15T12:00:00\",\"2020-04-16T12:00:00\",\"2020-04-17T12:00:00\",\"2020-04-18T12:00:00\",\"2020-04-19T12:00:00\",\"2020-04-20T12:00:00\",\"2020-04-21T12:00:00\",\"2020-04-22T12:00:00\",\"2020-04-23T12:00:00\",\"2020-04-24T12:00:00\",\"2020-04-25T12:00:00\",\"2020-04-26T12:00:00\",\"2020-04-27T11:59:59.999999999\"],\"xaxis\":\"x\",\"y\":[0.14955399974142047,0.13586662996783147,0.1316987154702048,0.1365788067108258,0.12930705918463306,0.1194723781453696,0.12875059286751186,0.13864358396156548,0.1420631605008087,0.14021367520860537,0.13501468843184916,0.11291313457392822,0.1227356822414059,0.11024911926002928,0.14800426518587542,0.11064222576661333,0.10032138133249362,0.14176811465704928,0.12293475886931926,0.10819702478183106,0.11496444203327334,0.10109084200059336,0.14837766508343275,0.12696683711023507,0.11300854139879302,0.11895443943141316,0.10472792180633521,0.1403705109637385,0.10912711325615425,0.11278708306484937,0.09998076819286124,0.09992371639716036,0.09873734373066685,0.12015595459082044,0.09509090466776199,0.11676912696967286,0.1243240276725116,0.14077951476669623,0.1296768128904728,0.10151250729707922,0.08925397647692919,0.10387538070214193,0.09769397409777451,0.11397467642114173,0.10474839848501098,0.12868993229397555,0.12077304254810539,0.11914965661904155,0.11683368515657132,0.13530766317616705,0.18272237219213752,0.17040276963031276,0.13141680160384314,0.12650864938978873,0.12863303486652367,0.13877359647423926,0.1401450444887057,0.2770632162584378,0.2574752590526653,0.22904747813291224,0.24851694085330892,0.26425938393172316,0.2320249766674888,0.23249200674215853,0.22946334235320298,0.20279852163372414,0.19051761338444193,0.19819303564839205,0.19436366743918512,0.21230735902303735,0.1974577457865081,0.21693420357165985,0.22103995621136927,0.127700292041294,0.11577487829174331,0.11365751780039035,0.10304076394583267,0.1685812409850481,0.1720123999118762,0.10055614322899259,0.13818953423379746,0.0912612788220301,0.10505915478347287,0.13830781824284297,0.12942950540060036,0.13900113395259814,0.11829563625947544,0.15341098324881125,0.10333084782790518,0.11807767966974879,0.11025889737040968,0.15402083454002433,0.1136004354919871,0.10289955541456697,0.11429945098807347,0.1324594357775205,0.11497297156243179,0.13659139214420046,0.18124517611132476,0.22612702757208777,0.24451688046997952,0.27568855308321605,0.24246733474714036,0.1910583553747526,0.1583358157992645,0.14452672088128263,0.1377505590199887,0.1449530336241158,0.13453209719008064,0.16315967141683438,0.1634310626656399,0.14762865988877882,0.13487623044424188,0.1409820919324534,0.18082630121466658,0.1815642913871789,0.13483015696366804,0.1350362790702003,0.11722930429298627,0.12168869839222435,0.11821614818703574,0.11035499955108134,0.13486682908621783,0.12538699164255246,0.1425000299947499,0.09803650748045671,0.09803650748045671],\"yaxis\":\"y\",\"type\":\"scatter\"},{\"hoverinfo\":\"skip\",\"line\":{\"color\":\"rgba(0,0,0,0)\",\"shape\":\"hv\"},\"mode\":\"lines\",\"name\":\"Confidence band\",\"showlegend\":false,\"x\":[\"2019-12-24T00:00:00\",\"2019-12-25T00:00:00\",\"2019-12-26T00:00:00\",\"2019-12-27T00:00:00\",\"2019-12-28T00:00:00\",\"2019-12-29T00:00:00\",\"2019-12-30T00:00:00\",\"2019-12-31T00:00:00\",\"2020-01-01T00:00:00\",\"2020-01-02T00:00:00\",\"2020-01-03T00:00:00\",\"2020-01-04T00:00:00\",\"2020-01-05T00:00:00\",\"2020-01-06T00:00:00\",\"2020-01-07T00:00:00\",\"2020-01-08T00:00:00\",\"2020-01-09T00:00:00\",\"2020-01-10T00:00:00\",\"2020-01-11T00:00:00\",\"2020-01-12T00:00:00\",\"2020-01-13T00:00:00\",\"2020-01-14T00:00:00\",\"2020-01-15T00:00:00\",\"2020-01-16T00:00:00\",\"2020-01-17T00:00:00\",\"2020-01-18T00:00:00\",\"2020-01-19T00:00:00\",\"2020-01-20T00:00:00\",\"2020-01-21T00:00:00\",\"2020-01-22T00:00:00\",\"2020-01-23T00:00:00\",\"2020-01-24T00:00:00\",\"2020-01-25T00:00:00\",\"2020-01-26T00:00:00\",\"2020-01-27T00:00:00\",\"2020-01-28T00:00:00\",\"2020-01-29T00:00:00\",\"2020-01-30T00:00:00\",\"2020-01-31T00:00:00\",\"2020-02-01T00:00:00\",\"2020-02-02T00:00:00\",\"2020-02-03T00:00:00\",\"2020-02-04T00:00:00\",\"2020-02-05T00:00:00\",\"2020-02-06T00:00:00\",\"2020-02-07T00:00:00\",\"2020-02-08T00:00:00\",\"2020-02-09T00:00:00\",\"2020-02-10T00:00:00\",\"2020-02-11T00:00:00\",\"2020-02-12T00:00:00\",\"2020-02-13T00:00:00\",\"2020-02-14T00:00:00\",\"2020-02-15T00:00:00\",\"2020-02-16T00:00:00\",\"2020-02-17T00:00:00\",\"2020-02-18T00:00:00\",\"2020-02-19T00:00:00\",\"2020-02-20T00:00:00\",\"2020-02-21T00:00:00\",\"2020-02-22T00:00:00\",\"2020-02-23T00:00:00\",\"2020-02-24T00:00:00\",\"2020-02-25T00:00:00\",\"2020-02-26T00:00:00\",\"2020-02-27T00:00:00\",\"2020-02-28T00:00:00\",\"2020-02-29T00:00:00\",\"2020-03-01T00:00:00\",\"2020-03-02T00:00:00\",\"2020-03-03T00:00:00\",\"2020-03-04T00:00:00\",\"2020-03-05T00:00:00\",\"2020-03-06T00:00:00\",\"2020-03-07T00:00:00\",\"2020-03-08T00:00:00\",\"2020-03-09T00:00:00\",\"2020-03-10T00:00:00\",\"2020-03-11T00:00:00\",\"2020-03-12T00:00:00\",\"2020-03-13T00:00:00\",\"2020-03-14T00:00:00\",\"2020-03-15T00:00:00\",\"2020-03-16T00:00:00\",\"2020-03-17T00:00:00\",\"2020-03-18T00:00:00\",\"2020-03-19T00:00:00\",\"2020-03-20T00:00:00\",\"2020-03-21T00:00:00\",\"2020-03-22T00:00:00\",\"2020-03-23T00:00:00\",\"2020-03-24T00:00:00\",\"2020-03-25T00:00:00\",\"2020-03-26T00:00:00\",\"2020-03-27T00:00:00\",\"2020-03-28T00:00:00\",\"2020-03-29T00:00:00\",\"2020-03-30T00:00:00\",\"2020-03-31T00:00:00\",\"2020-04-01T00:00:00\",\"2020-04-02T00:00:00\",\"2020-04-03T00:00:00\",\"2020-04-04T00:00:00\",\"2020-04-05T00:00:00\",\"2020-04-06T00:00:00\",\"2020-04-07T00:00:00\",\"2020-04-08T00:00:00\",\"2020-04-09T00:00:00\",\"2020-04-10T00:00:00\",\"2020-04-11T00:00:00\",\"2020-04-12T00:00:00\",\"2020-04-13T00:00:00\",\"2020-04-14T00:00:00\",\"2020-04-15T00:00:00\",\"2020-04-16T00:00:00\",\"2020-04-17T00:00:00\",\"2020-04-18T00:00:00\",\"2020-04-19T00:00:00\",\"2020-04-20T00:00:00\",\"2020-04-21T00:00:00\",\"2020-04-22T00:00:00\",\"2020-04-23T00:00:00\",\"2020-04-24T00:00:00\",\"2020-04-25T00:00:00\",\"2020-04-26T00:00:00\",\"2020-04-27T00:00:00\",\"2020-04-27T23:59:59.999999999\"],\"xaxis\":\"x\",\"y\":[0.253362526794366,0.2306304165149707,0.22646250201734405,0.23134259325796505,0.2240708457317723,0.21423616469250883,0.2235143794146511,0.23340737050870472,0.23682694704794793,0.2349774617557446,0.2297784749789884,0.20767692112106745,0.21749946878854515,0.20501290580716852,0.24276805173301466,0.20540601231375255,0.19508516787963287,0.23653190120418852,0.2176985454164585,0.20296081132897031,0.20972822858041257,0.1958546285477326,0.243141451630572,0.2217306236573743,0.20777232794593226,0.2137182259785524,0.19949170835347446,0.23513429751087775,0.2038908998032935,0.2075508696119886,0.19474455474000046,0.1946875029442996,0.19350113027780608,0.2149197411379597,0.18985469121490123,0.21153291351681208,0.21908781421965084,0.23554330131383547,0.22444059943761205,0.19627629384421846,0.18401776302406841,0.19863916724928116,0.19245776064491377,0.20873846296828097,0.19951218503215024,0.22345371884111478,0.21553682909524463,0.21391344316618077,0.21159747170371057,0.2300714497233063,0.27748615873927673,0.265166556177452,0.22618058815098238,0.22127243593692797,0.2233968214136629,0.2335373830213785,0.23490883103584495,0.37182700280557707,0.3522390455998045,0.3238112646800515,0.3432807274004481,0.3590231704788624,0.326788763214628,0.32725579328929777,0.3242271289003422,0.2975623081808634,0.2852813999315812,0.2929568221955313,0.28912745398632433,0.30707114557017656,0.29222153233364734,0.31169799011879906,0.31580374275850853,0.22246407858843323,0.21053866483888256,0.2084213043475296,0.1978045504929719,0.26334502753218736,0.26677618645901546,0.19531992977613183,0.2329533207809367,0.18602506536916935,0.19982294133061212,0.2330716047899822,0.2241932919477396,0.23376492049973738,0.21305942280661466,0.2481747697959505,0.19809463437504443,0.21284146621688804,0.2050226839175489,0.24878462108716357,0.20836422203912636,0.1976633419617062,0.20906323753521272,0.22722322232465975,0.20973675810957104,0.2313551786913397,0.276008962658464,0.32089081411922704,0.3392806670171188,0.3704523396303553,0.33723112129427957,0.2858221419218918,0.2530996023464037,0.23929050742842187,0.23251434556712794,0.23971682017125504,0.22929588373721987,0.25792345796397365,0.25819484921277913,0.24239244643591806,0.22964001699138112,0.23574587847959264,0.2755900877618058,0.27632807793431813,0.22959394351080728,0.22980006561733954,0.21199309084012552,0.2164524849393636,0.21297993473417498,0.2051187860982206,0.22963061563335707,0.2201507781896917,0.23726381654188913,0.3301594306149688,0.3301594306149688],\"yaxis\":\"y\",\"type\":\"scatter\"},{\"fill\":\"tonexty\",\"fillcolor\":\"rgba(0.23137254901960785, 0.00784313725490196, 0.5019607843137255, 0.2)\",\"hoverinfo\":\"skip\",\"line\":{\"color\":\"rgba(0,0,0,0)\",\"shape\":\"hv\"},\"mode\":\"lines\",\"name\":\"Confidence band\",\"showlegend\":true,\"x\":[\"2019-12-24T00:00:00\",\"2019-12-25T00:00:00\",\"2019-12-26T00:00:00\",\"2019-12-27T00:00:00\",\"2019-12-28T00:00:00\",\"2019-12-29T00:00:00\",\"2019-12-30T00:00:00\",\"2019-12-31T00:00:00\",\"2020-01-01T00:00:00\",\"2020-01-02T00:00:00\",\"2020-01-03T00:00:00\",\"2020-01-04T00:00:00\",\"2020-01-05T00:00:00\",\"2020-01-06T00:00:00\",\"2020-01-07T00:00:00\",\"2020-01-08T00:00:00\",\"2020-01-09T00:00:00\",\"2020-01-10T00:00:00\",\"2020-01-11T00:00:00\",\"2020-01-12T00:00:00\",\"2020-01-13T00:00:00\",\"2020-01-14T00:00:00\",\"2020-01-15T00:00:00\",\"2020-01-16T00:00:00\",\"2020-01-17T00:00:00\",\"2020-01-18T00:00:00\",\"2020-01-19T00:00:00\",\"2020-01-20T00:00:00\",\"2020-01-21T00:00:00\",\"2020-01-22T00:00:00\",\"2020-01-23T00:00:00\",\"2020-01-24T00:00:00\",\"2020-01-25T00:00:00\",\"2020-01-26T00:00:00\",\"2020-01-27T00:00:00\",\"2020-01-28T00:00:00\",\"2020-01-29T00:00:00\",\"2020-01-30T00:00:00\",\"2020-01-31T00:00:00\",\"2020-02-01T00:00:00\",\"2020-02-02T00:00:00\",\"2020-02-03T00:00:00\",\"2020-02-04T00:00:00\",\"2020-02-05T00:00:00\",\"2020-02-06T00:00:00\",\"2020-02-07T00:00:00\",\"2020-02-08T00:00:00\",\"2020-02-09T00:00:00\",\"2020-02-10T00:00:00\",\"2020-02-11T00:00:00\",\"2020-02-12T00:00:00\",\"2020-02-13T00:00:00\",\"2020-02-14T00:00:00\",\"2020-02-15T00:00:00\",\"2020-02-16T00:00:00\",\"2020-02-17T00:00:00\",\"2020-02-18T00:00:00\",\"2020-02-19T00:00:00\",\"2020-02-20T00:00:00\",\"2020-02-21T00:00:00\",\"2020-02-22T00:00:00\",\"2020-02-23T00:00:00\",\"2020-02-24T00:00:00\",\"2020-02-25T00:00:00\",\"2020-02-26T00:00:00\",\"2020-02-27T00:00:00\",\"2020-02-28T00:00:00\",\"2020-02-29T00:00:00\",\"2020-03-01T00:00:00\",\"2020-03-02T00:00:00\",\"2020-03-03T00:00:00\",\"2020-03-04T00:00:00\",\"2020-03-05T00:00:00\",\"2020-03-06T00:00:00\",\"2020-03-07T00:00:00\",\"2020-03-08T00:00:00\",\"2020-03-09T00:00:00\",\"2020-03-10T00:00:00\",\"2020-03-11T00:00:00\",\"2020-03-12T00:00:00\",\"2020-03-13T00:00:00\",\"2020-03-14T00:00:00\",\"2020-03-15T00:00:00\",\"2020-03-16T00:00:00\",\"2020-03-17T00:00:00\",\"2020-03-18T00:00:00\",\"2020-03-19T00:00:00\",\"2020-03-20T00:00:00\",\"2020-03-21T00:00:00\",\"2020-03-22T00:00:00\",\"2020-03-23T00:00:00\",\"2020-03-24T00:00:00\",\"2020-03-25T00:00:00\",\"2020-03-26T00:00:00\",\"2020-03-27T00:00:00\",\"2020-03-28T00:00:00\",\"2020-03-29T00:00:00\",\"2020-03-30T00:00:00\",\"2020-03-31T00:00:00\",\"2020-04-01T00:00:00\",\"2020-04-02T00:00:00\",\"2020-04-03T00:00:00\",\"2020-04-04T00:00:00\",\"2020-04-05T00:00:00\",\"2020-04-06T00:00:00\",\"2020-04-07T00:00:00\",\"2020-04-08T00:00:00\",\"2020-04-09T00:00:00\",\"2020-04-10T00:00:00\",\"2020-04-11T00:00:00\",\"2020-04-12T00:00:00\",\"2020-04-13T00:00:00\",\"2020-04-14T00:00:00\",\"2020-04-15T00:00:00\",\"2020-04-16T00:00:00\",\"2020-04-17T00:00:00\",\"2020-04-18T00:00:00\",\"2020-04-19T00:00:00\",\"2020-04-20T00:00:00\",\"2020-04-21T00:00:00\",\"2020-04-22T00:00:00\",\"2020-04-23T00:00:00\",\"2020-04-24T00:00:00\",\"2020-04-25T00:00:00\",\"2020-04-26T00:00:00\",\"2020-04-27T00:00:00\",\"2020-04-27T23:59:59.999999999\"],\"xaxis\":\"x\",\"y\":[0.04574547268847498,0.04110284342069223,0.036934928923065574,0.04181502016368657,0.03454327263749382,0.024708591598230356,0.033986806320372626,0.04387979741442624,0.047299373953669455,0.045449888661466126,0.04025090188470992,0.018149348026788983,0.027971895694266655,0.015485332712890043,0.05324047863873618,0.015878439219474086,0.005557594785354378,0.04700432810991004,0.02817097232218002,0.013433238234691822,0.020200655486134103,0.00632705545345412,0.05361387853629351,0.03220305056309583,0.018244754851653777,0.024190652884273925,0.00996413525919597,0.04560672441659927,0.014363326709015009,0.018023296517710133,0.005216981645721999,0.005159929850021117,0.003973557183527612,0.025392168043681204,0.00032711812062274914,0.022005340422533617,0.029560241125372366,0.04601572821955699,0.03491302634333357,0.006748720749939985,0.0,0.009111594155002692,0.0029301875506352743,0.01921088987400249,0.009984611937871743,0.033926145746836306,0.026009256000966152,0.024385870071902307,0.02206989860943208,0.04054387662902781,0.08795858564499828,0.07563898308317352,0.0366530150567039,0.03174486284264949,0.033869248319384426,0.04400980992710002,0.04538125794156647,0.1822994297112986,0.16271147250552603,0.134283691585773,0.15375315430616968,0.16949559738458392,0.13726119012034957,0.1377282201950193,0.13469955580606374,0.1080347350865849,0.09575382683730269,0.10342924910125281,0.09959988089204588,0.11754357247589811,0.10269395923936886,0.12217041702452061,0.12627616966423003,0.03293650549415475,0.02101109174460407,0.01889373125325111,0.00827697739869343,0.07381745443790885,0.07724861336473696,0.00579235668185335,0.04342574768665822,0.0,0.010295368236333632,0.04354403169570373,0.03466571885346112,0.0442373474054589,0.023531849712336197,0.05864719670167201,0.008567061280765939,0.02331389312260955,0.015495110823270444,0.05925704799288509,0.018836648944847864,0.008135768867427728,0.019535664440934228,0.03769564923038127,0.02020918501529255,0.041827605597061224,0.08648138956418552,0.13136324102494853,0.14975309392284028,0.1809247665360768,0.14770354820000112,0.09629456882761336,0.06357202925212527,0.04976293433414339,0.04298677247284946,0.050189247076976556,0.039768310642941396,0.06839588486969514,0.06866727611850065,0.052864873341639584,0.04011244389710264,0.04621830538531416,0.08606251466752735,0.08680050484003965,0.0400663704165288,0.04027249252306106,0.022465517745847027,0.02692491184508511,0.023452361639896502,0.015591213003942103,0.04010304253907859,0.03062320509541322,0.047736243447610655,0.0,0.0],\"yaxis\":\"y\",\"type\":\"scatter\"},{\"hoverinfo\":\"skip\",\"line\":{\"color\":\"#00c8e5\",\"shape\":\"hv\",\"width\":2},\"mode\":\"lines\",\"name\":\"\\u003cb\\u003eMAPE\\u003c\\u002fb\\u003e (realized MAPE)\",\"showlegend\":true,\"x\":[\"2019-12-24T00:00:00\",\"2019-12-25T00:00:00\",\"2019-12-26T00:00:00\",\"2019-12-27T00:00:00\",\"2019-12-28T00:00:00\",\"2019-12-29T00:00:00\",\"2019-12-30T00:00:00\",\"2019-12-31T00:00:00\",\"2020-01-01T00:00:00\",\"2020-01-02T00:00:00\",\"2020-01-03T00:00:00\",\"2020-01-04T00:00:00\",\"2020-01-05T00:00:00\",\"2020-01-06T00:00:00\",\"2020-01-07T00:00:00\",\"2020-01-08T00:00:00\",\"2020-01-09T00:00:00\",\"2020-01-10T00:00:00\",\"2020-01-11T00:00:00\",\"2020-01-12T00:00:00\",\"2020-01-13T00:00:00\",\"2020-01-14T00:00:00\",\"2020-01-15T00:00:00\",\"2020-01-16T00:00:00\",\"2020-01-17T00:00:00\",\"2020-01-18T00:00:00\",\"2020-01-19T00:00:00\",\"2020-01-20T00:00:00\",\"2020-01-21T00:00:00\",\"2020-01-22T00:00:00\",\"2020-01-23T00:00:00\",\"2020-01-24T00:00:00\",\"2020-01-25T00:00:00\",\"2020-01-26T00:00:00\",\"2020-01-27T00:00:00\",\"2020-01-28T00:00:00\",\"2020-01-29T00:00:00\",\"2020-01-30T00:00:00\",\"2020-01-31T00:00:00\",\"2020-02-01T00:00:00\",\"2020-02-02T00:00:00\",\"2020-02-03T00:00:00\",\"2020-02-04T00:00:00\",\"2020-02-05T00:00:00\",\"2020-02-06T00:00:00\",\"2020-02-07T00:00:00\",\"2020-02-08T00:00:00\",\"2020-02-09T00:00:00\",\"2020-02-10T00:00:00\",\"2020-02-11T00:00:00\",\"2020-02-12T00:00:00\",\"2020-02-13T00:00:00\",\"2020-02-14T00:00:00\",\"2020-02-15T00:00:00\",\"2020-02-16T00:00:00\",\"2020-02-17T00:00:00\",\"2020-02-18T00:00:00\",\"2020-02-19T00:00:00\",\"2020-02-20T00:00:00\",\"2020-02-21T00:00:00\",\"2020-02-22T00:00:00\",\"2020-02-23T00:00:00\",\"2020-02-24T00:00:00\",\"2020-02-25T00:00:00\",\"2020-02-26T00:00:00\",\"2020-02-27T00:00:00\",\"2020-02-28T00:00:00\",\"2020-02-29T00:00:00\",\"2020-03-01T00:00:00\",\"2020-03-02T00:00:00\",\"2020-03-03T00:00:00\",\"2020-03-04T00:00:00\",\"2020-03-05T00:00:00\",\"2020-03-06T00:00:00\",\"2020-03-07T00:00:00\",\"2020-03-08T00:00:00\",\"2020-03-09T00:00:00\",\"2020-03-10T00:00:00\",\"2020-03-11T00:00:00\",\"2020-03-12T00:00:00\",\"2020-03-13T00:00:00\",\"2020-03-14T00:00:00\",\"2020-03-15T00:00:00\",\"2020-03-16T00:00:00\",\"2020-03-17T00:00:00\",\"2020-03-18T00:00:00\",\"2020-03-19T00:00:00\",\"2020-03-20T00:00:00\",\"2020-03-21T00:00:00\",\"2020-03-22T00:00:00\",\"2020-03-23T00:00:00\",\"2020-03-24T00:00:00\",\"2020-03-25T00:00:00\",\"2020-03-26T00:00:00\",\"2020-03-27T00:00:00\",\"2020-03-28T00:00:00\",\"2020-03-29T00:00:00\",\"2020-03-30T00:00:00\",\"2020-03-31T00:00:00\",\"2020-04-01T00:00:00\",\"2020-04-02T00:00:00\",\"2020-04-03T00:00:00\",\"2020-04-04T00:00:00\",\"2020-04-05T00:00:00\",\"2020-04-06T00:00:00\",\"2020-04-07T00:00:00\",\"2020-04-08T00:00:00\",\"2020-04-09T00:00:00\",\"2020-04-10T00:00:00\",\"2020-04-11T00:00:00\",\"2020-04-12T00:00:00\",\"2020-04-13T00:00:00\",\"2020-04-14T00:00:00\",\"2020-04-15T00:00:00\",\"2020-04-16T00:00:00\",\"2020-04-17T00:00:00\",\"2020-04-18T00:00:00\",\"2020-04-19T00:00:00\",\"2020-04-20T00:00:00\",\"2020-04-21T00:00:00\",\"2020-04-22T00:00:00\",\"2020-04-23T00:00:00\",\"2020-04-24T00:00:00\",\"2020-04-25T00:00:00\",\"2020-04-26T00:00:00\",\"2020-04-27T00:00:00\",\"2020-04-27T23:59:59.999999999\"],\"xaxis\":\"x\",\"y\":[0.33741113024233244,0.34481582389118187,0.26938783034173236,0.28967528975817325,0.13819151170035635,0.30251764595042446,0.3039419769888281,0.4260483496617245,0.4107754343641214,0.45854149864054944,0.39357932615438473,0.29043825131876805,0.27767737212047927,0.27374433033033285,0.3171341362603628,0.24397675998214777,0.22122595609710036,0.23132385753113796,0.3318179309146739,0.22480507452695653,0.2468265025568089,0.21407916319208098,0.30284825270260657,0.43092799763492456,0.30192583192446604,0.36183410687862905,0.27761631780992535,0.387733883268276,0.32716151078174033,0.31088841661490446,0.31721878457485286,0.3087368744836899,0.299758800695946,0.25171892152615777,0.304728180529736,0.36878369977657827,0.5051550375267506,0.36863774209846123,0.4242104818701022,0.32181806476396957,0.3145787719652388,0.3475953627071151,0.3623567969237879,0.3309414341596179,0.2459238097834533,0.297214990153653,0.21576053482727722,0.43815297881149645,0.5084111719931378,0.39617064466519963,0.5705239572531963,0.4672996968915956,0.4260354315669675,0.2387357451026423,0.4464897025609031,0.48894849040183774,0.4007607643225526,0.17673308889784578,0.15190153841408816,0.1824408117288019,0.11862615012252102,0.1627366250009496,0.30548941055408424,0.24056525636732093,0.2695576088245671,0.29239022471539233,0.26269632937458814,0.2630932774309826,0.15716148637489766,0.39423380848848194,0.2547055305427454,0.20383411580735433,0.3897585753322139,0.28850669930560374,0.19520550465860578,0.29200952479303455,0.2423151348127861,0.2527611809170314,0.2851366286537761,0.2021495233277447,0.2374427540071914,0.29158968747402353,0.32328301544724997,0.26368386931745486,0.23856001948063985,0.27637549014127466,0.2273933920655703,0.2619328716190488,0.2365801758414945,0.15807982990025926,0.1073461424863394,0.23455250806143166,0.2710466930785249,0.16814878423060386,0.26804522308628137,0.20327467530728774,0.22803542801332877,0.21965517801422899,0.20568208738285987,0.18710624465687062,0.28713972711075936,0.17229005532783925,0.21681373428384676,0.6924223004002564,0.12909693997949373,0.21574848004846695,0.18400146896152977,0.12250043481727456,0.1735818686852432,0.16837169633847657,0.2360665830513564,0.25564312211363904,0.15466171630500947,0.2148137260548708,0.20257343640496286,0.19225552940848645,0.24206564865167243,0.20223629378239547,0.18338611435816507,0.20103832381668738,0.17596280730873395,0.12167972110091752,0.19249789163776374,0.17357890386860234,0.29679644147242434,0.23279595884775944,0.23279595884775944],\"yaxis\":\"y\",\"type\":\"scatter\"},{\"customdata\":[[\"\\u003cb\\u003eMAPE\\u003c\\u002fb\\u003e\",\"\\u003cb style=\\\"color:#00c8e5;line-height:60px\\\"\\u003eAnalysis\\u003c\\u002fb\\u003e\",\"\\u003cspan style=\\\"color:#AD0000\\\"\\u003e\\u26a0 \\u003cb\\u003eDrift detected\\u003c\\u002fb\\u003e\\u003c\\u002fspan\\u003e\",\"2019-12-24\",\"From \\u003cb\\u003eDec-24-2019\\u003c\\u002fb\\u003e to \\u003cb\\u003eDec-24-2019\\u003c\\u002fb\\u003e\",0.3374],[\"\\u003cb\\u003eMAPE\\u003c\\u002fb\\u003e\",\"\\u003cb style=\\\"color:#00c8e5;line-height:60px\\\"\\u003eAnalysis\\u003c\\u002fb\\u003e\",\"\\u003cspan style=\\\"color:#AD0000\\\"\\u003e\\u26a0 \\u003cb\\u003eDrift detected\\u003c\\u002fb\\u003e\\u003c\\u002fspan\\u003e\",\"2019-12-25\",\"From \\u003cb\\u003eDec-25-2019\\u003c\\u002fb\\u003e to \\u003cb\\u003eDec-25-2019\\u003c\\u002fb\\u003e\",0.3448],[\"\\u003cb\\u003eMAPE\\u003c\\u002fb\\u003e\",\"\\u003cb style=\\\"color:#00c8e5;line-height:60px\\\"\\u003eAnalysis\\u003c\\u002fb\\u003e\",\"\\u003cspan style=\\\"color:#AD0000\\\"\\u003e\\u26a0 \\u003cb\\u003eDrift detected\\u003c\\u002fb\\u003e\\u003c\\u002fspan\\u003e\",\"2019-12-26\",\"From \\u003cb\\u003eDec-26-2019\\u003c\\u002fb\\u003e to \\u003cb\\u003eDec-26-2019\\u003c\\u002fb\\u003e\",0.2694],[\"\\u003cb\\u003eMAPE\\u003c\\u002fb\\u003e\",\"\\u003cb style=\\\"color:#00c8e5;line-height:60px\\\"\\u003eAnalysis\\u003c\\u002fb\\u003e\",\"\\u003cspan style=\\\"color:#AD0000\\\"\\u003e\\u26a0 \\u003cb\\u003eDrift detected\\u003c\\u002fb\\u003e\\u003c\\u002fspan\\u003e\",\"2019-12-27\",\"From \\u003cb\\u003eDec-27-2019\\u003c\\u002fb\\u003e to \\u003cb\\u003eDec-27-2019\\u003c\\u002fb\\u003e\",0.2897],[\"\\u003cb\\u003eMAPE\\u003c\\u002fb\\u003e\",\"\\u003cb style=\\\"color:#00c8e5;line-height:60px\\\"\\u003eAnalysis\\u003c\\u002fb\\u003e\",\"\",\"2019-12-28\",\"From \\u003cb\\u003eDec-28-2019\\u003c\\u002fb\\u003e to \\u003cb\\u003eDec-28-2019\\u003c\\u002fb\\u003e\",0.1382],[\"\\u003cb\\u003eMAPE\\u003c\\u002fb\\u003e\",\"\\u003cb style=\\\"color:#00c8e5;line-height:60px\\\"\\u003eAnalysis\\u003c\\u002fb\\u003e\",\"\\u003cspan style=\\\"color:#AD0000\\\"\\u003e\\u26a0 \\u003cb\\u003eDrift detected\\u003c\\u002fb\\u003e\\u003c\\u002fspan\\u003e\",\"2019-12-29\",\"From \\u003cb\\u003eDec-29-2019\\u003c\\u002fb\\u003e to \\u003cb\\u003eDec-29-2019\\u003c\\u002fb\\u003e\",0.3025],[\"\\u003cb\\u003eMAPE\\u003c\\u002fb\\u003e\",\"\\u003cb style=\\\"color:#00c8e5;line-height:60px\\\"\\u003eAnalysis\\u003c\\u002fb\\u003e\",\"\\u003cspan style=\\\"color:#AD0000\\\"\\u003e\\u26a0 \\u003cb\\u003eDrift detected\\u003c\\u002fb\\u003e\\u003c\\u002fspan\\u003e\",\"2019-12-30\",\"From \\u003cb\\u003eDec-30-2019\\u003c\\u002fb\\u003e to \\u003cb\\u003eDec-30-2019\\u003c\\u002fb\\u003e\",0.3039],[\"\\u003cb\\u003eMAPE\\u003c\\u002fb\\u003e\",\"\\u003cb style=\\\"color:#00c8e5;line-height:60px\\\"\\u003eAnalysis\\u003c\\u002fb\\u003e\",\"\\u003cspan style=\\\"color:#AD0000\\\"\\u003e\\u26a0 \\u003cb\\u003eDrift detected\\u003c\\u002fb\\u003e\\u003c\\u002fspan\\u003e\",\"2019-12-31\",\"From \\u003cb\\u003eDec-31-2019\\u003c\\u002fb\\u003e to \\u003cb\\u003eDec-31-2019\\u003c\\u002fb\\u003e\",0.426],[\"\\u003cb\\u003eMAPE\\u003c\\u002fb\\u003e\",\"\\u003cb style=\\\"color:#00c8e5;line-height:60px\\\"\\u003eAnalysis\\u003c\\u002fb\\u003e\",\"\\u003cspan style=\\\"color:#AD0000\\\"\\u003e\\u26a0 \\u003cb\\u003eDrift detected\\u003c\\u002fb\\u003e\\u003c\\u002fspan\\u003e\",\"2020-01-01\",\"From \\u003cb\\u003eJan-01-2020\\u003c\\u002fb\\u003e to \\u003cb\\u003eJan-01-2020\\u003c\\u002fb\\u003e\",0.4108],[\"\\u003cb\\u003eMAPE\\u003c\\u002fb\\u003e\",\"\\u003cb style=\\\"color:#00c8e5;line-height:60px\\\"\\u003eAnalysis\\u003c\\u002fb\\u003e\",\"\\u003cspan style=\\\"color:#AD0000\\\"\\u003e\\u26a0 \\u003cb\\u003eDrift detected\\u003c\\u002fb\\u003e\\u003c\\u002fspan\\u003e\",\"2020-01-02\",\"From \\u003cb\\u003eJan-02-2020\\u003c\\u002fb\\u003e to \\u003cb\\u003eJan-02-2020\\u003c\\u002fb\\u003e\",0.4585],[\"\\u003cb\\u003eMAPE\\u003c\\u002fb\\u003e\",\"\\u003cb style=\\\"color:#00c8e5;line-height:60px\\\"\\u003eAnalysis\\u003c\\u002fb\\u003e\",\"\\u003cspan style=\\\"color:#AD0000\\\"\\u003e\\u26a0 \\u003cb\\u003eDrift detected\\u003c\\u002fb\\u003e\\u003c\\u002fspan\\u003e\",\"2020-01-03\",\"From \\u003cb\\u003eJan-03-2020\\u003c\\u002fb\\u003e to \\u003cb\\u003eJan-03-2020\\u003c\\u002fb\\u003e\",0.3936],[\"\\u003cb\\u003eMAPE\\u003c\\u002fb\\u003e\",\"\\u003cb style=\\\"color:#00c8e5;line-height:60px\\\"\\u003eAnalysis\\u003c\\u002fb\\u003e\",\"\\u003cspan style=\\\"color:#AD0000\\\"\\u003e\\u26a0 \\u003cb\\u003eDrift detected\\u003c\\u002fb\\u003e\\u003c\\u002fspan\\u003e\",\"2020-01-04\",\"From \\u003cb\\u003eJan-04-2020\\u003c\\u002fb\\u003e to \\u003cb\\u003eJan-04-2020\\u003c\\u002fb\\u003e\",0.2904],[\"\\u003cb\\u003eMAPE\\u003c\\u002fb\\u003e\",\"\\u003cb style=\\\"color:#00c8e5;line-height:60px\\\"\\u003eAnalysis\\u003c\\u002fb\\u003e\",\"\\u003cspan style=\\\"color:#AD0000\\\"\\u003e\\u26a0 \\u003cb\\u003eDrift detected\\u003c\\u002fb\\u003e\\u003c\\u002fspan\\u003e\",\"2020-01-05\",\"From \\u003cb\\u003eJan-05-2020\\u003c\\u002fb\\u003e to \\u003cb\\u003eJan-05-2020\\u003c\\u002fb\\u003e\",0.2777],[\"\\u003cb\\u003eMAPE\\u003c\\u002fb\\u003e\",\"\\u003cb style=\\\"color:#00c8e5;line-height:60px\\\"\\u003eAnalysis\\u003c\\u002fb\\u003e\",\"\\u003cspan style=\\\"color:#AD0000\\\"\\u003e\\u26a0 \\u003cb\\u003eDrift detected\\u003c\\u002fb\\u003e\\u003c\\u002fspan\\u003e\",\"2020-01-06\",\"From \\u003cb\\u003eJan-06-2020\\u003c\\u002fb\\u003e to \\u003cb\\u003eJan-06-2020\\u003c\\u002fb\\u003e\",0.2737],[\"\\u003cb\\u003eMAPE\\u003c\\u002fb\\u003e\",\"\\u003cb style=\\\"color:#00c8e5;line-height:60px\\\"\\u003eAnalysis\\u003c\\u002fb\\u003e\",\"\\u003cspan style=\\\"color:#AD0000\\\"\\u003e\\u26a0 \\u003cb\\u003eDrift detected\\u003c\\u002fb\\u003e\\u003c\\u002fspan\\u003e\",\"2020-01-07\",\"From \\u003cb\\u003eJan-07-2020\\u003c\\u002fb\\u003e to \\u003cb\\u003eJan-07-2020\\u003c\\u002fb\\u003e\",0.3171],[\"\\u003cb\\u003eMAPE\\u003c\\u002fb\\u003e\",\"\\u003cb style=\\\"color:#00c8e5;line-height:60px\\\"\\u003eAnalysis\\u003c\\u002fb\\u003e\",\"\\u003cspan style=\\\"color:#AD0000\\\"\\u003e\\u26a0 \\u003cb\\u003eDrift detected\\u003c\\u002fb\\u003e\\u003c\\u002fspan\\u003e\",\"2020-01-08\",\"From \\u003cb\\u003eJan-08-2020\\u003c\\u002fb\\u003e to \\u003cb\\u003eJan-08-2020\\u003c\\u002fb\\u003e\",0.244],[\"\\u003cb\\u003eMAPE\\u003c\\u002fb\\u003e\",\"\\u003cb style=\\\"color:#00c8e5;line-height:60px\\\"\\u003eAnalysis\\u003c\\u002fb\\u003e\",\"\",\"2020-01-09\",\"From \\u003cb\\u003eJan-09-2020\\u003c\\u002fb\\u003e to \\u003cb\\u003eJan-09-2020\\u003c\\u002fb\\u003e\",0.2212],[\"\\u003cb\\u003eMAPE\\u003c\\u002fb\\u003e\",\"\\u003cb style=\\\"color:#00c8e5;line-height:60px\\\"\\u003eAnalysis\\u003c\\u002fb\\u003e\",\"\\u003cspan style=\\\"color:#AD0000\\\"\\u003e\\u26a0 \\u003cb\\u003eDrift detected\\u003c\\u002fb\\u003e\\u003c\\u002fspan\\u003e\",\"2020-01-10\",\"From \\u003cb\\u003eJan-10-2020\\u003c\\u002fb\\u003e to \\u003cb\\u003eJan-10-2020\\u003c\\u002fb\\u003e\",0.2313],[\"\\u003cb\\u003eMAPE\\u003c\\u002fb\\u003e\",\"\\u003cb style=\\\"color:#00c8e5;line-height:60px\\\"\\u003eAnalysis\\u003c\\u002fb\\u003e\",\"\\u003cspan style=\\\"color:#AD0000\\\"\\u003e\\u26a0 \\u003cb\\u003eDrift detected\\u003c\\u002fb\\u003e\\u003c\\u002fspan\\u003e\",\"2020-01-11\",\"From \\u003cb\\u003eJan-11-2020\\u003c\\u002fb\\u003e to \\u003cb\\u003eJan-11-2020\\u003c\\u002fb\\u003e\",0.3318],[\"\\u003cb\\u003eMAPE\\u003c\\u002fb\\u003e\",\"\\u003cb style=\\\"color:#00c8e5;line-height:60px\\\"\\u003eAnalysis\\u003c\\u002fb\\u003e\",\"\",\"2020-01-12\",\"From \\u003cb\\u003eJan-12-2020\\u003c\\u002fb\\u003e to \\u003cb\\u003eJan-12-2020\\u003c\\u002fb\\u003e\",0.2248],[\"\\u003cb\\u003eMAPE\\u003c\\u002fb\\u003e\",\"\\u003cb style=\\\"color:#00c8e5;line-height:60px\\\"\\u003eAnalysis\\u003c\\u002fb\\u003e\",\"\\u003cspan style=\\\"color:#AD0000\\\"\\u003e\\u26a0 \\u003cb\\u003eDrift detected\\u003c\\u002fb\\u003e\\u003c\\u002fspan\\u003e\",\"2020-01-13\",\"From \\u003cb\\u003eJan-13-2020\\u003c\\u002fb\\u003e to \\u003cb\\u003eJan-13-2020\\u003c\\u002fb\\u003e\",0.2468],[\"\\u003cb\\u003eMAPE\\u003c\\u002fb\\u003e\",\"\\u003cb style=\\\"color:#00c8e5;line-height:60px\\\"\\u003eAnalysis\\u003c\\u002fb\\u003e\",\"\",\"2020-01-14\",\"From \\u003cb\\u003eJan-14-2020\\u003c\\u002fb\\u003e to \\u003cb\\u003eJan-14-2020\\u003c\\u002fb\\u003e\",0.2141],[\"\\u003cb\\u003eMAPE\\u003c\\u002fb\\u003e\",\"\\u003cb style=\\\"color:#00c8e5;line-height:60px\\\"\\u003eAnalysis\\u003c\\u002fb\\u003e\",\"\\u003cspan style=\\\"color:#AD0000\\\"\\u003e\\u26a0 \\u003cb\\u003eDrift detected\\u003c\\u002fb\\u003e\\u003c\\u002fspan\\u003e\",\"2020-01-15\",\"From \\u003cb\\u003eJan-15-2020\\u003c\\u002fb\\u003e to \\u003cb\\u003eJan-15-2020\\u003c\\u002fb\\u003e\",0.3028],[\"\\u003cb\\u003eMAPE\\u003c\\u002fb\\u003e\",\"\\u003cb style=\\\"color:#00c8e5;line-height:60px\\\"\\u003eAnalysis\\u003c\\u002fb\\u003e\",\"\\u003cspan style=\\\"color:#AD0000\\\"\\u003e\\u26a0 \\u003cb\\u003eDrift detected\\u003c\\u002fb\\u003e\\u003c\\u002fspan\\u003e\",\"2020-01-16\",\"From \\u003cb\\u003eJan-16-2020\\u003c\\u002fb\\u003e to \\u003cb\\u003eJan-16-2020\\u003c\\u002fb\\u003e\",0.4309],[\"\\u003cb\\u003eMAPE\\u003c\\u002fb\\u003e\",\"\\u003cb style=\\\"color:#00c8e5;line-height:60px\\\"\\u003eAnalysis\\u003c\\u002fb\\u003e\",\"\\u003cspan style=\\\"color:#AD0000\\\"\\u003e\\u26a0 \\u003cb\\u003eDrift detected\\u003c\\u002fb\\u003e\\u003c\\u002fspan\\u003e\",\"2020-01-17\",\"From \\u003cb\\u003eJan-17-2020\\u003c\\u002fb\\u003e to \\u003cb\\u003eJan-17-2020\\u003c\\u002fb\\u003e\",0.3019],[\"\\u003cb\\u003eMAPE\\u003c\\u002fb\\u003e\",\"\\u003cb style=\\\"color:#00c8e5;line-height:60px\\\"\\u003eAnalysis\\u003c\\u002fb\\u003e\",\"\\u003cspan style=\\\"color:#AD0000\\\"\\u003e\\u26a0 \\u003cb\\u003eDrift detected\\u003c\\u002fb\\u003e\\u003c\\u002fspan\\u003e\",\"2020-01-18\",\"From \\u003cb\\u003eJan-18-2020\\u003c\\u002fb\\u003e to \\u003cb\\u003eJan-18-2020\\u003c\\u002fb\\u003e\",0.3618],[\"\\u003cb\\u003eMAPE\\u003c\\u002fb\\u003e\",\"\\u003cb style=\\\"color:#00c8e5;line-height:60px\\\"\\u003eAnalysis\\u003c\\u002fb\\u003e\",\"\\u003cspan style=\\\"color:#AD0000\\\"\\u003e\\u26a0 \\u003cb\\u003eDrift detected\\u003c\\u002fb\\u003e\\u003c\\u002fspan\\u003e\",\"2020-01-19\",\"From \\u003cb\\u003eJan-19-2020\\u003c\\u002fb\\u003e to \\u003cb\\u003eJan-19-2020\\u003c\\u002fb\\u003e\",0.2776],[\"\\u003cb\\u003eMAPE\\u003c\\u002fb\\u003e\",\"\\u003cb style=\\\"color:#00c8e5;line-height:60px\\\"\\u003eAnalysis\\u003c\\u002fb\\u003e\",\"\\u003cspan style=\\\"color:#AD0000\\\"\\u003e\\u26a0 \\u003cb\\u003eDrift detected\\u003c\\u002fb\\u003e\\u003c\\u002fspan\\u003e\",\"2020-01-20\",\"From \\u003cb\\u003eJan-20-2020\\u003c\\u002fb\\u003e to \\u003cb\\u003eJan-20-2020\\u003c\\u002fb\\u003e\",0.3877],[\"\\u003cb\\u003eMAPE\\u003c\\u002fb\\u003e\",\"\\u003cb style=\\\"color:#00c8e5;line-height:60px\\\"\\u003eAnalysis\\u003c\\u002fb\\u003e\",\"\\u003cspan style=\\\"color:#AD0000\\\"\\u003e\\u26a0 \\u003cb\\u003eDrift detected\\u003c\\u002fb\\u003e\\u003c\\u002fspan\\u003e\",\"2020-01-21\",\"From \\u003cb\\u003eJan-21-2020\\u003c\\u002fb\\u003e to \\u003cb\\u003eJan-21-2020\\u003c\\u002fb\\u003e\",0.3272],[\"\\u003cb\\u003eMAPE\\u003c\\u002fb\\u003e\",\"\\u003cb style=\\\"color:#00c8e5;line-height:60px\\\"\\u003eAnalysis\\u003c\\u002fb\\u003e\",\"\\u003cspan style=\\\"color:#AD0000\\\"\\u003e\\u26a0 \\u003cb\\u003eDrift detected\\u003c\\u002fb\\u003e\\u003c\\u002fspan\\u003e\",\"2020-01-22\",\"From \\u003cb\\u003eJan-22-2020\\u003c\\u002fb\\u003e to \\u003cb\\u003eJan-22-2020\\u003c\\u002fb\\u003e\",0.3109],[\"\\u003cb\\u003eMAPE\\u003c\\u002fb\\u003e\",\"\\u003cb style=\\\"color:#00c8e5;line-height:60px\\\"\\u003eAnalysis\\u003c\\u002fb\\u003e\",\"\\u003cspan style=\\\"color:#AD0000\\\"\\u003e\\u26a0 \\u003cb\\u003eDrift detected\\u003c\\u002fb\\u003e\\u003c\\u002fspan\\u003e\",\"2020-01-23\",\"From \\u003cb\\u003eJan-23-2020\\u003c\\u002fb\\u003e to \\u003cb\\u003eJan-23-2020\\u003c\\u002fb\\u003e\",0.3172],[\"\\u003cb\\u003eMAPE\\u003c\\u002fb\\u003e\",\"\\u003cb style=\\\"color:#00c8e5;line-height:60px\\\"\\u003eAnalysis\\u003c\\u002fb\\u003e\",\"\\u003cspan style=\\\"color:#AD0000\\\"\\u003e\\u26a0 \\u003cb\\u003eDrift detected\\u003c\\u002fb\\u003e\\u003c\\u002fspan\\u003e\",\"2020-01-24\",\"From \\u003cb\\u003eJan-24-2020\\u003c\\u002fb\\u003e to \\u003cb\\u003eJan-24-2020\\u003c\\u002fb\\u003e\",0.3087],[\"\\u003cb\\u003eMAPE\\u003c\\u002fb\\u003e\",\"\\u003cb style=\\\"color:#00c8e5;line-height:60px\\\"\\u003eAnalysis\\u003c\\u002fb\\u003e\",\"\\u003cspan style=\\\"color:#AD0000\\\"\\u003e\\u26a0 \\u003cb\\u003eDrift detected\\u003c\\u002fb\\u003e\\u003c\\u002fspan\\u003e\",\"2020-01-25\",\"From \\u003cb\\u003eJan-25-2020\\u003c\\u002fb\\u003e to \\u003cb\\u003eJan-25-2020\\u003c\\u002fb\\u003e\",0.2998],[\"\\u003cb\\u003eMAPE\\u003c\\u002fb\\u003e\",\"\\u003cb style=\\\"color:#00c8e5;line-height:60px\\\"\\u003eAnalysis\\u003c\\u002fb\\u003e\",\"\\u003cspan style=\\\"color:#AD0000\\\"\\u003e\\u26a0 \\u003cb\\u003eDrift detected\\u003c\\u002fb\\u003e\\u003c\\u002fspan\\u003e\",\"2020-01-26\",\"From \\u003cb\\u003eJan-26-2020\\u003c\\u002fb\\u003e to \\u003cb\\u003eJan-26-2020\\u003c\\u002fb\\u003e\",0.2517],[\"\\u003cb\\u003eMAPE\\u003c\\u002fb\\u003e\",\"\\u003cb style=\\\"color:#00c8e5;line-height:60px\\\"\\u003eAnalysis\\u003c\\u002fb\\u003e\",\"\\u003cspan style=\\\"color:#AD0000\\\"\\u003e\\u26a0 \\u003cb\\u003eDrift detected\\u003c\\u002fb\\u003e\\u003c\\u002fspan\\u003e\",\"2020-01-27\",\"From \\u003cb\\u003eJan-27-2020\\u003c\\u002fb\\u003e to \\u003cb\\u003eJan-27-2020\\u003c\\u002fb\\u003e\",0.3047],[\"\\u003cb\\u003eMAPE\\u003c\\u002fb\\u003e\",\"\\u003cb style=\\\"color:#00c8e5;line-height:60px\\\"\\u003eAnalysis\\u003c\\u002fb\\u003e\",\"\\u003cspan style=\\\"color:#AD0000\\\"\\u003e\\u26a0 \\u003cb\\u003eDrift detected\\u003c\\u002fb\\u003e\\u003c\\u002fspan\\u003e\",\"2020-01-28\",\"From \\u003cb\\u003eJan-28-2020\\u003c\\u002fb\\u003e to \\u003cb\\u003eJan-28-2020\\u003c\\u002fb\\u003e\",0.3688],[\"\\u003cb\\u003eMAPE\\u003c\\u002fb\\u003e\",\"\\u003cb style=\\\"color:#00c8e5;line-height:60px\\\"\\u003eAnalysis\\u003c\\u002fb\\u003e\",\"\\u003cspan style=\\\"color:#AD0000\\\"\\u003e\\u26a0 \\u003cb\\u003eDrift detected\\u003c\\u002fb\\u003e\\u003c\\u002fspan\\u003e\",\"2020-01-29\",\"From \\u003cb\\u003eJan-29-2020\\u003c\\u002fb\\u003e to \\u003cb\\u003eJan-29-2020\\u003c\\u002fb\\u003e\",0.5052],[\"\\u003cb\\u003eMAPE\\u003c\\u002fb\\u003e\",\"\\u003cb style=\\\"color:#00c8e5;line-height:60px\\\"\\u003eAnalysis\\u003c\\u002fb\\u003e\",\"\\u003cspan style=\\\"color:#AD0000\\\"\\u003e\\u26a0 \\u003cb\\u003eDrift detected\\u003c\\u002fb\\u003e\\u003c\\u002fspan\\u003e\",\"2020-01-30\",\"From \\u003cb\\u003eJan-30-2020\\u003c\\u002fb\\u003e to \\u003cb\\u003eJan-30-2020\\u003c\\u002fb\\u003e\",0.3686],[\"\\u003cb\\u003eMAPE\\u003c\\u002fb\\u003e\",\"\\u003cb style=\\\"color:#00c8e5;line-height:60px\\\"\\u003eAnalysis\\u003c\\u002fb\\u003e\",\"\\u003cspan style=\\\"color:#AD0000\\\"\\u003e\\u26a0 \\u003cb\\u003eDrift detected\\u003c\\u002fb\\u003e\\u003c\\u002fspan\\u003e\",\"2020-01-31\",\"From \\u003cb\\u003eJan-31-2020\\u003c\\u002fb\\u003e to \\u003cb\\u003eJan-31-2020\\u003c\\u002fb\\u003e\",0.4242],[\"\\u003cb\\u003eMAPE\\u003c\\u002fb\\u003e\",\"\\u003cb style=\\\"color:#00c8e5;line-height:60px\\\"\\u003eAnalysis\\u003c\\u002fb\\u003e\",\"\\u003cspan style=\\\"color:#AD0000\\\"\\u003e\\u26a0 \\u003cb\\u003eDrift detected\\u003c\\u002fb\\u003e\\u003c\\u002fspan\\u003e\",\"2020-02-01\",\"From \\u003cb\\u003eFeb-01-2020\\u003c\\u002fb\\u003e to \\u003cb\\u003eFeb-01-2020\\u003c\\u002fb\\u003e\",0.3218],[\"\\u003cb\\u003eMAPE\\u003c\\u002fb\\u003e\",\"\\u003cb style=\\\"color:#00c8e5;line-height:60px\\\"\\u003eAnalysis\\u003c\\u002fb\\u003e\",\"\\u003cspan style=\\\"color:#AD0000\\\"\\u003e\\u26a0 \\u003cb\\u003eDrift detected\\u003c\\u002fb\\u003e\\u003c\\u002fspan\\u003e\",\"2020-02-02\",\"From \\u003cb\\u003eFeb-02-2020\\u003c\\u002fb\\u003e to \\u003cb\\u003eFeb-02-2020\\u003c\\u002fb\\u003e\",0.3146],[\"\\u003cb\\u003eMAPE\\u003c\\u002fb\\u003e\",\"\\u003cb style=\\\"color:#00c8e5;line-height:60px\\\"\\u003eAnalysis\\u003c\\u002fb\\u003e\",\"\\u003cspan style=\\\"color:#AD0000\\\"\\u003e\\u26a0 \\u003cb\\u003eDrift detected\\u003c\\u002fb\\u003e\\u003c\\u002fspan\\u003e\",\"2020-02-03\",\"From \\u003cb\\u003eFeb-03-2020\\u003c\\u002fb\\u003e to \\u003cb\\u003eFeb-03-2020\\u003c\\u002fb\\u003e\",0.3476],[\"\\u003cb\\u003eMAPE\\u003c\\u002fb\\u003e\",\"\\u003cb style=\\\"color:#00c8e5;line-height:60px\\\"\\u003eAnalysis\\u003c\\u002fb\\u003e\",\"\\u003cspan style=\\\"color:#AD0000\\\"\\u003e\\u26a0 \\u003cb\\u003eDrift detected\\u003c\\u002fb\\u003e\\u003c\\u002fspan\\u003e\",\"2020-02-04\",\"From \\u003cb\\u003eFeb-04-2020\\u003c\\u002fb\\u003e to \\u003cb\\u003eFeb-04-2020\\u003c\\u002fb\\u003e\",0.3624],[\"\\u003cb\\u003eMAPE\\u003c\\u002fb\\u003e\",\"\\u003cb style=\\\"color:#00c8e5;line-height:60px\\\"\\u003eAnalysis\\u003c\\u002fb\\u003e\",\"\\u003cspan style=\\\"color:#AD0000\\\"\\u003e\\u26a0 \\u003cb\\u003eDrift detected\\u003c\\u002fb\\u003e\\u003c\\u002fspan\\u003e\",\"2020-02-05\",\"From \\u003cb\\u003eFeb-05-2020\\u003c\\u002fb\\u003e to \\u003cb\\u003eFeb-05-2020\\u003c\\u002fb\\u003e\",0.3309],[\"\\u003cb\\u003eMAPE\\u003c\\u002fb\\u003e\",\"\\u003cb style=\\\"color:#00c8e5;line-height:60px\\\"\\u003eAnalysis\\u003c\\u002fb\\u003e\",\"\\u003cspan style=\\\"color:#AD0000\\\"\\u003e\\u26a0 \\u003cb\\u003eDrift detected\\u003c\\u002fb\\u003e\\u003c\\u002fspan\\u003e\",\"2020-02-06\",\"From \\u003cb\\u003eFeb-06-2020\\u003c\\u002fb\\u003e to \\u003cb\\u003eFeb-06-2020\\u003c\\u002fb\\u003e\",0.2459],[\"\\u003cb\\u003eMAPE\\u003c\\u002fb\\u003e\",\"\\u003cb style=\\\"color:#00c8e5;line-height:60px\\\"\\u003eAnalysis\\u003c\\u002fb\\u003e\",\"\\u003cspan style=\\\"color:#AD0000\\\"\\u003e\\u26a0 \\u003cb\\u003eDrift detected\\u003c\\u002fb\\u003e\\u003c\\u002fspan\\u003e\",\"2020-02-07\",\"From \\u003cb\\u003eFeb-07-2020\\u003c\\u002fb\\u003e to \\u003cb\\u003eFeb-07-2020\\u003c\\u002fb\\u003e\",0.2972],[\"\\u003cb\\u003eMAPE\\u003c\\u002fb\\u003e\",\"\\u003cb style=\\\"color:#00c8e5;line-height:60px\\\"\\u003eAnalysis\\u003c\\u002fb\\u003e\",\"\",\"2020-02-08\",\"From \\u003cb\\u003eFeb-08-2020\\u003c\\u002fb\\u003e to \\u003cb\\u003eFeb-08-2020\\u003c\\u002fb\\u003e\",0.2158],[\"\\u003cb\\u003eMAPE\\u003c\\u002fb\\u003e\",\"\\u003cb style=\\\"color:#00c8e5;line-height:60px\\\"\\u003eAnalysis\\u003c\\u002fb\\u003e\",\"\\u003cspan style=\\\"color:#AD0000\\\"\\u003e\\u26a0 \\u003cb\\u003eDrift detected\\u003c\\u002fb\\u003e\\u003c\\u002fspan\\u003e\",\"2020-02-09\",\"From \\u003cb\\u003eFeb-09-2020\\u003c\\u002fb\\u003e to \\u003cb\\u003eFeb-09-2020\\u003c\\u002fb\\u003e\",0.4382],[\"\\u003cb\\u003eMAPE\\u003c\\u002fb\\u003e\",\"\\u003cb style=\\\"color:#00c8e5;line-height:60px\\\"\\u003eAnalysis\\u003c\\u002fb\\u003e\",\"\\u003cspan style=\\\"color:#AD0000\\\"\\u003e\\u26a0 \\u003cb\\u003eDrift detected\\u003c\\u002fb\\u003e\\u003c\\u002fspan\\u003e\",\"2020-02-10\",\"From \\u003cb\\u003eFeb-10-2020\\u003c\\u002fb\\u003e to \\u003cb\\u003eFeb-10-2020\\u003c\\u002fb\\u003e\",0.5084],[\"\\u003cb\\u003eMAPE\\u003c\\u002fb\\u003e\",\"\\u003cb style=\\\"color:#00c8e5;line-height:60px\\\"\\u003eAnalysis\\u003c\\u002fb\\u003e\",\"\\u003cspan style=\\\"color:#AD0000\\\"\\u003e\\u26a0 \\u003cb\\u003eDrift detected\\u003c\\u002fb\\u003e\\u003c\\u002fspan\\u003e\",\"2020-02-11\",\"From \\u003cb\\u003eFeb-11-2020\\u003c\\u002fb\\u003e to \\u003cb\\u003eFeb-11-2020\\u003c\\u002fb\\u003e\",0.3962],[\"\\u003cb\\u003eMAPE\\u003c\\u002fb\\u003e\",\"\\u003cb style=\\\"color:#00c8e5;line-height:60px\\\"\\u003eAnalysis\\u003c\\u002fb\\u003e\",\"\\u003cspan style=\\\"color:#AD0000\\\"\\u003e\\u26a0 \\u003cb\\u003eDrift detected\\u003c\\u002fb\\u003e\\u003c\\u002fspan\\u003e\",\"2020-02-12\",\"From \\u003cb\\u003eFeb-12-2020\\u003c\\u002fb\\u003e to \\u003cb\\u003eFeb-12-2020\\u003c\\u002fb\\u003e\",0.5705],[\"\\u003cb\\u003eMAPE\\u003c\\u002fb\\u003e\",\"\\u003cb style=\\\"color:#00c8e5;line-height:60px\\\"\\u003eAnalysis\\u003c\\u002fb\\u003e\",\"\\u003cspan style=\\\"color:#AD0000\\\"\\u003e\\u26a0 \\u003cb\\u003eDrift detected\\u003c\\u002fb\\u003e\\u003c\\u002fspan\\u003e\",\"2020-02-13\",\"From \\u003cb\\u003eFeb-13-2020\\u003c\\u002fb\\u003e to \\u003cb\\u003eFeb-13-2020\\u003c\\u002fb\\u003e\",0.4673],[\"\\u003cb\\u003eMAPE\\u003c\\u002fb\\u003e\",\"\\u003cb style=\\\"color:#00c8e5;line-height:60px\\\"\\u003eAnalysis\\u003c\\u002fb\\u003e\",\"\\u003cspan style=\\\"color:#AD0000\\\"\\u003e\\u26a0 \\u003cb\\u003eDrift detected\\u003c\\u002fb\\u003e\\u003c\\u002fspan\\u003e\",\"2020-02-14\",\"From \\u003cb\\u003eFeb-14-2020\\u003c\\u002fb\\u003e to \\u003cb\\u003eFeb-14-2020\\u003c\\u002fb\\u003e\",0.426],[\"\\u003cb\\u003eMAPE\\u003c\\u002fb\\u003e\",\"\\u003cb style=\\\"color:#00c8e5;line-height:60px\\\"\\u003eAnalysis\\u003c\\u002fb\\u003e\",\"\\u003cspan style=\\\"color:#AD0000\\\"\\u003e\\u26a0 \\u003cb\\u003eDrift detected\\u003c\\u002fb\\u003e\\u003c\\u002fspan\\u003e\",\"2020-02-15\",\"From \\u003cb\\u003eFeb-15-2020\\u003c\\u002fb\\u003e to \\u003cb\\u003eFeb-15-2020\\u003c\\u002fb\\u003e\",0.2387],[\"\\u003cb\\u003eMAPE\\u003c\\u002fb\\u003e\",\"\\u003cb style=\\\"color:#00c8e5;line-height:60px\\\"\\u003eAnalysis\\u003c\\u002fb\\u003e\",\"\\u003cspan style=\\\"color:#AD0000\\\"\\u003e\\u26a0 \\u003cb\\u003eDrift detected\\u003c\\u002fb\\u003e\\u003c\\u002fspan\\u003e\",\"2020-02-16\",\"From \\u003cb\\u003eFeb-16-2020\\u003c\\u002fb\\u003e to \\u003cb\\u003eFeb-16-2020\\u003c\\u002fb\\u003e\",0.4465],[\"\\u003cb\\u003eMAPE\\u003c\\u002fb\\u003e\",\"\\u003cb style=\\\"color:#00c8e5;line-height:60px\\\"\\u003eAnalysis\\u003c\\u002fb\\u003e\",\"\\u003cspan style=\\\"color:#AD0000\\\"\\u003e\\u26a0 \\u003cb\\u003eDrift detected\\u003c\\u002fb\\u003e\\u003c\\u002fspan\\u003e\",\"2020-02-17\",\"From \\u003cb\\u003eFeb-17-2020\\u003c\\u002fb\\u003e to \\u003cb\\u003eFeb-17-2020\\u003c\\u002fb\\u003e\",0.4889],[\"\\u003cb\\u003eMAPE\\u003c\\u002fb\\u003e\",\"\\u003cb style=\\\"color:#00c8e5;line-height:60px\\\"\\u003eAnalysis\\u003c\\u002fb\\u003e\",\"\\u003cspan style=\\\"color:#AD0000\\\"\\u003e\\u26a0 \\u003cb\\u003eDrift detected\\u003c\\u002fb\\u003e\\u003c\\u002fspan\\u003e\",\"2020-02-18\",\"From \\u003cb\\u003eFeb-18-2020\\u003c\\u002fb\\u003e to \\u003cb\\u003eFeb-18-2020\\u003c\\u002fb\\u003e\",0.4008],[\"\\u003cb\\u003eMAPE\\u003c\\u002fb\\u003e\",\"\\u003cb style=\\\"color:#00c8e5;line-height:60px\\\"\\u003eAnalysis\\u003c\\u002fb\\u003e\",\"\",\"2020-02-19\",\"From \\u003cb\\u003eFeb-19-2020\\u003c\\u002fb\\u003e to \\u003cb\\u003eFeb-19-2020\\u003c\\u002fb\\u003e\",0.1767],[\"\\u003cb\\u003eMAPE\\u003c\\u002fb\\u003e\",\"\\u003cb style=\\\"color:#00c8e5;line-height:60px\\\"\\u003eAnalysis\\u003c\\u002fb\\u003e\",\"\",\"2020-02-20\",\"From \\u003cb\\u003eFeb-20-2020\\u003c\\u002fb\\u003e to \\u003cb\\u003eFeb-20-2020\\u003c\\u002fb\\u003e\",0.1519],[\"\\u003cb\\u003eMAPE\\u003c\\u002fb\\u003e\",\"\\u003cb style=\\\"color:#00c8e5;line-height:60px\\\"\\u003eAnalysis\\u003c\\u002fb\\u003e\",\"\",\"2020-02-21\",\"From \\u003cb\\u003eFeb-21-2020\\u003c\\u002fb\\u003e to \\u003cb\\u003eFeb-21-2020\\u003c\\u002fb\\u003e\",0.1824],[\"\\u003cb\\u003eMAPE\\u003c\\u002fb\\u003e\",\"\\u003cb style=\\\"color:#00c8e5;line-height:60px\\\"\\u003eAnalysis\\u003c\\u002fb\\u003e\",\"\",\"2020-02-22\",\"From \\u003cb\\u003eFeb-22-2020\\u003c\\u002fb\\u003e to \\u003cb\\u003eFeb-22-2020\\u003c\\u002fb\\u003e\",0.1186],[\"\\u003cb\\u003eMAPE\\u003c\\u002fb\\u003e\",\"\\u003cb style=\\\"color:#00c8e5;line-height:60px\\\"\\u003eAnalysis\\u003c\\u002fb\\u003e\",\"\",\"2020-02-23\",\"From \\u003cb\\u003eFeb-23-2020\\u003c\\u002fb\\u003e to \\u003cb\\u003eFeb-23-2020\\u003c\\u002fb\\u003e\",0.1627],[\"\\u003cb\\u003eMAPE\\u003c\\u002fb\\u003e\",\"\\u003cb style=\\\"color:#00c8e5;line-height:60px\\\"\\u003eAnalysis\\u003c\\u002fb\\u003e\",\"\\u003cspan style=\\\"color:#AD0000\\\"\\u003e\\u26a0 \\u003cb\\u003eDrift detected\\u003c\\u002fb\\u003e\\u003c\\u002fspan\\u003e\",\"2020-02-24\",\"From \\u003cb\\u003eFeb-24-2020\\u003c\\u002fb\\u003e to \\u003cb\\u003eFeb-24-2020\\u003c\\u002fb\\u003e\",0.3055],[\"\\u003cb\\u003eMAPE\\u003c\\u002fb\\u003e\",\"\\u003cb style=\\\"color:#00c8e5;line-height:60px\\\"\\u003eAnalysis\\u003c\\u002fb\\u003e\",\"\\u003cspan style=\\\"color:#AD0000\\\"\\u003e\\u26a0 \\u003cb\\u003eDrift detected\\u003c\\u002fb\\u003e\\u003c\\u002fspan\\u003e\",\"2020-02-25\",\"From \\u003cb\\u003eFeb-25-2020\\u003c\\u002fb\\u003e to \\u003cb\\u003eFeb-25-2020\\u003c\\u002fb\\u003e\",0.2406],[\"\\u003cb\\u003eMAPE\\u003c\\u002fb\\u003e\",\"\\u003cb style=\\\"color:#00c8e5;line-height:60px\\\"\\u003eAnalysis\\u003c\\u002fb\\u003e\",\"\\u003cspan style=\\\"color:#AD0000\\\"\\u003e\\u26a0 \\u003cb\\u003eDrift detected\\u003c\\u002fb\\u003e\\u003c\\u002fspan\\u003e\",\"2020-02-26\",\"From \\u003cb\\u003eFeb-26-2020\\u003c\\u002fb\\u003e to \\u003cb\\u003eFeb-26-2020\\u003c\\u002fb\\u003e\",0.2696],[\"\\u003cb\\u003eMAPE\\u003c\\u002fb\\u003e\",\"\\u003cb style=\\\"color:#00c8e5;line-height:60px\\\"\\u003eAnalysis\\u003c\\u002fb\\u003e\",\"\\u003cspan style=\\\"color:#AD0000\\\"\\u003e\\u26a0 \\u003cb\\u003eDrift detected\\u003c\\u002fb\\u003e\\u003c\\u002fspan\\u003e\",\"2020-02-27\",\"From \\u003cb\\u003eFeb-27-2020\\u003c\\u002fb\\u003e to \\u003cb\\u003eFeb-27-2020\\u003c\\u002fb\\u003e\",0.2924],[\"\\u003cb\\u003eMAPE\\u003c\\u002fb\\u003e\",\"\\u003cb style=\\\"color:#00c8e5;line-height:60px\\\"\\u003eAnalysis\\u003c\\u002fb\\u003e\",\"\\u003cspan style=\\\"color:#AD0000\\\"\\u003e\\u26a0 \\u003cb\\u003eDrift detected\\u003c\\u002fb\\u003e\\u003c\\u002fspan\\u003e\",\"2020-02-28\",\"From \\u003cb\\u003eFeb-28-2020\\u003c\\u002fb\\u003e to \\u003cb\\u003eFeb-28-2020\\u003c\\u002fb\\u003e\",0.2627],[\"\\u003cb\\u003eMAPE\\u003c\\u002fb\\u003e\",\"\\u003cb style=\\\"color:#00c8e5;line-height:60px\\\"\\u003eAnalysis\\u003c\\u002fb\\u003e\",\"\\u003cspan style=\\\"color:#AD0000\\\"\\u003e\\u26a0 \\u003cb\\u003eDrift detected\\u003c\\u002fb\\u003e\\u003c\\u002fspan\\u003e\",\"2020-02-29\",\"From \\u003cb\\u003eFeb-29-2020\\u003c\\u002fb\\u003e to \\u003cb\\u003eFeb-29-2020\\u003c\\u002fb\\u003e\",0.2631],[\"\\u003cb\\u003eMAPE\\u003c\\u002fb\\u003e\",\"\\u003cb style=\\\"color:#00c8e5;line-height:60px\\\"\\u003eAnalysis\\u003c\\u002fb\\u003e\",\"\",\"2020-03-01\",\"From \\u003cb\\u003eMar-01-2020\\u003c\\u002fb\\u003e to \\u003cb\\u003eMar-01-2020\\u003c\\u002fb\\u003e\",0.1572],[\"\\u003cb\\u003eMAPE\\u003c\\u002fb\\u003e\",\"\\u003cb style=\\\"color:#00c8e5;line-height:60px\\\"\\u003eAnalysis\\u003c\\u002fb\\u003e\",\"\\u003cspan style=\\\"color:#AD0000\\\"\\u003e\\u26a0 \\u003cb\\u003eDrift detected\\u003c\\u002fb\\u003e\\u003c\\u002fspan\\u003e\",\"2020-03-02\",\"From \\u003cb\\u003eMar-02-2020\\u003c\\u002fb\\u003e to \\u003cb\\u003eMar-02-2020\\u003c\\u002fb\\u003e\",0.3942],[\"\\u003cb\\u003eMAPE\\u003c\\u002fb\\u003e\",\"\\u003cb style=\\\"color:#00c8e5;line-height:60px\\\"\\u003eAnalysis\\u003c\\u002fb\\u003e\",\"\\u003cspan style=\\\"color:#AD0000\\\"\\u003e\\u26a0 \\u003cb\\u003eDrift detected\\u003c\\u002fb\\u003e\\u003c\\u002fspan\\u003e\",\"2020-03-03\",\"From \\u003cb\\u003eMar-03-2020\\u003c\\u002fb\\u003e to \\u003cb\\u003eMar-03-2020\\u003c\\u002fb\\u003e\",0.2547],[\"\\u003cb\\u003eMAPE\\u003c\\u002fb\\u003e\",\"\\u003cb style=\\\"color:#00c8e5;line-height:60px\\\"\\u003eAnalysis\\u003c\\u002fb\\u003e\",\"\",\"2020-03-04\",\"From \\u003cb\\u003eMar-04-2020\\u003c\\u002fb\\u003e to \\u003cb\\u003eMar-04-2020\\u003c\\u002fb\\u003e\",0.2038],[\"\\u003cb\\u003eMAPE\\u003c\\u002fb\\u003e\",\"\\u003cb style=\\\"color:#00c8e5;line-height:60px\\\"\\u003eAnalysis\\u003c\\u002fb\\u003e\",\"\\u003cspan style=\\\"color:#AD0000\\\"\\u003e\\u26a0 \\u003cb\\u003eDrift detected\\u003c\\u002fb\\u003e\\u003c\\u002fspan\\u003e\",\"2020-03-05\",\"From \\u003cb\\u003eMar-05-2020\\u003c\\u002fb\\u003e to \\u003cb\\u003eMar-05-2020\\u003c\\u002fb\\u003e\",0.3898],[\"\\u003cb\\u003eMAPE\\u003c\\u002fb\\u003e\",\"\\u003cb style=\\\"color:#00c8e5;line-height:60px\\\"\\u003eAnalysis\\u003c\\u002fb\\u003e\",\"\\u003cspan style=\\\"color:#AD0000\\\"\\u003e\\u26a0 \\u003cb\\u003eDrift detected\\u003c\\u002fb\\u003e\\u003c\\u002fspan\\u003e\",\"2020-03-06\",\"From \\u003cb\\u003eMar-06-2020\\u003c\\u002fb\\u003e to \\u003cb\\u003eMar-06-2020\\u003c\\u002fb\\u003e\",0.2885],[\"\\u003cb\\u003eMAPE\\u003c\\u002fb\\u003e\",\"\\u003cb style=\\\"color:#00c8e5;line-height:60px\\\"\\u003eAnalysis\\u003c\\u002fb\\u003e\",\"\",\"2020-03-07\",\"From \\u003cb\\u003eMar-07-2020\\u003c\\u002fb\\u003e to \\u003cb\\u003eMar-07-2020\\u003c\\u002fb\\u003e\",0.1952],[\"\\u003cb\\u003eMAPE\\u003c\\u002fb\\u003e\",\"\\u003cb style=\\\"color:#00c8e5;line-height:60px\\\"\\u003eAnalysis\\u003c\\u002fb\\u003e\",\"\\u003cspan style=\\\"color:#AD0000\\\"\\u003e\\u26a0 \\u003cb\\u003eDrift detected\\u003c\\u002fb\\u003e\\u003c\\u002fspan\\u003e\",\"2020-03-08\",\"From \\u003cb\\u003eMar-08-2020\\u003c\\u002fb\\u003e to \\u003cb\\u003eMar-08-2020\\u003c\\u002fb\\u003e\",0.292],[\"\\u003cb\\u003eMAPE\\u003c\\u002fb\\u003e\",\"\\u003cb style=\\\"color:#00c8e5;line-height:60px\\\"\\u003eAnalysis\\u003c\\u002fb\\u003e\",\"\\u003cspan style=\\\"color:#AD0000\\\"\\u003e\\u26a0 \\u003cb\\u003eDrift detected\\u003c\\u002fb\\u003e\\u003c\\u002fspan\\u003e\",\"2020-03-09\",\"From \\u003cb\\u003eMar-09-2020\\u003c\\u002fb\\u003e to \\u003cb\\u003eMar-09-2020\\u003c\\u002fb\\u003e\",0.2423],[\"\\u003cb\\u003eMAPE\\u003c\\u002fb\\u003e\",\"\\u003cb style=\\\"color:#00c8e5;line-height:60px\\\"\\u003eAnalysis\\u003c\\u002fb\\u003e\",\"\\u003cspan style=\\\"color:#AD0000\\\"\\u003e\\u26a0 \\u003cb\\u003eDrift detected\\u003c\\u002fb\\u003e\\u003c\\u002fspan\\u003e\",\"2020-03-10\",\"From \\u003cb\\u003eMar-10-2020\\u003c\\u002fb\\u003e to \\u003cb\\u003eMar-10-2020\\u003c\\u002fb\\u003e\",0.2528],[\"\\u003cb\\u003eMAPE\\u003c\\u002fb\\u003e\",\"\\u003cb style=\\\"color:#00c8e5;line-height:60px\\\"\\u003eAnalysis\\u003c\\u002fb\\u003e\",\"\\u003cspan style=\\\"color:#AD0000\\\"\\u003e\\u26a0 \\u003cb\\u003eDrift detected\\u003c\\u002fb\\u003e\\u003c\\u002fspan\\u003e\",\"2020-03-11\",\"From \\u003cb\\u003eMar-11-2020\\u003c\\u002fb\\u003e to \\u003cb\\u003eMar-11-2020\\u003c\\u002fb\\u003e\",0.2851],[\"\\u003cb\\u003eMAPE\\u003c\\u002fb\\u003e\",\"\\u003cb style=\\\"color:#00c8e5;line-height:60px\\\"\\u003eAnalysis\\u003c\\u002fb\\u003e\",\"\",\"2020-03-12\",\"From \\u003cb\\u003eMar-12-2020\\u003c\\u002fb\\u003e to \\u003cb\\u003eMar-12-2020\\u003c\\u002fb\\u003e\",0.2021],[\"\\u003cb\\u003eMAPE\\u003c\\u002fb\\u003e\",\"\\u003cb style=\\\"color:#00c8e5;line-height:60px\\\"\\u003eAnalysis\\u003c\\u002fb\\u003e\",\"\\u003cspan style=\\\"color:#AD0000\\\"\\u003e\\u26a0 \\u003cb\\u003eDrift detected\\u003c\\u002fb\\u003e\\u003c\\u002fspan\\u003e\",\"2020-03-13\",\"From \\u003cb\\u003eMar-13-2020\\u003c\\u002fb\\u003e to \\u003cb\\u003eMar-13-2020\\u003c\\u002fb\\u003e\",0.2374],[\"\\u003cb\\u003eMAPE\\u003c\\u002fb\\u003e\",\"\\u003cb style=\\\"color:#00c8e5;line-height:60px\\\"\\u003eAnalysis\\u003c\\u002fb\\u003e\",\"\\u003cspan style=\\\"color:#AD0000\\\"\\u003e\\u26a0 \\u003cb\\u003eDrift detected\\u003c\\u002fb\\u003e\\u003c\\u002fspan\\u003e\",\"2020-03-14\",\"From \\u003cb\\u003eMar-14-2020\\u003c\\u002fb\\u003e to \\u003cb\\u003eMar-14-2020\\u003c\\u002fb\\u003e\",0.2916],[\"\\u003cb\\u003eMAPE\\u003c\\u002fb\\u003e\",\"\\u003cb style=\\\"color:#00c8e5;line-height:60px\\\"\\u003eAnalysis\\u003c\\u002fb\\u003e\",\"\\u003cspan style=\\\"color:#AD0000\\\"\\u003e\\u26a0 \\u003cb\\u003eDrift detected\\u003c\\u002fb\\u003e\\u003c\\u002fspan\\u003e\",\"2020-03-15\",\"From \\u003cb\\u003eMar-15-2020\\u003c\\u002fb\\u003e to \\u003cb\\u003eMar-15-2020\\u003c\\u002fb\\u003e\",0.3233],[\"\\u003cb\\u003eMAPE\\u003c\\u002fb\\u003e\",\"\\u003cb style=\\\"color:#00c8e5;line-height:60px\\\"\\u003eAnalysis\\u003c\\u002fb\\u003e\",\"\\u003cspan style=\\\"color:#AD0000\\\"\\u003e\\u26a0 \\u003cb\\u003eDrift detected\\u003c\\u002fb\\u003e\\u003c\\u002fspan\\u003e\",\"2020-03-16\",\"From \\u003cb\\u003eMar-16-2020\\u003c\\u002fb\\u003e to \\u003cb\\u003eMar-16-2020\\u003c\\u002fb\\u003e\",0.2637],[\"\\u003cb\\u003eMAPE\\u003c\\u002fb\\u003e\",\"\\u003cb style=\\\"color:#00c8e5;line-height:60px\\\"\\u003eAnalysis\\u003c\\u002fb\\u003e\",\"\\u003cspan style=\\\"color:#AD0000\\\"\\u003e\\u26a0 \\u003cb\\u003eDrift detected\\u003c\\u002fb\\u003e\\u003c\\u002fspan\\u003e\",\"2020-03-17\",\"From \\u003cb\\u003eMar-17-2020\\u003c\\u002fb\\u003e to \\u003cb\\u003eMar-17-2020\\u003c\\u002fb\\u003e\",0.2386],[\"\\u003cb\\u003eMAPE\\u003c\\u002fb\\u003e\",\"\\u003cb style=\\\"color:#00c8e5;line-height:60px\\\"\\u003eAnalysis\\u003c\\u002fb\\u003e\",\"\\u003cspan style=\\\"color:#AD0000\\\"\\u003e\\u26a0 \\u003cb\\u003eDrift detected\\u003c\\u002fb\\u003e\\u003c\\u002fspan\\u003e\",\"2020-03-18\",\"From \\u003cb\\u003eMar-18-2020\\u003c\\u002fb\\u003e to \\u003cb\\u003eMar-18-2020\\u003c\\u002fb\\u003e\",0.2764],[\"\\u003cb\\u003eMAPE\\u003c\\u002fb\\u003e\",\"\\u003cb style=\\\"color:#00c8e5;line-height:60px\\\"\\u003eAnalysis\\u003c\\u002fb\\u003e\",\"\",\"2020-03-19\",\"From \\u003cb\\u003eMar-19-2020\\u003c\\u002fb\\u003e to \\u003cb\\u003eMar-19-2020\\u003c\\u002fb\\u003e\",0.2274],[\"\\u003cb\\u003eMAPE\\u003c\\u002fb\\u003e\",\"\\u003cb style=\\\"color:#00c8e5;line-height:60px\\\"\\u003eAnalysis\\u003c\\u002fb\\u003e\",\"\\u003cspan style=\\\"color:#AD0000\\\"\\u003e\\u26a0 \\u003cb\\u003eDrift detected\\u003c\\u002fb\\u003e\\u003c\\u002fspan\\u003e\",\"2020-03-20\",\"From \\u003cb\\u003eMar-20-2020\\u003c\\u002fb\\u003e to \\u003cb\\u003eMar-20-2020\\u003c\\u002fb\\u003e\",0.2619],[\"\\u003cb\\u003eMAPE\\u003c\\u002fb\\u003e\",\"\\u003cb style=\\\"color:#00c8e5;line-height:60px\\\"\\u003eAnalysis\\u003c\\u002fb\\u003e\",\"\\u003cspan style=\\\"color:#AD0000\\\"\\u003e\\u26a0 \\u003cb\\u003eDrift detected\\u003c\\u002fb\\u003e\\u003c\\u002fspan\\u003e\",\"2020-03-21\",\"From \\u003cb\\u003eMar-21-2020\\u003c\\u002fb\\u003e to \\u003cb\\u003eMar-21-2020\\u003c\\u002fb\\u003e\",0.2366],[\"\\u003cb\\u003eMAPE\\u003c\\u002fb\\u003e\",\"\\u003cb style=\\\"color:#00c8e5;line-height:60px\\\"\\u003eAnalysis\\u003c\\u002fb\\u003e\",\"\",\"2020-03-22\",\"From \\u003cb\\u003eMar-22-2020\\u003c\\u002fb\\u003e to \\u003cb\\u003eMar-22-2020\\u003c\\u002fb\\u003e\",0.1581],[\"\\u003cb\\u003eMAPE\\u003c\\u002fb\\u003e\",\"\\u003cb style=\\\"color:#00c8e5;line-height:60px\\\"\\u003eAnalysis\\u003c\\u002fb\\u003e\",\"\",\"2020-03-23\",\"From \\u003cb\\u003eMar-23-2020\\u003c\\u002fb\\u003e to \\u003cb\\u003eMar-23-2020\\u003c\\u002fb\\u003e\",0.1073],[\"\\u003cb\\u003eMAPE\\u003c\\u002fb\\u003e\",\"\\u003cb style=\\\"color:#00c8e5;line-height:60px\\\"\\u003eAnalysis\\u003c\\u002fb\\u003e\",\"\\u003cspan style=\\\"color:#AD0000\\\"\\u003e\\u26a0 \\u003cb\\u003eDrift detected\\u003c\\u002fb\\u003e\\u003c\\u002fspan\\u003e\",\"2020-03-24\",\"From \\u003cb\\u003eMar-24-2020\\u003c\\u002fb\\u003e to \\u003cb\\u003eMar-24-2020\\u003c\\u002fb\\u003e\",0.2346],[\"\\u003cb\\u003eMAPE\\u003c\\u002fb\\u003e\",\"\\u003cb style=\\\"color:#00c8e5;line-height:60px\\\"\\u003eAnalysis\\u003c\\u002fb\\u003e\",\"\\u003cspan style=\\\"color:#AD0000\\\"\\u003e\\u26a0 \\u003cb\\u003eDrift detected\\u003c\\u002fb\\u003e\\u003c\\u002fspan\\u003e\",\"2020-03-25\",\"From \\u003cb\\u003eMar-25-2020\\u003c\\u002fb\\u003e to \\u003cb\\u003eMar-25-2020\\u003c\\u002fb\\u003e\",0.271],[\"\\u003cb\\u003eMAPE\\u003c\\u002fb\\u003e\",\"\\u003cb style=\\\"color:#00c8e5;line-height:60px\\\"\\u003eAnalysis\\u003c\\u002fb\\u003e\",\"\",\"2020-03-26\",\"From \\u003cb\\u003eMar-26-2020\\u003c\\u002fb\\u003e to \\u003cb\\u003eMar-26-2020\\u003c\\u002fb\\u003e\",0.1681],[\"\\u003cb\\u003eMAPE\\u003c\\u002fb\\u003e\",\"\\u003cb style=\\\"color:#00c8e5;line-height:60px\\\"\\u003eAnalysis\\u003c\\u002fb\\u003e\",\"\\u003cspan style=\\\"color:#AD0000\\\"\\u003e\\u26a0 \\u003cb\\u003eDrift detected\\u003c\\u002fb\\u003e\\u003c\\u002fspan\\u003e\",\"2020-03-27\",\"From \\u003cb\\u003eMar-27-2020\\u003c\\u002fb\\u003e to \\u003cb\\u003eMar-27-2020\\u003c\\u002fb\\u003e\",0.268],[\"\\u003cb\\u003eMAPE\\u003c\\u002fb\\u003e\",\"\\u003cb style=\\\"color:#00c8e5;line-height:60px\\\"\\u003eAnalysis\\u003c\\u002fb\\u003e\",\"\",\"2020-03-28\",\"From \\u003cb\\u003eMar-28-2020\\u003c\\u002fb\\u003e to \\u003cb\\u003eMar-28-2020\\u003c\\u002fb\\u003e\",0.2033],[\"\\u003cb\\u003eMAPE\\u003c\\u002fb\\u003e\",\"\\u003cb style=\\\"color:#00c8e5;line-height:60px\\\"\\u003eAnalysis\\u003c\\u002fb\\u003e\",\"\",\"2020-03-29\",\"From \\u003cb\\u003eMar-29-2020\\u003c\\u002fb\\u003e to \\u003cb\\u003eMar-29-2020\\u003c\\u002fb\\u003e\",0.228],[\"\\u003cb\\u003eMAPE\\u003c\\u002fb\\u003e\",\"\\u003cb style=\\\"color:#00c8e5;line-height:60px\\\"\\u003eAnalysis\\u003c\\u002fb\\u003e\",\"\",\"2020-03-30\",\"From \\u003cb\\u003eMar-30-2020\\u003c\\u002fb\\u003e to \\u003cb\\u003eMar-30-2020\\u003c\\u002fb\\u003e\",0.2197],[\"\\u003cb\\u003eMAPE\\u003c\\u002fb\\u003e\",\"\\u003cb style=\\\"color:#00c8e5;line-height:60px\\\"\\u003eAnalysis\\u003c\\u002fb\\u003e\",\"\",\"2020-03-31\",\"From \\u003cb\\u003eMar-31-2020\\u003c\\u002fb\\u003e to \\u003cb\\u003eMar-31-2020\\u003c\\u002fb\\u003e\",0.2057],[\"\\u003cb\\u003eMAPE\\u003c\\u002fb\\u003e\",\"\\u003cb style=\\\"color:#00c8e5;line-height:60px\\\"\\u003eAnalysis\\u003c\\u002fb\\u003e\",\"\",\"2020-04-01\",\"From \\u003cb\\u003eApr-01-2020\\u003c\\u002fb\\u003e to \\u003cb\\u003eApr-01-2020\\u003c\\u002fb\\u003e\",0.1871],[\"\\u003cb\\u003eMAPE\\u003c\\u002fb\\u003e\",\"\\u003cb style=\\\"color:#00c8e5;line-height:60px\\\"\\u003eAnalysis\\u003c\\u002fb\\u003e\",\"\\u003cspan style=\\\"color:#AD0000\\\"\\u003e\\u26a0 \\u003cb\\u003eDrift detected\\u003c\\u002fb\\u003e\\u003c\\u002fspan\\u003e\",\"2020-04-02\",\"From \\u003cb\\u003eApr-02-2020\\u003c\\u002fb\\u003e to \\u003cb\\u003eApr-02-2020\\u003c\\u002fb\\u003e\",0.2871],[\"\\u003cb\\u003eMAPE\\u003c\\u002fb\\u003e\",\"\\u003cb style=\\\"color:#00c8e5;line-height:60px\\\"\\u003eAnalysis\\u003c\\u002fb\\u003e\",\"\",\"2020-04-03\",\"From \\u003cb\\u003eApr-03-2020\\u003c\\u002fb\\u003e to \\u003cb\\u003eApr-03-2020\\u003c\\u002fb\\u003e\",0.1723],[\"\\u003cb\\u003eMAPE\\u003c\\u002fb\\u003e\",\"\\u003cb style=\\\"color:#00c8e5;line-height:60px\\\"\\u003eAnalysis\\u003c\\u002fb\\u003e\",\"\",\"2020-04-04\",\"From \\u003cb\\u003eApr-04-2020\\u003c\\u002fb\\u003e to \\u003cb\\u003eApr-04-2020\\u003c\\u002fb\\u003e\",0.2168],[\"\\u003cb\\u003eMAPE\\u003c\\u002fb\\u003e\",\"\\u003cb style=\\\"color:#00c8e5;line-height:60px\\\"\\u003eAnalysis\\u003c\\u002fb\\u003e\",\"\\u003cspan style=\\\"color:#AD0000\\\"\\u003e\\u26a0 \\u003cb\\u003eDrift detected\\u003c\\u002fb\\u003e\\u003c\\u002fspan\\u003e\",\"2020-04-05\",\"From \\u003cb\\u003eApr-05-2020\\u003c\\u002fb\\u003e to \\u003cb\\u003eApr-05-2020\\u003c\\u002fb\\u003e\",0.6924],[\"\\u003cb\\u003eMAPE\\u003c\\u002fb\\u003e\",\"\\u003cb style=\\\"color:#00c8e5;line-height:60px\\\"\\u003eAnalysis\\u003c\\u002fb\\u003e\",\"\",\"2020-04-06\",\"From \\u003cb\\u003eApr-06-2020\\u003c\\u002fb\\u003e to \\u003cb\\u003eApr-06-2020\\u003c\\u002fb\\u003e\",0.1291],[\"\\u003cb\\u003eMAPE\\u003c\\u002fb\\u003e\",\"\\u003cb style=\\\"color:#00c8e5;line-height:60px\\\"\\u003eAnalysis\\u003c\\u002fb\\u003e\",\"\",\"2020-04-07\",\"From \\u003cb\\u003eApr-07-2020\\u003c\\u002fb\\u003e to \\u003cb\\u003eApr-07-2020\\u003c\\u002fb\\u003e\",0.2157],[\"\\u003cb\\u003eMAPE\\u003c\\u002fb\\u003e\",\"\\u003cb style=\\\"color:#00c8e5;line-height:60px\\\"\\u003eAnalysis\\u003c\\u002fb\\u003e\",\"\",\"2020-04-08\",\"From \\u003cb\\u003eApr-08-2020\\u003c\\u002fb\\u003e to \\u003cb\\u003eApr-08-2020\\u003c\\u002fb\\u003e\",0.184],[\"\\u003cb\\u003eMAPE\\u003c\\u002fb\\u003e\",\"\\u003cb style=\\\"color:#00c8e5;line-height:60px\\\"\\u003eAnalysis\\u003c\\u002fb\\u003e\",\"\",\"2020-04-09\",\"From \\u003cb\\u003eApr-09-2020\\u003c\\u002fb\\u003e to \\u003cb\\u003eApr-09-2020\\u003c\\u002fb\\u003e\",0.1225],[\"\\u003cb\\u003eMAPE\\u003c\\u002fb\\u003e\",\"\\u003cb style=\\\"color:#00c8e5;line-height:60px\\\"\\u003eAnalysis\\u003c\\u002fb\\u003e\",\"\",\"2020-04-10\",\"From \\u003cb\\u003eApr-10-2020\\u003c\\u002fb\\u003e to \\u003cb\\u003eApr-10-2020\\u003c\\u002fb\\u003e\",0.1736],[\"\\u003cb\\u003eMAPE\\u003c\\u002fb\\u003e\",\"\\u003cb style=\\\"color:#00c8e5;line-height:60px\\\"\\u003eAnalysis\\u003c\\u002fb\\u003e\",\"\",\"2020-04-11\",\"From \\u003cb\\u003eApr-11-2020\\u003c\\u002fb\\u003e to \\u003cb\\u003eApr-11-2020\\u003c\\u002fb\\u003e\",0.1684],[\"\\u003cb\\u003eMAPE\\u003c\\u002fb\\u003e\",\"\\u003cb style=\\\"color:#00c8e5;line-height:60px\\\"\\u003eAnalysis\\u003c\\u002fb\\u003e\",\"\\u003cspan style=\\\"color:#AD0000\\\"\\u003e\\u26a0 \\u003cb\\u003eDrift detected\\u003c\\u002fb\\u003e\\u003c\\u002fspan\\u003e\",\"2020-04-12\",\"From \\u003cb\\u003eApr-12-2020\\u003c\\u002fb\\u003e to \\u003cb\\u003eApr-12-2020\\u003c\\u002fb\\u003e\",0.2361],[\"\\u003cb\\u003eMAPE\\u003c\\u002fb\\u003e\",\"\\u003cb style=\\\"color:#00c8e5;line-height:60px\\\"\\u003eAnalysis\\u003c\\u002fb\\u003e\",\"\\u003cspan style=\\\"color:#AD0000\\\"\\u003e\\u26a0 \\u003cb\\u003eDrift detected\\u003c\\u002fb\\u003e\\u003c\\u002fspan\\u003e\",\"2020-04-13\",\"From \\u003cb\\u003eApr-13-2020\\u003c\\u002fb\\u003e to \\u003cb\\u003eApr-13-2020\\u003c\\u002fb\\u003e\",0.2556],[\"\\u003cb\\u003eMAPE\\u003c\\u002fb\\u003e\",\"\\u003cb style=\\\"color:#00c8e5;line-height:60px\\\"\\u003eAnalysis\\u003c\\u002fb\\u003e\",\"\",\"2020-04-14\",\"From \\u003cb\\u003eApr-14-2020\\u003c\\u002fb\\u003e to \\u003cb\\u003eApr-14-2020\\u003c\\u002fb\\u003e\",0.1547],[\"\\u003cb\\u003eMAPE\\u003c\\u002fb\\u003e\",\"\\u003cb style=\\\"color:#00c8e5;line-height:60px\\\"\\u003eAnalysis\\u003c\\u002fb\\u003e\",\"\",\"2020-04-15\",\"From \\u003cb\\u003eApr-15-2020\\u003c\\u002fb\\u003e to \\u003cb\\u003eApr-15-2020\\u003c\\u002fb\\u003e\",0.2148],[\"\\u003cb\\u003eMAPE\\u003c\\u002fb\\u003e\",\"\\u003cb style=\\\"color:#00c8e5;line-height:60px\\\"\\u003eAnalysis\\u003c\\u002fb\\u003e\",\"\",\"2020-04-16\",\"From \\u003cb\\u003eApr-16-2020\\u003c\\u002fb\\u003e to \\u003cb\\u003eApr-16-2020\\u003c\\u002fb\\u003e\",0.2026],[\"\\u003cb\\u003eMAPE\\u003c\\u002fb\\u003e\",\"\\u003cb style=\\\"color:#00c8e5;line-height:60px\\\"\\u003eAnalysis\\u003c\\u002fb\\u003e\",\"\",\"2020-04-17\",\"From \\u003cb\\u003eApr-17-2020\\u003c\\u002fb\\u003e to \\u003cb\\u003eApr-17-2020\\u003c\\u002fb\\u003e\",0.1923],[\"\\u003cb\\u003eMAPE\\u003c\\u002fb\\u003e\",\"\\u003cb style=\\\"color:#00c8e5;line-height:60px\\\"\\u003eAnalysis\\u003c\\u002fb\\u003e\",\"\\u003cspan style=\\\"color:#AD0000\\\"\\u003e\\u26a0 \\u003cb\\u003eDrift detected\\u003c\\u002fb\\u003e\\u003c\\u002fspan\\u003e\",\"2020-04-18\",\"From \\u003cb\\u003eApr-18-2020\\u003c\\u002fb\\u003e to \\u003cb\\u003eApr-18-2020\\u003c\\u002fb\\u003e\",0.2421],[\"\\u003cb\\u003eMAPE\\u003c\\u002fb\\u003e\",\"\\u003cb style=\\\"color:#00c8e5;line-height:60px\\\"\\u003eAnalysis\\u003c\\u002fb\\u003e\",\"\",\"2020-04-19\",\"From \\u003cb\\u003eApr-19-2020\\u003c\\u002fb\\u003e to \\u003cb\\u003eApr-19-2020\\u003c\\u002fb\\u003e\",0.2022],[\"\\u003cb\\u003eMAPE\\u003c\\u002fb\\u003e\",\"\\u003cb style=\\\"color:#00c8e5;line-height:60px\\\"\\u003eAnalysis\\u003c\\u002fb\\u003e\",\"\",\"2020-04-20\",\"From \\u003cb\\u003eApr-20-2020\\u003c\\u002fb\\u003e to \\u003cb\\u003eApr-20-2020\\u003c\\u002fb\\u003e\",0.1834],[\"\\u003cb\\u003eMAPE\\u003c\\u002fb\\u003e\",\"\\u003cb style=\\\"color:#00c8e5;line-height:60px\\\"\\u003eAnalysis\\u003c\\u002fb\\u003e\",\"\",\"2020-04-21\",\"From \\u003cb\\u003eApr-21-2020\\u003c\\u002fb\\u003e to \\u003cb\\u003eApr-21-2020\\u003c\\u002fb\\u003e\",0.201],[\"\\u003cb\\u003eMAPE\\u003c\\u002fb\\u003e\",\"\\u003cb style=\\\"color:#00c8e5;line-height:60px\\\"\\u003eAnalysis\\u003c\\u002fb\\u003e\",\"\",\"2020-04-22\",\"From \\u003cb\\u003eApr-22-2020\\u003c\\u002fb\\u003e to \\u003cb\\u003eApr-22-2020\\u003c\\u002fb\\u003e\",0.176],[\"\\u003cb\\u003eMAPE\\u003c\\u002fb\\u003e\",\"\\u003cb style=\\\"color:#00c8e5;line-height:60px\\\"\\u003eAnalysis\\u003c\\u002fb\\u003e\",\"\",\"2020-04-23\",\"From \\u003cb\\u003eApr-23-2020\\u003c\\u002fb\\u003e to \\u003cb\\u003eApr-23-2020\\u003c\\u002fb\\u003e\",0.1217],[\"\\u003cb\\u003eMAPE\\u003c\\u002fb\\u003e\",\"\\u003cb style=\\\"color:#00c8e5;line-height:60px\\\"\\u003eAnalysis\\u003c\\u002fb\\u003e\",\"\",\"2020-04-24\",\"From \\u003cb\\u003eApr-24-2020\\u003c\\u002fb\\u003e to \\u003cb\\u003eApr-24-2020\\u003c\\u002fb\\u003e\",0.1925],[\"\\u003cb\\u003eMAPE\\u003c\\u002fb\\u003e\",\"\\u003cb style=\\\"color:#00c8e5;line-height:60px\\\"\\u003eAnalysis\\u003c\\u002fb\\u003e\",\"\",\"2020-04-25\",\"From \\u003cb\\u003eApr-25-2020\\u003c\\u002fb\\u003e to \\u003cb\\u003eApr-25-2020\\u003c\\u002fb\\u003e\",0.1736],[\"\\u003cb\\u003eMAPE\\u003c\\u002fb\\u003e\",\"\\u003cb style=\\\"color:#00c8e5;line-height:60px\\\"\\u003eAnalysis\\u003c\\u002fb\\u003e\",\"\\u003cspan style=\\\"color:#AD0000\\\"\\u003e\\u26a0 \\u003cb\\u003eDrift detected\\u003c\\u002fb\\u003e\\u003c\\u002fspan\\u003e\",\"2020-04-26\",\"From \\u003cb\\u003eApr-26-2020\\u003c\\u002fb\\u003e to \\u003cb\\u003eApr-26-2020\\u003c\\u002fb\\u003e\",0.2968],[\"\\u003cb\\u003eMAPE\\u003c\\u002fb\\u003e\",\"\\u003cb style=\\\"color:#00c8e5;line-height:60px\\\"\\u003eAnalysis\\u003c\\u002fb\\u003e\",\"\\u003cspan style=\\\"color:#AD0000\\\"\\u003e\\u26a0 \\u003cb\\u003eDrift detected\\u003c\\u002fb\\u003e\\u003c\\u002fspan\\u003e\",\"2020-04-27\",\"From \\u003cb\\u003eApr-27-2020\\u003c\\u002fb\\u003e to \\u003cb\\u003eApr-27-2020\\u003c\\u002fb\\u003e\",0.2328]],\"hovertemplate\":\"%{customdata[1]} &nbsp; &nbsp; %{customdata[2]} \\u003cbr \\u002f\\u003eChunk: \\u003cb\\u003e%{customdata[3]}\\u003c\\u002fb\\u003e &nbsp; &nbsp; %{customdata[4]} \\u003cbr \\u002f\\u003e%{customdata[0]}: \\u003cb\\u003e%{customdata[5]}\\u003c\\u002fb\\u003e\\u003cbr \\u002f\\u003e\\u003cextra\\u003e\\u003c\\u002fextra\\u003e\",\"marker\":{\"color\":\"#00c8e5\",\"size\":5,\"symbol\":\"circle\"},\"mode\":\"markers\",\"name\":\"\\u003cb\\u003eMAPE\\u003c\\u002fb\\u003e (realized MAPE)\",\"showlegend\":false,\"x\":[\"2019-12-24T12:00:00\",\"2019-12-25T12:00:00\",\"2019-12-26T12:00:00\",\"2019-12-27T12:00:00\",\"2019-12-28T12:00:00\",\"2019-12-29T12:00:00\",\"2019-12-30T12:00:00\",\"2019-12-31T12:00:00\",\"2020-01-01T12:00:00\",\"2020-01-02T12:00:00\",\"2020-01-03T12:00:00\",\"2020-01-04T12:00:00\",\"2020-01-05T12:00:00\",\"2020-01-06T12:00:00\",\"2020-01-07T12:00:00\",\"2020-01-08T12:00:00\",\"2020-01-09T12:00:00\",\"2020-01-10T12:00:00\",\"2020-01-11T12:00:00\",\"2020-01-12T12:00:00\",\"2020-01-13T12:00:00\",\"2020-01-14T12:00:00\",\"2020-01-15T12:00:00\",\"2020-01-16T12:00:00\",\"2020-01-17T12:00:00\",\"2020-01-18T12:00:00\",\"2020-01-19T12:00:00\",\"2020-01-20T12:00:00\",\"2020-01-21T12:00:00\",\"2020-01-22T12:00:00\",\"2020-01-23T12:00:00\",\"2020-01-24T12:00:00\",\"2020-01-25T12:00:00\",\"2020-01-26T12:00:00\",\"2020-01-27T12:00:00\",\"2020-01-28T12:00:00\",\"2020-01-29T12:00:00\",\"2020-01-30T12:00:00\",\"2020-01-31T12:00:00\",\"2020-02-01T12:00:00\",\"2020-02-02T12:00:00\",\"2020-02-03T12:00:00\",\"2020-02-04T12:00:00\",\"2020-02-05T12:00:00\",\"2020-02-06T12:00:00\",\"2020-02-07T12:00:00\",\"2020-02-08T12:00:00\",\"2020-02-09T12:00:00\",\"2020-02-10T12:00:00\",\"2020-02-11T12:00:00\",\"2020-02-12T12:00:00\",\"2020-02-13T12:00:00\",\"2020-02-14T12:00:00\",\"2020-02-15T12:00:00\",\"2020-02-16T12:00:00\",\"2020-02-17T12:00:00\",\"2020-02-18T12:00:00\",\"2020-02-19T12:00:00\",\"2020-02-20T12:00:00\",\"2020-02-21T12:00:00\",\"2020-02-22T12:00:00\",\"2020-02-23T12:00:00\",\"2020-02-24T12:00:00\",\"2020-02-25T12:00:00\",\"2020-02-26T12:00:00\",\"2020-02-27T12:00:00\",\"2020-02-28T12:00:00\",\"2020-02-29T12:00:00\",\"2020-03-01T12:00:00\",\"2020-03-02T12:00:00\",\"2020-03-03T12:00:00\",\"2020-03-04T12:00:00\",\"2020-03-05T12:00:00\",\"2020-03-06T12:00:00\",\"2020-03-07T12:00:00\",\"2020-03-08T12:00:00\",\"2020-03-09T12:00:00\",\"2020-03-10T12:00:00\",\"2020-03-11T12:00:00\",\"2020-03-12T12:00:00\",\"2020-03-13T12:00:00\",\"2020-03-14T12:00:00\",\"2020-03-15T12:00:00\",\"2020-03-16T12:00:00\",\"2020-03-17T12:00:00\",\"2020-03-18T12:00:00\",\"2020-03-19T12:00:00\",\"2020-03-20T12:00:00\",\"2020-03-21T12:00:00\",\"2020-03-22T12:00:00\",\"2020-03-23T12:00:00\",\"2020-03-24T12:00:00\",\"2020-03-25T12:00:00\",\"2020-03-26T12:00:00\",\"2020-03-27T12:00:00\",\"2020-03-28T12:00:00\",\"2020-03-29T12:00:00\",\"2020-03-30T12:00:00\",\"2020-03-31T12:00:00\",\"2020-04-01T12:00:00\",\"2020-04-02T12:00:00\",\"2020-04-03T12:00:00\",\"2020-04-04T12:00:00\",\"2020-04-05T12:00:00\",\"2020-04-06T12:00:00\",\"2020-04-07T12:00:00\",\"2020-04-08T12:00:00\",\"2020-04-09T12:00:00\",\"2020-04-10T12:00:00\",\"2020-04-11T12:00:00\",\"2020-04-12T12:00:00\",\"2020-04-13T12:00:00\",\"2020-04-14T12:00:00\",\"2020-04-15T12:00:00\",\"2020-04-16T12:00:00\",\"2020-04-17T12:00:00\",\"2020-04-18T12:00:00\",\"2020-04-19T12:00:00\",\"2020-04-20T12:00:00\",\"2020-04-21T12:00:00\",\"2020-04-22T12:00:00\",\"2020-04-23T12:00:00\",\"2020-04-24T12:00:00\",\"2020-04-25T12:00:00\",\"2020-04-26T12:00:00\",\"2020-04-27T11:59:59.999999999\"],\"xaxis\":\"x\",\"y\":[0.33741113024233244,0.34481582389118187,0.26938783034173236,0.28967528975817325,0.13819151170035635,0.30251764595042446,0.3039419769888281,0.4260483496617245,0.4107754343641214,0.45854149864054944,0.39357932615438473,0.29043825131876805,0.27767737212047927,0.27374433033033285,0.3171341362603628,0.24397675998214777,0.22122595609710036,0.23132385753113796,0.3318179309146739,0.22480507452695653,0.2468265025568089,0.21407916319208098,0.30284825270260657,0.43092799763492456,0.30192583192446604,0.36183410687862905,0.27761631780992535,0.387733883268276,0.32716151078174033,0.31088841661490446,0.31721878457485286,0.3087368744836899,0.299758800695946,0.25171892152615777,0.304728180529736,0.36878369977657827,0.5051550375267506,0.36863774209846123,0.4242104818701022,0.32181806476396957,0.3145787719652388,0.3475953627071151,0.3623567969237879,0.3309414341596179,0.2459238097834533,0.297214990153653,0.21576053482727722,0.43815297881149645,0.5084111719931378,0.39617064466519963,0.5705239572531963,0.4672996968915956,0.4260354315669675,0.2387357451026423,0.4464897025609031,0.48894849040183774,0.4007607643225526,0.17673308889784578,0.15190153841408816,0.1824408117288019,0.11862615012252102,0.1627366250009496,0.30548941055408424,0.24056525636732093,0.2695576088245671,0.29239022471539233,0.26269632937458814,0.2630932774309826,0.15716148637489766,0.39423380848848194,0.2547055305427454,0.20383411580735433,0.3897585753322139,0.28850669930560374,0.19520550465860578,0.29200952479303455,0.2423151348127861,0.2527611809170314,0.2851366286537761,0.2021495233277447,0.2374427540071914,0.29158968747402353,0.32328301544724997,0.26368386931745486,0.23856001948063985,0.27637549014127466,0.2273933920655703,0.2619328716190488,0.2365801758414945,0.15807982990025926,0.1073461424863394,0.23455250806143166,0.2710466930785249,0.16814878423060386,0.26804522308628137,0.20327467530728774,0.22803542801332877,0.21965517801422899,0.20568208738285987,0.18710624465687062,0.28713972711075936,0.17229005532783925,0.21681373428384676,0.6924223004002564,0.12909693997949373,0.21574848004846695,0.18400146896152977,0.12250043481727456,0.1735818686852432,0.16837169633847657,0.2360665830513564,0.25564312211363904,0.15466171630500947,0.2148137260548708,0.20257343640496286,0.19225552940848645,0.24206564865167243,0.20223629378239547,0.18338611435816507,0.20103832381668738,0.17596280730873395,0.12167972110091752,0.19249789163776374,0.17357890386860234,0.29679644147242434,0.23279595884775944,0.23279595884775944],\"yaxis\":\"y\",\"type\":\"scatter\"},{\"hoverinfo\":\"skip\",\"legendgroup\":\"alert\",\"marker\":{\"color\":\"#DD4040\",\"size\":8,\"symbol\":\"diamond\"},\"mode\":\"markers\",\"name\":\"Alert\",\"showlegend\":true,\"x\":[\"2020-02-19T12:00:00\",\"2020-02-20T12:00:00\",\"2020-02-22T12:00:00\",\"2020-02-23T12:00:00\",\"2020-02-24T12:00:00\",\"2020-02-25T12:00:00\",\"2020-04-02T12:00:00\",\"2020-04-03T12:00:00\",\"2020-04-04T12:00:00\"],\"xaxis\":\"x\",\"y\":[0.2770632162584378,0.2574752590526653,0.24851694085330892,0.26425938393172316,0.2320249766674888,0.23249200674215853,0.24451688046997952,0.27568855308321605,0.24246733474714036],\"yaxis\":\"y\",\"type\":\"scatter\"},{\"hoverinfo\":\"skip\",\"legendgroup\":\"alert\",\"marker\":{\"color\":\"#DD4040\",\"size\":8,\"symbol\":\"diamond\"},\"mode\":\"markers\",\"name\":\"Alert\",\"showlegend\":false,\"x\":[\"2019-12-24T12:00:00\",\"2019-12-25T12:00:00\",\"2019-12-26T12:00:00\",\"2019-12-27T12:00:00\",\"2019-12-29T12:00:00\",\"2019-12-30T12:00:00\",\"2019-12-31T12:00:00\",\"2020-01-01T12:00:00\",\"2020-01-02T12:00:00\",\"2020-01-03T12:00:00\",\"2020-01-04T12:00:00\",\"2020-01-05T12:00:00\",\"2020-01-06T12:00:00\",\"2020-01-07T12:00:00\",\"2020-01-08T12:00:00\",\"2020-01-10T12:00:00\",\"2020-01-11T12:00:00\",\"2020-01-13T12:00:00\",\"2020-01-15T12:00:00\",\"2020-01-16T12:00:00\",\"2020-01-17T12:00:00\",\"2020-01-18T12:00:00\",\"2020-01-19T12:00:00\",\"2020-01-20T12:00:00\",\"2020-01-21T12:00:00\",\"2020-01-22T12:00:00\",\"2020-01-23T12:00:00\",\"2020-01-24T12:00:00\",\"2020-01-25T12:00:00\",\"2020-01-26T12:00:00\",\"2020-01-27T12:00:00\",\"2020-01-28T12:00:00\",\"2020-01-29T12:00:00\",\"2020-01-30T12:00:00\",\"2020-01-31T12:00:00\",\"2020-02-01T12:00:00\",\"2020-02-02T12:00:00\",\"2020-02-03T12:00:00\",\"2020-02-04T12:00:00\",\"2020-02-05T12:00:00\",\"2020-02-06T12:00:00\",\"2020-02-07T12:00:00\",\"2020-02-09T12:00:00\",\"2020-02-10T12:00:00\",\"2020-02-11T12:00:00\",\"2020-02-12T12:00:00\",\"2020-02-13T12:00:00\",\"2020-02-14T12:00:00\",\"2020-02-15T12:00:00\",\"2020-02-16T12:00:00\",\"2020-02-17T12:00:00\",\"2020-02-18T12:00:00\",\"2020-02-24T12:00:00\",\"2020-02-25T12:00:00\",\"2020-02-26T12:00:00\",\"2020-02-27T12:00:00\",\"2020-02-28T12:00:00\",\"2020-02-29T12:00:00\",\"2020-03-02T12:00:00\",\"2020-03-03T12:00:00\",\"2020-03-05T12:00:00\",\"2020-03-06T12:00:00\",\"2020-03-08T12:00:00\",\"2020-03-09T12:00:00\",\"2020-03-10T12:00:00\",\"2020-03-11T12:00:00\",\"2020-03-13T12:00:00\",\"2020-03-14T12:00:00\",\"2020-03-15T12:00:00\",\"2020-03-16T12:00:00\",\"2020-03-17T12:00:00\",\"2020-03-18T12:00:00\",\"2020-03-20T12:00:00\",\"2020-03-21T12:00:00\",\"2020-03-24T12:00:00\",\"2020-03-25T12:00:00\",\"2020-03-27T12:00:00\",\"2020-04-02T12:00:00\",\"2020-04-05T12:00:00\",\"2020-04-12T12:00:00\",\"2020-04-13T12:00:00\",\"2020-04-18T12:00:00\",\"2020-04-26T12:00:00\",\"2020-04-27T11:59:59.999999999\"],\"xaxis\":\"x\",\"y\":[0.33741113024233244,0.34481582389118187,0.26938783034173236,0.28967528975817325,0.30251764595042446,0.3039419769888281,0.4260483496617245,0.4107754343641214,0.45854149864054944,0.39357932615438473,0.29043825131876805,0.27767737212047927,0.27374433033033285,0.3171341362603628,0.24397675998214777,0.23132385753113796,0.3318179309146739,0.2468265025568089,0.30284825270260657,0.43092799763492456,0.30192583192446604,0.36183410687862905,0.27761631780992535,0.387733883268276,0.32716151078174033,0.31088841661490446,0.31721878457485286,0.3087368744836899,0.299758800695946,0.25171892152615777,0.304728180529736,0.36878369977657827,0.5051550375267506,0.36863774209846123,0.4242104818701022,0.32181806476396957,0.3145787719652388,0.3475953627071151,0.3623567969237879,0.3309414341596179,0.2459238097834533,0.297214990153653,0.43815297881149645,0.5084111719931378,0.39617064466519963,0.5705239572531963,0.4672996968915956,0.4260354315669675,0.2387357451026423,0.4464897025609031,0.48894849040183774,0.4007607643225526,0.30548941055408424,0.24056525636732093,0.2695576088245671,0.29239022471539233,0.26269632937458814,0.2630932774309826,0.39423380848848194,0.2547055305427454,0.3897585753322139,0.28850669930560374,0.29200952479303455,0.2423151348127861,0.2527611809170314,0.2851366286537761,0.2374427540071914,0.29158968747402353,0.32328301544724997,0.26368386931745486,0.23856001948063985,0.27637549014127466,0.2619328716190488,0.2365801758414945,0.23455250806143166,0.2710466930785249,0.26804522308628137,0.28713972711075936,0.6924223004002564,0.2360665830513564,0.25564312211363904,0.24206564865167243,0.29679644147242434,0.23279595884775944],\"yaxis\":\"y\",\"type\":\"scatter\"}],                        {\"height\":500.0,\"hoverlabel\":{\"bgcolor\":\"white\",\"font\":{\"size\":14}},\"legend\":{\"itemclick\":false,\"itemdoubleclick\":false,\"traceorder\":\"grouped\"},\"paper_bgcolor\":\"rgba(255,255,255,1)\",\"plot_bgcolor\":\"rgba(255,255,255,1)\",\"title\":{\"text\":\"\\u003cb\\u003eEstimated performance (DLE)\\u003c\\u002fb\\u003e vs. \\u003cb\\u003eRealized performance\\u003c\\u002fb\\u003e\"},\"xaxis\":{\"linecolor\":\"#3b0280\",\"mirror\":true,\"showgrid\":false,\"title\":{\"text\":\"Chunk\"},\"zeroline\":false,\"anchor\":\"y\",\"domain\":[0.0,0.94],\"matches\":\"x\"},\"yaxis\":{\"linecolor\":\"#3b0280\",\"mirror\":true,\"showgrid\":false,\"title\":{\"text\":\"\\u003cb\\u003eMAPE\\u003c\\u002fb\\u003e\"},\"zeroline\":false,\"anchor\":\"x\",\"domain\":[0.0,1.0]},\"template\":{\"data\":{\"histogram2dcontour\":[{\"type\":\"histogram2dcontour\",\"colorbar\":{\"outlinewidth\":0,\"ticks\":\"\"},\"colorscale\":[[0.0,\"#0d0887\"],[0.1111111111111111,\"#46039f\"],[0.2222222222222222,\"#7201a8\"],[0.3333333333333333,\"#9c179e\"],[0.4444444444444444,\"#bd3786\"],[0.5555555555555556,\"#d8576b\"],[0.6666666666666666,\"#ed7953\"],[0.7777777777777778,\"#fb9f3a\"],[0.8888888888888888,\"#fdca26\"],[1.0,\"#f0f921\"]]}],\"choropleth\":[{\"type\":\"choropleth\",\"colorbar\":{\"outlinewidth\":0,\"ticks\":\"\"}}],\"histogram2d\":[{\"type\":\"histogram2d\",\"colorbar\":{\"outlinewidth\":0,\"ticks\":\"\"},\"colorscale\":[[0.0,\"#0d0887\"],[0.1111111111111111,\"#46039f\"],[0.2222222222222222,\"#7201a8\"],[0.3333333333333333,\"#9c179e\"],[0.4444444444444444,\"#bd3786\"],[0.5555555555555556,\"#d8576b\"],[0.6666666666666666,\"#ed7953\"],[0.7777777777777778,\"#fb9f3a\"],[0.8888888888888888,\"#fdca26\"],[1.0,\"#f0f921\"]]}],\"heatmap\":[{\"type\":\"heatmap\",\"colorbar\":{\"outlinewidth\":0,\"ticks\":\"\"},\"colorscale\":[[0.0,\"#0d0887\"],[0.1111111111111111,\"#46039f\"],[0.2222222222222222,\"#7201a8\"],[0.3333333333333333,\"#9c179e\"],[0.4444444444444444,\"#bd3786\"],[0.5555555555555556,\"#d8576b\"],[0.6666666666666666,\"#ed7953\"],[0.7777777777777778,\"#fb9f3a\"],[0.8888888888888888,\"#fdca26\"],[1.0,\"#f0f921\"]]}],\"heatmapgl\":[{\"type\":\"heatmapgl\",\"colorbar\":{\"outlinewidth\":0,\"ticks\":\"\"},\"colorscale\":[[0.0,\"#0d0887\"],[0.1111111111111111,\"#46039f\"],[0.2222222222222222,\"#7201a8\"],[0.3333333333333333,\"#9c179e\"],[0.4444444444444444,\"#bd3786\"],[0.5555555555555556,\"#d8576b\"],[0.6666666666666666,\"#ed7953\"],[0.7777777777777778,\"#fb9f3a\"],[0.8888888888888888,\"#fdca26\"],[1.0,\"#f0f921\"]]}],\"contourcarpet\":[{\"type\":\"contourcarpet\",\"colorbar\":{\"outlinewidth\":0,\"ticks\":\"\"}}],\"contour\":[{\"type\":\"contour\",\"colorbar\":{\"outlinewidth\":0,\"ticks\":\"\"},\"colorscale\":[[0.0,\"#0d0887\"],[0.1111111111111111,\"#46039f\"],[0.2222222222222222,\"#7201a8\"],[0.3333333333333333,\"#9c179e\"],[0.4444444444444444,\"#bd3786\"],[0.5555555555555556,\"#d8576b\"],[0.6666666666666666,\"#ed7953\"],[0.7777777777777778,\"#fb9f3a\"],[0.8888888888888888,\"#fdca26\"],[1.0,\"#f0f921\"]]}],\"surface\":[{\"type\":\"surface\",\"colorbar\":{\"outlinewidth\":0,\"ticks\":\"\"},\"colorscale\":[[0.0,\"#0d0887\"],[0.1111111111111111,\"#46039f\"],[0.2222222222222222,\"#7201a8\"],[0.3333333333333333,\"#9c179e\"],[0.4444444444444444,\"#bd3786\"],[0.5555555555555556,\"#d8576b\"],[0.6666666666666666,\"#ed7953\"],[0.7777777777777778,\"#fb9f3a\"],[0.8888888888888888,\"#fdca26\"],[1.0,\"#f0f921\"]]}],\"mesh3d\":[{\"type\":\"mesh3d\",\"colorbar\":{\"outlinewidth\":0,\"ticks\":\"\"}}],\"scatter\":[{\"fillpattern\":{\"fillmode\":\"overlay\",\"size\":10,\"solidity\":0.2},\"type\":\"scatter\"}],\"parcoords\":[{\"type\":\"parcoords\",\"line\":{\"colorbar\":{\"outlinewidth\":0,\"ticks\":\"\"}}}],\"scatterpolargl\":[{\"type\":\"scatterpolargl\",\"marker\":{\"colorbar\":{\"outlinewidth\":0,\"ticks\":\"\"}}}],\"bar\":[{\"error_x\":{\"color\":\"#2a3f5f\"},\"error_y\":{\"color\":\"#2a3f5f\"},\"marker\":{\"line\":{\"color\":\"#E5ECF6\",\"width\":0.5},\"pattern\":{\"fillmode\":\"overlay\",\"size\":10,\"solidity\":0.2}},\"type\":\"bar\"}],\"scattergeo\":[{\"type\":\"scattergeo\",\"marker\":{\"colorbar\":{\"outlinewidth\":0,\"ticks\":\"\"}}}],\"scatterpolar\":[{\"type\":\"scatterpolar\",\"marker\":{\"colorbar\":{\"outlinewidth\":0,\"ticks\":\"\"}}}],\"histogram\":[{\"marker\":{\"pattern\":{\"fillmode\":\"overlay\",\"size\":10,\"solidity\":0.2}},\"type\":\"histogram\"}],\"scattergl\":[{\"type\":\"scattergl\",\"marker\":{\"colorbar\":{\"outlinewidth\":0,\"ticks\":\"\"}}}],\"scatter3d\":[{\"type\":\"scatter3d\",\"line\":{\"colorbar\":{\"outlinewidth\":0,\"ticks\":\"\"}},\"marker\":{\"colorbar\":{\"outlinewidth\":0,\"ticks\":\"\"}}}],\"scattermapbox\":[{\"type\":\"scattermapbox\",\"marker\":{\"colorbar\":{\"outlinewidth\":0,\"ticks\":\"\"}}}],\"scatterternary\":[{\"type\":\"scatterternary\",\"marker\":{\"colorbar\":{\"outlinewidth\":0,\"ticks\":\"\"}}}],\"scattercarpet\":[{\"type\":\"scattercarpet\",\"marker\":{\"colorbar\":{\"outlinewidth\":0,\"ticks\":\"\"}}}],\"carpet\":[{\"aaxis\":{\"endlinecolor\":\"#2a3f5f\",\"gridcolor\":\"white\",\"linecolor\":\"white\",\"minorgridcolor\":\"white\",\"startlinecolor\":\"#2a3f5f\"},\"baxis\":{\"endlinecolor\":\"#2a3f5f\",\"gridcolor\":\"white\",\"linecolor\":\"white\",\"minorgridcolor\":\"white\",\"startlinecolor\":\"#2a3f5f\"},\"type\":\"carpet\"}],\"table\":[{\"cells\":{\"fill\":{\"color\":\"#EBF0F8\"},\"line\":{\"color\":\"white\"}},\"header\":{\"fill\":{\"color\":\"#C8D4E3\"},\"line\":{\"color\":\"white\"}},\"type\":\"table\"}],\"barpolar\":[{\"marker\":{\"line\":{\"color\":\"#E5ECF6\",\"width\":0.5},\"pattern\":{\"fillmode\":\"overlay\",\"size\":10,\"solidity\":0.2}},\"type\":\"barpolar\"}],\"pie\":[{\"automargin\":true,\"type\":\"pie\"}]},\"layout\":{\"autotypenumbers\":\"strict\",\"colorway\":[\"#636efa\",\"#EF553B\",\"#00cc96\",\"#ab63fa\",\"#FFA15A\",\"#19d3f3\",\"#FF6692\",\"#B6E880\",\"#FF97FF\",\"#FECB52\"],\"font\":{\"color\":\"#2a3f5f\"},\"hovermode\":\"closest\",\"hoverlabel\":{\"align\":\"left\"},\"paper_bgcolor\":\"white\",\"plot_bgcolor\":\"#E5ECF6\",\"polar\":{\"bgcolor\":\"#E5ECF6\",\"angularaxis\":{\"gridcolor\":\"white\",\"linecolor\":\"white\",\"ticks\":\"\"},\"radialaxis\":{\"gridcolor\":\"white\",\"linecolor\":\"white\",\"ticks\":\"\"}},\"ternary\":{\"bgcolor\":\"#E5ECF6\",\"aaxis\":{\"gridcolor\":\"white\",\"linecolor\":\"white\",\"ticks\":\"\"},\"baxis\":{\"gridcolor\":\"white\",\"linecolor\":\"white\",\"ticks\":\"\"},\"caxis\":{\"gridcolor\":\"white\",\"linecolor\":\"white\",\"ticks\":\"\"}},\"coloraxis\":{\"colorbar\":{\"outlinewidth\":0,\"ticks\":\"\"}},\"colorscale\":{\"sequential\":[[0.0,\"#0d0887\"],[0.1111111111111111,\"#46039f\"],[0.2222222222222222,\"#7201a8\"],[0.3333333333333333,\"#9c179e\"],[0.4444444444444444,\"#bd3786\"],[0.5555555555555556,\"#d8576b\"],[0.6666666666666666,\"#ed7953\"],[0.7777777777777778,\"#fb9f3a\"],[0.8888888888888888,\"#fdca26\"],[1.0,\"#f0f921\"]],\"sequentialminus\":[[0.0,\"#0d0887\"],[0.1111111111111111,\"#46039f\"],[0.2222222222222222,\"#7201a8\"],[0.3333333333333333,\"#9c179e\"],[0.4444444444444444,\"#bd3786\"],[0.5555555555555556,\"#d8576b\"],[0.6666666666666666,\"#ed7953\"],[0.7777777777777778,\"#fb9f3a\"],[0.8888888888888888,\"#fdca26\"],[1.0,\"#f0f921\"]],\"diverging\":[[0,\"#8e0152\"],[0.1,\"#c51b7d\"],[0.2,\"#de77ae\"],[0.3,\"#f1b6da\"],[0.4,\"#fde0ef\"],[0.5,\"#f7f7f7\"],[0.6,\"#e6f5d0\"],[0.7,\"#b8e186\"],[0.8,\"#7fbc41\"],[0.9,\"#4d9221\"],[1,\"#276419\"]]},\"xaxis\":{\"gridcolor\":\"white\",\"linecolor\":\"white\",\"ticks\":\"\",\"title\":{\"standoff\":15},\"zerolinecolor\":\"white\",\"automargin\":true,\"zerolinewidth\":2},\"yaxis\":{\"gridcolor\":\"white\",\"linecolor\":\"white\",\"ticks\":\"\",\"title\":{\"standoff\":15},\"zerolinecolor\":\"white\",\"automargin\":true,\"zerolinewidth\":2},\"scene\":{\"xaxis\":{\"backgroundcolor\":\"#E5ECF6\",\"gridcolor\":\"white\",\"linecolor\":\"white\",\"showbackground\":true,\"ticks\":\"\",\"zerolinecolor\":\"white\",\"gridwidth\":2},\"yaxis\":{\"backgroundcolor\":\"#E5ECF6\",\"gridcolor\":\"white\",\"linecolor\":\"white\",\"showbackground\":true,\"ticks\":\"\",\"zerolinecolor\":\"white\",\"gridwidth\":2},\"zaxis\":{\"backgroundcolor\":\"#E5ECF6\",\"gridcolor\":\"white\",\"linecolor\":\"white\",\"showbackground\":true,\"ticks\":\"\",\"zerolinecolor\":\"white\",\"gridwidth\":2}},\"shapedefaults\":{\"line\":{\"color\":\"#2a3f5f\"}},\"annotationdefaults\":{\"arrowcolor\":\"#2a3f5f\",\"arrowhead\":0,\"arrowwidth\":1},\"geo\":{\"bgcolor\":\"white\",\"landcolor\":\"#E5ECF6\",\"subunitcolor\":\"white\",\"showland\":true,\"showlakes\":true,\"lakecolor\":\"white\"},\"title\":{\"x\":0.05},\"mapbox\":{\"style\":\"light\"}}},\"yaxis2\":{\"anchor\":\"x\",\"overlaying\":\"y\",\"side\":\"right\",\"title\":{\"text\":\"Comparison\"},\"linecolor\":\"#3b0280\",\"showgrid\":false,\"mirror\":true,\"zeroline\":false},\"annotations\":[{\"font\":{\"size\":16},\"showarrow\":false,\"text\":\"\\u003cb\\u003eMAPE\\u003c\\u002fb\\u003e (estimated MAPE) vs. \\u003cb\\u003eMAPE\\u003c\\u002fb\\u003e (realized MAPE)\",\"x\":0.47,\"xanchor\":\"center\",\"xref\":\"paper\",\"y\":1.0,\"yanchor\":\"bottom\",\"yref\":\"paper\"}]},                        {\"responsive\": true}                    ).then(function(){\n",
       "                            \n",
       "var gd = document.getElementById('bcb19bc3-1495-41be-8106-2c2499a53511');\n",
       "var x = new MutationObserver(function (mutations, observer) {{\n",
       "        var display = window.getComputedStyle(gd).display;\n",
       "        if (!display || display === 'none') {{\n",
       "            console.log([gd, 'removed!']);\n",
       "            Plotly.purge(gd);\n",
       "            observer.disconnect();\n",
       "        }}\n",
       "}});\n",
       "\n",
       "// Listen for the removal of the full notebook cells\n",
       "var notebookContainer = gd.closest('#notebook-container');\n",
       "if (notebookContainer) {{\n",
       "    x.observe(notebookContainer, {childList: true});\n",
       "}}\n",
       "\n",
       "// Listen for the clearing of the current output cell\n",
       "var outputEl = gd.closest('.output');\n",
       "if (outputEl) {{\n",
       "    x.observe(outputEl, {childList: true});\n",
       "}}\n",
       "\n",
       "                        })                };                });            </script>        </div>"
      ]
     },
     "metadata": {},
     "output_type": "display_data"
    }
   ],
   "source": [
    "pe_results.filter(period='analysis').compare(realized_results).plot().show()"
   ]
  },
  {
   "cell_type": "code",
   "execution_count": 29,
   "id": "c8ab514f",
   "metadata": {},
   "outputs": [
    {
     "data": {
      "text/plain": [
       "<nannyml.plots.blueprints.comparisons.ResultComparison at 0x7ff57c169ff0>"
      ]
     },
     "execution_count": 29,
     "metadata": {},
     "output_type": "execute_result"
    }
   ],
   "source": [
    "pe_results.filter(period='analysis').compare(realized_results)"
   ]
  },
  {
   "cell_type": "code",
   "execution_count": 42,
   "id": "e435bf05",
   "metadata": {},
   "outputs": [
    {
     "data": {
      "text/plain": [
       "True     84\n",
       "False    42\n",
       "Name: alert, dtype: int64"
      ]
     },
     "execution_count": 42,
     "metadata": {},
     "output_type": "execute_result"
    }
   ],
   "source": [
    "realized_results.filter(period='analysis').to_df()['mape']['alert'].value_counts()"
   ]
  },
  {
   "cell_type": "code",
   "execution_count": 40,
   "id": "9913f368",
   "metadata": {},
   "outputs": [],
   "source": [
    "pe_comparison = pe_results.filter(period='analysis').to_df()['mape']\n",
    "pe_comparison['estimated_alert'] = pe_comparison['alert']\n",
    "pe_comparison['realized_alert'] = np.where(pe_comparison['realized'] > pe_comparison['upper_threshold'], \n",
    "                                           True, False)"
   ]
  },
  {
   "cell_type": "code",
   "execution_count": 50,
   "id": "4248d073",
   "metadata": {},
   "outputs": [
    {
     "data": {
      "text/plain": [
       "3"
      ]
     },
     "execution_count": 50,
     "metadata": {},
     "output_type": "execute_result"
    }
   ],
   "source": [
    "true_alerts = pe_comparison[pe_comparison['realized_alert'] == True]\n",
    "\n",
    "sum(true_alerts['estimated_alert'] == true_alerts['realized_alert'])"
   ]
  },
  {
   "cell_type": "code",
   "execution_count": 51,
   "id": "6f3fef01",
   "metadata": {},
   "outputs": [
    {
     "data": {
      "text/html": [
       "<div>\n",
       "<style scoped>\n",
       "    .dataframe tbody tr th:only-of-type {\n",
       "        vertical-align: middle;\n",
       "    }\n",
       "\n",
       "    .dataframe tbody tr th {\n",
       "        vertical-align: top;\n",
       "    }\n",
       "\n",
       "    .dataframe thead th {\n",
       "        text-align: right;\n",
       "    }\n",
       "</style>\n",
       "<table border=\"1\" class=\"dataframe\">\n",
       "  <thead>\n",
       "    <tr style=\"text-align: right;\">\n",
       "      <th></th>\n",
       "      <th>sampling_error</th>\n",
       "      <th>realized</th>\n",
       "      <th>value</th>\n",
       "      <th>upper_confidence_boundary</th>\n",
       "      <th>lower_confidence_boundary</th>\n",
       "      <th>upper_threshold</th>\n",
       "      <th>lower_threshold</th>\n",
       "      <th>alert</th>\n",
       "      <th>estimated_alert</th>\n",
       "      <th>realized_alert</th>\n",
       "    </tr>\n",
       "  </thead>\n",
       "  <tbody>\n",
       "    <tr>\n",
       "      <th>0</th>\n",
       "      <td>0.034603</td>\n",
       "      <td>0.337411</td>\n",
       "      <td>0.149554</td>\n",
       "      <td>0.253363</td>\n",
       "      <td>0.045745</td>\n",
       "      <td>0.229802</td>\n",
       "      <td>0.0</td>\n",
       "      <td>False</td>\n",
       "      <td>False</td>\n",
       "      <td>True</td>\n",
       "    </tr>\n",
       "    <tr>\n",
       "      <th>1</th>\n",
       "      <td>0.031588</td>\n",
       "      <td>0.344816</td>\n",
       "      <td>0.135867</td>\n",
       "      <td>0.230630</td>\n",
       "      <td>0.041103</td>\n",
       "      <td>0.229802</td>\n",
       "      <td>0.0</td>\n",
       "      <td>False</td>\n",
       "      <td>False</td>\n",
       "      <td>True</td>\n",
       "    </tr>\n",
       "    <tr>\n",
       "      <th>2</th>\n",
       "      <td>0.031588</td>\n",
       "      <td>0.269388</td>\n",
       "      <td>0.131699</td>\n",
       "      <td>0.226463</td>\n",
       "      <td>0.036935</td>\n",
       "      <td>0.229802</td>\n",
       "      <td>0.0</td>\n",
       "      <td>False</td>\n",
       "      <td>False</td>\n",
       "      <td>True</td>\n",
       "    </tr>\n",
       "    <tr>\n",
       "      <th>3</th>\n",
       "      <td>0.031588</td>\n",
       "      <td>0.289675</td>\n",
       "      <td>0.136579</td>\n",
       "      <td>0.231343</td>\n",
       "      <td>0.041815</td>\n",
       "      <td>0.229802</td>\n",
       "      <td>0.0</td>\n",
       "      <td>False</td>\n",
       "      <td>False</td>\n",
       "      <td>True</td>\n",
       "    </tr>\n",
       "    <tr>\n",
       "      <th>5</th>\n",
       "      <td>0.031588</td>\n",
       "      <td>0.302518</td>\n",
       "      <td>0.119472</td>\n",
       "      <td>0.214236</td>\n",
       "      <td>0.024709</td>\n",
       "      <td>0.229802</td>\n",
       "      <td>0.0</td>\n",
       "      <td>False</td>\n",
       "      <td>False</td>\n",
       "      <td>True</td>\n",
       "    </tr>\n",
       "    <tr>\n",
       "      <th>...</th>\n",
       "      <td>...</td>\n",
       "      <td>...</td>\n",
       "      <td>...</td>\n",
       "      <td>...</td>\n",
       "      <td>...</td>\n",
       "      <td>...</td>\n",
       "      <td>...</td>\n",
       "      <td>...</td>\n",
       "      <td>...</td>\n",
       "      <td>...</td>\n",
       "    </tr>\n",
       "    <tr>\n",
       "      <th>110</th>\n",
       "      <td>0.031588</td>\n",
       "      <td>0.236067</td>\n",
       "      <td>0.163431</td>\n",
       "      <td>0.258195</td>\n",
       "      <td>0.068667</td>\n",
       "      <td>0.229802</td>\n",
       "      <td>0.0</td>\n",
       "      <td>False</td>\n",
       "      <td>False</td>\n",
       "      <td>True</td>\n",
       "    </tr>\n",
       "    <tr>\n",
       "      <th>111</th>\n",
       "      <td>0.031588</td>\n",
       "      <td>0.255643</td>\n",
       "      <td>0.147629</td>\n",
       "      <td>0.242392</td>\n",
       "      <td>0.052865</td>\n",
       "      <td>0.229802</td>\n",
       "      <td>0.0</td>\n",
       "      <td>False</td>\n",
       "      <td>False</td>\n",
       "      <td>True</td>\n",
       "    </tr>\n",
       "    <tr>\n",
       "      <th>116</th>\n",
       "      <td>0.031588</td>\n",
       "      <td>0.242066</td>\n",
       "      <td>0.134830</td>\n",
       "      <td>0.229594</td>\n",
       "      <td>0.040066</td>\n",
       "      <td>0.229802</td>\n",
       "      <td>0.0</td>\n",
       "      <td>False</td>\n",
       "      <td>False</td>\n",
       "      <td>True</td>\n",
       "    </tr>\n",
       "    <tr>\n",
       "      <th>124</th>\n",
       "      <td>0.031588</td>\n",
       "      <td>0.296796</td>\n",
       "      <td>0.142500</td>\n",
       "      <td>0.237264</td>\n",
       "      <td>0.047736</td>\n",
       "      <td>0.229802</td>\n",
       "      <td>0.0</td>\n",
       "      <td>False</td>\n",
       "      <td>False</td>\n",
       "      <td>True</td>\n",
       "    </tr>\n",
       "    <tr>\n",
       "      <th>125</th>\n",
       "      <td>0.077374</td>\n",
       "      <td>0.232796</td>\n",
       "      <td>0.098037</td>\n",
       "      <td>0.330159</td>\n",
       "      <td>0.000000</td>\n",
       "      <td>0.229802</td>\n",
       "      <td>0.0</td>\n",
       "      <td>False</td>\n",
       "      <td>False</td>\n",
       "      <td>True</td>\n",
       "    </tr>\n",
       "  </tbody>\n",
       "</table>\n",
       "<p>84 rows × 10 columns</p>\n",
       "</div>"
      ],
      "text/plain": [
       "     sampling_error  realized     value  upper_confidence_boundary  \\\n",
       "0          0.034603  0.337411  0.149554                   0.253363   \n",
       "1          0.031588  0.344816  0.135867                   0.230630   \n",
       "2          0.031588  0.269388  0.131699                   0.226463   \n",
       "3          0.031588  0.289675  0.136579                   0.231343   \n",
       "5          0.031588  0.302518  0.119472                   0.214236   \n",
       "..              ...       ...       ...                        ...   \n",
       "110        0.031588  0.236067  0.163431                   0.258195   \n",
       "111        0.031588  0.255643  0.147629                   0.242392   \n",
       "116        0.031588  0.242066  0.134830                   0.229594   \n",
       "124        0.031588  0.296796  0.142500                   0.237264   \n",
       "125        0.077374  0.232796  0.098037                   0.330159   \n",
       "\n",
       "     lower_confidence_boundary  upper_threshold  lower_threshold  alert  \\\n",
       "0                     0.045745         0.229802              0.0  False   \n",
       "1                     0.041103         0.229802              0.0  False   \n",
       "2                     0.036935         0.229802              0.0  False   \n",
       "3                     0.041815         0.229802              0.0  False   \n",
       "5                     0.024709         0.229802              0.0  False   \n",
       "..                         ...              ...              ...    ...   \n",
       "110                   0.068667         0.229802              0.0  False   \n",
       "111                   0.052865         0.229802              0.0  False   \n",
       "116                   0.040066         0.229802              0.0  False   \n",
       "124                   0.047736         0.229802              0.0  False   \n",
       "125                   0.000000         0.229802              0.0  False   \n",
       "\n",
       "     estimated_alert  realized_alert  \n",
       "0              False            True  \n",
       "1              False            True  \n",
       "2              False            True  \n",
       "3              False            True  \n",
       "5              False            True  \n",
       "..               ...             ...  \n",
       "110            False            True  \n",
       "111            False            True  \n",
       "116            False            True  \n",
       "124            False            True  \n",
       "125            False            True  \n",
       "\n",
       "[84 rows x 10 columns]"
      ]
     },
     "execution_count": 51,
     "metadata": {},
     "output_type": "execute_result"
    }
   ],
   "source": [
    "true_alerts"
   ]
  },
  {
   "cell_type": "markdown",
   "id": "2f1cfe7d",
   "metadata": {},
   "source": [
    "fit nannyml with more than the test set. Fit it with the test + data from test to before prod."
   ]
  }
 ],
 "metadata": {
  "kernelspec": {
   "display_name": "Python 3 (ipykernel)",
   "language": "python",
   "name": "python3"
  },
  "language_info": {
   "codemirror_mode": {
    "name": "ipython",
    "version": 3
   },
   "file_extension": ".py",
   "mimetype": "text/x-python",
   "name": "python",
   "nbconvert_exporter": "python",
   "pygments_lexer": "ipython3",
   "version": "3.10.8"
  }
 },
 "nbformat": 4,
 "nbformat_minor": 5
}
