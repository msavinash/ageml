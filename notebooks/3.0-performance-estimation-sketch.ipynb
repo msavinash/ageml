{
 "cells": [
  {
   "cell_type": "code",
   "execution_count": 127,
   "id": "42e09bac",
   "metadata": {},
   "outputs": [],
   "source": [
    "import numpy as np\n",
    "import pandas as pd\n",
    "import nannyml as nml\n",
    "from sklearn.datasets import fetch_california_housing"
   ]
  },
  {
   "cell_type": "code",
   "execution_count": 158,
   "id": "a2cc4d38",
   "metadata": {},
   "outputs": [],
   "source": [
    "def evaluate_nannyml(aging_df, metric, chunk_period):\n",
    "    simulation_ids = aging_df['simulation_id'].unique()\n",
    "    nml_data = aging_df.merge(data, left_index=True, right_index=True, how='left')\n",
    "\n",
    "    comparison_results = []\n",
    "    pe_results = {}\n",
    "    realized_results = {}\n",
    "    \n",
    "    for simulation_id in simulation_ids:\n",
    "        simulation_df = nml_data[nml_data['simulation_id'] == simulation_id]\n",
    "\n",
    "        # get original reference set\n",
    "        reference_df = simulation_df[simulation_df['partition'] == 'reference']\n",
    "\n",
    "        # get original prod set\n",
    "        analysis_df = simulation_df[simulation_df['partition'] == 'prod']\n",
    "\n",
    "        # fit DLE from NannyML\n",
    "        estimator = nml.DLE(\n",
    "            feature_column_names=data.columns.tolist(),\n",
    "            y_pred='y_pred',\n",
    "            y_true='y',\n",
    "            timestamp_column_name='timestamp',\n",
    "            metrics=[metric],\n",
    "            chunk_period=chunk_period,\n",
    "            tune_hyperparameters=False\n",
    "        )\n",
    "\n",
    "        estimator.fit(reference_df)\n",
    "        \n",
    "        # performance estimation results\n",
    "        pe_result = estimator.estimate(analysis_df)\n",
    "        \n",
    "        # performance calculculator results\n",
    "        calculator = nml.PerformanceCalculator(\n",
    "            y_pred='y_pred',\n",
    "            y_true='y',\n",
    "            timestamp_column_name='timestamp',\n",
    "            metrics=[metric],\n",
    "            chunk_period=chunk_period,\n",
    "            problem_type='regression'\n",
    "        ).fit(reference_df)\n",
    "        realized_result = calculator.calculate(analysis_df)\n",
    "\n",
    "        pe_results[simulation_id] = pe_result\n",
    "        realized_results[simulation_id] = realized_result\n",
    "        \n",
    "        comparison_result = pe_result.filter(period='analysis').to_df()[metric]\n",
    "        comparison_result['estimated_alert'] = comparison_result['alert']\n",
    "        comparison_result['realized_alert'] = np.where(comparison_result['realized'] > comparison_result['upper_threshold'], \n",
    "                                               True, False)\n",
    "\n",
    "        comparison_result['simulation_id'] = simulation_id        \n",
    "        comparison_results.append(comparison_result)\n",
    "    \n",
    "    \n",
    "    return pd.concat(comparison_results), pe_results, realized_results"
   ]
  },
  {
   "cell_type": "code",
   "execution_count": 186,
   "id": "3546632e",
   "metadata": {},
   "outputs": [],
   "source": [
    "# load original data\n",
    "data, target = fetch_california_housing(as_frame=True, return_X_y=True)\n",
    "timestamp = pd.date_range(start='1/1/2018', periods=len(data), freq='H')\n",
    "data.index = timestamp\n",
    "target.index = timestamp\n",
    "\n",
    "# load aging results\n",
    "aging_df = pd.read_parquet('../results/aging/cal_house/aging_cal_house_100_simulations_3000_prod.parquet')"
   ]
  },
  {
   "cell_type": "code",
   "execution_count": 187,
   "id": "7e28ea6e",
   "metadata": {},
   "outputs": [
    {
     "data": {
      "text/html": [
       "<div>\n",
       "<style scoped>\n",
       "    .dataframe tbody tr th:only-of-type {\n",
       "        vertical-align: middle;\n",
       "    }\n",
       "\n",
       "    .dataframe tbody tr th {\n",
       "        vertical-align: top;\n",
       "    }\n",
       "\n",
       "    .dataframe thead th {\n",
       "        text-align: right;\n",
       "    }\n",
       "</style>\n",
       "<table border=\"1\" class=\"dataframe\">\n",
       "  <thead>\n",
       "    <tr style=\"text-align: right;\">\n",
       "      <th></th>\n",
       "      <th>y</th>\n",
       "      <th>y_pred</th>\n",
       "      <th>partition</th>\n",
       "      <th>timestamp</th>\n",
       "      <th>model_age</th>\n",
       "      <th>is_model_valid</th>\n",
       "      <th>simulation_id</th>\n",
       "    </tr>\n",
       "  </thead>\n",
       "  <tbody>\n",
       "    <tr>\n",
       "      <th>2018-02-22 21:00:00</th>\n",
       "      <td>1.254</td>\n",
       "      <td>1.455663</td>\n",
       "      <td>train</td>\n",
       "      <td>2018-02-22 21:00:00</td>\n",
       "      <td>-313</td>\n",
       "      <td>True</td>\n",
       "      <td>0</td>\n",
       "    </tr>\n",
       "    <tr>\n",
       "      <th>2018-02-22 22:00:00</th>\n",
       "      <td>1.514</td>\n",
       "      <td>1.415912</td>\n",
       "      <td>train</td>\n",
       "      <td>2018-02-22 22:00:00</td>\n",
       "      <td>-313</td>\n",
       "      <td>True</td>\n",
       "      <td>0</td>\n",
       "    </tr>\n",
       "    <tr>\n",
       "      <th>2018-02-22 23:00:00</th>\n",
       "      <td>2.631</td>\n",
       "      <td>2.138654</td>\n",
       "      <td>train</td>\n",
       "      <td>2018-02-22 23:00:00</td>\n",
       "      <td>-313</td>\n",
       "      <td>True</td>\n",
       "      <td>0</td>\n",
       "    </tr>\n",
       "    <tr>\n",
       "      <th>2018-02-23 00:00:00</th>\n",
       "      <td>1.871</td>\n",
       "      <td>2.083668</td>\n",
       "      <td>train</td>\n",
       "      <td>2018-02-23 00:00:00</td>\n",
       "      <td>-313</td>\n",
       "      <td>True</td>\n",
       "      <td>0</td>\n",
       "    </tr>\n",
       "    <tr>\n",
       "      <th>2018-02-23 01:00:00</th>\n",
       "      <td>1.567</td>\n",
       "      <td>1.228171</td>\n",
       "      <td>train</td>\n",
       "      <td>2018-02-23 01:00:00</td>\n",
       "      <td>-313</td>\n",
       "      <td>True</td>\n",
       "      <td>0</td>\n",
       "    </tr>\n",
       "  </tbody>\n",
       "</table>\n",
       "</div>"
      ],
      "text/plain": [
       "                         y    y_pred partition           timestamp  model_age  \\\n",
       "2018-02-22 21:00:00  1.254  1.455663     train 2018-02-22 21:00:00       -313   \n",
       "2018-02-22 22:00:00  1.514  1.415912     train 2018-02-22 22:00:00       -313   \n",
       "2018-02-22 23:00:00  2.631  2.138654     train 2018-02-22 23:00:00       -313   \n",
       "2018-02-23 00:00:00  1.871  2.083668     train 2018-02-23 00:00:00       -313   \n",
       "2018-02-23 01:00:00  1.567  1.228171     train 2018-02-23 01:00:00       -313   \n",
       "\n",
       "                     is_model_valid  simulation_id  \n",
       "2018-02-22 21:00:00            True              0  \n",
       "2018-02-22 22:00:00            True              0  \n",
       "2018-02-22 23:00:00            True              0  \n",
       "2018-02-23 00:00:00            True              0  \n",
       "2018-02-23 01:00:00            True              0  "
      ]
     },
     "execution_count": 187,
     "metadata": {},
     "output_type": "execute_result"
    }
   ],
   "source": [
    "aging_df.head()"
   ]
  },
  {
   "cell_type": "code",
   "execution_count": 188,
   "id": "f5f0fe51",
   "metadata": {},
   "outputs": [
    {
     "name": "stderr",
     "output_type": "stream",
     "text": [
      "/Users/santiago/miniconda3/envs/thesis/lib/python3.10/site-packages/lightgbm/basic.py:2065: UserWarning:\n",
      "\n",
      "Using categorical_feature in Dataset.\n",
      "\n",
      "/Users/santiago/miniconda3/envs/thesis/lib/python3.10/site-packages/nannyml/chunk.py:181: UserWarning:\n",
      "\n",
      "The resulting number of chunks is too low. Please consider splitting your data in a different way or continue at your own risk.\n",
      "\n",
      "/Users/santiago/miniconda3/envs/thesis/lib/python3.10/site-packages/nannyml/chunk.py:181: UserWarning:\n",
      "\n",
      "The resulting number of chunks is too low. Please consider splitting your data in a different way or continue at your own risk.\n",
      "\n",
      "/Users/santiago/miniconda3/envs/thesis/lib/python3.10/site-packages/lightgbm/basic.py:2065: UserWarning:\n",
      "\n",
      "Using categorical_feature in Dataset.\n",
      "\n",
      "/Users/santiago/miniconda3/envs/thesis/lib/python3.10/site-packages/nannyml/chunk.py:181: UserWarning:\n",
      "\n",
      "The resulting number of chunks is too low. Please consider splitting your data in a different way or continue at your own risk.\n",
      "\n",
      "/Users/santiago/miniconda3/envs/thesis/lib/python3.10/site-packages/nannyml/chunk.py:181: UserWarning:\n",
      "\n",
      "The resulting number of chunks is too low. Please consider splitting your data in a different way or continue at your own risk.\n",
      "\n",
      "/Users/santiago/miniconda3/envs/thesis/lib/python3.10/site-packages/lightgbm/basic.py:2065: UserWarning:\n",
      "\n",
      "Using categorical_feature in Dataset.\n",
      "\n",
      "/Users/santiago/miniconda3/envs/thesis/lib/python3.10/site-packages/nannyml/chunk.py:181: UserWarning:\n",
      "\n",
      "The resulting number of chunks is too low. Please consider splitting your data in a different way or continue at your own risk.\n",
      "\n",
      "/Users/santiago/miniconda3/envs/thesis/lib/python3.10/site-packages/nannyml/chunk.py:181: UserWarning:\n",
      "\n",
      "The resulting number of chunks is too low. Please consider splitting your data in a different way or continue at your own risk.\n",
      "\n",
      "/Users/santiago/miniconda3/envs/thesis/lib/python3.10/site-packages/lightgbm/basic.py:2065: UserWarning:\n",
      "\n",
      "Using categorical_feature in Dataset.\n",
      "\n",
      "/Users/santiago/miniconda3/envs/thesis/lib/python3.10/site-packages/nannyml/chunk.py:181: UserWarning:\n",
      "\n",
      "The resulting number of chunks is too low. Please consider splitting your data in a different way or continue at your own risk.\n",
      "\n",
      "/Users/santiago/miniconda3/envs/thesis/lib/python3.10/site-packages/nannyml/chunk.py:181: UserWarning:\n",
      "\n",
      "The resulting number of chunks is too low. Please consider splitting your data in a different way or continue at your own risk.\n",
      "\n",
      "/Users/santiago/miniconda3/envs/thesis/lib/python3.10/site-packages/lightgbm/basic.py:2065: UserWarning:\n",
      "\n",
      "Using categorical_feature in Dataset.\n",
      "\n",
      "/Users/santiago/miniconda3/envs/thesis/lib/python3.10/site-packages/nannyml/chunk.py:181: UserWarning:\n",
      "\n",
      "The resulting number of chunks is too low. Please consider splitting your data in a different way or continue at your own risk.\n",
      "\n",
      "/Users/santiago/miniconda3/envs/thesis/lib/python3.10/site-packages/nannyml/chunk.py:181: UserWarning:\n",
      "\n",
      "The resulting number of chunks is too low. Please consider splitting your data in a different way or continue at your own risk.\n",
      "\n",
      "/Users/santiago/miniconda3/envs/thesis/lib/python3.10/site-packages/lightgbm/basic.py:2065: UserWarning:\n",
      "\n",
      "Using categorical_feature in Dataset.\n",
      "\n",
      "/Users/santiago/miniconda3/envs/thesis/lib/python3.10/site-packages/nannyml/chunk.py:181: UserWarning:\n",
      "\n",
      "The resulting number of chunks is too low. Please consider splitting your data in a different way or continue at your own risk.\n",
      "\n",
      "/Users/santiago/miniconda3/envs/thesis/lib/python3.10/site-packages/nannyml/chunk.py:181: UserWarning:\n",
      "\n",
      "The resulting number of chunks is too low. Please consider splitting your data in a different way or continue at your own risk.\n",
      "\n",
      "/Users/santiago/miniconda3/envs/thesis/lib/python3.10/site-packages/lightgbm/basic.py:2065: UserWarning:\n",
      "\n",
      "Using categorical_feature in Dataset.\n",
      "\n",
      "/Users/santiago/miniconda3/envs/thesis/lib/python3.10/site-packages/nannyml/chunk.py:181: UserWarning:\n",
      "\n",
      "The resulting number of chunks is too low. Please consider splitting your data in a different way or continue at your own risk.\n",
      "\n",
      "/Users/santiago/miniconda3/envs/thesis/lib/python3.10/site-packages/nannyml/chunk.py:181: UserWarning:\n",
      "\n",
      "The resulting number of chunks is too low. Please consider splitting your data in a different way or continue at your own risk.\n",
      "\n",
      "/Users/santiago/miniconda3/envs/thesis/lib/python3.10/site-packages/lightgbm/basic.py:2065: UserWarning:\n",
      "\n",
      "Using categorical_feature in Dataset.\n",
      "\n",
      "/Users/santiago/miniconda3/envs/thesis/lib/python3.10/site-packages/nannyml/chunk.py:181: UserWarning:\n",
      "\n",
      "The resulting number of chunks is too low. Please consider splitting your data in a different way or continue at your own risk.\n",
      "\n",
      "/Users/santiago/miniconda3/envs/thesis/lib/python3.10/site-packages/nannyml/chunk.py:181: UserWarning:\n",
      "\n",
      "The resulting number of chunks is too low. Please consider splitting your data in a different way or continue at your own risk.\n",
      "\n",
      "/Users/santiago/miniconda3/envs/thesis/lib/python3.10/site-packages/lightgbm/basic.py:2065: UserWarning:\n",
      "\n",
      "Using categorical_feature in Dataset.\n",
      "\n",
      "/Users/santiago/miniconda3/envs/thesis/lib/python3.10/site-packages/nannyml/chunk.py:181: UserWarning:\n",
      "\n",
      "The resulting number of chunks is too low. Please consider splitting your data in a different way or continue at your own risk.\n",
      "\n",
      "/Users/santiago/miniconda3/envs/thesis/lib/python3.10/site-packages/nannyml/chunk.py:181: UserWarning:\n",
      "\n",
      "The resulting number of chunks is too low. Please consider splitting your data in a different way or continue at your own risk.\n",
      "\n",
      "/Users/santiago/miniconda3/envs/thesis/lib/python3.10/site-packages/lightgbm/basic.py:2065: UserWarning:\n",
      "\n",
      "Using categorical_feature in Dataset.\n",
      "\n",
      "/Users/santiago/miniconda3/envs/thesis/lib/python3.10/site-packages/nannyml/chunk.py:181: UserWarning:\n",
      "\n",
      "The resulting number of chunks is too low. Please consider splitting your data in a different way or continue at your own risk.\n",
      "\n",
      "/Users/santiago/miniconda3/envs/thesis/lib/python3.10/site-packages/nannyml/chunk.py:181: UserWarning:\n",
      "\n",
      "The resulting number of chunks is too low. Please consider splitting your data in a different way or continue at your own risk.\n",
      "\n",
      "/Users/santiago/miniconda3/envs/thesis/lib/python3.10/site-packages/lightgbm/basic.py:2065: UserWarning:\n",
      "\n",
      "Using categorical_feature in Dataset.\n",
      "\n",
      "/Users/santiago/miniconda3/envs/thesis/lib/python3.10/site-packages/nannyml/chunk.py:181: UserWarning:\n",
      "\n",
      "The resulting number of chunks is too low. Please consider splitting your data in a different way or continue at your own risk.\n",
      "\n",
      "/Users/santiago/miniconda3/envs/thesis/lib/python3.10/site-packages/nannyml/chunk.py:181: UserWarning:\n",
      "\n",
      "The resulting number of chunks is too low. Please consider splitting your data in a different way or continue at your own risk.\n",
      "\n",
      "/Users/santiago/miniconda3/envs/thesis/lib/python3.10/site-packages/lightgbm/basic.py:2065: UserWarning:\n",
      "\n",
      "Using categorical_feature in Dataset.\n",
      "\n",
      "/Users/santiago/miniconda3/envs/thesis/lib/python3.10/site-packages/nannyml/chunk.py:181: UserWarning:\n",
      "\n",
      "The resulting number of chunks is too low. Please consider splitting your data in a different way or continue at your own risk.\n",
      "\n",
      "/Users/santiago/miniconda3/envs/thesis/lib/python3.10/site-packages/nannyml/chunk.py:181: UserWarning:\n",
      "\n",
      "The resulting number of chunks is too low. Please consider splitting your data in a different way or continue at your own risk.\n",
      "\n",
      "/Users/santiago/miniconda3/envs/thesis/lib/python3.10/site-packages/lightgbm/basic.py:2065: UserWarning:\n",
      "\n",
      "Using categorical_feature in Dataset.\n",
      "\n",
      "/Users/santiago/miniconda3/envs/thesis/lib/python3.10/site-packages/nannyml/chunk.py:181: UserWarning:\n",
      "\n",
      "The resulting number of chunks is too low. Please consider splitting your data in a different way or continue at your own risk.\n",
      "\n",
      "/Users/santiago/miniconda3/envs/thesis/lib/python3.10/site-packages/nannyml/chunk.py:181: UserWarning:\n",
      "\n",
      "The resulting number of chunks is too low. Please consider splitting your data in a different way or continue at your own risk.\n",
      "\n",
      "/Users/santiago/miniconda3/envs/thesis/lib/python3.10/site-packages/lightgbm/basic.py:2065: UserWarning:\n",
      "\n",
      "Using categorical_feature in Dataset.\n",
      "\n",
      "/Users/santiago/miniconda3/envs/thesis/lib/python3.10/site-packages/nannyml/chunk.py:181: UserWarning:\n",
      "\n",
      "The resulting number of chunks is too low. Please consider splitting your data in a different way or continue at your own risk.\n",
      "\n"
     ]
    },
    {
     "name": "stderr",
     "output_type": "stream",
     "text": [
      "/Users/santiago/miniconda3/envs/thesis/lib/python3.10/site-packages/nannyml/chunk.py:181: UserWarning:\n",
      "\n",
      "The resulting number of chunks is too low. Please consider splitting your data in a different way or continue at your own risk.\n",
      "\n",
      "/Users/santiago/miniconda3/envs/thesis/lib/python3.10/site-packages/lightgbm/basic.py:2065: UserWarning:\n",
      "\n",
      "Using categorical_feature in Dataset.\n",
      "\n",
      "/Users/santiago/miniconda3/envs/thesis/lib/python3.10/site-packages/nannyml/chunk.py:181: UserWarning:\n",
      "\n",
      "The resulting number of chunks is too low. Please consider splitting your data in a different way or continue at your own risk.\n",
      "\n",
      "/Users/santiago/miniconda3/envs/thesis/lib/python3.10/site-packages/nannyml/chunk.py:181: UserWarning:\n",
      "\n",
      "The resulting number of chunks is too low. Please consider splitting your data in a different way or continue at your own risk.\n",
      "\n",
      "/Users/santiago/miniconda3/envs/thesis/lib/python3.10/site-packages/lightgbm/basic.py:2065: UserWarning:\n",
      "\n",
      "Using categorical_feature in Dataset.\n",
      "\n",
      "/Users/santiago/miniconda3/envs/thesis/lib/python3.10/site-packages/nannyml/chunk.py:181: UserWarning:\n",
      "\n",
      "The resulting number of chunks is too low. Please consider splitting your data in a different way or continue at your own risk.\n",
      "\n",
      "/Users/santiago/miniconda3/envs/thesis/lib/python3.10/site-packages/nannyml/chunk.py:181: UserWarning:\n",
      "\n",
      "The resulting number of chunks is too low. Please consider splitting your data in a different way or continue at your own risk.\n",
      "\n",
      "/Users/santiago/miniconda3/envs/thesis/lib/python3.10/site-packages/lightgbm/basic.py:2065: UserWarning:\n",
      "\n",
      "Using categorical_feature in Dataset.\n",
      "\n",
      "/Users/santiago/miniconda3/envs/thesis/lib/python3.10/site-packages/nannyml/chunk.py:181: UserWarning:\n",
      "\n",
      "The resulting number of chunks is too low. Please consider splitting your data in a different way or continue at your own risk.\n",
      "\n",
      "/Users/santiago/miniconda3/envs/thesis/lib/python3.10/site-packages/nannyml/chunk.py:181: UserWarning:\n",
      "\n",
      "The resulting number of chunks is too low. Please consider splitting your data in a different way or continue at your own risk.\n",
      "\n",
      "/Users/santiago/miniconda3/envs/thesis/lib/python3.10/site-packages/lightgbm/basic.py:2065: UserWarning:\n",
      "\n",
      "Using categorical_feature in Dataset.\n",
      "\n",
      "/Users/santiago/miniconda3/envs/thesis/lib/python3.10/site-packages/nannyml/chunk.py:181: UserWarning:\n",
      "\n",
      "The resulting number of chunks is too low. Please consider splitting your data in a different way or continue at your own risk.\n",
      "\n",
      "/Users/santiago/miniconda3/envs/thesis/lib/python3.10/site-packages/nannyml/chunk.py:181: UserWarning:\n",
      "\n",
      "The resulting number of chunks is too low. Please consider splitting your data in a different way or continue at your own risk.\n",
      "\n",
      "/Users/santiago/miniconda3/envs/thesis/lib/python3.10/site-packages/lightgbm/basic.py:2065: UserWarning:\n",
      "\n",
      "Using categorical_feature in Dataset.\n",
      "\n",
      "/Users/santiago/miniconda3/envs/thesis/lib/python3.10/site-packages/nannyml/chunk.py:181: UserWarning:\n",
      "\n",
      "The resulting number of chunks is too low. Please consider splitting your data in a different way or continue at your own risk.\n",
      "\n",
      "/Users/santiago/miniconda3/envs/thesis/lib/python3.10/site-packages/nannyml/chunk.py:181: UserWarning:\n",
      "\n",
      "The resulting number of chunks is too low. Please consider splitting your data in a different way or continue at your own risk.\n",
      "\n",
      "/Users/santiago/miniconda3/envs/thesis/lib/python3.10/site-packages/lightgbm/basic.py:2065: UserWarning:\n",
      "\n",
      "Using categorical_feature in Dataset.\n",
      "\n",
      "/Users/santiago/miniconda3/envs/thesis/lib/python3.10/site-packages/nannyml/chunk.py:181: UserWarning:\n",
      "\n",
      "The resulting number of chunks is too low. Please consider splitting your data in a different way or continue at your own risk.\n",
      "\n",
      "/Users/santiago/miniconda3/envs/thesis/lib/python3.10/site-packages/nannyml/chunk.py:181: UserWarning:\n",
      "\n",
      "The resulting number of chunks is too low. Please consider splitting your data in a different way or continue at your own risk.\n",
      "\n",
      "/Users/santiago/miniconda3/envs/thesis/lib/python3.10/site-packages/lightgbm/basic.py:2065: UserWarning:\n",
      "\n",
      "Using categorical_feature in Dataset.\n",
      "\n",
      "/Users/santiago/miniconda3/envs/thesis/lib/python3.10/site-packages/nannyml/chunk.py:181: UserWarning:\n",
      "\n",
      "The resulting number of chunks is too low. Please consider splitting your data in a different way or continue at your own risk.\n",
      "\n",
      "/Users/santiago/miniconda3/envs/thesis/lib/python3.10/site-packages/nannyml/chunk.py:181: UserWarning:\n",
      "\n",
      "The resulting number of chunks is too low. Please consider splitting your data in a different way or continue at your own risk.\n",
      "\n",
      "/Users/santiago/miniconda3/envs/thesis/lib/python3.10/site-packages/lightgbm/basic.py:2065: UserWarning:\n",
      "\n",
      "Using categorical_feature in Dataset.\n",
      "\n",
      "/Users/santiago/miniconda3/envs/thesis/lib/python3.10/site-packages/nannyml/chunk.py:181: UserWarning:\n",
      "\n",
      "The resulting number of chunks is too low. Please consider splitting your data in a different way or continue at your own risk.\n",
      "\n",
      "/Users/santiago/miniconda3/envs/thesis/lib/python3.10/site-packages/nannyml/chunk.py:181: UserWarning:\n",
      "\n",
      "The resulting number of chunks is too low. Please consider splitting your data in a different way or continue at your own risk.\n",
      "\n",
      "/Users/santiago/miniconda3/envs/thesis/lib/python3.10/site-packages/nannyml/chunk.py:181: UserWarning:\n",
      "\n",
      "The resulting number of chunks is too low. Please consider splitting your data in a different way or continue at your own risk.\n",
      "\n",
      "/Users/santiago/miniconda3/envs/thesis/lib/python3.10/site-packages/lightgbm/basic.py:2065: UserWarning:\n",
      "\n",
      "Using categorical_feature in Dataset.\n",
      "\n",
      "/Users/santiago/miniconda3/envs/thesis/lib/python3.10/site-packages/nannyml/chunk.py:181: UserWarning:\n",
      "\n",
      "The resulting number of chunks is too low. Please consider splitting your data in a different way or continue at your own risk.\n",
      "\n",
      "/Users/santiago/miniconda3/envs/thesis/lib/python3.10/site-packages/nannyml/chunk.py:181: UserWarning:\n",
      "\n",
      "The resulting number of chunks is too low. Please consider splitting your data in a different way or continue at your own risk.\n",
      "\n",
      "/Users/santiago/miniconda3/envs/thesis/lib/python3.10/site-packages/nannyml/chunk.py:181: UserWarning:\n",
      "\n",
      "The resulting number of chunks is too low. Please consider splitting your data in a different way or continue at your own risk.\n",
      "\n",
      "/Users/santiago/miniconda3/envs/thesis/lib/python3.10/site-packages/lightgbm/basic.py:2065: UserWarning:\n",
      "\n",
      "Using categorical_feature in Dataset.\n",
      "\n",
      "/Users/santiago/miniconda3/envs/thesis/lib/python3.10/site-packages/nannyml/chunk.py:181: UserWarning:\n",
      "\n",
      "The resulting number of chunks is too low. Please consider splitting your data in a different way or continue at your own risk.\n",
      "\n",
      "/Users/santiago/miniconda3/envs/thesis/lib/python3.10/site-packages/nannyml/chunk.py:181: UserWarning:\n",
      "\n",
      "The resulting number of chunks is too low. Please consider splitting your data in a different way or continue at your own risk.\n",
      "\n",
      "/Users/santiago/miniconda3/envs/thesis/lib/python3.10/site-packages/lightgbm/basic.py:2065: UserWarning:\n",
      "\n",
      "Using categorical_feature in Dataset.\n",
      "\n",
      "/Users/santiago/miniconda3/envs/thesis/lib/python3.10/site-packages/lightgbm/basic.py:2065: UserWarning:\n",
      "\n",
      "Using categorical_feature in Dataset.\n",
      "\n",
      "/Users/santiago/miniconda3/envs/thesis/lib/python3.10/site-packages/nannyml/chunk.py:181: UserWarning:\n",
      "\n",
      "The resulting number of chunks is too low. Please consider splitting your data in a different way or continue at your own risk.\n",
      "\n",
      "/Users/santiago/miniconda3/envs/thesis/lib/python3.10/site-packages/nannyml/chunk.py:181: UserWarning:\n",
      "\n",
      "The resulting number of chunks is too low. Please consider splitting your data in a different way or continue at your own risk.\n",
      "\n",
      "/Users/santiago/miniconda3/envs/thesis/lib/python3.10/site-packages/lightgbm/basic.py:2065: UserWarning:\n",
      "\n",
      "Using categorical_feature in Dataset.\n",
      "\n",
      "/Users/santiago/miniconda3/envs/thesis/lib/python3.10/site-packages/nannyml/chunk.py:181: UserWarning:\n",
      "\n",
      "The resulting number of chunks is too low. Please consider splitting your data in a different way or continue at your own risk.\n",
      "\n",
      "/Users/santiago/miniconda3/envs/thesis/lib/python3.10/site-packages/nannyml/chunk.py:181: UserWarning:\n",
      "\n",
      "The resulting number of chunks is too low. Please consider splitting your data in a different way or continue at your own risk.\n",
      "\n",
      "/Users/santiago/miniconda3/envs/thesis/lib/python3.10/site-packages/lightgbm/basic.py:2065: UserWarning:\n",
      "\n",
      "Using categorical_feature in Dataset.\n",
      "\n",
      "/Users/santiago/miniconda3/envs/thesis/lib/python3.10/site-packages/nannyml/chunk.py:181: UserWarning:\n",
      "\n",
      "The resulting number of chunks is too low. Please consider splitting your data in a different way or continue at your own risk.\n",
      "\n"
     ]
    },
    {
     "name": "stderr",
     "output_type": "stream",
     "text": [
      "/Users/santiago/miniconda3/envs/thesis/lib/python3.10/site-packages/nannyml/chunk.py:181: UserWarning:\n",
      "\n",
      "The resulting number of chunks is too low. Please consider splitting your data in a different way or continue at your own risk.\n",
      "\n",
      "/Users/santiago/miniconda3/envs/thesis/lib/python3.10/site-packages/lightgbm/basic.py:2065: UserWarning:\n",
      "\n",
      "Using categorical_feature in Dataset.\n",
      "\n",
      "/Users/santiago/miniconda3/envs/thesis/lib/python3.10/site-packages/nannyml/chunk.py:181: UserWarning:\n",
      "\n",
      "The resulting number of chunks is too low. Please consider splitting your data in a different way or continue at your own risk.\n",
      "\n",
      "/Users/santiago/miniconda3/envs/thesis/lib/python3.10/site-packages/nannyml/chunk.py:181: UserWarning:\n",
      "\n",
      "The resulting number of chunks is too low. Please consider splitting your data in a different way or continue at your own risk.\n",
      "\n",
      "/Users/santiago/miniconda3/envs/thesis/lib/python3.10/site-packages/lightgbm/basic.py:2065: UserWarning:\n",
      "\n",
      "Using categorical_feature in Dataset.\n",
      "\n",
      "/Users/santiago/miniconda3/envs/thesis/lib/python3.10/site-packages/nannyml/chunk.py:181: UserWarning:\n",
      "\n",
      "The resulting number of chunks is too low. Please consider splitting your data in a different way or continue at your own risk.\n",
      "\n",
      "/Users/santiago/miniconda3/envs/thesis/lib/python3.10/site-packages/nannyml/chunk.py:181: UserWarning:\n",
      "\n",
      "The resulting number of chunks is too low. Please consider splitting your data in a different way or continue at your own risk.\n",
      "\n",
      "/Users/santiago/miniconda3/envs/thesis/lib/python3.10/site-packages/lightgbm/basic.py:2065: UserWarning:\n",
      "\n",
      "Using categorical_feature in Dataset.\n",
      "\n",
      "/Users/santiago/miniconda3/envs/thesis/lib/python3.10/site-packages/lightgbm/basic.py:2065: UserWarning:\n",
      "\n",
      "Using categorical_feature in Dataset.\n",
      "\n",
      "/Users/santiago/miniconda3/envs/thesis/lib/python3.10/site-packages/nannyml/chunk.py:181: UserWarning:\n",
      "\n",
      "The resulting number of chunks is too low. Please consider splitting your data in a different way or continue at your own risk.\n",
      "\n",
      "/Users/santiago/miniconda3/envs/thesis/lib/python3.10/site-packages/nannyml/chunk.py:181: UserWarning:\n",
      "\n",
      "The resulting number of chunks is too low. Please consider splitting your data in a different way or continue at your own risk.\n",
      "\n",
      "/Users/santiago/miniconda3/envs/thesis/lib/python3.10/site-packages/lightgbm/basic.py:2065: UserWarning:\n",
      "\n",
      "Using categorical_feature in Dataset.\n",
      "\n",
      "/Users/santiago/miniconda3/envs/thesis/lib/python3.10/site-packages/nannyml/chunk.py:181: UserWarning:\n",
      "\n",
      "The resulting number of chunks is too low. Please consider splitting your data in a different way or continue at your own risk.\n",
      "\n",
      "/Users/santiago/miniconda3/envs/thesis/lib/python3.10/site-packages/nannyml/chunk.py:181: UserWarning:\n",
      "\n",
      "The resulting number of chunks is too low. Please consider splitting your data in a different way or continue at your own risk.\n",
      "\n",
      "/Users/santiago/miniconda3/envs/thesis/lib/python3.10/site-packages/lightgbm/basic.py:2065: UserWarning:\n",
      "\n",
      "Using categorical_feature in Dataset.\n",
      "\n",
      "/Users/santiago/miniconda3/envs/thesis/lib/python3.10/site-packages/nannyml/chunk.py:181: UserWarning:\n",
      "\n",
      "The resulting number of chunks is too low. Please consider splitting your data in a different way or continue at your own risk.\n",
      "\n",
      "/Users/santiago/miniconda3/envs/thesis/lib/python3.10/site-packages/nannyml/chunk.py:181: UserWarning:\n",
      "\n",
      "The resulting number of chunks is too low. Please consider splitting your data in a different way or continue at your own risk.\n",
      "\n",
      "/Users/santiago/miniconda3/envs/thesis/lib/python3.10/site-packages/lightgbm/basic.py:2065: UserWarning:\n",
      "\n",
      "Using categorical_feature in Dataset.\n",
      "\n",
      "/Users/santiago/miniconda3/envs/thesis/lib/python3.10/site-packages/nannyml/chunk.py:181: UserWarning:\n",
      "\n",
      "The resulting number of chunks is too low. Please consider splitting your data in a different way or continue at your own risk.\n",
      "\n",
      "/Users/santiago/miniconda3/envs/thesis/lib/python3.10/site-packages/nannyml/chunk.py:181: UserWarning:\n",
      "\n",
      "The resulting number of chunks is too low. Please consider splitting your data in a different way or continue at your own risk.\n",
      "\n",
      "/Users/santiago/miniconda3/envs/thesis/lib/python3.10/site-packages/lightgbm/basic.py:2065: UserWarning:\n",
      "\n",
      "Using categorical_feature in Dataset.\n",
      "\n",
      "/Users/santiago/miniconda3/envs/thesis/lib/python3.10/site-packages/nannyml/chunk.py:181: UserWarning:\n",
      "\n",
      "The resulting number of chunks is too low. Please consider splitting your data in a different way or continue at your own risk.\n",
      "\n",
      "/Users/santiago/miniconda3/envs/thesis/lib/python3.10/site-packages/nannyml/chunk.py:181: UserWarning:\n",
      "\n",
      "The resulting number of chunks is too low. Please consider splitting your data in a different way or continue at your own risk.\n",
      "\n",
      "/Users/santiago/miniconda3/envs/thesis/lib/python3.10/site-packages/lightgbm/basic.py:2065: UserWarning:\n",
      "\n",
      "Using categorical_feature in Dataset.\n",
      "\n",
      "/Users/santiago/miniconda3/envs/thesis/lib/python3.10/site-packages/nannyml/chunk.py:181: UserWarning:\n",
      "\n",
      "The resulting number of chunks is too low. Please consider splitting your data in a different way or continue at your own risk.\n",
      "\n",
      "/Users/santiago/miniconda3/envs/thesis/lib/python3.10/site-packages/nannyml/chunk.py:181: UserWarning:\n",
      "\n",
      "The resulting number of chunks is too low. Please consider splitting your data in a different way or continue at your own risk.\n",
      "\n",
      "/Users/santiago/miniconda3/envs/thesis/lib/python3.10/site-packages/lightgbm/basic.py:2065: UserWarning:\n",
      "\n",
      "Using categorical_feature in Dataset.\n",
      "\n",
      "/Users/santiago/miniconda3/envs/thesis/lib/python3.10/site-packages/nannyml/chunk.py:181: UserWarning:\n",
      "\n",
      "The resulting number of chunks is too low. Please consider splitting your data in a different way or continue at your own risk.\n",
      "\n",
      "/Users/santiago/miniconda3/envs/thesis/lib/python3.10/site-packages/nannyml/chunk.py:181: UserWarning:\n",
      "\n",
      "The resulting number of chunks is too low. Please consider splitting your data in a different way or continue at your own risk.\n",
      "\n",
      "/Users/santiago/miniconda3/envs/thesis/lib/python3.10/site-packages/lightgbm/basic.py:2065: UserWarning:\n",
      "\n",
      "Using categorical_feature in Dataset.\n",
      "\n",
      "/Users/santiago/miniconda3/envs/thesis/lib/python3.10/site-packages/nannyml/chunk.py:181: UserWarning:\n",
      "\n",
      "The resulting number of chunks is too low. Please consider splitting your data in a different way or continue at your own risk.\n",
      "\n",
      "/Users/santiago/miniconda3/envs/thesis/lib/python3.10/site-packages/nannyml/chunk.py:181: UserWarning:\n",
      "\n",
      "The resulting number of chunks is too low. Please consider splitting your data in a different way or continue at your own risk.\n",
      "\n",
      "/Users/santiago/miniconda3/envs/thesis/lib/python3.10/site-packages/nannyml/chunk.py:181: UserWarning:\n",
      "\n",
      "The resulting number of chunks is too low. Please consider splitting your data in a different way or continue at your own risk.\n",
      "\n",
      "/Users/santiago/miniconda3/envs/thesis/lib/python3.10/site-packages/lightgbm/basic.py:2065: UserWarning:\n",
      "\n",
      "Using categorical_feature in Dataset.\n",
      "\n",
      "/Users/santiago/miniconda3/envs/thesis/lib/python3.10/site-packages/nannyml/chunk.py:181: UserWarning:\n",
      "\n",
      "The resulting number of chunks is too low. Please consider splitting your data in a different way or continue at your own risk.\n",
      "\n",
      "/Users/santiago/miniconda3/envs/thesis/lib/python3.10/site-packages/nannyml/chunk.py:181: UserWarning:\n",
      "\n",
      "The resulting number of chunks is too low. Please consider splitting your data in a different way or continue at your own risk.\n",
      "\n",
      "/Users/santiago/miniconda3/envs/thesis/lib/python3.10/site-packages/nannyml/chunk.py:181: UserWarning:\n",
      "\n",
      "The resulting number of chunks is too low. Please consider splitting your data in a different way or continue at your own risk.\n",
      "\n",
      "/Users/santiago/miniconda3/envs/thesis/lib/python3.10/site-packages/nannyml/chunk.py:181: UserWarning:\n",
      "\n",
      "The resulting number of chunks is too low. Please consider splitting your data in a different way or continue at your own risk.\n",
      "\n",
      "/Users/santiago/miniconda3/envs/thesis/lib/python3.10/site-packages/nannyml/chunk.py:181: UserWarning:\n",
      "\n",
      "The resulting number of chunks is too low. Please consider splitting your data in a different way or continue at your own risk.\n",
      "\n",
      "/Users/santiago/miniconda3/envs/thesis/lib/python3.10/site-packages/lightgbm/basic.py:2065: UserWarning:\n",
      "\n",
      "Using categorical_feature in Dataset.\n",
      "\n",
      "/Users/santiago/miniconda3/envs/thesis/lib/python3.10/site-packages/nannyml/chunk.py:181: UserWarning:\n",
      "\n",
      "The resulting number of chunks is too low. Please consider splitting your data in a different way or continue at your own risk.\n",
      "\n",
      "/Users/santiago/miniconda3/envs/thesis/lib/python3.10/site-packages/nannyml/chunk.py:181: UserWarning:\n",
      "\n",
      "The resulting number of chunks is too low. Please consider splitting your data in a different way or continue at your own risk.\n",
      "\n",
      "/Users/santiago/miniconda3/envs/thesis/lib/python3.10/site-packages/nannyml/chunk.py:181: UserWarning:\n",
      "\n",
      "The resulting number of chunks is too low. Please consider splitting your data in a different way or continue at your own risk.\n",
      "\n",
      "/Users/santiago/miniconda3/envs/thesis/lib/python3.10/site-packages/lightgbm/basic.py:2065: UserWarning:\n",
      "\n",
      "Using categorical_feature in Dataset.\n",
      "\n"
     ]
    },
    {
     "name": "stderr",
     "output_type": "stream",
     "text": [
      "/Users/santiago/miniconda3/envs/thesis/lib/python3.10/site-packages/nannyml/chunk.py:181: UserWarning:\n",
      "\n",
      "The resulting number of chunks is too low. Please consider splitting your data in a different way or continue at your own risk.\n",
      "\n",
      "/Users/santiago/miniconda3/envs/thesis/lib/python3.10/site-packages/nannyml/chunk.py:181: UserWarning:\n",
      "\n",
      "The resulting number of chunks is too low. Please consider splitting your data in a different way or continue at your own risk.\n",
      "\n",
      "/Users/santiago/miniconda3/envs/thesis/lib/python3.10/site-packages/nannyml/chunk.py:181: UserWarning:\n",
      "\n",
      "The resulting number of chunks is too low. Please consider splitting your data in a different way or continue at your own risk.\n",
      "\n",
      "/Users/santiago/miniconda3/envs/thesis/lib/python3.10/site-packages/nannyml/chunk.py:181: UserWarning:\n",
      "\n",
      "The resulting number of chunks is too low. Please consider splitting your data in a different way or continue at your own risk.\n",
      "\n",
      "/Users/santiago/miniconda3/envs/thesis/lib/python3.10/site-packages/nannyml/chunk.py:181: UserWarning:\n",
      "\n",
      "The resulting number of chunks is too low. Please consider splitting your data in a different way or continue at your own risk.\n",
      "\n",
      "/Users/santiago/miniconda3/envs/thesis/lib/python3.10/site-packages/lightgbm/basic.py:2065: UserWarning:\n",
      "\n",
      "Using categorical_feature in Dataset.\n",
      "\n",
      "/Users/santiago/miniconda3/envs/thesis/lib/python3.10/site-packages/nannyml/chunk.py:181: UserWarning:\n",
      "\n",
      "The resulting number of chunks is too low. Please consider splitting your data in a different way or continue at your own risk.\n",
      "\n",
      "/Users/santiago/miniconda3/envs/thesis/lib/python3.10/site-packages/nannyml/chunk.py:181: UserWarning:\n",
      "\n",
      "The resulting number of chunks is too low. Please consider splitting your data in a different way or continue at your own risk.\n",
      "\n",
      "/Users/santiago/miniconda3/envs/thesis/lib/python3.10/site-packages/nannyml/chunk.py:181: UserWarning:\n",
      "\n",
      "The resulting number of chunks is too low. Please consider splitting your data in a different way or continue at your own risk.\n",
      "\n",
      "/Users/santiago/miniconda3/envs/thesis/lib/python3.10/site-packages/lightgbm/basic.py:2065: UserWarning:\n",
      "\n",
      "Using categorical_feature in Dataset.\n",
      "\n",
      "/Users/santiago/miniconda3/envs/thesis/lib/python3.10/site-packages/nannyml/chunk.py:181: UserWarning:\n",
      "\n",
      "The resulting number of chunks is too low. Please consider splitting your data in a different way or continue at your own risk.\n",
      "\n",
      "/Users/santiago/miniconda3/envs/thesis/lib/python3.10/site-packages/nannyml/chunk.py:181: UserWarning:\n",
      "\n",
      "The resulting number of chunks is too low. Please consider splitting your data in a different way or continue at your own risk.\n",
      "\n",
      "/Users/santiago/miniconda3/envs/thesis/lib/python3.10/site-packages/nannyml/chunk.py:181: UserWarning:\n",
      "\n",
      "The resulting number of chunks is too low. Please consider splitting your data in a different way or continue at your own risk.\n",
      "\n",
      "/Users/santiago/miniconda3/envs/thesis/lib/python3.10/site-packages/lightgbm/basic.py:2065: UserWarning:\n",
      "\n",
      "Using categorical_feature in Dataset.\n",
      "\n",
      "/Users/santiago/miniconda3/envs/thesis/lib/python3.10/site-packages/nannyml/chunk.py:181: UserWarning:\n",
      "\n",
      "The resulting number of chunks is too low. Please consider splitting your data in a different way or continue at your own risk.\n",
      "\n",
      "/Users/santiago/miniconda3/envs/thesis/lib/python3.10/site-packages/nannyml/chunk.py:181: UserWarning:\n",
      "\n",
      "The resulting number of chunks is too low. Please consider splitting your data in a different way or continue at your own risk.\n",
      "\n",
      "/Users/santiago/miniconda3/envs/thesis/lib/python3.10/site-packages/lightgbm/basic.py:2065: UserWarning:\n",
      "\n",
      "Using categorical_feature in Dataset.\n",
      "\n",
      "/Users/santiago/miniconda3/envs/thesis/lib/python3.10/site-packages/nannyml/chunk.py:181: UserWarning:\n",
      "\n",
      "The resulting number of chunks is too low. Please consider splitting your data in a different way or continue at your own risk.\n",
      "\n",
      "/Users/santiago/miniconda3/envs/thesis/lib/python3.10/site-packages/nannyml/chunk.py:181: UserWarning:\n",
      "\n",
      "The resulting number of chunks is too low. Please consider splitting your data in a different way or continue at your own risk.\n",
      "\n",
      "/Users/santiago/miniconda3/envs/thesis/lib/python3.10/site-packages/lightgbm/basic.py:2065: UserWarning:\n",
      "\n",
      "Using categorical_feature in Dataset.\n",
      "\n",
      "/Users/santiago/miniconda3/envs/thesis/lib/python3.10/site-packages/nannyml/chunk.py:181: UserWarning:\n",
      "\n",
      "The resulting number of chunks is too low. Please consider splitting your data in a different way or continue at your own risk.\n",
      "\n",
      "/Users/santiago/miniconda3/envs/thesis/lib/python3.10/site-packages/nannyml/chunk.py:181: UserWarning:\n",
      "\n",
      "The resulting number of chunks is too low. Please consider splitting your data in a different way or continue at your own risk.\n",
      "\n",
      "/Users/santiago/miniconda3/envs/thesis/lib/python3.10/site-packages/lightgbm/basic.py:2065: UserWarning:\n",
      "\n",
      "Using categorical_feature in Dataset.\n",
      "\n",
      "/Users/santiago/miniconda3/envs/thesis/lib/python3.10/site-packages/nannyml/chunk.py:181: UserWarning:\n",
      "\n",
      "The resulting number of chunks is too low. Please consider splitting your data in a different way or continue at your own risk.\n",
      "\n",
      "/Users/santiago/miniconda3/envs/thesis/lib/python3.10/site-packages/nannyml/chunk.py:181: UserWarning:\n",
      "\n",
      "The resulting number of chunks is too low. Please consider splitting your data in a different way or continue at your own risk.\n",
      "\n",
      "/Users/santiago/miniconda3/envs/thesis/lib/python3.10/site-packages/lightgbm/basic.py:2065: UserWarning:\n",
      "\n",
      "Using categorical_feature in Dataset.\n",
      "\n",
      "/Users/santiago/miniconda3/envs/thesis/lib/python3.10/site-packages/nannyml/chunk.py:181: UserWarning:\n",
      "\n",
      "The resulting number of chunks is too low. Please consider splitting your data in a different way or continue at your own risk.\n",
      "\n",
      "/Users/santiago/miniconda3/envs/thesis/lib/python3.10/site-packages/nannyml/chunk.py:181: UserWarning:\n",
      "\n",
      "The resulting number of chunks is too low. Please consider splitting your data in a different way or continue at your own risk.\n",
      "\n",
      "/Users/santiago/miniconda3/envs/thesis/lib/python3.10/site-packages/lightgbm/basic.py:2065: UserWarning:\n",
      "\n",
      "Using categorical_feature in Dataset.\n",
      "\n",
      "/Users/santiago/miniconda3/envs/thesis/lib/python3.10/site-packages/nannyml/chunk.py:181: UserWarning:\n",
      "\n",
      "The resulting number of chunks is too low. Please consider splitting your data in a different way or continue at your own risk.\n",
      "\n",
      "/Users/santiago/miniconda3/envs/thesis/lib/python3.10/site-packages/nannyml/chunk.py:181: UserWarning:\n",
      "\n",
      "The resulting number of chunks is too low. Please consider splitting your data in a different way or continue at your own risk.\n",
      "\n",
      "/Users/santiago/miniconda3/envs/thesis/lib/python3.10/site-packages/lightgbm/basic.py:2065: UserWarning:\n",
      "\n",
      "Using categorical_feature in Dataset.\n",
      "\n",
      "/Users/santiago/miniconda3/envs/thesis/lib/python3.10/site-packages/nannyml/chunk.py:181: UserWarning:\n",
      "\n",
      "The resulting number of chunks is too low. Please consider splitting your data in a different way or continue at your own risk.\n",
      "\n",
      "/Users/santiago/miniconda3/envs/thesis/lib/python3.10/site-packages/nannyml/chunk.py:181: UserWarning:\n",
      "\n",
      "The resulting number of chunks is too low. Please consider splitting your data in a different way or continue at your own risk.\n",
      "\n",
      "/Users/santiago/miniconda3/envs/thesis/lib/python3.10/site-packages/lightgbm/basic.py:2065: UserWarning:\n",
      "\n",
      "Using categorical_feature in Dataset.\n",
      "\n",
      "/Users/santiago/miniconda3/envs/thesis/lib/python3.10/site-packages/nannyml/chunk.py:181: UserWarning:\n",
      "\n",
      "The resulting number of chunks is too low. Please consider splitting your data in a different way or continue at your own risk.\n",
      "\n",
      "/Users/santiago/miniconda3/envs/thesis/lib/python3.10/site-packages/nannyml/chunk.py:181: UserWarning:\n",
      "\n",
      "The resulting number of chunks is too low. Please consider splitting your data in a different way or continue at your own risk.\n",
      "\n",
      "/Users/santiago/miniconda3/envs/thesis/lib/python3.10/site-packages/lightgbm/basic.py:2065: UserWarning:\n",
      "\n",
      "Using categorical_feature in Dataset.\n",
      "\n",
      "/Users/santiago/miniconda3/envs/thesis/lib/python3.10/site-packages/nannyml/chunk.py:181: UserWarning:\n",
      "\n",
      "The resulting number of chunks is too low. Please consider splitting your data in a different way or continue at your own risk.\n",
      "\n",
      "/Users/santiago/miniconda3/envs/thesis/lib/python3.10/site-packages/nannyml/chunk.py:181: UserWarning:\n",
      "\n",
      "The resulting number of chunks is too low. Please consider splitting your data in a different way or continue at your own risk.\n",
      "\n"
     ]
    },
    {
     "name": "stderr",
     "output_type": "stream",
     "text": [
      "/Users/santiago/miniconda3/envs/thesis/lib/python3.10/site-packages/lightgbm/basic.py:2065: UserWarning:\n",
      "\n",
      "Using categorical_feature in Dataset.\n",
      "\n",
      "/Users/santiago/miniconda3/envs/thesis/lib/python3.10/site-packages/nannyml/chunk.py:181: UserWarning:\n",
      "\n",
      "The resulting number of chunks is too low. Please consider splitting your data in a different way or continue at your own risk.\n",
      "\n",
      "/Users/santiago/miniconda3/envs/thesis/lib/python3.10/site-packages/nannyml/chunk.py:181: UserWarning:\n",
      "\n",
      "The resulting number of chunks is too low. Please consider splitting your data in a different way or continue at your own risk.\n",
      "\n",
      "/Users/santiago/miniconda3/envs/thesis/lib/python3.10/site-packages/lightgbm/basic.py:2065: UserWarning:\n",
      "\n",
      "Using categorical_feature in Dataset.\n",
      "\n",
      "/Users/santiago/miniconda3/envs/thesis/lib/python3.10/site-packages/nannyml/chunk.py:181: UserWarning:\n",
      "\n",
      "The resulting number of chunks is too low. Please consider splitting your data in a different way or continue at your own risk.\n",
      "\n",
      "/Users/santiago/miniconda3/envs/thesis/lib/python3.10/site-packages/nannyml/chunk.py:181: UserWarning:\n",
      "\n",
      "The resulting number of chunks is too low. Please consider splitting your data in a different way or continue at your own risk.\n",
      "\n",
      "/Users/santiago/miniconda3/envs/thesis/lib/python3.10/site-packages/lightgbm/basic.py:2065: UserWarning:\n",
      "\n",
      "Using categorical_feature in Dataset.\n",
      "\n",
      "/Users/santiago/miniconda3/envs/thesis/lib/python3.10/site-packages/nannyml/chunk.py:181: UserWarning:\n",
      "\n",
      "The resulting number of chunks is too low. Please consider splitting your data in a different way or continue at your own risk.\n",
      "\n",
      "/Users/santiago/miniconda3/envs/thesis/lib/python3.10/site-packages/nannyml/chunk.py:181: UserWarning:\n",
      "\n",
      "The resulting number of chunks is too low. Please consider splitting your data in a different way or continue at your own risk.\n",
      "\n",
      "/Users/santiago/miniconda3/envs/thesis/lib/python3.10/site-packages/nannyml/chunk.py:181: UserWarning:\n",
      "\n",
      "The resulting number of chunks is too low. Please consider splitting your data in a different way or continue at your own risk.\n",
      "\n",
      "/Users/santiago/miniconda3/envs/thesis/lib/python3.10/site-packages/lightgbm/basic.py:2065: UserWarning:\n",
      "\n",
      "Using categorical_feature in Dataset.\n",
      "\n",
      "/Users/santiago/miniconda3/envs/thesis/lib/python3.10/site-packages/nannyml/chunk.py:181: UserWarning:\n",
      "\n",
      "The resulting number of chunks is too low. Please consider splitting your data in a different way or continue at your own risk.\n",
      "\n",
      "/Users/santiago/miniconda3/envs/thesis/lib/python3.10/site-packages/nannyml/chunk.py:181: UserWarning:\n",
      "\n",
      "The resulting number of chunks is too low. Please consider splitting your data in a different way or continue at your own risk.\n",
      "\n",
      "/Users/santiago/miniconda3/envs/thesis/lib/python3.10/site-packages/nannyml/chunk.py:181: UserWarning:\n",
      "\n",
      "The resulting number of chunks is too low. Please consider splitting your data in a different way or continue at your own risk.\n",
      "\n",
      "/Users/santiago/miniconda3/envs/thesis/lib/python3.10/site-packages/nannyml/chunk.py:181: UserWarning:\n",
      "\n",
      "The resulting number of chunks is too low. Please consider splitting your data in a different way or continue at your own risk.\n",
      "\n",
      "/Users/santiago/miniconda3/envs/thesis/lib/python3.10/site-packages/nannyml/chunk.py:181: UserWarning:\n",
      "\n",
      "The resulting number of chunks is too low. Please consider splitting your data in a different way or continue at your own risk.\n",
      "\n",
      "/Users/santiago/miniconda3/envs/thesis/lib/python3.10/site-packages/lightgbm/basic.py:2065: UserWarning:\n",
      "\n",
      "Using categorical_feature in Dataset.\n",
      "\n",
      "/Users/santiago/miniconda3/envs/thesis/lib/python3.10/site-packages/nannyml/chunk.py:181: UserWarning:\n",
      "\n",
      "The resulting number of chunks is too low. Please consider splitting your data in a different way or continue at your own risk.\n",
      "\n",
      "/Users/santiago/miniconda3/envs/thesis/lib/python3.10/site-packages/nannyml/chunk.py:181: UserWarning:\n",
      "\n",
      "The resulting number of chunks is too low. Please consider splitting your data in a different way or continue at your own risk.\n",
      "\n",
      "/Users/santiago/miniconda3/envs/thesis/lib/python3.10/site-packages/lightgbm/basic.py:2065: UserWarning:\n",
      "\n",
      "Using categorical_feature in Dataset.\n",
      "\n",
      "/Users/santiago/miniconda3/envs/thesis/lib/python3.10/site-packages/nannyml/chunk.py:181: UserWarning:\n",
      "\n",
      "The resulting number of chunks is too low. Please consider splitting your data in a different way or continue at your own risk.\n",
      "\n",
      "/Users/santiago/miniconda3/envs/thesis/lib/python3.10/site-packages/nannyml/chunk.py:181: UserWarning:\n",
      "\n",
      "The resulting number of chunks is too low. Please consider splitting your data in a different way or continue at your own risk.\n",
      "\n",
      "/Users/santiago/miniconda3/envs/thesis/lib/python3.10/site-packages/lightgbm/basic.py:2065: UserWarning:\n",
      "\n",
      "Using categorical_feature in Dataset.\n",
      "\n",
      "/Users/santiago/miniconda3/envs/thesis/lib/python3.10/site-packages/nannyml/chunk.py:181: UserWarning:\n",
      "\n",
      "The resulting number of chunks is too low. Please consider splitting your data in a different way or continue at your own risk.\n",
      "\n",
      "/Users/santiago/miniconda3/envs/thesis/lib/python3.10/site-packages/nannyml/chunk.py:181: UserWarning:\n",
      "\n",
      "The resulting number of chunks is too low. Please consider splitting your data in a different way or continue at your own risk.\n",
      "\n",
      "/Users/santiago/miniconda3/envs/thesis/lib/python3.10/site-packages/lightgbm/basic.py:2065: UserWarning:\n",
      "\n",
      "Using categorical_feature in Dataset.\n",
      "\n",
      "/Users/santiago/miniconda3/envs/thesis/lib/python3.10/site-packages/nannyml/chunk.py:181: UserWarning:\n",
      "\n",
      "The resulting number of chunks is too low. Please consider splitting your data in a different way or continue at your own risk.\n",
      "\n",
      "/Users/santiago/miniconda3/envs/thesis/lib/python3.10/site-packages/nannyml/chunk.py:181: UserWarning:\n",
      "\n",
      "The resulting number of chunks is too low. Please consider splitting your data in a different way or continue at your own risk.\n",
      "\n",
      "/Users/santiago/miniconda3/envs/thesis/lib/python3.10/site-packages/lightgbm/basic.py:2065: UserWarning:\n",
      "\n",
      "Using categorical_feature in Dataset.\n",
      "\n",
      "/Users/santiago/miniconda3/envs/thesis/lib/python3.10/site-packages/nannyml/chunk.py:181: UserWarning:\n",
      "\n",
      "The resulting number of chunks is too low. Please consider splitting your data in a different way or continue at your own risk.\n",
      "\n",
      "/Users/santiago/miniconda3/envs/thesis/lib/python3.10/site-packages/nannyml/chunk.py:181: UserWarning:\n",
      "\n",
      "The resulting number of chunks is too low. Please consider splitting your data in a different way or continue at your own risk.\n",
      "\n",
      "/Users/santiago/miniconda3/envs/thesis/lib/python3.10/site-packages/lightgbm/basic.py:2065: UserWarning:\n",
      "\n",
      "Using categorical_feature in Dataset.\n",
      "\n",
      "/Users/santiago/miniconda3/envs/thesis/lib/python3.10/site-packages/nannyml/chunk.py:181: UserWarning:\n",
      "\n",
      "The resulting number of chunks is too low. Please consider splitting your data in a different way or continue at your own risk.\n",
      "\n",
      "/Users/santiago/miniconda3/envs/thesis/lib/python3.10/site-packages/nannyml/chunk.py:181: UserWarning:\n",
      "\n",
      "The resulting number of chunks is too low. Please consider splitting your data in a different way or continue at your own risk.\n",
      "\n",
      "/Users/santiago/miniconda3/envs/thesis/lib/python3.10/site-packages/lightgbm/basic.py:2065: UserWarning:\n",
      "\n",
      "Using categorical_feature in Dataset.\n",
      "\n",
      "/Users/santiago/miniconda3/envs/thesis/lib/python3.10/site-packages/nannyml/chunk.py:181: UserWarning:\n",
      "\n",
      "The resulting number of chunks is too low. Please consider splitting your data in a different way or continue at your own risk.\n",
      "\n",
      "/Users/santiago/miniconda3/envs/thesis/lib/python3.10/site-packages/nannyml/chunk.py:181: UserWarning:\n",
      "\n",
      "The resulting number of chunks is too low. Please consider splitting your data in a different way or continue at your own risk.\n",
      "\n",
      "/Users/santiago/miniconda3/envs/thesis/lib/python3.10/site-packages/lightgbm/basic.py:2065: UserWarning:\n",
      "\n",
      "Using categorical_feature in Dataset.\n",
      "\n",
      "/Users/santiago/miniconda3/envs/thesis/lib/python3.10/site-packages/nannyml/chunk.py:181: UserWarning:\n",
      "\n",
      "The resulting number of chunks is too low. Please consider splitting your data in a different way or continue at your own risk.\n",
      "\n",
      "/Users/santiago/miniconda3/envs/thesis/lib/python3.10/site-packages/nannyml/chunk.py:181: UserWarning:\n",
      "\n",
      "The resulting number of chunks is too low. Please consider splitting your data in a different way or continue at your own risk.\n",
      "\n"
     ]
    },
    {
     "name": "stderr",
     "output_type": "stream",
     "text": [
      "/Users/santiago/miniconda3/envs/thesis/lib/python3.10/site-packages/lightgbm/basic.py:2065: UserWarning:\n",
      "\n",
      "Using categorical_feature in Dataset.\n",
      "\n",
      "/Users/santiago/miniconda3/envs/thesis/lib/python3.10/site-packages/nannyml/chunk.py:181: UserWarning:\n",
      "\n",
      "The resulting number of chunks is too low. Please consider splitting your data in a different way or continue at your own risk.\n",
      "\n",
      "/Users/santiago/miniconda3/envs/thesis/lib/python3.10/site-packages/nannyml/chunk.py:181: UserWarning:\n",
      "\n",
      "The resulting number of chunks is too low. Please consider splitting your data in a different way or continue at your own risk.\n",
      "\n",
      "/Users/santiago/miniconda3/envs/thesis/lib/python3.10/site-packages/lightgbm/basic.py:2065: UserWarning:\n",
      "\n",
      "Using categorical_feature in Dataset.\n",
      "\n",
      "/Users/santiago/miniconda3/envs/thesis/lib/python3.10/site-packages/nannyml/chunk.py:181: UserWarning:\n",
      "\n",
      "The resulting number of chunks is too low. Please consider splitting your data in a different way or continue at your own risk.\n",
      "\n",
      "/Users/santiago/miniconda3/envs/thesis/lib/python3.10/site-packages/nannyml/chunk.py:181: UserWarning:\n",
      "\n",
      "The resulting number of chunks is too low. Please consider splitting your data in a different way or continue at your own risk.\n",
      "\n",
      "/Users/santiago/miniconda3/envs/thesis/lib/python3.10/site-packages/lightgbm/basic.py:2065: UserWarning:\n",
      "\n",
      "Using categorical_feature in Dataset.\n",
      "\n",
      "/Users/santiago/miniconda3/envs/thesis/lib/python3.10/site-packages/nannyml/chunk.py:181: UserWarning:\n",
      "\n",
      "The resulting number of chunks is too low. Please consider splitting your data in a different way or continue at your own risk.\n",
      "\n",
      "/Users/santiago/miniconda3/envs/thesis/lib/python3.10/site-packages/nannyml/chunk.py:181: UserWarning:\n",
      "\n",
      "The resulting number of chunks is too low. Please consider splitting your data in a different way or continue at your own risk.\n",
      "\n",
      "/Users/santiago/miniconda3/envs/thesis/lib/python3.10/site-packages/lightgbm/basic.py:2065: UserWarning:\n",
      "\n",
      "Using categorical_feature in Dataset.\n",
      "\n",
      "/Users/santiago/miniconda3/envs/thesis/lib/python3.10/site-packages/nannyml/chunk.py:181: UserWarning:\n",
      "\n",
      "The resulting number of chunks is too low. Please consider splitting your data in a different way or continue at your own risk.\n",
      "\n",
      "/Users/santiago/miniconda3/envs/thesis/lib/python3.10/site-packages/nannyml/chunk.py:181: UserWarning:\n",
      "\n",
      "The resulting number of chunks is too low. Please consider splitting your data in a different way or continue at your own risk.\n",
      "\n",
      "/Users/santiago/miniconda3/envs/thesis/lib/python3.10/site-packages/lightgbm/basic.py:2065: UserWarning:\n",
      "\n",
      "Using categorical_feature in Dataset.\n",
      "\n",
      "/Users/santiago/miniconda3/envs/thesis/lib/python3.10/site-packages/nannyml/chunk.py:181: UserWarning:\n",
      "\n",
      "The resulting number of chunks is too low. Please consider splitting your data in a different way or continue at your own risk.\n",
      "\n",
      "/Users/santiago/miniconda3/envs/thesis/lib/python3.10/site-packages/nannyml/chunk.py:181: UserWarning:\n",
      "\n",
      "The resulting number of chunks is too low. Please consider splitting your data in a different way or continue at your own risk.\n",
      "\n",
      "/Users/santiago/miniconda3/envs/thesis/lib/python3.10/site-packages/lightgbm/basic.py:2065: UserWarning:\n",
      "\n",
      "Using categorical_feature in Dataset.\n",
      "\n",
      "/Users/santiago/miniconda3/envs/thesis/lib/python3.10/site-packages/nannyml/chunk.py:181: UserWarning:\n",
      "\n",
      "The resulting number of chunks is too low. Please consider splitting your data in a different way or continue at your own risk.\n",
      "\n",
      "/Users/santiago/miniconda3/envs/thesis/lib/python3.10/site-packages/nannyml/chunk.py:181: UserWarning:\n",
      "\n",
      "The resulting number of chunks is too low. Please consider splitting your data in a different way or continue at your own risk.\n",
      "\n",
      "/Users/santiago/miniconda3/envs/thesis/lib/python3.10/site-packages/lightgbm/basic.py:2065: UserWarning:\n",
      "\n",
      "Using categorical_feature in Dataset.\n",
      "\n",
      "/Users/santiago/miniconda3/envs/thesis/lib/python3.10/site-packages/nannyml/chunk.py:181: UserWarning:\n",
      "\n",
      "The resulting number of chunks is too low. Please consider splitting your data in a different way or continue at your own risk.\n",
      "\n",
      "/Users/santiago/miniconda3/envs/thesis/lib/python3.10/site-packages/nannyml/chunk.py:181: UserWarning:\n",
      "\n",
      "The resulting number of chunks is too low. Please consider splitting your data in a different way or continue at your own risk.\n",
      "\n",
      "/Users/santiago/miniconda3/envs/thesis/lib/python3.10/site-packages/lightgbm/basic.py:2065: UserWarning:\n",
      "\n",
      "Using categorical_feature in Dataset.\n",
      "\n",
      "/Users/santiago/miniconda3/envs/thesis/lib/python3.10/site-packages/nannyml/chunk.py:181: UserWarning:\n",
      "\n",
      "The resulting number of chunks is too low. Please consider splitting your data in a different way or continue at your own risk.\n",
      "\n",
      "/Users/santiago/miniconda3/envs/thesis/lib/python3.10/site-packages/nannyml/chunk.py:181: UserWarning:\n",
      "\n",
      "The resulting number of chunks is too low. Please consider splitting your data in a different way or continue at your own risk.\n",
      "\n",
      "/Users/santiago/miniconda3/envs/thesis/lib/python3.10/site-packages/lightgbm/basic.py:2065: UserWarning:\n",
      "\n",
      "Using categorical_feature in Dataset.\n",
      "\n",
      "/Users/santiago/miniconda3/envs/thesis/lib/python3.10/site-packages/nannyml/chunk.py:181: UserWarning:\n",
      "\n",
      "The resulting number of chunks is too low. Please consider splitting your data in a different way or continue at your own risk.\n",
      "\n",
      "/Users/santiago/miniconda3/envs/thesis/lib/python3.10/site-packages/nannyml/chunk.py:181: UserWarning:\n",
      "\n",
      "The resulting number of chunks is too low. Please consider splitting your data in a different way or continue at your own risk.\n",
      "\n",
      "/Users/santiago/miniconda3/envs/thesis/lib/python3.10/site-packages/lightgbm/basic.py:2065: UserWarning:\n",
      "\n",
      "Using categorical_feature in Dataset.\n",
      "\n",
      "/Users/santiago/miniconda3/envs/thesis/lib/python3.10/site-packages/nannyml/chunk.py:181: UserWarning:\n",
      "\n",
      "The resulting number of chunks is too low. Please consider splitting your data in a different way or continue at your own risk.\n",
      "\n",
      "/Users/santiago/miniconda3/envs/thesis/lib/python3.10/site-packages/nannyml/chunk.py:181: UserWarning:\n",
      "\n",
      "The resulting number of chunks is too low. Please consider splitting your data in a different way or continue at your own risk.\n",
      "\n",
      "/Users/santiago/miniconda3/envs/thesis/lib/python3.10/site-packages/lightgbm/basic.py:2065: UserWarning:\n",
      "\n",
      "Using categorical_feature in Dataset.\n",
      "\n",
      "/Users/santiago/miniconda3/envs/thesis/lib/python3.10/site-packages/nannyml/chunk.py:181: UserWarning:\n",
      "\n",
      "The resulting number of chunks is too low. Please consider splitting your data in a different way or continue at your own risk.\n",
      "\n",
      "/Users/santiago/miniconda3/envs/thesis/lib/python3.10/site-packages/nannyml/chunk.py:181: UserWarning:\n",
      "\n",
      "The resulting number of chunks is too low. Please consider splitting your data in a different way or continue at your own risk.\n",
      "\n",
      "/Users/santiago/miniconda3/envs/thesis/lib/python3.10/site-packages/lightgbm/basic.py:2065: UserWarning:\n",
      "\n",
      "Using categorical_feature in Dataset.\n",
      "\n",
      "/Users/santiago/miniconda3/envs/thesis/lib/python3.10/site-packages/nannyml/chunk.py:181: UserWarning:\n",
      "\n",
      "The resulting number of chunks is too low. Please consider splitting your data in a different way or continue at your own risk.\n",
      "\n",
      "/Users/santiago/miniconda3/envs/thesis/lib/python3.10/site-packages/nannyml/chunk.py:181: UserWarning:\n",
      "\n",
      "The resulting number of chunks is too low. Please consider splitting your data in a different way or continue at your own risk.\n",
      "\n",
      "/Users/santiago/miniconda3/envs/thesis/lib/python3.10/site-packages/lightgbm/basic.py:2065: UserWarning:\n",
      "\n",
      "Using categorical_feature in Dataset.\n",
      "\n",
      "/Users/santiago/miniconda3/envs/thesis/lib/python3.10/site-packages/lightgbm/basic.py:2065: UserWarning:\n",
      "\n",
      "Using categorical_feature in Dataset.\n",
      "\n",
      "/Users/santiago/miniconda3/envs/thesis/lib/python3.10/site-packages/nannyml/chunk.py:181: UserWarning:\n",
      "\n",
      "The resulting number of chunks is too low. Please consider splitting your data in a different way or continue at your own risk.\n",
      "\n",
      "/Users/santiago/miniconda3/envs/thesis/lib/python3.10/site-packages/nannyml/chunk.py:181: UserWarning:\n",
      "\n",
      "The resulting number of chunks is too low. Please consider splitting your data in a different way or continue at your own risk.\n",
      "\n",
      "/Users/santiago/miniconda3/envs/thesis/lib/python3.10/site-packages/lightgbm/basic.py:2065: UserWarning:\n",
      "\n",
      "Using categorical_feature in Dataset.\n",
      "\n"
     ]
    },
    {
     "name": "stderr",
     "output_type": "stream",
     "text": [
      "/Users/santiago/miniconda3/envs/thesis/lib/python3.10/site-packages/nannyml/chunk.py:181: UserWarning:\n",
      "\n",
      "The resulting number of chunks is too low. Please consider splitting your data in a different way or continue at your own risk.\n",
      "\n",
      "/Users/santiago/miniconda3/envs/thesis/lib/python3.10/site-packages/nannyml/chunk.py:181: UserWarning:\n",
      "\n",
      "The resulting number of chunks is too low. Please consider splitting your data in a different way or continue at your own risk.\n",
      "\n",
      "/Users/santiago/miniconda3/envs/thesis/lib/python3.10/site-packages/lightgbm/basic.py:2065: UserWarning:\n",
      "\n",
      "Using categorical_feature in Dataset.\n",
      "\n",
      "/Users/santiago/miniconda3/envs/thesis/lib/python3.10/site-packages/nannyml/chunk.py:181: UserWarning:\n",
      "\n",
      "The resulting number of chunks is too low. Please consider splitting your data in a different way or continue at your own risk.\n",
      "\n",
      "/Users/santiago/miniconda3/envs/thesis/lib/python3.10/site-packages/nannyml/chunk.py:181: UserWarning:\n",
      "\n",
      "The resulting number of chunks is too low. Please consider splitting your data in a different way or continue at your own risk.\n",
      "\n",
      "/Users/santiago/miniconda3/envs/thesis/lib/python3.10/site-packages/lightgbm/basic.py:2065: UserWarning:\n",
      "\n",
      "Using categorical_feature in Dataset.\n",
      "\n",
      "/Users/santiago/miniconda3/envs/thesis/lib/python3.10/site-packages/nannyml/chunk.py:181: UserWarning:\n",
      "\n",
      "The resulting number of chunks is too low. Please consider splitting your data in a different way or continue at your own risk.\n",
      "\n",
      "/Users/santiago/miniconda3/envs/thesis/lib/python3.10/site-packages/nannyml/chunk.py:181: UserWarning:\n",
      "\n",
      "The resulting number of chunks is too low. Please consider splitting your data in a different way or continue at your own risk.\n",
      "\n",
      "/Users/santiago/miniconda3/envs/thesis/lib/python3.10/site-packages/nannyml/chunk.py:181: UserWarning:\n",
      "\n",
      "The resulting number of chunks is too low. Please consider splitting your data in a different way or continue at your own risk.\n",
      "\n",
      "/Users/santiago/miniconda3/envs/thesis/lib/python3.10/site-packages/lightgbm/basic.py:2065: UserWarning:\n",
      "\n",
      "Using categorical_feature in Dataset.\n",
      "\n",
      "/Users/santiago/miniconda3/envs/thesis/lib/python3.10/site-packages/nannyml/chunk.py:181: UserWarning:\n",
      "\n",
      "The resulting number of chunks is too low. Please consider splitting your data in a different way or continue at your own risk.\n",
      "\n",
      "/Users/santiago/miniconda3/envs/thesis/lib/python3.10/site-packages/nannyml/chunk.py:181: UserWarning:\n",
      "\n",
      "The resulting number of chunks is too low. Please consider splitting your data in a different way or continue at your own risk.\n",
      "\n",
      "/Users/santiago/miniconda3/envs/thesis/lib/python3.10/site-packages/nannyml/chunk.py:181: UserWarning:\n",
      "\n",
      "The resulting number of chunks is too low. Please consider splitting your data in a different way or continue at your own risk.\n",
      "\n",
      "/Users/santiago/miniconda3/envs/thesis/lib/python3.10/site-packages/nannyml/chunk.py:181: UserWarning:\n",
      "\n",
      "The resulting number of chunks is too low. Please consider splitting your data in a different way or continue at your own risk.\n",
      "\n",
      "/Users/santiago/miniconda3/envs/thesis/lib/python3.10/site-packages/nannyml/chunk.py:181: UserWarning:\n",
      "\n",
      "The resulting number of chunks is too low. Please consider splitting your data in a different way or continue at your own risk.\n",
      "\n",
      "/Users/santiago/miniconda3/envs/thesis/lib/python3.10/site-packages/lightgbm/basic.py:2065: UserWarning:\n",
      "\n",
      "Using categorical_feature in Dataset.\n",
      "\n",
      "/Users/santiago/miniconda3/envs/thesis/lib/python3.10/site-packages/nannyml/chunk.py:181: UserWarning:\n",
      "\n",
      "The resulting number of chunks is too low. Please consider splitting your data in a different way or continue at your own risk.\n",
      "\n",
      "/Users/santiago/miniconda3/envs/thesis/lib/python3.10/site-packages/nannyml/chunk.py:181: UserWarning:\n",
      "\n",
      "The resulting number of chunks is too low. Please consider splitting your data in a different way or continue at your own risk.\n",
      "\n",
      "/Users/santiago/miniconda3/envs/thesis/lib/python3.10/site-packages/nannyml/chunk.py:181: UserWarning:\n",
      "\n",
      "The resulting number of chunks is too low. Please consider splitting your data in a different way or continue at your own risk.\n",
      "\n",
      "/Users/santiago/miniconda3/envs/thesis/lib/python3.10/site-packages/lightgbm/basic.py:2065: UserWarning:\n",
      "\n",
      "Using categorical_feature in Dataset.\n",
      "\n",
      "/Users/santiago/miniconda3/envs/thesis/lib/python3.10/site-packages/nannyml/chunk.py:181: UserWarning:\n",
      "\n",
      "The resulting number of chunks is too low. Please consider splitting your data in a different way or continue at your own risk.\n",
      "\n",
      "/Users/santiago/miniconda3/envs/thesis/lib/python3.10/site-packages/nannyml/chunk.py:181: UserWarning:\n",
      "\n",
      "The resulting number of chunks is too low. Please consider splitting your data in a different way or continue at your own risk.\n",
      "\n",
      "/Users/santiago/miniconda3/envs/thesis/lib/python3.10/site-packages/nannyml/chunk.py:181: UserWarning:\n",
      "\n",
      "The resulting number of chunks is too low. Please consider splitting your data in a different way or continue at your own risk.\n",
      "\n",
      "/Users/santiago/miniconda3/envs/thesis/lib/python3.10/site-packages/lightgbm/basic.py:2065: UserWarning:\n",
      "\n",
      "Using categorical_feature in Dataset.\n",
      "\n",
      "/Users/santiago/miniconda3/envs/thesis/lib/python3.10/site-packages/nannyml/chunk.py:181: UserWarning:\n",
      "\n",
      "The resulting number of chunks is too low. Please consider splitting your data in a different way or continue at your own risk.\n",
      "\n",
      "/Users/santiago/miniconda3/envs/thesis/lib/python3.10/site-packages/nannyml/chunk.py:181: UserWarning:\n",
      "\n",
      "The resulting number of chunks is too low. Please consider splitting your data in a different way or continue at your own risk.\n",
      "\n",
      "/Users/santiago/miniconda3/envs/thesis/lib/python3.10/site-packages/nannyml/chunk.py:181: UserWarning:\n",
      "\n",
      "The resulting number of chunks is too low. Please consider splitting your data in a different way or continue at your own risk.\n",
      "\n",
      "/Users/santiago/miniconda3/envs/thesis/lib/python3.10/site-packages/lightgbm/basic.py:2065: UserWarning:\n",
      "\n",
      "Using categorical_feature in Dataset.\n",
      "\n",
      "/Users/santiago/miniconda3/envs/thesis/lib/python3.10/site-packages/nannyml/chunk.py:181: UserWarning:\n",
      "\n",
      "The resulting number of chunks is too low. Please consider splitting your data in a different way or continue at your own risk.\n",
      "\n",
      "/Users/santiago/miniconda3/envs/thesis/lib/python3.10/site-packages/nannyml/chunk.py:181: UserWarning:\n",
      "\n",
      "The resulting number of chunks is too low. Please consider splitting your data in a different way or continue at your own risk.\n",
      "\n",
      "/Users/santiago/miniconda3/envs/thesis/lib/python3.10/site-packages/nannyml/chunk.py:181: UserWarning:\n",
      "\n",
      "The resulting number of chunks is too low. Please consider splitting your data in a different way or continue at your own risk.\n",
      "\n",
      "/Users/santiago/miniconda3/envs/thesis/lib/python3.10/site-packages/nannyml/chunk.py:181: UserWarning:\n",
      "\n",
      "The resulting number of chunks is too low. Please consider splitting your data in a different way or continue at your own risk.\n",
      "\n",
      "/Users/santiago/miniconda3/envs/thesis/lib/python3.10/site-packages/nannyml/chunk.py:181: UserWarning:\n",
      "\n",
      "The resulting number of chunks is too low. Please consider splitting your data in a different way or continue at your own risk.\n",
      "\n",
      "/Users/santiago/miniconda3/envs/thesis/lib/python3.10/site-packages/lightgbm/basic.py:2065: UserWarning:\n",
      "\n",
      "Using categorical_feature in Dataset.\n",
      "\n",
      "/Users/santiago/miniconda3/envs/thesis/lib/python3.10/site-packages/nannyml/chunk.py:181: UserWarning:\n",
      "\n",
      "The resulting number of chunks is too low. Please consider splitting your data in a different way or continue at your own risk.\n",
      "\n",
      "/Users/santiago/miniconda3/envs/thesis/lib/python3.10/site-packages/nannyml/chunk.py:181: UserWarning:\n",
      "\n",
      "The resulting number of chunks is too low. Please consider splitting your data in a different way or continue at your own risk.\n",
      "\n",
      "/Users/santiago/miniconda3/envs/thesis/lib/python3.10/site-packages/lightgbm/basic.py:2065: UserWarning:\n",
      "\n",
      "Using categorical_feature in Dataset.\n",
      "\n",
      "/Users/santiago/miniconda3/envs/thesis/lib/python3.10/site-packages/nannyml/chunk.py:181: UserWarning:\n",
      "\n",
      "The resulting number of chunks is too low. Please consider splitting your data in a different way or continue at your own risk.\n",
      "\n",
      "/Users/santiago/miniconda3/envs/thesis/lib/python3.10/site-packages/nannyml/chunk.py:181: UserWarning:\n",
      "\n",
      "The resulting number of chunks is too low. Please consider splitting your data in a different way or continue at your own risk.\n",
      "\n",
      "/Users/santiago/miniconda3/envs/thesis/lib/python3.10/site-packages/lightgbm/basic.py:2065: UserWarning:\n",
      "\n",
      "Using categorical_feature in Dataset.\n",
      "\n"
     ]
    },
    {
     "name": "stderr",
     "output_type": "stream",
     "text": [
      "/Users/santiago/miniconda3/envs/thesis/lib/python3.10/site-packages/lightgbm/basic.py:2065: UserWarning:\n",
      "\n",
      "Using categorical_feature in Dataset.\n",
      "\n",
      "/Users/santiago/miniconda3/envs/thesis/lib/python3.10/site-packages/nannyml/chunk.py:181: UserWarning:\n",
      "\n",
      "The resulting number of chunks is too low. Please consider splitting your data in a different way or continue at your own risk.\n",
      "\n",
      "/Users/santiago/miniconda3/envs/thesis/lib/python3.10/site-packages/nannyml/chunk.py:181: UserWarning:\n",
      "\n",
      "The resulting number of chunks is too low. Please consider splitting your data in a different way or continue at your own risk.\n",
      "\n",
      "/Users/santiago/miniconda3/envs/thesis/lib/python3.10/site-packages/lightgbm/basic.py:2065: UserWarning:\n",
      "\n",
      "Using categorical_feature in Dataset.\n",
      "\n",
      "/Users/santiago/miniconda3/envs/thesis/lib/python3.10/site-packages/lightgbm/basic.py:2065: UserWarning:\n",
      "\n",
      "Using categorical_feature in Dataset.\n",
      "\n",
      "/Users/santiago/miniconda3/envs/thesis/lib/python3.10/site-packages/nannyml/chunk.py:181: UserWarning:\n",
      "\n",
      "The resulting number of chunks is too low. Please consider splitting your data in a different way or continue at your own risk.\n",
      "\n",
      "/Users/santiago/miniconda3/envs/thesis/lib/python3.10/site-packages/nannyml/chunk.py:181: UserWarning:\n",
      "\n",
      "The resulting number of chunks is too low. Please consider splitting your data in a different way or continue at your own risk.\n",
      "\n",
      "/Users/santiago/miniconda3/envs/thesis/lib/python3.10/site-packages/nannyml/chunk.py:181: UserWarning:\n",
      "\n",
      "The resulting number of chunks is too low. Please consider splitting your data in a different way or continue at your own risk.\n",
      "\n",
      "/Users/santiago/miniconda3/envs/thesis/lib/python3.10/site-packages/lightgbm/basic.py:2065: UserWarning:\n",
      "\n",
      "Using categorical_feature in Dataset.\n",
      "\n",
      "/Users/santiago/miniconda3/envs/thesis/lib/python3.10/site-packages/nannyml/chunk.py:181: UserWarning:\n",
      "\n",
      "The resulting number of chunks is too low. Please consider splitting your data in a different way or continue at your own risk.\n",
      "\n",
      "/Users/santiago/miniconda3/envs/thesis/lib/python3.10/site-packages/nannyml/chunk.py:181: UserWarning:\n",
      "\n",
      "The resulting number of chunks is too low. Please consider splitting your data in a different way or continue at your own risk.\n",
      "\n",
      "/Users/santiago/miniconda3/envs/thesis/lib/python3.10/site-packages/nannyml/chunk.py:181: UserWarning:\n",
      "\n",
      "The resulting number of chunks is too low. Please consider splitting your data in a different way or continue at your own risk.\n",
      "\n",
      "/Users/santiago/miniconda3/envs/thesis/lib/python3.10/site-packages/nannyml/chunk.py:181: UserWarning:\n",
      "\n",
      "The resulting number of chunks is too low. Please consider splitting your data in a different way or continue at your own risk.\n",
      "\n",
      "/Users/santiago/miniconda3/envs/thesis/lib/python3.10/site-packages/nannyml/chunk.py:181: UserWarning:\n",
      "\n",
      "The resulting number of chunks is too low. Please consider splitting your data in a different way or continue at your own risk.\n",
      "\n",
      "/Users/santiago/miniconda3/envs/thesis/lib/python3.10/site-packages/lightgbm/basic.py:2065: UserWarning:\n",
      "\n",
      "Using categorical_feature in Dataset.\n",
      "\n",
      "/Users/santiago/miniconda3/envs/thesis/lib/python3.10/site-packages/nannyml/chunk.py:181: UserWarning:\n",
      "\n",
      "The resulting number of chunks is too low. Please consider splitting your data in a different way or continue at your own risk.\n",
      "\n",
      "/Users/santiago/miniconda3/envs/thesis/lib/python3.10/site-packages/nannyml/chunk.py:181: UserWarning:\n",
      "\n",
      "The resulting number of chunks is too low. Please consider splitting your data in a different way or continue at your own risk.\n",
      "\n",
      "/Users/santiago/miniconda3/envs/thesis/lib/python3.10/site-packages/nannyml/chunk.py:181: UserWarning:\n",
      "\n",
      "The resulting number of chunks is too low. Please consider splitting your data in a different way or continue at your own risk.\n",
      "\n",
      "/Users/santiago/miniconda3/envs/thesis/lib/python3.10/site-packages/lightgbm/basic.py:2065: UserWarning:\n",
      "\n",
      "Using categorical_feature in Dataset.\n",
      "\n",
      "/Users/santiago/miniconda3/envs/thesis/lib/python3.10/site-packages/nannyml/chunk.py:181: UserWarning:\n",
      "\n",
      "The resulting number of chunks is too low. Please consider splitting your data in a different way or continue at your own risk.\n",
      "\n",
      "/Users/santiago/miniconda3/envs/thesis/lib/python3.10/site-packages/nannyml/chunk.py:181: UserWarning:\n",
      "\n",
      "The resulting number of chunks is too low. Please consider splitting your data in a different way or continue at your own risk.\n",
      "\n",
      "/Users/santiago/miniconda3/envs/thesis/lib/python3.10/site-packages/nannyml/chunk.py:181: UserWarning:\n",
      "\n",
      "The resulting number of chunks is too low. Please consider splitting your data in a different way or continue at your own risk.\n",
      "\n",
      "/Users/santiago/miniconda3/envs/thesis/lib/python3.10/site-packages/nannyml/chunk.py:181: UserWarning:\n",
      "\n",
      "The resulting number of chunks is too low. Please consider splitting your data in a different way or continue at your own risk.\n",
      "\n",
      "/Users/santiago/miniconda3/envs/thesis/lib/python3.10/site-packages/nannyml/chunk.py:181: UserWarning:\n",
      "\n",
      "The resulting number of chunks is too low. Please consider splitting your data in a different way or continue at your own risk.\n",
      "\n",
      "/Users/santiago/miniconda3/envs/thesis/lib/python3.10/site-packages/lightgbm/basic.py:2065: UserWarning:\n",
      "\n",
      "Using categorical_feature in Dataset.\n",
      "\n",
      "/Users/santiago/miniconda3/envs/thesis/lib/python3.10/site-packages/nannyml/chunk.py:181: UserWarning:\n",
      "\n",
      "The resulting number of chunks is too low. Please consider splitting your data in a different way or continue at your own risk.\n",
      "\n",
      "/Users/santiago/miniconda3/envs/thesis/lib/python3.10/site-packages/nannyml/chunk.py:181: UserWarning:\n",
      "\n",
      "The resulting number of chunks is too low. Please consider splitting your data in a different way or continue at your own risk.\n",
      "\n",
      "/Users/santiago/miniconda3/envs/thesis/lib/python3.10/site-packages/lightgbm/basic.py:2065: UserWarning:\n",
      "\n",
      "Using categorical_feature in Dataset.\n",
      "\n",
      "/Users/santiago/miniconda3/envs/thesis/lib/python3.10/site-packages/lightgbm/basic.py:2065: UserWarning:\n",
      "\n",
      "Using categorical_feature in Dataset.\n",
      "\n",
      "/Users/santiago/miniconda3/envs/thesis/lib/python3.10/site-packages/nannyml/chunk.py:181: UserWarning:\n",
      "\n",
      "The resulting number of chunks is too low. Please consider splitting your data in a different way or continue at your own risk.\n",
      "\n",
      "/Users/santiago/miniconda3/envs/thesis/lib/python3.10/site-packages/nannyml/chunk.py:181: UserWarning:\n",
      "\n",
      "The resulting number of chunks is too low. Please consider splitting your data in a different way or continue at your own risk.\n",
      "\n",
      "/Users/santiago/miniconda3/envs/thesis/lib/python3.10/site-packages/lightgbm/basic.py:2065: UserWarning:\n",
      "\n",
      "Using categorical_feature in Dataset.\n",
      "\n",
      "/Users/santiago/miniconda3/envs/thesis/lib/python3.10/site-packages/nannyml/chunk.py:181: UserWarning:\n",
      "\n",
      "The resulting number of chunks is too low. Please consider splitting your data in a different way or continue at your own risk.\n",
      "\n",
      "/Users/santiago/miniconda3/envs/thesis/lib/python3.10/site-packages/nannyml/chunk.py:181: UserWarning:\n",
      "\n",
      "The resulting number of chunks is too low. Please consider splitting your data in a different way or continue at your own risk.\n",
      "\n"
     ]
    }
   ],
   "source": [
    "pe_comparison, pe_result, realized_result = evaluate_nannyml(aging_df, metric='mape', chunk_period='M')"
   ]
  },
  {
   "cell_type": "code",
   "execution_count": 191,
   "id": "5da36d71",
   "metadata": {},
   "outputs": [
    {
     "data": {
      "application/vnd.plotly.v1+json": {
       "config": {
        "plotlyServerURL": "https://plot.ly"
       },
       "data": [
        {
         "hoverinfo": "skip",
         "legendgroup": "metric_reference",
         "line": {
          "color": "#00c8e5",
          "shape": "hv",
          "width": 2
         },
         "mode": "lines",
         "name": "Metric",
         "showlegend": true,
         "type": "scatter",
         "x": [
          "2018-10-01T00:00:00",
          "2018-11-01T00:00:00",
          "2018-12-01T00:00:00",
          "2019-01-01T00:00:00",
          "2019-02-01T00:00:00",
          "2019-03-01T00:00:00",
          "2019-04-01T00:00:00",
          "2019-05-01T00:00:00",
          "2019-06-01T00:00:00",
          "2019-07-01T00:00:00",
          "2019-08-01T00:00:00",
          "2019-09-01T00:00:00",
          "2019-10-01T00:00:00",
          "2019-10-31T23:59:59.999999999"
         ],
         "xaxis": "x",
         "y": [
          0.09515613768383896,
          0.09856753476510118,
          0.08802826135807663,
          0.11530249676207852,
          0.2773182566058189,
          0.24843045366352323,
          0.19350727916800203,
          0.24771136540319671,
          0.23062481144622607,
          0.2828606741565136,
          0.2672481778580717,
          0.29558825744011596,
          0.3762293406248287,
          0.3762293406248287
         ],
         "yaxis": "y"
        },
        {
         "customdata": [
          [
           "Realized <b>MAPE</b>",
           "<b style=\"color:#00c8e5;line-height:60px\">Reference</b>",
           "",
           "2018-10",
           "From <b>Oct-01-2018</b> to <b>Oct-31-2018</b>",
           0.0952,
           0.0526
          ],
          [
           "Realized <b>MAPE</b>",
           "<b style=\"color:#00c8e5;line-height:60px\">Reference</b>",
           "",
           "2018-11",
           "From <b>Nov-01-2018</b> to <b>Nov-30-2018</b>",
           0.0986,
           0.0275
          ],
          [
           "Realized <b>MAPE</b>",
           "<b style=\"color:#00c8e5;line-height:60px\">Reference</b>",
           "",
           "2018-12",
           "From <b>Dec-01-2018</b> to <b>Dec-31-2018</b>",
           0.088,
           0.0271
          ],
          [
           "Realized <b>MAPE</b>",
           "<b style=\"color:#00c8e5;line-height:60px\">Reference</b>",
           "",
           "2019-01",
           "From <b>Jan-01-2019</b> to <b>Jan-31-2019</b>",
           0.1153,
           0.0271
          ],
          [
           "Realized <b>MAPE</b>",
           "<b style=\"color:#00c8e5;line-height:60px\">Reference</b>",
           "",
           "2019-02",
           "From <b>Feb-01-2019</b> to <b>Feb-28-2019</b>",
           0.2773,
           0.0285
          ],
          [
           "Realized <b>MAPE</b>",
           "<b style=\"color:#00c8e5;line-height:60px\">Reference</b>",
           "",
           "2019-03",
           "From <b>Mar-01-2019</b> to <b>Mar-31-2019</b>",
           0.2484,
           0.0271
          ],
          [
           "Realized <b>MAPE</b>",
           "<b style=\"color:#00c8e5;line-height:60px\">Reference</b>",
           "",
           "2019-04",
           "From <b>Apr-01-2019</b> to <b>Apr-30-2019</b>",
           0.1935,
           0.0275
          ],
          [
           "Realized <b>MAPE</b>",
           "<b style=\"color:#00c8e5;line-height:60px\">Reference</b>",
           "",
           "2019-05",
           "From <b>May-01-2019</b> to <b>May-31-2019</b>",
           0.2477,
           0.0271
          ],
          [
           "Realized <b>MAPE</b>",
           "<b style=\"color:#00c8e5;line-height:60px\">Reference</b>",
           "",
           "2019-06",
           "From <b>Jun-01-2019</b> to <b>Jun-30-2019</b>",
           0.2306,
           0.0275
          ],
          [
           "Realized <b>MAPE</b>",
           "<b style=\"color:#00c8e5;line-height:60px\">Reference</b>",
           "",
           "2019-07",
           "From <b>Jul-01-2019</b> to <b>Jul-31-2019</b>",
           0.2829,
           0.0271
          ],
          [
           "Realized <b>MAPE</b>",
           "<b style=\"color:#00c8e5;line-height:60px\">Reference</b>",
           "",
           "2019-08",
           "From <b>Aug-01-2019</b> to <b>Aug-31-2019</b>",
           0.2672,
           0.0271
          ],
          [
           "Realized <b>MAPE</b>",
           "<b style=\"color:#00c8e5;line-height:60px\">Reference</b>",
           "",
           "2019-09",
           "From <b>Sep-01-2019</b> to <b>Sep-30-2019</b>",
           0.2956,
           0.0275
          ],
          [
           "Realized <b>MAPE</b>",
           "<b style=\"color:#00c8e5;line-height:60px\">Reference</b>",
           "",
           "2019-10",
           "From <b>Oct-01-2019</b> to <b>Oct-31-2019</b>",
           0.3762,
           0.0328
          ]
         ],
         "hovertemplate": "%{customdata[1]} &nbsp; &nbsp; %{customdata[2]} <br />Chunk: <b>%{customdata[3]}</b> &nbsp; &nbsp; %{customdata[4]} <br />%{customdata[0]}: <b>%{customdata[5]}</b><br />Confidence band: +/- <b>%{customdata[6]}</b><br /><extra></extra>",
         "legendgroup": "metric_reference",
         "marker": {
          "color": "#00c8e5",
          "size": 5,
          "symbol": "circle"
         },
         "mode": "markers",
         "name": "Metric",
         "showlegend": false,
         "type": "scatter",
         "x": [
          "2018-10-16T12:00:00",
          "2018-11-16T00:00:00",
          "2018-12-16T12:00:00",
          "2019-01-16T12:00:00",
          "2019-02-15T00:00:00",
          "2019-03-16T12:00:00",
          "2019-04-16T00:00:00",
          "2019-05-16T12:00:00",
          "2019-06-16T00:00:00",
          "2019-07-16T12:00:00",
          "2019-08-16T12:00:00",
          "2019-09-16T00:00:00",
          "2019-10-16T11:59:59.999999999"
         ],
         "xaxis": "x",
         "y": [
          0.09515613768383896,
          0.09856753476510118,
          0.08802826135807663,
          0.11530249676207852,
          0.2773182566058189,
          0.24843045366352323,
          0.19350727916800203,
          0.24771136540319671,
          0.23062481144622607,
          0.2828606741565136,
          0.2672481778580717,
          0.29558825744011596,
          0.3762293406248287,
          0.3762293406248287
         ],
         "yaxis": "y"
        },
        {
         "hoverinfo": "skip",
         "legendgroup": "metric_analysis",
         "line": {
          "color": "#00c8e5",
          "shape": "hv",
          "width": 2
         },
         "mode": "lines",
         "name": "Metric",
         "showlegend": false,
         "type": "scatter",
         "x": [
          "2019-10-01T00:00:00",
          "2019-11-01T00:00:00",
          "2019-12-01T00:00:00",
          "2020-01-01T00:00:00",
          "2020-02-01T00:00:00",
          "2020-02-29T23:59:59.999999999"
         ],
         "xaxis": "x",
         "y": [
          0.20197181560241442,
          0.32444759645852445,
          0.2958992905109666,
          0.30681077800740714,
          0.3230059921253321,
          0.3230059921253321
         ],
         "yaxis": "y"
        },
        {
         "customdata": [
          [
           "Realized <b>MAPE</b>",
           "<b style=\"color:#3b0280;line-height:60px\">Analysis</b>",
           "",
           "2019-10",
           "From <b>Oct-01-2019</b> to <b>Oct-31-2019</b>",
           0.202,
           0.0481
          ],
          [
           "Realized <b>MAPE</b>",
           "<b style=\"color:#3b0280;line-height:60px\">Analysis</b>",
           "",
           "2019-11",
           "From <b>Nov-01-2019</b> to <b>Nov-30-2019</b>",
           0.3244,
           0.0275
          ],
          [
           "Realized <b>MAPE</b>",
           "<b style=\"color:#3b0280;line-height:60px\">Analysis</b>",
           "",
           "2019-12",
           "From <b>Dec-01-2019</b> to <b>Dec-31-2019</b>",
           0.2959,
           0.0271
          ],
          [
           "Realized <b>MAPE</b>",
           "<b style=\"color:#3b0280;line-height:60px\">Analysis</b>",
           "",
           "2020-01",
           "From <b>Jan-01-2020</b> to <b>Jan-31-2020</b>",
           0.3068,
           0.0271
          ],
          [
           "Realized <b>MAPE</b>",
           "<b style=\"color:#3b0280;line-height:60px\">Analysis</b>",
           "",
           "2020-02",
           "From <b>Feb-01-2020</b> to <b>Feb-29-2020</b>",
           0.323,
           0.0313
          ]
         ],
         "hovertemplate": "%{customdata[1]} &nbsp; &nbsp; %{customdata[2]} <br />Chunk: <b>%{customdata[3]}</b> &nbsp; &nbsp; %{customdata[4]} <br />%{customdata[0]}: <b>%{customdata[5]}</b><br />Confidence band: +/- <b>%{customdata[6]}</b><br /><extra></extra>",
         "legendgroup": "metric_analysis",
         "marker": {
          "color": "#00c8e5",
          "size": 5,
          "symbol": "circle"
         },
         "mode": "markers",
         "name": "Metric",
         "showlegend": false,
         "type": "scatter",
         "x": [
          "2019-10-16T12:00:00",
          "2019-11-16T00:00:00",
          "2019-12-16T12:00:00",
          "2020-01-16T12:00:00",
          "2020-02-15T11:59:59.999999999"
         ],
         "xaxis": "x",
         "y": [
          0.20197181560241442,
          0.32444759645852445,
          0.2958992905109666,
          0.30681077800740714,
          0.3230059921253321,
          0.3230059921253321
         ],
         "yaxis": "y"
        },
        {
         "hoverinfo": "skip",
         "legendgroup": "alert",
         "marker": {
          "color": "#DD4040",
          "size": 8,
          "symbol": "diamond"
         },
         "mode": "markers",
         "name": "Alert",
         "showlegend": true,
         "type": "scatter",
         "x": [],
         "xaxis": "x",
         "y": [],
         "yaxis": "y"
        },
        {
         "hoverinfo": "skip",
         "legendgroup": "thresh",
         "line": {
          "color": "#DD4040",
          "dash": "dash",
          "width": 2
         },
         "mode": "lines",
         "name": "Threshold",
         "showlegend": true,
         "type": "scatter",
         "x": [
          "2018-10-01T00:00:00",
          "2018-11-01T00:00:00",
          "2018-12-01T00:00:00",
          "2019-01-01T00:00:00",
          "2019-02-01T00:00:00",
          "2019-03-01T00:00:00",
          "2019-04-01T00:00:00",
          "2019-05-01T00:00:00",
          "2019-06-01T00:00:00",
          "2019-07-01T00:00:00",
          "2019-08-01T00:00:00",
          "2019-09-01T00:00:00",
          "2019-10-01T00:00:00",
          "2019-10-31T23:59:59.999999999"
         ],
         "xaxis": "x",
         "y": [
          0.4804945465789571,
          0.4804945465789571,
          0.4804945465789571,
          0.4804945465789571,
          0.4804945465789571,
          0.4804945465789571,
          0.4804945465789571,
          0.4804945465789571,
          0.4804945465789571,
          0.4804945465789571,
          0.4804945465789571,
          0.4804945465789571,
          0.4804945465789571,
          0.4804945465789571
         ],
         "yaxis": "y"
        },
        {
         "hoverinfo": "skip",
         "legendgroup": "thresh",
         "line": {
          "color": "#DD4040",
          "dash": "dash",
          "width": 2
         },
         "mode": "lines",
         "name": "Threshold",
         "showlegend": false,
         "type": "scatter",
         "x": [
          "2018-10-01T00:00:00",
          "2018-11-01T00:00:00",
          "2018-12-01T00:00:00",
          "2019-01-01T00:00:00",
          "2019-02-01T00:00:00",
          "2019-03-01T00:00:00",
          "2019-04-01T00:00:00",
          "2019-05-01T00:00:00",
          "2019-06-01T00:00:00",
          "2019-07-01T00:00:00",
          "2019-08-01T00:00:00",
          "2019-09-01T00:00:00",
          "2019-10-01T00:00:00",
          "2019-10-31T23:59:59.999999999"
         ],
         "xaxis": "x",
         "y": [
          0,
          0,
          0,
          0,
          0,
          0,
          0,
          0,
          0,
          0,
          0,
          0,
          0,
          0
         ],
         "yaxis": "y"
        },
        {
         "hoverinfo": "skip",
         "legendgroup": "thresh",
         "line": {
          "color": "#DD4040",
          "dash": "dash",
          "width": 2
         },
         "mode": "lines",
         "name": "Threshold",
         "showlegend": false,
         "type": "scatter",
         "x": [
          "2019-10-01T00:00:00",
          "2019-11-01T00:00:00",
          "2019-12-01T00:00:00",
          "2020-01-01T00:00:00",
          "2020-02-01T00:00:00",
          "2020-02-29T23:59:59.999999999"
         ],
         "xaxis": "x",
         "y": [
          0.4804945465789571,
          0.4804945465789571,
          0.4804945465789571,
          0.4804945465789571,
          0.4804945465789571,
          0.4804945465789571
         ],
         "yaxis": "y"
        },
        {
         "hoverinfo": "skip",
         "legendgroup": "thresh",
         "line": {
          "color": "#DD4040",
          "dash": "dash",
          "width": 2
         },
         "mode": "lines",
         "name": "Threshold",
         "showlegend": false,
         "type": "scatter",
         "x": [
          "2019-10-01T00:00:00",
          "2019-11-01T00:00:00",
          "2019-12-01T00:00:00",
          "2020-01-01T00:00:00",
          "2020-02-01T00:00:00",
          "2020-02-29T23:59:59.999999999"
         ],
         "xaxis": "x",
         "y": [
          0,
          0,
          0,
          0,
          0,
          0
         ],
         "yaxis": "y"
        }
       ],
       "layout": {
        "annotations": [
         {
          "font": {
           "size": 16
          },
          "showarrow": false,
          "text": "Realized <b>MAPE</b>",
          "x": 0.5,
          "xanchor": "center",
          "xref": "paper",
          "y": 1,
          "yanchor": "bottom",
          "yref": "paper"
         },
         {
          "showarrow": false,
          "text": "Reference",
          "x": "2019-04-01T11:04:36.923076864",
          "xref": "x",
          "xshift": 10,
          "y": 1.01,
          "yref": "y domain"
         },
         {
          "showarrow": false,
          "text": "Analysis",
          "x": "2019-12-01T09:36:00",
          "xref": "x",
          "xshift": 15,
          "y": 1.01,
          "yref": "y domain"
         }
        ],
        "height": 500,
        "hoverlabel": {
         "bgcolor": "white",
         "font": {
          "size": 14
         }
        },
        "legend": {
         "itemclick": false,
         "itemdoubleclick": false,
         "traceorder": "grouped"
        },
        "paper_bgcolor": "rgba(255,255,255,1)",
        "plot_bgcolor": "rgba(255,255,255,1)",
        "shapes": [
         {
          "layer": "below",
          "line": {
           "color": "#666666",
           "width": 1
          },
          "type": "line",
          "x0": "2019-10-01T00:00:00",
          "x1": "2019-10-01T00:00:00",
          "xref": "x",
          "y0": 0,
          "y1": 1,
          "yref": "y domain"
         }
        ],
        "template": {
         "data": {
          "bar": [
           {
            "error_x": {
             "color": "#2a3f5f"
            },
            "error_y": {
             "color": "#2a3f5f"
            },
            "marker": {
             "line": {
              "color": "#E5ECF6",
              "width": 0.5
             },
             "pattern": {
              "fillmode": "overlay",
              "size": 10,
              "solidity": 0.2
             }
            },
            "type": "bar"
           }
          ],
          "barpolar": [
           {
            "marker": {
             "line": {
              "color": "#E5ECF6",
              "width": 0.5
             },
             "pattern": {
              "fillmode": "overlay",
              "size": 10,
              "solidity": 0.2
             }
            },
            "type": "barpolar"
           }
          ],
          "carpet": [
           {
            "aaxis": {
             "endlinecolor": "#2a3f5f",
             "gridcolor": "white",
             "linecolor": "white",
             "minorgridcolor": "white",
             "startlinecolor": "#2a3f5f"
            },
            "baxis": {
             "endlinecolor": "#2a3f5f",
             "gridcolor": "white",
             "linecolor": "white",
             "minorgridcolor": "white",
             "startlinecolor": "#2a3f5f"
            },
            "type": "carpet"
           }
          ],
          "choropleth": [
           {
            "colorbar": {
             "outlinewidth": 0,
             "ticks": ""
            },
            "type": "choropleth"
           }
          ],
          "contour": [
           {
            "colorbar": {
             "outlinewidth": 0,
             "ticks": ""
            },
            "colorscale": [
             [
              0,
              "#0d0887"
             ],
             [
              0.1111111111111111,
              "#46039f"
             ],
             [
              0.2222222222222222,
              "#7201a8"
             ],
             [
              0.3333333333333333,
              "#9c179e"
             ],
             [
              0.4444444444444444,
              "#bd3786"
             ],
             [
              0.5555555555555556,
              "#d8576b"
             ],
             [
              0.6666666666666666,
              "#ed7953"
             ],
             [
              0.7777777777777778,
              "#fb9f3a"
             ],
             [
              0.8888888888888888,
              "#fdca26"
             ],
             [
              1,
              "#f0f921"
             ]
            ],
            "type": "contour"
           }
          ],
          "contourcarpet": [
           {
            "colorbar": {
             "outlinewidth": 0,
             "ticks": ""
            },
            "type": "contourcarpet"
           }
          ],
          "heatmap": [
           {
            "colorbar": {
             "outlinewidth": 0,
             "ticks": ""
            },
            "colorscale": [
             [
              0,
              "#0d0887"
             ],
             [
              0.1111111111111111,
              "#46039f"
             ],
             [
              0.2222222222222222,
              "#7201a8"
             ],
             [
              0.3333333333333333,
              "#9c179e"
             ],
             [
              0.4444444444444444,
              "#bd3786"
             ],
             [
              0.5555555555555556,
              "#d8576b"
             ],
             [
              0.6666666666666666,
              "#ed7953"
             ],
             [
              0.7777777777777778,
              "#fb9f3a"
             ],
             [
              0.8888888888888888,
              "#fdca26"
             ],
             [
              1,
              "#f0f921"
             ]
            ],
            "type": "heatmap"
           }
          ],
          "heatmapgl": [
           {
            "colorbar": {
             "outlinewidth": 0,
             "ticks": ""
            },
            "colorscale": [
             [
              0,
              "#0d0887"
             ],
             [
              0.1111111111111111,
              "#46039f"
             ],
             [
              0.2222222222222222,
              "#7201a8"
             ],
             [
              0.3333333333333333,
              "#9c179e"
             ],
             [
              0.4444444444444444,
              "#bd3786"
             ],
             [
              0.5555555555555556,
              "#d8576b"
             ],
             [
              0.6666666666666666,
              "#ed7953"
             ],
             [
              0.7777777777777778,
              "#fb9f3a"
             ],
             [
              0.8888888888888888,
              "#fdca26"
             ],
             [
              1,
              "#f0f921"
             ]
            ],
            "type": "heatmapgl"
           }
          ],
          "histogram": [
           {
            "marker": {
             "pattern": {
              "fillmode": "overlay",
              "size": 10,
              "solidity": 0.2
             }
            },
            "type": "histogram"
           }
          ],
          "histogram2d": [
           {
            "colorbar": {
             "outlinewidth": 0,
             "ticks": ""
            },
            "colorscale": [
             [
              0,
              "#0d0887"
             ],
             [
              0.1111111111111111,
              "#46039f"
             ],
             [
              0.2222222222222222,
              "#7201a8"
             ],
             [
              0.3333333333333333,
              "#9c179e"
             ],
             [
              0.4444444444444444,
              "#bd3786"
             ],
             [
              0.5555555555555556,
              "#d8576b"
             ],
             [
              0.6666666666666666,
              "#ed7953"
             ],
             [
              0.7777777777777778,
              "#fb9f3a"
             ],
             [
              0.8888888888888888,
              "#fdca26"
             ],
             [
              1,
              "#f0f921"
             ]
            ],
            "type": "histogram2d"
           }
          ],
          "histogram2dcontour": [
           {
            "colorbar": {
             "outlinewidth": 0,
             "ticks": ""
            },
            "colorscale": [
             [
              0,
              "#0d0887"
             ],
             [
              0.1111111111111111,
              "#46039f"
             ],
             [
              0.2222222222222222,
              "#7201a8"
             ],
             [
              0.3333333333333333,
              "#9c179e"
             ],
             [
              0.4444444444444444,
              "#bd3786"
             ],
             [
              0.5555555555555556,
              "#d8576b"
             ],
             [
              0.6666666666666666,
              "#ed7953"
             ],
             [
              0.7777777777777778,
              "#fb9f3a"
             ],
             [
              0.8888888888888888,
              "#fdca26"
             ],
             [
              1,
              "#f0f921"
             ]
            ],
            "type": "histogram2dcontour"
           }
          ],
          "mesh3d": [
           {
            "colorbar": {
             "outlinewidth": 0,
             "ticks": ""
            },
            "type": "mesh3d"
           }
          ],
          "parcoords": [
           {
            "line": {
             "colorbar": {
              "outlinewidth": 0,
              "ticks": ""
             }
            },
            "type": "parcoords"
           }
          ],
          "pie": [
           {
            "automargin": true,
            "type": "pie"
           }
          ],
          "scatter": [
           {
            "fillpattern": {
             "fillmode": "overlay",
             "size": 10,
             "solidity": 0.2
            },
            "type": "scatter"
           }
          ],
          "scatter3d": [
           {
            "line": {
             "colorbar": {
              "outlinewidth": 0,
              "ticks": ""
             }
            },
            "marker": {
             "colorbar": {
              "outlinewidth": 0,
              "ticks": ""
             }
            },
            "type": "scatter3d"
           }
          ],
          "scattercarpet": [
           {
            "marker": {
             "colorbar": {
              "outlinewidth": 0,
              "ticks": ""
             }
            },
            "type": "scattercarpet"
           }
          ],
          "scattergeo": [
           {
            "marker": {
             "colorbar": {
              "outlinewidth": 0,
              "ticks": ""
             }
            },
            "type": "scattergeo"
           }
          ],
          "scattergl": [
           {
            "marker": {
             "colorbar": {
              "outlinewidth": 0,
              "ticks": ""
             }
            },
            "type": "scattergl"
           }
          ],
          "scattermapbox": [
           {
            "marker": {
             "colorbar": {
              "outlinewidth": 0,
              "ticks": ""
             }
            },
            "type": "scattermapbox"
           }
          ],
          "scatterpolar": [
           {
            "marker": {
             "colorbar": {
              "outlinewidth": 0,
              "ticks": ""
             }
            },
            "type": "scatterpolar"
           }
          ],
          "scatterpolargl": [
           {
            "marker": {
             "colorbar": {
              "outlinewidth": 0,
              "ticks": ""
             }
            },
            "type": "scatterpolargl"
           }
          ],
          "scatterternary": [
           {
            "marker": {
             "colorbar": {
              "outlinewidth": 0,
              "ticks": ""
             }
            },
            "type": "scatterternary"
           }
          ],
          "surface": [
           {
            "colorbar": {
             "outlinewidth": 0,
             "ticks": ""
            },
            "colorscale": [
             [
              0,
              "#0d0887"
             ],
             [
              0.1111111111111111,
              "#46039f"
             ],
             [
              0.2222222222222222,
              "#7201a8"
             ],
             [
              0.3333333333333333,
              "#9c179e"
             ],
             [
              0.4444444444444444,
              "#bd3786"
             ],
             [
              0.5555555555555556,
              "#d8576b"
             ],
             [
              0.6666666666666666,
              "#ed7953"
             ],
             [
              0.7777777777777778,
              "#fb9f3a"
             ],
             [
              0.8888888888888888,
              "#fdca26"
             ],
             [
              1,
              "#f0f921"
             ]
            ],
            "type": "surface"
           }
          ],
          "table": [
           {
            "cells": {
             "fill": {
              "color": "#EBF0F8"
             },
             "line": {
              "color": "white"
             }
            },
            "header": {
             "fill": {
              "color": "#C8D4E3"
             },
             "line": {
              "color": "white"
             }
            },
            "type": "table"
           }
          ]
         },
         "layout": {
          "annotationdefaults": {
           "arrowcolor": "#2a3f5f",
           "arrowhead": 0,
           "arrowwidth": 1
          },
          "autotypenumbers": "strict",
          "coloraxis": {
           "colorbar": {
            "outlinewidth": 0,
            "ticks": ""
           }
          },
          "colorscale": {
           "diverging": [
            [
             0,
             "#8e0152"
            ],
            [
             0.1,
             "#c51b7d"
            ],
            [
             0.2,
             "#de77ae"
            ],
            [
             0.3,
             "#f1b6da"
            ],
            [
             0.4,
             "#fde0ef"
            ],
            [
             0.5,
             "#f7f7f7"
            ],
            [
             0.6,
             "#e6f5d0"
            ],
            [
             0.7,
             "#b8e186"
            ],
            [
             0.8,
             "#7fbc41"
            ],
            [
             0.9,
             "#4d9221"
            ],
            [
             1,
             "#276419"
            ]
           ],
           "sequential": [
            [
             0,
             "#0d0887"
            ],
            [
             0.1111111111111111,
             "#46039f"
            ],
            [
             0.2222222222222222,
             "#7201a8"
            ],
            [
             0.3333333333333333,
             "#9c179e"
            ],
            [
             0.4444444444444444,
             "#bd3786"
            ],
            [
             0.5555555555555556,
             "#d8576b"
            ],
            [
             0.6666666666666666,
             "#ed7953"
            ],
            [
             0.7777777777777778,
             "#fb9f3a"
            ],
            [
             0.8888888888888888,
             "#fdca26"
            ],
            [
             1,
             "#f0f921"
            ]
           ],
           "sequentialminus": [
            [
             0,
             "#0d0887"
            ],
            [
             0.1111111111111111,
             "#46039f"
            ],
            [
             0.2222222222222222,
             "#7201a8"
            ],
            [
             0.3333333333333333,
             "#9c179e"
            ],
            [
             0.4444444444444444,
             "#bd3786"
            ],
            [
             0.5555555555555556,
             "#d8576b"
            ],
            [
             0.6666666666666666,
             "#ed7953"
            ],
            [
             0.7777777777777778,
             "#fb9f3a"
            ],
            [
             0.8888888888888888,
             "#fdca26"
            ],
            [
             1,
             "#f0f921"
            ]
           ]
          },
          "colorway": [
           "#636efa",
           "#EF553B",
           "#00cc96",
           "#ab63fa",
           "#FFA15A",
           "#19d3f3",
           "#FF6692",
           "#B6E880",
           "#FF97FF",
           "#FECB52"
          ],
          "font": {
           "color": "#2a3f5f"
          },
          "geo": {
           "bgcolor": "white",
           "lakecolor": "white",
           "landcolor": "#E5ECF6",
           "showlakes": true,
           "showland": true,
           "subunitcolor": "white"
          },
          "hoverlabel": {
           "align": "left"
          },
          "hovermode": "closest",
          "mapbox": {
           "style": "light"
          },
          "paper_bgcolor": "white",
          "plot_bgcolor": "#E5ECF6",
          "polar": {
           "angularaxis": {
            "gridcolor": "white",
            "linecolor": "white",
            "ticks": ""
           },
           "bgcolor": "#E5ECF6",
           "radialaxis": {
            "gridcolor": "white",
            "linecolor": "white",
            "ticks": ""
           }
          },
          "scene": {
           "xaxis": {
            "backgroundcolor": "#E5ECF6",
            "gridcolor": "white",
            "gridwidth": 2,
            "linecolor": "white",
            "showbackground": true,
            "ticks": "",
            "zerolinecolor": "white"
           },
           "yaxis": {
            "backgroundcolor": "#E5ECF6",
            "gridcolor": "white",
            "gridwidth": 2,
            "linecolor": "white",
            "showbackground": true,
            "ticks": "",
            "zerolinecolor": "white"
           },
           "zaxis": {
            "backgroundcolor": "#E5ECF6",
            "gridcolor": "white",
            "gridwidth": 2,
            "linecolor": "white",
            "showbackground": true,
            "ticks": "",
            "zerolinecolor": "white"
           }
          },
          "shapedefaults": {
           "line": {
            "color": "#2a3f5f"
           }
          },
          "ternary": {
           "aaxis": {
            "gridcolor": "white",
            "linecolor": "white",
            "ticks": ""
           },
           "baxis": {
            "gridcolor": "white",
            "linecolor": "white",
            "ticks": ""
           },
           "bgcolor": "#E5ECF6",
           "caxis": {
            "gridcolor": "white",
            "linecolor": "white",
            "ticks": ""
           }
          },
          "title": {
           "x": 0.05
          },
          "xaxis": {
           "automargin": true,
           "gridcolor": "white",
           "linecolor": "white",
           "ticks": "",
           "title": {
            "standoff": 15
           },
           "zerolinecolor": "white",
           "zerolinewidth": 2
          },
          "yaxis": {
           "automargin": true,
           "gridcolor": "white",
           "linecolor": "white",
           "ticks": "",
           "title": {
            "standoff": 15
           },
           "zerolinecolor": "white",
           "zerolinewidth": 2
          }
         }
        },
        "title": {
         "text": "Realized performance"
        },
        "xaxis": {
         "anchor": "y",
         "domain": [
          0,
          1
         ],
         "linecolor": "#3b0280",
         "matches": "x",
         "mirror": true,
         "showgrid": false,
         "title": {
          "text": "Time"
         },
         "zeroline": false
        },
        "yaxis": {
         "anchor": "x",
         "domain": [
          0,
          1
         ],
         "linecolor": "#3b0280",
         "mirror": true,
         "showgrid": false,
         "title": {
          "text": "MAPE"
         },
         "zeroline": false
        }
       }
      },
      "text/html": [
       "<div>                            <div id=\"467ebe21-e086-41c4-b5dd-468a902d6df3\" class=\"plotly-graph-div\" style=\"height:500.0px; width:100%;\"></div>            <script type=\"text/javascript\">                require([\"plotly\"], function(Plotly) {                    window.PLOTLYENV=window.PLOTLYENV || {};                                    if (document.getElementById(\"467ebe21-e086-41c4-b5dd-468a902d6df3\")) {                    Plotly.newPlot(                        \"467ebe21-e086-41c4-b5dd-468a902d6df3\",                        [{\"hoverinfo\":\"skip\",\"legendgroup\":\"metric_reference\",\"line\":{\"color\":\"#00c8e5\",\"shape\":\"hv\",\"width\":2},\"mode\":\"lines\",\"name\":\"Metric\",\"showlegend\":true,\"x\":[\"2018-10-01T00:00:00\",\"2018-11-01T00:00:00\",\"2018-12-01T00:00:00\",\"2019-01-01T00:00:00\",\"2019-02-01T00:00:00\",\"2019-03-01T00:00:00\",\"2019-04-01T00:00:00\",\"2019-05-01T00:00:00\",\"2019-06-01T00:00:00\",\"2019-07-01T00:00:00\",\"2019-08-01T00:00:00\",\"2019-09-01T00:00:00\",\"2019-10-01T00:00:00\",\"2019-10-31T23:59:59.999999999\"],\"y\":[0.09515613768383896,0.09856753476510118,0.08802826135807663,0.11530249676207852,0.2773182566058189,0.24843045366352323,0.19350727916800203,0.24771136540319671,0.23062481144622607,0.2828606741565136,0.2672481778580717,0.29558825744011596,0.3762293406248287,0.3762293406248287],\"type\":\"scatter\",\"xaxis\":\"x\",\"yaxis\":\"y\"},{\"customdata\":[[\"Realized \\u003cb\\u003eMAPE\\u003c\\u002fb\\u003e\",\"\\u003cb style=\\\"color:#00c8e5;line-height:60px\\\"\\u003eReference\\u003c\\u002fb\\u003e\",\"\",\"2018-10\",\"From \\u003cb\\u003eOct-01-2018\\u003c\\u002fb\\u003e to \\u003cb\\u003eOct-31-2018\\u003c\\u002fb\\u003e\",0.0952,0.0526],[\"Realized \\u003cb\\u003eMAPE\\u003c\\u002fb\\u003e\",\"\\u003cb style=\\\"color:#00c8e5;line-height:60px\\\"\\u003eReference\\u003c\\u002fb\\u003e\",\"\",\"2018-11\",\"From \\u003cb\\u003eNov-01-2018\\u003c\\u002fb\\u003e to \\u003cb\\u003eNov-30-2018\\u003c\\u002fb\\u003e\",0.0986,0.0275],[\"Realized \\u003cb\\u003eMAPE\\u003c\\u002fb\\u003e\",\"\\u003cb style=\\\"color:#00c8e5;line-height:60px\\\"\\u003eReference\\u003c\\u002fb\\u003e\",\"\",\"2018-12\",\"From \\u003cb\\u003eDec-01-2018\\u003c\\u002fb\\u003e to \\u003cb\\u003eDec-31-2018\\u003c\\u002fb\\u003e\",0.088,0.0271],[\"Realized \\u003cb\\u003eMAPE\\u003c\\u002fb\\u003e\",\"\\u003cb style=\\\"color:#00c8e5;line-height:60px\\\"\\u003eReference\\u003c\\u002fb\\u003e\",\"\",\"2019-01\",\"From \\u003cb\\u003eJan-01-2019\\u003c\\u002fb\\u003e to \\u003cb\\u003eJan-31-2019\\u003c\\u002fb\\u003e\",0.1153,0.0271],[\"Realized \\u003cb\\u003eMAPE\\u003c\\u002fb\\u003e\",\"\\u003cb style=\\\"color:#00c8e5;line-height:60px\\\"\\u003eReference\\u003c\\u002fb\\u003e\",\"\",\"2019-02\",\"From \\u003cb\\u003eFeb-01-2019\\u003c\\u002fb\\u003e to \\u003cb\\u003eFeb-28-2019\\u003c\\u002fb\\u003e\",0.2773,0.0285],[\"Realized \\u003cb\\u003eMAPE\\u003c\\u002fb\\u003e\",\"\\u003cb style=\\\"color:#00c8e5;line-height:60px\\\"\\u003eReference\\u003c\\u002fb\\u003e\",\"\",\"2019-03\",\"From \\u003cb\\u003eMar-01-2019\\u003c\\u002fb\\u003e to \\u003cb\\u003eMar-31-2019\\u003c\\u002fb\\u003e\",0.2484,0.0271],[\"Realized \\u003cb\\u003eMAPE\\u003c\\u002fb\\u003e\",\"\\u003cb style=\\\"color:#00c8e5;line-height:60px\\\"\\u003eReference\\u003c\\u002fb\\u003e\",\"\",\"2019-04\",\"From \\u003cb\\u003eApr-01-2019\\u003c\\u002fb\\u003e to \\u003cb\\u003eApr-30-2019\\u003c\\u002fb\\u003e\",0.1935,0.0275],[\"Realized \\u003cb\\u003eMAPE\\u003c\\u002fb\\u003e\",\"\\u003cb style=\\\"color:#00c8e5;line-height:60px\\\"\\u003eReference\\u003c\\u002fb\\u003e\",\"\",\"2019-05\",\"From \\u003cb\\u003eMay-01-2019\\u003c\\u002fb\\u003e to \\u003cb\\u003eMay-31-2019\\u003c\\u002fb\\u003e\",0.2477,0.0271],[\"Realized \\u003cb\\u003eMAPE\\u003c\\u002fb\\u003e\",\"\\u003cb style=\\\"color:#00c8e5;line-height:60px\\\"\\u003eReference\\u003c\\u002fb\\u003e\",\"\",\"2019-06\",\"From \\u003cb\\u003eJun-01-2019\\u003c\\u002fb\\u003e to \\u003cb\\u003eJun-30-2019\\u003c\\u002fb\\u003e\",0.2306,0.0275],[\"Realized \\u003cb\\u003eMAPE\\u003c\\u002fb\\u003e\",\"\\u003cb style=\\\"color:#00c8e5;line-height:60px\\\"\\u003eReference\\u003c\\u002fb\\u003e\",\"\",\"2019-07\",\"From \\u003cb\\u003eJul-01-2019\\u003c\\u002fb\\u003e to \\u003cb\\u003eJul-31-2019\\u003c\\u002fb\\u003e\",0.2829,0.0271],[\"Realized \\u003cb\\u003eMAPE\\u003c\\u002fb\\u003e\",\"\\u003cb style=\\\"color:#00c8e5;line-height:60px\\\"\\u003eReference\\u003c\\u002fb\\u003e\",\"\",\"2019-08\",\"From \\u003cb\\u003eAug-01-2019\\u003c\\u002fb\\u003e to \\u003cb\\u003eAug-31-2019\\u003c\\u002fb\\u003e\",0.2672,0.0271],[\"Realized \\u003cb\\u003eMAPE\\u003c\\u002fb\\u003e\",\"\\u003cb style=\\\"color:#00c8e5;line-height:60px\\\"\\u003eReference\\u003c\\u002fb\\u003e\",\"\",\"2019-09\",\"From \\u003cb\\u003eSep-01-2019\\u003c\\u002fb\\u003e to \\u003cb\\u003eSep-30-2019\\u003c\\u002fb\\u003e\",0.2956,0.0275],[\"Realized \\u003cb\\u003eMAPE\\u003c\\u002fb\\u003e\",\"\\u003cb style=\\\"color:#00c8e5;line-height:60px\\\"\\u003eReference\\u003c\\u002fb\\u003e\",\"\",\"2019-10\",\"From \\u003cb\\u003eOct-01-2019\\u003c\\u002fb\\u003e to \\u003cb\\u003eOct-31-2019\\u003c\\u002fb\\u003e\",0.3762,0.0328]],\"hovertemplate\":\"%{customdata[1]} &nbsp; &nbsp; %{customdata[2]} \\u003cbr \\u002f\\u003eChunk: \\u003cb\\u003e%{customdata[3]}\\u003c\\u002fb\\u003e &nbsp; &nbsp; %{customdata[4]} \\u003cbr \\u002f\\u003e%{customdata[0]}: \\u003cb\\u003e%{customdata[5]}\\u003c\\u002fb\\u003e\\u003cbr \\u002f\\u003eConfidence band: +\\u002f- \\u003cb\\u003e%{customdata[6]}\\u003c\\u002fb\\u003e\\u003cbr \\u002f\\u003e\\u003cextra\\u003e\\u003c\\u002fextra\\u003e\",\"legendgroup\":\"metric_reference\",\"marker\":{\"color\":\"#00c8e5\",\"size\":5,\"symbol\":\"circle\"},\"mode\":\"markers\",\"name\":\"Metric\",\"showlegend\":false,\"x\":[\"2018-10-16T12:00:00\",\"2018-11-16T00:00:00\",\"2018-12-16T12:00:00\",\"2019-01-16T12:00:00\",\"2019-02-15T00:00:00\",\"2019-03-16T12:00:00\",\"2019-04-16T00:00:00\",\"2019-05-16T12:00:00\",\"2019-06-16T00:00:00\",\"2019-07-16T12:00:00\",\"2019-08-16T12:00:00\",\"2019-09-16T00:00:00\",\"2019-10-16T11:59:59.999999999\"],\"y\":[0.09515613768383896,0.09856753476510118,0.08802826135807663,0.11530249676207852,0.2773182566058189,0.24843045366352323,0.19350727916800203,0.24771136540319671,0.23062481144622607,0.2828606741565136,0.2672481778580717,0.29558825744011596,0.3762293406248287,0.3762293406248287],\"type\":\"scatter\",\"xaxis\":\"x\",\"yaxis\":\"y\"},{\"hoverinfo\":\"skip\",\"legendgroup\":\"metric_analysis\",\"line\":{\"color\":\"#00c8e5\",\"shape\":\"hv\",\"width\":2},\"mode\":\"lines\",\"name\":\"Metric\",\"showlegend\":false,\"x\":[\"2019-10-01T00:00:00\",\"2019-11-01T00:00:00\",\"2019-12-01T00:00:00\",\"2020-01-01T00:00:00\",\"2020-02-01T00:00:00\",\"2020-02-29T23:59:59.999999999\"],\"y\":[0.20197181560241442,0.32444759645852445,0.2958992905109666,0.30681077800740714,0.3230059921253321,0.3230059921253321],\"type\":\"scatter\",\"xaxis\":\"x\",\"yaxis\":\"y\"},{\"customdata\":[[\"Realized \\u003cb\\u003eMAPE\\u003c\\u002fb\\u003e\",\"\\u003cb style=\\\"color:#3b0280;line-height:60px\\\"\\u003eAnalysis\\u003c\\u002fb\\u003e\",\"\",\"2019-10\",\"From \\u003cb\\u003eOct-01-2019\\u003c\\u002fb\\u003e to \\u003cb\\u003eOct-31-2019\\u003c\\u002fb\\u003e\",0.202,0.0481],[\"Realized \\u003cb\\u003eMAPE\\u003c\\u002fb\\u003e\",\"\\u003cb style=\\\"color:#3b0280;line-height:60px\\\"\\u003eAnalysis\\u003c\\u002fb\\u003e\",\"\",\"2019-11\",\"From \\u003cb\\u003eNov-01-2019\\u003c\\u002fb\\u003e to \\u003cb\\u003eNov-30-2019\\u003c\\u002fb\\u003e\",0.3244,0.0275],[\"Realized \\u003cb\\u003eMAPE\\u003c\\u002fb\\u003e\",\"\\u003cb style=\\\"color:#3b0280;line-height:60px\\\"\\u003eAnalysis\\u003c\\u002fb\\u003e\",\"\",\"2019-12\",\"From \\u003cb\\u003eDec-01-2019\\u003c\\u002fb\\u003e to \\u003cb\\u003eDec-31-2019\\u003c\\u002fb\\u003e\",0.2959,0.0271],[\"Realized \\u003cb\\u003eMAPE\\u003c\\u002fb\\u003e\",\"\\u003cb style=\\\"color:#3b0280;line-height:60px\\\"\\u003eAnalysis\\u003c\\u002fb\\u003e\",\"\",\"2020-01\",\"From \\u003cb\\u003eJan-01-2020\\u003c\\u002fb\\u003e to \\u003cb\\u003eJan-31-2020\\u003c\\u002fb\\u003e\",0.3068,0.0271],[\"Realized \\u003cb\\u003eMAPE\\u003c\\u002fb\\u003e\",\"\\u003cb style=\\\"color:#3b0280;line-height:60px\\\"\\u003eAnalysis\\u003c\\u002fb\\u003e\",\"\",\"2020-02\",\"From \\u003cb\\u003eFeb-01-2020\\u003c\\u002fb\\u003e to \\u003cb\\u003eFeb-29-2020\\u003c\\u002fb\\u003e\",0.323,0.0313]],\"hovertemplate\":\"%{customdata[1]} &nbsp; &nbsp; %{customdata[2]} \\u003cbr \\u002f\\u003eChunk: \\u003cb\\u003e%{customdata[3]}\\u003c\\u002fb\\u003e &nbsp; &nbsp; %{customdata[4]} \\u003cbr \\u002f\\u003e%{customdata[0]}: \\u003cb\\u003e%{customdata[5]}\\u003c\\u002fb\\u003e\\u003cbr \\u002f\\u003eConfidence band: +\\u002f- \\u003cb\\u003e%{customdata[6]}\\u003c\\u002fb\\u003e\\u003cbr \\u002f\\u003e\\u003cextra\\u003e\\u003c\\u002fextra\\u003e\",\"legendgroup\":\"metric_analysis\",\"marker\":{\"color\":\"#00c8e5\",\"size\":5,\"symbol\":\"circle\"},\"mode\":\"markers\",\"name\":\"Metric\",\"showlegend\":false,\"x\":[\"2019-10-16T12:00:00\",\"2019-11-16T00:00:00\",\"2019-12-16T12:00:00\",\"2020-01-16T12:00:00\",\"2020-02-15T11:59:59.999999999\"],\"y\":[0.20197181560241442,0.32444759645852445,0.2958992905109666,0.30681077800740714,0.3230059921253321,0.3230059921253321],\"type\":\"scatter\",\"xaxis\":\"x\",\"yaxis\":\"y\"},{\"hoverinfo\":\"skip\",\"legendgroup\":\"alert\",\"marker\":{\"color\":\"#DD4040\",\"size\":8,\"symbol\":\"diamond\"},\"mode\":\"markers\",\"name\":\"Alert\",\"showlegend\":true,\"x\":[],\"y\":[],\"type\":\"scatter\",\"xaxis\":\"x\",\"yaxis\":\"y\"},{\"hoverinfo\":\"skip\",\"legendgroup\":\"thresh\",\"line\":{\"color\":\"#DD4040\",\"dash\":\"dash\",\"width\":2},\"mode\":\"lines\",\"name\":\"Threshold\",\"showlegend\":true,\"x\":[\"2018-10-01T00:00:00\",\"2018-11-01T00:00:00\",\"2018-12-01T00:00:00\",\"2019-01-01T00:00:00\",\"2019-02-01T00:00:00\",\"2019-03-01T00:00:00\",\"2019-04-01T00:00:00\",\"2019-05-01T00:00:00\",\"2019-06-01T00:00:00\",\"2019-07-01T00:00:00\",\"2019-08-01T00:00:00\",\"2019-09-01T00:00:00\",\"2019-10-01T00:00:00\",\"2019-10-31T23:59:59.999999999\"],\"y\":[0.4804945465789571,0.4804945465789571,0.4804945465789571,0.4804945465789571,0.4804945465789571,0.4804945465789571,0.4804945465789571,0.4804945465789571,0.4804945465789571,0.4804945465789571,0.4804945465789571,0.4804945465789571,0.4804945465789571,0.4804945465789571],\"type\":\"scatter\",\"xaxis\":\"x\",\"yaxis\":\"y\"},{\"hoverinfo\":\"skip\",\"legendgroup\":\"thresh\",\"line\":{\"color\":\"#DD4040\",\"dash\":\"dash\",\"width\":2},\"mode\":\"lines\",\"name\":\"Threshold\",\"showlegend\":false,\"x\":[\"2018-10-01T00:00:00\",\"2018-11-01T00:00:00\",\"2018-12-01T00:00:00\",\"2019-01-01T00:00:00\",\"2019-02-01T00:00:00\",\"2019-03-01T00:00:00\",\"2019-04-01T00:00:00\",\"2019-05-01T00:00:00\",\"2019-06-01T00:00:00\",\"2019-07-01T00:00:00\",\"2019-08-01T00:00:00\",\"2019-09-01T00:00:00\",\"2019-10-01T00:00:00\",\"2019-10-31T23:59:59.999999999\"],\"y\":[0,0,0,0,0,0,0,0,0,0,0,0,0,0],\"type\":\"scatter\",\"xaxis\":\"x\",\"yaxis\":\"y\"},{\"hoverinfo\":\"skip\",\"legendgroup\":\"thresh\",\"line\":{\"color\":\"#DD4040\",\"dash\":\"dash\",\"width\":2},\"mode\":\"lines\",\"name\":\"Threshold\",\"showlegend\":false,\"x\":[\"2019-10-01T00:00:00\",\"2019-11-01T00:00:00\",\"2019-12-01T00:00:00\",\"2020-01-01T00:00:00\",\"2020-02-01T00:00:00\",\"2020-02-29T23:59:59.999999999\"],\"y\":[0.4804945465789571,0.4804945465789571,0.4804945465789571,0.4804945465789571,0.4804945465789571,0.4804945465789571],\"type\":\"scatter\",\"xaxis\":\"x\",\"yaxis\":\"y\"},{\"hoverinfo\":\"skip\",\"legendgroup\":\"thresh\",\"line\":{\"color\":\"#DD4040\",\"dash\":\"dash\",\"width\":2},\"mode\":\"lines\",\"name\":\"Threshold\",\"showlegend\":false,\"x\":[\"2019-10-01T00:00:00\",\"2019-11-01T00:00:00\",\"2019-12-01T00:00:00\",\"2020-01-01T00:00:00\",\"2020-02-01T00:00:00\",\"2020-02-29T23:59:59.999999999\"],\"y\":[0,0,0,0,0,0],\"type\":\"scatter\",\"xaxis\":\"x\",\"yaxis\":\"y\"}],                        {\"height\":500.0,\"hoverlabel\":{\"bgcolor\":\"white\",\"font\":{\"size\":14}},\"legend\":{\"itemclick\":false,\"itemdoubleclick\":false,\"traceorder\":\"grouped\"},\"paper_bgcolor\":\"rgba(255,255,255,1)\",\"plot_bgcolor\":\"rgba(255,255,255,1)\",\"title\":{\"text\":\"Realized performance\"},\"xaxis\":{\"linecolor\":\"#3b0280\",\"mirror\":true,\"showgrid\":false,\"title\":{\"text\":\"Time\"},\"zeroline\":false,\"anchor\":\"y\",\"domain\":[0.0,1.0],\"matches\":\"x\"},\"yaxis\":{\"linecolor\":\"#3b0280\",\"mirror\":true,\"showgrid\":false,\"title\":{\"text\":\"MAPE\"},\"zeroline\":false,\"anchor\":\"x\",\"domain\":[0.0,1.0]},\"template\":{\"data\":{\"histogram2dcontour\":[{\"type\":\"histogram2dcontour\",\"colorbar\":{\"outlinewidth\":0,\"ticks\":\"\"},\"colorscale\":[[0.0,\"#0d0887\"],[0.1111111111111111,\"#46039f\"],[0.2222222222222222,\"#7201a8\"],[0.3333333333333333,\"#9c179e\"],[0.4444444444444444,\"#bd3786\"],[0.5555555555555556,\"#d8576b\"],[0.6666666666666666,\"#ed7953\"],[0.7777777777777778,\"#fb9f3a\"],[0.8888888888888888,\"#fdca26\"],[1.0,\"#f0f921\"]]}],\"choropleth\":[{\"type\":\"choropleth\",\"colorbar\":{\"outlinewidth\":0,\"ticks\":\"\"}}],\"histogram2d\":[{\"type\":\"histogram2d\",\"colorbar\":{\"outlinewidth\":0,\"ticks\":\"\"},\"colorscale\":[[0.0,\"#0d0887\"],[0.1111111111111111,\"#46039f\"],[0.2222222222222222,\"#7201a8\"],[0.3333333333333333,\"#9c179e\"],[0.4444444444444444,\"#bd3786\"],[0.5555555555555556,\"#d8576b\"],[0.6666666666666666,\"#ed7953\"],[0.7777777777777778,\"#fb9f3a\"],[0.8888888888888888,\"#fdca26\"],[1.0,\"#f0f921\"]]}],\"heatmap\":[{\"type\":\"heatmap\",\"colorbar\":{\"outlinewidth\":0,\"ticks\":\"\"},\"colorscale\":[[0.0,\"#0d0887\"],[0.1111111111111111,\"#46039f\"],[0.2222222222222222,\"#7201a8\"],[0.3333333333333333,\"#9c179e\"],[0.4444444444444444,\"#bd3786\"],[0.5555555555555556,\"#d8576b\"],[0.6666666666666666,\"#ed7953\"],[0.7777777777777778,\"#fb9f3a\"],[0.8888888888888888,\"#fdca26\"],[1.0,\"#f0f921\"]]}],\"heatmapgl\":[{\"type\":\"heatmapgl\",\"colorbar\":{\"outlinewidth\":0,\"ticks\":\"\"},\"colorscale\":[[0.0,\"#0d0887\"],[0.1111111111111111,\"#46039f\"],[0.2222222222222222,\"#7201a8\"],[0.3333333333333333,\"#9c179e\"],[0.4444444444444444,\"#bd3786\"],[0.5555555555555556,\"#d8576b\"],[0.6666666666666666,\"#ed7953\"],[0.7777777777777778,\"#fb9f3a\"],[0.8888888888888888,\"#fdca26\"],[1.0,\"#f0f921\"]]}],\"contourcarpet\":[{\"type\":\"contourcarpet\",\"colorbar\":{\"outlinewidth\":0,\"ticks\":\"\"}}],\"contour\":[{\"type\":\"contour\",\"colorbar\":{\"outlinewidth\":0,\"ticks\":\"\"},\"colorscale\":[[0.0,\"#0d0887\"],[0.1111111111111111,\"#46039f\"],[0.2222222222222222,\"#7201a8\"],[0.3333333333333333,\"#9c179e\"],[0.4444444444444444,\"#bd3786\"],[0.5555555555555556,\"#d8576b\"],[0.6666666666666666,\"#ed7953\"],[0.7777777777777778,\"#fb9f3a\"],[0.8888888888888888,\"#fdca26\"],[1.0,\"#f0f921\"]]}],\"surface\":[{\"type\":\"surface\",\"colorbar\":{\"outlinewidth\":0,\"ticks\":\"\"},\"colorscale\":[[0.0,\"#0d0887\"],[0.1111111111111111,\"#46039f\"],[0.2222222222222222,\"#7201a8\"],[0.3333333333333333,\"#9c179e\"],[0.4444444444444444,\"#bd3786\"],[0.5555555555555556,\"#d8576b\"],[0.6666666666666666,\"#ed7953\"],[0.7777777777777778,\"#fb9f3a\"],[0.8888888888888888,\"#fdca26\"],[1.0,\"#f0f921\"]]}],\"mesh3d\":[{\"type\":\"mesh3d\",\"colorbar\":{\"outlinewidth\":0,\"ticks\":\"\"}}],\"scatter\":[{\"fillpattern\":{\"fillmode\":\"overlay\",\"size\":10,\"solidity\":0.2},\"type\":\"scatter\"}],\"parcoords\":[{\"type\":\"parcoords\",\"line\":{\"colorbar\":{\"outlinewidth\":0,\"ticks\":\"\"}}}],\"scatterpolargl\":[{\"type\":\"scatterpolargl\",\"marker\":{\"colorbar\":{\"outlinewidth\":0,\"ticks\":\"\"}}}],\"bar\":[{\"error_x\":{\"color\":\"#2a3f5f\"},\"error_y\":{\"color\":\"#2a3f5f\"},\"marker\":{\"line\":{\"color\":\"#E5ECF6\",\"width\":0.5},\"pattern\":{\"fillmode\":\"overlay\",\"size\":10,\"solidity\":0.2}},\"type\":\"bar\"}],\"scattergeo\":[{\"type\":\"scattergeo\",\"marker\":{\"colorbar\":{\"outlinewidth\":0,\"ticks\":\"\"}}}],\"scatterpolar\":[{\"type\":\"scatterpolar\",\"marker\":{\"colorbar\":{\"outlinewidth\":0,\"ticks\":\"\"}}}],\"histogram\":[{\"marker\":{\"pattern\":{\"fillmode\":\"overlay\",\"size\":10,\"solidity\":0.2}},\"type\":\"histogram\"}],\"scattergl\":[{\"type\":\"scattergl\",\"marker\":{\"colorbar\":{\"outlinewidth\":0,\"ticks\":\"\"}}}],\"scatter3d\":[{\"type\":\"scatter3d\",\"line\":{\"colorbar\":{\"outlinewidth\":0,\"ticks\":\"\"}},\"marker\":{\"colorbar\":{\"outlinewidth\":0,\"ticks\":\"\"}}}],\"scattermapbox\":[{\"type\":\"scattermapbox\",\"marker\":{\"colorbar\":{\"outlinewidth\":0,\"ticks\":\"\"}}}],\"scatterternary\":[{\"type\":\"scatterternary\",\"marker\":{\"colorbar\":{\"outlinewidth\":0,\"ticks\":\"\"}}}],\"scattercarpet\":[{\"type\":\"scattercarpet\",\"marker\":{\"colorbar\":{\"outlinewidth\":0,\"ticks\":\"\"}}}],\"carpet\":[{\"aaxis\":{\"endlinecolor\":\"#2a3f5f\",\"gridcolor\":\"white\",\"linecolor\":\"white\",\"minorgridcolor\":\"white\",\"startlinecolor\":\"#2a3f5f\"},\"baxis\":{\"endlinecolor\":\"#2a3f5f\",\"gridcolor\":\"white\",\"linecolor\":\"white\",\"minorgridcolor\":\"white\",\"startlinecolor\":\"#2a3f5f\"},\"type\":\"carpet\"}],\"table\":[{\"cells\":{\"fill\":{\"color\":\"#EBF0F8\"},\"line\":{\"color\":\"white\"}},\"header\":{\"fill\":{\"color\":\"#C8D4E3\"},\"line\":{\"color\":\"white\"}},\"type\":\"table\"}],\"barpolar\":[{\"marker\":{\"line\":{\"color\":\"#E5ECF6\",\"width\":0.5},\"pattern\":{\"fillmode\":\"overlay\",\"size\":10,\"solidity\":0.2}},\"type\":\"barpolar\"}],\"pie\":[{\"automargin\":true,\"type\":\"pie\"}]},\"layout\":{\"autotypenumbers\":\"strict\",\"colorway\":[\"#636efa\",\"#EF553B\",\"#00cc96\",\"#ab63fa\",\"#FFA15A\",\"#19d3f3\",\"#FF6692\",\"#B6E880\",\"#FF97FF\",\"#FECB52\"],\"font\":{\"color\":\"#2a3f5f\"},\"hovermode\":\"closest\",\"hoverlabel\":{\"align\":\"left\"},\"paper_bgcolor\":\"white\",\"plot_bgcolor\":\"#E5ECF6\",\"polar\":{\"bgcolor\":\"#E5ECF6\",\"angularaxis\":{\"gridcolor\":\"white\",\"linecolor\":\"white\",\"ticks\":\"\"},\"radialaxis\":{\"gridcolor\":\"white\",\"linecolor\":\"white\",\"ticks\":\"\"}},\"ternary\":{\"bgcolor\":\"#E5ECF6\",\"aaxis\":{\"gridcolor\":\"white\",\"linecolor\":\"white\",\"ticks\":\"\"},\"baxis\":{\"gridcolor\":\"white\",\"linecolor\":\"white\",\"ticks\":\"\"},\"caxis\":{\"gridcolor\":\"white\",\"linecolor\":\"white\",\"ticks\":\"\"}},\"coloraxis\":{\"colorbar\":{\"outlinewidth\":0,\"ticks\":\"\"}},\"colorscale\":{\"sequential\":[[0.0,\"#0d0887\"],[0.1111111111111111,\"#46039f\"],[0.2222222222222222,\"#7201a8\"],[0.3333333333333333,\"#9c179e\"],[0.4444444444444444,\"#bd3786\"],[0.5555555555555556,\"#d8576b\"],[0.6666666666666666,\"#ed7953\"],[0.7777777777777778,\"#fb9f3a\"],[0.8888888888888888,\"#fdca26\"],[1.0,\"#f0f921\"]],\"sequentialminus\":[[0.0,\"#0d0887\"],[0.1111111111111111,\"#46039f\"],[0.2222222222222222,\"#7201a8\"],[0.3333333333333333,\"#9c179e\"],[0.4444444444444444,\"#bd3786\"],[0.5555555555555556,\"#d8576b\"],[0.6666666666666666,\"#ed7953\"],[0.7777777777777778,\"#fb9f3a\"],[0.8888888888888888,\"#fdca26\"],[1.0,\"#f0f921\"]],\"diverging\":[[0,\"#8e0152\"],[0.1,\"#c51b7d\"],[0.2,\"#de77ae\"],[0.3,\"#f1b6da\"],[0.4,\"#fde0ef\"],[0.5,\"#f7f7f7\"],[0.6,\"#e6f5d0\"],[0.7,\"#b8e186\"],[0.8,\"#7fbc41\"],[0.9,\"#4d9221\"],[1,\"#276419\"]]},\"xaxis\":{\"gridcolor\":\"white\",\"linecolor\":\"white\",\"ticks\":\"\",\"title\":{\"standoff\":15},\"zerolinecolor\":\"white\",\"automargin\":true,\"zerolinewidth\":2},\"yaxis\":{\"gridcolor\":\"white\",\"linecolor\":\"white\",\"ticks\":\"\",\"title\":{\"standoff\":15},\"zerolinecolor\":\"white\",\"automargin\":true,\"zerolinewidth\":2},\"scene\":{\"xaxis\":{\"backgroundcolor\":\"#E5ECF6\",\"gridcolor\":\"white\",\"linecolor\":\"white\",\"showbackground\":true,\"ticks\":\"\",\"zerolinecolor\":\"white\",\"gridwidth\":2},\"yaxis\":{\"backgroundcolor\":\"#E5ECF6\",\"gridcolor\":\"white\",\"linecolor\":\"white\",\"showbackground\":true,\"ticks\":\"\",\"zerolinecolor\":\"white\",\"gridwidth\":2},\"zaxis\":{\"backgroundcolor\":\"#E5ECF6\",\"gridcolor\":\"white\",\"linecolor\":\"white\",\"showbackground\":true,\"ticks\":\"\",\"zerolinecolor\":\"white\",\"gridwidth\":2}},\"shapedefaults\":{\"line\":{\"color\":\"#2a3f5f\"}},\"annotationdefaults\":{\"arrowcolor\":\"#2a3f5f\",\"arrowhead\":0,\"arrowwidth\":1},\"geo\":{\"bgcolor\":\"white\",\"landcolor\":\"#E5ECF6\",\"subunitcolor\":\"white\",\"showland\":true,\"showlakes\":true,\"lakecolor\":\"white\"},\"title\":{\"x\":0.05},\"mapbox\":{\"style\":\"light\"}}},\"annotations\":[{\"font\":{\"size\":16},\"showarrow\":false,\"text\":\"Realized \\u003cb\\u003eMAPE\\u003c\\u002fb\\u003e\",\"x\":0.5,\"xanchor\":\"center\",\"xref\":\"paper\",\"y\":1.0,\"yanchor\":\"bottom\",\"yref\":\"paper\"},{\"showarrow\":false,\"text\":\"Reference\",\"x\":\"2019-04-01T11:04:36.923076864\",\"xref\":\"x\",\"xshift\":10,\"y\":1.01,\"yref\":\"y domain\"},{\"showarrow\":false,\"text\":\"Analysis\",\"x\":\"2019-12-01T09:36:00\",\"xref\":\"x\",\"xshift\":15,\"y\":1.01,\"yref\":\"y domain\"}],\"shapes\":[{\"layer\":\"below\",\"line\":{\"color\":\"#666666\",\"width\":1},\"type\":\"line\",\"x0\":\"2019-10-01T00:00:00\",\"x1\":\"2019-10-01T00:00:00\",\"xref\":\"x\",\"y0\":0,\"y1\":1,\"yref\":\"y domain\"}]},                        {\"responsive\": true}                    ).then(function(){\n",
       "                            \n",
       "var gd = document.getElementById('467ebe21-e086-41c4-b5dd-468a902d6df3');\n",
       "var x = new MutationObserver(function (mutations, observer) {{\n",
       "        var display = window.getComputedStyle(gd).display;\n",
       "        if (!display || display === 'none') {{\n",
       "            console.log([gd, 'removed!']);\n",
       "            Plotly.purge(gd);\n",
       "            observer.disconnect();\n",
       "        }}\n",
       "}});\n",
       "\n",
       "// Listen for the removal of the full notebook cells\n",
       "var notebookContainer = gd.closest('#notebook-container');\n",
       "if (notebookContainer) {{\n",
       "    x.observe(notebookContainer, {childList: true});\n",
       "}}\n",
       "\n",
       "// Listen for the clearing of the current output cell\n",
       "var outputEl = gd.closest('.output');\n",
       "if (outputEl) {{\n",
       "    x.observe(outputEl, {childList: true});\n",
       "}}\n",
       "\n",
       "                        })                };                });            </script>        </div>"
      ]
     },
     "metadata": {},
     "output_type": "display_data"
    }
   ],
   "source": [
    "realized_result[99].plot()"
   ]
  },
  {
   "cell_type": "code",
   "execution_count": 192,
   "id": "23636602",
   "metadata": {},
   "outputs": [
    {
     "data": {
      "application/vnd.plotly.v1+json": {
       "config": {
        "plotlyServerURL": "https://plot.ly"
       },
       "data": [
        {
         "hoverinfo": "skip",
         "legendgroup": "metric_reference",
         "line": {
          "color": "#3b0280",
          "dash": "dash",
          "shape": "hv",
          "width": 2
         },
         "mode": "lines",
         "name": "Metric",
         "showlegend": true,
         "type": "scatter",
         "x": [
          "2018-10-01T00:00:00",
          "2018-11-01T00:00:00",
          "2018-12-01T00:00:00",
          "2019-01-01T00:00:00",
          "2019-02-01T00:00:00",
          "2019-03-01T00:00:00",
          "2019-04-01T00:00:00",
          "2019-05-01T00:00:00",
          "2019-06-01T00:00:00",
          "2019-07-01T00:00:00",
          "2019-08-01T00:00:00",
          "2019-09-01T00:00:00",
          "2019-10-01T00:00:00",
          "2019-10-31T23:59:59.999999999"
         ],
         "xaxis": "x",
         "y": [
          0.10352659488965046,
          0.09713037884085943,
          0.09619755527676653,
          0.11957427809586864,
          0.27330172653562823,
          0.24886278810168466,
          0.18192879393672637,
          0.24911234727747317,
          0.23509882590362732,
          0.27798393772675145,
          0.2762035444643175,
          0.2871250937459183,
          0.3758562039260086,
          0.3758562039260086
         ],
         "yaxis": "y"
        },
        {
         "customdata": [
          [
           "Estimated <b>MAPE</b>",
           "<b style=\"color:#3b0280;line-height:60px\">Reference</b>",
           "",
           "2018-10",
           "From <b>Oct-01-2018</b> to <b>Oct-31-2018</b>",
           0.1035,
           0.0526
          ],
          [
           "Estimated <b>MAPE</b>",
           "<b style=\"color:#3b0280;line-height:60px\">Reference</b>",
           "",
           "2018-11",
           "From <b>Nov-01-2018</b> to <b>Nov-30-2018</b>",
           0.0971,
           0.0275
          ],
          [
           "Estimated <b>MAPE</b>",
           "<b style=\"color:#3b0280;line-height:60px\">Reference</b>",
           "",
           "2018-12",
           "From <b>Dec-01-2018</b> to <b>Dec-31-2018</b>",
           0.0962,
           0.0271
          ],
          [
           "Estimated <b>MAPE</b>",
           "<b style=\"color:#3b0280;line-height:60px\">Reference</b>",
           "",
           "2019-01",
           "From <b>Jan-01-2019</b> to <b>Jan-31-2019</b>",
           0.1196,
           0.0271
          ],
          [
           "Estimated <b>MAPE</b>",
           "<b style=\"color:#3b0280;line-height:60px\">Reference</b>",
           "",
           "2019-02",
           "From <b>Feb-01-2019</b> to <b>Feb-28-2019</b>",
           0.2733,
           0.0285
          ],
          [
           "Estimated <b>MAPE</b>",
           "<b style=\"color:#3b0280;line-height:60px\">Reference</b>",
           "",
           "2019-03",
           "From <b>Mar-01-2019</b> to <b>Mar-31-2019</b>",
           0.2489,
           0.0271
          ],
          [
           "Estimated <b>MAPE</b>",
           "<b style=\"color:#3b0280;line-height:60px\">Reference</b>",
           "",
           "2019-04",
           "From <b>Apr-01-2019</b> to <b>Apr-30-2019</b>",
           0.1819,
           0.0275
          ],
          [
           "Estimated <b>MAPE</b>",
           "<b style=\"color:#3b0280;line-height:60px\">Reference</b>",
           "",
           "2019-05",
           "From <b>May-01-2019</b> to <b>May-31-2019</b>",
           0.2491,
           0.0271
          ],
          [
           "Estimated <b>MAPE</b>",
           "<b style=\"color:#3b0280;line-height:60px\">Reference</b>",
           "",
           "2019-06",
           "From <b>Jun-01-2019</b> to <b>Jun-30-2019</b>",
           0.2351,
           0.0275
          ],
          [
           "Estimated <b>MAPE</b>",
           "<b style=\"color:#3b0280;line-height:60px\">Reference</b>",
           "",
           "2019-07",
           "From <b>Jul-01-2019</b> to <b>Jul-31-2019</b>",
           0.278,
           0.0271
          ],
          [
           "Estimated <b>MAPE</b>",
           "<b style=\"color:#3b0280;line-height:60px\">Reference</b>",
           "",
           "2019-08",
           "From <b>Aug-01-2019</b> to <b>Aug-31-2019</b>",
           0.2762,
           0.0271
          ],
          [
           "Estimated <b>MAPE</b>",
           "<b style=\"color:#3b0280;line-height:60px\">Reference</b>",
           "",
           "2019-09",
           "From <b>Sep-01-2019</b> to <b>Sep-30-2019</b>",
           0.2871,
           0.0275
          ],
          [
           "Estimated <b>MAPE</b>",
           "<b style=\"color:#3b0280;line-height:60px\">Reference</b>",
           "",
           "2019-10",
           "From <b>Oct-01-2019</b> to <b>Oct-31-2019</b>",
           0.3759,
           0.0328
          ]
         ],
         "hovertemplate": "%{customdata[1]} &nbsp; &nbsp; %{customdata[2]} <br />Chunk: <b>%{customdata[3]}</b> &nbsp; &nbsp; %{customdata[4]} <br />%{customdata[0]}: <b>%{customdata[5]}</b><br />Confidence band: +/- <b>%{customdata[6]}</b><br /><extra></extra>",
         "legendgroup": "metric_reference",
         "line": {
          "dash": "dash"
         },
         "marker": {
          "color": "#3b0280",
          "size": 5,
          "symbol": "circle"
         },
         "mode": "markers",
         "name": "Metric",
         "showlegend": false,
         "type": "scatter",
         "x": [
          "2018-10-16T12:00:00",
          "2018-11-16T00:00:00",
          "2018-12-16T12:00:00",
          "2019-01-16T12:00:00",
          "2019-02-15T00:00:00",
          "2019-03-16T12:00:00",
          "2019-04-16T00:00:00",
          "2019-05-16T12:00:00",
          "2019-06-16T00:00:00",
          "2019-07-16T12:00:00",
          "2019-08-16T12:00:00",
          "2019-09-16T00:00:00",
          "2019-10-16T11:59:59.999999999"
         ],
         "xaxis": "x",
         "y": [
          0.10352659488965046,
          0.09713037884085943,
          0.09619755527676653,
          0.11957427809586864,
          0.27330172653562823,
          0.24886278810168466,
          0.18192879393672637,
          0.24911234727747317,
          0.23509882590362732,
          0.27798393772675145,
          0.2762035444643175,
          0.2871250937459183,
          0.3758562039260086,
          0.3758562039260086
         ],
         "yaxis": "y"
        },
        {
         "hoverinfo": "skip",
         "legendgroup": "metric_analysis",
         "line": {
          "color": "#3b0280",
          "dash": "dash",
          "shape": "hv",
          "width": 2
         },
         "mode": "lines",
         "name": "Metric",
         "showlegend": false,
         "type": "scatter",
         "x": [
          "2019-10-01T00:00:00",
          "2019-11-01T00:00:00",
          "2019-12-01T00:00:00",
          "2020-01-01T00:00:00",
          "2020-02-01T00:00:00",
          "2020-02-29T23:59:59.999999999"
         ],
         "xaxis": "x",
         "y": [
          0.3310858644828358,
          0.23078759106088056,
          0.23961715350626123,
          0.31318292188412916,
          0.319092831212526,
          0.319092831212526
         ],
         "yaxis": "y"
        },
        {
         "customdata": [
          [
           "Estimated <b>MAPE</b>",
           "<b style=\"color:#3b0280;line-height:60px\">Analysis</b>",
           "",
           "2019-10",
           "From <b>Oct-01-2019</b> to <b>Oct-31-2019</b>",
           0.3311,
           0.0481
          ],
          [
           "Estimated <b>MAPE</b>",
           "<b style=\"color:#3b0280;line-height:60px\">Analysis</b>",
           "",
           "2019-11",
           "From <b>Nov-01-2019</b> to <b>Nov-30-2019</b>",
           0.2308,
           0.0275
          ],
          [
           "Estimated <b>MAPE</b>",
           "<b style=\"color:#3b0280;line-height:60px\">Analysis</b>",
           "",
           "2019-12",
           "From <b>Dec-01-2019</b> to <b>Dec-31-2019</b>",
           0.2396,
           0.0271
          ],
          [
           "Estimated <b>MAPE</b>",
           "<b style=\"color:#3b0280;line-height:60px\">Analysis</b>",
           "",
           "2020-01",
           "From <b>Jan-01-2020</b> to <b>Jan-31-2020</b>",
           0.3132,
           0.0271
          ],
          [
           "Estimated <b>MAPE</b>",
           "<b style=\"color:#3b0280;line-height:60px\">Analysis</b>",
           "",
           "2020-02",
           "From <b>Feb-01-2020</b> to <b>Feb-29-2020</b>",
           0.3191,
           0.0313
          ]
         ],
         "hovertemplate": "%{customdata[1]} &nbsp; &nbsp; %{customdata[2]} <br />Chunk: <b>%{customdata[3]}</b> &nbsp; &nbsp; %{customdata[4]} <br />%{customdata[0]}: <b>%{customdata[5]}</b><br />Confidence band: +/- <b>%{customdata[6]}</b><br /><extra></extra>",
         "legendgroup": "metric_analysis",
         "line": {
          "dash": "dash"
         },
         "marker": {
          "color": "#3b0280",
          "size": 5,
          "symbol": "circle"
         },
         "mode": "markers",
         "name": "Metric",
         "showlegend": false,
         "type": "scatter",
         "x": [
          "2019-10-16T12:00:00",
          "2019-11-16T00:00:00",
          "2019-12-16T12:00:00",
          "2020-01-16T12:00:00",
          "2020-02-15T11:59:59.999999999"
         ],
         "xaxis": "x",
         "y": [
          0.3310858644828358,
          0.23078759106088056,
          0.23961715350626123,
          0.31318292188412916,
          0.319092831212526,
          0.319092831212526
         ],
         "yaxis": "y"
        },
        {
         "hoverinfo": "skip",
         "legendgroup": "alert",
         "marker": {
          "color": "#DD4040",
          "size": 8,
          "symbol": "diamond"
         },
         "mode": "markers",
         "name": "Alert",
         "showlegend": true,
         "type": "scatter",
         "x": [],
         "xaxis": "x",
         "y": [],
         "yaxis": "y"
        },
        {
         "hoverinfo": "skip",
         "legendgroup": "thresh",
         "line": {
          "color": "#DD4040",
          "dash": "dash",
          "width": 2
         },
         "mode": "lines",
         "name": "Threshold",
         "showlegend": true,
         "type": "scatter",
         "x": [
          "2018-10-01T00:00:00",
          "2018-11-01T00:00:00",
          "2018-12-01T00:00:00",
          "2019-01-01T00:00:00",
          "2019-02-01T00:00:00",
          "2019-03-01T00:00:00",
          "2019-04-01T00:00:00",
          "2019-05-01T00:00:00",
          "2019-06-01T00:00:00",
          "2019-07-01T00:00:00",
          "2019-08-01T00:00:00",
          "2019-09-01T00:00:00",
          "2019-10-01T00:00:00",
          "2019-10-31T23:59:59.999999999"
         ],
         "xaxis": "x",
         "y": [
          0.4804945465789571,
          0.4804945465789571,
          0.4804945465789571,
          0.4804945465789571,
          0.4804945465789571,
          0.4804945465789571,
          0.4804945465789571,
          0.4804945465789571,
          0.4804945465789571,
          0.4804945465789571,
          0.4804945465789571,
          0.4804945465789571,
          0.4804945465789571,
          0.4804945465789571
         ],
         "yaxis": "y"
        },
        {
         "hoverinfo": "skip",
         "legendgroup": "thresh",
         "line": {
          "color": "#DD4040",
          "dash": "dash",
          "width": 2
         },
         "mode": "lines",
         "name": "Threshold",
         "showlegend": false,
         "type": "scatter",
         "x": [
          "2018-10-01T00:00:00",
          "2018-11-01T00:00:00",
          "2018-12-01T00:00:00",
          "2019-01-01T00:00:00",
          "2019-02-01T00:00:00",
          "2019-03-01T00:00:00",
          "2019-04-01T00:00:00",
          "2019-05-01T00:00:00",
          "2019-06-01T00:00:00",
          "2019-07-01T00:00:00",
          "2019-08-01T00:00:00",
          "2019-09-01T00:00:00",
          "2019-10-01T00:00:00",
          "2019-10-31T23:59:59.999999999"
         ],
         "xaxis": "x",
         "y": [
          0,
          0,
          0,
          0,
          0,
          0,
          0,
          0,
          0,
          0,
          0,
          0,
          0,
          0
         ],
         "yaxis": "y"
        },
        {
         "hoverinfo": "skip",
         "legendgroup": "thresh",
         "line": {
          "color": "#DD4040",
          "dash": "dash",
          "width": 2
         },
         "mode": "lines",
         "name": "Threshold",
         "showlegend": false,
         "type": "scatter",
         "x": [
          "2019-10-01T00:00:00",
          "2019-11-01T00:00:00",
          "2019-12-01T00:00:00",
          "2020-01-01T00:00:00",
          "2020-02-01T00:00:00",
          "2020-02-29T23:59:59.999999999"
         ],
         "xaxis": "x",
         "y": [
          0.4804945465789571,
          0.4804945465789571,
          0.4804945465789571,
          0.4804945465789571,
          0.4804945465789571,
          0.4804945465789571
         ],
         "yaxis": "y"
        },
        {
         "hoverinfo": "skip",
         "legendgroup": "thresh",
         "line": {
          "color": "#DD4040",
          "dash": "dash",
          "width": 2
         },
         "mode": "lines",
         "name": "Threshold",
         "showlegend": false,
         "type": "scatter",
         "x": [
          "2019-10-01T00:00:00",
          "2019-11-01T00:00:00",
          "2019-12-01T00:00:00",
          "2020-01-01T00:00:00",
          "2020-02-01T00:00:00",
          "2020-02-29T23:59:59.999999999"
         ],
         "xaxis": "x",
         "y": [
          0,
          0,
          0,
          0,
          0,
          0
         ],
         "yaxis": "y"
        },
        {
         "hoverinfo": "skip",
         "line": {
          "color": "rgba(0,0,0,0)",
          "shape": "hv"
         },
         "mode": "lines",
         "name": "Confidence band",
         "showlegend": false,
         "type": "scatter",
         "x": [
          "2018-10-01T00:00:00",
          "2018-11-01T00:00:00",
          "2018-12-01T00:00:00",
          "2019-01-01T00:00:00",
          "2019-02-01T00:00:00",
          "2019-03-01T00:00:00",
          "2019-04-01T00:00:00",
          "2019-05-01T00:00:00",
          "2019-06-01T00:00:00",
          "2019-07-01T00:00:00",
          "2019-08-01T00:00:00",
          "2019-09-01T00:00:00",
          "2019-10-01T00:00:00",
          "2019-10-31T23:59:59.999999999"
         ],
         "xaxis": "x",
         "y": [
          0.15612985324965137,
          0.12464601201465553,
          0.12326574996176076,
          0.14664247278086287,
          0.3017831127307302,
          0.2759309827866789,
          0.20944442711052247,
          0.2761805419624674,
          0.2626144590774234,
          0.30505213241174567,
          0.3032717391493117,
          0.3146407269197144,
          0.40861394177632343,
          0.40861394177632343
         ],
         "yaxis": "y"
        },
        {
         "fill": "tonexty",
         "fillcolor": "rgba(0.23137254901960785, 0.00784313725490196, 0.5019607843137255, 0.2)",
         "hoverinfo": "skip",
         "line": {
          "color": "rgba(0,0,0,0)",
          "shape": "hv"
         },
         "mode": "lines",
         "name": "Confidence band",
         "showlegend": true,
         "type": "scatter",
         "x": [
          "2018-10-01T00:00:00",
          "2018-11-01T00:00:00",
          "2018-12-01T00:00:00",
          "2019-01-01T00:00:00",
          "2019-02-01T00:00:00",
          "2019-03-01T00:00:00",
          "2019-04-01T00:00:00",
          "2019-05-01T00:00:00",
          "2019-06-01T00:00:00",
          "2019-07-01T00:00:00",
          "2019-08-01T00:00:00",
          "2019-09-01T00:00:00",
          "2019-10-01T00:00:00",
          "2019-10-31T23:59:59.999999999"
         ],
         "xaxis": "x",
         "y": [
          0.05092333652964955,
          0.06961474566706333,
          0.0691293605917723,
          0.0925060834108744,
          0.24482034034052627,
          0.22179459341669042,
          0.15441316076293027,
          0.22204415259247892,
          0.20758319272983122,
          0.25091574304175723,
          0.24913534977932325,
          0.25960946057212225,
          0.3430984660756938,
          0.3430984660756938
         ],
         "yaxis": "y"
        },
        {
         "hoverinfo": "skip",
         "line": {
          "color": "rgba(0,0,0,0)",
          "shape": "hv"
         },
         "mode": "lines",
         "name": "Confidence band",
         "showlegend": false,
         "type": "scatter",
         "x": [
          "2019-10-01T00:00:00",
          "2019-11-01T00:00:00",
          "2019-12-01T00:00:00",
          "2020-01-01T00:00:00",
          "2020-02-01T00:00:00",
          "2020-02-29T23:59:59.999999999"
         ],
         "xaxis": "x",
         "y": [
          0.37914652749339955,
          0.25830322423467666,
          0.26668534819125544,
          0.3402511165691234,
          0.3504046549396976,
          0.3504046549396976
         ],
         "yaxis": "y"
        },
        {
         "fill": "tonexty",
         "fillcolor": "rgba(0.23137254901960785, 0.00784313725490196, 0.5019607843137255, 0.2)",
         "hoverinfo": "skip",
         "line": {
          "color": "rgba(0,0,0,0)",
          "shape": "hv"
         },
         "mode": "lines",
         "name": "Confidence band",
         "showlegend": false,
         "type": "scatter",
         "x": [
          "2019-10-01T00:00:00",
          "2019-11-01T00:00:00",
          "2019-12-01T00:00:00",
          "2020-01-01T00:00:00",
          "2020-02-01T00:00:00",
          "2020-02-29T23:59:59.999999999"
         ],
         "xaxis": "x",
         "y": [
          0.283025201472272,
          0.20327195788708446,
          0.21254895882126698,
          0.28611472719913494,
          0.28778100748535446,
          0.28778100748535446
         ],
         "yaxis": "y"
        }
       ],
       "layout": {
        "annotations": [
         {
          "font": {
           "size": 16
          },
          "showarrow": false,
          "text": "Estimated <b>MAPE</b>",
          "x": 0.5,
          "xanchor": "center",
          "xref": "paper",
          "y": 1,
          "yanchor": "bottom",
          "yref": "paper"
         },
         {
          "showarrow": false,
          "text": "Reference",
          "x": "2019-04-01T11:04:36.923076864",
          "xref": "x",
          "xshift": 10,
          "y": 1.01,
          "yref": "y domain"
         },
         {
          "showarrow": false,
          "text": "Analysis",
          "x": "2019-12-01T09:36:00",
          "xref": "x",
          "xshift": 15,
          "y": 1.01,
          "yref": "y domain"
         }
        ],
        "height": 500,
        "hoverlabel": {
         "bgcolor": "white",
         "font": {
          "size": 14
         }
        },
        "legend": {
         "itemclick": false,
         "itemdoubleclick": false,
         "traceorder": "grouped"
        },
        "paper_bgcolor": "rgba(255,255,255,1)",
        "plot_bgcolor": "rgba(255,255,255,1)",
        "shapes": [
         {
          "layer": "below",
          "line": {
           "color": "#666666",
           "width": 1
          },
          "type": "line",
          "x0": "2019-10-01T00:00:00",
          "x1": "2019-10-01T00:00:00",
          "xref": "x",
          "y0": 0,
          "y1": 1,
          "yref": "y domain"
         }
        ],
        "template": {
         "data": {
          "bar": [
           {
            "error_x": {
             "color": "#2a3f5f"
            },
            "error_y": {
             "color": "#2a3f5f"
            },
            "marker": {
             "line": {
              "color": "#E5ECF6",
              "width": 0.5
             },
             "pattern": {
              "fillmode": "overlay",
              "size": 10,
              "solidity": 0.2
             }
            },
            "type": "bar"
           }
          ],
          "barpolar": [
           {
            "marker": {
             "line": {
              "color": "#E5ECF6",
              "width": 0.5
             },
             "pattern": {
              "fillmode": "overlay",
              "size": 10,
              "solidity": 0.2
             }
            },
            "type": "barpolar"
           }
          ],
          "carpet": [
           {
            "aaxis": {
             "endlinecolor": "#2a3f5f",
             "gridcolor": "white",
             "linecolor": "white",
             "minorgridcolor": "white",
             "startlinecolor": "#2a3f5f"
            },
            "baxis": {
             "endlinecolor": "#2a3f5f",
             "gridcolor": "white",
             "linecolor": "white",
             "minorgridcolor": "white",
             "startlinecolor": "#2a3f5f"
            },
            "type": "carpet"
           }
          ],
          "choropleth": [
           {
            "colorbar": {
             "outlinewidth": 0,
             "ticks": ""
            },
            "type": "choropleth"
           }
          ],
          "contour": [
           {
            "colorbar": {
             "outlinewidth": 0,
             "ticks": ""
            },
            "colorscale": [
             [
              0,
              "#0d0887"
             ],
             [
              0.1111111111111111,
              "#46039f"
             ],
             [
              0.2222222222222222,
              "#7201a8"
             ],
             [
              0.3333333333333333,
              "#9c179e"
             ],
             [
              0.4444444444444444,
              "#bd3786"
             ],
             [
              0.5555555555555556,
              "#d8576b"
             ],
             [
              0.6666666666666666,
              "#ed7953"
             ],
             [
              0.7777777777777778,
              "#fb9f3a"
             ],
             [
              0.8888888888888888,
              "#fdca26"
             ],
             [
              1,
              "#f0f921"
             ]
            ],
            "type": "contour"
           }
          ],
          "contourcarpet": [
           {
            "colorbar": {
             "outlinewidth": 0,
             "ticks": ""
            },
            "type": "contourcarpet"
           }
          ],
          "heatmap": [
           {
            "colorbar": {
             "outlinewidth": 0,
             "ticks": ""
            },
            "colorscale": [
             [
              0,
              "#0d0887"
             ],
             [
              0.1111111111111111,
              "#46039f"
             ],
             [
              0.2222222222222222,
              "#7201a8"
             ],
             [
              0.3333333333333333,
              "#9c179e"
             ],
             [
              0.4444444444444444,
              "#bd3786"
             ],
             [
              0.5555555555555556,
              "#d8576b"
             ],
             [
              0.6666666666666666,
              "#ed7953"
             ],
             [
              0.7777777777777778,
              "#fb9f3a"
             ],
             [
              0.8888888888888888,
              "#fdca26"
             ],
             [
              1,
              "#f0f921"
             ]
            ],
            "type": "heatmap"
           }
          ],
          "heatmapgl": [
           {
            "colorbar": {
             "outlinewidth": 0,
             "ticks": ""
            },
            "colorscale": [
             [
              0,
              "#0d0887"
             ],
             [
              0.1111111111111111,
              "#46039f"
             ],
             [
              0.2222222222222222,
              "#7201a8"
             ],
             [
              0.3333333333333333,
              "#9c179e"
             ],
             [
              0.4444444444444444,
              "#bd3786"
             ],
             [
              0.5555555555555556,
              "#d8576b"
             ],
             [
              0.6666666666666666,
              "#ed7953"
             ],
             [
              0.7777777777777778,
              "#fb9f3a"
             ],
             [
              0.8888888888888888,
              "#fdca26"
             ],
             [
              1,
              "#f0f921"
             ]
            ],
            "type": "heatmapgl"
           }
          ],
          "histogram": [
           {
            "marker": {
             "pattern": {
              "fillmode": "overlay",
              "size": 10,
              "solidity": 0.2
             }
            },
            "type": "histogram"
           }
          ],
          "histogram2d": [
           {
            "colorbar": {
             "outlinewidth": 0,
             "ticks": ""
            },
            "colorscale": [
             [
              0,
              "#0d0887"
             ],
             [
              0.1111111111111111,
              "#46039f"
             ],
             [
              0.2222222222222222,
              "#7201a8"
             ],
             [
              0.3333333333333333,
              "#9c179e"
             ],
             [
              0.4444444444444444,
              "#bd3786"
             ],
             [
              0.5555555555555556,
              "#d8576b"
             ],
             [
              0.6666666666666666,
              "#ed7953"
             ],
             [
              0.7777777777777778,
              "#fb9f3a"
             ],
             [
              0.8888888888888888,
              "#fdca26"
             ],
             [
              1,
              "#f0f921"
             ]
            ],
            "type": "histogram2d"
           }
          ],
          "histogram2dcontour": [
           {
            "colorbar": {
             "outlinewidth": 0,
             "ticks": ""
            },
            "colorscale": [
             [
              0,
              "#0d0887"
             ],
             [
              0.1111111111111111,
              "#46039f"
             ],
             [
              0.2222222222222222,
              "#7201a8"
             ],
             [
              0.3333333333333333,
              "#9c179e"
             ],
             [
              0.4444444444444444,
              "#bd3786"
             ],
             [
              0.5555555555555556,
              "#d8576b"
             ],
             [
              0.6666666666666666,
              "#ed7953"
             ],
             [
              0.7777777777777778,
              "#fb9f3a"
             ],
             [
              0.8888888888888888,
              "#fdca26"
             ],
             [
              1,
              "#f0f921"
             ]
            ],
            "type": "histogram2dcontour"
           }
          ],
          "mesh3d": [
           {
            "colorbar": {
             "outlinewidth": 0,
             "ticks": ""
            },
            "type": "mesh3d"
           }
          ],
          "parcoords": [
           {
            "line": {
             "colorbar": {
              "outlinewidth": 0,
              "ticks": ""
             }
            },
            "type": "parcoords"
           }
          ],
          "pie": [
           {
            "automargin": true,
            "type": "pie"
           }
          ],
          "scatter": [
           {
            "fillpattern": {
             "fillmode": "overlay",
             "size": 10,
             "solidity": 0.2
            },
            "type": "scatter"
           }
          ],
          "scatter3d": [
           {
            "line": {
             "colorbar": {
              "outlinewidth": 0,
              "ticks": ""
             }
            },
            "marker": {
             "colorbar": {
              "outlinewidth": 0,
              "ticks": ""
             }
            },
            "type": "scatter3d"
           }
          ],
          "scattercarpet": [
           {
            "marker": {
             "colorbar": {
              "outlinewidth": 0,
              "ticks": ""
             }
            },
            "type": "scattercarpet"
           }
          ],
          "scattergeo": [
           {
            "marker": {
             "colorbar": {
              "outlinewidth": 0,
              "ticks": ""
             }
            },
            "type": "scattergeo"
           }
          ],
          "scattergl": [
           {
            "marker": {
             "colorbar": {
              "outlinewidth": 0,
              "ticks": ""
             }
            },
            "type": "scattergl"
           }
          ],
          "scattermapbox": [
           {
            "marker": {
             "colorbar": {
              "outlinewidth": 0,
              "ticks": ""
             }
            },
            "type": "scattermapbox"
           }
          ],
          "scatterpolar": [
           {
            "marker": {
             "colorbar": {
              "outlinewidth": 0,
              "ticks": ""
             }
            },
            "type": "scatterpolar"
           }
          ],
          "scatterpolargl": [
           {
            "marker": {
             "colorbar": {
              "outlinewidth": 0,
              "ticks": ""
             }
            },
            "type": "scatterpolargl"
           }
          ],
          "scatterternary": [
           {
            "marker": {
             "colorbar": {
              "outlinewidth": 0,
              "ticks": ""
             }
            },
            "type": "scatterternary"
           }
          ],
          "surface": [
           {
            "colorbar": {
             "outlinewidth": 0,
             "ticks": ""
            },
            "colorscale": [
             [
              0,
              "#0d0887"
             ],
             [
              0.1111111111111111,
              "#46039f"
             ],
             [
              0.2222222222222222,
              "#7201a8"
             ],
             [
              0.3333333333333333,
              "#9c179e"
             ],
             [
              0.4444444444444444,
              "#bd3786"
             ],
             [
              0.5555555555555556,
              "#d8576b"
             ],
             [
              0.6666666666666666,
              "#ed7953"
             ],
             [
              0.7777777777777778,
              "#fb9f3a"
             ],
             [
              0.8888888888888888,
              "#fdca26"
             ],
             [
              1,
              "#f0f921"
             ]
            ],
            "type": "surface"
           }
          ],
          "table": [
           {
            "cells": {
             "fill": {
              "color": "#EBF0F8"
             },
             "line": {
              "color": "white"
             }
            },
            "header": {
             "fill": {
              "color": "#C8D4E3"
             },
             "line": {
              "color": "white"
             }
            },
            "type": "table"
           }
          ]
         },
         "layout": {
          "annotationdefaults": {
           "arrowcolor": "#2a3f5f",
           "arrowhead": 0,
           "arrowwidth": 1
          },
          "autotypenumbers": "strict",
          "coloraxis": {
           "colorbar": {
            "outlinewidth": 0,
            "ticks": ""
           }
          },
          "colorscale": {
           "diverging": [
            [
             0,
             "#8e0152"
            ],
            [
             0.1,
             "#c51b7d"
            ],
            [
             0.2,
             "#de77ae"
            ],
            [
             0.3,
             "#f1b6da"
            ],
            [
             0.4,
             "#fde0ef"
            ],
            [
             0.5,
             "#f7f7f7"
            ],
            [
             0.6,
             "#e6f5d0"
            ],
            [
             0.7,
             "#b8e186"
            ],
            [
             0.8,
             "#7fbc41"
            ],
            [
             0.9,
             "#4d9221"
            ],
            [
             1,
             "#276419"
            ]
           ],
           "sequential": [
            [
             0,
             "#0d0887"
            ],
            [
             0.1111111111111111,
             "#46039f"
            ],
            [
             0.2222222222222222,
             "#7201a8"
            ],
            [
             0.3333333333333333,
             "#9c179e"
            ],
            [
             0.4444444444444444,
             "#bd3786"
            ],
            [
             0.5555555555555556,
             "#d8576b"
            ],
            [
             0.6666666666666666,
             "#ed7953"
            ],
            [
             0.7777777777777778,
             "#fb9f3a"
            ],
            [
             0.8888888888888888,
             "#fdca26"
            ],
            [
             1,
             "#f0f921"
            ]
           ],
           "sequentialminus": [
            [
             0,
             "#0d0887"
            ],
            [
             0.1111111111111111,
             "#46039f"
            ],
            [
             0.2222222222222222,
             "#7201a8"
            ],
            [
             0.3333333333333333,
             "#9c179e"
            ],
            [
             0.4444444444444444,
             "#bd3786"
            ],
            [
             0.5555555555555556,
             "#d8576b"
            ],
            [
             0.6666666666666666,
             "#ed7953"
            ],
            [
             0.7777777777777778,
             "#fb9f3a"
            ],
            [
             0.8888888888888888,
             "#fdca26"
            ],
            [
             1,
             "#f0f921"
            ]
           ]
          },
          "colorway": [
           "#636efa",
           "#EF553B",
           "#00cc96",
           "#ab63fa",
           "#FFA15A",
           "#19d3f3",
           "#FF6692",
           "#B6E880",
           "#FF97FF",
           "#FECB52"
          ],
          "font": {
           "color": "#2a3f5f"
          },
          "geo": {
           "bgcolor": "white",
           "lakecolor": "white",
           "landcolor": "#E5ECF6",
           "showlakes": true,
           "showland": true,
           "subunitcolor": "white"
          },
          "hoverlabel": {
           "align": "left"
          },
          "hovermode": "closest",
          "mapbox": {
           "style": "light"
          },
          "paper_bgcolor": "white",
          "plot_bgcolor": "#E5ECF6",
          "polar": {
           "angularaxis": {
            "gridcolor": "white",
            "linecolor": "white",
            "ticks": ""
           },
           "bgcolor": "#E5ECF6",
           "radialaxis": {
            "gridcolor": "white",
            "linecolor": "white",
            "ticks": ""
           }
          },
          "scene": {
           "xaxis": {
            "backgroundcolor": "#E5ECF6",
            "gridcolor": "white",
            "gridwidth": 2,
            "linecolor": "white",
            "showbackground": true,
            "ticks": "",
            "zerolinecolor": "white"
           },
           "yaxis": {
            "backgroundcolor": "#E5ECF6",
            "gridcolor": "white",
            "gridwidth": 2,
            "linecolor": "white",
            "showbackground": true,
            "ticks": "",
            "zerolinecolor": "white"
           },
           "zaxis": {
            "backgroundcolor": "#E5ECF6",
            "gridcolor": "white",
            "gridwidth": 2,
            "linecolor": "white",
            "showbackground": true,
            "ticks": "",
            "zerolinecolor": "white"
           }
          },
          "shapedefaults": {
           "line": {
            "color": "#2a3f5f"
           }
          },
          "ternary": {
           "aaxis": {
            "gridcolor": "white",
            "linecolor": "white",
            "ticks": ""
           },
           "baxis": {
            "gridcolor": "white",
            "linecolor": "white",
            "ticks": ""
           },
           "bgcolor": "#E5ECF6",
           "caxis": {
            "gridcolor": "white",
            "linecolor": "white",
            "ticks": ""
           }
          },
          "title": {
           "x": 0.05
          },
          "xaxis": {
           "automargin": true,
           "gridcolor": "white",
           "linecolor": "white",
           "ticks": "",
           "title": {
            "standoff": 15
           },
           "zerolinecolor": "white",
           "zerolinewidth": 2
          },
          "yaxis": {
           "automargin": true,
           "gridcolor": "white",
           "linecolor": "white",
           "ticks": "",
           "title": {
            "standoff": 15
           },
           "zerolinecolor": "white",
           "zerolinewidth": 2
          }
         }
        },
        "title": {
         "text": "Estimated performance <b>(DLE)</b>"
        },
        "xaxis": {
         "anchor": "y",
         "domain": [
          0,
          1
         ],
         "linecolor": "#3b0280",
         "matches": "x",
         "mirror": true,
         "showgrid": false,
         "title": {
          "text": "Time"
         },
         "zeroline": false
        },
        "yaxis": {
         "anchor": "x",
         "domain": [
          0,
          1
         ],
         "linecolor": "#3b0280",
         "mirror": true,
         "showgrid": false,
         "title": {
          "text": "MAPE"
         },
         "zeroline": false
        }
       }
      },
      "text/html": [
       "<div>                            <div id=\"4c168b57-6915-499e-91c8-0cd8a71f3a90\" class=\"plotly-graph-div\" style=\"height:500.0px; width:100%;\"></div>            <script type=\"text/javascript\">                require([\"plotly\"], function(Plotly) {                    window.PLOTLYENV=window.PLOTLYENV || {};                                    if (document.getElementById(\"4c168b57-6915-499e-91c8-0cd8a71f3a90\")) {                    Plotly.newPlot(                        \"4c168b57-6915-499e-91c8-0cd8a71f3a90\",                        [{\"hoverinfo\":\"skip\",\"legendgroup\":\"metric_reference\",\"line\":{\"color\":\"#3b0280\",\"dash\":\"dash\",\"shape\":\"hv\",\"width\":2},\"mode\":\"lines\",\"name\":\"Metric\",\"showlegend\":true,\"x\":[\"2018-10-01T00:00:00\",\"2018-11-01T00:00:00\",\"2018-12-01T00:00:00\",\"2019-01-01T00:00:00\",\"2019-02-01T00:00:00\",\"2019-03-01T00:00:00\",\"2019-04-01T00:00:00\",\"2019-05-01T00:00:00\",\"2019-06-01T00:00:00\",\"2019-07-01T00:00:00\",\"2019-08-01T00:00:00\",\"2019-09-01T00:00:00\",\"2019-10-01T00:00:00\",\"2019-10-31T23:59:59.999999999\"],\"y\":[0.10352659488965046,0.09713037884085943,0.09619755527676653,0.11957427809586864,0.27330172653562823,0.24886278810168466,0.18192879393672637,0.24911234727747317,0.23509882590362732,0.27798393772675145,0.2762035444643175,0.2871250937459183,0.3758562039260086,0.3758562039260086],\"type\":\"scatter\",\"xaxis\":\"x\",\"yaxis\":\"y\"},{\"customdata\":[[\"Estimated \\u003cb\\u003eMAPE\\u003c\\u002fb\\u003e\",\"\\u003cb style=\\\"color:#3b0280;line-height:60px\\\"\\u003eReference\\u003c\\u002fb\\u003e\",\"\",\"2018-10\",\"From \\u003cb\\u003eOct-01-2018\\u003c\\u002fb\\u003e to \\u003cb\\u003eOct-31-2018\\u003c\\u002fb\\u003e\",0.1035,0.0526],[\"Estimated \\u003cb\\u003eMAPE\\u003c\\u002fb\\u003e\",\"\\u003cb style=\\\"color:#3b0280;line-height:60px\\\"\\u003eReference\\u003c\\u002fb\\u003e\",\"\",\"2018-11\",\"From \\u003cb\\u003eNov-01-2018\\u003c\\u002fb\\u003e to \\u003cb\\u003eNov-30-2018\\u003c\\u002fb\\u003e\",0.0971,0.0275],[\"Estimated \\u003cb\\u003eMAPE\\u003c\\u002fb\\u003e\",\"\\u003cb style=\\\"color:#3b0280;line-height:60px\\\"\\u003eReference\\u003c\\u002fb\\u003e\",\"\",\"2018-12\",\"From \\u003cb\\u003eDec-01-2018\\u003c\\u002fb\\u003e to \\u003cb\\u003eDec-31-2018\\u003c\\u002fb\\u003e\",0.0962,0.0271],[\"Estimated \\u003cb\\u003eMAPE\\u003c\\u002fb\\u003e\",\"\\u003cb style=\\\"color:#3b0280;line-height:60px\\\"\\u003eReference\\u003c\\u002fb\\u003e\",\"\",\"2019-01\",\"From \\u003cb\\u003eJan-01-2019\\u003c\\u002fb\\u003e to \\u003cb\\u003eJan-31-2019\\u003c\\u002fb\\u003e\",0.1196,0.0271],[\"Estimated \\u003cb\\u003eMAPE\\u003c\\u002fb\\u003e\",\"\\u003cb style=\\\"color:#3b0280;line-height:60px\\\"\\u003eReference\\u003c\\u002fb\\u003e\",\"\",\"2019-02\",\"From \\u003cb\\u003eFeb-01-2019\\u003c\\u002fb\\u003e to \\u003cb\\u003eFeb-28-2019\\u003c\\u002fb\\u003e\",0.2733,0.0285],[\"Estimated \\u003cb\\u003eMAPE\\u003c\\u002fb\\u003e\",\"\\u003cb style=\\\"color:#3b0280;line-height:60px\\\"\\u003eReference\\u003c\\u002fb\\u003e\",\"\",\"2019-03\",\"From \\u003cb\\u003eMar-01-2019\\u003c\\u002fb\\u003e to \\u003cb\\u003eMar-31-2019\\u003c\\u002fb\\u003e\",0.2489,0.0271],[\"Estimated \\u003cb\\u003eMAPE\\u003c\\u002fb\\u003e\",\"\\u003cb style=\\\"color:#3b0280;line-height:60px\\\"\\u003eReference\\u003c\\u002fb\\u003e\",\"\",\"2019-04\",\"From \\u003cb\\u003eApr-01-2019\\u003c\\u002fb\\u003e to \\u003cb\\u003eApr-30-2019\\u003c\\u002fb\\u003e\",0.1819,0.0275],[\"Estimated \\u003cb\\u003eMAPE\\u003c\\u002fb\\u003e\",\"\\u003cb style=\\\"color:#3b0280;line-height:60px\\\"\\u003eReference\\u003c\\u002fb\\u003e\",\"\",\"2019-05\",\"From \\u003cb\\u003eMay-01-2019\\u003c\\u002fb\\u003e to \\u003cb\\u003eMay-31-2019\\u003c\\u002fb\\u003e\",0.2491,0.0271],[\"Estimated \\u003cb\\u003eMAPE\\u003c\\u002fb\\u003e\",\"\\u003cb style=\\\"color:#3b0280;line-height:60px\\\"\\u003eReference\\u003c\\u002fb\\u003e\",\"\",\"2019-06\",\"From \\u003cb\\u003eJun-01-2019\\u003c\\u002fb\\u003e to \\u003cb\\u003eJun-30-2019\\u003c\\u002fb\\u003e\",0.2351,0.0275],[\"Estimated \\u003cb\\u003eMAPE\\u003c\\u002fb\\u003e\",\"\\u003cb style=\\\"color:#3b0280;line-height:60px\\\"\\u003eReference\\u003c\\u002fb\\u003e\",\"\",\"2019-07\",\"From \\u003cb\\u003eJul-01-2019\\u003c\\u002fb\\u003e to \\u003cb\\u003eJul-31-2019\\u003c\\u002fb\\u003e\",0.278,0.0271],[\"Estimated \\u003cb\\u003eMAPE\\u003c\\u002fb\\u003e\",\"\\u003cb style=\\\"color:#3b0280;line-height:60px\\\"\\u003eReference\\u003c\\u002fb\\u003e\",\"\",\"2019-08\",\"From \\u003cb\\u003eAug-01-2019\\u003c\\u002fb\\u003e to \\u003cb\\u003eAug-31-2019\\u003c\\u002fb\\u003e\",0.2762,0.0271],[\"Estimated \\u003cb\\u003eMAPE\\u003c\\u002fb\\u003e\",\"\\u003cb style=\\\"color:#3b0280;line-height:60px\\\"\\u003eReference\\u003c\\u002fb\\u003e\",\"\",\"2019-09\",\"From \\u003cb\\u003eSep-01-2019\\u003c\\u002fb\\u003e to \\u003cb\\u003eSep-30-2019\\u003c\\u002fb\\u003e\",0.2871,0.0275],[\"Estimated \\u003cb\\u003eMAPE\\u003c\\u002fb\\u003e\",\"\\u003cb style=\\\"color:#3b0280;line-height:60px\\\"\\u003eReference\\u003c\\u002fb\\u003e\",\"\",\"2019-10\",\"From \\u003cb\\u003eOct-01-2019\\u003c\\u002fb\\u003e to \\u003cb\\u003eOct-31-2019\\u003c\\u002fb\\u003e\",0.3759,0.0328]],\"hovertemplate\":\"%{customdata[1]} &nbsp; &nbsp; %{customdata[2]} \\u003cbr \\u002f\\u003eChunk: \\u003cb\\u003e%{customdata[3]}\\u003c\\u002fb\\u003e &nbsp; &nbsp; %{customdata[4]} \\u003cbr \\u002f\\u003e%{customdata[0]}: \\u003cb\\u003e%{customdata[5]}\\u003c\\u002fb\\u003e\\u003cbr \\u002f\\u003eConfidence band: +\\u002f- \\u003cb\\u003e%{customdata[6]}\\u003c\\u002fb\\u003e\\u003cbr \\u002f\\u003e\\u003cextra\\u003e\\u003c\\u002fextra\\u003e\",\"legendgroup\":\"metric_reference\",\"line\":{\"dash\":\"dash\"},\"marker\":{\"color\":\"#3b0280\",\"size\":5,\"symbol\":\"circle\"},\"mode\":\"markers\",\"name\":\"Metric\",\"showlegend\":false,\"x\":[\"2018-10-16T12:00:00\",\"2018-11-16T00:00:00\",\"2018-12-16T12:00:00\",\"2019-01-16T12:00:00\",\"2019-02-15T00:00:00\",\"2019-03-16T12:00:00\",\"2019-04-16T00:00:00\",\"2019-05-16T12:00:00\",\"2019-06-16T00:00:00\",\"2019-07-16T12:00:00\",\"2019-08-16T12:00:00\",\"2019-09-16T00:00:00\",\"2019-10-16T11:59:59.999999999\"],\"y\":[0.10352659488965046,0.09713037884085943,0.09619755527676653,0.11957427809586864,0.27330172653562823,0.24886278810168466,0.18192879393672637,0.24911234727747317,0.23509882590362732,0.27798393772675145,0.2762035444643175,0.2871250937459183,0.3758562039260086,0.3758562039260086],\"type\":\"scatter\",\"xaxis\":\"x\",\"yaxis\":\"y\"},{\"hoverinfo\":\"skip\",\"legendgroup\":\"metric_analysis\",\"line\":{\"color\":\"#3b0280\",\"dash\":\"dash\",\"shape\":\"hv\",\"width\":2},\"mode\":\"lines\",\"name\":\"Metric\",\"showlegend\":false,\"x\":[\"2019-10-01T00:00:00\",\"2019-11-01T00:00:00\",\"2019-12-01T00:00:00\",\"2020-01-01T00:00:00\",\"2020-02-01T00:00:00\",\"2020-02-29T23:59:59.999999999\"],\"y\":[0.3310858644828358,0.23078759106088056,0.23961715350626123,0.31318292188412916,0.319092831212526,0.319092831212526],\"type\":\"scatter\",\"xaxis\":\"x\",\"yaxis\":\"y\"},{\"customdata\":[[\"Estimated \\u003cb\\u003eMAPE\\u003c\\u002fb\\u003e\",\"\\u003cb style=\\\"color:#3b0280;line-height:60px\\\"\\u003eAnalysis\\u003c\\u002fb\\u003e\",\"\",\"2019-10\",\"From \\u003cb\\u003eOct-01-2019\\u003c\\u002fb\\u003e to \\u003cb\\u003eOct-31-2019\\u003c\\u002fb\\u003e\",0.3311,0.0481],[\"Estimated \\u003cb\\u003eMAPE\\u003c\\u002fb\\u003e\",\"\\u003cb style=\\\"color:#3b0280;line-height:60px\\\"\\u003eAnalysis\\u003c\\u002fb\\u003e\",\"\",\"2019-11\",\"From \\u003cb\\u003eNov-01-2019\\u003c\\u002fb\\u003e to \\u003cb\\u003eNov-30-2019\\u003c\\u002fb\\u003e\",0.2308,0.0275],[\"Estimated \\u003cb\\u003eMAPE\\u003c\\u002fb\\u003e\",\"\\u003cb style=\\\"color:#3b0280;line-height:60px\\\"\\u003eAnalysis\\u003c\\u002fb\\u003e\",\"\",\"2019-12\",\"From \\u003cb\\u003eDec-01-2019\\u003c\\u002fb\\u003e to \\u003cb\\u003eDec-31-2019\\u003c\\u002fb\\u003e\",0.2396,0.0271],[\"Estimated \\u003cb\\u003eMAPE\\u003c\\u002fb\\u003e\",\"\\u003cb style=\\\"color:#3b0280;line-height:60px\\\"\\u003eAnalysis\\u003c\\u002fb\\u003e\",\"\",\"2020-01\",\"From \\u003cb\\u003eJan-01-2020\\u003c\\u002fb\\u003e to \\u003cb\\u003eJan-31-2020\\u003c\\u002fb\\u003e\",0.3132,0.0271],[\"Estimated \\u003cb\\u003eMAPE\\u003c\\u002fb\\u003e\",\"\\u003cb style=\\\"color:#3b0280;line-height:60px\\\"\\u003eAnalysis\\u003c\\u002fb\\u003e\",\"\",\"2020-02\",\"From \\u003cb\\u003eFeb-01-2020\\u003c\\u002fb\\u003e to \\u003cb\\u003eFeb-29-2020\\u003c\\u002fb\\u003e\",0.3191,0.0313]],\"hovertemplate\":\"%{customdata[1]} &nbsp; &nbsp; %{customdata[2]} \\u003cbr \\u002f\\u003eChunk: \\u003cb\\u003e%{customdata[3]}\\u003c\\u002fb\\u003e &nbsp; &nbsp; %{customdata[4]} \\u003cbr \\u002f\\u003e%{customdata[0]}: \\u003cb\\u003e%{customdata[5]}\\u003c\\u002fb\\u003e\\u003cbr \\u002f\\u003eConfidence band: +\\u002f- \\u003cb\\u003e%{customdata[6]}\\u003c\\u002fb\\u003e\\u003cbr \\u002f\\u003e\\u003cextra\\u003e\\u003c\\u002fextra\\u003e\",\"legendgroup\":\"metric_analysis\",\"line\":{\"dash\":\"dash\"},\"marker\":{\"color\":\"#3b0280\",\"size\":5,\"symbol\":\"circle\"},\"mode\":\"markers\",\"name\":\"Metric\",\"showlegend\":false,\"x\":[\"2019-10-16T12:00:00\",\"2019-11-16T00:00:00\",\"2019-12-16T12:00:00\",\"2020-01-16T12:00:00\",\"2020-02-15T11:59:59.999999999\"],\"y\":[0.3310858644828358,0.23078759106088056,0.23961715350626123,0.31318292188412916,0.319092831212526,0.319092831212526],\"type\":\"scatter\",\"xaxis\":\"x\",\"yaxis\":\"y\"},{\"hoverinfo\":\"skip\",\"legendgroup\":\"alert\",\"marker\":{\"color\":\"#DD4040\",\"size\":8,\"symbol\":\"diamond\"},\"mode\":\"markers\",\"name\":\"Alert\",\"showlegend\":true,\"x\":[],\"y\":[],\"type\":\"scatter\",\"xaxis\":\"x\",\"yaxis\":\"y\"},{\"hoverinfo\":\"skip\",\"legendgroup\":\"thresh\",\"line\":{\"color\":\"#DD4040\",\"dash\":\"dash\",\"width\":2},\"mode\":\"lines\",\"name\":\"Threshold\",\"showlegend\":true,\"x\":[\"2018-10-01T00:00:00\",\"2018-11-01T00:00:00\",\"2018-12-01T00:00:00\",\"2019-01-01T00:00:00\",\"2019-02-01T00:00:00\",\"2019-03-01T00:00:00\",\"2019-04-01T00:00:00\",\"2019-05-01T00:00:00\",\"2019-06-01T00:00:00\",\"2019-07-01T00:00:00\",\"2019-08-01T00:00:00\",\"2019-09-01T00:00:00\",\"2019-10-01T00:00:00\",\"2019-10-31T23:59:59.999999999\"],\"y\":[0.4804945465789571,0.4804945465789571,0.4804945465789571,0.4804945465789571,0.4804945465789571,0.4804945465789571,0.4804945465789571,0.4804945465789571,0.4804945465789571,0.4804945465789571,0.4804945465789571,0.4804945465789571,0.4804945465789571,0.4804945465789571],\"type\":\"scatter\",\"xaxis\":\"x\",\"yaxis\":\"y\"},{\"hoverinfo\":\"skip\",\"legendgroup\":\"thresh\",\"line\":{\"color\":\"#DD4040\",\"dash\":\"dash\",\"width\":2},\"mode\":\"lines\",\"name\":\"Threshold\",\"showlegend\":false,\"x\":[\"2018-10-01T00:00:00\",\"2018-11-01T00:00:00\",\"2018-12-01T00:00:00\",\"2019-01-01T00:00:00\",\"2019-02-01T00:00:00\",\"2019-03-01T00:00:00\",\"2019-04-01T00:00:00\",\"2019-05-01T00:00:00\",\"2019-06-01T00:00:00\",\"2019-07-01T00:00:00\",\"2019-08-01T00:00:00\",\"2019-09-01T00:00:00\",\"2019-10-01T00:00:00\",\"2019-10-31T23:59:59.999999999\"],\"y\":[0.0,0.0,0.0,0.0,0.0,0.0,0.0,0.0,0.0,0.0,0.0,0.0,0.0,0.0],\"type\":\"scatter\",\"xaxis\":\"x\",\"yaxis\":\"y\"},{\"hoverinfo\":\"skip\",\"legendgroup\":\"thresh\",\"line\":{\"color\":\"#DD4040\",\"dash\":\"dash\",\"width\":2},\"mode\":\"lines\",\"name\":\"Threshold\",\"showlegend\":false,\"x\":[\"2019-10-01T00:00:00\",\"2019-11-01T00:00:00\",\"2019-12-01T00:00:00\",\"2020-01-01T00:00:00\",\"2020-02-01T00:00:00\",\"2020-02-29T23:59:59.999999999\"],\"y\":[0.4804945465789571,0.4804945465789571,0.4804945465789571,0.4804945465789571,0.4804945465789571,0.4804945465789571],\"type\":\"scatter\",\"xaxis\":\"x\",\"yaxis\":\"y\"},{\"hoverinfo\":\"skip\",\"legendgroup\":\"thresh\",\"line\":{\"color\":\"#DD4040\",\"dash\":\"dash\",\"width\":2},\"mode\":\"lines\",\"name\":\"Threshold\",\"showlegend\":false,\"x\":[\"2019-10-01T00:00:00\",\"2019-11-01T00:00:00\",\"2019-12-01T00:00:00\",\"2020-01-01T00:00:00\",\"2020-02-01T00:00:00\",\"2020-02-29T23:59:59.999999999\"],\"y\":[0.0,0.0,0.0,0.0,0.0,0.0],\"type\":\"scatter\",\"xaxis\":\"x\",\"yaxis\":\"y\"},{\"hoverinfo\":\"skip\",\"line\":{\"color\":\"rgba(0,0,0,0)\",\"shape\":\"hv\"},\"mode\":\"lines\",\"name\":\"Confidence band\",\"showlegend\":false,\"x\":[\"2018-10-01T00:00:00\",\"2018-11-01T00:00:00\",\"2018-12-01T00:00:00\",\"2019-01-01T00:00:00\",\"2019-02-01T00:00:00\",\"2019-03-01T00:00:00\",\"2019-04-01T00:00:00\",\"2019-05-01T00:00:00\",\"2019-06-01T00:00:00\",\"2019-07-01T00:00:00\",\"2019-08-01T00:00:00\",\"2019-09-01T00:00:00\",\"2019-10-01T00:00:00\",\"2019-10-31T23:59:59.999999999\"],\"y\":[0.15612985324965137,0.12464601201465553,0.12326574996176076,0.14664247278086287,0.3017831127307302,0.2759309827866789,0.20944442711052247,0.2761805419624674,0.2626144590774234,0.30505213241174567,0.3032717391493117,0.3146407269197144,0.40861394177632343,0.40861394177632343],\"type\":\"scatter\",\"xaxis\":\"x\",\"yaxis\":\"y\"},{\"fill\":\"tonexty\",\"fillcolor\":\"rgba(0.23137254901960785, 0.00784313725490196, 0.5019607843137255, 0.2)\",\"hoverinfo\":\"skip\",\"line\":{\"color\":\"rgba(0,0,0,0)\",\"shape\":\"hv\"},\"mode\":\"lines\",\"name\":\"Confidence band\",\"showlegend\":true,\"x\":[\"2018-10-01T00:00:00\",\"2018-11-01T00:00:00\",\"2018-12-01T00:00:00\",\"2019-01-01T00:00:00\",\"2019-02-01T00:00:00\",\"2019-03-01T00:00:00\",\"2019-04-01T00:00:00\",\"2019-05-01T00:00:00\",\"2019-06-01T00:00:00\",\"2019-07-01T00:00:00\",\"2019-08-01T00:00:00\",\"2019-09-01T00:00:00\",\"2019-10-01T00:00:00\",\"2019-10-31T23:59:59.999999999\"],\"y\":[0.05092333652964955,0.06961474566706333,0.0691293605917723,0.0925060834108744,0.24482034034052627,0.22179459341669042,0.15441316076293027,0.22204415259247892,0.20758319272983122,0.25091574304175723,0.24913534977932325,0.25960946057212225,0.3430984660756938,0.3430984660756938],\"type\":\"scatter\",\"xaxis\":\"x\",\"yaxis\":\"y\"},{\"hoverinfo\":\"skip\",\"line\":{\"color\":\"rgba(0,0,0,0)\",\"shape\":\"hv\"},\"mode\":\"lines\",\"name\":\"Confidence band\",\"showlegend\":false,\"x\":[\"2019-10-01T00:00:00\",\"2019-11-01T00:00:00\",\"2019-12-01T00:00:00\",\"2020-01-01T00:00:00\",\"2020-02-01T00:00:00\",\"2020-02-29T23:59:59.999999999\"],\"y\":[0.37914652749339955,0.25830322423467666,0.26668534819125544,0.3402511165691234,0.3504046549396976,0.3504046549396976],\"type\":\"scatter\",\"xaxis\":\"x\",\"yaxis\":\"y\"},{\"fill\":\"tonexty\",\"fillcolor\":\"rgba(0.23137254901960785, 0.00784313725490196, 0.5019607843137255, 0.2)\",\"hoverinfo\":\"skip\",\"line\":{\"color\":\"rgba(0,0,0,0)\",\"shape\":\"hv\"},\"mode\":\"lines\",\"name\":\"Confidence band\",\"showlegend\":false,\"x\":[\"2019-10-01T00:00:00\",\"2019-11-01T00:00:00\",\"2019-12-01T00:00:00\",\"2020-01-01T00:00:00\",\"2020-02-01T00:00:00\",\"2020-02-29T23:59:59.999999999\"],\"y\":[0.283025201472272,0.20327195788708446,0.21254895882126698,0.28611472719913494,0.28778100748535446,0.28778100748535446],\"type\":\"scatter\",\"xaxis\":\"x\",\"yaxis\":\"y\"}],                        {\"height\":500.0,\"hoverlabel\":{\"bgcolor\":\"white\",\"font\":{\"size\":14}},\"legend\":{\"itemclick\":false,\"itemdoubleclick\":false,\"traceorder\":\"grouped\"},\"paper_bgcolor\":\"rgba(255,255,255,1)\",\"plot_bgcolor\":\"rgba(255,255,255,1)\",\"title\":{\"text\":\"Estimated performance \\u003cb\\u003e(DLE)\\u003c\\u002fb\\u003e\"},\"xaxis\":{\"linecolor\":\"#3b0280\",\"mirror\":true,\"showgrid\":false,\"title\":{\"text\":\"Time\"},\"zeroline\":false,\"anchor\":\"y\",\"domain\":[0.0,1.0],\"matches\":\"x\"},\"yaxis\":{\"linecolor\":\"#3b0280\",\"mirror\":true,\"showgrid\":false,\"title\":{\"text\":\"MAPE\"},\"zeroline\":false,\"anchor\":\"x\",\"domain\":[0.0,1.0]},\"template\":{\"data\":{\"histogram2dcontour\":[{\"type\":\"histogram2dcontour\",\"colorbar\":{\"outlinewidth\":0,\"ticks\":\"\"},\"colorscale\":[[0.0,\"#0d0887\"],[0.1111111111111111,\"#46039f\"],[0.2222222222222222,\"#7201a8\"],[0.3333333333333333,\"#9c179e\"],[0.4444444444444444,\"#bd3786\"],[0.5555555555555556,\"#d8576b\"],[0.6666666666666666,\"#ed7953\"],[0.7777777777777778,\"#fb9f3a\"],[0.8888888888888888,\"#fdca26\"],[1.0,\"#f0f921\"]]}],\"choropleth\":[{\"type\":\"choropleth\",\"colorbar\":{\"outlinewidth\":0,\"ticks\":\"\"}}],\"histogram2d\":[{\"type\":\"histogram2d\",\"colorbar\":{\"outlinewidth\":0,\"ticks\":\"\"},\"colorscale\":[[0.0,\"#0d0887\"],[0.1111111111111111,\"#46039f\"],[0.2222222222222222,\"#7201a8\"],[0.3333333333333333,\"#9c179e\"],[0.4444444444444444,\"#bd3786\"],[0.5555555555555556,\"#d8576b\"],[0.6666666666666666,\"#ed7953\"],[0.7777777777777778,\"#fb9f3a\"],[0.8888888888888888,\"#fdca26\"],[1.0,\"#f0f921\"]]}],\"heatmap\":[{\"type\":\"heatmap\",\"colorbar\":{\"outlinewidth\":0,\"ticks\":\"\"},\"colorscale\":[[0.0,\"#0d0887\"],[0.1111111111111111,\"#46039f\"],[0.2222222222222222,\"#7201a8\"],[0.3333333333333333,\"#9c179e\"],[0.4444444444444444,\"#bd3786\"],[0.5555555555555556,\"#d8576b\"],[0.6666666666666666,\"#ed7953\"],[0.7777777777777778,\"#fb9f3a\"],[0.8888888888888888,\"#fdca26\"],[1.0,\"#f0f921\"]]}],\"heatmapgl\":[{\"type\":\"heatmapgl\",\"colorbar\":{\"outlinewidth\":0,\"ticks\":\"\"},\"colorscale\":[[0.0,\"#0d0887\"],[0.1111111111111111,\"#46039f\"],[0.2222222222222222,\"#7201a8\"],[0.3333333333333333,\"#9c179e\"],[0.4444444444444444,\"#bd3786\"],[0.5555555555555556,\"#d8576b\"],[0.6666666666666666,\"#ed7953\"],[0.7777777777777778,\"#fb9f3a\"],[0.8888888888888888,\"#fdca26\"],[1.0,\"#f0f921\"]]}],\"contourcarpet\":[{\"type\":\"contourcarpet\",\"colorbar\":{\"outlinewidth\":0,\"ticks\":\"\"}}],\"contour\":[{\"type\":\"contour\",\"colorbar\":{\"outlinewidth\":0,\"ticks\":\"\"},\"colorscale\":[[0.0,\"#0d0887\"],[0.1111111111111111,\"#46039f\"],[0.2222222222222222,\"#7201a8\"],[0.3333333333333333,\"#9c179e\"],[0.4444444444444444,\"#bd3786\"],[0.5555555555555556,\"#d8576b\"],[0.6666666666666666,\"#ed7953\"],[0.7777777777777778,\"#fb9f3a\"],[0.8888888888888888,\"#fdca26\"],[1.0,\"#f0f921\"]]}],\"surface\":[{\"type\":\"surface\",\"colorbar\":{\"outlinewidth\":0,\"ticks\":\"\"},\"colorscale\":[[0.0,\"#0d0887\"],[0.1111111111111111,\"#46039f\"],[0.2222222222222222,\"#7201a8\"],[0.3333333333333333,\"#9c179e\"],[0.4444444444444444,\"#bd3786\"],[0.5555555555555556,\"#d8576b\"],[0.6666666666666666,\"#ed7953\"],[0.7777777777777778,\"#fb9f3a\"],[0.8888888888888888,\"#fdca26\"],[1.0,\"#f0f921\"]]}],\"mesh3d\":[{\"type\":\"mesh3d\",\"colorbar\":{\"outlinewidth\":0,\"ticks\":\"\"}}],\"scatter\":[{\"fillpattern\":{\"fillmode\":\"overlay\",\"size\":10,\"solidity\":0.2},\"type\":\"scatter\"}],\"parcoords\":[{\"type\":\"parcoords\",\"line\":{\"colorbar\":{\"outlinewidth\":0,\"ticks\":\"\"}}}],\"scatterpolargl\":[{\"type\":\"scatterpolargl\",\"marker\":{\"colorbar\":{\"outlinewidth\":0,\"ticks\":\"\"}}}],\"bar\":[{\"error_x\":{\"color\":\"#2a3f5f\"},\"error_y\":{\"color\":\"#2a3f5f\"},\"marker\":{\"line\":{\"color\":\"#E5ECF6\",\"width\":0.5},\"pattern\":{\"fillmode\":\"overlay\",\"size\":10,\"solidity\":0.2}},\"type\":\"bar\"}],\"scattergeo\":[{\"type\":\"scattergeo\",\"marker\":{\"colorbar\":{\"outlinewidth\":0,\"ticks\":\"\"}}}],\"scatterpolar\":[{\"type\":\"scatterpolar\",\"marker\":{\"colorbar\":{\"outlinewidth\":0,\"ticks\":\"\"}}}],\"histogram\":[{\"marker\":{\"pattern\":{\"fillmode\":\"overlay\",\"size\":10,\"solidity\":0.2}},\"type\":\"histogram\"}],\"scattergl\":[{\"type\":\"scattergl\",\"marker\":{\"colorbar\":{\"outlinewidth\":0,\"ticks\":\"\"}}}],\"scatter3d\":[{\"type\":\"scatter3d\",\"line\":{\"colorbar\":{\"outlinewidth\":0,\"ticks\":\"\"}},\"marker\":{\"colorbar\":{\"outlinewidth\":0,\"ticks\":\"\"}}}],\"scattermapbox\":[{\"type\":\"scattermapbox\",\"marker\":{\"colorbar\":{\"outlinewidth\":0,\"ticks\":\"\"}}}],\"scatterternary\":[{\"type\":\"scatterternary\",\"marker\":{\"colorbar\":{\"outlinewidth\":0,\"ticks\":\"\"}}}],\"scattercarpet\":[{\"type\":\"scattercarpet\",\"marker\":{\"colorbar\":{\"outlinewidth\":0,\"ticks\":\"\"}}}],\"carpet\":[{\"aaxis\":{\"endlinecolor\":\"#2a3f5f\",\"gridcolor\":\"white\",\"linecolor\":\"white\",\"minorgridcolor\":\"white\",\"startlinecolor\":\"#2a3f5f\"},\"baxis\":{\"endlinecolor\":\"#2a3f5f\",\"gridcolor\":\"white\",\"linecolor\":\"white\",\"minorgridcolor\":\"white\",\"startlinecolor\":\"#2a3f5f\"},\"type\":\"carpet\"}],\"table\":[{\"cells\":{\"fill\":{\"color\":\"#EBF0F8\"},\"line\":{\"color\":\"white\"}},\"header\":{\"fill\":{\"color\":\"#C8D4E3\"},\"line\":{\"color\":\"white\"}},\"type\":\"table\"}],\"barpolar\":[{\"marker\":{\"line\":{\"color\":\"#E5ECF6\",\"width\":0.5},\"pattern\":{\"fillmode\":\"overlay\",\"size\":10,\"solidity\":0.2}},\"type\":\"barpolar\"}],\"pie\":[{\"automargin\":true,\"type\":\"pie\"}]},\"layout\":{\"autotypenumbers\":\"strict\",\"colorway\":[\"#636efa\",\"#EF553B\",\"#00cc96\",\"#ab63fa\",\"#FFA15A\",\"#19d3f3\",\"#FF6692\",\"#B6E880\",\"#FF97FF\",\"#FECB52\"],\"font\":{\"color\":\"#2a3f5f\"},\"hovermode\":\"closest\",\"hoverlabel\":{\"align\":\"left\"},\"paper_bgcolor\":\"white\",\"plot_bgcolor\":\"#E5ECF6\",\"polar\":{\"bgcolor\":\"#E5ECF6\",\"angularaxis\":{\"gridcolor\":\"white\",\"linecolor\":\"white\",\"ticks\":\"\"},\"radialaxis\":{\"gridcolor\":\"white\",\"linecolor\":\"white\",\"ticks\":\"\"}},\"ternary\":{\"bgcolor\":\"#E5ECF6\",\"aaxis\":{\"gridcolor\":\"white\",\"linecolor\":\"white\",\"ticks\":\"\"},\"baxis\":{\"gridcolor\":\"white\",\"linecolor\":\"white\",\"ticks\":\"\"},\"caxis\":{\"gridcolor\":\"white\",\"linecolor\":\"white\",\"ticks\":\"\"}},\"coloraxis\":{\"colorbar\":{\"outlinewidth\":0,\"ticks\":\"\"}},\"colorscale\":{\"sequential\":[[0.0,\"#0d0887\"],[0.1111111111111111,\"#46039f\"],[0.2222222222222222,\"#7201a8\"],[0.3333333333333333,\"#9c179e\"],[0.4444444444444444,\"#bd3786\"],[0.5555555555555556,\"#d8576b\"],[0.6666666666666666,\"#ed7953\"],[0.7777777777777778,\"#fb9f3a\"],[0.8888888888888888,\"#fdca26\"],[1.0,\"#f0f921\"]],\"sequentialminus\":[[0.0,\"#0d0887\"],[0.1111111111111111,\"#46039f\"],[0.2222222222222222,\"#7201a8\"],[0.3333333333333333,\"#9c179e\"],[0.4444444444444444,\"#bd3786\"],[0.5555555555555556,\"#d8576b\"],[0.6666666666666666,\"#ed7953\"],[0.7777777777777778,\"#fb9f3a\"],[0.8888888888888888,\"#fdca26\"],[1.0,\"#f0f921\"]],\"diverging\":[[0,\"#8e0152\"],[0.1,\"#c51b7d\"],[0.2,\"#de77ae\"],[0.3,\"#f1b6da\"],[0.4,\"#fde0ef\"],[0.5,\"#f7f7f7\"],[0.6,\"#e6f5d0\"],[0.7,\"#b8e186\"],[0.8,\"#7fbc41\"],[0.9,\"#4d9221\"],[1,\"#276419\"]]},\"xaxis\":{\"gridcolor\":\"white\",\"linecolor\":\"white\",\"ticks\":\"\",\"title\":{\"standoff\":15},\"zerolinecolor\":\"white\",\"automargin\":true,\"zerolinewidth\":2},\"yaxis\":{\"gridcolor\":\"white\",\"linecolor\":\"white\",\"ticks\":\"\",\"title\":{\"standoff\":15},\"zerolinecolor\":\"white\",\"automargin\":true,\"zerolinewidth\":2},\"scene\":{\"xaxis\":{\"backgroundcolor\":\"#E5ECF6\",\"gridcolor\":\"white\",\"linecolor\":\"white\",\"showbackground\":true,\"ticks\":\"\",\"zerolinecolor\":\"white\",\"gridwidth\":2},\"yaxis\":{\"backgroundcolor\":\"#E5ECF6\",\"gridcolor\":\"white\",\"linecolor\":\"white\",\"showbackground\":true,\"ticks\":\"\",\"zerolinecolor\":\"white\",\"gridwidth\":2},\"zaxis\":{\"backgroundcolor\":\"#E5ECF6\",\"gridcolor\":\"white\",\"linecolor\":\"white\",\"showbackground\":true,\"ticks\":\"\",\"zerolinecolor\":\"white\",\"gridwidth\":2}},\"shapedefaults\":{\"line\":{\"color\":\"#2a3f5f\"}},\"annotationdefaults\":{\"arrowcolor\":\"#2a3f5f\",\"arrowhead\":0,\"arrowwidth\":1},\"geo\":{\"bgcolor\":\"white\",\"landcolor\":\"#E5ECF6\",\"subunitcolor\":\"white\",\"showland\":true,\"showlakes\":true,\"lakecolor\":\"white\"},\"title\":{\"x\":0.05},\"mapbox\":{\"style\":\"light\"}}},\"annotations\":[{\"font\":{\"size\":16},\"showarrow\":false,\"text\":\"Estimated \\u003cb\\u003eMAPE\\u003c\\u002fb\\u003e\",\"x\":0.5,\"xanchor\":\"center\",\"xref\":\"paper\",\"y\":1.0,\"yanchor\":\"bottom\",\"yref\":\"paper\"},{\"showarrow\":false,\"text\":\"Reference\",\"x\":\"2019-04-01T11:04:36.923076864\",\"xref\":\"x\",\"xshift\":10,\"y\":1.01,\"yref\":\"y domain\"},{\"showarrow\":false,\"text\":\"Analysis\",\"x\":\"2019-12-01T09:36:00\",\"xref\":\"x\",\"xshift\":15,\"y\":1.01,\"yref\":\"y domain\"}],\"shapes\":[{\"layer\":\"below\",\"line\":{\"color\":\"#666666\",\"width\":1},\"type\":\"line\",\"x0\":\"2019-10-01T00:00:00\",\"x1\":\"2019-10-01T00:00:00\",\"xref\":\"x\",\"y0\":0,\"y1\":1,\"yref\":\"y domain\"}]},                        {\"responsive\": true}                    ).then(function(){\n",
       "                            \n",
       "var gd = document.getElementById('4c168b57-6915-499e-91c8-0cd8a71f3a90');\n",
       "var x = new MutationObserver(function (mutations, observer) {{\n",
       "        var display = window.getComputedStyle(gd).display;\n",
       "        if (!display || display === 'none') {{\n",
       "            console.log([gd, 'removed!']);\n",
       "            Plotly.purge(gd);\n",
       "            observer.disconnect();\n",
       "        }}\n",
       "}});\n",
       "\n",
       "// Listen for the removal of the full notebook cells\n",
       "var notebookContainer = gd.closest('#notebook-container');\n",
       "if (notebookContainer) {{\n",
       "    x.observe(notebookContainer, {childList: true});\n",
       "}}\n",
       "\n",
       "// Listen for the clearing of the current output cell\n",
       "var outputEl = gd.closest('.output');\n",
       "if (outputEl) {{\n",
       "    x.observe(outputEl, {childList: true});\n",
       "}}\n",
       "\n",
       "                        })                };                });            </script>        </div>"
      ]
     },
     "metadata": {},
     "output_type": "display_data"
    }
   ],
   "source": [
    "pe_result[99].plot()"
   ]
  },
  {
   "cell_type": "code",
   "execution_count": 193,
   "id": "6c6591db",
   "metadata": {},
   "outputs": [
    {
     "data": {
      "application/vnd.plotly.v1+json": {
       "config": {
        "plotlyServerURL": "https://plot.ly"
       },
       "data": [
        {
         "hoverinfo": "skip",
         "line": {
          "color": "#3b0280",
          "dash": "dash",
          "shape": "hv",
          "width": 2
         },
         "mode": "lines",
         "name": "<b>MAPE</b> (estimated MAPE)",
         "showlegend": true,
         "type": "scatter",
         "x": [
          "2018-10-01T00:00:00",
          "2018-11-01T00:00:00",
          "2018-12-01T00:00:00",
          "2019-01-01T00:00:00",
          "2019-02-01T00:00:00",
          "2019-03-01T00:00:00",
          "2019-04-01T00:00:00",
          "2019-05-01T00:00:00",
          "2019-06-01T00:00:00",
          "2019-07-01T00:00:00",
          "2019-08-01T00:00:00",
          "2019-09-01T00:00:00",
          "2019-10-01T00:00:00",
          "2019-10-31T23:59:59.999999999"
         ],
         "xaxis": "x",
         "y": [
          0.10352659488965046,
          0.09713037884085943,
          0.09619755527676653,
          0.11957427809586864,
          0.27330172653562823,
          0.24886278810168466,
          0.18192879393672637,
          0.24911234727747317,
          0.23509882590362732,
          0.27798393772675145,
          0.2762035444643175,
          0.2871250937459183,
          0.3758562039260086,
          0.3758562039260086
         ],
         "yaxis": "y"
        },
        {
         "customdata": [
          [
           "<b>MAPE</b> (estimated MAPE)",
           "<b style=\"color:#3b0280;line-height:60px\">Reference</b>",
           "2018-10",
           "From <b>Oct-01-2018</b> to <b>Oct-31-2018</b>",
           0.1035
          ],
          [
           "<b>MAPE</b> (estimated MAPE)",
           "<b style=\"color:#3b0280;line-height:60px\">Reference</b>",
           "2018-11",
           "From <b>Nov-01-2018</b> to <b>Nov-30-2018</b>",
           0.0971
          ],
          [
           "<b>MAPE</b> (estimated MAPE)",
           "<b style=\"color:#3b0280;line-height:60px\">Reference</b>",
           "2018-12",
           "From <b>Dec-01-2018</b> to <b>Dec-31-2018</b>",
           0.0962
          ],
          [
           "<b>MAPE</b> (estimated MAPE)",
           "<b style=\"color:#3b0280;line-height:60px\">Reference</b>",
           "2019-01",
           "From <b>Jan-01-2019</b> to <b>Jan-31-2019</b>",
           0.1196
          ],
          [
           "<b>MAPE</b> (estimated MAPE)",
           "<b style=\"color:#3b0280;line-height:60px\">Reference</b>",
           "2019-02",
           "From <b>Feb-01-2019</b> to <b>Feb-28-2019</b>",
           0.2733
          ],
          [
           "<b>MAPE</b> (estimated MAPE)",
           "<b style=\"color:#3b0280;line-height:60px\">Reference</b>",
           "2019-03",
           "From <b>Mar-01-2019</b> to <b>Mar-31-2019</b>",
           0.2489
          ],
          [
           "<b>MAPE</b> (estimated MAPE)",
           "<b style=\"color:#3b0280;line-height:60px\">Reference</b>",
           "2019-04",
           "From <b>Apr-01-2019</b> to <b>Apr-30-2019</b>",
           0.1819
          ],
          [
           "<b>MAPE</b> (estimated MAPE)",
           "<b style=\"color:#3b0280;line-height:60px\">Reference</b>",
           "2019-05",
           "From <b>May-01-2019</b> to <b>May-31-2019</b>",
           0.2491
          ],
          [
           "<b>MAPE</b> (estimated MAPE)",
           "<b style=\"color:#3b0280;line-height:60px\">Reference</b>",
           "2019-06",
           "From <b>Jun-01-2019</b> to <b>Jun-30-2019</b>",
           0.2351
          ],
          [
           "<b>MAPE</b> (estimated MAPE)",
           "<b style=\"color:#3b0280;line-height:60px\">Reference</b>",
           "2019-07",
           "From <b>Jul-01-2019</b> to <b>Jul-31-2019</b>",
           0.278
          ],
          [
           "<b>MAPE</b> (estimated MAPE)",
           "<b style=\"color:#3b0280;line-height:60px\">Reference</b>",
           "2019-08",
           "From <b>Aug-01-2019</b> to <b>Aug-31-2019</b>",
           0.2762
          ],
          [
           "<b>MAPE</b> (estimated MAPE)",
           "<b style=\"color:#3b0280;line-height:60px\">Reference</b>",
           "2019-09",
           "From <b>Sep-01-2019</b> to <b>Sep-30-2019</b>",
           0.2871
          ],
          [
           "<b>MAPE</b> (estimated MAPE)",
           "<b style=\"color:#3b0280;line-height:60px\">Reference</b>",
           "2019-10",
           "From <b>Oct-01-2019</b> to <b>Oct-31-2019</b>",
           0.3759
          ]
         ],
         "hovertemplate": "%{customdata[1]}<br />Chunk: <b>%{customdata[2]}</b> &nbsp; &nbsp; %{customdata[3]} <br />%{customdata[0]}: <b>%{customdata[4]}</b><br /><extra></extra>",
         "line": {
          "dash": "dash"
         },
         "marker": {
          "color": "#3b0280",
          "size": 5,
          "symbol": "circle"
         },
         "mode": "markers",
         "name": "<b>MAPE</b> (estimated MAPE)",
         "showlegend": false,
         "type": "scatter",
         "x": [
          "2018-10-16T12:00:00",
          "2018-11-16T00:00:00",
          "2018-12-16T12:00:00",
          "2019-01-16T12:00:00",
          "2019-02-15T00:00:00",
          "2019-03-16T12:00:00",
          "2019-04-16T00:00:00",
          "2019-05-16T12:00:00",
          "2019-06-16T00:00:00",
          "2019-07-16T12:00:00",
          "2019-08-16T12:00:00",
          "2019-09-16T00:00:00",
          "2019-10-16T11:59:59.999999999"
         ],
         "xaxis": "x",
         "y": [
          0.10352659488965046,
          0.09713037884085943,
          0.09619755527676653,
          0.11957427809586864,
          0.27330172653562823,
          0.24886278810168466,
          0.18192879393672637,
          0.24911234727747317,
          0.23509882590362732,
          0.27798393772675145,
          0.2762035444643175,
          0.2871250937459183,
          0.3758562039260086,
          0.3758562039260086
         ],
         "yaxis": "y"
        },
        {
         "hoverinfo": "skip",
         "line": {
          "color": "rgba(0,0,0,0)",
          "dash": "dash",
          "shape": "hv"
         },
         "mode": "lines",
         "name": "Confidence band",
         "showlegend": false,
         "type": "scatter",
         "x": [
          "2018-10-01T00:00:00",
          "2018-11-01T00:00:00",
          "2018-12-01T00:00:00",
          "2019-01-01T00:00:00",
          "2019-02-01T00:00:00",
          "2019-03-01T00:00:00",
          "2019-04-01T00:00:00",
          "2019-05-01T00:00:00",
          "2019-06-01T00:00:00",
          "2019-07-01T00:00:00",
          "2019-08-01T00:00:00",
          "2019-09-01T00:00:00",
          "2019-10-01T00:00:00",
          "2019-10-31T23:59:59.999999999"
         ],
         "xaxis": "x",
         "y": [
          0.15612985324965137,
          0.12464601201465553,
          0.12326574996176076,
          0.14664247278086287,
          0.3017831127307302,
          0.2759309827866789,
          0.20944442711052247,
          0.2761805419624674,
          0.2626144590774234,
          0.30505213241174567,
          0.3032717391493117,
          0.3146407269197144,
          0.40861394177632343,
          0.40861394177632343
         ],
         "yaxis": "y"
        },
        {
         "fill": "tonexty",
         "fillcolor": "rgba(0.23137254901960785, 0.00784313725490196, 0.5019607843137255, 0.2)",
         "hoverinfo": "skip",
         "line": {
          "color": "rgba(0,0,0,0)",
          "dash": "dash",
          "shape": "hv"
         },
         "mode": "lines",
         "name": "Confidence band",
         "showlegend": true,
         "type": "scatter",
         "x": [
          "2018-10-01T00:00:00",
          "2018-11-01T00:00:00",
          "2018-12-01T00:00:00",
          "2019-01-01T00:00:00",
          "2019-02-01T00:00:00",
          "2019-03-01T00:00:00",
          "2019-04-01T00:00:00",
          "2019-05-01T00:00:00",
          "2019-06-01T00:00:00",
          "2019-07-01T00:00:00",
          "2019-08-01T00:00:00",
          "2019-09-01T00:00:00",
          "2019-10-01T00:00:00",
          "2019-10-31T23:59:59.999999999"
         ],
         "xaxis": "x",
         "y": [
          0.05092333652964955,
          0.06961474566706333,
          0.0691293605917723,
          0.0925060834108744,
          0.24482034034052627,
          0.22179459341669042,
          0.15441316076293027,
          0.22204415259247892,
          0.20758319272983122,
          0.25091574304175723,
          0.24913534977932325,
          0.25960946057212225,
          0.3430984660756938,
          0.3430984660756938
         ],
         "yaxis": "y"
        },
        {
         "hoverinfo": "skip",
         "line": {
          "color": "#00c8e5",
          "shape": "hv",
          "width": 2
         },
         "mode": "lines",
         "name": "<b>MAPE</b> (realized MAPE)",
         "showlegend": true,
         "type": "scatter",
         "x": [
          "2018-10-01T00:00:00",
          "2018-11-01T00:00:00",
          "2018-12-01T00:00:00",
          "2019-01-01T00:00:00",
          "2019-02-01T00:00:00",
          "2019-03-01T00:00:00",
          "2019-04-01T00:00:00",
          "2019-05-01T00:00:00",
          "2019-06-01T00:00:00",
          "2019-07-01T00:00:00",
          "2019-08-01T00:00:00",
          "2019-09-01T00:00:00",
          "2019-10-01T00:00:00",
          "2019-10-31T23:59:59.999999999"
         ],
         "xaxis": "x",
         "y": [
          0.09515613768383896,
          0.09856753476510118,
          0.08802826135807663,
          0.11530249676207852,
          0.2773182566058189,
          0.24843045366352323,
          0.19350727916800203,
          0.24771136540319671,
          0.23062481144622607,
          0.2828606741565136,
          0.2672481778580717,
          0.29558825744011596,
          0.3762293406248287,
          0.3762293406248287
         ],
         "yaxis": "y"
        },
        {
         "customdata": [
          [
           "<b>MAPE</b>",
           "<b style=\"color:#00c8e5;line-height:60px\">Reference</b>",
           "2018-10",
           "From <b>Oct-01-2018</b> to <b>Oct-31-2018</b>",
           0.0952
          ],
          [
           "<b>MAPE</b>",
           "<b style=\"color:#00c8e5;line-height:60px\">Reference</b>",
           "2018-11",
           "From <b>Nov-01-2018</b> to <b>Nov-30-2018</b>",
           0.0986
          ],
          [
           "<b>MAPE</b>",
           "<b style=\"color:#00c8e5;line-height:60px\">Reference</b>",
           "2018-12",
           "From <b>Dec-01-2018</b> to <b>Dec-31-2018</b>",
           0.088
          ],
          [
           "<b>MAPE</b>",
           "<b style=\"color:#00c8e5;line-height:60px\">Reference</b>",
           "2019-01",
           "From <b>Jan-01-2019</b> to <b>Jan-31-2019</b>",
           0.1153
          ],
          [
           "<b>MAPE</b>",
           "<b style=\"color:#00c8e5;line-height:60px\">Reference</b>",
           "2019-02",
           "From <b>Feb-01-2019</b> to <b>Feb-28-2019</b>",
           0.2773
          ],
          [
           "<b>MAPE</b>",
           "<b style=\"color:#00c8e5;line-height:60px\">Reference</b>",
           "2019-03",
           "From <b>Mar-01-2019</b> to <b>Mar-31-2019</b>",
           0.2484
          ],
          [
           "<b>MAPE</b>",
           "<b style=\"color:#00c8e5;line-height:60px\">Reference</b>",
           "2019-04",
           "From <b>Apr-01-2019</b> to <b>Apr-30-2019</b>",
           0.1935
          ],
          [
           "<b>MAPE</b>",
           "<b style=\"color:#00c8e5;line-height:60px\">Reference</b>",
           "2019-05",
           "From <b>May-01-2019</b> to <b>May-31-2019</b>",
           0.2477
          ],
          [
           "<b>MAPE</b>",
           "<b style=\"color:#00c8e5;line-height:60px\">Reference</b>",
           "2019-06",
           "From <b>Jun-01-2019</b> to <b>Jun-30-2019</b>",
           0.2306
          ],
          [
           "<b>MAPE</b>",
           "<b style=\"color:#00c8e5;line-height:60px\">Reference</b>",
           "2019-07",
           "From <b>Jul-01-2019</b> to <b>Jul-31-2019</b>",
           0.2829
          ],
          [
           "<b>MAPE</b>",
           "<b style=\"color:#00c8e5;line-height:60px\">Reference</b>",
           "2019-08",
           "From <b>Aug-01-2019</b> to <b>Aug-31-2019</b>",
           0.2672
          ],
          [
           "<b>MAPE</b>",
           "<b style=\"color:#00c8e5;line-height:60px\">Reference</b>",
           "2019-09",
           "From <b>Sep-01-2019</b> to <b>Sep-30-2019</b>",
           0.2956
          ],
          [
           "<b>MAPE</b>",
           "<b style=\"color:#00c8e5;line-height:60px\">Reference</b>",
           "2019-10",
           "From <b>Oct-01-2019</b> to <b>Oct-31-2019</b>",
           0.3762
          ]
         ],
         "hovertemplate": "%{customdata[1]}<br />Chunk: <b>%{customdata[2]}</b> &nbsp; &nbsp; %{customdata[3]} <br />%{customdata[0]}: <b>%{customdata[4]}</b><br /><extra></extra>",
         "marker": {
          "color": "#00c8e5",
          "size": 5,
          "symbol": "circle"
         },
         "mode": "markers",
         "name": "<b>MAPE</b> (realized MAPE)",
         "showlegend": false,
         "type": "scatter",
         "x": [
          "2018-10-16T12:00:00",
          "2018-11-16T00:00:00",
          "2018-12-16T12:00:00",
          "2019-01-16T12:00:00",
          "2019-02-15T00:00:00",
          "2019-03-16T12:00:00",
          "2019-04-16T00:00:00",
          "2019-05-16T12:00:00",
          "2019-06-16T00:00:00",
          "2019-07-16T12:00:00",
          "2019-08-16T12:00:00",
          "2019-09-16T00:00:00",
          "2019-10-16T11:59:59.999999999"
         ],
         "xaxis": "x",
         "y": [
          0.09515613768383896,
          0.09856753476510118,
          0.08802826135807663,
          0.11530249676207852,
          0.2773182566058189,
          0.24843045366352323,
          0.19350727916800203,
          0.24771136540319671,
          0.23062481144622607,
          0.2828606741565136,
          0.2672481778580717,
          0.29558825744011596,
          0.3762293406248287,
          0.3762293406248287
         ],
         "yaxis": "y"
        },
        {
         "hoverinfo": "skip",
         "line": {
          "color": "#3b0280",
          "dash": "dash",
          "shape": "hv",
          "width": 2
         },
         "mode": "lines",
         "name": "<b>MAPE</b> (estimated MAPE)",
         "showlegend": false,
         "type": "scatter",
         "x": [
          "2019-10-01T00:00:00",
          "2019-11-01T00:00:00",
          "2019-12-01T00:00:00",
          "2020-01-01T00:00:00",
          "2020-02-01T00:00:00",
          "2020-02-29T23:59:59.999999999"
         ],
         "xaxis": "x",
         "y": [
          0.3310858644828358,
          0.23078759106088056,
          0.23961715350626123,
          0.31318292188412916,
          0.319092831212526,
          0.319092831212526
         ],
         "yaxis": "y"
        },
        {
         "customdata": [
          [
           "<b>MAPE</b> (estimated MAPE)",
           "<b style=\"color:#3b0280;line-height:60px\">Analysis</b>",
           "",
           "2019-10",
           "From <b>Oct-01-2019</b> to <b>Oct-31-2019</b>",
           0.3311
          ],
          [
           "<b>MAPE</b> (estimated MAPE)",
           "<b style=\"color:#3b0280;line-height:60px\">Analysis</b>",
           "",
           "2019-11",
           "From <b>Nov-01-2019</b> to <b>Nov-30-2019</b>",
           0.2308
          ],
          [
           "<b>MAPE</b> (estimated MAPE)",
           "<b style=\"color:#3b0280;line-height:60px\">Analysis</b>",
           "",
           "2019-12",
           "From <b>Dec-01-2019</b> to <b>Dec-31-2019</b>",
           0.2396
          ],
          [
           "<b>MAPE</b> (estimated MAPE)",
           "<b style=\"color:#3b0280;line-height:60px\">Analysis</b>",
           "",
           "2020-01",
           "From <b>Jan-01-2020</b> to <b>Jan-31-2020</b>",
           0.3132
          ],
          [
           "<b>MAPE</b> (estimated MAPE)",
           "<b style=\"color:#3b0280;line-height:60px\">Analysis</b>",
           "",
           "2020-02",
           "From <b>Feb-01-2020</b> to <b>Feb-29-2020</b>",
           0.3191
          ]
         ],
         "hovertemplate": "%{customdata[1]} &nbsp; &nbsp; %{customdata[2]} <br />Chunk: <b>%{customdata[3]}</b> &nbsp; &nbsp; %{customdata[4]} <br />%{customdata[0]}: <b>%{customdata[5]}</b><br /><extra></extra>",
         "line": {
          "dash": "dash"
         },
         "marker": {
          "color": "#3b0280",
          "size": 5,
          "symbol": "circle"
         },
         "mode": "markers",
         "name": "<b>MAPE</b> (estimated MAPE)",
         "showlegend": false,
         "type": "scatter",
         "x": [
          "2019-10-16T12:00:00",
          "2019-11-16T00:00:00",
          "2019-12-16T12:00:00",
          "2020-01-16T12:00:00",
          "2020-02-15T11:59:59.999999999"
         ],
         "xaxis": "x",
         "y": [
          0.3310858644828358,
          0.23078759106088056,
          0.23961715350626123,
          0.31318292188412916,
          0.319092831212526,
          0.319092831212526
         ],
         "yaxis": "y"
        },
        {
         "hoverinfo": "skip",
         "line": {
          "color": "rgba(0,0,0,0)",
          "shape": "hv"
         },
         "mode": "lines",
         "name": "Confidence band",
         "showlegend": false,
         "type": "scatter",
         "x": [
          "2019-10-01T00:00:00",
          "2019-11-01T00:00:00",
          "2019-12-01T00:00:00",
          "2020-01-01T00:00:00",
          "2020-02-01T00:00:00",
          "2020-02-29T23:59:59.999999999"
         ],
         "xaxis": "x",
         "y": [
          0.37914652749339955,
          0.25830322423467666,
          0.26668534819125544,
          0.3402511165691234,
          0.3504046549396976,
          0.3504046549396976
         ],
         "yaxis": "y"
        },
        {
         "fill": "tonexty",
         "fillcolor": "rgba(0.23137254901960785, 0.00784313725490196, 0.5019607843137255, 0.2)",
         "hoverinfo": "skip",
         "line": {
          "color": "rgba(0,0,0,0)",
          "shape": "hv"
         },
         "mode": "lines",
         "name": "Confidence band",
         "showlegend": false,
         "type": "scatter",
         "x": [
          "2019-10-01T00:00:00",
          "2019-11-01T00:00:00",
          "2019-12-01T00:00:00",
          "2020-01-01T00:00:00",
          "2020-02-01T00:00:00",
          "2020-02-29T23:59:59.999999999"
         ],
         "xaxis": "x",
         "y": [
          0.283025201472272,
          0.20327195788708446,
          0.21254895882126698,
          0.28611472719913494,
          0.28778100748535446,
          0.28778100748535446
         ],
         "yaxis": "y"
        },
        {
         "hoverinfo": "skip",
         "line": {
          "color": "#00c8e5",
          "shape": "hv",
          "width": 2
         },
         "mode": "lines",
         "name": "<b>MAPE</b> (realized MAPE)",
         "showlegend": false,
         "type": "scatter",
         "x": [
          "2019-10-01T00:00:00",
          "2019-11-01T00:00:00",
          "2019-12-01T00:00:00",
          "2020-01-01T00:00:00",
          "2020-02-01T00:00:00",
          "2020-02-29T23:59:59.999999999"
         ],
         "xaxis": "x",
         "y": [
          0.20197181560241442,
          0.32444759645852445,
          0.2958992905109666,
          0.30681077800740714,
          0.3230059921253321,
          0.3230059921253321
         ],
         "yaxis": "y"
        },
        {
         "customdata": [
          [
           "<b>MAPE</b>",
           "<b style=\"color:#00c8e5;line-height:60px\">Analysis</b>",
           "",
           "2019-10",
           "From <b>Oct-01-2019</b> to <b>Oct-31-2019</b>",
           0.202
          ],
          [
           "<b>MAPE</b>",
           "<b style=\"color:#00c8e5;line-height:60px\">Analysis</b>",
           "",
           "2019-11",
           "From <b>Nov-01-2019</b> to <b>Nov-30-2019</b>",
           0.3244
          ],
          [
           "<b>MAPE</b>",
           "<b style=\"color:#00c8e5;line-height:60px\">Analysis</b>",
           "",
           "2019-12",
           "From <b>Dec-01-2019</b> to <b>Dec-31-2019</b>",
           0.2959
          ],
          [
           "<b>MAPE</b>",
           "<b style=\"color:#00c8e5;line-height:60px\">Analysis</b>",
           "",
           "2020-01",
           "From <b>Jan-01-2020</b> to <b>Jan-31-2020</b>",
           0.3068
          ],
          [
           "<b>MAPE</b>",
           "<b style=\"color:#00c8e5;line-height:60px\">Analysis</b>",
           "",
           "2020-02",
           "From <b>Feb-01-2020</b> to <b>Feb-29-2020</b>",
           0.323
          ]
         ],
         "hovertemplate": "%{customdata[1]} &nbsp; &nbsp; %{customdata[2]} <br />Chunk: <b>%{customdata[3]}</b> &nbsp; &nbsp; %{customdata[4]} <br />%{customdata[0]}: <b>%{customdata[5]}</b><br /><extra></extra>",
         "marker": {
          "color": "#00c8e5",
          "size": 5,
          "symbol": "circle"
         },
         "mode": "markers",
         "name": "<b>MAPE</b> (realized MAPE)",
         "showlegend": false,
         "type": "scatter",
         "x": [
          "2019-10-16T12:00:00",
          "2019-11-16T00:00:00",
          "2019-12-16T12:00:00",
          "2020-01-16T12:00:00",
          "2020-02-15T11:59:59.999999999"
         ],
         "xaxis": "x",
         "y": [
          0.20197181560241442,
          0.32444759645852445,
          0.2958992905109666,
          0.30681077800740714,
          0.3230059921253321,
          0.3230059921253321
         ],
         "yaxis": "y"
        },
        {
         "hoverinfo": "skip",
         "legendgroup": "alert",
         "marker": {
          "color": "#DD4040",
          "size": 8,
          "symbol": "diamond"
         },
         "mode": "markers",
         "name": "Alert",
         "showlegend": true,
         "type": "scatter",
         "x": [],
         "xaxis": "x",
         "y": [],
         "yaxis": "y"
        },
        {
         "hoverinfo": "skip",
         "legendgroup": "alert",
         "marker": {
          "color": "#DD4040",
          "size": 8,
          "symbol": "diamond"
         },
         "mode": "markers",
         "name": "Alert",
         "showlegend": false,
         "type": "scatter",
         "x": [],
         "xaxis": "x",
         "y": [],
         "yaxis": "y"
        }
       ],
       "layout": {
        "annotations": [
         {
          "font": {
           "size": 16
          },
          "showarrow": false,
          "text": "<b>MAPE</b> (estimated MAPE) vs. <b>MAPE</b> (realized MAPE)",
          "x": 0.47,
          "xanchor": "center",
          "xref": "paper",
          "y": 1,
          "yanchor": "bottom",
          "yref": "paper"
         },
         {
          "showarrow": false,
          "text": "Reference",
          "x": "2019-04-01T11:04:36.923076864",
          "xshift": 10,
          "y": 1,
          "yref": "paper"
         },
         {
          "showarrow": false,
          "text": "Analysis",
          "x": "2019-12-01T09:36:00",
          "xshift": 15,
          "y": 1,
          "yref": "paper"
         }
        ],
        "height": 500,
        "hoverlabel": {
         "bgcolor": "white",
         "font": {
          "size": 14
         }
        },
        "legend": {
         "itemclick": false,
         "itemdoubleclick": false,
         "traceorder": "grouped"
        },
        "paper_bgcolor": "rgba(255,255,255,1)",
        "plot_bgcolor": "rgba(255,255,255,1)",
        "shapes": [
         {
          "layer": "below",
          "line": {
           "color": "#666666",
           "width": 1
          },
          "type": "line",
          "x0": "2019-10-01T00:00:00",
          "x1": "2019-10-01T00:00:00",
          "xref": "x",
          "y0": 0,
          "y1": 1,
          "yref": "y domain"
         }
        ],
        "template": {
         "data": {
          "bar": [
           {
            "error_x": {
             "color": "#2a3f5f"
            },
            "error_y": {
             "color": "#2a3f5f"
            },
            "marker": {
             "line": {
              "color": "#E5ECF6",
              "width": 0.5
             },
             "pattern": {
              "fillmode": "overlay",
              "size": 10,
              "solidity": 0.2
             }
            },
            "type": "bar"
           }
          ],
          "barpolar": [
           {
            "marker": {
             "line": {
              "color": "#E5ECF6",
              "width": 0.5
             },
             "pattern": {
              "fillmode": "overlay",
              "size": 10,
              "solidity": 0.2
             }
            },
            "type": "barpolar"
           }
          ],
          "carpet": [
           {
            "aaxis": {
             "endlinecolor": "#2a3f5f",
             "gridcolor": "white",
             "linecolor": "white",
             "minorgridcolor": "white",
             "startlinecolor": "#2a3f5f"
            },
            "baxis": {
             "endlinecolor": "#2a3f5f",
             "gridcolor": "white",
             "linecolor": "white",
             "minorgridcolor": "white",
             "startlinecolor": "#2a3f5f"
            },
            "type": "carpet"
           }
          ],
          "choropleth": [
           {
            "colorbar": {
             "outlinewidth": 0,
             "ticks": ""
            },
            "type": "choropleth"
           }
          ],
          "contour": [
           {
            "colorbar": {
             "outlinewidth": 0,
             "ticks": ""
            },
            "colorscale": [
             [
              0,
              "#0d0887"
             ],
             [
              0.1111111111111111,
              "#46039f"
             ],
             [
              0.2222222222222222,
              "#7201a8"
             ],
             [
              0.3333333333333333,
              "#9c179e"
             ],
             [
              0.4444444444444444,
              "#bd3786"
             ],
             [
              0.5555555555555556,
              "#d8576b"
             ],
             [
              0.6666666666666666,
              "#ed7953"
             ],
             [
              0.7777777777777778,
              "#fb9f3a"
             ],
             [
              0.8888888888888888,
              "#fdca26"
             ],
             [
              1,
              "#f0f921"
             ]
            ],
            "type": "contour"
           }
          ],
          "contourcarpet": [
           {
            "colorbar": {
             "outlinewidth": 0,
             "ticks": ""
            },
            "type": "contourcarpet"
           }
          ],
          "heatmap": [
           {
            "colorbar": {
             "outlinewidth": 0,
             "ticks": ""
            },
            "colorscale": [
             [
              0,
              "#0d0887"
             ],
             [
              0.1111111111111111,
              "#46039f"
             ],
             [
              0.2222222222222222,
              "#7201a8"
             ],
             [
              0.3333333333333333,
              "#9c179e"
             ],
             [
              0.4444444444444444,
              "#bd3786"
             ],
             [
              0.5555555555555556,
              "#d8576b"
             ],
             [
              0.6666666666666666,
              "#ed7953"
             ],
             [
              0.7777777777777778,
              "#fb9f3a"
             ],
             [
              0.8888888888888888,
              "#fdca26"
             ],
             [
              1,
              "#f0f921"
             ]
            ],
            "type": "heatmap"
           }
          ],
          "heatmapgl": [
           {
            "colorbar": {
             "outlinewidth": 0,
             "ticks": ""
            },
            "colorscale": [
             [
              0,
              "#0d0887"
             ],
             [
              0.1111111111111111,
              "#46039f"
             ],
             [
              0.2222222222222222,
              "#7201a8"
             ],
             [
              0.3333333333333333,
              "#9c179e"
             ],
             [
              0.4444444444444444,
              "#bd3786"
             ],
             [
              0.5555555555555556,
              "#d8576b"
             ],
             [
              0.6666666666666666,
              "#ed7953"
             ],
             [
              0.7777777777777778,
              "#fb9f3a"
             ],
             [
              0.8888888888888888,
              "#fdca26"
             ],
             [
              1,
              "#f0f921"
             ]
            ],
            "type": "heatmapgl"
           }
          ],
          "histogram": [
           {
            "marker": {
             "pattern": {
              "fillmode": "overlay",
              "size": 10,
              "solidity": 0.2
             }
            },
            "type": "histogram"
           }
          ],
          "histogram2d": [
           {
            "colorbar": {
             "outlinewidth": 0,
             "ticks": ""
            },
            "colorscale": [
             [
              0,
              "#0d0887"
             ],
             [
              0.1111111111111111,
              "#46039f"
             ],
             [
              0.2222222222222222,
              "#7201a8"
             ],
             [
              0.3333333333333333,
              "#9c179e"
             ],
             [
              0.4444444444444444,
              "#bd3786"
             ],
             [
              0.5555555555555556,
              "#d8576b"
             ],
             [
              0.6666666666666666,
              "#ed7953"
             ],
             [
              0.7777777777777778,
              "#fb9f3a"
             ],
             [
              0.8888888888888888,
              "#fdca26"
             ],
             [
              1,
              "#f0f921"
             ]
            ],
            "type": "histogram2d"
           }
          ],
          "histogram2dcontour": [
           {
            "colorbar": {
             "outlinewidth": 0,
             "ticks": ""
            },
            "colorscale": [
             [
              0,
              "#0d0887"
             ],
             [
              0.1111111111111111,
              "#46039f"
             ],
             [
              0.2222222222222222,
              "#7201a8"
             ],
             [
              0.3333333333333333,
              "#9c179e"
             ],
             [
              0.4444444444444444,
              "#bd3786"
             ],
             [
              0.5555555555555556,
              "#d8576b"
             ],
             [
              0.6666666666666666,
              "#ed7953"
             ],
             [
              0.7777777777777778,
              "#fb9f3a"
             ],
             [
              0.8888888888888888,
              "#fdca26"
             ],
             [
              1,
              "#f0f921"
             ]
            ],
            "type": "histogram2dcontour"
           }
          ],
          "mesh3d": [
           {
            "colorbar": {
             "outlinewidth": 0,
             "ticks": ""
            },
            "type": "mesh3d"
           }
          ],
          "parcoords": [
           {
            "line": {
             "colorbar": {
              "outlinewidth": 0,
              "ticks": ""
             }
            },
            "type": "parcoords"
           }
          ],
          "pie": [
           {
            "automargin": true,
            "type": "pie"
           }
          ],
          "scatter": [
           {
            "fillpattern": {
             "fillmode": "overlay",
             "size": 10,
             "solidity": 0.2
            },
            "type": "scatter"
           }
          ],
          "scatter3d": [
           {
            "line": {
             "colorbar": {
              "outlinewidth": 0,
              "ticks": ""
             }
            },
            "marker": {
             "colorbar": {
              "outlinewidth": 0,
              "ticks": ""
             }
            },
            "type": "scatter3d"
           }
          ],
          "scattercarpet": [
           {
            "marker": {
             "colorbar": {
              "outlinewidth": 0,
              "ticks": ""
             }
            },
            "type": "scattercarpet"
           }
          ],
          "scattergeo": [
           {
            "marker": {
             "colorbar": {
              "outlinewidth": 0,
              "ticks": ""
             }
            },
            "type": "scattergeo"
           }
          ],
          "scattergl": [
           {
            "marker": {
             "colorbar": {
              "outlinewidth": 0,
              "ticks": ""
             }
            },
            "type": "scattergl"
           }
          ],
          "scattermapbox": [
           {
            "marker": {
             "colorbar": {
              "outlinewidth": 0,
              "ticks": ""
             }
            },
            "type": "scattermapbox"
           }
          ],
          "scatterpolar": [
           {
            "marker": {
             "colorbar": {
              "outlinewidth": 0,
              "ticks": ""
             }
            },
            "type": "scatterpolar"
           }
          ],
          "scatterpolargl": [
           {
            "marker": {
             "colorbar": {
              "outlinewidth": 0,
              "ticks": ""
             }
            },
            "type": "scatterpolargl"
           }
          ],
          "scatterternary": [
           {
            "marker": {
             "colorbar": {
              "outlinewidth": 0,
              "ticks": ""
             }
            },
            "type": "scatterternary"
           }
          ],
          "surface": [
           {
            "colorbar": {
             "outlinewidth": 0,
             "ticks": ""
            },
            "colorscale": [
             [
              0,
              "#0d0887"
             ],
             [
              0.1111111111111111,
              "#46039f"
             ],
             [
              0.2222222222222222,
              "#7201a8"
             ],
             [
              0.3333333333333333,
              "#9c179e"
             ],
             [
              0.4444444444444444,
              "#bd3786"
             ],
             [
              0.5555555555555556,
              "#d8576b"
             ],
             [
              0.6666666666666666,
              "#ed7953"
             ],
             [
              0.7777777777777778,
              "#fb9f3a"
             ],
             [
              0.8888888888888888,
              "#fdca26"
             ],
             [
              1,
              "#f0f921"
             ]
            ],
            "type": "surface"
           }
          ],
          "table": [
           {
            "cells": {
             "fill": {
              "color": "#EBF0F8"
             },
             "line": {
              "color": "white"
             }
            },
            "header": {
             "fill": {
              "color": "#C8D4E3"
             },
             "line": {
              "color": "white"
             }
            },
            "type": "table"
           }
          ]
         },
         "layout": {
          "annotationdefaults": {
           "arrowcolor": "#2a3f5f",
           "arrowhead": 0,
           "arrowwidth": 1
          },
          "autotypenumbers": "strict",
          "coloraxis": {
           "colorbar": {
            "outlinewidth": 0,
            "ticks": ""
           }
          },
          "colorscale": {
           "diverging": [
            [
             0,
             "#8e0152"
            ],
            [
             0.1,
             "#c51b7d"
            ],
            [
             0.2,
             "#de77ae"
            ],
            [
             0.3,
             "#f1b6da"
            ],
            [
             0.4,
             "#fde0ef"
            ],
            [
             0.5,
             "#f7f7f7"
            ],
            [
             0.6,
             "#e6f5d0"
            ],
            [
             0.7,
             "#b8e186"
            ],
            [
             0.8,
             "#7fbc41"
            ],
            [
             0.9,
             "#4d9221"
            ],
            [
             1,
             "#276419"
            ]
           ],
           "sequential": [
            [
             0,
             "#0d0887"
            ],
            [
             0.1111111111111111,
             "#46039f"
            ],
            [
             0.2222222222222222,
             "#7201a8"
            ],
            [
             0.3333333333333333,
             "#9c179e"
            ],
            [
             0.4444444444444444,
             "#bd3786"
            ],
            [
             0.5555555555555556,
             "#d8576b"
            ],
            [
             0.6666666666666666,
             "#ed7953"
            ],
            [
             0.7777777777777778,
             "#fb9f3a"
            ],
            [
             0.8888888888888888,
             "#fdca26"
            ],
            [
             1,
             "#f0f921"
            ]
           ],
           "sequentialminus": [
            [
             0,
             "#0d0887"
            ],
            [
             0.1111111111111111,
             "#46039f"
            ],
            [
             0.2222222222222222,
             "#7201a8"
            ],
            [
             0.3333333333333333,
             "#9c179e"
            ],
            [
             0.4444444444444444,
             "#bd3786"
            ],
            [
             0.5555555555555556,
             "#d8576b"
            ],
            [
             0.6666666666666666,
             "#ed7953"
            ],
            [
             0.7777777777777778,
             "#fb9f3a"
            ],
            [
             0.8888888888888888,
             "#fdca26"
            ],
            [
             1,
             "#f0f921"
            ]
           ]
          },
          "colorway": [
           "#636efa",
           "#EF553B",
           "#00cc96",
           "#ab63fa",
           "#FFA15A",
           "#19d3f3",
           "#FF6692",
           "#B6E880",
           "#FF97FF",
           "#FECB52"
          ],
          "font": {
           "color": "#2a3f5f"
          },
          "geo": {
           "bgcolor": "white",
           "lakecolor": "white",
           "landcolor": "#E5ECF6",
           "showlakes": true,
           "showland": true,
           "subunitcolor": "white"
          },
          "hoverlabel": {
           "align": "left"
          },
          "hovermode": "closest",
          "mapbox": {
           "style": "light"
          },
          "paper_bgcolor": "white",
          "plot_bgcolor": "#E5ECF6",
          "polar": {
           "angularaxis": {
            "gridcolor": "white",
            "linecolor": "white",
            "ticks": ""
           },
           "bgcolor": "#E5ECF6",
           "radialaxis": {
            "gridcolor": "white",
            "linecolor": "white",
            "ticks": ""
           }
          },
          "scene": {
           "xaxis": {
            "backgroundcolor": "#E5ECF6",
            "gridcolor": "white",
            "gridwidth": 2,
            "linecolor": "white",
            "showbackground": true,
            "ticks": "",
            "zerolinecolor": "white"
           },
           "yaxis": {
            "backgroundcolor": "#E5ECF6",
            "gridcolor": "white",
            "gridwidth": 2,
            "linecolor": "white",
            "showbackground": true,
            "ticks": "",
            "zerolinecolor": "white"
           },
           "zaxis": {
            "backgroundcolor": "#E5ECF6",
            "gridcolor": "white",
            "gridwidth": 2,
            "linecolor": "white",
            "showbackground": true,
            "ticks": "",
            "zerolinecolor": "white"
           }
          },
          "shapedefaults": {
           "line": {
            "color": "#2a3f5f"
           }
          },
          "ternary": {
           "aaxis": {
            "gridcolor": "white",
            "linecolor": "white",
            "ticks": ""
           },
           "baxis": {
            "gridcolor": "white",
            "linecolor": "white",
            "ticks": ""
           },
           "bgcolor": "#E5ECF6",
           "caxis": {
            "gridcolor": "white",
            "linecolor": "white",
            "ticks": ""
           }
          },
          "title": {
           "x": 0.05
          },
          "xaxis": {
           "automargin": true,
           "gridcolor": "white",
           "linecolor": "white",
           "ticks": "",
           "title": {
            "standoff": 15
           },
           "zerolinecolor": "white",
           "zerolinewidth": 2
          },
          "yaxis": {
           "automargin": true,
           "gridcolor": "white",
           "linecolor": "white",
           "ticks": "",
           "title": {
            "standoff": 15
           },
           "zerolinecolor": "white",
           "zerolinewidth": 2
          }
         }
        },
        "title": {
         "text": "<b>Estimated performance (DLE)</b> vs. <b>Realized performance</b>"
        },
        "xaxis": {
         "anchor": "y",
         "domain": [
          0,
          0.94
         ],
         "linecolor": "#3b0280",
         "matches": "x",
         "mirror": true,
         "showgrid": false,
         "title": {
          "text": "Time"
         },
         "zeroline": false
        },
        "yaxis": {
         "anchor": "x",
         "domain": [
          0,
          1
         ],
         "linecolor": "#3b0280",
         "mirror": true,
         "showgrid": false,
         "title": {
          "text": "<b>MAPE</b>"
         },
         "zeroline": false
        },
        "yaxis2": {
         "anchor": "x",
         "linecolor": "#3b0280",
         "mirror": true,
         "overlaying": "y",
         "showgrid": false,
         "side": "right",
         "title": {
          "text": "Comparison"
         },
         "zeroline": false
        }
       }
      },
      "text/html": [
       "<div>                            <div id=\"c2307445-c2c3-4553-9452-31e6329944c0\" class=\"plotly-graph-div\" style=\"height:500.0px; width:100%;\"></div>            <script type=\"text/javascript\">                require([\"plotly\"], function(Plotly) {                    window.PLOTLYENV=window.PLOTLYENV || {};                                    if (document.getElementById(\"c2307445-c2c3-4553-9452-31e6329944c0\")) {                    Plotly.newPlot(                        \"c2307445-c2c3-4553-9452-31e6329944c0\",                        [{\"hoverinfo\":\"skip\",\"line\":{\"color\":\"#3b0280\",\"dash\":\"dash\",\"shape\":\"hv\",\"width\":2},\"mode\":\"lines\",\"name\":\"\\u003cb\\u003eMAPE\\u003c\\u002fb\\u003e (estimated MAPE)\",\"showlegend\":true,\"x\":[\"2018-10-01T00:00:00\",\"2018-11-01T00:00:00\",\"2018-12-01T00:00:00\",\"2019-01-01T00:00:00\",\"2019-02-01T00:00:00\",\"2019-03-01T00:00:00\",\"2019-04-01T00:00:00\",\"2019-05-01T00:00:00\",\"2019-06-01T00:00:00\",\"2019-07-01T00:00:00\",\"2019-08-01T00:00:00\",\"2019-09-01T00:00:00\",\"2019-10-01T00:00:00\",\"2019-10-31T23:59:59.999999999\"],\"xaxis\":\"x\",\"y\":[0.10352659488965046,0.09713037884085943,0.09619755527676653,0.11957427809586864,0.27330172653562823,0.24886278810168466,0.18192879393672637,0.24911234727747317,0.23509882590362732,0.27798393772675145,0.2762035444643175,0.2871250937459183,0.3758562039260086,0.3758562039260086],\"yaxis\":\"y\",\"type\":\"scatter\"},{\"customdata\":[[\"\\u003cb\\u003eMAPE\\u003c\\u002fb\\u003e (estimated MAPE)\",\"\\u003cb style=\\\"color:#3b0280;line-height:60px\\\"\\u003eReference\\u003c\\u002fb\\u003e\",\"2018-10\",\"From \\u003cb\\u003eOct-01-2018\\u003c\\u002fb\\u003e to \\u003cb\\u003eOct-31-2018\\u003c\\u002fb\\u003e\",0.1035],[\"\\u003cb\\u003eMAPE\\u003c\\u002fb\\u003e (estimated MAPE)\",\"\\u003cb style=\\\"color:#3b0280;line-height:60px\\\"\\u003eReference\\u003c\\u002fb\\u003e\",\"2018-11\",\"From \\u003cb\\u003eNov-01-2018\\u003c\\u002fb\\u003e to \\u003cb\\u003eNov-30-2018\\u003c\\u002fb\\u003e\",0.0971],[\"\\u003cb\\u003eMAPE\\u003c\\u002fb\\u003e (estimated MAPE)\",\"\\u003cb style=\\\"color:#3b0280;line-height:60px\\\"\\u003eReference\\u003c\\u002fb\\u003e\",\"2018-12\",\"From \\u003cb\\u003eDec-01-2018\\u003c\\u002fb\\u003e to \\u003cb\\u003eDec-31-2018\\u003c\\u002fb\\u003e\",0.0962],[\"\\u003cb\\u003eMAPE\\u003c\\u002fb\\u003e (estimated MAPE)\",\"\\u003cb style=\\\"color:#3b0280;line-height:60px\\\"\\u003eReference\\u003c\\u002fb\\u003e\",\"2019-01\",\"From \\u003cb\\u003eJan-01-2019\\u003c\\u002fb\\u003e to \\u003cb\\u003eJan-31-2019\\u003c\\u002fb\\u003e\",0.1196],[\"\\u003cb\\u003eMAPE\\u003c\\u002fb\\u003e (estimated MAPE)\",\"\\u003cb style=\\\"color:#3b0280;line-height:60px\\\"\\u003eReference\\u003c\\u002fb\\u003e\",\"2019-02\",\"From \\u003cb\\u003eFeb-01-2019\\u003c\\u002fb\\u003e to \\u003cb\\u003eFeb-28-2019\\u003c\\u002fb\\u003e\",0.2733],[\"\\u003cb\\u003eMAPE\\u003c\\u002fb\\u003e (estimated MAPE)\",\"\\u003cb style=\\\"color:#3b0280;line-height:60px\\\"\\u003eReference\\u003c\\u002fb\\u003e\",\"2019-03\",\"From \\u003cb\\u003eMar-01-2019\\u003c\\u002fb\\u003e to \\u003cb\\u003eMar-31-2019\\u003c\\u002fb\\u003e\",0.2489],[\"\\u003cb\\u003eMAPE\\u003c\\u002fb\\u003e (estimated MAPE)\",\"\\u003cb style=\\\"color:#3b0280;line-height:60px\\\"\\u003eReference\\u003c\\u002fb\\u003e\",\"2019-04\",\"From \\u003cb\\u003eApr-01-2019\\u003c\\u002fb\\u003e to \\u003cb\\u003eApr-30-2019\\u003c\\u002fb\\u003e\",0.1819],[\"\\u003cb\\u003eMAPE\\u003c\\u002fb\\u003e (estimated MAPE)\",\"\\u003cb style=\\\"color:#3b0280;line-height:60px\\\"\\u003eReference\\u003c\\u002fb\\u003e\",\"2019-05\",\"From \\u003cb\\u003eMay-01-2019\\u003c\\u002fb\\u003e to \\u003cb\\u003eMay-31-2019\\u003c\\u002fb\\u003e\",0.2491],[\"\\u003cb\\u003eMAPE\\u003c\\u002fb\\u003e (estimated MAPE)\",\"\\u003cb style=\\\"color:#3b0280;line-height:60px\\\"\\u003eReference\\u003c\\u002fb\\u003e\",\"2019-06\",\"From \\u003cb\\u003eJun-01-2019\\u003c\\u002fb\\u003e to \\u003cb\\u003eJun-30-2019\\u003c\\u002fb\\u003e\",0.2351],[\"\\u003cb\\u003eMAPE\\u003c\\u002fb\\u003e (estimated MAPE)\",\"\\u003cb style=\\\"color:#3b0280;line-height:60px\\\"\\u003eReference\\u003c\\u002fb\\u003e\",\"2019-07\",\"From \\u003cb\\u003eJul-01-2019\\u003c\\u002fb\\u003e to \\u003cb\\u003eJul-31-2019\\u003c\\u002fb\\u003e\",0.278],[\"\\u003cb\\u003eMAPE\\u003c\\u002fb\\u003e (estimated MAPE)\",\"\\u003cb style=\\\"color:#3b0280;line-height:60px\\\"\\u003eReference\\u003c\\u002fb\\u003e\",\"2019-08\",\"From \\u003cb\\u003eAug-01-2019\\u003c\\u002fb\\u003e to \\u003cb\\u003eAug-31-2019\\u003c\\u002fb\\u003e\",0.2762],[\"\\u003cb\\u003eMAPE\\u003c\\u002fb\\u003e (estimated MAPE)\",\"\\u003cb style=\\\"color:#3b0280;line-height:60px\\\"\\u003eReference\\u003c\\u002fb\\u003e\",\"2019-09\",\"From \\u003cb\\u003eSep-01-2019\\u003c\\u002fb\\u003e to \\u003cb\\u003eSep-30-2019\\u003c\\u002fb\\u003e\",0.2871],[\"\\u003cb\\u003eMAPE\\u003c\\u002fb\\u003e (estimated MAPE)\",\"\\u003cb style=\\\"color:#3b0280;line-height:60px\\\"\\u003eReference\\u003c\\u002fb\\u003e\",\"2019-10\",\"From \\u003cb\\u003eOct-01-2019\\u003c\\u002fb\\u003e to \\u003cb\\u003eOct-31-2019\\u003c\\u002fb\\u003e\",0.3759]],\"hovertemplate\":\"%{customdata[1]}\\u003cbr \\u002f\\u003eChunk: \\u003cb\\u003e%{customdata[2]}\\u003c\\u002fb\\u003e &nbsp; &nbsp; %{customdata[3]} \\u003cbr \\u002f\\u003e%{customdata[0]}: \\u003cb\\u003e%{customdata[4]}\\u003c\\u002fb\\u003e\\u003cbr \\u002f\\u003e\\u003cextra\\u003e\\u003c\\u002fextra\\u003e\",\"line\":{\"dash\":\"dash\"},\"marker\":{\"color\":\"#3b0280\",\"size\":5,\"symbol\":\"circle\"},\"mode\":\"markers\",\"name\":\"\\u003cb\\u003eMAPE\\u003c\\u002fb\\u003e (estimated MAPE)\",\"showlegend\":false,\"x\":[\"2018-10-16T12:00:00\",\"2018-11-16T00:00:00\",\"2018-12-16T12:00:00\",\"2019-01-16T12:00:00\",\"2019-02-15T00:00:00\",\"2019-03-16T12:00:00\",\"2019-04-16T00:00:00\",\"2019-05-16T12:00:00\",\"2019-06-16T00:00:00\",\"2019-07-16T12:00:00\",\"2019-08-16T12:00:00\",\"2019-09-16T00:00:00\",\"2019-10-16T11:59:59.999999999\"],\"xaxis\":\"x\",\"y\":[0.10352659488965046,0.09713037884085943,0.09619755527676653,0.11957427809586864,0.27330172653562823,0.24886278810168466,0.18192879393672637,0.24911234727747317,0.23509882590362732,0.27798393772675145,0.2762035444643175,0.2871250937459183,0.3758562039260086,0.3758562039260086],\"yaxis\":\"y\",\"type\":\"scatter\"},{\"hoverinfo\":\"skip\",\"line\":{\"color\":\"rgba(0,0,0,0)\",\"dash\":\"dash\",\"shape\":\"hv\"},\"mode\":\"lines\",\"name\":\"Confidence band\",\"showlegend\":false,\"x\":[\"2018-10-01T00:00:00\",\"2018-11-01T00:00:00\",\"2018-12-01T00:00:00\",\"2019-01-01T00:00:00\",\"2019-02-01T00:00:00\",\"2019-03-01T00:00:00\",\"2019-04-01T00:00:00\",\"2019-05-01T00:00:00\",\"2019-06-01T00:00:00\",\"2019-07-01T00:00:00\",\"2019-08-01T00:00:00\",\"2019-09-01T00:00:00\",\"2019-10-01T00:00:00\",\"2019-10-31T23:59:59.999999999\"],\"xaxis\":\"x\",\"y\":[0.15612985324965137,0.12464601201465553,0.12326574996176076,0.14664247278086287,0.3017831127307302,0.2759309827866789,0.20944442711052247,0.2761805419624674,0.2626144590774234,0.30505213241174567,0.3032717391493117,0.3146407269197144,0.40861394177632343,0.40861394177632343],\"yaxis\":\"y\",\"type\":\"scatter\"},{\"fill\":\"tonexty\",\"fillcolor\":\"rgba(0.23137254901960785, 0.00784313725490196, 0.5019607843137255, 0.2)\",\"hoverinfo\":\"skip\",\"line\":{\"color\":\"rgba(0,0,0,0)\",\"dash\":\"dash\",\"shape\":\"hv\"},\"mode\":\"lines\",\"name\":\"Confidence band\",\"showlegend\":true,\"x\":[\"2018-10-01T00:00:00\",\"2018-11-01T00:00:00\",\"2018-12-01T00:00:00\",\"2019-01-01T00:00:00\",\"2019-02-01T00:00:00\",\"2019-03-01T00:00:00\",\"2019-04-01T00:00:00\",\"2019-05-01T00:00:00\",\"2019-06-01T00:00:00\",\"2019-07-01T00:00:00\",\"2019-08-01T00:00:00\",\"2019-09-01T00:00:00\",\"2019-10-01T00:00:00\",\"2019-10-31T23:59:59.999999999\"],\"xaxis\":\"x\",\"y\":[0.05092333652964955,0.06961474566706333,0.0691293605917723,0.0925060834108744,0.24482034034052627,0.22179459341669042,0.15441316076293027,0.22204415259247892,0.20758319272983122,0.25091574304175723,0.24913534977932325,0.25960946057212225,0.3430984660756938,0.3430984660756938],\"yaxis\":\"y\",\"type\":\"scatter\"},{\"hoverinfo\":\"skip\",\"line\":{\"color\":\"#00c8e5\",\"shape\":\"hv\",\"width\":2},\"mode\":\"lines\",\"name\":\"\\u003cb\\u003eMAPE\\u003c\\u002fb\\u003e (realized MAPE)\",\"showlegend\":true,\"x\":[\"2018-10-01T00:00:00\",\"2018-11-01T00:00:00\",\"2018-12-01T00:00:00\",\"2019-01-01T00:00:00\",\"2019-02-01T00:00:00\",\"2019-03-01T00:00:00\",\"2019-04-01T00:00:00\",\"2019-05-01T00:00:00\",\"2019-06-01T00:00:00\",\"2019-07-01T00:00:00\",\"2019-08-01T00:00:00\",\"2019-09-01T00:00:00\",\"2019-10-01T00:00:00\",\"2019-10-31T23:59:59.999999999\"],\"xaxis\":\"x\",\"y\":[0.09515613768383896,0.09856753476510118,0.08802826135807663,0.11530249676207852,0.2773182566058189,0.24843045366352323,0.19350727916800203,0.24771136540319671,0.23062481144622607,0.2828606741565136,0.2672481778580717,0.29558825744011596,0.3762293406248287,0.3762293406248287],\"yaxis\":\"y\",\"type\":\"scatter\"},{\"customdata\":[[\"\\u003cb\\u003eMAPE\\u003c\\u002fb\\u003e\",\"\\u003cb style=\\\"color:#00c8e5;line-height:60px\\\"\\u003eReference\\u003c\\u002fb\\u003e\",\"2018-10\",\"From \\u003cb\\u003eOct-01-2018\\u003c\\u002fb\\u003e to \\u003cb\\u003eOct-31-2018\\u003c\\u002fb\\u003e\",0.0952],[\"\\u003cb\\u003eMAPE\\u003c\\u002fb\\u003e\",\"\\u003cb style=\\\"color:#00c8e5;line-height:60px\\\"\\u003eReference\\u003c\\u002fb\\u003e\",\"2018-11\",\"From \\u003cb\\u003eNov-01-2018\\u003c\\u002fb\\u003e to \\u003cb\\u003eNov-30-2018\\u003c\\u002fb\\u003e\",0.0986],[\"\\u003cb\\u003eMAPE\\u003c\\u002fb\\u003e\",\"\\u003cb style=\\\"color:#00c8e5;line-height:60px\\\"\\u003eReference\\u003c\\u002fb\\u003e\",\"2018-12\",\"From \\u003cb\\u003eDec-01-2018\\u003c\\u002fb\\u003e to \\u003cb\\u003eDec-31-2018\\u003c\\u002fb\\u003e\",0.088],[\"\\u003cb\\u003eMAPE\\u003c\\u002fb\\u003e\",\"\\u003cb style=\\\"color:#00c8e5;line-height:60px\\\"\\u003eReference\\u003c\\u002fb\\u003e\",\"2019-01\",\"From \\u003cb\\u003eJan-01-2019\\u003c\\u002fb\\u003e to \\u003cb\\u003eJan-31-2019\\u003c\\u002fb\\u003e\",0.1153],[\"\\u003cb\\u003eMAPE\\u003c\\u002fb\\u003e\",\"\\u003cb style=\\\"color:#00c8e5;line-height:60px\\\"\\u003eReference\\u003c\\u002fb\\u003e\",\"2019-02\",\"From \\u003cb\\u003eFeb-01-2019\\u003c\\u002fb\\u003e to \\u003cb\\u003eFeb-28-2019\\u003c\\u002fb\\u003e\",0.2773],[\"\\u003cb\\u003eMAPE\\u003c\\u002fb\\u003e\",\"\\u003cb style=\\\"color:#00c8e5;line-height:60px\\\"\\u003eReference\\u003c\\u002fb\\u003e\",\"2019-03\",\"From \\u003cb\\u003eMar-01-2019\\u003c\\u002fb\\u003e to \\u003cb\\u003eMar-31-2019\\u003c\\u002fb\\u003e\",0.2484],[\"\\u003cb\\u003eMAPE\\u003c\\u002fb\\u003e\",\"\\u003cb style=\\\"color:#00c8e5;line-height:60px\\\"\\u003eReference\\u003c\\u002fb\\u003e\",\"2019-04\",\"From \\u003cb\\u003eApr-01-2019\\u003c\\u002fb\\u003e to \\u003cb\\u003eApr-30-2019\\u003c\\u002fb\\u003e\",0.1935],[\"\\u003cb\\u003eMAPE\\u003c\\u002fb\\u003e\",\"\\u003cb style=\\\"color:#00c8e5;line-height:60px\\\"\\u003eReference\\u003c\\u002fb\\u003e\",\"2019-05\",\"From \\u003cb\\u003eMay-01-2019\\u003c\\u002fb\\u003e to \\u003cb\\u003eMay-31-2019\\u003c\\u002fb\\u003e\",0.2477],[\"\\u003cb\\u003eMAPE\\u003c\\u002fb\\u003e\",\"\\u003cb style=\\\"color:#00c8e5;line-height:60px\\\"\\u003eReference\\u003c\\u002fb\\u003e\",\"2019-06\",\"From \\u003cb\\u003eJun-01-2019\\u003c\\u002fb\\u003e to \\u003cb\\u003eJun-30-2019\\u003c\\u002fb\\u003e\",0.2306],[\"\\u003cb\\u003eMAPE\\u003c\\u002fb\\u003e\",\"\\u003cb style=\\\"color:#00c8e5;line-height:60px\\\"\\u003eReference\\u003c\\u002fb\\u003e\",\"2019-07\",\"From \\u003cb\\u003eJul-01-2019\\u003c\\u002fb\\u003e to \\u003cb\\u003eJul-31-2019\\u003c\\u002fb\\u003e\",0.2829],[\"\\u003cb\\u003eMAPE\\u003c\\u002fb\\u003e\",\"\\u003cb style=\\\"color:#00c8e5;line-height:60px\\\"\\u003eReference\\u003c\\u002fb\\u003e\",\"2019-08\",\"From \\u003cb\\u003eAug-01-2019\\u003c\\u002fb\\u003e to \\u003cb\\u003eAug-31-2019\\u003c\\u002fb\\u003e\",0.2672],[\"\\u003cb\\u003eMAPE\\u003c\\u002fb\\u003e\",\"\\u003cb style=\\\"color:#00c8e5;line-height:60px\\\"\\u003eReference\\u003c\\u002fb\\u003e\",\"2019-09\",\"From \\u003cb\\u003eSep-01-2019\\u003c\\u002fb\\u003e to \\u003cb\\u003eSep-30-2019\\u003c\\u002fb\\u003e\",0.2956],[\"\\u003cb\\u003eMAPE\\u003c\\u002fb\\u003e\",\"\\u003cb style=\\\"color:#00c8e5;line-height:60px\\\"\\u003eReference\\u003c\\u002fb\\u003e\",\"2019-10\",\"From \\u003cb\\u003eOct-01-2019\\u003c\\u002fb\\u003e to \\u003cb\\u003eOct-31-2019\\u003c\\u002fb\\u003e\",0.3762]],\"hovertemplate\":\"%{customdata[1]}\\u003cbr \\u002f\\u003eChunk: \\u003cb\\u003e%{customdata[2]}\\u003c\\u002fb\\u003e &nbsp; &nbsp; %{customdata[3]} \\u003cbr \\u002f\\u003e%{customdata[0]}: \\u003cb\\u003e%{customdata[4]}\\u003c\\u002fb\\u003e\\u003cbr \\u002f\\u003e\\u003cextra\\u003e\\u003c\\u002fextra\\u003e\",\"marker\":{\"color\":\"#00c8e5\",\"size\":5,\"symbol\":\"circle\"},\"mode\":\"markers\",\"name\":\"\\u003cb\\u003eMAPE\\u003c\\u002fb\\u003e (realized MAPE)\",\"showlegend\":false,\"x\":[\"2018-10-16T12:00:00\",\"2018-11-16T00:00:00\",\"2018-12-16T12:00:00\",\"2019-01-16T12:00:00\",\"2019-02-15T00:00:00\",\"2019-03-16T12:00:00\",\"2019-04-16T00:00:00\",\"2019-05-16T12:00:00\",\"2019-06-16T00:00:00\",\"2019-07-16T12:00:00\",\"2019-08-16T12:00:00\",\"2019-09-16T00:00:00\",\"2019-10-16T11:59:59.999999999\"],\"xaxis\":\"x\",\"y\":[0.09515613768383896,0.09856753476510118,0.08802826135807663,0.11530249676207852,0.2773182566058189,0.24843045366352323,0.19350727916800203,0.24771136540319671,0.23062481144622607,0.2828606741565136,0.2672481778580717,0.29558825744011596,0.3762293406248287,0.3762293406248287],\"yaxis\":\"y\",\"type\":\"scatter\"},{\"hoverinfo\":\"skip\",\"line\":{\"color\":\"#3b0280\",\"dash\":\"dash\",\"shape\":\"hv\",\"width\":2},\"mode\":\"lines\",\"name\":\"\\u003cb\\u003eMAPE\\u003c\\u002fb\\u003e (estimated MAPE)\",\"showlegend\":false,\"x\":[\"2019-10-01T00:00:00\",\"2019-11-01T00:00:00\",\"2019-12-01T00:00:00\",\"2020-01-01T00:00:00\",\"2020-02-01T00:00:00\",\"2020-02-29T23:59:59.999999999\"],\"xaxis\":\"x\",\"y\":[0.3310858644828358,0.23078759106088056,0.23961715350626123,0.31318292188412916,0.319092831212526,0.319092831212526],\"yaxis\":\"y\",\"type\":\"scatter\"},{\"customdata\":[[\"\\u003cb\\u003eMAPE\\u003c\\u002fb\\u003e (estimated MAPE)\",\"\\u003cb style=\\\"color:#3b0280;line-height:60px\\\"\\u003eAnalysis\\u003c\\u002fb\\u003e\",\"\",\"2019-10\",\"From \\u003cb\\u003eOct-01-2019\\u003c\\u002fb\\u003e to \\u003cb\\u003eOct-31-2019\\u003c\\u002fb\\u003e\",0.3311],[\"\\u003cb\\u003eMAPE\\u003c\\u002fb\\u003e (estimated MAPE)\",\"\\u003cb style=\\\"color:#3b0280;line-height:60px\\\"\\u003eAnalysis\\u003c\\u002fb\\u003e\",\"\",\"2019-11\",\"From \\u003cb\\u003eNov-01-2019\\u003c\\u002fb\\u003e to \\u003cb\\u003eNov-30-2019\\u003c\\u002fb\\u003e\",0.2308],[\"\\u003cb\\u003eMAPE\\u003c\\u002fb\\u003e (estimated MAPE)\",\"\\u003cb style=\\\"color:#3b0280;line-height:60px\\\"\\u003eAnalysis\\u003c\\u002fb\\u003e\",\"\",\"2019-12\",\"From \\u003cb\\u003eDec-01-2019\\u003c\\u002fb\\u003e to \\u003cb\\u003eDec-31-2019\\u003c\\u002fb\\u003e\",0.2396],[\"\\u003cb\\u003eMAPE\\u003c\\u002fb\\u003e (estimated MAPE)\",\"\\u003cb style=\\\"color:#3b0280;line-height:60px\\\"\\u003eAnalysis\\u003c\\u002fb\\u003e\",\"\",\"2020-01\",\"From \\u003cb\\u003eJan-01-2020\\u003c\\u002fb\\u003e to \\u003cb\\u003eJan-31-2020\\u003c\\u002fb\\u003e\",0.3132],[\"\\u003cb\\u003eMAPE\\u003c\\u002fb\\u003e (estimated MAPE)\",\"\\u003cb style=\\\"color:#3b0280;line-height:60px\\\"\\u003eAnalysis\\u003c\\u002fb\\u003e\",\"\",\"2020-02\",\"From \\u003cb\\u003eFeb-01-2020\\u003c\\u002fb\\u003e to \\u003cb\\u003eFeb-29-2020\\u003c\\u002fb\\u003e\",0.3191]],\"hovertemplate\":\"%{customdata[1]} &nbsp; &nbsp; %{customdata[2]} \\u003cbr \\u002f\\u003eChunk: \\u003cb\\u003e%{customdata[3]}\\u003c\\u002fb\\u003e &nbsp; &nbsp; %{customdata[4]} \\u003cbr \\u002f\\u003e%{customdata[0]}: \\u003cb\\u003e%{customdata[5]}\\u003c\\u002fb\\u003e\\u003cbr \\u002f\\u003e\\u003cextra\\u003e\\u003c\\u002fextra\\u003e\",\"line\":{\"dash\":\"dash\"},\"marker\":{\"color\":\"#3b0280\",\"size\":5,\"symbol\":\"circle\"},\"mode\":\"markers\",\"name\":\"\\u003cb\\u003eMAPE\\u003c\\u002fb\\u003e (estimated MAPE)\",\"showlegend\":false,\"x\":[\"2019-10-16T12:00:00\",\"2019-11-16T00:00:00\",\"2019-12-16T12:00:00\",\"2020-01-16T12:00:00\",\"2020-02-15T11:59:59.999999999\"],\"xaxis\":\"x\",\"y\":[0.3310858644828358,0.23078759106088056,0.23961715350626123,0.31318292188412916,0.319092831212526,0.319092831212526],\"yaxis\":\"y\",\"type\":\"scatter\"},{\"hoverinfo\":\"skip\",\"line\":{\"color\":\"rgba(0,0,0,0)\",\"shape\":\"hv\"},\"mode\":\"lines\",\"name\":\"Confidence band\",\"showlegend\":false,\"x\":[\"2019-10-01T00:00:00\",\"2019-11-01T00:00:00\",\"2019-12-01T00:00:00\",\"2020-01-01T00:00:00\",\"2020-02-01T00:00:00\",\"2020-02-29T23:59:59.999999999\"],\"xaxis\":\"x\",\"y\":[0.37914652749339955,0.25830322423467666,0.26668534819125544,0.3402511165691234,0.3504046549396976,0.3504046549396976],\"yaxis\":\"y\",\"type\":\"scatter\"},{\"fill\":\"tonexty\",\"fillcolor\":\"rgba(0.23137254901960785, 0.00784313725490196, 0.5019607843137255, 0.2)\",\"hoverinfo\":\"skip\",\"line\":{\"color\":\"rgba(0,0,0,0)\",\"shape\":\"hv\"},\"mode\":\"lines\",\"name\":\"Confidence band\",\"showlegend\":false,\"x\":[\"2019-10-01T00:00:00\",\"2019-11-01T00:00:00\",\"2019-12-01T00:00:00\",\"2020-01-01T00:00:00\",\"2020-02-01T00:00:00\",\"2020-02-29T23:59:59.999999999\"],\"xaxis\":\"x\",\"y\":[0.283025201472272,0.20327195788708446,0.21254895882126698,0.28611472719913494,0.28778100748535446,0.28778100748535446],\"yaxis\":\"y\",\"type\":\"scatter\"},{\"hoverinfo\":\"skip\",\"line\":{\"color\":\"#00c8e5\",\"shape\":\"hv\",\"width\":2},\"mode\":\"lines\",\"name\":\"\\u003cb\\u003eMAPE\\u003c\\u002fb\\u003e (realized MAPE)\",\"showlegend\":false,\"x\":[\"2019-10-01T00:00:00\",\"2019-11-01T00:00:00\",\"2019-12-01T00:00:00\",\"2020-01-01T00:00:00\",\"2020-02-01T00:00:00\",\"2020-02-29T23:59:59.999999999\"],\"xaxis\":\"x\",\"y\":[0.20197181560241442,0.32444759645852445,0.2958992905109666,0.30681077800740714,0.3230059921253321,0.3230059921253321],\"yaxis\":\"y\",\"type\":\"scatter\"},{\"customdata\":[[\"\\u003cb\\u003eMAPE\\u003c\\u002fb\\u003e\",\"\\u003cb style=\\\"color:#00c8e5;line-height:60px\\\"\\u003eAnalysis\\u003c\\u002fb\\u003e\",\"\",\"2019-10\",\"From \\u003cb\\u003eOct-01-2019\\u003c\\u002fb\\u003e to \\u003cb\\u003eOct-31-2019\\u003c\\u002fb\\u003e\",0.202],[\"\\u003cb\\u003eMAPE\\u003c\\u002fb\\u003e\",\"\\u003cb style=\\\"color:#00c8e5;line-height:60px\\\"\\u003eAnalysis\\u003c\\u002fb\\u003e\",\"\",\"2019-11\",\"From \\u003cb\\u003eNov-01-2019\\u003c\\u002fb\\u003e to \\u003cb\\u003eNov-30-2019\\u003c\\u002fb\\u003e\",0.3244],[\"\\u003cb\\u003eMAPE\\u003c\\u002fb\\u003e\",\"\\u003cb style=\\\"color:#00c8e5;line-height:60px\\\"\\u003eAnalysis\\u003c\\u002fb\\u003e\",\"\",\"2019-12\",\"From \\u003cb\\u003eDec-01-2019\\u003c\\u002fb\\u003e to \\u003cb\\u003eDec-31-2019\\u003c\\u002fb\\u003e\",0.2959],[\"\\u003cb\\u003eMAPE\\u003c\\u002fb\\u003e\",\"\\u003cb style=\\\"color:#00c8e5;line-height:60px\\\"\\u003eAnalysis\\u003c\\u002fb\\u003e\",\"\",\"2020-01\",\"From \\u003cb\\u003eJan-01-2020\\u003c\\u002fb\\u003e to \\u003cb\\u003eJan-31-2020\\u003c\\u002fb\\u003e\",0.3068],[\"\\u003cb\\u003eMAPE\\u003c\\u002fb\\u003e\",\"\\u003cb style=\\\"color:#00c8e5;line-height:60px\\\"\\u003eAnalysis\\u003c\\u002fb\\u003e\",\"\",\"2020-02\",\"From \\u003cb\\u003eFeb-01-2020\\u003c\\u002fb\\u003e to \\u003cb\\u003eFeb-29-2020\\u003c\\u002fb\\u003e\",0.323]],\"hovertemplate\":\"%{customdata[1]} &nbsp; &nbsp; %{customdata[2]} \\u003cbr \\u002f\\u003eChunk: \\u003cb\\u003e%{customdata[3]}\\u003c\\u002fb\\u003e &nbsp; &nbsp; %{customdata[4]} \\u003cbr \\u002f\\u003e%{customdata[0]}: \\u003cb\\u003e%{customdata[5]}\\u003c\\u002fb\\u003e\\u003cbr \\u002f\\u003e\\u003cextra\\u003e\\u003c\\u002fextra\\u003e\",\"marker\":{\"color\":\"#00c8e5\",\"size\":5,\"symbol\":\"circle\"},\"mode\":\"markers\",\"name\":\"\\u003cb\\u003eMAPE\\u003c\\u002fb\\u003e (realized MAPE)\",\"showlegend\":false,\"x\":[\"2019-10-16T12:00:00\",\"2019-11-16T00:00:00\",\"2019-12-16T12:00:00\",\"2020-01-16T12:00:00\",\"2020-02-15T11:59:59.999999999\"],\"xaxis\":\"x\",\"y\":[0.20197181560241442,0.32444759645852445,0.2958992905109666,0.30681077800740714,0.3230059921253321,0.3230059921253321],\"yaxis\":\"y\",\"type\":\"scatter\"},{\"hoverinfo\":\"skip\",\"legendgroup\":\"alert\",\"marker\":{\"color\":\"#DD4040\",\"size\":8,\"symbol\":\"diamond\"},\"mode\":\"markers\",\"name\":\"Alert\",\"showlegend\":true,\"x\":[],\"xaxis\":\"x\",\"y\":[],\"yaxis\":\"y\",\"type\":\"scatter\"},{\"hoverinfo\":\"skip\",\"legendgroup\":\"alert\",\"marker\":{\"color\":\"#DD4040\",\"size\":8,\"symbol\":\"diamond\"},\"mode\":\"markers\",\"name\":\"Alert\",\"showlegend\":false,\"x\":[],\"xaxis\":\"x\",\"y\":[],\"yaxis\":\"y\",\"type\":\"scatter\"}],                        {\"height\":500.0,\"hoverlabel\":{\"bgcolor\":\"white\",\"font\":{\"size\":14}},\"legend\":{\"itemclick\":false,\"itemdoubleclick\":false,\"traceorder\":\"grouped\"},\"paper_bgcolor\":\"rgba(255,255,255,1)\",\"plot_bgcolor\":\"rgba(255,255,255,1)\",\"title\":{\"text\":\"\\u003cb\\u003eEstimated performance (DLE)\\u003c\\u002fb\\u003e vs. \\u003cb\\u003eRealized performance\\u003c\\u002fb\\u003e\"},\"xaxis\":{\"linecolor\":\"#3b0280\",\"mirror\":true,\"showgrid\":false,\"title\":{\"text\":\"Time\"},\"zeroline\":false,\"anchor\":\"y\",\"domain\":[0.0,0.94],\"matches\":\"x\"},\"yaxis\":{\"linecolor\":\"#3b0280\",\"mirror\":true,\"showgrid\":false,\"title\":{\"text\":\"\\u003cb\\u003eMAPE\\u003c\\u002fb\\u003e\"},\"zeroline\":false,\"anchor\":\"x\",\"domain\":[0.0,1.0]},\"template\":{\"data\":{\"histogram2dcontour\":[{\"type\":\"histogram2dcontour\",\"colorbar\":{\"outlinewidth\":0,\"ticks\":\"\"},\"colorscale\":[[0.0,\"#0d0887\"],[0.1111111111111111,\"#46039f\"],[0.2222222222222222,\"#7201a8\"],[0.3333333333333333,\"#9c179e\"],[0.4444444444444444,\"#bd3786\"],[0.5555555555555556,\"#d8576b\"],[0.6666666666666666,\"#ed7953\"],[0.7777777777777778,\"#fb9f3a\"],[0.8888888888888888,\"#fdca26\"],[1.0,\"#f0f921\"]]}],\"choropleth\":[{\"type\":\"choropleth\",\"colorbar\":{\"outlinewidth\":0,\"ticks\":\"\"}}],\"histogram2d\":[{\"type\":\"histogram2d\",\"colorbar\":{\"outlinewidth\":0,\"ticks\":\"\"},\"colorscale\":[[0.0,\"#0d0887\"],[0.1111111111111111,\"#46039f\"],[0.2222222222222222,\"#7201a8\"],[0.3333333333333333,\"#9c179e\"],[0.4444444444444444,\"#bd3786\"],[0.5555555555555556,\"#d8576b\"],[0.6666666666666666,\"#ed7953\"],[0.7777777777777778,\"#fb9f3a\"],[0.8888888888888888,\"#fdca26\"],[1.0,\"#f0f921\"]]}],\"heatmap\":[{\"type\":\"heatmap\",\"colorbar\":{\"outlinewidth\":0,\"ticks\":\"\"},\"colorscale\":[[0.0,\"#0d0887\"],[0.1111111111111111,\"#46039f\"],[0.2222222222222222,\"#7201a8\"],[0.3333333333333333,\"#9c179e\"],[0.4444444444444444,\"#bd3786\"],[0.5555555555555556,\"#d8576b\"],[0.6666666666666666,\"#ed7953\"],[0.7777777777777778,\"#fb9f3a\"],[0.8888888888888888,\"#fdca26\"],[1.0,\"#f0f921\"]]}],\"heatmapgl\":[{\"type\":\"heatmapgl\",\"colorbar\":{\"outlinewidth\":0,\"ticks\":\"\"},\"colorscale\":[[0.0,\"#0d0887\"],[0.1111111111111111,\"#46039f\"],[0.2222222222222222,\"#7201a8\"],[0.3333333333333333,\"#9c179e\"],[0.4444444444444444,\"#bd3786\"],[0.5555555555555556,\"#d8576b\"],[0.6666666666666666,\"#ed7953\"],[0.7777777777777778,\"#fb9f3a\"],[0.8888888888888888,\"#fdca26\"],[1.0,\"#f0f921\"]]}],\"contourcarpet\":[{\"type\":\"contourcarpet\",\"colorbar\":{\"outlinewidth\":0,\"ticks\":\"\"}}],\"contour\":[{\"type\":\"contour\",\"colorbar\":{\"outlinewidth\":0,\"ticks\":\"\"},\"colorscale\":[[0.0,\"#0d0887\"],[0.1111111111111111,\"#46039f\"],[0.2222222222222222,\"#7201a8\"],[0.3333333333333333,\"#9c179e\"],[0.4444444444444444,\"#bd3786\"],[0.5555555555555556,\"#d8576b\"],[0.6666666666666666,\"#ed7953\"],[0.7777777777777778,\"#fb9f3a\"],[0.8888888888888888,\"#fdca26\"],[1.0,\"#f0f921\"]]}],\"surface\":[{\"type\":\"surface\",\"colorbar\":{\"outlinewidth\":0,\"ticks\":\"\"},\"colorscale\":[[0.0,\"#0d0887\"],[0.1111111111111111,\"#46039f\"],[0.2222222222222222,\"#7201a8\"],[0.3333333333333333,\"#9c179e\"],[0.4444444444444444,\"#bd3786\"],[0.5555555555555556,\"#d8576b\"],[0.6666666666666666,\"#ed7953\"],[0.7777777777777778,\"#fb9f3a\"],[0.8888888888888888,\"#fdca26\"],[1.0,\"#f0f921\"]]}],\"mesh3d\":[{\"type\":\"mesh3d\",\"colorbar\":{\"outlinewidth\":0,\"ticks\":\"\"}}],\"scatter\":[{\"fillpattern\":{\"fillmode\":\"overlay\",\"size\":10,\"solidity\":0.2},\"type\":\"scatter\"}],\"parcoords\":[{\"type\":\"parcoords\",\"line\":{\"colorbar\":{\"outlinewidth\":0,\"ticks\":\"\"}}}],\"scatterpolargl\":[{\"type\":\"scatterpolargl\",\"marker\":{\"colorbar\":{\"outlinewidth\":0,\"ticks\":\"\"}}}],\"bar\":[{\"error_x\":{\"color\":\"#2a3f5f\"},\"error_y\":{\"color\":\"#2a3f5f\"},\"marker\":{\"line\":{\"color\":\"#E5ECF6\",\"width\":0.5},\"pattern\":{\"fillmode\":\"overlay\",\"size\":10,\"solidity\":0.2}},\"type\":\"bar\"}],\"scattergeo\":[{\"type\":\"scattergeo\",\"marker\":{\"colorbar\":{\"outlinewidth\":0,\"ticks\":\"\"}}}],\"scatterpolar\":[{\"type\":\"scatterpolar\",\"marker\":{\"colorbar\":{\"outlinewidth\":0,\"ticks\":\"\"}}}],\"histogram\":[{\"marker\":{\"pattern\":{\"fillmode\":\"overlay\",\"size\":10,\"solidity\":0.2}},\"type\":\"histogram\"}],\"scattergl\":[{\"type\":\"scattergl\",\"marker\":{\"colorbar\":{\"outlinewidth\":0,\"ticks\":\"\"}}}],\"scatter3d\":[{\"type\":\"scatter3d\",\"line\":{\"colorbar\":{\"outlinewidth\":0,\"ticks\":\"\"}},\"marker\":{\"colorbar\":{\"outlinewidth\":0,\"ticks\":\"\"}}}],\"scattermapbox\":[{\"type\":\"scattermapbox\",\"marker\":{\"colorbar\":{\"outlinewidth\":0,\"ticks\":\"\"}}}],\"scatterternary\":[{\"type\":\"scatterternary\",\"marker\":{\"colorbar\":{\"outlinewidth\":0,\"ticks\":\"\"}}}],\"scattercarpet\":[{\"type\":\"scattercarpet\",\"marker\":{\"colorbar\":{\"outlinewidth\":0,\"ticks\":\"\"}}}],\"carpet\":[{\"aaxis\":{\"endlinecolor\":\"#2a3f5f\",\"gridcolor\":\"white\",\"linecolor\":\"white\",\"minorgridcolor\":\"white\",\"startlinecolor\":\"#2a3f5f\"},\"baxis\":{\"endlinecolor\":\"#2a3f5f\",\"gridcolor\":\"white\",\"linecolor\":\"white\",\"minorgridcolor\":\"white\",\"startlinecolor\":\"#2a3f5f\"},\"type\":\"carpet\"}],\"table\":[{\"cells\":{\"fill\":{\"color\":\"#EBF0F8\"},\"line\":{\"color\":\"white\"}},\"header\":{\"fill\":{\"color\":\"#C8D4E3\"},\"line\":{\"color\":\"white\"}},\"type\":\"table\"}],\"barpolar\":[{\"marker\":{\"line\":{\"color\":\"#E5ECF6\",\"width\":0.5},\"pattern\":{\"fillmode\":\"overlay\",\"size\":10,\"solidity\":0.2}},\"type\":\"barpolar\"}],\"pie\":[{\"automargin\":true,\"type\":\"pie\"}]},\"layout\":{\"autotypenumbers\":\"strict\",\"colorway\":[\"#636efa\",\"#EF553B\",\"#00cc96\",\"#ab63fa\",\"#FFA15A\",\"#19d3f3\",\"#FF6692\",\"#B6E880\",\"#FF97FF\",\"#FECB52\"],\"font\":{\"color\":\"#2a3f5f\"},\"hovermode\":\"closest\",\"hoverlabel\":{\"align\":\"left\"},\"paper_bgcolor\":\"white\",\"plot_bgcolor\":\"#E5ECF6\",\"polar\":{\"bgcolor\":\"#E5ECF6\",\"angularaxis\":{\"gridcolor\":\"white\",\"linecolor\":\"white\",\"ticks\":\"\"},\"radialaxis\":{\"gridcolor\":\"white\",\"linecolor\":\"white\",\"ticks\":\"\"}},\"ternary\":{\"bgcolor\":\"#E5ECF6\",\"aaxis\":{\"gridcolor\":\"white\",\"linecolor\":\"white\",\"ticks\":\"\"},\"baxis\":{\"gridcolor\":\"white\",\"linecolor\":\"white\",\"ticks\":\"\"},\"caxis\":{\"gridcolor\":\"white\",\"linecolor\":\"white\",\"ticks\":\"\"}},\"coloraxis\":{\"colorbar\":{\"outlinewidth\":0,\"ticks\":\"\"}},\"colorscale\":{\"sequential\":[[0.0,\"#0d0887\"],[0.1111111111111111,\"#46039f\"],[0.2222222222222222,\"#7201a8\"],[0.3333333333333333,\"#9c179e\"],[0.4444444444444444,\"#bd3786\"],[0.5555555555555556,\"#d8576b\"],[0.6666666666666666,\"#ed7953\"],[0.7777777777777778,\"#fb9f3a\"],[0.8888888888888888,\"#fdca26\"],[1.0,\"#f0f921\"]],\"sequentialminus\":[[0.0,\"#0d0887\"],[0.1111111111111111,\"#46039f\"],[0.2222222222222222,\"#7201a8\"],[0.3333333333333333,\"#9c179e\"],[0.4444444444444444,\"#bd3786\"],[0.5555555555555556,\"#d8576b\"],[0.6666666666666666,\"#ed7953\"],[0.7777777777777778,\"#fb9f3a\"],[0.8888888888888888,\"#fdca26\"],[1.0,\"#f0f921\"]],\"diverging\":[[0,\"#8e0152\"],[0.1,\"#c51b7d\"],[0.2,\"#de77ae\"],[0.3,\"#f1b6da\"],[0.4,\"#fde0ef\"],[0.5,\"#f7f7f7\"],[0.6,\"#e6f5d0\"],[0.7,\"#b8e186\"],[0.8,\"#7fbc41\"],[0.9,\"#4d9221\"],[1,\"#276419\"]]},\"xaxis\":{\"gridcolor\":\"white\",\"linecolor\":\"white\",\"ticks\":\"\",\"title\":{\"standoff\":15},\"zerolinecolor\":\"white\",\"automargin\":true,\"zerolinewidth\":2},\"yaxis\":{\"gridcolor\":\"white\",\"linecolor\":\"white\",\"ticks\":\"\",\"title\":{\"standoff\":15},\"zerolinecolor\":\"white\",\"automargin\":true,\"zerolinewidth\":2},\"scene\":{\"xaxis\":{\"backgroundcolor\":\"#E5ECF6\",\"gridcolor\":\"white\",\"linecolor\":\"white\",\"showbackground\":true,\"ticks\":\"\",\"zerolinecolor\":\"white\",\"gridwidth\":2},\"yaxis\":{\"backgroundcolor\":\"#E5ECF6\",\"gridcolor\":\"white\",\"linecolor\":\"white\",\"showbackground\":true,\"ticks\":\"\",\"zerolinecolor\":\"white\",\"gridwidth\":2},\"zaxis\":{\"backgroundcolor\":\"#E5ECF6\",\"gridcolor\":\"white\",\"linecolor\":\"white\",\"showbackground\":true,\"ticks\":\"\",\"zerolinecolor\":\"white\",\"gridwidth\":2}},\"shapedefaults\":{\"line\":{\"color\":\"#2a3f5f\"}},\"annotationdefaults\":{\"arrowcolor\":\"#2a3f5f\",\"arrowhead\":0,\"arrowwidth\":1},\"geo\":{\"bgcolor\":\"white\",\"landcolor\":\"#E5ECF6\",\"subunitcolor\":\"white\",\"showland\":true,\"showlakes\":true,\"lakecolor\":\"white\"},\"title\":{\"x\":0.05},\"mapbox\":{\"style\":\"light\"}}},\"yaxis2\":{\"anchor\":\"x\",\"overlaying\":\"y\",\"side\":\"right\",\"title\":{\"text\":\"Comparison\"},\"linecolor\":\"#3b0280\",\"showgrid\":false,\"mirror\":true,\"zeroline\":false},\"annotations\":[{\"font\":{\"size\":16},\"showarrow\":false,\"text\":\"\\u003cb\\u003eMAPE\\u003c\\u002fb\\u003e (estimated MAPE) vs. \\u003cb\\u003eMAPE\\u003c\\u002fb\\u003e (realized MAPE)\",\"x\":0.47,\"xanchor\":\"center\",\"xref\":\"paper\",\"y\":1.0,\"yanchor\":\"bottom\",\"yref\":\"paper\"},{\"showarrow\":false,\"text\":\"Reference\",\"x\":\"2019-04-01T11:04:36.923076864\",\"xshift\":10,\"y\":1,\"yref\":\"paper\"},{\"showarrow\":false,\"text\":\"Analysis\",\"x\":\"2019-12-01T09:36:00\",\"xshift\":15,\"y\":1,\"yref\":\"paper\"}],\"shapes\":[{\"layer\":\"below\",\"line\":{\"color\":\"#666666\",\"width\":1},\"type\":\"line\",\"x0\":\"2019-10-01T00:00:00\",\"x1\":\"2019-10-01T00:00:00\",\"xref\":\"x\",\"y0\":0,\"y1\":1,\"yref\":\"y domain\"}]},                        {\"responsive\": true}                    ).then(function(){\n",
       "                            \n",
       "var gd = document.getElementById('c2307445-c2c3-4553-9452-31e6329944c0');\n",
       "var x = new MutationObserver(function (mutations, observer) {{\n",
       "        var display = window.getComputedStyle(gd).display;\n",
       "        if (!display || display === 'none') {{\n",
       "            console.log([gd, 'removed!']);\n",
       "            Plotly.purge(gd);\n",
       "            observer.disconnect();\n",
       "        }}\n",
       "}});\n",
       "\n",
       "// Listen for the removal of the full notebook cells\n",
       "var notebookContainer = gd.closest('#notebook-container');\n",
       "if (notebookContainer) {{\n",
       "    x.observe(notebookContainer, {childList: true});\n",
       "}}\n",
       "\n",
       "// Listen for the clearing of the current output cell\n",
       "var outputEl = gd.closest('.output');\n",
       "if (outputEl) {{\n",
       "    x.observe(outputEl, {childList: true});\n",
       "}}\n",
       "\n",
       "                        })                };                });            </script>        </div>"
      ]
     },
     "metadata": {},
     "output_type": "display_data"
    }
   ],
   "source": [
    "pe_result[99].compare(realized_result[99]).plot()"
   ]
  },
  {
   "cell_type": "code",
   "execution_count": 194,
   "id": "7bc800fd",
   "metadata": {},
   "outputs": [
    {
     "data": {
      "text/html": [
       "<div>\n",
       "<style scoped>\n",
       "    .dataframe tbody tr th:only-of-type {\n",
       "        vertical-align: middle;\n",
       "    }\n",
       "\n",
       "    .dataframe tbody tr th {\n",
       "        vertical-align: top;\n",
       "    }\n",
       "\n",
       "    .dataframe thead th {\n",
       "        text-align: right;\n",
       "    }\n",
       "</style>\n",
       "<table border=\"1\" class=\"dataframe\">\n",
       "  <thead>\n",
       "    <tr style=\"text-align: right;\">\n",
       "      <th></th>\n",
       "      <th>sampling_error</th>\n",
       "      <th>realized</th>\n",
       "      <th>value</th>\n",
       "      <th>upper_confidence_boundary</th>\n",
       "      <th>lower_confidence_boundary</th>\n",
       "      <th>upper_threshold</th>\n",
       "      <th>lower_threshold</th>\n",
       "      <th>alert</th>\n",
       "      <th>estimated_alert</th>\n",
       "      <th>realized_alert</th>\n",
       "      <th>simulation_id</th>\n",
       "    </tr>\n",
       "  </thead>\n",
       "  <tbody>\n",
       "    <tr>\n",
       "      <th>0</th>\n",
       "      <td>0.009840</td>\n",
       "      <td>0.275513</td>\n",
       "      <td>0.228618</td>\n",
       "      <td>0.258140</td>\n",
       "      <td>0.199097</td>\n",
       "      <td>0.433767</td>\n",
       "      <td>0.0</td>\n",
       "      <td>False</td>\n",
       "      <td>False</td>\n",
       "      <td>False</td>\n",
       "      <td>0</td>\n",
       "    </tr>\n",
       "    <tr>\n",
       "      <th>1</th>\n",
       "      <td>0.009449</td>\n",
       "      <td>0.266924</td>\n",
       "      <td>0.485109</td>\n",
       "      <td>0.513456</td>\n",
       "      <td>0.456761</td>\n",
       "      <td>0.433767</td>\n",
       "      <td>0.0</td>\n",
       "      <td>True</td>\n",
       "      <td>True</td>\n",
       "      <td>False</td>\n",
       "      <td>0</td>\n",
       "    </tr>\n",
       "    <tr>\n",
       "      <th>2</th>\n",
       "      <td>0.009605</td>\n",
       "      <td>0.263685</td>\n",
       "      <td>0.447021</td>\n",
       "      <td>0.475837</td>\n",
       "      <td>0.418205</td>\n",
       "      <td>0.433767</td>\n",
       "      <td>0.0</td>\n",
       "      <td>True</td>\n",
       "      <td>True</td>\n",
       "      <td>False</td>\n",
       "      <td>0</td>\n",
       "    </tr>\n",
       "    <tr>\n",
       "      <th>3</th>\n",
       "      <td>0.009449</td>\n",
       "      <td>0.369532</td>\n",
       "      <td>0.430803</td>\n",
       "      <td>0.459150</td>\n",
       "      <td>0.402456</td>\n",
       "      <td>0.433767</td>\n",
       "      <td>0.0</td>\n",
       "      <td>False</td>\n",
       "      <td>False</td>\n",
       "      <td>False</td>\n",
       "      <td>0</td>\n",
       "    </tr>\n",
       "    <tr>\n",
       "      <th>4</th>\n",
       "      <td>0.025034</td>\n",
       "      <td>0.447805</td>\n",
       "      <td>0.394978</td>\n",
       "      <td>0.470079</td>\n",
       "      <td>0.319877</td>\n",
       "      <td>0.433767</td>\n",
       "      <td>0.0</td>\n",
       "      <td>False</td>\n",
       "      <td>False</td>\n",
       "      <td>True</td>\n",
       "      <td>0</td>\n",
       "    </tr>\n",
       "  </tbody>\n",
       "</table>\n",
       "</div>"
      ],
      "text/plain": [
       "   sampling_error  realized     value  upper_confidence_boundary  \\\n",
       "0        0.009840  0.275513  0.228618                   0.258140   \n",
       "1        0.009449  0.266924  0.485109                   0.513456   \n",
       "2        0.009605  0.263685  0.447021                   0.475837   \n",
       "3        0.009449  0.369532  0.430803                   0.459150   \n",
       "4        0.025034  0.447805  0.394978                   0.470079   \n",
       "\n",
       "   lower_confidence_boundary  upper_threshold  lower_threshold  alert  \\\n",
       "0                   0.199097         0.433767              0.0  False   \n",
       "1                   0.456761         0.433767              0.0   True   \n",
       "2                   0.418205         0.433767              0.0   True   \n",
       "3                   0.402456         0.433767              0.0  False   \n",
       "4                   0.319877         0.433767              0.0  False   \n",
       "\n",
       "   estimated_alert  realized_alert  simulation_id  \n",
       "0            False           False              0  \n",
       "1             True           False              0  \n",
       "2             True           False              0  \n",
       "3            False           False              0  \n",
       "4            False            True              0  "
      ]
     },
     "execution_count": 194,
     "metadata": {},
     "output_type": "execute_result"
    }
   ],
   "source": [
    "pe_comparison.head()"
   ]
  },
  {
   "cell_type": "code",
   "execution_count": 195,
   "id": "e435bf05",
   "metadata": {},
   "outputs": [
    {
     "data": {
      "text/plain": [
       "False    432\n",
       "True      59\n",
       "Name: realized_alert, dtype: int64"
      ]
     },
     "execution_count": 195,
     "metadata": {},
     "output_type": "execute_result"
    }
   ],
   "source": [
    "pe_comparison['realized_alert'].value_counts()"
   ]
  },
  {
   "cell_type": "code",
   "execution_count": 235,
   "id": "4248d073",
   "metadata": {},
   "outputs": [
    {
     "name": "stdout",
     "output_type": "stream",
     "text": [
      "25 out of 100 models (25.0 %) degradaded\n",
      "NannyML estimated at least a degradation in 20 out of the 25 (80.0 %) models that degradated\n",
      "There were 59 degradations alerts\n",
      "NannyML estimated 27 out of 59 (45.8 %) of the degradation alerts correctly\n",
      "NannyML estimated 398 (81.1 %) of the time the behaivoir of the performance correctly\n"
     ]
    }
   ],
   "source": [
    "positive_alerts = pe_comparison[pe_comparison['realized_alert'] == True]\n",
    "negative_alerts = pe_comparison[pe_comparison['realized_alert'] == False]\n",
    "\n",
    "tp_alerts = sum(positive_alerts['estimated_alert'] == positive_alerts['realized_alert'])\n",
    "tn_alerts = sum(negative_alerts['estimated_alert'] == negative_alerts['realized_alert'])\n",
    "\n",
    "degradations_per_model = pe_comparison.groupby(['simulation_id'])[['realized_alert', 'estimated_alert']].sum().reset_index()\n",
    "num_degradated_models = len(degradations_per_model[degradations_per_model['realized_alert'] > 0])\n",
    "\n",
    "degradations_per_model['is_true_positive'] = np.where((degradations_per_model['realized_alert'] > 0) & (degradations_per_model['estimated_alert'] > 0), True, False)\n",
    "tp_alerts_per_model = degradations_per_model[degradations_per_model['is_true_positive'] == True]\n",
    "\n",
    "print(f\"{num_degradated_models} out of {len(degradations_per_model)} models ({np.round(100 * num_degradated_models / len(degradations_per_model), 1)} %) degradaded\")\n",
    "print(f\"NannyML estimated at least a degradation in {len(tp_alerts_per_model)} out of the {num_degradated_models} ({np.round(100 * len(tp_alerts_per_model) / num_degradated_models, 1)} %) models that degradated\")\n",
    "print(f\"There were {len(positive_alerts)} degradations alerts\")\n",
    "print(f\"NannyML estimated {tp_alerts} out of {len(positive_alerts)} ({np.round(tp_alerts/len(positive_alerts) * 100, 1)} %) of the degradation alerts correctly\")\n",
    "print(f\"NannyML estimated {tp_alerts + tn_alerts} ({np.round((tp_alerts + tn_alerts) / len(pe_comparison) * 100, 1)} %) of the time the behaivoir of the performance correctly\")"
   ]
  },
  {
   "cell_type": "code",
   "execution_count": 222,
   "id": "f0f457af",
   "metadata": {},
   "outputs": [],
   "source": []
  },
  {
   "cell_type": "code",
   "execution_count": 233,
   "id": "493324c3",
   "metadata": {},
   "outputs": [
    {
     "data": {
      "text/html": [
       "<div>\n",
       "<style scoped>\n",
       "    .dataframe tbody tr th:only-of-type {\n",
       "        vertical-align: middle;\n",
       "    }\n",
       "\n",
       "    .dataframe tbody tr th {\n",
       "        vertical-align: top;\n",
       "    }\n",
       "\n",
       "    .dataframe thead th {\n",
       "        text-align: right;\n",
       "    }\n",
       "</style>\n",
       "<table border=\"1\" class=\"dataframe\">\n",
       "  <thead>\n",
       "    <tr style=\"text-align: right;\">\n",
       "      <th></th>\n",
       "      <th>simulation_id</th>\n",
       "      <th>realized_alert</th>\n",
       "      <th>estimated_alert</th>\n",
       "      <th>is_true_positive</th>\n",
       "    </tr>\n",
       "  </thead>\n",
       "  <tbody>\n",
       "    <tr>\n",
       "      <th>0</th>\n",
       "      <td>0</td>\n",
       "      <td>1</td>\n",
       "      <td>2</td>\n",
       "      <td>True</td>\n",
       "    </tr>\n",
       "    <tr>\n",
       "      <th>3</th>\n",
       "      <td>3</td>\n",
       "      <td>1</td>\n",
       "      <td>2</td>\n",
       "      <td>True</td>\n",
       "    </tr>\n",
       "    <tr>\n",
       "      <th>15</th>\n",
       "      <td>15</td>\n",
       "      <td>1</td>\n",
       "      <td>4</td>\n",
       "      <td>True</td>\n",
       "    </tr>\n",
       "    <tr>\n",
       "      <th>19</th>\n",
       "      <td>19</td>\n",
       "      <td>1</td>\n",
       "      <td>2</td>\n",
       "      <td>True</td>\n",
       "    </tr>\n",
       "    <tr>\n",
       "      <th>22</th>\n",
       "      <td>22</td>\n",
       "      <td>6</td>\n",
       "      <td>1</td>\n",
       "      <td>True</td>\n",
       "    </tr>\n",
       "    <tr>\n",
       "      <th>40</th>\n",
       "      <td>40</td>\n",
       "      <td>2</td>\n",
       "      <td>4</td>\n",
       "      <td>True</td>\n",
       "    </tr>\n",
       "    <tr>\n",
       "      <th>41</th>\n",
       "      <td>41</td>\n",
       "      <td>5</td>\n",
       "      <td>3</td>\n",
       "      <td>True</td>\n",
       "    </tr>\n",
       "    <tr>\n",
       "      <th>43</th>\n",
       "      <td>43</td>\n",
       "      <td>6</td>\n",
       "      <td>2</td>\n",
       "      <td>True</td>\n",
       "    </tr>\n",
       "    <tr>\n",
       "      <th>47</th>\n",
       "      <td>47</td>\n",
       "      <td>1</td>\n",
       "      <td>4</td>\n",
       "      <td>True</td>\n",
       "    </tr>\n",
       "    <tr>\n",
       "      <th>54</th>\n",
       "      <td>54</td>\n",
       "      <td>1</td>\n",
       "      <td>3</td>\n",
       "      <td>True</td>\n",
       "    </tr>\n",
       "    <tr>\n",
       "      <th>62</th>\n",
       "      <td>62</td>\n",
       "      <td>1</td>\n",
       "      <td>3</td>\n",
       "      <td>True</td>\n",
       "    </tr>\n",
       "    <tr>\n",
       "      <th>63</th>\n",
       "      <td>63</td>\n",
       "      <td>1</td>\n",
       "      <td>2</td>\n",
       "      <td>True</td>\n",
       "    </tr>\n",
       "    <tr>\n",
       "      <th>81</th>\n",
       "      <td>81</td>\n",
       "      <td>3</td>\n",
       "      <td>3</td>\n",
       "      <td>True</td>\n",
       "    </tr>\n",
       "    <tr>\n",
       "      <th>82</th>\n",
       "      <td>82</td>\n",
       "      <td>3</td>\n",
       "      <td>2</td>\n",
       "      <td>True</td>\n",
       "    </tr>\n",
       "    <tr>\n",
       "      <th>84</th>\n",
       "      <td>84</td>\n",
       "      <td>6</td>\n",
       "      <td>4</td>\n",
       "      <td>True</td>\n",
       "    </tr>\n",
       "    <tr>\n",
       "      <th>86</th>\n",
       "      <td>86</td>\n",
       "      <td>2</td>\n",
       "      <td>3</td>\n",
       "      <td>True</td>\n",
       "    </tr>\n",
       "    <tr>\n",
       "      <th>91</th>\n",
       "      <td>91</td>\n",
       "      <td>4</td>\n",
       "      <td>4</td>\n",
       "      <td>True</td>\n",
       "    </tr>\n",
       "    <tr>\n",
       "      <th>93</th>\n",
       "      <td>93</td>\n",
       "      <td>5</td>\n",
       "      <td>4</td>\n",
       "      <td>True</td>\n",
       "    </tr>\n",
       "    <tr>\n",
       "      <th>94</th>\n",
       "      <td>94</td>\n",
       "      <td>1</td>\n",
       "      <td>1</td>\n",
       "      <td>True</td>\n",
       "    </tr>\n",
       "    <tr>\n",
       "      <th>98</th>\n",
       "      <td>98</td>\n",
       "      <td>1</td>\n",
       "      <td>3</td>\n",
       "      <td>True</td>\n",
       "    </tr>\n",
       "  </tbody>\n",
       "</table>\n",
       "</div>"
      ],
      "text/plain": [
       "    simulation_id  realized_alert  estimated_alert  is_true_positive\n",
       "0               0               1                2              True\n",
       "3               3               1                2              True\n",
       "15             15               1                4              True\n",
       "19             19               1                2              True\n",
       "22             22               6                1              True\n",
       "40             40               2                4              True\n",
       "41             41               5                3              True\n",
       "43             43               6                2              True\n",
       "47             47               1                4              True\n",
       "54             54               1                3              True\n",
       "62             62               1                3              True\n",
       "63             63               1                2              True\n",
       "81             81               3                3              True\n",
       "82             82               3                2              True\n",
       "84             84               6                4              True\n",
       "86             86               2                3              True\n",
       "91             91               4                4              True\n",
       "93             93               5                4              True\n",
       "94             94               1                1              True\n",
       "98             98               1                3              True"
      ]
     },
     "execution_count": 233,
     "metadata": {},
     "output_type": "execute_result"
    }
   ],
   "source": [
    "tp_alerts_per_model"
   ]
  },
  {
   "cell_type": "code",
   "execution_count": null,
   "id": "e076a3b9",
   "metadata": {},
   "outputs": [],
   "source": []
  },
  {
   "cell_type": "code",
   "execution_count": null,
   "id": "2904cc71",
   "metadata": {},
   "outputs": [],
   "source": []
  }
 ],
 "metadata": {
  "kernelspec": {
   "display_name": "Python 3 (ipykernel)",
   "language": "python",
   "name": "python3"
  },
  "language_info": {
   "codemirror_mode": {
    "name": "ipython",
    "version": 3
   },
   "file_extension": ".py",
   "mimetype": "text/x-python",
   "name": "python",
   "nbconvert_exporter": "python",
   "pygments_lexer": "ipython3",
   "version": "3.10.8"
  }
 },
 "nbformat": 4,
 "nbformat_minor": 5
}
