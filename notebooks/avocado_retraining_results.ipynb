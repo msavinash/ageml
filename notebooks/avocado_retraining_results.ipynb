{
 "cells": [
  {
   "cell_type": "code",
   "execution_count": 1,
   "id": "ee7575df",
   "metadata": {},
   "outputs": [
    {
     "name": "stderr",
     "output_type": "stream",
     "text": [
      "/Users/santiago/miniconda3/envs/thesis/lib/python3.10/site-packages/tqdm/auto.py:21: TqdmWarning: IProgress not found. Please update jupyter and ipywidgets. See https://ipywidgets.readthedocs.io/en/stable/user_install.html\n",
      "  from .autonotebook import tqdm as notebook_tqdm\n"
     ]
    }
   ],
   "source": [
    "import sys\n",
    "sys.path.insert(1, '../')\n",
    "\n",
    "import numpy as np\n",
    "import pandas as pd\n",
    "from matplotlib import pyplot as plt\n",
    "from sklearn.metrics import mean_absolute_error\n",
    "import seaborn as sns\n",
    "from lightgbm import LGBMRegressor, plot_importance\n",
    "from sklearn.model_selection import TimeSeriesSplit\n",
    "from sklearn.metrics import mean_absolute_error, mean_absolute_percentage_error\n",
    "from tqdm import tqdm\n",
    "from skmisc.loess import loess\n",
    "from sklearn.datasets import fetch_california_housing\n",
    "from sklearn.linear_model import LinearRegression\n",
    "\n",
    "from agingml import continuous_retraining_test as crt"
   ]
  },
  {
   "cell_type": "code",
   "execution_count": 34,
   "id": "14d118ff",
   "metadata": {
    "scrolled": true
   },
   "outputs": [],
   "source": [
    "# Experiment set up\n",
    "dataset = 'avocados'\n",
    "min_n_train = 52\n",
    "n_test = 12\n",
    "n_prod = 24\n",
    "n_simulations = 3000\n",
    "n_retrainings = 3\n",
    "metric = mean_absolute_percentage_error\n",
    "freq = 'W'\n",
    "models = ['LGBMRegressor', 'ElasticNet', 'RandomForestRegressor', 'MLPRegressor']"
   ]
  },
  {
   "cell_type": "markdown",
   "id": "7b2575b0",
   "metadata": {},
   "source": [
    "### Plot Error"
   ]
  },
  {
   "cell_type": "code",
   "execution_count": 35,
   "id": "d0c5ac4a",
   "metadata": {},
   "outputs": [
    {
     "data": {
      "text/plain": [
       "2    68544\n",
       "1    61500\n",
       "0    53328\n",
       "Name: retraining_id, dtype: int64"
      ]
     },
     "execution_count": 35,
     "metadata": {},
     "output_type": "execute_result"
    }
   ],
   "source": [
    "d_errors_df.retraining_id.value_counts()"
   ]
  },
  {
   "cell_type": "code",
   "execution_count": 36,
   "id": "f88c6040",
   "metadata": {},
   "outputs": [],
   "source": [
    "for model in models:\n",
    "\n",
    "\n",
    "    errors_df = pd.read_parquet(f'../results/retraining/{dataset}/retraining_{dataset}_{model}_{n_simulations}_simulations_{n_prod}_prod.parquet')\n",
    "    d_errors_df = pd.read_parquet(f'../results/retraining/{dataset}/retraining_{dataset}_{model}_{n_simulations}_simulations_{n_prod}_prod_{freq}.parquet')\n",
    "\n",
    "    errors_df = errors_df[errors_df['model_age'] <= 80]\n",
    "    d_errors_df = d_errors_df[d_errors_df['model_age'] <= 80]\n",
    "    test_errors_df = errors_df[errors_df['partition'] == 'test']\n",
    "    test_mape = test_errors_df.groupby('simulation_id').apply(lambda group: mean_absolute_percentage_error(group.y, group.y_pred))\n",
    "    test_mape = pd.DataFrame(test_mape, columns=['test_mape']).reset_index()\n",
    "\n",
    "    d_errors_df = pd.merge(d_errors_df, test_mape, how='left', on='simulation_id')\n",
    "    d_errors_df = d_errors_df[d_errors_df['test_mape'] <= 0.1]\n",
    "    \n",
    "    df = d_errors_df[d_errors_df['partition'] == 'prod']\n",
    "    df = df.groupby(['partition', 'retraining_id', 'model_age'])['error'].agg(lambda x: x.quantile([0.5])).rename('error').reset_index() \n",
    "\n",
    "    fig, ax = plt.subplots(figsize=(8, 6))\n",
    "\n",
    "    sns.lineplot(data=df, x='model_age', y='error', hue='retraining_id', linewidth=2.0)\n",
    "    plt.legend(title=\"Retraining instances\",\n",
    "            labelcolor='linecolor',\n",
    "            labels=['no retraining update', 'first retraining update','second retraining update'],\n",
    "            loc=\"upper left\")\n",
    "\n",
    "\n",
    "    plt.xlabel('Model Age [weeks]')\n",
    "    plt.ylabel('MAPE')\n",
    "    plt.title(f'Median MAPE througth time: US Avocado Hass Dataset - {model}')\n",
    "\n",
    "    fig.savefig(f'../figures/continuous_retraining_{dataset}_{model}_{n_simulations}_simulations_{n_prod}_prod.svg', format='svg')\n"
   ]
  }
 ],
 "metadata": {
  "kernelspec": {
   "display_name": "Python 3 (ipykernel)",
   "language": "python",
   "name": "python3"
  },
  "language_info": {
   "codemirror_mode": {
    "name": "ipython",
    "version": 3
   },
   "file_extension": ".py",
   "mimetype": "text/x-python",
   "name": "python",
   "nbconvert_exporter": "python",
   "pygments_lexer": "ipython3",
   "version": "3.10.8"
  }
 },
 "nbformat": 4,
 "nbformat_minor": 5
}
