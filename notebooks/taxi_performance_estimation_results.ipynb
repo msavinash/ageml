{
 "cells": [
  {
   "cell_type": "code",
   "execution_count": 1,
   "id": "42e09bac",
   "metadata": {},
   "outputs": [
    {
     "name": "stderr",
     "output_type": "stream",
     "text": [
      "/Users/santiago/miniconda3/envs/thesis/lib/python3.10/site-packages/tqdm/auto.py:21: TqdmWarning: IProgress not found. Please update jupyter and ipywidgets. See https://ipywidgets.readthedocs.io/en/stable/user_install.html\n",
      "  from .autonotebook import tqdm as notebook_tqdm\n"
     ]
    }
   ],
   "source": [
    "import numpy as np\n",
    "import pandas as pd\n",
    "import nannyml as nml\n",
    "from sklearn.datasets import fetch_california_housing\n",
    "from sklearn.metrics import mean_absolute_percentage_error"
   ]
  },
  {
   "cell_type": "code",
   "execution_count": 49,
   "id": "93b4ddbe",
   "metadata": {},
   "outputs": [],
   "source": [
    "# Experiment set up\n",
    "dataset = 'taxi'\n",
    "n_train = 8800 # one year\n",
    "n_test = 2200\n",
    "n_prod = 4400\n",
    "n_simulations = 1500\n",
    "metric = mean_absolute_percentage_error\n",
    "freq = 'D'\n",
    "chunk_period='M'\n",
    "models = ['LGBMRegressor', 'ElasticNet', 'RandomForestRegressor']"
   ]
  },
  {
   "cell_type": "code",
   "execution_count": 50,
   "id": "3546632e",
   "metadata": {},
   "outputs": [],
   "source": [
    "errors_df = pd.read_parquet(f'../results/aging/{dataset}/aging_{dataset}_{models[1]}_{n_simulations}_simulations_{n_prod}_prod.parquet')\n",
    "d_errors_df = pd.read_parquet(f'../results/aging/{dataset}/aging_{dataset}_{models[1]}_{n_simulations}_simulations_{n_prod}_prod_{freq}.parquet')\n",
    "\n",
    "pe_comparison = pd.read_parquet(f'../results/performance_estimation/{dataset}/pe_comparison_{dataset}_{models[1]}_{n_simulations}_simulations_{n_prod}_prod_{n_prod}_chunk{chunk_period}_save.parquet')\n",
    "comparable_model_ids = pe_comparison['simulation_id'].drop_duplicates().values\n",
    "errors_df = errors_df[errors_df['simulation_id'].isin(comparable_model_ids)]\n",
    "d_errors_df = d_errors_df[d_errors_df['simulation_id'].isin(comparable_model_ids)]\n"
   ]
  },
  {
   "cell_type": "code",
   "execution_count": 51,
   "id": "a4c75aed",
   "metadata": {},
   "outputs": [],
   "source": [
    "# errors_df = errors_df[errors_df['model_age'] <= 80]\n",
    "# d_errors_df = d_errors_df[d_errors_df['model_age'] <= 80]\n",
    "\n",
    "test_errors_df = errors_df[errors_df['partition'] == 'test']\n",
    "test_mape = test_errors_df.groupby('simulation_id').apply(lambda group: mean_absolute_percentage_error(group.y, group.y_pred))\n",
    "test_mape = pd.DataFrame(test_mape, columns=['test_mape']).reset_index()\n",
    "\n",
    "d_errors_df = pd.merge(d_errors_df, test_mape, how='left', on='simulation_id')\n",
    "d_errors_df = d_errors_df[d_errors_df['test_mape'] <= 0.1]\n",
    "\n",
    "valid_models = d_errors_df['simulation_id'].drop_duplicates()\n",
    "\n",
    "d_errors_df['degradation'] = d_errors_df['error'] > 0.15\n",
    "\n",
    "degradations_per_model = d_errors_df.groupby(['simulation_id'])[['degradation']].sum().reset_index()\n",
    "num_degradated_models = len(degradations_per_model[degradations_per_model['degradation'] > 5])"
   ]
  },
  {
   "cell_type": "code",
   "execution_count": 52,
   "id": "3a7a8f97",
   "metadata": {},
   "outputs": [],
   "source": [
    "pe_comparison = pe_comparison[pe_comparison['simulation_id'].isin(valid_models.values)]"
   ]
  },
  {
   "cell_type": "code",
   "execution_count": 53,
   "id": "05a6dafd",
   "metadata": {},
   "outputs": [],
   "source": [
    "degradation_threshold = 0.15\n",
    "pe_comparison['upper_threshold'] = degradation_threshold\n",
    "pe_comparison['estimated_alert'] = np.where(pe_comparison['value'] > degradation_threshold, True, False)\n",
    "pe_comparison['realized_alert'] = np.where(pe_comparison['realized'] > degradation_threshold, True, False)\n",
    "\n",
    "pe_comparison = pe_comparison[['realized', 'value', 'upper_threshold', 'estimated_alert', 'realized_alert', 'simulation_id']]"
   ]
  },
  {
   "cell_type": "code",
   "execution_count": 54,
   "id": "7e28ea6e",
   "metadata": {},
   "outputs": [
    {
     "data": {
      "text/html": [
       "<div>\n",
       "<style scoped>\n",
       "    .dataframe tbody tr th:only-of-type {\n",
       "        vertical-align: middle;\n",
       "    }\n",
       "\n",
       "    .dataframe tbody tr th {\n",
       "        vertical-align: top;\n",
       "    }\n",
       "\n",
       "    .dataframe thead th {\n",
       "        text-align: right;\n",
       "    }\n",
       "</style>\n",
       "<table border=\"1\" class=\"dataframe\">\n",
       "  <thead>\n",
       "    <tr style=\"text-align: right;\">\n",
       "      <th></th>\n",
       "      <th>realized</th>\n",
       "      <th>value</th>\n",
       "      <th>upper_threshold</th>\n",
       "      <th>estimated_alert</th>\n",
       "      <th>realized_alert</th>\n",
       "      <th>simulation_id</th>\n",
       "    </tr>\n",
       "  </thead>\n",
       "  <tbody>\n",
       "    <tr>\n",
       "      <th>0</th>\n",
       "      <td>63.073522</td>\n",
       "      <td>66.852624</td>\n",
       "      <td>0.15</td>\n",
       "      <td>True</td>\n",
       "      <td>True</td>\n",
       "      <td>17</td>\n",
       "    </tr>\n",
       "    <tr>\n",
       "      <th>1</th>\n",
       "      <td>89.616447</td>\n",
       "      <td>76.461179</td>\n",
       "      <td>0.15</td>\n",
       "      <td>True</td>\n",
       "      <td>True</td>\n",
       "      <td>17</td>\n",
       "    </tr>\n",
       "    <tr>\n",
       "      <th>2</th>\n",
       "      <td>126.604712</td>\n",
       "      <td>170.806440</td>\n",
       "      <td>0.15</td>\n",
       "      <td>True</td>\n",
       "      <td>True</td>\n",
       "      <td>17</td>\n",
       "    </tr>\n",
       "    <tr>\n",
       "      <th>3</th>\n",
       "      <td>116.242359</td>\n",
       "      <td>155.648244</td>\n",
       "      <td>0.15</td>\n",
       "      <td>True</td>\n",
       "      <td>True</td>\n",
       "      <td>17</td>\n",
       "    </tr>\n",
       "    <tr>\n",
       "      <th>4</th>\n",
       "      <td>94.318520</td>\n",
       "      <td>239.908460</td>\n",
       "      <td>0.15</td>\n",
       "      <td>True</td>\n",
       "      <td>True</td>\n",
       "      <td>17</td>\n",
       "    </tr>\n",
       "  </tbody>\n",
       "</table>\n",
       "</div>"
      ],
      "text/plain": [
       "     realized       value  upper_threshold  estimated_alert  realized_alert  \\\n",
       "0   63.073522   66.852624             0.15             True            True   \n",
       "1   89.616447   76.461179             0.15             True            True   \n",
       "2  126.604712  170.806440             0.15             True            True   \n",
       "3  116.242359  155.648244             0.15             True            True   \n",
       "4   94.318520  239.908460             0.15             True            True   \n",
       "\n",
       "   simulation_id  \n",
       "0             17  \n",
       "1             17  \n",
       "2             17  \n",
       "3             17  \n",
       "4             17  "
      ]
     },
     "execution_count": 54,
     "metadata": {},
     "output_type": "execute_result"
    }
   ],
   "source": [
    "pe_comparison.head()"
   ]
  },
  {
   "cell_type": "code",
   "execution_count": 55,
   "id": "e435bf05",
   "metadata": {},
   "outputs": [
    {
     "data": {
      "text/plain": [
       "True     1168\n",
       "False      25\n",
       "Name: realized_alert, dtype: int64"
      ]
     },
     "execution_count": 55,
     "metadata": {},
     "output_type": "execute_result"
    }
   ],
   "source": [
    "pe_comparison['realized_alert'].value_counts()"
   ]
  },
  {
   "cell_type": "code",
   "execution_count": 56,
   "id": "16190649",
   "metadata": {},
   "outputs": [
    {
     "data": {
      "text/plain": [
       "True     1180\n",
       "False      13\n",
       "Name: estimated_alert, dtype: int64"
      ]
     },
     "execution_count": 56,
     "metadata": {},
     "output_type": "execute_result"
    }
   ],
   "source": [
    "pe_comparison['estimated_alert'].value_counts()"
   ]
  },
  {
   "cell_type": "code",
   "execution_count": 57,
   "id": "4248d073",
   "metadata": {},
   "outputs": [
    {
     "name": "stdout",
     "output_type": "stream",
     "text": [
      "170 out of 170 models (100.0 %) degradaded\n",
      "NannyML estimated at least a degradation in 170 out of the 170 (100.0 %) models that degradated\n",
      "There were 1168 degradations alerts\n",
      "NannyML estimated 1161 out of 1168 (99.4 %) of the degradation alerts correctly\n",
      "NannyML estimated 1167 / 1193  (97.8 %) of the time the behaivoir of the performance correctly\n"
     ]
    }
   ],
   "source": [
    "positive_alerts = pe_comparison[pe_comparison['realized_alert'] == True]\n",
    "negative_alerts = pe_comparison[pe_comparison['realized_alert'] == False]\n",
    "\n",
    "tp_alerts = sum(positive_alerts['estimated_alert'] == positive_alerts['realized_alert'])\n",
    "tn_alerts = sum(negative_alerts['estimated_alert'] == negative_alerts['realized_alert'])\n",
    "fp_alerts = sum(negative_alerts['estimated_alert'] == True)\n",
    "fn_alerts = sum(positive_alerts['estimated_alert'] == False)\n",
    "\n",
    "# degradations_per_model = pe_comparison.groupby(['simulation_id'])[['realized_alert']].sum().reset_index()\n",
    "# num_degradated_models = len(degradations_per_model[degradations_per_model['realized_alert'] > 5])\n",
    "\n",
    "# print(f\"{num_degradated_models} out of {len(degradations_per_model)} models ({np.round(100 * num_degradated_models / len(degradations_per_model), 1)} %) degradaded\")\n",
    "\n",
    "degradations_per_model = pe_comparison.groupby(['simulation_id'])[['realized_alert', 'estimated_alert']].sum().reset_index()\n",
    "\n",
    "degradations_per_model['is_true_positive'] = np.where((degradations_per_model['realized_alert'] > 0) & (degradations_per_model['estimated_alert'] > 0), True, False)\n",
    "tp_alerts_per_model = degradations_per_model[degradations_per_model['is_true_positive'] == True]\n",
    "\n",
    "print(f\"{num_degradated_models} out of {len(degradations_per_model)} models ({np.round(100 * num_degradated_models / len(degradations_per_model), 1)} %) degradaded\")\n",
    "print(f\"NannyML estimated at least a degradation in {len(tp_alerts_per_model)} out of the {num_degradated_models} ({np.round(100 * len(tp_alerts_per_model) / num_degradated_models, 1)} %) models that degradated\")\n",
    "print(f\"There were {len(positive_alerts)} degradations alerts\")\n",
    "print(f\"NannyML estimated {tp_alerts} out of {len(positive_alerts)} ({np.round(tp_alerts/len(positive_alerts) * 100, 1)} %) of the degradation alerts correctly\")\n",
    "print(f\"NannyML estimated {tp_alerts + tn_alerts} / {len(pe_comparison)}  ({np.round((tp_alerts + tn_alerts) / len(pe_comparison) * 100, 1)} %) of the time the behaivoir of the performance correctly\")"
   ]
  },
  {
   "cell_type": "code",
   "execution_count": 58,
   "id": "7d74cf8f",
   "metadata": {},
   "outputs": [
    {
     "data": {
      "text/plain": [
       "0.9889267461669506"
      ]
     },
     "execution_count": 58,
     "metadata": {},
     "output_type": "execute_result"
    }
   ],
   "source": [
    "2*tp_alerts / (2*tp_alerts + fp_alerts + fn_alerts)\n"
   ]
  },
  {
   "cell_type": "code",
   "execution_count": 59,
   "id": "0944f876",
   "metadata": {},
   "outputs": [
    {
     "data": {
      "text/plain": [
       "0.9782062028499581"
      ]
     },
     "execution_count": 59,
     "metadata": {},
     "output_type": "execute_result"
    }
   ],
   "source": [
    "(tp_alerts + tn_alerts) / (tp_alerts + tn_alerts + fp_alerts + fn_alerts)"
   ]
  },
  {
   "cell_type": "code",
   "execution_count": 60,
   "id": "c0056a83",
   "metadata": {},
   "outputs": [
    {
     "name": "stdout",
     "output_type": "stream",
     "text": [
      "0.9940068493150684\n"
     ]
    }
   ],
   "source": [
    "tpr = tp_alerts / (tp_alerts + fn_alerts)\n",
    "\n",
    "print(tpr)"
   ]
  },
  {
   "cell_type": "code",
   "execution_count": 61,
   "id": "806ed167",
   "metadata": {},
   "outputs": [
    {
     "name": "stdout",
     "output_type": "stream",
     "text": [
      "0.9940068493150684\n"
     ]
    }
   ],
   "source": [
    "tnr = tn_alerts / (tn_alerts + fp_alerts)\n",
    "print(tpr)"
   ]
  },
  {
   "cell_type": "code",
   "execution_count": 62,
   "id": "d57001c6",
   "metadata": {},
   "outputs": [
    {
     "data": {
      "text/plain": [
       "0.9838983050847457"
      ]
     },
     "execution_count": 62,
     "metadata": {},
     "output_type": "execute_result"
    }
   ],
   "source": [
    "tp_alerts / (tp_alerts + fp_alerts)"
   ]
  },
  {
   "cell_type": "code",
   "execution_count": null,
   "id": "f9f367f6",
   "metadata": {},
   "outputs": [],
   "source": []
  }
 ],
 "metadata": {
  "kernelspec": {
   "display_name": "Python 3 (ipykernel)",
   "language": "python",
   "name": "python3"
  },
  "language_info": {
   "codemirror_mode": {
    "name": "ipython",
    "version": 3
   },
   "file_extension": ".py",
   "mimetype": "text/x-python",
   "name": "python",
   "nbconvert_exporter": "python",
   "pygments_lexer": "ipython3",
   "version": "3.10.8"
  }
 },
 "nbformat": 4,
 "nbformat_minor": 5
}
