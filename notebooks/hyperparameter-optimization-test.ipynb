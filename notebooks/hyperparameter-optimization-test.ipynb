{
 "cells": [
  {
   "cell_type": "code",
   "execution_count": 2,
   "id": "7c7ffe52-bca1-4ff8-8390-1b3133d3ad86",
   "metadata": {},
   "outputs": [],
   "source": [
    "import pandas as pd\n",
    "import optuna\n",
    "import numpy as np\n",
    "\n",
    "import lightgbm as lgb\n",
    "import sklearn.datasets\n",
    "import sklearn.metrics\n",
    "from sklearn.model_selection import train_test_split"
   ]
  },
  {
   "cell_type": "code",
   "execution_count": 3,
   "id": "1da32e3a-160c-4e6f-8351-60318d19f754",
   "metadata": {},
   "outputs": [],
   "source": [
    "def objective(trial):\n",
    "    data, target = sklearn.datasets.load_breast_cancer(return_X_y=True)\n",
    "    train_x, valid_x, train_y, valid_y = train_test_split(data, target, test_size=0.25)\n",
    "    dtrain = lgb.Dataset(train_x, label=train_y)\n",
    "\n",
    "    param = {\n",
    "        \"objective\": \"binary\",\n",
    "        \"metric\": \"binary_logloss\",\n",
    "        \"verbosity\": -1,\n",
    "        \"boosting_type\": \"gbdt\",\n",
    "        \"lambda_l1\": trial.suggest_float(\"lambda_l1\", 1e-8, 10.0, log=True),\n",
    "        \"lambda_l2\": trial.suggest_float(\"lambda_l2\", 1e-8, 10.0, log=True),\n",
    "        \"num_leaves\": trial.suggest_int(\"num_leaves\", 2, 256),\n",
    "        \"feature_fraction\": trial.suggest_float(\"feature_fraction\", 0.4, 1.0),\n",
    "        \"bagging_fraction\": trial.suggest_float(\"bagging_fraction\", 0.4, 1.0),\n",
    "        \"bagging_freq\": trial.suggest_int(\"bagging_freq\", 1, 7),\n",
    "        \"min_child_samples\": trial.suggest_int(\"min_child_samples\", 5, 100),\n",
    "    }\n",
    "\n",
    "    gbm = lgb.train(param, dtrain)\n",
    "    preds = gbm.predict(valid_x)\n",
    "    pred_labels = np.rint(preds)\n",
    "    accuracy = sklearn.metrics.accuracy_score(valid_y, pred_labels)\n",
    "    return accuracy"
   ]
  },
  {
   "cell_type": "code",
   "execution_count": 4,
   "id": "c853ce46-b4a6-4f33-beac-e6087534efb2",
   "metadata": {
    "scrolled": true
   },
   "outputs": [
    {
     "name": "stderr",
     "output_type": "stream",
     "text": [
      "[I 2023-08-21 22:01:33,321] A new study created in memory with name: no-name-b41d14c5-ffee-491b-a45b-7a1cd2fd21f3\n",
      "[I 2023-08-21 22:01:33,425] Trial 0 finished with value: 0.9790209790209791 and parameters: {'lambda_l1': 2.6464320750275938e-08, 'lambda_l2': 0.0005824081857676701, 'num_leaves': 92, 'feature_fraction': 0.5367186994187242, 'bagging_fraction': 0.6081234548351642, 'bagging_freq': 1, 'min_child_samples': 70}. Best is trial 0 with value: 0.9790209790209791.\n",
      "[I 2023-08-21 22:01:33,471] Trial 1 finished with value: 0.958041958041958 and parameters: {'lambda_l1': 0.002565489236474182, 'lambda_l2': 4.766495647586323e-08, 'num_leaves': 15, 'feature_fraction': 0.8341942967390011, 'bagging_fraction': 0.5525144968798326, 'bagging_freq': 7, 'min_child_samples': 29}. Best is trial 0 with value: 0.9790209790209791.\n",
      "[I 2023-08-21 22:01:33,514] Trial 2 finished with value: 0.993006993006993 and parameters: {'lambda_l1': 0.028878520398294357, 'lambda_l2': 2.950025455760672, 'num_leaves': 171, 'feature_fraction': 0.4837885913891835, 'bagging_fraction': 0.5928728757802348, 'bagging_freq': 4, 'min_child_samples': 40}. Best is trial 2 with value: 0.993006993006993.\n",
      "[I 2023-08-21 22:01:33,599] Trial 3 finished with value: 0.9790209790209791 and parameters: {'lambda_l1': 1.0068436939095715e-06, 'lambda_l2': 1.2878849252703298e-05, 'num_leaves': 42, 'feature_fraction': 0.7648595666808348, 'bagging_fraction': 0.8863475047603391, 'bagging_freq': 6, 'min_child_samples': 16}. Best is trial 2 with value: 0.993006993006993.\n",
      "[I 2023-08-21 22:01:33,667] Trial 4 finished with value: 0.9790209790209791 and parameters: {'lambda_l1': 9.581874890948772e-06, 'lambda_l2': 1.5044587076861427e-05, 'num_leaves': 30, 'feature_fraction': 0.6425791507197077, 'bagging_fraction': 0.5284535307451014, 'bagging_freq': 7, 'min_child_samples': 11}. Best is trial 2 with value: 0.993006993006993.\n",
      "[I 2023-08-21 22:01:33,709] Trial 5 finished with value: 0.965034965034965 and parameters: {'lambda_l1': 3.5419883015339754e-06, 'lambda_l2': 3.459735030083508, 'num_leaves': 113, 'feature_fraction': 0.5822516192819716, 'bagging_fraction': 0.8403119151153756, 'bagging_freq': 7, 'min_child_samples': 72}. Best is trial 2 with value: 0.993006993006993.\n",
      "[I 2023-08-21 22:01:33,750] Trial 6 finished with value: 0.9790209790209791 and parameters: {'lambda_l1': 1.1882019197883107, 'lambda_l2': 0.0012794857919863768, 'num_leaves': 152, 'feature_fraction': 0.8372242692537025, 'bagging_fraction': 0.6450655084146598, 'bagging_freq': 6, 'min_child_samples': 68}. Best is trial 2 with value: 0.993006993006993.\n",
      "[I 2023-08-21 22:01:33,804] Trial 7 finished with value: 0.965034965034965 and parameters: {'lambda_l1': 2.168963107488829e-07, 'lambda_l2': 5.258156796782361e-08, 'num_leaves': 38, 'feature_fraction': 0.8975593153739493, 'bagging_fraction': 0.6084281112851704, 'bagging_freq': 6, 'min_child_samples': 30}. Best is trial 2 with value: 0.993006993006993.\n",
      "[I 2023-08-21 22:01:33,837] Trial 8 finished with value: 0.951048951048951 and parameters: {'lambda_l1': 7.763505417747172, 'lambda_l2': 2.4466382934078574e-05, 'num_leaves': 2, 'feature_fraction': 0.4055234975172884, 'bagging_fraction': 0.824374713353071, 'bagging_freq': 6, 'min_child_samples': 45}. Best is trial 2 with value: 0.993006993006993.\n",
      "[I 2023-08-21 22:01:33,904] Trial 9 finished with value: 0.958041958041958 and parameters: {'lambda_l1': 0.0017433468243286938, 'lambda_l2': 0.0001517904036337324, 'num_leaves': 241, 'feature_fraction': 0.9787412098306906, 'bagging_fraction': 0.7860929457886341, 'bagging_freq': 2, 'min_child_samples': 14}. Best is trial 2 with value: 0.993006993006993.\n",
      "[I 2023-08-21 22:01:33,989] Trial 10 finished with value: 0.9230769230769231 and parameters: {'lambda_l1': 0.060509148846609385, 'lambda_l2': 8.730656878455024, 'num_leaves': 198, 'feature_fraction': 0.40080070383998406, 'bagging_fraction': 0.40420611897414477, 'bagging_freq': 4, 'min_child_samples': 95}. Best is trial 2 with value: 0.993006993006993.\n",
      "[I 2023-08-21 22:01:34,087] Trial 11 finished with value: 0.986013986013986 and parameters: {'lambda_l1': 4.1875005814530494e-08, 'lambda_l2': 0.08484526007553472, 'num_leaves': 106, 'feature_fraction': 0.5392714984380753, 'bagging_fraction': 0.9986954802729309, 'bagging_freq': 1, 'min_child_samples': 56}. Best is trial 2 with value: 0.993006993006993.\n",
      "[I 2023-08-21 22:01:34,192] Trial 12 finished with value: 0.951048951048951 and parameters: {'lambda_l1': 5.603831013116779e-05, 'lambda_l2': 0.366090857206257, 'num_leaves': 172, 'feature_fraction': 0.5185874138795677, 'bagging_fraction': 0.9863474416540711, 'bagging_freq': 3, 'min_child_samples': 51}. Best is trial 2 with value: 0.993006993006993.\n",
      "[I 2023-08-21 22:01:34,297] Trial 13 finished with value: 0.9790209790209791 and parameters: {'lambda_l1': 2.3935546382208226e-08, 'lambda_l2': 0.07525393226718834, 'num_leaves': 86, 'feature_fraction': 0.6735491274306512, 'bagging_fraction': 0.7493589208504468, 'bagging_freq': 1, 'min_child_samples': 36}. Best is trial 2 with value: 0.993006993006993.\n",
      "[I 2023-08-21 22:01:34,388] Trial 14 finished with value: 0.965034965034965 and parameters: {'lambda_l1': 0.00013762102311045177, 'lambda_l2': 0.03980693604579385, 'num_leaves': 220, 'feature_fraction': 0.4963276234359466, 'bagging_fraction': 0.7135596458804438, 'bagging_freq': 4, 'min_child_samples': 59}. Best is trial 2 with value: 0.993006993006993.\n",
      "[I 2023-08-21 22:01:34,484] Trial 15 finished with value: 0.965034965034965 and parameters: {'lambda_l1': 0.018356957581202715, 'lambda_l2': 0.732704664800028, 'num_leaves': 137, 'feature_fraction': 0.5947946369304777, 'bagging_fraction': 0.9739512846185939, 'bagging_freq': 3, 'min_child_samples': 96}. Best is trial 2 with value: 0.993006993006993.\n",
      "[I 2023-08-21 22:01:34,595] Trial 16 finished with value: 0.972027972027972 and parameters: {'lambda_l1': 2.3949893981010934e-05, 'lambda_l2': 0.022286431298458614, 'num_leaves': 167, 'feature_fraction': 0.4701365195423072, 'bagging_fraction': 0.9025033382598072, 'bagging_freq': 2, 'min_child_samples': 42}. Best is trial 2 with value: 0.993006993006993.\n",
      "[I 2023-08-21 22:01:34,679] Trial 17 finished with value: 0.965034965034965 and parameters: {'lambda_l1': 0.00020894323894734797, 'lambda_l2': 0.9619136481281574, 'num_leaves': 73, 'feature_fraction': 0.6138863258363347, 'bagging_fraction': 0.7244664072413545, 'bagging_freq': 5, 'min_child_samples': 84}. Best is trial 2 with value: 0.993006993006993.\n",
      "[I 2023-08-21 22:01:34,769] Trial 18 finished with value: 0.965034965034965 and parameters: {'lambda_l1': 3.981436704349555e-07, 'lambda_l2': 0.011497736242525418, 'num_leaves': 113, 'feature_fraction': 0.685581115756008, 'bagging_fraction': 0.688622852001827, 'bagging_freq': 3, 'min_child_samples': 61}. Best is trial 2 with value: 0.993006993006993.\n",
      "[I 2023-08-21 22:01:34,871] Trial 19 finished with value: 0.9790209790209791 and parameters: {'lambda_l1': 4.998792298982771e-06, 'lambda_l2': 0.2799185930337955, 'num_leaves': 195, 'feature_fraction': 0.5536804304658709, 'bagging_fraction': 0.7816069632565956, 'bagging_freq': 2, 'min_child_samples': 25}. Best is trial 2 with value: 0.993006993006993.\n",
      "[I 2023-08-21 22:01:34,976] Trial 20 finished with value: 0.972027972027972 and parameters: {'lambda_l1': 1.0677170087670664e-08, 'lambda_l2': 9.546199046036994, 'num_leaves': 254, 'feature_fraction': 0.45413796868051054, 'bagging_fraction': 0.9305291524444836, 'bagging_freq': 5, 'min_child_samples': 50}. Best is trial 2 with value: 0.993006993006993.\n",
      "[I 2023-08-21 22:01:35,072] Trial 21 finished with value: 0.9790209790209791 and parameters: {'lambda_l1': 6.670029664484287e-08, 'lambda_l2': 0.0035120856974671234, 'num_leaves': 78, 'feature_fraction': 0.5601775492914449, 'bagging_fraction': 0.6639898993290835, 'bagging_freq': 1, 'min_child_samples': 78}. Best is trial 2 with value: 0.993006993006993.\n",
      "[I 2023-08-21 22:01:35,166] Trial 22 finished with value: 0.958041958041958 and parameters: {'lambda_l1': 1.5990847598788718e-07, 'lambda_l2': 0.09567523177530082, 'num_leaves': 117, 'feature_fraction': 0.5279117799139748, 'bagging_fraction': 0.6115374884924119, 'bagging_freq': 1, 'min_child_samples': 60}. Best is trial 2 with value: 0.993006993006993.\n",
      "[I 2023-08-21 22:01:35,615] Trial 23 finished with value: 0.965034965034965 and parameters: {'lambda_l1': 1.1366209958834372e-08, 'lambda_l2': 1.7085478691633504, 'num_leaves': 87, 'feature_fraction': 0.46919245370369006, 'bagging_fraction': 0.9939210164494978, 'bagging_freq': 2, 'min_child_samples': 84}. Best is trial 2 with value: 0.993006993006993.\n",
      "[I 2023-08-21 22:01:35,753] Trial 24 finished with value: 0.9300699300699301 and parameters: {'lambda_l1': 1.2626159462628166e-06, 'lambda_l2': 0.005731563297485097, 'num_leaves': 57, 'feature_fraction': 0.6256197187020065, 'bagging_fraction': 0.853451840036461, 'bagging_freq': 1, 'min_child_samples': 68}. Best is trial 2 with value: 0.993006993006993.\n",
      "[I 2023-08-21 22:01:35,844] Trial 25 finished with value: 0.9790209790209791 and parameters: {'lambda_l1': 8.287300405434598e-08, 'lambda_l2': 0.12988405952490897, 'num_leaves': 136, 'feature_fraction': 0.535519185305643, 'bagging_fraction': 0.5539323260959449, 'bagging_freq': 4, 'min_child_samples': 39}. Best is trial 2 with value: 0.993006993006993.\n",
      "[I 2023-08-21 22:01:35,951] Trial 26 finished with value: 0.9790209790209791 and parameters: {'lambda_l1': 6.150116512630358e-07, 'lambda_l2': 1.1571447204705003, 'num_leaves': 103, 'feature_fraction': 0.573084217231514, 'bagging_fraction': 0.9285129478679099, 'bagging_freq': 2, 'min_child_samples': 51}. Best is trial 2 with value: 0.993006993006993.\n",
      "[I 2023-08-21 22:01:36,054] Trial 27 finished with value: 0.958041958041958 and parameters: {'lambda_l1': 6.072330143029057e-08, 'lambda_l2': 0.023826743661937832, 'num_leaves': 150, 'feature_fraction': 0.4924788305573722, 'bagging_fraction': 0.7939395746987129, 'bagging_freq': 1, 'min_child_samples': 60}. Best is trial 2 with value: 0.993006993006993.\n",
      "[I 2023-08-21 22:01:36,152] Trial 28 finished with value: 0.9790209790209791 and parameters: {'lambda_l1': 2.885182782101694e-05, 'lambda_l2': 0.28276665305697457, 'num_leaves': 177, 'feature_fraction': 0.4425676639337969, 'bagging_fraction': 0.7423712788747664, 'bagging_freq': 3, 'min_child_samples': 77}. Best is trial 2 with value: 0.993006993006993.\n",
      "[I 2023-08-21 22:01:36,264] Trial 29 finished with value: 0.9440559440559441 and parameters: {'lambda_l1': 0.001327662766472978, 'lambda_l2': 0.0009480561035340563, 'num_leaves': 97, 'feature_fraction': 0.5198666036781966, 'bagging_fraction': 0.6882441866374546, 'bagging_freq': 5, 'min_child_samples': 25}. Best is trial 2 with value: 0.993006993006993.\n",
      "[I 2023-08-21 22:01:36,368] Trial 30 finished with value: 0.965034965034965 and parameters: {'lambda_l1': 2.479275734877725e-06, 'lambda_l2': 3.441612701997317, 'num_leaves': 129, 'feature_fraction': 0.6292629794418058, 'bagging_fraction': 0.5596932792530851, 'bagging_freq': 2, 'min_child_samples': 33}. Best is trial 2 with value: 0.993006993006993.\n",
      "[I 2023-08-21 22:01:36,502] Trial 31 finished with value: 0.9790209790209791 and parameters: {'lambda_l1': 7.043604526115914e-07, 'lambda_l2': 8.785221577240942e-05, 'num_leaves': 55, 'feature_fraction': 0.7523031103397846, 'bagging_fraction': 0.8866613127490742, 'bagging_freq': 5, 'min_child_samples': 5}. Best is trial 2 with value: 0.993006993006993.\n",
      "[I 2023-08-21 22:01:36,652] Trial 32 finished with value: 0.972027972027972 and parameters: {'lambda_l1': 4.528715009590297e-08, 'lambda_l2': 5.9356158028868815e-06, 'num_leaves': 39, 'feature_fraction': 0.7322574443818074, 'bagging_fraction': 0.9530902451852079, 'bagging_freq': 7, 'min_child_samples': 17}. Best is trial 2 with value: 0.993006993006993.\n",
      "[I 2023-08-21 22:01:36,781] Trial 33 finished with value: 0.9790209790209791 and parameters: {'lambda_l1': 1.3700426573178723e-06, 'lambda_l2': 0.0004016221445034936, 'num_leaves': 62, 'feature_fraction': 0.6521695117530828, 'bagging_fraction': 0.8772975812211733, 'bagging_freq': 7, 'min_child_samples': 21}. Best is trial 2 with value: 0.993006993006993.\n",
      "[I 2023-08-21 22:01:36,909] Trial 34 finished with value: 0.965034965034965 and parameters: {'lambda_l1': 2.822131627036636e-07, 'lambda_l2': 0.005707947322316418, 'num_leaves': 26, 'feature_fraction': 0.598863899771376, 'bagging_fraction': 0.957503833976211, 'bagging_freq': 6, 'min_child_samples': 7}. Best is trial 2 with value: 0.993006993006993.\n",
      "[I 2023-08-21 22:01:37,067] Trial 35 finished with value: 0.958041958041958 and parameters: {'lambda_l1': 2.9538478090780825e-08, 'lambda_l2': 2.8638828241953594e-06, 'num_leaves': 17, 'feature_fraction': 0.7153973670599514, 'bagging_fraction': 0.9988330929453048, 'bagging_freq': 4, 'min_child_samples': 46}. Best is trial 2 with value: 0.993006993006993.\n",
      "[I 2023-08-21 22:01:37,181] Trial 36 finished with value: 0.9790209790209791 and parameters: {'lambda_l1': 1.3629053426114848e-07, 'lambda_l2': 0.0018184799588072177, 'num_leaves': 157, 'feature_fraction': 0.766468101727082, 'bagging_fraction': 0.9271137314379589, 'bagging_freq': 6, 'min_child_samples': 65}. Best is trial 2 with value: 0.993006993006993.\n",
      "[I 2023-08-21 22:01:37,287] Trial 37 finished with value: 0.965034965034965 and parameters: {'lambda_l1': 1.2763533893735277e-05, 'lambda_l2': 1.0712765948039105e-06, 'num_leaves': 43, 'feature_fraction': 0.5695596025262588, 'bagging_fraction': 0.8440677667685065, 'bagging_freq': 1, 'min_child_samples': 54}. Best is trial 2 with value: 0.993006993006993.\n",
      "[I 2023-08-21 22:01:37,384] Trial 38 finished with value: 0.9300699300699301 and parameters: {'lambda_l1': 3.9971182770969145e-06, 'lambda_l2': 0.0004676219460281326, 'num_leaves': 118, 'feature_fraction': 0.6627972753710334, 'bagging_fraction': 0.6353927081266313, 'bagging_freq': 6, 'min_child_samples': 76}. Best is trial 2 with value: 0.993006993006993.\n",
      "[I 2023-08-21 22:01:37,492] Trial 39 finished with value: 0.972027972027972 and parameters: {'lambda_l1': 2.496737926072684e-07, 'lambda_l2': 5.43644622413947e-05, 'num_leaves': 189, 'feature_fraction': 0.790129630943355, 'bagging_fraction': 0.588610029177021, 'bagging_freq': 3, 'min_child_samples': 29}. Best is trial 2 with value: 0.993006993006993.\n",
      "[I 2023-08-21 22:01:37,585] Trial 40 finished with value: 0.986013986013986 and parameters: {'lambda_l1': 1.628766919430851e-08, 'lambda_l2': 1.40892247857938e-05, 'num_leaves': 217, 'feature_fraction': 0.6996804108901616, 'bagging_fraction': 0.49495430408207886, 'bagging_freq': 7, 'min_child_samples': 68}. Best is trial 2 with value: 0.993006993006993.\n",
      "[I 2023-08-21 22:01:37,681] Trial 41 finished with value: 0.993006993006993 and parameters: {'lambda_l1': 2.8279308473439017e-08, 'lambda_l2': 2.839711935599909e-05, 'num_leaves': 212, 'feature_fraction': 0.6954060696095832, 'bagging_fraction': 0.49142131333726535, 'bagging_freq': 7, 'min_child_samples': 68}. Best is trial 2 with value: 0.993006993006993.\n",
      "[I 2023-08-21 22:01:37,778] Trial 42 finished with value: 0.972027972027972 and parameters: {'lambda_l1': 2.0763121502040227e-08, 'lambda_l2': 2.0583503694772553e-05, 'num_leaves': 219, 'feature_fraction': 0.6946029874243892, 'bagging_fraction': 0.5193578081795803, 'bagging_freq': 7, 'min_child_samples': 71}. Best is trial 2 with value: 0.993006993006993.\n",
      "[I 2023-08-21 22:01:37,873] Trial 43 finished with value: 0.958041958041958 and parameters: {'lambda_l1': 1.11058213983258e-08, 'lambda_l2': 0.00024265060683226525, 'num_leaves': 215, 'feature_fraction': 0.6429669498108564, 'bagging_fraction': 0.48454311780534587, 'bagging_freq': 7, 'min_child_samples': 84}. Best is trial 2 with value: 0.993006993006993.\n",
      "[I 2023-08-21 22:01:37,971] Trial 44 finished with value: 0.916083916083916 and parameters: {'lambda_l1': 3.5688375611664824e-08, 'lambda_l2': 6.556800376419948e-05, 'num_leaves': 237, 'feature_fraction': 0.5907263238783715, 'bagging_fraction': 0.4884033057561575, 'bagging_freq': 7, 'min_child_samples': 55}. Best is trial 2 with value: 0.993006993006993.\n",
      "[I 2023-08-21 22:01:38,071] Trial 45 finished with value: 0.951048951048951 and parameters: {'lambda_l1': 1.0033557043803576e-07, 'lambda_l2': 0.00015248102831638813, 'num_leaves': 206, 'feature_fraction': 0.42332235273534596, 'bagging_fraction': 0.5791607980382567, 'bagging_freq': 6, 'min_child_samples': 64}. Best is trial 2 with value: 0.993006993006993.\n",
      "[I 2023-08-21 22:01:38,169] Trial 46 finished with value: 0.965034965034965 and parameters: {'lambda_l1': 2.7468026607123028e-08, 'lambda_l2': 3.4792618661623905e-05, 'num_leaves': 243, 'feature_fraction': 0.506981754595466, 'bagging_fraction': 0.5259361780592858, 'bagging_freq': 7, 'min_child_samples': 72}. Best is trial 2 with value: 0.993006993006993.\n",
      "[I 2023-08-21 22:01:38,260] Trial 47 finished with value: 0.958041958041958 and parameters: {'lambda_l1': 1.8418865498481318e-07, 'lambda_l2': 7.98943172329663e-06, 'num_leaves': 227, 'feature_fraction': 0.541558966310636, 'bagging_fraction': 0.43527140126355024, 'bagging_freq': 1, 'min_child_samples': 89}. Best is trial 2 with value: 0.993006993006993.\n",
      "[I 2023-08-21 22:01:38,362] Trial 48 finished with value: 0.951048951048951 and parameters: {'lambda_l1': 5.382924113316618e-07, 'lambda_l2': 3.8210450940154157, 'num_leaves': 178, 'feature_fraction': 0.6697139410338833, 'bagging_fraction': 0.6288137137337412, 'bagging_freq': 2, 'min_child_samples': 45}. Best is trial 2 with value: 0.993006993006993.\n",
      "[I 2023-08-21 22:01:38,460] Trial 49 finished with value: 0.951048951048951 and parameters: {'lambda_l1': 6.867533857080229e-08, 'lambda_l2': 0.03943492283479427, 'num_leaves': 206, 'feature_fraction': 0.4923368553923454, 'bagging_fraction': 0.6637945901943508, 'bagging_freq': 4, 'min_child_samples': 68}. Best is trial 2 with value: 0.993006993006993.\n",
      "[I 2023-08-21 22:01:38,558] Trial 50 finished with value: 0.958041958041958 and parameters: {'lambda_l1': 0.0803617980330219, 'lambda_l2': 0.001151624012655403, 'num_leaves': 189, 'feature_fraction': 0.6078831139007508, 'bagging_fraction': 0.5934433317684253, 'bagging_freq': 5, 'min_child_samples': 56}. Best is trial 2 with value: 0.993006993006993.\n",
      "[I 2023-08-21 22:01:38,652] Trial 51 finished with value: 0.951048951048951 and parameters: {'lambda_l1': 2.1323848264905634e-08, 'lambda_l2': 1.545216336407745e-05, 'num_leaves': 4, 'feature_fraction': 0.82571824657689, 'bagging_fraction': 0.5403399509045099, 'bagging_freq': 7, 'min_child_samples': 64}. Best is trial 2 with value: 0.993006993006993.\n",
      "[I 2023-08-21 22:01:38,746] Trial 52 finished with value: 0.9440559440559441 and parameters: {'lambda_l1': 1.4235178482276343e-07, 'lambda_l2': 1.6223609033809718e-06, 'num_leaves': 154, 'feature_fraction': 0.7140118988508236, 'bagging_fraction': 0.500468101345589, 'bagging_freq': 6, 'min_child_samples': 74}. Best is trial 2 with value: 0.993006993006993.\n",
      "[I 2023-08-21 22:01:38,840] Trial 53 finished with value: 0.965034965034965 and parameters: {'lambda_l1': 5.1613450751724434e-08, 'lambda_l2': 3.349100957695419e-05, 'num_leaves': 96, 'feature_fraction': 0.6803084346278774, 'bagging_fraction': 0.45888614278090767, 'bagging_freq': 7, 'min_child_samples': 80}. Best is trial 2 with value: 0.993006993006993.\n",
      "[I 2023-08-21 22:01:38,939] Trial 54 finished with value: 0.965034965034965 and parameters: {'lambda_l1': 1.1109467654848769e-08, 'lambda_l2': 0.0001544553834752159, 'num_leaves': 230, 'feature_fraction': 0.5525046623342634, 'bagging_fraction': 0.5678652079732808, 'bagging_freq': 6, 'min_child_samples': 70}. Best is trial 2 with value: 0.993006993006993.\n",
      "[I 2023-08-21 22:01:39,048] Trial 55 finished with value: 0.951048951048951 and parameters: {'lambda_l1': 3.634998230223455e-07, 'lambda_l2': 0.49364278446997834, 'num_leaves': 71, 'feature_fraction': 0.5841585610741921, 'bagging_fraction': 0.6079553425575602, 'bagging_freq': 7, 'min_child_samples': 10}. Best is trial 2 with value: 0.993006993006993.\n",
      "[I 2023-08-21 22:01:39,145] Trial 56 finished with value: 0.958041958041958 and parameters: {'lambda_l1': 1.3913753875952767e-07, 'lambda_l2': 0.17726802085854176, 'num_leaves': 126, 'feature_fraction': 0.6276436700509601, 'bagging_fraction': 0.5437479842564867, 'bagging_freq': 2, 'min_child_samples': 66}. Best is trial 2 with value: 0.993006993006993.\n",
      "[I 2023-08-21 22:01:39,260] Trial 57 finished with value: 0.951048951048951 and parameters: {'lambda_l1': 1.8296273648146208e-08, 'lambda_l2': 0.05150876434258114, 'num_leaves': 165, 'feature_fraction': 0.4732492089122555, 'bagging_fraction': 0.9753699644184254, 'bagging_freq': 5, 'min_child_samples': 47}. Best is trial 2 with value: 0.993006993006993.\n",
      "[I 2023-08-21 22:01:39,370] Trial 58 finished with value: 0.972027972027972 and parameters: {'lambda_l1': 5.0149879710201233e-08, 'lambda_l2': 0.014558765074188022, 'num_leaves': 252, 'feature_fraction': 0.7020377024965425, 'bagging_fraction': 0.41157475594822446, 'bagging_freq': 1, 'min_child_samples': 41}. Best is trial 2 with value: 0.993006993006993.\n",
      "[I 2023-08-21 22:01:39,469] Trial 59 finished with value: 0.916083916083916 and parameters: {'lambda_l1': 9.826551496716605e-07, 'lambda_l2': 3.35053172602329e-07, 'num_leaves': 143, 'feature_fraction': 0.5095746895908775, 'bagging_fraction': 0.5154969096305198, 'bagging_freq': 6, 'min_child_samples': 57}. Best is trial 2 with value: 0.993006993006993.\n",
      "[I 2023-08-21 22:01:39,583] Trial 60 finished with value: 0.9790209790209791 and parameters: {'lambda_l1': 2.924851289018547e-07, 'lambda_l2': 1.2100413610150128e-05, 'num_leaves': 109, 'feature_fraction': 0.5374413845834848, 'bagging_fraction': 0.8150022410678699, 'bagging_freq': 3, 'min_child_samples': 36}. Best is trial 2 with value: 0.993006993006993.\n",
      "[I 2023-08-21 22:01:39,704] Trial 61 finished with value: 0.972027972027972 and parameters: {'lambda_l1': 2.6591242428682763e-06, 'lambda_l2': 2.6033783825835156e-05, 'num_leaves': 27, 'feature_fraction': 0.6464046363332624, 'bagging_fraction': 0.5652898002606828, 'bagging_freq': 7, 'min_child_samples': 16}. Best is trial 2 with value: 0.993006993006993.\n",
      "[I 2023-08-21 22:01:39,828] Trial 62 finished with value: 0.958041958041958 and parameters: {'lambda_l1': 8.793445640449517e-06, 'lambda_l2': 8.44340931842102e-06, 'num_leaves': 48, 'feature_fraction': 0.5682877773336651, 'bagging_fraction': 0.5438169598227572, 'bagging_freq': 7, 'min_child_samples': 12}. Best is trial 2 with value: 0.993006993006993.\n",
      "[I 2023-08-21 22:01:39,924] Trial 63 finished with value: 0.958041958041958 and parameters: {'lambda_l1': 8.421554915734756e-05, 'lambda_l2': 9.815394156646405e-05, 'num_leaves': 83, 'feature_fraction': 0.6877472976355924, 'bagging_fraction': 0.4698259747871078, 'bagging_freq': 7, 'min_child_samples': 100}. Best is trial 2 with value: 0.993006993006993.\n",
      "[I 2023-08-21 22:01:40,041] Trial 64 finished with value: 0.986013986013986 and parameters: {'lambda_l1': 1.474123068593449e-06, 'lambda_l2': 5.74721088126118e-06, 'num_leaves': 25, 'feature_fraction': 0.6114847825535465, 'bagging_fraction': 0.5126388191452713, 'bagging_freq': 6, 'min_child_samples': 21}. Best is trial 2 with value: 0.993006993006993.\n",
      "[I 2023-08-21 22:01:40,157] Trial 65 finished with value: 0.965034965034965 and parameters: {'lambda_l1': 1.5859173704130914e-06, 'lambda_l2': 4.8373109988753374e-05, 'num_leaves': 10, 'feature_fraction': 0.6073858260803302, 'bagging_fraction': 0.5278479248185115, 'bagging_freq': 6, 'min_child_samples': 21}. Best is trial 2 with value: 0.993006993006993.\n",
      "[I 2023-08-21 22:01:40,268] Trial 66 finished with value: 0.951048951048951 and parameters: {'lambda_l1': 5.408610686610782e-07, 'lambda_l2': 4.55989871724089e-06, 'num_leaves': 92, 'feature_fraction': 0.5562251441723423, 'bagging_fraction': 0.5115146652552972, 'bagging_freq': 5, 'min_child_samples': 28}. Best is trial 2 with value: 0.993006993006993.\n",
      "[I 2023-08-21 22:01:40,377] Trial 67 finished with value: 0.9790209790209791 and parameters: {'lambda_l1': 6.845964824743188e-08, 'lambda_l2': 1.6322367212598864e-05, 'num_leaves': 68, 'feature_fraction': 0.5202333967701522, 'bagging_fraction': 0.8660672220458878, 'bagging_freq': 4, 'min_child_samples': 62}. Best is trial 2 with value: 0.993006993006993.\n",
      "[I 2023-08-21 22:01:40,491] Trial 68 finished with value: 0.986013986013986 and parameters: {'lambda_l1': 9.794643592249336e-08, 'lambda_l2': 0.5752868999563019, 'num_leaves': 19, 'feature_fraction': 0.662429272953538, 'bagging_fraction': 0.8950656824345905, 'bagging_freq': 6, 'min_child_samples': 20}. Best is trial 2 with value: 0.993006993006993.\n",
      "[I 2023-08-21 22:01:40,590] Trial 69 finished with value: 0.993006993006993 and parameters: {'lambda_l1': 9.828254884440993e-08, 'lambda_l2': 0.5797799706622595, 'num_leaves': 33, 'feature_fraction': 0.6618202346263536, 'bagging_fraction': 0.4611240968924743, 'bagging_freq': 6, 'min_child_samples': 81}. Best is trial 2 with value: 0.993006993006993.\n",
      "[I 2023-08-21 22:01:40,686] Trial 70 finished with value: 0.965034965034965 and parameters: {'lambda_l1': 8.719244191303194e-08, 'lambda_l2': 0.5786862134832647, 'num_leaves': 20, 'feature_fraction': 0.6260820964750953, 'bagging_fraction': 0.45223891247674086, 'bagging_freq': 6, 'min_child_samples': 90}. Best is trial 2 with value: 0.993006993006993.\n",
      "[I 2023-08-21 22:01:40,794] Trial 71 finished with value: 0.972027972027972 and parameters: {'lambda_l1': 2.8933830813104452e-08, 'lambda_l2': 1.5900639114644803, 'num_leaves': 33, 'feature_fraction': 0.6673634594772022, 'bagging_fraction': 0.49622699364917844, 'bagging_freq': 5, 'min_child_samples': 20}. Best is trial 2 with value: 0.993006993006993.\n",
      "[I 2023-08-21 22:01:40,893] Trial 72 finished with value: 0.951048951048951 and parameters: {'lambda_l1': 2.0054927651110306e-08, 'lambda_l2': 0.16713987658098287, 'num_leaves': 35, 'feature_fraction': 0.6563570378429473, 'bagging_fraction': 0.4774342689495142, 'bagging_freq': 6, 'min_child_samples': 81}. Best is trial 2 with value: 0.993006993006993.\n",
      "[I 2023-08-21 22:01:40,991] Trial 73 finished with value: 0.965034965034965 and parameters: {'lambda_l1': 3.8642159718563696e-08, 'lambda_l2': 1.116109610223937, 'num_leaves': 10, 'feature_fraction': 0.6426731571791467, 'bagging_fraction': 0.5098999410614271, 'bagging_freq': 6, 'min_child_samples': 74}. Best is trial 2 with value: 0.993006993006993.\n",
      "[I 2023-08-21 22:01:41,113] Trial 74 finished with value: 0.958041958041958 and parameters: {'lambda_l1': 2.1601601442197116e-07, 'lambda_l2': 0.392120899039503, 'num_leaves': 24, 'feature_fraction': 0.5896957541333108, 'bagging_fraction': 0.9162760720702803, 'bagging_freq': 1, 'min_child_samples': 52}. Best is trial 2 with value: 0.993006993006993.\n",
      "[I 2023-08-21 22:01:41,221] Trial 75 finished with value: 0.986013986013986 and parameters: {'lambda_l1': 1.0671326661748952e-07, 'lambda_l2': 0.08831661378497029, 'num_leaves': 47, 'feature_fraction': 0.6798793685584473, 'bagging_fraction': 0.4904406011747001, 'bagging_freq': 5, 'min_child_samples': 24}. Best is trial 2 with value: 0.993006993006993.\n",
      "[I 2023-08-21 22:01:41,328] Trial 76 finished with value: 0.9300699300699301 and parameters: {'lambda_l1': 1.0187433887452617e-07, 'lambda_l2': 0.24763605903089886, 'num_leaves': 47, 'feature_fraction': 0.6685216301684171, 'bagging_fraction': 0.46839621502374706, 'bagging_freq': 5, 'min_child_samples': 25}. Best is trial 2 with value: 0.993006993006993.\n",
      "[I 2023-08-21 22:01:41,436] Trial 77 finished with value: 0.958041958041958 and parameters: {'lambda_l1': 2.2365430934900683e-07, 'lambda_l2': 0.09204238033405511, 'num_leaves': 53, 'feature_fraction': 0.6838794965769153, 'bagging_fraction': 0.4474049146673417, 'bagging_freq': 6, 'min_child_samples': 33}. Best is trial 2 with value: 0.993006993006993.\n",
      "[I 2023-08-21 22:01:41,547] Trial 78 finished with value: 0.965034965034965 and parameters: {'lambda_l1': 4.936223283029842e-08, 'lambda_l2': 3.310831871969641, 'num_leaves': 210, 'feature_fraction': 0.7139009894262107, 'bagging_fraction': 0.4919774632726743, 'bagging_freq': 5, 'min_child_samples': 18}. Best is trial 2 with value: 0.993006993006993.\n",
      "[I 2023-08-21 22:01:41,655] Trial 79 finished with value: 0.951048951048951 and parameters: {'lambda_l1': 1.5574461864405668e-08, 'lambda_l2': 0.649166986507518, 'num_leaves': 195, 'feature_fraction': 0.7034334748109621, 'bagging_fraction': 0.4389790408299953, 'bagging_freq': 4, 'min_child_samples': 23}. Best is trial 2 with value: 0.993006993006993.\n",
      "[I 2023-08-21 22:01:41,771] Trial 80 finished with value: 0.972027972027972 and parameters: {'lambda_l1': 7.529063168222328e-07, 'lambda_l2': 0.30364184934871125, 'num_leaves': 64, 'feature_fraction': 0.7317223845867268, 'bagging_fraction': 0.47784419338913847, 'bagging_freq': 6, 'min_child_samples': 14}. Best is trial 2 with value: 0.993006993006993.\n",
      "[I 2023-08-21 22:01:41,875] Trial 81 finished with value: 0.9300699300699301 and parameters: {'lambda_l1': 3.244660620479995e-08, 'lambda_l2': 0.1146270845355068, 'num_leaves': 16, 'feature_fraction': 0.6209862358398477, 'bagging_fraction': 0.5370130016424393, 'bagging_freq': 5, 'min_child_samples': 49}. Best is trial 2 with value: 0.993006993006993.\n",
      "[I 2023-08-21 22:01:41,974] Trial 82 finished with value: 0.9790209790209791 and parameters: {'lambda_l1': 1.1356526481279381e-07, 'lambda_l2': 0.0542349964144451, 'num_leaves': 40, 'feature_fraction': 0.6546413769544492, 'bagging_fraction': 0.5531485341688244, 'bagging_freq': 6, 'min_child_samples': 87}. Best is trial 2 with value: 0.993006993006993.\n",
      "[I 2023-08-21 22:01:42,078] Trial 83 finished with value: 0.9230769230769231 and parameters: {'lambda_l1': 1.1548790228643316e-08, 'lambda_l2': 9.199949443053976, 'num_leaves': 32, 'feature_fraction': 0.6781036479726104, 'bagging_fraction': 0.5067013271259244, 'bagging_freq': 1, 'min_child_samples': 58}. Best is trial 2 with value: 0.993006993006993.\n",
      "[I 2023-08-21 22:01:42,188] Trial 84 finished with value: 0.9440559440559441 and parameters: {'lambda_l1': 6.717696274162643e-08, 'lambda_l2': 0.8745548687914059, 'num_leaves': 102, 'feature_fraction': 0.6350283806987497, 'bagging_fraction': 0.529895320859067, 'bagging_freq': 7, 'min_child_samples': 27}. Best is trial 2 with value: 0.993006993006993.\n",
      "[I 2023-08-21 22:01:42,288] Trial 85 finished with value: 0.958041958041958 and parameters: {'lambda_l1': 4.253557974403165e-07, 'lambda_l2': 2.8381078931300334, 'num_leaves': 8, 'feature_fraction': 0.6112250665796982, 'bagging_fraction': 0.49474427429986423, 'bagging_freq': 6, 'min_child_samples': 69}. Best is trial 2 with value: 0.993006993006993.\n",
      "[I 2023-08-21 22:01:42,410] Trial 86 finished with value: 0.986013986013986 and parameters: {'lambda_l1': 3.156834333200175e-08, 'lambda_l2': 1.863928726915254, 'num_leaves': 187, 'feature_fraction': 0.5734867649157936, 'bagging_fraction': 0.9393750622214398, 'bagging_freq': 7, 'min_child_samples': 35}. Best is trial 2 with value: 0.993006993006993.\n",
      "[I 2023-08-21 22:01:42,525] Trial 87 finished with value: 0.972027972027972 and parameters: {'lambda_l1': 1.6184118845015602e-07, 'lambda_l2': 1.4805408003466973, 'num_leaves': 179, 'feature_fraction': 0.6028441733687163, 'bagging_fraction': 0.9788905310464565, 'bagging_freq': 7, 'min_child_samples': 32}. Best is trial 2 with value: 0.993006993006993.\n",
      "[I 2023-08-21 22:01:42,637] Trial 88 finished with value: 0.958041958041958 and parameters: {'lambda_l1': 3.4797080582026146e-08, 'lambda_l2': 5.545796836877926, 'num_leaves': 187, 'feature_fraction': 0.6371643651839509, 'bagging_fraction': 0.9996743659330642, 'bagging_freq': 7, 'min_child_samples': 39}. Best is trial 2 with value: 0.993006993006993.\n",
      "[I 2023-08-21 22:01:42,756] Trial 89 finished with value: 0.972027972027972 and parameters: {'lambda_l1': 9.595934906119793e-08, 'lambda_l2': 1.9510646103074702, 'num_leaves': 224, 'feature_fraction': 0.659256975625842, 'bagging_fraction': 0.9052434562096792, 'bagging_freq': 7, 'min_child_samples': 36}. Best is trial 2 with value: 0.993006993006993.\n",
      "[I 2023-08-21 22:01:42,875] Trial 90 finished with value: 0.965034965034965 and parameters: {'lambda_l1': 1.6532503377890713e-08, 'lambda_l2': 0.9206719490679249, 'num_leaves': 202, 'feature_fraction': 0.5840652535998988, 'bagging_fraction': 0.9366330519104401, 'bagging_freq': 7, 'min_child_samples': 30}. Best is trial 2 with value: 0.993006993006993.\n",
      "[I 2023-08-21 22:01:42,988] Trial 91 finished with value: 0.965034965034965 and parameters: {'lambda_l1': 2.6446989350348833e-08, 'lambda_l2': 0.5143380649586667, 'num_leaves': 127, 'feature_fraction': 0.5702855601587742, 'bagging_fraction': 0.9660558955176315, 'bagging_freq': 6, 'min_child_samples': 62}. Best is trial 2 with value: 0.993006993006993.\n",
      "[I 2023-08-21 22:01:43,096] Trial 92 finished with value: 0.993006993006993 and parameters: {'lambda_l1': 4.7774578604047114e-08, 'lambda_l2': 0.20810151147688602, 'num_leaves': 214, 'feature_fraction': 0.5446929098747928, 'bagging_fraction': 0.46651430462253696, 'bagging_freq': 3, 'min_child_samples': 44}. Best is trial 2 with value: 0.993006993006993.\n",
      "[I 2023-08-21 22:01:43,213] Trial 93 finished with value: 0.972027972027972 and parameters: {'lambda_l1': 4.578639535549852e-08, 'lambda_l2': 0.23048623809149774, 'num_leaves': 238, 'feature_fraction': 0.5467964989837945, 'bagging_fraction': 0.4659060672615591, 'bagging_freq': 3, 'min_child_samples': 42}. Best is trial 2 with value: 0.993006993006993.\n",
      "[I 2023-08-21 22:01:43,332] Trial 94 finished with value: 0.9790209790209791 and parameters: {'lambda_l1': 7.053315736408543e-08, 'lambda_l2': 0.45920508655055275, 'num_leaves': 199, 'feature_fraction': 0.5312001130820603, 'bagging_fraction': 0.9434076802362001, 'bagging_freq': 4, 'min_child_samples': 39}. Best is trial 2 with value: 0.993006993006993.\n",
      "[I 2023-08-21 22:01:43,461] Trial 95 finished with value: 0.9790209790209791 and parameters: {'lambda_l1': 3.4055279932293423e-07, 'lambda_l2': 0.16514588595317045, 'num_leaves': 216, 'feature_fraction': 0.6136275157106111, 'bagging_fraction': 0.9870252600910457, 'bagging_freq': 3, 'min_child_samples': 44}. Best is trial 2 with value: 0.993006993006993.\n",
      "[I 2023-08-21 22:01:43,573] Trial 96 finished with value: 0.958041958041958 and parameters: {'lambda_l1': 1.7212230871629176e-07, 'lambda_l2': 5.361544630272262, 'num_leaves': 211, 'feature_fraction': 0.6954286941962783, 'bagging_fraction': 0.4775529376275814, 'bagging_freq': 5, 'min_child_samples': 47}. Best is trial 2 with value: 0.993006993006993.\n",
      "[I 2023-08-21 22:01:43,681] Trial 97 finished with value: 0.965034965034965 and parameters: {'lambda_l1': 1.68961003858524e-08, 'lambda_l2': 2.073745883151413, 'num_leaves': 160, 'feature_fraction': 0.576135864406781, 'bagging_fraction': 0.5184948785473031, 'bagging_freq': 4, 'min_child_samples': 49}. Best is trial 2 with value: 0.993006993006993.\n",
      "[I 2023-08-21 22:01:43,793] Trial 98 finished with value: 0.965034965034965 and parameters: {'lambda_l1': 1.103995735185769e-07, 'lambda_l2': 1.0262387295193618, 'num_leaves': 232, 'feature_fraction': 0.5947118401709237, 'bagging_fraction': 0.42276872168985524, 'bagging_freq': 7, 'min_child_samples': 26}. Best is trial 2 with value: 0.993006993006993.\n",
      "[I 2023-08-21 22:01:43,913] Trial 99 finished with value: 0.951048951048951 and parameters: {'lambda_l1': 1.024833634499888e-08, 'lambda_l2': 0.3005501953132634, 'num_leaves': 221, 'feature_fraction': 0.5562240650061148, 'bagging_fraction': 0.9626745324660252, 'bagging_freq': 3, 'min_child_samples': 35}. Best is trial 2 with value: 0.993006993006993.\n"
     ]
    },
    {
     "name": "stdout",
     "output_type": "stream",
     "text": [
      "Number of finished trials: 100\n",
      "Best trial:\n",
      "  Value: 0.993006993006993\n",
      "  Params: \n",
      "    lambda_l1: 0.028878520398294357\n",
      "    lambda_l2: 2.950025455760672\n",
      "    num_leaves: 171\n",
      "    feature_fraction: 0.4837885913891835\n",
      "    bagging_fraction: 0.5928728757802348\n",
      "    bagging_freq: 4\n",
      "    min_child_samples: 40\n"
     ]
    }
   ],
   "source": [
    "study = optuna.create_study(direction=\"maximize\")\n",
    "study.optimize(objective, n_trials=100)\n",
    "\n",
    "print(\"Number of finished trials: {}\".format(len(study.trials)))\n",
    "\n",
    "print(\"Best trial:\")\n",
    "trial = study.best_trial\n",
    "\n",
    "print(\"  Value: {}\".format(trial.value))\n",
    "\n",
    "print(\"  Params: \")\n",
    "for key, value in trial.params.items():\n",
    "    print(\"    {}: {}\".format(key, value))"
   ]
  },
  {
   "cell_type": "code",
   "execution_count": 12,
   "id": "b0068de5-e088-486d-b4fb-9cfc6b7e55a5",
   "metadata": {},
   "outputs": [],
   "source": [
    "import optuna.integration.lightgbm as lgb\n",
    "from lightgbm import early_stopping\n",
    "from lightgbm import log_evaluation\n",
    "import sklearn.datasets\n",
    "from sklearn.model_selection import KFold, TimeSeriesSplit"
   ]
  },
  {
   "cell_type": "code",
   "execution_count": 13,
   "id": "a5834a12-e244-43ed-a049-edbb11b82fd4",
   "metadata": {
    "scrolled": true
   },
   "outputs": [
    {
     "name": "stderr",
     "output_type": "stream",
     "text": [
      "[I 2023-08-21 22:10:46,174] A new study created in memory with name: no-name-1362af8c-6175-47eb-92e4-6d960c111669\n",
      "feature_fraction, val_score: inf:   0%|                   | 0/7 [00:00<?, ?it/s]"
     ]
    },
    {
     "name": "stdout",
     "output_type": "stream",
     "text": [
      "Training until validation scores don't improve for 100 rounds\n",
      "[100]\tcv_agg's binary_logloss: 0.142173 + 0.0971777\n"
     ]
    },
    {
     "name": "stderr",
     "output_type": "stream",
     "text": [
      "feature_fraction, val_score: 0.117032:  14%|8     | 1/7 [00:00<00:01,  3.05it/s][I 2023-08-21 22:10:46,508] Trial 0 finished with value: 0.11703230757753805 and parameters: {'feature_fraction': 0.8999999999999999}. Best is trial 0 with value: 0.11703230757753805.\n",
      "feature_fraction, val_score: 0.117032:  14%|8     | 1/7 [00:00<00:01,  3.05it/s]"
     ]
    },
    {
     "name": "stdout",
     "output_type": "stream",
     "text": [
      "Early stopping, best iteration is:\n",
      "[59]\tcv_agg's binary_logloss: 0.117032 + 0.0649477\n",
      "[100]\tcv_agg's binary_logloss: 0.138691 + 0.10928\n"
     ]
    },
    {
     "name": "stderr",
     "output_type": "stream",
     "text": [
      "feature_fraction, val_score: 0.111162:  29%|#7    | 2/7 [00:00<00:01,  3.17it/s][I 2023-08-21 22:10:46,815] Trial 1 finished with value: 0.11116232894691533 and parameters: {'feature_fraction': 0.8}. Best is trial 1 with value: 0.11116232894691533.\n",
      "feature_fraction, val_score: 0.111162:  29%|#7    | 2/7 [00:00<00:01,  3.17it/s]"
     ]
    },
    {
     "name": "stdout",
     "output_type": "stream",
     "text": [
      "Early stopping, best iteration is:\n",
      "[57]\tcv_agg's binary_logloss: 0.111162 + 0.067585\n"
     ]
    },
    {
     "name": "stderr",
     "output_type": "stream",
     "text": [
      "feature_fraction, val_score: 0.111162:  43%|##5   | 3/7 [00:01<00:01,  2.96it/s][I 2023-08-21 22:10:47,180] Trial 2 finished with value: 0.12031503347326757 and parameters: {'feature_fraction': 1.0}. Best is trial 1 with value: 0.11116232894691533.\n",
      "feature_fraction, val_score: 0.111162:  43%|##5   | 3/7 [00:01<00:01,  2.96it/s]"
     ]
    },
    {
     "name": "stdout",
     "output_type": "stream",
     "text": [
      "[100]\tcv_agg's binary_logloss: 0.147678 + 0.0984548\n",
      "Early stopping, best iteration is:\n",
      "[57]\tcv_agg's binary_logloss: 0.111162 + 0.067585\n"
     ]
    },
    {
     "name": "stderr",
     "output_type": "stream",
     "text": [
      "feature_fraction, val_score: 0.107017:  57%|###4  | 4/7 [00:01<00:01,  2.98it/s][I 2023-08-21 22:10:47,510] Trial 3 finished with value: 0.10701708783397104 and parameters: {'feature_fraction': 0.4}. Best is trial 3 with value: 0.10701708783397104.\n",
      "feature_fraction, val_score: 0.107017:  57%|###4  | 4/7 [00:01<00:01,  2.98it/s]"
     ]
    },
    {
     "name": "stdout",
     "output_type": "stream",
     "text": [
      "[100]\tcv_agg's binary_logloss: 0.117032 + 0.0879316\n",
      "Early stopping, best iteration is:\n",
      "[60]\tcv_agg's binary_logloss: 0.107017 + 0.0696415\n"
     ]
    },
    {
     "name": "stderr",
     "output_type": "stream",
     "text": [
      "feature_fraction, val_score: 0.107017:  71%|####2 | 5/7 [00:01<00:00,  3.09it/s][I 2023-08-21 22:10:47,814] Trial 4 finished with value: 0.11437526757587989 and parameters: {'feature_fraction': 0.7}. Best is trial 3 with value: 0.10701708783397104.\n",
      "feature_fraction, val_score: 0.107017:  71%|####2 | 5/7 [00:01<00:00,  3.09it/s]"
     ]
    },
    {
     "name": "stdout",
     "output_type": "stream",
     "text": [
      "[100]\tcv_agg's binary_logloss: 0.135116 + 0.0999923\n",
      "Early stopping, best iteration is:\n",
      "[60]\tcv_agg's binary_logloss: 0.107017 + 0.0696415\n"
     ]
    },
    {
     "name": "stderr",
     "output_type": "stream",
     "text": [
      "feature_fraction, val_score: 0.107017:  86%|#####1| 6/7 [00:01<00:00,  3.24it/s][I 2023-08-21 22:10:48,095] Trial 5 finished with value: 0.11148023992011535 and parameters: {'feature_fraction': 0.5}. Best is trial 3 with value: 0.10701708783397104.\n",
      "feature_fraction, val_score: 0.107017:  86%|#####1| 6/7 [00:01<00:00,  3.24it/s]"
     ]
    },
    {
     "name": "stdout",
     "output_type": "stream",
     "text": [
      "[100]\tcv_agg's binary_logloss: 0.125245 + 0.0928639\n",
      "Early stopping, best iteration is:\n",
      "[60]\tcv_agg's binary_logloss: 0.107017 + 0.0696415\n"
     ]
    },
    {
     "name": "stderr",
     "output_type": "stream",
     "text": [
      "feature_fraction, val_score: 0.107017: 100%|######| 7/7 [00:02<00:00,  2.97it/s][I 2023-08-21 22:10:48,489] Trial 6 finished with value: 0.11582829033964402 and parameters: {'feature_fraction': 0.6}. Best is trial 3 with value: 0.10701708783397104.\n",
      "feature_fraction, val_score: 0.107017: 100%|######| 7/7 [00:02<00:00,  3.03it/s]\n"
     ]
    },
    {
     "name": "stdout",
     "output_type": "stream",
     "text": [
      "[100]\tcv_agg's binary_logloss: 0.131803 + 0.0897541\n",
      "Early stopping, best iteration is:\n",
      "[60]\tcv_agg's binary_logloss: 0.107017 + 0.0696415\n"
     ]
    },
    {
     "name": "stderr",
     "output_type": "stream",
     "text": [
      "num_leaves, val_score: 0.107017:   5%|5          | 1/20 [00:00<00:05,  3.62it/s][I 2023-08-21 22:10:48,773] Trial 7 finished with value: 0.10701708783397104 and parameters: {'num_leaves': 217}. Best is trial 7 with value: 0.10701708783397104.\n",
      "num_leaves, val_score: 0.107017:   5%|5          | 1/20 [00:00<00:05,  3.62it/s]"
     ]
    },
    {
     "name": "stdout",
     "output_type": "stream",
     "text": [
      "[100]\tcv_agg's binary_logloss: 0.117032 + 0.0879316\n",
      "Early stopping, best iteration is:\n",
      "[60]\tcv_agg's binary_logloss: 0.107017 + 0.0696415\n"
     ]
    },
    {
     "name": "stderr",
     "output_type": "stream",
     "text": [
      "num_leaves, val_score: 0.107017:  10%|#1         | 2/20 [00:00<00:04,  3.63it/s][I 2023-08-21 22:10:49,048] Trial 8 finished with value: 0.10701708783397104 and parameters: {'num_leaves': 51}. Best is trial 7 with value: 0.10701708783397104.\n",
      "num_leaves, val_score: 0.107017:  10%|#1         | 2/20 [00:00<00:04,  3.63it/s]"
     ]
    },
    {
     "name": "stdout",
     "output_type": "stream",
     "text": [
      "[100]\tcv_agg's binary_logloss: 0.117032 + 0.0879316\n",
      "Early stopping, best iteration is:\n",
      "[60]\tcv_agg's binary_logloss: 0.107017 + 0.0696415\n"
     ]
    },
    {
     "name": "stderr",
     "output_type": "stream",
     "text": [
      "num_leaves, val_score: 0.107017:  15%|#6         | 3/20 [00:00<00:05,  3.32it/s][I 2023-08-21 22:10:49,379] Trial 9 finished with value: 0.10701708783397104 and parameters: {'num_leaves': 96}. Best is trial 7 with value: 0.10701708783397104.\n",
      "num_leaves, val_score: 0.107017:  15%|#6         | 3/20 [00:00<00:05,  3.32it/s]"
     ]
    },
    {
     "name": "stdout",
     "output_type": "stream",
     "text": [
      "[100]\tcv_agg's binary_logloss: 0.117032 + 0.0879316\n",
      "Early stopping, best iteration is:\n",
      "[60]\tcv_agg's binary_logloss: 0.107017 + 0.0696415\n"
     ]
    },
    {
     "name": "stderr",
     "output_type": "stream",
     "text": [
      "num_leaves, val_score: 0.107017:  20%|##2        | 4/20 [00:01<00:05,  3.12it/s][I 2023-08-21 22:10:49,730] Trial 10 finished with value: 0.10701708783397104 and parameters: {'num_leaves': 253}. Best is trial 7 with value: 0.10701708783397104.\n",
      "num_leaves, val_score: 0.107017:  20%|##2        | 4/20 [00:01<00:05,  3.12it/s]"
     ]
    },
    {
     "name": "stdout",
     "output_type": "stream",
     "text": [
      "[100]\tcv_agg's binary_logloss: 0.117032 + 0.0879316\n",
      "Early stopping, best iteration is:\n",
      "[60]\tcv_agg's binary_logloss: 0.107017 + 0.0696415\n"
     ]
    },
    {
     "name": "stderr",
     "output_type": "stream",
     "text": [
      "num_leaves, val_score: 0.107017:  25%|##7        | 5/20 [00:01<00:05,  2.93it/s][I 2023-08-21 22:10:50,109] Trial 11 finished with value: 0.10701708783397104 and parameters: {'num_leaves': 226}. Best is trial 7 with value: 0.10701708783397104.\n",
      "num_leaves, val_score: 0.107017:  25%|##7        | 5/20 [00:01<00:05,  2.93it/s]"
     ]
    },
    {
     "name": "stdout",
     "output_type": "stream",
     "text": [
      "[100]\tcv_agg's binary_logloss: 0.117032 + 0.0879316\n",
      "Early stopping, best iteration is:\n",
      "[60]\tcv_agg's binary_logloss: 0.107017 + 0.0696415\n",
      "[100]\tcv_agg's binary_logloss: 0.117032 + 0.0879316\n",
      "Early stopping, best iteration is:\n",
      "[60]\tcv_agg's binary_logloss: 0.107017 + 0.0696415\n"
     ]
    },
    {
     "name": "stderr",
     "output_type": "stream",
     "text": [
      "num_leaves, val_score: 0.107017:  30%|###3       | 6/20 [00:02<00:05,  2.61it/s][I 2023-08-21 22:10:50,572] Trial 12 finished with value: 0.10701708783397104 and parameters: {'num_leaves': 173}. Best is trial 7 with value: 0.10701708783397104.\n",
      "num_leaves, val_score: 0.107017:  35%|###8       | 7/20 [00:02<00:04,  2.73it/s][I 2023-08-21 22:10:50,905] Trial 13 finished with value: 0.10701708783397104 and parameters: {'num_leaves': 166}. Best is trial 7 with value: 0.10701708783397104.\n",
      "num_leaves, val_score: 0.107017:  35%|###8       | 7/20 [00:02<00:04,  2.73it/s]"
     ]
    },
    {
     "name": "stdout",
     "output_type": "stream",
     "text": [
      "[100]\tcv_agg's binary_logloss: 0.117032 + 0.0879316\n",
      "Early stopping, best iteration is:\n",
      "[60]\tcv_agg's binary_logloss: 0.107017 + 0.0696415\n"
     ]
    },
    {
     "name": "stderr",
     "output_type": "stream",
     "text": [
      "num_leaves, val_score: 0.107017:  40%|####4      | 8/20 [00:02<00:04,  2.73it/s][I 2023-08-21 22:10:51,270] Trial 14 finished with value: 0.10701708783397104 and parameters: {'num_leaves': 187}. Best is trial 7 with value: 0.10701708783397104.\n",
      "num_leaves, val_score: 0.107017:  40%|####4      | 8/20 [00:02<00:04,  2.73it/s]"
     ]
    },
    {
     "name": "stdout",
     "output_type": "stream",
     "text": [
      "[100]\tcv_agg's binary_logloss: 0.117032 + 0.0879316\n",
      "Early stopping, best iteration is:\n",
      "[60]\tcv_agg's binary_logloss: 0.107017 + 0.0696415\n"
     ]
    },
    {
     "name": "stderr",
     "output_type": "stream",
     "text": [
      "num_leaves, val_score: 0.106420:  45%|####9      | 9/20 [00:03<00:03,  2.95it/s][I 2023-08-21 22:10:51,549] Trial 15 finished with value: 0.1064201696015067 and parameters: {'num_leaves': 9}. Best is trial 15 with value: 0.1064201696015067.\n",
      "num_leaves, val_score: 0.106420:  45%|####9      | 9/20 [00:03<00:03,  2.95it/s]"
     ]
    },
    {
     "name": "stdout",
     "output_type": "stream",
     "text": [
      "[100]\tcv_agg's binary_logloss: 0.113003 + 0.0904373\n",
      "Early stopping, best iteration is:\n",
      "[64]\tcv_agg's binary_logloss: 0.10642 + 0.0697726\n"
     ]
    },
    {
     "name": "stderr",
     "output_type": "stream",
     "text": [
      "num_leaves, val_score: 0.106039:  50%|#####     | 10/20 [00:03<00:03,  2.91it/s][I 2023-08-21 22:10:51,904] Trial 16 finished with value: 0.10603858269131848 and parameters: {'num_leaves': 17}. Best is trial 16 with value: 0.10603858269131848.\n",
      "num_leaves, val_score: 0.106039:  50%|#####     | 10/20 [00:03<00:03,  2.91it/s]"
     ]
    },
    {
     "name": "stdout",
     "output_type": "stream",
     "text": [
      "[100]\tcv_agg's binary_logloss: 0.11667 + 0.0881951\n",
      "Early stopping, best iteration is:\n",
      "[68]\tcv_agg's binary_logloss: 0.106039 + 0.0722975\n"
     ]
    },
    {
     "name": "stderr",
     "output_type": "stream",
     "text": [
      "num_leaves, val_score: 0.106039:  55%|#####5    | 11/20 [00:03<00:02,  3.04it/s][I 2023-08-21 22:10:52,200] Trial 17 finished with value: 0.10690607036018991 and parameters: {'num_leaves': 9}. Best is trial 16 with value: 0.10603858269131848.\n",
      "num_leaves, val_score: 0.106039:  55%|#####5    | 11/20 [00:03<00:02,  3.04it/s]"
     ]
    },
    {
     "name": "stdout",
     "output_type": "stream",
     "text": [
      "[100]\tcv_agg's binary_logloss: 0.113003 + 0.0904373\n",
      "Early stopping, best iteration is:\n",
      "[68]\tcv_agg's binary_logloss: 0.106039 + 0.0722975\n"
     ]
    },
    {
     "name": "stderr",
     "output_type": "stream",
     "text": [
      "num_leaves, val_score: 0.104949:  60%|######    | 12/20 [00:04<00:02,  3.05it/s][I 2023-08-21 22:10:52,524] Trial 18 finished with value: 0.10494874941288482 and parameters: {'num_leaves': 16}. Best is trial 18 with value: 0.10494874941288482.\n",
      "num_leaves, val_score: 0.104949:  60%|######    | 12/20 [00:04<00:02,  3.05it/s]"
     ]
    },
    {
     "name": "stdout",
     "output_type": "stream",
     "text": [
      "[100]\tcv_agg's binary_logloss: 0.115847 + 0.0888196\n",
      "Early stopping, best iteration is:\n",
      "[64]\tcv_agg's binary_logloss: 0.104949 + 0.0703554\n"
     ]
    },
    {
     "name": "stderr",
     "output_type": "stream",
     "text": [
      "num_leaves, val_score: 0.104949:  65%|######5   | 13/20 [00:04<00:02,  2.99it/s][I 2023-08-21 22:10:52,876] Trial 19 finished with value: 0.10725074158316576 and parameters: {'num_leaves': 76}. Best is trial 18 with value: 0.10494874941288482.\n",
      "num_leaves, val_score: 0.104949:  65%|######5   | 13/20 [00:04<00:02,  2.99it/s]"
     ]
    },
    {
     "name": "stdout",
     "output_type": "stream",
     "text": [
      "[100]\tcv_agg's binary_logloss: 0.117032 + 0.0879316\n",
      "Early stopping, best iteration is:\n",
      "[64]\tcv_agg's binary_logloss: 0.104949 + 0.0703554\n"
     ]
    },
    {
     "name": "stderr",
     "output_type": "stream",
     "text": [
      "num_leaves, val_score: 0.104949:  70%|#######   | 14/20 [00:04<00:02,  2.98it/s][I 2023-08-21 22:10:53,211] Trial 20 finished with value: 0.10725074158316576 and parameters: {'num_leaves': 47}. Best is trial 18 with value: 0.10494874941288482.\n",
      "num_leaves, val_score: 0.104949:  70%|#######   | 14/20 [00:04<00:02,  2.98it/s]"
     ]
    },
    {
     "name": "stdout",
     "output_type": "stream",
     "text": [
      "[100]\tcv_agg's binary_logloss: 0.117032 + 0.0879316\n",
      "Early stopping, best iteration is:\n",
      "[64]\tcv_agg's binary_logloss: 0.104949 + 0.0703554\n",
      "[100]\tcv_agg's binary_logloss: 0.116313 + 0.066075\n"
     ]
    },
    {
     "name": "stderr",
     "output_type": "stream",
     "text": [
      "num_leaves, val_score: 0.104949:  75%|#######5  | 15/20 [00:04<00:01,  3.63it/s][I 2023-08-21 22:10:53,348] Trial 21 finished with value: 0.1202833681025265 and parameters: {'num_leaves': 3}. Best is trial 18 with value: 0.10494874941288482.\n",
      "num_leaves, val_score: 0.104949:  75%|#######5  | 15/20 [00:04<00:01,  3.63it/s]"
     ]
    },
    {
     "name": "stdout",
     "output_type": "stream",
     "text": [
      "Early stopping, best iteration is:\n",
      "[64]\tcv_agg's binary_logloss: 0.104949 + 0.0703554\n",
      "[100]\tcv_agg's binary_logloss: 0.117032 + 0.0879316\n"
     ]
    },
    {
     "name": "stderr",
     "output_type": "stream",
     "text": [
      "num_leaves, val_score: 0.104949:  80%|########  | 16/20 [00:05<00:01,  3.47it/s][I 2023-08-21 22:10:53,667] Trial 22 finished with value: 0.10725074158316576 and parameters: {'num_leaves': 32}. Best is trial 18 with value: 0.10494874941288482.\n",
      "num_leaves, val_score: 0.104949:  80%|########  | 16/20 [00:05<00:01,  3.47it/s]"
     ]
    },
    {
     "name": "stdout",
     "output_type": "stream",
     "text": [
      "Early stopping, best iteration is:\n",
      "[64]\tcv_agg's binary_logloss: 0.104949 + 0.0703554\n"
     ]
    },
    {
     "name": "stderr",
     "output_type": "stream",
     "text": [
      "num_leaves, val_score: 0.104949:  85%|########5 | 17/20 [00:05<00:00,  3.26it/s][I 2023-08-21 22:10:54,015] Trial 23 finished with value: 0.10725074158316576 and parameters: {'num_leaves': 111}. Best is trial 18 with value: 0.10494874941288482.\n",
      "num_leaves, val_score: 0.104949:  85%|########5 | 17/20 [00:05<00:00,  3.26it/s]"
     ]
    },
    {
     "name": "stdout",
     "output_type": "stream",
     "text": [
      "[100]\tcv_agg's binary_logloss: 0.117032 + 0.0879316\n",
      "Early stopping, best iteration is:\n",
      "[64]\tcv_agg's binary_logloss: 0.104949 + 0.0703554\n"
     ]
    },
    {
     "name": "stderr",
     "output_type": "stream",
     "text": [
      "num_leaves, val_score: 0.104949:  90%|######### | 18/20 [00:05<00:00,  3.38it/s][I 2023-08-21 22:10:54,286] Trial 24 finished with value: 0.10725074158316576 and parameters: {'num_leaves': 29}. Best is trial 18 with value: 0.10494874941288482.\n",
      "num_leaves, val_score: 0.104949:  90%|######### | 18/20 [00:05<00:00,  3.38it/s]"
     ]
    },
    {
     "name": "stdout",
     "output_type": "stream",
     "text": [
      "[100]\tcv_agg's binary_logloss: 0.117032 + 0.0879316\n",
      "Early stopping, best iteration is:\n",
      "[64]\tcv_agg's binary_logloss: 0.104949 + 0.0703554\n"
     ]
    },
    {
     "name": "stderr",
     "output_type": "stream",
     "text": [
      "num_leaves, val_score: 0.104949:  95%|#########5| 19/20 [00:06<00:00,  3.28it/s][I 2023-08-21 22:10:54,612] Trial 25 finished with value: 0.10725074158316576 and parameters: {'num_leaves': 77}. Best is trial 18 with value: 0.10494874941288482.\n",
      "num_leaves, val_score: 0.104949:  95%|#########5| 19/20 [00:06<00:00,  3.28it/s]"
     ]
    },
    {
     "name": "stdout",
     "output_type": "stream",
     "text": [
      "[100]\tcv_agg's binary_logloss: 0.117032 + 0.0879316\n",
      "Early stopping, best iteration is:\n",
      "[64]\tcv_agg's binary_logloss: 0.104949 + 0.0703554\n"
     ]
    },
    {
     "name": "stderr",
     "output_type": "stream",
     "text": [
      "num_leaves, val_score: 0.104949: 100%|##########| 20/20 [00:06<00:00,  3.69it/s][I 2023-08-21 22:10:54,804] Trial 26 finished with value: 0.10731198141033098 and parameters: {'num_leaves': 8}. Best is trial 18 with value: 0.10494874941288482.\n",
      "num_leaves, val_score: 0.104949: 100%|##########| 20/20 [00:06<00:00,  3.17it/s]\n"
     ]
    },
    {
     "name": "stdout",
     "output_type": "stream",
     "text": [
      "[100]\tcv_agg's binary_logloss: 0.117361 + 0.0874569\n",
      "Early stopping, best iteration is:\n",
      "[64]\tcv_agg's binary_logloss: 0.104949 + 0.0703554\n"
     ]
    },
    {
     "name": "stderr",
     "output_type": "stream",
     "text": [
      "bagging, val_score: 0.094034:  10%|#4            | 1/10 [00:00<00:02,  4.07it/s][I 2023-08-21 22:10:55,059] Trial 27 finished with value: 0.0940344817778254 and parameters: {'bagging_fraction': 0.790634388128329, 'bagging_freq': 7}. Best is trial 27 with value: 0.0940344817778254.\n",
      "bagging, val_score: 0.094034:  10%|#4            | 1/10 [00:00<00:02,  4.07it/s]"
     ]
    },
    {
     "name": "stdout",
     "output_type": "stream",
     "text": [
      "[100]\tcv_agg's binary_logloss: 0.102465 + 0.0722323\n",
      "Early stopping, best iteration is:\n",
      "[67]\tcv_agg's binary_logloss: 0.0940345 + 0.0513134\n"
     ]
    },
    {
     "name": "stderr",
     "output_type": "stream",
     "text": [
      "bagging, val_score: 0.094034:  20%|##8           | 2/10 [00:00<00:02,  3.90it/s][I 2023-08-21 22:10:55,323] Trial 28 finished with value: 0.09451022341043745 and parameters: {'bagging_fraction': 0.8089685545772981, 'bagging_freq': 7}. Best is trial 27 with value: 0.0940344817778254.\n",
      "bagging, val_score: 0.094034:  20%|##8           | 2/10 [00:00<00:02,  3.90it/s]"
     ]
    },
    {
     "name": "stdout",
     "output_type": "stream",
     "text": [
      "[100]\tcv_agg's binary_logloss: 0.0991342 + 0.0540121\n",
      "Early stopping, best iteration is:\n",
      "[67]\tcv_agg's binary_logloss: 0.0940345 + 0.0513134\n"
     ]
    },
    {
     "name": "stderr",
     "output_type": "stream",
     "text": [
      "bagging, val_score: 0.094034:  30%|####2         | 3/10 [00:00<00:01,  3.54it/s][I 2023-08-21 22:10:55,637] Trial 29 finished with value: 0.09430472846883443 and parameters: {'bagging_fraction': 0.809119680490625, 'bagging_freq': 7}. Best is trial 27 with value: 0.0940344817778254.\n",
      "bagging, val_score: 0.094034:  30%|####2         | 3/10 [00:00<00:01,  3.54it/s]"
     ]
    },
    {
     "name": "stdout",
     "output_type": "stream",
     "text": [
      "[100]\tcv_agg's binary_logloss: 0.0975478 + 0.0551514\n",
      "Early stopping, best iteration is:\n",
      "[67]\tcv_agg's binary_logloss: 0.0940345 + 0.0513134\n"
     ]
    },
    {
     "name": "stderr",
     "output_type": "stream",
     "text": [
      "bagging, val_score: 0.093474:  40%|#####6        | 4/10 [00:01<00:01,  3.16it/s][I 2023-08-21 22:10:56,005] Trial 30 finished with value: 0.09347429172387303 and parameters: {'bagging_fraction': 0.8142406338704556, 'bagging_freq': 7}. Best is trial 30 with value: 0.09347429172387303.\n",
      "bagging, val_score: 0.093474:  40%|#####6        | 4/10 [00:01<00:01,  3.16it/s]"
     ]
    },
    {
     "name": "stdout",
     "output_type": "stream",
     "text": [
      "[100]\tcv_agg's binary_logloss: 0.100745 + 0.0640925\n",
      "Early stopping, best iteration is:\n",
      "[65]\tcv_agg's binary_logloss: 0.0934743 + 0.0476742\n"
     ]
    },
    {
     "name": "stderr",
     "output_type": "stream",
     "text": [
      "bagging, val_score: 0.093474:  50%|#######       | 5/10 [00:01<00:01,  2.85it/s][I 2023-08-21 22:10:56,416] Trial 31 finished with value: 0.09563048616547012 and parameters: {'bagging_fraction': 0.8086978892763188, 'bagging_freq': 7}. Best is trial 30 with value: 0.09347429172387303.\n",
      "bagging, val_score: 0.093474:  50%|#######       | 5/10 [00:01<00:01,  2.85it/s]"
     ]
    },
    {
     "name": "stdout",
     "output_type": "stream",
     "text": [
      "[100]\tcv_agg's binary_logloss: 0.103372 + 0.0644461\n",
      "Early stopping, best iteration is:\n",
      "[65]\tcv_agg's binary_logloss: 0.0934743 + 0.0476742\n"
     ]
    },
    {
     "name": "stderr",
     "output_type": "stream",
     "text": [
      "bagging, val_score: 0.092111:  60%|########4     | 6/10 [00:01<00:01,  2.86it/s][I 2023-08-21 22:10:56,763] Trial 32 finished with value: 0.09211081358560835 and parameters: {'bagging_fraction': 0.80199632573759, 'bagging_freq': 7}. Best is trial 32 with value: 0.09211081358560835.\n",
      "bagging, val_score: 0.092111:  60%|########4     | 6/10 [00:01<00:01,  2.86it/s]"
     ]
    },
    {
     "name": "stdout",
     "output_type": "stream",
     "text": [
      "[100]\tcv_agg's binary_logloss: 0.10375 + 0.0612733\n",
      "Early stopping, best iteration is:\n",
      "[67]\tcv_agg's binary_logloss: 0.0921108 + 0.045388\n"
     ]
    },
    {
     "name": "stderr",
     "output_type": "stream",
     "text": [
      "bagging, val_score: 0.092111:  70%|#########7    | 7/10 [00:02<00:00,  3.07it/s][I 2023-08-21 22:10:57,040] Trial 33 finished with value: 0.09355341705424672 and parameters: {'bagging_fraction': 0.7805228271583858, 'bagging_freq': 7}. Best is trial 32 with value: 0.09211081358560835.\n",
      "bagging, val_score: 0.092111:  70%|#########7    | 7/10 [00:02<00:00,  3.07it/s]"
     ]
    },
    {
     "name": "stdout",
     "output_type": "stream",
     "text": [
      "[100]\tcv_agg's binary_logloss: 0.099831 + 0.0614845\n",
      "Early stopping, best iteration is:\n",
      "[67]\tcv_agg's binary_logloss: 0.0921108 + 0.045388\n"
     ]
    },
    {
     "name": "stderr",
     "output_type": "stream",
     "text": [
      "bagging, val_score: 0.092111:  80%|###########2  | 8/10 [00:02<00:00,  3.25it/s][I 2023-08-21 22:10:57,309] Trial 34 finished with value: 0.09621688714750055 and parameters: {'bagging_fraction': 0.7937550438950538, 'bagging_freq': 7}. Best is trial 32 with value: 0.09211081358560835.\n",
      "bagging, val_score: 0.092111:  80%|###########2  | 8/10 [00:02<00:00,  3.25it/s]"
     ]
    },
    {
     "name": "stdout",
     "output_type": "stream",
     "text": [
      "[100]\tcv_agg's binary_logloss: 0.103637 + 0.0679655\n",
      "Early stopping, best iteration is:\n",
      "[67]\tcv_agg's binary_logloss: 0.0921108 + 0.045388\n"
     ]
    },
    {
     "name": "stderr",
     "output_type": "stream",
     "text": [
      "bagging, val_score: 0.082208:  90%|############6 | 9/10 [00:02<00:00,  3.48it/s][I 2023-08-21 22:10:57,551] Trial 35 finished with value: 0.08220823460712331 and parameters: {'bagging_fraction': 0.6764617799335896, 'bagging_freq': 7}. Best is trial 35 with value: 0.08220823460712331.\n",
      "bagging, val_score: 0.082208:  90%|############6 | 9/10 [00:02<00:00,  3.48it/s]"
     ]
    },
    {
     "name": "stdout",
     "output_type": "stream",
     "text": [
      "[100]\tcv_agg's binary_logloss: 0.0858439 + 0.0575237\n",
      "Early stopping, best iteration is:\n",
      "[74]\tcv_agg's binary_logloss: 0.0822082 + 0.0456384\n"
     ]
    },
    {
     "name": "stderr",
     "output_type": "stream",
     "text": [
      "bagging, val_score: 0.082208: 100%|#############| 10/10 [00:02<00:00,  3.62it/s][I 2023-08-21 22:10:57,802] Trial 36 finished with value: 0.09572644720008411 and parameters: {'bagging_fraction': 0.6272748386638922, 'bagging_freq': 5}. Best is trial 35 with value: 0.08220823460712331.\n",
      "bagging, val_score: 0.082208: 100%|#############| 10/10 [00:02<00:00,  3.34it/s]\n"
     ]
    },
    {
     "name": "stdout",
     "output_type": "stream",
     "text": [
      "[100]\tcv_agg's binary_logloss: 0.0885419 + 0.0422919\n",
      "Early stopping, best iteration is:\n",
      "[74]\tcv_agg's binary_logloss: 0.0822082 + 0.0456384\n"
     ]
    },
    {
     "name": "stderr",
     "output_type": "stream",
     "text": [
      "feature_fraction_stage2, val_score: 0.082208:  33%|3| 1/3 [00:00<00:00,  3.96it/[I 2023-08-21 22:10:58,063] Trial 37 finished with value: 0.08220823460712331 and parameters: {'feature_fraction': 0.41600000000000004}. Best is trial 37 with value: 0.08220823460712331.\n",
      "feature_fraction_stage2, val_score: 0.082208:  33%|3| 1/3 [00:00<00:00,  3.96it/"
     ]
    },
    {
     "name": "stdout",
     "output_type": "stream",
     "text": [
      "[100]\tcv_agg's binary_logloss: 0.0858439 + 0.0575237\n",
      "Early stopping, best iteration is:\n",
      "[74]\tcv_agg's binary_logloss: 0.0822082 + 0.0456384\n"
     ]
    },
    {
     "name": "stderr",
     "output_type": "stream",
     "text": [
      "feature_fraction_stage2, val_score: 0.082208:  67%|6| 2/3 [00:00<00:00,  3.40it/[I 2023-08-21 22:10:58,386] Trial 38 finished with value: 0.09248935622519715 and parameters: {'feature_fraction': 0.44800000000000006}. Best is trial 37 with value: 0.08220823460712331.\n",
      "feature_fraction_stage2, val_score: 0.082208:  67%|6| 2/3 [00:00<00:00,  3.40it/"
     ]
    },
    {
     "name": "stdout",
     "output_type": "stream",
     "text": [
      "[100]\tcv_agg's binary_logloss: 0.0893895 + 0.0554653\n",
      "Early stopping, best iteration is:\n",
      "[74]\tcv_agg's binary_logloss: 0.0822082 + 0.0456384\n"
     ]
    },
    {
     "name": "stderr",
     "output_type": "stream",
     "text": [
      "feature_fraction_stage2, val_score: 0.082208: 100%|#| 3/3 [00:00<00:00,  3.68it/[I 2023-08-21 22:10:58,631] Trial 39 finished with value: 0.09368716680364608 and parameters: {'feature_fraction': 0.48000000000000004}. Best is trial 37 with value: 0.08220823460712331.\n",
      "feature_fraction_stage2, val_score: 0.082208: 100%|#| 3/3 [00:00<00:00,  3.65it/\n"
     ]
    },
    {
     "name": "stdout",
     "output_type": "stream",
     "text": [
      "[100]\tcv_agg's binary_logloss: 0.0978552 + 0.0566164\n",
      "Early stopping, best iteration is:\n",
      "[74]\tcv_agg's binary_logloss: 0.0822082 + 0.0456384\n"
     ]
    },
    {
     "name": "stderr",
     "output_type": "stream",
     "text": [
      "regularization_factors, val_score: 0.082208:   5%| | 1/20 [00:00<00:03,  4.77it/[I 2023-08-21 22:10:58,848] Trial 40 finished with value: 0.08428598796595721 and parameters: {'lambda_l1': 3.094547091062161e-05, 'lambda_l2': 0.0009487254834963514}. Best is trial 40 with value: 0.08428598796595721.\n",
      "regularization_factors, val_score: 0.082208:   5%| | 1/20 [00:00<00:03,  4.77it/"
     ]
    },
    {
     "name": "stdout",
     "output_type": "stream",
     "text": [
      "[100]\tcv_agg's binary_logloss: 0.0873594 + 0.052515\n",
      "Early stopping, best iteration is:\n",
      "[74]\tcv_agg's binary_logloss: 0.0822082 + 0.0456384\n"
     ]
    },
    {
     "name": "stderr",
     "output_type": "stream",
     "text": [
      "regularization_factors, val_score: 0.082208:  10%|1| 2/20 [00:00<00:03,  4.70it/[I 2023-08-21 22:10:59,063] Trial 41 finished with value: 0.08516852002236687 and parameters: {'lambda_l1': 4.912051228685587e-05, 'lambda_l2': 0.0013239907551426526}. Best is trial 40 with value: 0.08428598796595721.\n",
      "regularization_factors, val_score: 0.082208:  10%|1| 2/20 [00:00<00:03,  4.70it/"
     ]
    },
    {
     "name": "stdout",
     "output_type": "stream",
     "text": [
      "[100]\tcv_agg's binary_logloss: 0.0856075 + 0.052457\n",
      "Early stopping, best iteration is:\n",
      "[74]\tcv_agg's binary_logloss: 0.0822082 + 0.0456384\n"
     ]
    },
    {
     "name": "stderr",
     "output_type": "stream",
     "text": [
      "regularization_factors, val_score: 0.082208:  15%|1| 3/20 [00:00<00:03,  4.61it/[I 2023-08-21 22:10:59,285] Trial 42 finished with value: 0.08712674688136761 and parameters: {'lambda_l1': 4.727247869485069e-05, 'lambda_l2': 0.0010076636410243413}. Best is trial 40 with value: 0.08428598796595721.\n",
      "regularization_factors, val_score: 0.082208:  15%|1| 3/20 [00:00<00:03,  4.61it/"
     ]
    },
    {
     "name": "stdout",
     "output_type": "stream",
     "text": [
      "[100]\tcv_agg's binary_logloss: 0.0858331 + 0.0594385\n",
      "Early stopping, best iteration is:\n",
      "[74]\tcv_agg's binary_logloss: 0.0822082 + 0.0456384\n"
     ]
    },
    {
     "name": "stderr",
     "output_type": "stream",
     "text": [
      "regularization_factors, val_score: 0.082208:  20%|2| 4/20 [00:00<00:03,  4.19it/[I 2023-08-21 22:10:59,558] Trial 43 finished with value: 0.08920803387507563 and parameters: {'lambda_l1': 3.141166650979339e-05, 'lambda_l2': 0.0013556719530545779}. Best is trial 40 with value: 0.08428598796595721.\n",
      "regularization_factors, val_score: 0.082208:  20%|2| 4/20 [00:00<00:03,  4.19it/"
     ]
    },
    {
     "name": "stdout",
     "output_type": "stream",
     "text": [
      "[100]\tcv_agg's binary_logloss: 0.087839 + 0.0577538\n",
      "Early stopping, best iteration is:\n",
      "[74]\tcv_agg's binary_logloss: 0.0822082 + 0.0456384\n"
     ]
    },
    {
     "name": "stderr",
     "output_type": "stream",
     "text": [
      "regularization_factors, val_score: 0.082208:  25%|2| 5/20 [00:01<00:03,  4.33it/[I 2023-08-21 22:10:59,774] Trial 44 finished with value: 0.08369100880365986 and parameters: {'lambda_l1': 4.310646474654832e-05, 'lambda_l2': 0.0015425258087306188}. Best is trial 44 with value: 0.08369100880365986.\n",
      "regularization_factors, val_score: 0.082208:  25%|2| 5/20 [00:01<00:03,  4.33it/"
     ]
    },
    {
     "name": "stdout",
     "output_type": "stream",
     "text": [
      "[100]\tcv_agg's binary_logloss: 0.0855277 + 0.052606\n",
      "Early stopping, best iteration is:\n",
      "[74]\tcv_agg's binary_logloss: 0.0822082 + 0.0456384\n"
     ]
    },
    {
     "name": "stderr",
     "output_type": "stream",
     "text": [
      "regularization_factors, val_score: 0.082208:  30%|3| 6/20 [00:01<00:03,  4.36it/[I 2023-08-21 22:11:00,000] Trial 45 finished with value: 0.08851290343621618 and parameters: {'lambda_l1': 2.0324759861303166e-05, 'lambda_l2': 0.002400889833498311}. Best is trial 44 with value: 0.08369100880365986.\n",
      "regularization_factors, val_score: 0.082208:  30%|3| 6/20 [00:01<00:03,  4.36it/"
     ]
    },
    {
     "name": "stdout",
     "output_type": "stream",
     "text": [
      "[100]\tcv_agg's binary_logloss: 0.0882102 + 0.0576995\n",
      "Early stopping, best iteration is:\n",
      "[74]\tcv_agg's binary_logloss: 0.0822082 + 0.0456384\n"
     ]
    },
    {
     "name": "stderr",
     "output_type": "stream",
     "text": [
      "regularization_factors, val_score: 0.082208:  35%|3| 7/20 [00:01<00:02,  4.41it/[I 2023-08-21 22:11:00,222] Trial 46 finished with value: 0.08556339806682363 and parameters: {'lambda_l1': 0.00604302201599881, 'lambda_l2': 9.984305972575779e-06}. Best is trial 44 with value: 0.08369100880365986.\n",
      "regularization_factors, val_score: 0.082208:  35%|3| 7/20 [00:01<00:02,  4.41it/"
     ]
    },
    {
     "name": "stdout",
     "output_type": "stream",
     "text": [
      "[100]\tcv_agg's binary_logloss: 0.0881406 + 0.0541365\n",
      "Early stopping, best iteration is:\n",
      "[74]\tcv_agg's binary_logloss: 0.0822082 + 0.0456384\n",
      "[100]\tcv_agg's binary_logloss: 0.0934396 + 0.0442893\n"
     ]
    },
    {
     "name": "stderr",
     "output_type": "stream",
     "text": [
      "regularization_factors, val_score: 0.082208:  40%|4| 8/20 [00:01<00:02,  4.65it/[I 2023-08-21 22:11:00,412] Trial 47 finished with value: 0.09771498947163068 and parameters: {'lambda_l1': 6.44431400224562e-08, 'lambda_l2': 1.2403891425581957}. Best is trial 44 with value: 0.08369100880365986.\n",
      "regularization_factors, val_score: 0.082208:  45%|4| 9/20 [00:01<00:02,  5.21it/[I 2023-08-21 22:11:00,553] Trial 48 finished with value: 0.24515206497930087 and parameters: {'lambda_l1': 9.698100049394887, 'lambda_l2': 1.1036300850763669e-08}. Best is trial 44 with value: 0.08369100880365986.\n",
      "regularization_factors, val_score: 0.082208:  45%|4| 9/20 [00:01<00:02,  5.21it/"
     ]
    },
    {
     "name": "stdout",
     "output_type": "stream",
     "text": [
      "Early stopping, best iteration is:\n",
      "[74]\tcv_agg's binary_logloss: 0.0822082 + 0.0456384\n",
      "[100]\tcv_agg's binary_logloss: 0.238225 + 0.10929\n",
      "Early stopping, best iteration is:\n",
      "[74]\tcv_agg's binary_logloss: 0.0822082 + 0.0456384\n"
     ]
    },
    {
     "name": "stderr",
     "output_type": "stream",
     "text": [
      "regularization_factors, val_score: 0.082208:  50%|5| 10/20 [00:02<00:01,  5.14it[I 2023-08-21 22:11:00,754] Trial 49 finished with value: 0.08708173199814304 and parameters: {'lambda_l1': 2.0565030295960634e-06, 'lambda_l2': 0.021687922437480123}. Best is trial 44 with value: 0.08369100880365986.\n",
      "regularization_factors, val_score: 0.082208:  50%|5| 10/20 [00:02<00:01,  5.14it"
     ]
    },
    {
     "name": "stdout",
     "output_type": "stream",
     "text": [
      "[100]\tcv_agg's binary_logloss: 0.0868683 + 0.0555196\n",
      "Early stopping, best iteration is:\n",
      "[74]\tcv_agg's binary_logloss: 0.0822082 + 0.0456384\n"
     ]
    },
    {
     "name": "stderr",
     "output_type": "stream",
     "text": [
      "regularization_factors, val_score: 0.082208:  55%|5| 11/20 [00:02<00:01,  4.81it[I 2023-08-21 22:11:00,992] Trial 50 finished with value: 0.08958443628633483 and parameters: {'lambda_l1': 0.0011822185419652295, 'lambda_l2': 5.7028575523150536e-05}. Best is trial 44 with value: 0.08369100880365986.\n",
      "regularization_factors, val_score: 0.082208:  55%|5| 11/20 [00:02<00:01,  4.81it"
     ]
    },
    {
     "name": "stdout",
     "output_type": "stream",
     "text": [
      "[100]\tcv_agg's binary_logloss: 0.0871604 + 0.0547628\n",
      "Early stopping, best iteration is:\n",
      "[74]\tcv_agg's binary_logloss: 0.0822082 + 0.0456384\n"
     ]
    },
    {
     "name": "stderr",
     "output_type": "stream",
     "text": [
      "regularization_factors, val_score: 0.082208:  60%|6| 12/20 [00:02<00:01,  4.72it[I 2023-08-21 22:11:01,212] Trial 51 finished with value: 0.08821560589889683 and parameters: {'lambda_l1': 0.0008069890801333366, 'lambda_l2': 3.429862847058305e-05}. Best is trial 44 with value: 0.08369100880365986.\n",
      "regularization_factors, val_score: 0.082208:  60%|6| 12/20 [00:02<00:01,  4.72it"
     ]
    },
    {
     "name": "stdout",
     "output_type": "stream",
     "text": [
      "[100]\tcv_agg's binary_logloss: 0.087495 + 0.0539659\n",
      "Early stopping, best iteration is:\n",
      "[74]\tcv_agg's binary_logloss: 0.0822082 + 0.0456384\n"
     ]
    },
    {
     "name": "stderr",
     "output_type": "stream",
     "text": [
      "regularization_factors, val_score: 0.082208:  65%|6| 13/20 [00:02<00:01,  4.67it[I 2023-08-21 22:11:01,432] Trial 52 finished with value: 0.08737178860533078 and parameters: {'lambda_l1': 0.002973539664471505, 'lambda_l2': 2.4564723100270715e-05}. Best is trial 44 with value: 0.08369100880365986.\n",
      "regularization_factors, val_score: 0.082208:  65%|6| 13/20 [00:02<00:01,  4.67it"
     ]
    },
    {
     "name": "stdout",
     "output_type": "stream",
     "text": [
      "[100]\tcv_agg's binary_logloss: 0.0838272 + 0.0563787\n",
      "Early stopping, best iteration is:\n",
      "[74]\tcv_agg's binary_logloss: 0.0822082 + 0.0456384\n"
     ]
    },
    {
     "name": "stderr",
     "output_type": "stream",
     "text": [
      "regularization_factors, val_score: 0.082208:  70%|7| 14/20 [00:02<00:01,  4.74it[I 2023-08-21 22:11:01,636] Trial 53 finished with value: 0.0865168833813647 and parameters: {'lambda_l1': 0.009233224690819872, 'lambda_l2': 0.007835358218951358}. Best is trial 44 with value: 0.08369100880365986.\n",
      "regularization_factors, val_score: 0.082208:  70%|7| 14/20 [00:02<00:01,  4.74it"
     ]
    },
    {
     "name": "stdout",
     "output_type": "stream",
     "text": [
      "[100]\tcv_agg's binary_logloss: 0.0875725 + 0.0575563\n",
      "Early stopping, best iteration is:\n",
      "[74]\tcv_agg's binary_logloss: 0.0822082 + 0.0456384\n"
     ]
    },
    {
     "name": "stderr",
     "output_type": "stream",
     "text": [
      "regularization_factors, val_score: 0.082208:  75%|7| 15/20 [00:03<00:01,  4.57it[I 2023-08-21 22:11:01,873] Trial 54 finished with value: 0.08724838873720202 and parameters: {'lambda_l1': 1.5198019941002258e-05, 'lambda_l2': 0.00015227527699226962}. Best is trial 44 with value: 0.08369100880365986.\n",
      "regularization_factors, val_score: 0.082208:  75%|7| 15/20 [00:03<00:01,  4.57it"
     ]
    },
    {
     "name": "stdout",
     "output_type": "stream",
     "text": [
      "[100]\tcv_agg's binary_logloss: 0.0867669 + 0.0554066\n",
      "Early stopping, best iteration is:\n",
      "[74]\tcv_agg's binary_logloss: 0.0822082 + 0.0456384\n"
     ]
    },
    {
     "name": "stderr",
     "output_type": "stream",
     "text": [
      "regularization_factors, val_score: 0.082208:  80%|8| 16/20 [00:03<00:01,  3.82it[I 2023-08-21 22:11:02,235] Trial 55 finished with value: 0.08720088525948835 and parameters: {'lambda_l1': 0.0002337251326827309, 'lambda_l2': 4.446779293825231e-06}. Best is trial 44 with value: 0.08369100880365986.\n",
      "regularization_factors, val_score: 0.082208:  80%|8| 16/20 [00:03<00:01,  3.82it"
     ]
    },
    {
     "name": "stdout",
     "output_type": "stream",
     "text": [
      "[100]\tcv_agg's binary_logloss: 0.0849466 + 0.0562048\n",
      "Early stopping, best iteration is:\n",
      "[74]\tcv_agg's binary_logloss: 0.0822082 + 0.0456384\n"
     ]
    },
    {
     "name": "stderr",
     "output_type": "stream",
     "text": [
      "regularization_factors, val_score: 0.082208:  85%|8| 17/20 [00:03<00:00,  4.09it[I 2023-08-21 22:11:02,440] Trial 56 finished with value: 0.09025959002565234 and parameters: {'lambda_l1': 1.4038142015113656e-06, 'lambda_l2': 0.03267594953436853}. Best is trial 44 with value: 0.08369100880365986.\n",
      "regularization_factors, val_score: 0.082208:  85%|8| 17/20 [00:03<00:00,  4.09it"
     ]
    },
    {
     "name": "stdout",
     "output_type": "stream",
     "text": [
      "[100]\tcv_agg's binary_logloss: 0.0914955 + 0.0538664\n",
      "Early stopping, best iteration is:\n",
      "[74]\tcv_agg's binary_logloss: 0.0822082 + 0.0456384\n"
     ]
    },
    {
     "name": "stderr",
     "output_type": "stream",
     "text": [
      "regularization_factors, val_score: 0.082208:  90%|9| 18/20 [00:04<00:00,  3.57it[I 2023-08-21 22:11:02,802] Trial 57 finished with value: 0.08966473639788373 and parameters: {'lambda_l1': 0.0002859336934420641, 'lambda_l2': 0.0004981745448228717}. Best is trial 44 with value: 0.08369100880365986.\n",
      "regularization_factors, val_score: 0.082208:  90%|9| 18/20 [00:04<00:00,  3.57it"
     ]
    },
    {
     "name": "stdout",
     "output_type": "stream",
     "text": [
      "[100]\tcv_agg's binary_logloss: 0.0889347 + 0.0580655\n",
      "Early stopping, best iteration is:\n",
      "[74]\tcv_agg's binary_logloss: 0.0822082 + 0.0456384\n"
     ]
    },
    {
     "name": "stderr",
     "output_type": "stream",
     "text": [
      "regularization_factors, val_score: 0.080137:  95%|9| 19/20 [00:04<00:00,  3.33it[I 2023-08-21 22:11:03,149] Trial 58 finished with value: 0.08013725383887753 and parameters: {'lambda_l1': 0.029673352120388748, 'lambda_l2': 4.046451579674758e-06}. Best is trial 58 with value: 0.08013725383887753.\n",
      "regularization_factors, val_score: 0.080137:  95%|9| 19/20 [00:04<00:00,  3.33it"
     ]
    },
    {
     "name": "stdout",
     "output_type": "stream",
     "text": [
      "[100]\tcv_agg's binary_logloss: 0.08311 + 0.0517576\n",
      "[200]\tcv_agg's binary_logloss: 0.0920694 + 0.0674697\n",
      "Early stopping, best iteration is:\n",
      "[104]\tcv_agg's binary_logloss: 0.0801373 + 0.0496581\n"
     ]
    },
    {
     "name": "stderr",
     "output_type": "stream",
     "text": [
      "regularization_factors, val_score: 0.080137: 100%|#| 20/20 [00:04<00:00,  3.62it[I 2023-08-21 22:11:03,370] Trial 59 finished with value: 0.08630149291516781 and parameters: {'lambda_l1': 0.04703769438999932, 'lambda_l2': 1.5982673311651538e-06}. Best is trial 58 with value: 0.08013725383887753.\n",
      "regularization_factors, val_score: 0.080137: 100%|#| 20/20 [00:04<00:00,  4.22it\n"
     ]
    },
    {
     "name": "stdout",
     "output_type": "stream",
     "text": [
      "[100]\tcv_agg's binary_logloss: 0.0883657 + 0.0505038\n",
      "[200]\tcv_agg's binary_logloss: 0.0930146 + 0.0643079\n",
      "Early stopping, best iteration is:\n",
      "[104]\tcv_agg's binary_logloss: 0.0801373 + 0.0496581\n"
     ]
    },
    {
     "name": "stderr",
     "output_type": "stream",
     "text": [
      "min_data_in_leaf, val_score: 0.080137:  20%|#2    | 1/5 [00:00<00:00,  4.31it/s][I 2023-08-21 22:11:03,609] Trial 60 finished with value: 0.11070877606151433 and parameters: {'min_child_samples': 10}. Best is trial 60 with value: 0.11070877606151433.\n",
      "min_data_in_leaf, val_score: 0.080137:  20%|#2    | 1/5 [00:00<00:00,  4.31it/s]"
     ]
    },
    {
     "name": "stdout",
     "output_type": "stream",
     "text": [
      "[100]\tcv_agg's binary_logloss: 0.110198 + 0.0830926\n",
      "[200]\tcv_agg's binary_logloss: 0.115981 + 0.0951616\n",
      "Early stopping, best iteration is:\n",
      "[104]\tcv_agg's binary_logloss: 0.0801373 + 0.0496581\n"
     ]
    },
    {
     "name": "stderr",
     "output_type": "stream",
     "text": [
      "min_data_in_leaf, val_score: 0.080137:  40%|##4   | 2/5 [00:00<00:00,  4.54it/s][I 2023-08-21 22:11:03,822] Trial 61 finished with value: 0.08455274330099133 and parameters: {'min_child_samples': 25}. Best is trial 61 with value: 0.08455274330099133.\n",
      "min_data_in_leaf, val_score: 0.080137:  40%|##4   | 2/5 [00:00<00:00,  4.54it/s]"
     ]
    },
    {
     "name": "stdout",
     "output_type": "stream",
     "text": [
      "[100]\tcv_agg's binary_logloss: 0.0842193 + 0.0463547\n",
      "[200]\tcv_agg's binary_logloss: 0.0874505 + 0.0522998\n",
      "Early stopping, best iteration is:\n",
      "[104]\tcv_agg's binary_logloss: 0.0801373 + 0.0496581\n"
     ]
    },
    {
     "name": "stderr",
     "output_type": "stream",
     "text": [
      "min_data_in_leaf, val_score: 0.080137:  60%|###6  | 3/5 [00:00<00:00,  3.14it/s][I 2023-08-21 22:11:04,256] Trial 62 finished with value: 0.11964273266914292 and parameters: {'min_child_samples': 5}. Best is trial 61 with value: 0.08455274330099133.\n",
      "min_data_in_leaf, val_score: 0.080137:  60%|###6  | 3/5 [00:00<00:00,  3.14it/s]"
     ]
    },
    {
     "name": "stdout",
     "output_type": "stream",
     "text": [
      "[100]\tcv_agg's binary_logloss: 0.119501 + 0.0888685\n",
      "[200]\tcv_agg's binary_logloss: 0.119143 + 0.0972056\n",
      "Early stopping, best iteration is:\n",
      "[104]\tcv_agg's binary_logloss: 0.0801373 + 0.0496581\n"
     ]
    },
    {
     "name": "stderr",
     "output_type": "stream",
     "text": [
      "min_data_in_leaf, val_score: 0.080137:  80%|####8 | 4/5 [00:01<00:00,  3.60it/s][I 2023-08-21 22:11:04,473] Trial 63 finished with value: 0.25217442272105056 and parameters: {'min_child_samples': 50}. Best is trial 61 with value: 0.08455274330099133.\n",
      "min_data_in_leaf, val_score: 0.080137:  80%|####8 | 4/5 [00:01<00:00,  3.60it/s]"
     ]
    },
    {
     "name": "stdout",
     "output_type": "stream",
     "text": [
      "[100]\tcv_agg's binary_logloss: 0.251805 + 0.307742\n",
      "[200]\tcv_agg's binary_logloss: 0.244831 + 0.311737\n",
      "Early stopping, best iteration is:\n",
      "[104]\tcv_agg's binary_logloss: 0.0801373 + 0.0496581\n",
      "[100]\tcv_agg's binary_logloss: 0.424512 + 0.323707\n"
     ]
    },
    {
     "name": "stderr",
     "output_type": "stream",
     "text": [
      "min_data_in_leaf, val_score: 0.080137: 100%|######| 5/5 [00:01<00:00,  4.11it/s][I 2023-08-21 22:11:04,655] Trial 64 finished with value: 0.4257795855803162 and parameters: {'min_child_samples': 100}. Best is trial 61 with value: 0.08455274330099133.\n",
      "min_data_in_leaf, val_score: 0.080137: 100%|######| 5/5 [00:01<00:00,  3.91it/s]"
     ]
    },
    {
     "name": "stdout",
     "output_type": "stream",
     "text": [
      "[200]\tcv_agg's binary_logloss: 0.421852 + 0.326334\n",
      "Early stopping, best iteration is:\n",
      "[104]\tcv_agg's binary_logloss: 0.0801373 + 0.0496581\n",
      "Best score: 0.08013725383887753\n",
      "Best params: {'objective': 'binary', 'metric': 'binary_logloss', 'verbosity': -1, 'boosting_type': 'gbdt', 'feature_pre_filter': False, 'lambda_l1': 0.029673352120388748, 'lambda_l2': 4.046451579674758e-06, 'num_leaves': 16, 'feature_fraction': 0.4, 'bagging_fraction': 0.6764617799335896, 'bagging_freq': 7, 'min_child_samples': 20}\n",
      "  Params: \n",
      "    objective: binary\n",
      "    metric: binary_logloss\n",
      "    verbosity: -1\n",
      "    boosting_type: gbdt\n",
      "    feature_pre_filter: False\n",
      "    lambda_l1: 0.029673352120388748\n",
      "    lambda_l2: 4.046451579674758e-06\n",
      "    num_leaves: 16\n",
      "    feature_fraction: 0.4\n",
      "    bagging_fraction: 0.6764617799335896\n",
      "    bagging_freq: 7\n",
      "    min_child_samples: 20\n"
     ]
    },
    {
     "name": "stderr",
     "output_type": "stream",
     "text": [
      "\n"
     ]
    }
   ],
   "source": [
    "data, target = sklearn.datasets.load_breast_cancer(return_X_y=True)\n",
    "dtrain = lgb.Dataset(data, label=target)\n",
    "\n",
    "params = {\n",
    "    \"objective\": \"binary\",\n",
    "    \"metric\": \"binary_logloss\",\n",
    "    \"verbosity\": -1,\n",
    "    \"boosting_type\": \"gbdt\",\n",
    "}\n",
    "\n",
    "tuner = lgb.LightGBMTunerCV(\n",
    "    params,\n",
    "    dtrain,\n",
    "    folds=TimeSeriesSplit(n_splits=4),\n",
    "    callbacks=[early_stopping(100), log_evaluation(100)],\n",
    ")\n",
    "\n",
    "tuner.run()\n",
    "\n",
    "print(\"Best score:\", tuner.best_score)\n",
    "best_params = tuner.best_params\n",
    "print(\"Best params:\", best_params)\n",
    "print(\"  Params: \")\n",
    "for key, value in best_params.items():\n",
    "    print(\"    {}: {}\".format(key, value))"
   ]
  },
  {
   "cell_type": "code",
   "execution_count": 10,
   "id": "3edfe0c4-da96-406f-b264-bd656506f4b8",
   "metadata": {},
   "outputs": [
    {
     "data": {
      "text/plain": [
       "{'objective': 'binary',\n",
       " 'metric': 'binary_logloss',\n",
       " 'verbosity': -1,\n",
       " 'boosting_type': 'gbdt',\n",
       " 'feature_pre_filter': False,\n",
       " 'lambda_l1': 9.591707799735657e-06,\n",
       " 'lambda_l2': 3.427943333382088e-06,\n",
       " 'num_leaves': 3,\n",
       " 'feature_fraction': 0.5,\n",
       " 'bagging_fraction': 0.8353723328586016,\n",
       " 'bagging_freq': 4,\n",
       " 'min_child_samples': 25}"
      ]
     },
     "execution_count": 10,
     "metadata": {},
     "output_type": "execute_result"
    }
   ],
   "source": [
    "best_params"
   ]
  },
  {
   "cell_type": "code",
   "execution_count": 14,
   "id": "60e2ae41-83ff-42d9-8222-de8e28690378",
   "metadata": {},
   "outputs": [
    {
     "data": {
      "text/plain": [
       "{'objective': 'binary',\n",
       " 'metric': 'binary_logloss',\n",
       " 'verbosity': -1,\n",
       " 'boosting_type': 'gbdt',\n",
       " 'feature_pre_filter': False,\n",
       " 'lambda_l1': 0.029673352120388748,\n",
       " 'lambda_l2': 4.046451579674758e-06,\n",
       " 'num_leaves': 16,\n",
       " 'feature_fraction': 0.4,\n",
       " 'bagging_fraction': 0.6764617799335896,\n",
       " 'bagging_freq': 7,\n",
       " 'min_child_samples': 20}"
      ]
     },
     "execution_count": 14,
     "metadata": {},
     "output_type": "execute_result"
    }
   ],
   "source": [
    "best_params"
   ]
  },
  {
   "cell_type": "code",
   "execution_count": 20,
   "id": "05b3f5ea-6db7-4c3a-92ae-608bd51b99b7",
   "metadata": {},
   "outputs": [],
   "source": [
    "from lightgbm import LGBMClassifier"
   ]
  },
  {
   "cell_type": "code",
   "execution_count": 43,
   "id": "00c8b34a-81c9-4544-a06e-c03b9bc6d562",
   "metadata": {},
   "outputs": [
    {
     "data": {
      "text/plain": [
       "{'lambda_l1': 6.493413208962661e-07,\n",
       " 'lambda_l2': 0.00048147289273148844,\n",
       " 'num_leaves': 225}"
      ]
     },
     "execution_count": 43,
     "metadata": {},
     "output_type": "execute_result"
    }
   ],
   "source": [
    "trial.params"
   ]
  },
  {
   "cell_type": "code",
   "execution_count": 44,
   "id": "c14c40aa-d3b0-4b79-9b9e-a573c2822d83",
   "metadata": {},
   "outputs": [
    {
     "data": {
      "text/html": [
       "<style>#sk-container-id-1 {color: black;background-color: white;}#sk-container-id-1 pre{padding: 0;}#sk-container-id-1 div.sk-toggleable {background-color: white;}#sk-container-id-1 label.sk-toggleable__label {cursor: pointer;display: block;width: 100%;margin-bottom: 0;padding: 0.3em;box-sizing: border-box;text-align: center;}#sk-container-id-1 label.sk-toggleable__label-arrow:before {content: \"▸\";float: left;margin-right: 0.25em;color: #696969;}#sk-container-id-1 label.sk-toggleable__label-arrow:hover:before {color: black;}#sk-container-id-1 div.sk-estimator:hover label.sk-toggleable__label-arrow:before {color: black;}#sk-container-id-1 div.sk-toggleable__content {max-height: 0;max-width: 0;overflow: hidden;text-align: left;background-color: #f0f8ff;}#sk-container-id-1 div.sk-toggleable__content pre {margin: 0.2em;color: black;border-radius: 0.25em;background-color: #f0f8ff;}#sk-container-id-1 input.sk-toggleable__control:checked~div.sk-toggleable__content {max-height: 200px;max-width: 100%;overflow: auto;}#sk-container-id-1 input.sk-toggleable__control:checked~label.sk-toggleable__label-arrow:before {content: \"▾\";}#sk-container-id-1 div.sk-estimator input.sk-toggleable__control:checked~label.sk-toggleable__label {background-color: #d4ebff;}#sk-container-id-1 div.sk-label input.sk-toggleable__control:checked~label.sk-toggleable__label {background-color: #d4ebff;}#sk-container-id-1 input.sk-hidden--visually {border: 0;clip: rect(1px 1px 1px 1px);clip: rect(1px, 1px, 1px, 1px);height: 1px;margin: -1px;overflow: hidden;padding: 0;position: absolute;width: 1px;}#sk-container-id-1 div.sk-estimator {font-family: monospace;background-color: #f0f8ff;border: 1px dotted black;border-radius: 0.25em;box-sizing: border-box;margin-bottom: 0.5em;}#sk-container-id-1 div.sk-estimator:hover {background-color: #d4ebff;}#sk-container-id-1 div.sk-parallel-item::after {content: \"\";width: 100%;border-bottom: 1px solid gray;flex-grow: 1;}#sk-container-id-1 div.sk-label:hover label.sk-toggleable__label {background-color: #d4ebff;}#sk-container-id-1 div.sk-serial::before {content: \"\";position: absolute;border-left: 1px solid gray;box-sizing: border-box;top: 0;bottom: 0;left: 50%;z-index: 0;}#sk-container-id-1 div.sk-serial {display: flex;flex-direction: column;align-items: center;background-color: white;padding-right: 0.2em;padding-left: 0.2em;position: relative;}#sk-container-id-1 div.sk-item {position: relative;z-index: 1;}#sk-container-id-1 div.sk-parallel {display: flex;align-items: stretch;justify-content: center;background-color: white;position: relative;}#sk-container-id-1 div.sk-item::before, #sk-container-id-1 div.sk-parallel-item::before {content: \"\";position: absolute;border-left: 1px solid gray;box-sizing: border-box;top: 0;bottom: 0;left: 50%;z-index: -1;}#sk-container-id-1 div.sk-parallel-item {display: flex;flex-direction: column;z-index: 1;position: relative;background-color: white;}#sk-container-id-1 div.sk-parallel-item:first-child::after {align-self: flex-end;width: 50%;}#sk-container-id-1 div.sk-parallel-item:last-child::after {align-self: flex-start;width: 50%;}#sk-container-id-1 div.sk-parallel-item:only-child::after {width: 0;}#sk-container-id-1 div.sk-dashed-wrapped {border: 1px dashed gray;margin: 0 0.4em 0.5em 0.4em;box-sizing: border-box;padding-bottom: 0.4em;background-color: white;}#sk-container-id-1 div.sk-label label {font-family: monospace;font-weight: bold;display: inline-block;line-height: 1.2em;}#sk-container-id-1 div.sk-label-container {text-align: center;}#sk-container-id-1 div.sk-container {/* jupyter's `normalize.less` sets `[hidden] { display: none; }` but bootstrap.min.css set `[hidden] { display: none !important; }` so we also need the `!important` here to be able to override the default hidden behavior on the sphinx rendered scikit-learn.org. See: https://github.com/scikit-learn/scikit-learn/issues/21755 */display: inline-block !important;position: relative;}#sk-container-id-1 div.sk-text-repr-fallback {display: none;}</style><div id=\"sk-container-id-1\" class=\"sk-top-container\"><div class=\"sk-text-repr-fallback\"><pre>LGBMClassifier(lambda_l1=6.493413208962661e-07,\n",
       "               lambda_l2=0.00048147289273148844, num_leaves=225)</pre><b>In a Jupyter environment, please rerun this cell to show the HTML representation or trust the notebook. <br />On GitHub, the HTML representation is unable to render, please try loading this page with nbviewer.org.</b></div><div class=\"sk-container\" hidden><div class=\"sk-item\"><div class=\"sk-estimator sk-toggleable\"><input class=\"sk-toggleable__control sk-hidden--visually\" id=\"sk-estimator-id-1\" type=\"checkbox\" checked><label for=\"sk-estimator-id-1\" class=\"sk-toggleable__label sk-toggleable__label-arrow\">LGBMClassifier</label><div class=\"sk-toggleable__content\"><pre>LGBMClassifier(lambda_l1=6.493413208962661e-07,\n",
       "               lambda_l2=0.00048147289273148844, num_leaves=225)</pre></div></div></div></div></div>"
      ],
      "text/plain": [
       "LGBMClassifier(lambda_l1=6.493413208962661e-07,\n",
       "               lambda_l2=0.00048147289273148844, num_leaves=225)"
      ]
     },
     "execution_count": 44,
     "metadata": {},
     "output_type": "execute_result"
    }
   ],
   "source": [
    "trial = optuna_search.study_.best_trial\n",
    "trial.params.items()\n",
    "clf.set_params(**trial.params)"
   ]
  },
  {
   "cell_type": "code",
   "execution_count": 45,
   "id": "b6332b05-43ed-4c50-990f-61c571535252",
   "metadata": {},
   "outputs": [
    {
     "data": {
      "text/html": [
       "<style>#sk-container-id-2 {color: black;background-color: white;}#sk-container-id-2 pre{padding: 0;}#sk-container-id-2 div.sk-toggleable {background-color: white;}#sk-container-id-2 label.sk-toggleable__label {cursor: pointer;display: block;width: 100%;margin-bottom: 0;padding: 0.3em;box-sizing: border-box;text-align: center;}#sk-container-id-2 label.sk-toggleable__label-arrow:before {content: \"▸\";float: left;margin-right: 0.25em;color: #696969;}#sk-container-id-2 label.sk-toggleable__label-arrow:hover:before {color: black;}#sk-container-id-2 div.sk-estimator:hover label.sk-toggleable__label-arrow:before {color: black;}#sk-container-id-2 div.sk-toggleable__content {max-height: 0;max-width: 0;overflow: hidden;text-align: left;background-color: #f0f8ff;}#sk-container-id-2 div.sk-toggleable__content pre {margin: 0.2em;color: black;border-radius: 0.25em;background-color: #f0f8ff;}#sk-container-id-2 input.sk-toggleable__control:checked~div.sk-toggleable__content {max-height: 200px;max-width: 100%;overflow: auto;}#sk-container-id-2 input.sk-toggleable__control:checked~label.sk-toggleable__label-arrow:before {content: \"▾\";}#sk-container-id-2 div.sk-estimator input.sk-toggleable__control:checked~label.sk-toggleable__label {background-color: #d4ebff;}#sk-container-id-2 div.sk-label input.sk-toggleable__control:checked~label.sk-toggleable__label {background-color: #d4ebff;}#sk-container-id-2 input.sk-hidden--visually {border: 0;clip: rect(1px 1px 1px 1px);clip: rect(1px, 1px, 1px, 1px);height: 1px;margin: -1px;overflow: hidden;padding: 0;position: absolute;width: 1px;}#sk-container-id-2 div.sk-estimator {font-family: monospace;background-color: #f0f8ff;border: 1px dotted black;border-radius: 0.25em;box-sizing: border-box;margin-bottom: 0.5em;}#sk-container-id-2 div.sk-estimator:hover {background-color: #d4ebff;}#sk-container-id-2 div.sk-parallel-item::after {content: \"\";width: 100%;border-bottom: 1px solid gray;flex-grow: 1;}#sk-container-id-2 div.sk-label:hover label.sk-toggleable__label {background-color: #d4ebff;}#sk-container-id-2 div.sk-serial::before {content: \"\";position: absolute;border-left: 1px solid gray;box-sizing: border-box;top: 0;bottom: 0;left: 50%;z-index: 0;}#sk-container-id-2 div.sk-serial {display: flex;flex-direction: column;align-items: center;background-color: white;padding-right: 0.2em;padding-left: 0.2em;position: relative;}#sk-container-id-2 div.sk-item {position: relative;z-index: 1;}#sk-container-id-2 div.sk-parallel {display: flex;align-items: stretch;justify-content: center;background-color: white;position: relative;}#sk-container-id-2 div.sk-item::before, #sk-container-id-2 div.sk-parallel-item::before {content: \"\";position: absolute;border-left: 1px solid gray;box-sizing: border-box;top: 0;bottom: 0;left: 50%;z-index: -1;}#sk-container-id-2 div.sk-parallel-item {display: flex;flex-direction: column;z-index: 1;position: relative;background-color: white;}#sk-container-id-2 div.sk-parallel-item:first-child::after {align-self: flex-end;width: 50%;}#sk-container-id-2 div.sk-parallel-item:last-child::after {align-self: flex-start;width: 50%;}#sk-container-id-2 div.sk-parallel-item:only-child::after {width: 0;}#sk-container-id-2 div.sk-dashed-wrapped {border: 1px dashed gray;margin: 0 0.4em 0.5em 0.4em;box-sizing: border-box;padding-bottom: 0.4em;background-color: white;}#sk-container-id-2 div.sk-label label {font-family: monospace;font-weight: bold;display: inline-block;line-height: 1.2em;}#sk-container-id-2 div.sk-label-container {text-align: center;}#sk-container-id-2 div.sk-container {/* jupyter's `normalize.less` sets `[hidden] { display: none; }` but bootstrap.min.css set `[hidden] { display: none !important; }` so we also need the `!important` here to be able to override the default hidden behavior on the sphinx rendered scikit-learn.org. See: https://github.com/scikit-learn/scikit-learn/issues/21755 */display: inline-block !important;position: relative;}#sk-container-id-2 div.sk-text-repr-fallback {display: none;}</style><div id=\"sk-container-id-2\" class=\"sk-top-container\"><div class=\"sk-text-repr-fallback\"><pre>LGBMClassifier(lambda_l1=6.493413208962661e-07,\n",
       "               lambda_l2=0.00048147289273148844, num_leaves=225)</pre><b>In a Jupyter environment, please rerun this cell to show the HTML representation or trust the notebook. <br />On GitHub, the HTML representation is unable to render, please try loading this page with nbviewer.org.</b></div><div class=\"sk-container\" hidden><div class=\"sk-item\"><div class=\"sk-estimator sk-toggleable\"><input class=\"sk-toggleable__control sk-hidden--visually\" id=\"sk-estimator-id-2\" type=\"checkbox\" checked><label for=\"sk-estimator-id-2\" class=\"sk-toggleable__label sk-toggleable__label-arrow\">LGBMClassifier</label><div class=\"sk-toggleable__content\"><pre>LGBMClassifier(lambda_l1=6.493413208962661e-07,\n",
       "               lambda_l2=0.00048147289273148844, num_leaves=225)</pre></div></div></div></div></div>"
      ],
      "text/plain": [
       "LGBMClassifier(lambda_l1=6.493413208962661e-07,\n",
       "               lambda_l2=0.00048147289273148844, num_leaves=225)"
      ]
     },
     "execution_count": 45,
     "metadata": {},
     "output_type": "execute_result"
    }
   ],
   "source": [
    "clf"
   ]
  },
  {
   "cell_type": "code",
   "execution_count": 54,
   "id": "df281ca9-8e91-4b08-a484-eb58155edad3",
   "metadata": {},
   "outputs": [
    {
     "name": "stderr",
     "output_type": "stream",
     "text": [
      "/var/folders/yn/9gj_99ys1mz0_tkl2kvh5wd40000gn/T/ipykernel_5710/2229661561.py:26: ExperimentalWarning: OptunaSearchCV is experimental (supported from v0.17.0). The interface can change in the future.\n",
      "  optuna_search = optuna.integration.OptunaSearchCV(\n",
      "[I 2023-08-21 22:45:29,124] A new study created in memory with name: no-name-3fa4889e-d9c3-4a25-a34d-37bb4d11ddc5\n",
      "[I 2023-08-21 22:45:33,983] Trial 6 finished with value: 0.5752212389380531 and parameters: {'num_leaves': 21, 'max_depth': 11, 'min_child_samples': 49, 'n_estimators': 219, 'learning_rate': 0.06218368572097539, 'reg_alpha': 361.88928506642173, 'reg_lambda': 57.76207655589538, 'colsample_bytree': 0.485477172781119, 'subsample': 0.9571922256008006}. Best is trial 6 with value: 0.5752212389380531.\n",
      "[I 2023-08-21 22:45:34,760] Trial 11 finished with value: 0.5752212389380531 and parameters: {'num_leaves': 16, 'max_depth': 5, 'min_child_samples': 37, 'n_estimators': 254, 'learning_rate': 0.2087983793311119, 'reg_alpha': 818.7898024615465, 'reg_lambda': 222.26302429734523, 'colsample_bytree': 0.1436321766145432, 'subsample': 0.10878326933894444}. Best is trial 6 with value: 0.5752212389380531.\n",
      "[I 2023-08-21 22:45:34,878] Trial 5 finished with value: 0.5752212389380531 and parameters: {'num_leaves': 17, 'max_depth': 5, 'min_child_samples': 35, 'n_estimators': 263, 'learning_rate': 0.02950143415337218, 'reg_alpha': 872.699183081938, 'reg_lambda': 540.5191739510403, 'colsample_bytree': 0.886688740073514, 'subsample': 0.9631138437514605}. Best is trial 6 with value: 0.5752212389380531.\n",
      "[I 2023-08-21 22:45:35,617] Trial 8 finished with value: 0.5752212389380531 and parameters: {'num_leaves': 6, 'max_depth': 11, 'min_child_samples': 53, 'n_estimators': 297, 'learning_rate': 0.18923491024235398, 'reg_alpha': 976.805239581325, 'reg_lambda': 230.1106874552703, 'colsample_bytree': 0.047835109529219544, 'subsample': 0.8837563611768244}. Best is trial 6 with value: 0.5752212389380531.\n",
      "[I 2023-08-21 22:45:38,416] Trial 13 finished with value: 0.5752212389380531 and parameters: {'num_leaves': 16, 'max_depth': 9, 'min_child_samples': 26, 'n_estimators': 169, 'learning_rate': 0.07497796226662481, 'reg_alpha': 148.890309740482, 'reg_lambda': 871.1663361293956, 'colsample_bytree': 0.8027065136991999, 'subsample': 0.259679283980333}. Best is trial 6 with value: 0.5752212389380531.\n",
      "[I 2023-08-21 22:45:40,181] Trial 3 finished with value: 0.5752212389380531 and parameters: {'num_leaves': 24, 'max_depth': 11, 'min_child_samples': 43, 'n_estimators': 525, 'learning_rate': 0.13924152451521343, 'reg_alpha': 958.6962676581188, 'reg_lambda': 800.6102562566806, 'colsample_bytree': 0.4359290673698134, 'subsample': 0.13456386240234797}. Best is trial 6 with value: 0.5752212389380531.\n",
      "[I 2023-08-21 22:45:40,534] Trial 15 finished with value: 0.5752212389380531 and parameters: {'num_leaves': 7, 'max_depth': 3, 'min_child_samples': 36, 'n_estimators': 228, 'learning_rate': 0.06825198381502215, 'reg_alpha': 193.2777985525509, 'reg_lambda': 760.370271711998, 'colsample_bytree': 0.4183878514502004, 'subsample': 0.42196718592027627}. Best is trial 6 with value: 0.5752212389380531.\n",
      "[I 2023-08-21 22:45:43,299] Trial 0 finished with value: 0.5752212389380531 and parameters: {'num_leaves': 17, 'max_depth': 10, 'min_child_samples': 35, 'n_estimators': 677, 'learning_rate': 0.13474834554791038, 'reg_alpha': 614.5849146839934, 'reg_lambda': 86.21943911329444, 'colsample_bytree': 0.018721043045172636, 'subsample': 0.9012156317296919}. Best is trial 6 with value: 0.5752212389380531.\n",
      "[I 2023-08-21 22:45:43,769] Trial 18 finished with value: 0.5752212389380531 and parameters: {'num_leaves': 10, 'max_depth': 9, 'min_child_samples': 46, 'n_estimators': 147, 'learning_rate': 0.03957619901341948, 'reg_alpha': 608.1256279303753, 'reg_lambda': 644.2292225510363, 'colsample_bytree': 0.5679104287145836, 'subsample': 0.5354871701131316}. Best is trial 6 with value: 0.5752212389380531.\n",
      "[I 2023-08-21 22:45:43,855] Trial 16 finished with value: 0.5752212389380531 and parameters: {'num_leaves': 22, 'max_depth': 8, 'min_child_samples': 45, 'n_estimators': 253, 'learning_rate': 0.20802877067479544, 'reg_alpha': 972.6352141327241, 'reg_lambda': 349.03681824781927, 'colsample_bytree': 0.3522121979328142, 'subsample': 0.8284028495576942}. Best is trial 6 with value: 0.5752212389380531.\n",
      "[I 2023-08-21 22:45:44,027] Trial 1 finished with value: 0.5752212389380531 and parameters: {'num_leaves': 7, 'max_depth': 5, 'min_child_samples': 44, 'n_estimators': 712, 'learning_rate': 0.09397225045088656, 'reg_alpha': 357.6875496335319, 'reg_lambda': 271.7239319689154, 'colsample_bytree': 0.6499479445425335, 'subsample': 0.2875183583570394}. Best is trial 6 with value: 0.5752212389380531.\n",
      "[I 2023-08-21 22:45:46,577] Trial 12 finished with value: 0.5752212389380531 and parameters: {'num_leaves': 13, 'max_depth': 5, 'min_child_samples': 40, 'n_estimators': 596, 'learning_rate': 0.03296191894326019, 'reg_alpha': 424.47071006296466, 'reg_lambda': 168.8284740487017, 'colsample_bytree': 0.7431554965094608, 'subsample': 0.7505236999953787}. Best is trial 6 with value: 0.5752212389380531.\n",
      "[I 2023-08-21 22:45:51,615] Trial 9 finished with value: 0.5752212389380531 and parameters: {'num_leaves': 8, 'max_depth': 2, 'min_child_samples': 31, 'n_estimators': 1067, 'learning_rate': 0.25722953089382655, 'reg_alpha': 129.45682347455445, 'reg_lambda': 49.26641814263122, 'colsample_bytree': 0.13558169159960187, 'subsample': 0.44561837258887915}. Best is trial 6 with value: 0.5752212389380531.\n",
      "[I 2023-08-21 22:45:51,888] Trial 20 finished with value: 0.5752212389380531 and parameters: {'num_leaves': 13, 'max_depth': 1, 'min_child_samples': 31, 'n_estimators': 383, 'learning_rate': 0.030517285275273597, 'reg_alpha': 769.487438245195, 'reg_lambda': 295.4708006894071, 'colsample_bytree': 0.4303551609434023, 'subsample': 0.9333271176258832}. Best is trial 6 with value: 0.5752212389380531.\n",
      "[I 2023-08-21 22:45:53,587] Trial 14 finished with value: 0.5752212389380531 and parameters: {'num_leaves': 4, 'max_depth': 5, 'min_child_samples': 24, 'n_estimators': 894, 'learning_rate': 0.1783756337675777, 'reg_alpha': 851.8248181016236, 'reg_lambda': 54.22106681744254, 'colsample_bytree': 0.30909799883307787, 'subsample': 0.28596947759593416}. Best is trial 6 with value: 0.5752212389380531.\n",
      "[I 2023-08-21 22:45:58,102] Trial 4 finished with value: 0.5752212389380531 and parameters: {'num_leaves': 3, 'max_depth': 13, 'min_child_samples': 40, 'n_estimators': 1383, 'learning_rate': 0.15956021177074434, 'reg_alpha': 850.3034761169486, 'reg_lambda': 21.846687926765473, 'colsample_bytree': 0.06593920820273214, 'subsample': 0.410319019434484}. Best is trial 6 with value: 0.5752212389380531.\n",
      "[I 2023-08-21 22:46:01,563] Trial 2 finished with value: 0.6637168141592921 and parameters: {'num_leaves': 24, 'max_depth': 10, 'min_child_samples': 43, 'n_estimators': 1437, 'learning_rate': 0.26006101826287426, 'reg_alpha': 56.51683559521536, 'reg_lambda': 34.21876256513545, 'colsample_bytree': 0.48296166259427564, 'subsample': 0.02476338105182585}. Best is trial 2 with value: 0.6637168141592921.\n",
      "[I 2023-08-21 22:46:04,795] Trial 22 finished with value: 0.5752212389380531 and parameters: {'num_leaves': 2, 'max_depth': 2, 'min_child_samples': 28, 'n_estimators': 983, 'learning_rate': 0.29749815373085475, 'reg_alpha': 505.53074539316174, 'reg_lambda': 47.594286901619796, 'colsample_bytree': 0.6887874329063807, 'subsample': 0.6699331852469481}. Best is trial 2 with value: 0.6637168141592921.\n",
      "[I 2023-08-21 22:46:05,394] Trial 7 finished with value: 0.5752212389380531 and parameters: {'num_leaves': 22, 'max_depth': 6, 'min_child_samples': 28, 'n_estimators': 1727, 'learning_rate': 0.26660313716332973, 'reg_alpha': 944.5740406914185, 'reg_lambda': 88.62451167786456, 'colsample_bytree': 0.3067777550531753, 'subsample': 0.820836355770557}. Best is trial 2 with value: 0.6637168141592921.\n",
      "[I 2023-08-21 22:46:06,016] Trial 21 finished with value: 0.5752212389380531 and parameters: {'num_leaves': 12, 'max_depth': 13, 'min_child_samples': 20, 'n_estimators': 1048, 'learning_rate': 0.27115971042821074, 'reg_alpha': 626.5630568987468, 'reg_lambda': 978.6834575221108, 'colsample_bytree': 0.16806018198044742, 'subsample': 0.6866050203603364}. Best is trial 2 with value: 0.6637168141592921.\n",
      "[I 2023-08-21 22:46:08,693] Trial 23 finished with value: 0.5752212389380531 and parameters: {'num_leaves': 4, 'max_depth': 1, 'min_child_samples': 29, 'n_estimators': 1048, 'learning_rate': 0.2954198653249306, 'reg_alpha': 647.2726372067593, 'reg_lambda': 10.83041839430929, 'colsample_bytree': 0.17876616172918025, 'subsample': 0.6470903495386219}. Best is trial 2 with value: 0.6637168141592921.\n",
      "[I 2023-08-21 22:46:09,895] Trial 10 finished with value: 0.5752212389380531 and parameters: {'num_leaves': 21, 'max_depth': 8, 'min_child_samples': 31, 'n_estimators': 1936, 'learning_rate': 0.27973826725742995, 'reg_alpha': 343.1607233001482, 'reg_lambda': 416.264081228818, 'colsample_bytree': 0.11596481694515792, 'subsample': 0.8049713227664366}. Best is trial 2 with value: 0.6637168141592921.\n",
      "[I 2023-08-21 22:46:11,586] Trial 25 finished with value: 0.5752212389380531 and parameters: {'num_leaves': 2, 'max_depth': 7, 'min_child_samples': 21, 'n_estimators': 922, 'learning_rate': 0.11279533710705529, 'reg_alpha': 586.3837518380768, 'reg_lambda': 391.0964676857202, 'colsample_bytree': 0.6216670051857596, 'subsample': 0.7054430515710146}. Best is trial 2 with value: 0.6637168141592921.\n",
      "[I 2023-08-21 22:46:15,885] Trial 24 finished with value: 0.5752212389380531 and parameters: {'num_leaves': 4, 'max_depth': 13, 'min_child_samples': 29, 'n_estimators': 1139, 'learning_rate': 0.1214497993513862, 'reg_alpha': 592.7648598343177, 'reg_lambda': 432.19321804030506, 'colsample_bytree': 0.7078509111698195, 'subsample': 0.6628487411498085}. Best is trial 2 with value: 0.6637168141592921.\n",
      "[I 2023-08-21 22:46:16,266] Trial 17 finished with value: 0.5752212389380531 and parameters: {'num_leaves': 3, 'max_depth': 5, 'min_child_samples': 39, 'n_estimators': 1713, 'learning_rate': 0.14085648924534608, 'reg_alpha': 587.3067474933808, 'reg_lambda': 80.95015464092792, 'colsample_bytree': 0.28524607860282847, 'subsample': 0.3987503637030627}. Best is trial 2 with value: 0.6637168141592921.\n",
      "[I 2023-08-21 22:46:25,344] Trial 33 finished with value: 0.5752212389380531 and parameters: {'num_leaves': 18, 'max_depth': 10, 'min_child_samples': 56, 'n_estimators': 712, 'learning_rate': 0.11442107496142243, 'reg_alpha': 256.01069800897864, 'reg_lambda': 144.7046892145559, 'colsample_bytree': 0.5291673208013346, 'subsample': 0.08918832874075226}. Best is trial 2 with value: 0.6637168141592921.\n",
      "[I 2023-08-21 22:46:34,937] Trial 26 finished with value: 0.5752212389380531 and parameters: {'num_leaves': 10, 'max_depth': 13, 'min_child_samples': 20, 'n_estimators': 1923, 'learning_rate': 0.11862262530207045, 'reg_alpha': 596.108919633848, 'reg_lambda': 402.1029751425708, 'colsample_bytree': 0.6268025339217573, 'subsample': 0.6501185231730073}. Best is trial 2 with value: 0.6637168141592921.\n",
      "[I 2023-08-21 22:46:37,020] Trial 35 finished with value: 0.8230088495575222 and parameters: {'num_leaves': 18, 'max_depth': 10, 'min_child_samples': 53, 'n_estimators': 701, 'learning_rate': 0.10373544099447443, 'reg_alpha': 27.449256105421878, 'reg_lambda': 147.96050651912043, 'colsample_bytree': 0.009093691924233515, 'subsample': 0.008658654112669667}. Best is trial 35 with value: 0.8230088495575222.\n",
      "[I 2023-08-21 22:46:40,679] Trial 27 finished with value: 0.5752212389380531 and parameters: {'num_leaves': 10, 'max_depth': 6, 'min_child_samples': 52, 'n_estimators': 1971, 'learning_rate': 0.10826487060271207, 'reg_alpha': 596.8439648431979, 'reg_lambda': 394.02325417578527, 'colsample_bytree': 0.6393606121332343, 'subsample': 0.6638264003205547}. Best is trial 35 with value: 0.8230088495575222.\n",
      "[I 2023-08-21 22:46:41,961] Trial 32 finished with value: 0.8185840707964601 and parameters: {'num_leaves': 19, 'max_depth': 7, 'min_child_samples': 51, 'n_estimators': 705, 'learning_rate': 0.11717214553052592, 'reg_alpha': 34.36833315222852, 'reg_lambda': 395.5398973536987, 'colsample_bytree': 0.6232106831524763, 'subsample': 0.019385311189662746}. Best is trial 35 with value: 0.8230088495575222.\n",
      "[I 2023-08-21 22:46:47,807] Trial 31 finished with value: 0.5752212389380531 and parameters: {'num_leaves': 19, 'max_depth': 10, 'min_child_samples': 52, 'n_estimators': 1869, 'learning_rate': 0.12090727894207255, 'reg_alpha': 85.84149567665031, 'reg_lambda': 388.577841057097, 'colsample_bytree': 0.012987134424517266, 'subsample': 0.0390648758024877}. Best is trial 35 with value: 0.8230088495575222.\n",
      "[I 2023-08-21 22:46:47,892] Trial 36 finished with value: 0.8185840707964601 and parameters: {'num_leaves': 18, 'max_depth': 9, 'min_child_samples': 51, 'n_estimators': 715, 'learning_rate': 0.09950703618363745, 'reg_alpha': 33.977402897856805, 'reg_lambda': 156.37466757032874, 'colsample_bytree': 0.5585978052805276, 'subsample': 0.041615773778276105}. Best is trial 35 with value: 0.8230088495575222.\n",
      "[I 2023-08-21 22:46:51,249] Trial 39 finished with value: 0.8252212389380532 and parameters: {'num_leaves': 19, 'max_depth': 10, 'min_child_samples': 50, 'n_estimators': 448, 'learning_rate': 0.22642798667029312, 'reg_alpha': 19.507988993136617, 'reg_lambda': 149.4469207997625, 'colsample_bytree': 0.0007339677709086081, 'subsample': 0.013030298422536708}. Best is trial 39 with value: 0.8252212389380532.\n",
      "[I 2023-08-21 22:46:54,599] Trial 38 finished with value: 0.8030973451327433 and parameters: {'num_leaves': 19, 'max_depth': 7, 'min_child_samples': 50, 'n_estimators': 730, 'learning_rate': 0.09359357600593439, 'reg_alpha': 45.80879670551214, 'reg_lambda': 149.5749793816635, 'colsample_bytree': 0.019262037690385533, 'subsample': 0.005633923157279119}. Best is trial 39 with value: 0.8252212389380532.\n",
      "[I 2023-08-21 22:46:55,601] Trial 34 finished with value: 0.9469026548672566 and parameters: {'num_leaves': 17, 'max_depth': 10, 'min_child_samples': 56, 'n_estimators': 684, 'learning_rate': 0.11379568427832729, 'reg_alpha': 2.5796824369994837, 'reg_lambda': 189.43093063830253, 'colsample_bytree': 0.9978865641594032, 'subsample': 0.034958775212032334}. Best is trial 34 with value: 0.9469026548672566.\n",
      "[I 2023-08-21 22:46:58,478] Trial 37 finished with value: 0.7234513274336283 and parameters: {'num_leaves': 19, 'max_depth': 7, 'min_child_samples': 50, 'n_estimators': 720, 'learning_rate': 0.0004437248105127606, 'reg_alpha': 6.0701374780155675, 'reg_lambda': 155.75341646840053, 'colsample_bytree': 0.9984946117024822, 'subsample': 0.010331264633716565}. Best is trial 34 with value: 0.9469026548672566.\n",
      "[I 2023-08-21 22:46:59,092] Trial 19 finished with value: 0.9336283185840708 and parameters: {'num_leaves': 22, 'max_depth': 5, 'min_child_samples': 40, 'n_estimators': 1450, 'learning_rate': 0.24991790997750435, 'reg_alpha': 17.094620143269566, 'reg_lambda': 904.4655656769698, 'colsample_bytree': 0.9327518154094552, 'subsample': 0.1076258658013316}. Best is trial 34 with value: 0.9469026548672566.\n",
      "[I 2023-08-21 22:47:04,230] Trial 41 finished with value: 0.9203539823008849 and parameters: {'num_leaves': 19, 'max_depth': 10, 'min_child_samples': 49, 'n_estimators': 450, 'learning_rate': 0.008677303112479204, 'reg_alpha': 8.68828321355419, 'reg_lambda': 137.7589872672428, 'colsample_bytree': 0.9593167894372602, 'subsample': 0.002784842150076638}. Best is trial 34 with value: 0.9469026548672566.\n",
      "[I 2023-08-21 22:47:12,711] Trial 48 finished with value: 0.5752212389380531 and parameters: {'num_leaves': 15, 'max_depth': 12, 'min_child_samples': 56, 'n_estimators': 484, 'learning_rate': 0.2363296160150393, 'reg_alpha': 105.69270835059692, 'reg_lambda': 288.2952385742035, 'colsample_bytree': 0.992946236764838, 'subsample': 0.1818110547717305}. Best is trial 34 with value: 0.9469026548672566.\n",
      "[I 2023-08-21 22:47:13,569] Trial 42 finished with value: 0.8185840707964601 and parameters: {'num_leaves': 19, 'max_depth': 10, 'min_child_samples': 48, 'n_estimators': 736, 'learning_rate': 0.08861598933965437, 'reg_alpha': 39.661220914384266, 'reg_lambda': 143.67550282908223, 'colsample_bytree': 0.22850627592313155, 'subsample': 0.006964278641334573}. Best is trial 34 with value: 0.9469026548672566.\n",
      "[I 2023-08-21 22:47:17,717] Trial 49 finished with value: 0.5752212389380531 and parameters: {'num_leaves': 24, 'max_depth': 11, 'min_child_samples': 56, 'n_estimators': 503, 'learning_rate': 0.24134333233243221, 'reg_alpha': 90.19186439350432, 'reg_lambda': 261.36711933185484, 'colsample_bytree': 0.9808015064166288, 'subsample': 0.18568658226279117}. Best is trial 34 with value: 0.9469026548672566.\n",
      "[I 2023-08-21 22:47:18,452] Trial 44 finished with value: 0.9380530973451326 and parameters: {'num_leaves': 15, 'max_depth': 9, 'min_child_samples': 49, 'n_estimators': 486, 'learning_rate': 0.08648963164929419, 'reg_alpha': 11.041740262753528, 'reg_lambda': 143.14793072600608, 'colsample_bytree': 0.2441540573815717, 'subsample': 0.008197341582720953}. Best is trial 34 with value: 0.9469026548672566.\n",
      "[I 2023-08-21 22:47:20,958] Trial 28 finished with value: 0.9446902654867256 and parameters: {'num_leaves': 19, 'max_depth': 13, 'min_child_samples': 54, 'n_estimators': 1661, 'learning_rate': 0.2906388502464978, 'reg_alpha': 12.157759485396241, 'reg_lambda': 418.85401032022673, 'colsample_bytree': 0.9819699860348732, 'subsample': 0.6055485256056226}. Best is trial 34 with value: 0.9469026548672566.\n",
      "[I 2023-08-21 22:47:21,464] Trial 45 finished with value: 0.9446902654867257 and parameters: {'num_leaves': 15, 'max_depth': 9, 'min_child_samples': 55, 'n_estimators': 478, 'learning_rate': 0.0902358728460326, 'reg_alpha': 4.214084713045878, 'reg_lambda': 256.742926279406, 'colsample_bytree': 0.2174252745254931, 'subsample': 0.17463927304981525}. Best is trial 34 with value: 0.9469026548672566.\n",
      "[I 2023-08-21 22:47:22,952] Trial 46 finished with value: 0.9469026548672567 and parameters: {'num_leaves': 15, 'max_depth': 8, 'min_child_samples': 56, 'n_estimators': 460, 'learning_rate': 0.15337941686508577, 'reg_alpha': 8.387676401072621, 'reg_lambda': 288.23929469413224, 'colsample_bytree': 0.9975174959404308, 'subsample': 0.1615544158068738}. Best is trial 46 with value: 0.9469026548672567.\n",
      "[I 2023-08-21 22:47:23,272] Trial 47 finished with value: 0.9469026548672566 and parameters: {'num_leaves': 15, 'max_depth': 12, 'min_child_samples': 56, 'n_estimators': 437, 'learning_rate': 0.15613859716062486, 'reg_alpha': 2.966358255101575, 'reg_lambda': 277.64651394408384, 'colsample_bytree': 0.21082060823546636, 'subsample': 0.15721770382176462}. Best is trial 46 with value: 0.9469026548672567.\n",
      "[I 2023-08-21 22:47:24,624] Trial 50 finished with value: 0.5752212389380531 and parameters: {'num_leaves': 24, 'max_depth': 12, 'min_child_samples': 48, 'n_estimators': 414, 'learning_rate': 0.14872231074894368, 'reg_alpha': 82.73476186746088, 'reg_lambda': 526.8229674057611, 'colsample_bytree': 0.9107619230375843, 'subsample': 0.16375106256969837}. Best is trial 46 with value: 0.9469026548672567.\n",
      "[I 2023-08-21 22:47:25,141] Trial 51 finished with value: 0.5752212389380531 and parameters: {'num_leaves': 23, 'max_depth': 12, 'min_child_samples': 42, 'n_estimators': 409, 'learning_rate': 0.1603431058628002, 'reg_alpha': 90.6912768241194, 'reg_lambda': 507.4533042791999, 'colsample_bytree': 0.9190648765466154, 'subsample': 0.16733362451438905}. Best is trial 46 with value: 0.9469026548672567.\n",
      "[I 2023-08-21 22:47:27,324] Trial 53 finished with value: 0.5752212389380531 and parameters: {'num_leaves': 21, 'max_depth': 8, 'min_child_samples': 42, 'n_estimators': 399, 'learning_rate': 0.14193574573851064, 'reg_alpha': 165.4650562003641, 'reg_lambda': 2.3792847656485208, 'colsample_bytree': 0.9015225799393822, 'subsample': 0.07796329560574991}. Best is trial 46 with value: 0.9469026548672567.\n",
      "[I 2023-08-21 22:47:27,932] Trial 40 finished with value: 0.9513274336283185 and parameters: {'num_leaves': 19, 'max_depth': 12, 'min_child_samples': 49, 'n_estimators': 737, 'learning_rate': 0.09207460398970649, 'reg_alpha': 1.21572477517784, 'reg_lambda': 151.80747684654122, 'colsample_bytree': 0.22939369319311692, 'subsample': 0.01709486025077168}. Best is trial 40 with value: 0.9513274336283185.\n",
      "[I 2023-08-21 22:47:31,087] Trial 56 finished with value: 0.5752212389380531 and parameters: {'num_leaves': 15, 'max_depth': 8, 'min_child_samples': 54, 'n_estimators': 370, 'learning_rate': 0.15204145168351108, 'reg_alpha': 155.18225434510384, 'reg_lambda': 240.7528202650987, 'colsample_bytree': 0.887765929156025, 'subsample': 0.15439921450859134}. Best is trial 40 with value: 0.9513274336283185.\n",
      "[I 2023-08-21 22:47:31,393] Trial 57 finished with value: 0.5752212389380531 and parameters: {'num_leaves': 14, 'max_depth': 12, 'min_child_samples': 54, 'n_estimators': 371, 'learning_rate': 0.1470578842969922, 'reg_alpha': 148.31384749901144, 'reg_lambda': 330.63028463263834, 'colsample_bytree': 0.9307847855673355, 'subsample': 0.16483802656397586}. Best is trial 40 with value: 0.9513274336283185.\n",
      "[I 2023-08-21 22:47:32,975] Trial 59 finished with value: 0.5752212389380531 and parameters: {'num_leaves': 15, 'max_depth': 11, 'min_child_samples': 54, 'n_estimators': 355, 'learning_rate': 0.13632408029367413, 'reg_alpha': 144.54085139574482, 'reg_lambda': 223.266651071938, 'colsample_bytree': 0.8678346066276583, 'subsample': 0.22227821181620616}. Best is trial 40 with value: 0.9513274336283185.\n",
      "[I 2023-08-21 22:47:33,933] Trial 30 finished with value: 0.9424778761061947 and parameters: {'num_leaves': 18, 'max_depth': 13, 'min_child_samples': 52, 'n_estimators': 1728, 'learning_rate': 0.12202978333949836, 'reg_alpha': 19.836204162900685, 'reg_lambda': 455.6514749044018, 'colsample_bytree': 0.9953577920998461, 'subsample': 0.048855750554271375}. Best is trial 40 with value: 0.9513274336283185.\n",
      "[I 2023-08-21 22:47:36,721] Trial 52 finished with value: 0.9424778761061946 and parameters: {'num_leaves': 21, 'max_depth': 8, 'min_child_samples': 54, 'n_estimators': 423, 'learning_rate': 0.14827299456971565, 'reg_alpha': 13.809485825974985, 'reg_lambda': 94.57645681184633, 'colsample_bytree': 0.9206664664695703, 'subsample': 0.0792875021623515}. Best is trial 40 with value: 0.9513274336283185.\n",
      "[I 2023-08-21 22:47:37,277] Trial 58 finished with value: 0.5752212389380531 and parameters: {'num_leaves': 16, 'max_depth': 12, 'min_child_samples': 54, 'n_estimators': 584, 'learning_rate': 0.17620721627610597, 'reg_alpha': 148.7962602764365, 'reg_lambda': 223.69377612963956, 'colsample_bytree': 0.9202181611554818, 'subsample': 0.2598603499200736}. Best is trial 40 with value: 0.9513274336283185.\n",
      "[I 2023-08-21 22:47:38,516] Trial 29 finished with value: 0.9491150442477876 and parameters: {'num_leaves': 19, 'max_depth': 13, 'min_child_samples': 56, 'n_estimators': 1876, 'learning_rate': 0.12584658520945496, 'reg_alpha': 8.056405987326869, 'reg_lambda': 400.49503455639234, 'colsample_bytree': 0.2571536772876234, 'subsample': 0.007412812511653145}. Best is trial 40 with value: 0.9513274336283185.\n",
      "[I 2023-08-21 22:47:40,230] Trial 60 finished with value: 0.5752212389380531 and parameters: {'num_leaves': 14, 'max_depth': 11, 'min_child_samples': 54, 'n_estimators': 598, 'learning_rate': 0.16540153338548372, 'reg_alpha': 125.43492212121623, 'reg_lambda': 217.92285921092105, 'colsample_bytree': 0.8548964017621126, 'subsample': 0.22133408599150345}. Best is trial 40 with value: 0.9513274336283185.\n",
      "[I 2023-08-21 22:47:41,054] Trial 61 finished with value: 0.5752212389380531 and parameters: {'num_leaves': 14, 'max_depth': 11, 'min_child_samples': 54, 'n_estimators': 607, 'learning_rate': 0.16364800739780053, 'reg_alpha': 144.22302944668286, 'reg_lambda': 215.76207708908265, 'colsample_bytree': 0.8514109455579756, 'subsample': 0.2364803551642901}. Best is trial 40 with value: 0.9513274336283185.\n",
      "[I 2023-08-21 22:47:44,351] Trial 43 finished with value: 0.9535398230088494 and parameters: {'num_leaves': 24, 'max_depth': 9, 'min_child_samples': 48, 'n_estimators': 816, 'learning_rate': 0.09788322077839064, 'reg_alpha': 1.4542101216472716, 'reg_lambda': 147.23779198895008, 'colsample_bytree': 0.5321499343393309, 'subsample': 0.00024432023075557363}. Best is trial 43 with value: 0.9535398230088494.\n",
      "[I 2023-08-21 22:47:47,400] Trial 64 finished with value: 0.6216814159292036 and parameters: {'num_leaves': 17, 'max_depth': 12, 'min_child_samples': 55, 'n_estimators': 576, 'learning_rate': 0.16879836055454905, 'reg_alpha': 68.98152794550654, 'reg_lambda': 204.6296668671951, 'colsample_bytree': 0.10950833575001345, 'subsample': 0.07226174148652953}. Best is trial 43 with value: 0.9535398230088494.\n",
      "[I 2023-08-21 22:47:50,243] Trial 70 finished with value: 0.6194690265486725 and parameters: {'num_leaves': 17, 'max_depth': 9, 'min_child_samples': 56, 'n_estimators': 320, 'learning_rate': 0.13240454228930604, 'reg_alpha': 72.74992083439858, 'reg_lambda': 344.04990850533693, 'colsample_bytree': 0.08970951978614977, 'subsample': 0.1193362546510889}. Best is trial 43 with value: 0.9535398230088494.\n",
      "[I 2023-08-21 22:47:50,591] Trial 54 finished with value: 0.5752212389380531 and parameters: {'num_leaves': 21, 'max_depth': 8, 'min_child_samples': 42, 'n_estimators': 1374, 'learning_rate': 0.14403734862087889, 'reg_alpha': 154.57325747710468, 'reg_lambda': 502.19250743392934, 'colsample_bytree': 0.9157254656379448, 'subsample': 0.07501608448080666}. Best is trial 43 with value: 0.9535398230088494.\n",
      "[I 2023-08-21 22:47:50,933] Trial 62 finished with value: 0.6194690265486725 and parameters: {'num_leaves': 16, 'max_depth': 12, 'min_child_samples': 54, 'n_estimators': 589, 'learning_rate': 0.13194510289670366, 'reg_alpha': 67.08858015181835, 'reg_lambda': 208.8285023072914, 'colsample_bytree': 0.8490425951407325, 'subsample': 0.22981494573172978}. Best is trial 43 with value: 0.9535398230088494.\n",
      "[I 2023-08-21 22:47:51,544] Trial 63 finished with value: 0.6637168141592921 and parameters: {'num_leaves': 17, 'max_depth': 11, 'min_child_samples': 54, 'n_estimators': 590, 'learning_rate': 0.13276421918250614, 'reg_alpha': 59.803343637357045, 'reg_lambda': 217.40931491630465, 'colsample_bytree': 0.8589719165886572, 'subsample': 0.21343565016634303}. Best is trial 43 with value: 0.9535398230088494.\n",
      "[I 2023-08-21 22:47:51,894] Trial 55 finished with value: 0.5752212389380531 and parameters: {'num_leaves': 15, 'max_depth': 12, 'min_child_samples': 54, 'n_estimators': 1415, 'learning_rate': 0.0814141647602055, 'reg_alpha': 160.12398200515082, 'reg_lambda': 500.6461591426629, 'colsample_bytree': 0.9070497347340383, 'subsample': 0.08335174751623185}. Best is trial 43 with value: 0.9535398230088494.\n",
      "[I 2023-08-21 22:47:53,302] Trial 68 finished with value: 0.6216814159292036 and parameters: {'num_leaves': 17, 'max_depth': 11, 'min_child_samples': 56, 'n_estimators': 578, 'learning_rate': 0.13060933367982486, 'reg_alpha': 71.11488750484715, 'reg_lambda': 321.7529372337938, 'colsample_bytree': 0.11552726648542885, 'subsample': 0.13322074623277824}. Best is trial 43 with value: 0.9535398230088494.\n",
      "[I 2023-08-21 22:47:53,698] Trial 66 finished with value: 0.5752212389380531 and parameters: {'num_leaves': 17, 'max_depth': 12, 'min_child_samples': 55, 'n_estimators': 609, 'learning_rate': 0.17295763224575128, 'reg_alpha': 85.03610768165551, 'reg_lambda': 196.0672205863636, 'colsample_bytree': 0.831283001794697, 'subsample': 0.13114438890875}. Best is trial 43 with value: 0.9535398230088494.\n",
      "[I 2023-08-21 22:47:53,912] Trial 65 finished with value: 0.6194690265486725 and parameters: {'num_leaves': 17, 'max_depth': 11, 'min_child_samples': 55, 'n_estimators': 600, 'learning_rate': 0.17474982403661785, 'reg_alpha': 68.53453593775319, 'reg_lambda': 209.3466764536942, 'colsample_bytree': 0.833830826938285, 'subsample': 0.07851469053660277}. Best is trial 43 with value: 0.9535398230088494.\n",
      "[I 2023-08-21 22:47:53,977] Trial 67 finished with value: 0.5752212389380531 and parameters: {'num_leaves': 17, 'max_depth': 11, 'min_child_samples': 56, 'n_estimators': 605, 'learning_rate': 0.08010970955827437, 'reg_alpha': 86.99002035195494, 'reg_lambda': 319.6675482896683, 'colsample_bytree': 0.8176453275589914, 'subsample': 0.12267765310988227}. Best is trial 43 with value: 0.9535398230088494.\n",
      "[I 2023-08-21 22:47:55,416] Trial 69 finished with value: 0.661504424778761 and parameters: {'num_leaves': 17, 'max_depth': 9, 'min_child_samples': 56, 'n_estimators': 546, 'learning_rate': 0.08025650038567987, 'reg_alpha': 63.41466290228192, 'reg_lambda': 320.32591015255036, 'colsample_bytree': 0.07320191237120907, 'subsample': 0.11732465466634948}. Best is trial 43 with value: 0.9535398230088494.\n",
      "[I 2023-08-21 22:48:06,664] Trial 71 finished with value: 0.6637168141592921 and parameters: {'num_leaves': 17, 'max_depth': 12, 'min_child_samples': 44, 'n_estimators': 808, 'learning_rate': 0.1297801434788487, 'reg_alpha': 54.70330356890721, 'reg_lambda': 324.35905457668684, 'colsample_bytree': 0.09922952939845875, 'subsample': 0.1254936329410702}. Best is trial 43 with value: 0.9535398230088494.\n",
      "[I 2023-08-21 22:48:09,386] Trial 76 finished with value: 0.5752212389380531 and parameters: {'num_leaves': 13, 'max_depth': 6, 'min_child_samples': 47, 'n_estimators': 817, 'learning_rate': 0.07783571003415136, 'reg_alpha': 111.63184290063285, 'reg_lambda': 303.38933675868066, 'colsample_bytree': 0.36585596251867786, 'subsample': 0.12968454522487743}. Best is trial 43 with value: 0.9535398230088494.\n",
      "[I 2023-08-21 22:48:10,419] Trial 77 finished with value: 0.5752212389380531 and parameters: {'num_leaves': 17, 'max_depth': 6, 'min_child_samples': 46, 'n_estimators': 848, 'learning_rate': 0.09944626239941846, 'reg_alpha': 112.03392919245783, 'reg_lambda': 305.14010266918643, 'colsample_bytree': 0.3868983589714552, 'subsample': 0.13121460814077512}. Best is trial 43 with value: 0.9535398230088494.\n",
      "[I 2023-08-21 22:48:11,384] Trial 79 finished with value: 0.5752212389380531 and parameters: {'num_leaves': 12, 'max_depth': 6, 'min_child_samples': 52, 'n_estimators': 806, 'learning_rate': 0.09954822235050778, 'reg_alpha': 113.51544708875977, 'reg_lambda': 278.03432350577555, 'colsample_bytree': 0.38180168112616375, 'subsample': 0.10918283930082952}. Best is trial 43 with value: 0.9535398230088494.\n",
      "[I 2023-08-21 22:48:11,551] Trial 78 finished with value: 0.5752212389380531 and parameters: {'num_leaves': 12, 'max_depth': 9, 'min_child_samples': 46, 'n_estimators': 834, 'learning_rate': 0.0988514936491989, 'reg_alpha': 111.4734890943773, 'reg_lambda': 293.910637813617, 'colsample_bytree': 0.46766021840206873, 'subsample': 0.1276220141220003}. Best is trial 43 with value: 0.9535398230088494.\n",
      "[I 2023-08-21 22:48:11,627] Trial 81 finished with value: 0.5752212389380531 and parameters: {'num_leaves': 12, 'max_depth': 6, 'min_child_samples': 45, 'n_estimators': 802, 'learning_rate': 0.1029555673962291, 'reg_alpha': 200.3482285108416, 'reg_lambda': 259.71503517178985, 'colsample_bytree': 0.37592455745320624, 'subsample': 0.04726594377464786}. Best is trial 43 with value: 0.9535398230088494.\n",
      "[I 2023-08-21 22:48:11,818] Trial 72 finished with value: 0.672566371681416 and parameters: {'num_leaves': 12, 'max_depth': 9, 'min_child_samples': 56, 'n_estimators': 818, 'learning_rate': 0.13182132446702682, 'reg_alpha': 62.912786848163876, 'reg_lambda': 279.6457399302805, 'colsample_bytree': 0.37899231613385076, 'subsample': 0.1305295840109673}. Best is trial 43 with value: 0.9535398230088494.\n",
      "[I 2023-08-21 22:48:13,710] Trial 80 finished with value: 0.5752212389380531 and parameters: {'num_leaves': 13, 'max_depth': 6, 'min_child_samples': 46, 'n_estimators': 900, 'learning_rate': 0.10258306411861141, 'reg_alpha': 206.5897468470381, 'reg_lambda': 260.06663267328406, 'colsample_bytree': 0.38490580204649005, 'subsample': 0.04878289786817255}. Best is trial 43 with value: 0.9535398230088494.\n",
      "[I 2023-08-21 22:48:16,146] Trial 75 finished with value: 0.665929203539823 and parameters: {'num_leaves': 12, 'max_depth': 9, 'min_child_samples': 46, 'n_estimators': 788, 'learning_rate': 0.10227612936441031, 'reg_alpha': 59.34028504765543, 'reg_lambda': 307.6313693936106, 'colsample_bytree': 0.468156129452979, 'subsample': 0.10490670079578528}. Best is trial 43 with value: 0.9535398230088494.\n",
      "[I 2023-08-21 22:48:22,126] Trial 74 finished with value: 0.6637168141592921 and parameters: {'num_leaves': 13, 'max_depth': 6, 'min_child_samples': 56, 'n_estimators': 830, 'learning_rate': 0.0804321314438306, 'reg_alpha': 47.408373122526555, 'reg_lambda': 306.52081638122485, 'colsample_bytree': 0.3732596742978431, 'subsample': 0.10410918762873358}. Best is trial 43 with value: 0.9535398230088494.\n",
      "[I 2023-08-21 22:48:29,682] Trial 73 finished with value: 0.668141592920354 and parameters: {'num_leaves': 13, 'max_depth': 9, 'min_child_samples': 46, 'n_estimators': 1290, 'learning_rate': 0.07621939427867516, 'reg_alpha': 62.121370557704296, 'reg_lambda': 275.07640903358055, 'colsample_bytree': 0.36492141905299225, 'subsample': 0.12888641951187785}. Best is trial 43 with value: 0.9535398230088494.\n",
      "[I 2023-08-21 22:48:30,807] Trial 82 finished with value: 0.8207964601769911 and parameters: {'num_leaves': 20, 'max_depth': 13, 'min_child_samples': 46, 'n_estimators': 820, 'learning_rate': 0.10201668336930207, 'reg_alpha': 30.68433222501491, 'reg_lambda': 260.73440117066866, 'colsample_bytree': 0.32098943826613874, 'subsample': 0.05806411302896167}. Best is trial 43 with value: 0.9535398230088494.\n",
      "[I 2023-08-21 22:48:51,082] Trial 89 finished with value: 0.9402654867256637 and parameters: {'num_leaves': 20, 'max_depth': 13, 'min_child_samples': 51, 'n_estimators': 652, 'learning_rate': 0.06034145762602226, 'reg_alpha': 7.419045930557167, 'reg_lambda': 373.4971408247988, 'colsample_bytree': 0.7833768814889678, 'subsample': 0.04673061711658498}. Best is trial 43 with value: 0.9535398230088494.\n",
      "[I 2023-08-21 22:48:53,018] Trial 90 finished with value: 0.9402654867256637 and parameters: {'num_leaves': 20, 'max_depth': 13, 'min_child_samples': 51, 'n_estimators': 665, 'learning_rate': 0.050389762907657315, 'reg_alpha': 8.869857740331689, 'reg_lambda': 364.0150735052929, 'colsample_bytree': 0.7861971515103259, 'subsample': 0.041573862674587264}. Best is trial 43 with value: 0.9535398230088494.\n",
      "[I 2023-08-21 22:49:24,155] Trial 84 finished with value: 0.9424778761061947 and parameters: {'num_leaves': 20, 'max_depth': 13, 'min_child_samples': 52, 'n_estimators': 1225, 'learning_rate': 0.10089205551584746, 'reg_alpha': 4.944370864488385, 'reg_lambda': 273.5567018568678, 'colsample_bytree': 0.1910044461280838, 'subsample': 0.050669656507976744}. Best is trial 43 with value: 0.9535398230088494.\n",
      "[I 2023-08-21 22:49:30,137] Trial 85 finished with value: 0.9424778761061947 and parameters: {'num_leaves': 20, 'max_depth': 13, 'min_child_samples': 53, 'n_estimators': 1242, 'learning_rate': 0.06028592169915679, 'reg_alpha': 5.537610448005018, 'reg_lambda': 264.04495453380525, 'colsample_bytree': 0.48108693962574844, 'subsample': 0.041178778264086405}. Best is trial 43 with value: 0.9535398230088494.\n",
      "[I 2023-08-21 22:49:33,250] Trial 83 finished with value: 0.9513274336283186 and parameters: {'num_leaves': 20, 'max_depth': 13, 'min_child_samples': 46, 'n_estimators': 1169, 'learning_rate': 0.10208039354494045, 'reg_alpha': 1.2529882485115804, 'reg_lambda': 266.50047352580077, 'colsample_bytree': 0.3675404146260834, 'subsample': 0.06694537938160491}. Best is trial 43 with value: 0.9535398230088494.\n",
      "[I 2023-08-21 22:49:34,228] Trial 86 finished with value: 0.9469026548672566 and parameters: {'num_leaves': 20, 'max_depth': 13, 'min_child_samples': 52, 'n_estimators': 1178, 'learning_rate': 0.1109962447830427, 'reg_alpha': 3.022387022524396, 'reg_lambda': 269.2457507850538, 'colsample_bytree': 0.48030224922225795, 'subsample': 0.04892180983333035}. Best is trial 43 with value: 0.9535398230088494.\n",
      "[I 2023-08-21 22:49:37,982] Trial 91 finished with value: 0.9491150442477876 and parameters: {'num_leaves': 20, 'max_depth': 13, 'min_child_samples': 51, 'n_estimators': 1204, 'learning_rate': 0.06629732749396035, 'reg_alpha': 2.805941443807309, 'reg_lambda': 185.39093188735873, 'colsample_bytree': 0.32909176286336167, 'subsample': 0.04738589130937621}. Best is trial 43 with value: 0.9535398230088494.\n",
      "[I 2023-08-21 22:49:38,050] Trial 88 finished with value: 0.9513274336283186 and parameters: {'num_leaves': 20, 'max_depth': 13, 'min_child_samples': 51, 'n_estimators': 1182, 'learning_rate': 0.06937605060814947, 'reg_alpha': 0.6527748560983309, 'reg_lambda': 184.10644539085982, 'colsample_bytree': 0.7890512282712329, 'subsample': 0.04377413615789119}. Best is trial 43 with value: 0.9535398230088494.\n",
      "[I 2023-08-21 22:49:40,823] Trial 87 finished with value: 0.9469026548672566 and parameters: {'num_leaves': 20, 'max_depth': 13, 'min_child_samples': 51, 'n_estimators': 1297, 'learning_rate': 0.060476854477212516, 'reg_alpha': 0.3104431398924774, 'reg_lambda': 253.21559228132443, 'colsample_bytree': 0.9598000056009517, 'subsample': 0.05283109201789524}. Best is trial 43 with value: 0.9535398230088494.\n",
      "[I 2023-08-21 22:49:47,656] Trial 94 finished with value: 0.829646017699115 and parameters: {'num_leaves': 18, 'max_depth': 13, 'min_child_samples': 53, 'n_estimators': 1682, 'learning_rate': 0.11078992644830103, 'reg_alpha': 20.32209436720266, 'reg_lambda': 452.9450651585679, 'colsample_bytree': 0.9653573200164393, 'subsample': 0.037124430633747346}. Best is trial 43 with value: 0.9535398230088494.\n",
      "[I 2023-08-21 22:49:48,702] Trial 92 finished with value: 0.9402654867256637 and parameters: {'num_leaves': 18, 'max_depth': 13, 'min_child_samples': 52, 'n_estimators': 1672, 'learning_rate': 0.06818255381149618, 'reg_alpha': 14.885089025717969, 'reg_lambda': 358.9848162087429, 'colsample_bytree': 0.9573955107999542, 'subsample': 0.050035514544667994}. Best is trial 43 with value: 0.9535398230088494.\n",
      "[I 2023-08-21 22:49:48,840] Trial 93 finished with value: 0.9402654867256637 and parameters: {'num_leaves': 20, 'max_depth': 13, 'min_child_samples': 51, 'n_estimators': 1709, 'learning_rate': 0.11081783235591745, 'reg_alpha': 18.252242630633912, 'reg_lambda': 361.3324204909768, 'colsample_bytree': 0.9568201678848427, 'subsample': 0.048782278228723136}. Best is trial 43 with value: 0.9535398230088494.\n",
      "[I 2023-08-21 22:49:54,309] Trial 95 finished with value: 0.9446902654867257 and parameters: {'num_leaves': 18, 'max_depth': 13, 'min_child_samples': 52, 'n_estimators': 1549, 'learning_rate': 0.12373939245325932, 'reg_alpha': 5.811175635057229, 'reg_lambda': 440.2947470176228, 'colsample_bytree': 0.964858141554621, 'subsample': 0.030719699854520312}. Best is trial 43 with value: 0.9535398230088494.\n",
      "[I 2023-08-21 22:49:54,905] Trial 97 finished with value: 0.8207964601769911 and parameters: {'num_leaves': 18, 'max_depth': 13, 'min_child_samples': 53, 'n_estimators': 1549, 'learning_rate': 0.11530068789711795, 'reg_alpha': 28.57097111038174, 'reg_lambda': 462.74885296800875, 'colsample_bytree': 0.9772542023274045, 'subsample': 0.02878675051756442}. Best is trial 43 with value: 0.9535398230088494.\n",
      "[I 2023-08-21 22:49:55,590] Trial 99 finished with value: 0.8252212389380531 and parameters: {'num_leaves': 23, 'max_depth': 10, 'min_child_samples': 53, 'n_estimators': 1561, 'learning_rate': 0.0910175286547238, 'reg_alpha': 26.8051427977894, 'reg_lambda': 116.19126382496628, 'colsample_bytree': 0.9694885315409248, 'subsample': 0.025281981787395498}. Best is trial 43 with value: 0.9535398230088494.\n",
      "[I 2023-08-21 22:49:55,929] Trial 98 finished with value: 0.8185840707964601 and parameters: {'num_leaves': 18, 'max_depth': 13, 'min_child_samples': 53, 'n_estimators': 1656, 'learning_rate': 0.11073266566661089, 'reg_alpha': 33.7228760605187, 'reg_lambda': 457.97357087143007, 'colsample_bytree': 0.9594307680353591, 'subsample': 0.024685196259292094}. Best is trial 43 with value: 0.9535398230088494.\n",
      "[I 2023-08-21 22:49:56,010] Trial 96 finished with value: 0.9469026548672566 and parameters: {'num_leaves': 23, 'max_depth': 13, 'min_child_samples': 53, 'n_estimators': 1679, 'learning_rate': 0.1136776251219688, 'reg_alpha': 1.8036399511030559, 'reg_lambda': 445.55709366003816, 'colsample_bytree': 0.9567308772215085, 'subsample': 0.03159353877101058}. Best is trial 43 with value: 0.9535398230088494.\n"
     ]
    },
    {
     "name": "stdout",
     "output_type": "stream",
     "text": [
      "Best trial:\n"
     ]
    },
    {
     "data": {
      "text/html": [
       "<style>#sk-container-id-4 {color: black;background-color: white;}#sk-container-id-4 pre{padding: 0;}#sk-container-id-4 div.sk-toggleable {background-color: white;}#sk-container-id-4 label.sk-toggleable__label {cursor: pointer;display: block;width: 100%;margin-bottom: 0;padding: 0.3em;box-sizing: border-box;text-align: center;}#sk-container-id-4 label.sk-toggleable__label-arrow:before {content: \"▸\";float: left;margin-right: 0.25em;color: #696969;}#sk-container-id-4 label.sk-toggleable__label-arrow:hover:before {color: black;}#sk-container-id-4 div.sk-estimator:hover label.sk-toggleable__label-arrow:before {color: black;}#sk-container-id-4 div.sk-toggleable__content {max-height: 0;max-width: 0;overflow: hidden;text-align: left;background-color: #f0f8ff;}#sk-container-id-4 div.sk-toggleable__content pre {margin: 0.2em;color: black;border-radius: 0.25em;background-color: #f0f8ff;}#sk-container-id-4 input.sk-toggleable__control:checked~div.sk-toggleable__content {max-height: 200px;max-width: 100%;overflow: auto;}#sk-container-id-4 input.sk-toggleable__control:checked~label.sk-toggleable__label-arrow:before {content: \"▾\";}#sk-container-id-4 div.sk-estimator input.sk-toggleable__control:checked~label.sk-toggleable__label {background-color: #d4ebff;}#sk-container-id-4 div.sk-label input.sk-toggleable__control:checked~label.sk-toggleable__label {background-color: #d4ebff;}#sk-container-id-4 input.sk-hidden--visually {border: 0;clip: rect(1px 1px 1px 1px);clip: rect(1px, 1px, 1px, 1px);height: 1px;margin: -1px;overflow: hidden;padding: 0;position: absolute;width: 1px;}#sk-container-id-4 div.sk-estimator {font-family: monospace;background-color: #f0f8ff;border: 1px dotted black;border-radius: 0.25em;box-sizing: border-box;margin-bottom: 0.5em;}#sk-container-id-4 div.sk-estimator:hover {background-color: #d4ebff;}#sk-container-id-4 div.sk-parallel-item::after {content: \"\";width: 100%;border-bottom: 1px solid gray;flex-grow: 1;}#sk-container-id-4 div.sk-label:hover label.sk-toggleable__label {background-color: #d4ebff;}#sk-container-id-4 div.sk-serial::before {content: \"\";position: absolute;border-left: 1px solid gray;box-sizing: border-box;top: 0;bottom: 0;left: 50%;z-index: 0;}#sk-container-id-4 div.sk-serial {display: flex;flex-direction: column;align-items: center;background-color: white;padding-right: 0.2em;padding-left: 0.2em;position: relative;}#sk-container-id-4 div.sk-item {position: relative;z-index: 1;}#sk-container-id-4 div.sk-parallel {display: flex;align-items: stretch;justify-content: center;background-color: white;position: relative;}#sk-container-id-4 div.sk-item::before, #sk-container-id-4 div.sk-parallel-item::before {content: \"\";position: absolute;border-left: 1px solid gray;box-sizing: border-box;top: 0;bottom: 0;left: 50%;z-index: -1;}#sk-container-id-4 div.sk-parallel-item {display: flex;flex-direction: column;z-index: 1;position: relative;background-color: white;}#sk-container-id-4 div.sk-parallel-item:first-child::after {align-self: flex-end;width: 50%;}#sk-container-id-4 div.sk-parallel-item:last-child::after {align-self: flex-start;width: 50%;}#sk-container-id-4 div.sk-parallel-item:only-child::after {width: 0;}#sk-container-id-4 div.sk-dashed-wrapped {border: 1px dashed gray;margin: 0 0.4em 0.5em 0.4em;box-sizing: border-box;padding-bottom: 0.4em;background-color: white;}#sk-container-id-4 div.sk-label label {font-family: monospace;font-weight: bold;display: inline-block;line-height: 1.2em;}#sk-container-id-4 div.sk-label-container {text-align: center;}#sk-container-id-4 div.sk-container {/* jupyter's `normalize.less` sets `[hidden] { display: none; }` but bootstrap.min.css set `[hidden] { display: none !important; }` so we also need the `!important` here to be able to override the default hidden behavior on the sphinx rendered scikit-learn.org. See: https://github.com/scikit-learn/scikit-learn/issues/21755 */display: inline-block !important;position: relative;}#sk-container-id-4 div.sk-text-repr-fallback {display: none;}</style><div id=\"sk-container-id-4\" class=\"sk-top-container\"><div class=\"sk-text-repr-fallback\"><pre>LGBMClassifier(colsample_bytree=0.5321499343393309,\n",
       "               learning_rate=0.09788322077839064, max_depth=9,\n",
       "               min_child_samples=48, n_estimators=816, num_leaves=24,\n",
       "               reg_alpha=1.4542101216472716, reg_lambda=147.23779198895008,\n",
       "               subsample=0.00024432023075557363)</pre><b>In a Jupyter environment, please rerun this cell to show the HTML representation or trust the notebook. <br />On GitHub, the HTML representation is unable to render, please try loading this page with nbviewer.org.</b></div><div class=\"sk-container\" hidden><div class=\"sk-item\"><div class=\"sk-estimator sk-toggleable\"><input class=\"sk-toggleable__control sk-hidden--visually\" id=\"sk-estimator-id-4\" type=\"checkbox\" checked><label for=\"sk-estimator-id-4\" class=\"sk-toggleable__label sk-toggleable__label-arrow\">LGBMClassifier</label><div class=\"sk-toggleable__content\"><pre>LGBMClassifier(colsample_bytree=0.5321499343393309,\n",
       "               learning_rate=0.09788322077839064, max_depth=9,\n",
       "               min_child_samples=48, n_estimators=816, num_leaves=24,\n",
       "               reg_alpha=1.4542101216472716, reg_lambda=147.23779198895008,\n",
       "               subsample=0.00024432023075557363)</pre></div></div></div></div></div>"
      ],
      "text/plain": [
       "LGBMClassifier(colsample_bytree=0.5321499343393309,\n",
       "               learning_rate=0.09788322077839064, max_depth=9,\n",
       "               min_child_samples=48, n_estimators=816, num_leaves=24,\n",
       "               reg_alpha=1.4542101216472716, reg_lambda=147.23779198895008,\n",
       "               subsample=0.00024432023075557363)"
      ]
     },
     "execution_count": 54,
     "metadata": {},
     "output_type": "execute_result"
    }
   ],
   "source": [
    "\n",
    "x, y = sklearn.datasets.load_breast_cancer(return_X_y=True)\n",
    "\n",
    "\n",
    "param_distributions = {\n",
    "    'num_leaves': optuna.distributions.IntDistribution(2, 2*12), #31\n",
    "    'max_depth': optuna.distributions.IntDistribution(1, 13), #-1\n",
    "    'min_child_samples': optuna.distributions.IntDistribution(20, int(len(x) * 0.1)), #20\n",
    "    #'min_child_weight': 0.001, #0.001\n",
    "    #'min_split_gain': 0.0, #0.0\n",
    "    \n",
    "    'n_estimators': optuna.distributions.IntDistribution(100, 2000, 1), #100\n",
    "    'learning_rate': optuna.distributions.FloatDistribution(0.0001, 0.3), #0.1\n",
    "    \n",
    "    'reg_alpha': optuna.distributions.FloatDistribution(0, 1000), #0.0\n",
    "    'reg_lambda': optuna.distributions.FloatDistribution(0, 1000), #0.0\n",
    "    \n",
    "    'colsample_bytree': optuna.distributions.FloatDistribution(0, 1), #1.0\n",
    "    \n",
    "    'subsample': optuna.distributions.FloatDistribution(0, 1) , #1.0\n",
    "    #'subsample_for_bin': 200000, #200000\n",
    "    #'subsample_freq': 0, #0\n",
    "}\n",
    "\n",
    "clf = LGBMClassifier()\n",
    "\n",
    "optuna_search = optuna.integration.OptunaSearchCV(\n",
    "    clf, param_distributions, n_trials=100, verbose=0, cv=TimeSeriesSplit(n_splits=4),\n",
    "    n_jobs=-1\n",
    ")\n",
    "\n",
    "optuna_search.fit(x, y)\n",
    "\n",
    "print(\"Best trial:\")\n",
    "trial = optuna_search.study_.best_trial\n",
    "clf.set_params(**trial.params)\n",
    "\n",
    "clf.fit(x, y)"
   ]
  },
  {
   "cell_type": "code",
   "execution_count": 32,
   "id": "94ebc004-912c-461c-b46b-d8712fe8e3ec",
   "metadata": {},
   "outputs": [
    {
     "name": "stderr",
     "output_type": "stream",
     "text": [
      "[I 2023-08-21 22:27:50,637] A new study created in memory with name: no-name-094abd0f-1b31-4cf0-bb93-e49d80d25c62\n",
      "[W 2023-08-21 22:27:50,649] Trial 0 failed with parameters: {'lambda_l1': 0.00013321912215708676, 'lambda_l2': 0.04750922891171694, 'num_leaves': 168, 'feature_fraction': 0.934934889315056, 'bagging_fraction': 0.4814802657524373, 'bagging_freq': 4, 'min_child_samples': 73} because of the following error: TypeError(\"Trial.suggest_int() missing 2 required positional arguments: 'low' and 'high'\").\n",
      "Traceback (most recent call last):\n",
      "  File \"/Users/santiago/miniconda3/envs/thesis/lib/python3.10/site-packages/optuna/study/_optimize.py\", line 200, in _run_trial\n",
      "    value_or_values = func(trial)\n",
      "  File \"/var/folders/yn/9gj_99ys1mz0_tkl2kvh5wd40000gn/T/ipykernel_5710/1730435097.py\", line 17, in objective\n",
      "    rf_max_depth = trial.suggest_int(param)\n",
      "TypeError: Trial.suggest_int() missing 2 required positional arguments: 'low' and 'high'\n",
      "[W 2023-08-21 22:27:50,650] Trial 0 failed with value None.\n"
     ]
    },
    {
     "ename": "TypeError",
     "evalue": "Trial.suggest_int() missing 2 required positional arguments: 'low' and 'high'",
     "output_type": "error",
     "traceback": [
      "\u001b[0;31m---------------------------------------------------------------------------\u001b[0m",
      "\u001b[0;31mTypeError\u001b[0m                                 Traceback (most recent call last)",
      "Cell \u001b[0;32mIn[32], line 2\u001b[0m\n\u001b[1;32m      1\u001b[0m study \u001b[38;5;241m=\u001b[39m optuna\u001b[38;5;241m.\u001b[39mcreate_study(direction\u001b[38;5;241m=\u001b[39m\u001b[38;5;124m\"\u001b[39m\u001b[38;5;124mmaximize\u001b[39m\u001b[38;5;124m\"\u001b[39m)\n\u001b[0;32m----> 2\u001b[0m \u001b[43mstudy\u001b[49m\u001b[38;5;241;43m.\u001b[39;49m\u001b[43moptimize\u001b[49m\u001b[43m(\u001b[49m\u001b[43mobjective\u001b[49m\u001b[43m,\u001b[49m\u001b[43m \u001b[49m\u001b[43mn_trials\u001b[49m\u001b[38;5;241;43m=\u001b[39;49m\u001b[38;5;241;43m100\u001b[39;49m\u001b[43m)\u001b[49m\n\u001b[1;32m      3\u001b[0m \u001b[38;5;28mprint\u001b[39m(study\u001b[38;5;241m.\u001b[39mbest_trial)\n",
      "File \u001b[0;32m~/miniconda3/envs/thesis/lib/python3.10/site-packages/optuna/study/study.py:442\u001b[0m, in \u001b[0;36mStudy.optimize\u001b[0;34m(self, func, n_trials, timeout, n_jobs, catch, callbacks, gc_after_trial, show_progress_bar)\u001b[0m\n\u001b[1;32m    339\u001b[0m \u001b[38;5;28;01mdef\u001b[39;00m \u001b[38;5;21moptimize\u001b[39m(\n\u001b[1;32m    340\u001b[0m     \u001b[38;5;28mself\u001b[39m,\n\u001b[1;32m    341\u001b[0m     func: ObjectiveFuncType,\n\u001b[0;32m   (...)\u001b[0m\n\u001b[1;32m    348\u001b[0m     show_progress_bar: \u001b[38;5;28mbool\u001b[39m \u001b[38;5;241m=\u001b[39m \u001b[38;5;28;01mFalse\u001b[39;00m,\n\u001b[1;32m    349\u001b[0m ) \u001b[38;5;241m-\u001b[39m\u001b[38;5;241m>\u001b[39m \u001b[38;5;28;01mNone\u001b[39;00m:\n\u001b[1;32m    350\u001b[0m \u001b[38;5;250m    \u001b[39m\u001b[38;5;124;03m\"\"\"Optimize an objective function.\u001b[39;00m\n\u001b[1;32m    351\u001b[0m \n\u001b[1;32m    352\u001b[0m \u001b[38;5;124;03m    Optimization is done by choosing a suitable set of hyperparameter values from a given\u001b[39;00m\n\u001b[0;32m   (...)\u001b[0m\n\u001b[1;32m    440\u001b[0m \u001b[38;5;124;03m            If nested invocation of this method occurs.\u001b[39;00m\n\u001b[1;32m    441\u001b[0m \u001b[38;5;124;03m    \"\"\"\u001b[39;00m\n\u001b[0;32m--> 442\u001b[0m     \u001b[43m_optimize\u001b[49m\u001b[43m(\u001b[49m\n\u001b[1;32m    443\u001b[0m \u001b[43m        \u001b[49m\u001b[43mstudy\u001b[49m\u001b[38;5;241;43m=\u001b[39;49m\u001b[38;5;28;43mself\u001b[39;49m\u001b[43m,\u001b[49m\n\u001b[1;32m    444\u001b[0m \u001b[43m        \u001b[49m\u001b[43mfunc\u001b[49m\u001b[38;5;241;43m=\u001b[39;49m\u001b[43mfunc\u001b[49m\u001b[43m,\u001b[49m\n\u001b[1;32m    445\u001b[0m \u001b[43m        \u001b[49m\u001b[43mn_trials\u001b[49m\u001b[38;5;241;43m=\u001b[39;49m\u001b[43mn_trials\u001b[49m\u001b[43m,\u001b[49m\n\u001b[1;32m    446\u001b[0m \u001b[43m        \u001b[49m\u001b[43mtimeout\u001b[49m\u001b[38;5;241;43m=\u001b[39;49m\u001b[43mtimeout\u001b[49m\u001b[43m,\u001b[49m\n\u001b[1;32m    447\u001b[0m \u001b[43m        \u001b[49m\u001b[43mn_jobs\u001b[49m\u001b[38;5;241;43m=\u001b[39;49m\u001b[43mn_jobs\u001b[49m\u001b[43m,\u001b[49m\n\u001b[1;32m    448\u001b[0m \u001b[43m        \u001b[49m\u001b[43mcatch\u001b[49m\u001b[38;5;241;43m=\u001b[39;49m\u001b[38;5;28;43mtuple\u001b[39;49m\u001b[43m(\u001b[49m\u001b[43mcatch\u001b[49m\u001b[43m)\u001b[49m\u001b[43m \u001b[49m\u001b[38;5;28;43;01mif\u001b[39;49;00m\u001b[43m \u001b[49m\u001b[38;5;28;43misinstance\u001b[39;49m\u001b[43m(\u001b[49m\u001b[43mcatch\u001b[49m\u001b[43m,\u001b[49m\u001b[43m \u001b[49m\u001b[43mIterable\u001b[49m\u001b[43m)\u001b[49m\u001b[43m \u001b[49m\u001b[38;5;28;43;01melse\u001b[39;49;00m\u001b[43m \u001b[49m\u001b[43m(\u001b[49m\u001b[43mcatch\u001b[49m\u001b[43m,\u001b[49m\u001b[43m)\u001b[49m\u001b[43m,\u001b[49m\n\u001b[1;32m    449\u001b[0m \u001b[43m        \u001b[49m\u001b[43mcallbacks\u001b[49m\u001b[38;5;241;43m=\u001b[39;49m\u001b[43mcallbacks\u001b[49m\u001b[43m,\u001b[49m\n\u001b[1;32m    450\u001b[0m \u001b[43m        \u001b[49m\u001b[43mgc_after_trial\u001b[49m\u001b[38;5;241;43m=\u001b[39;49m\u001b[43mgc_after_trial\u001b[49m\u001b[43m,\u001b[49m\n\u001b[1;32m    451\u001b[0m \u001b[43m        \u001b[49m\u001b[43mshow_progress_bar\u001b[49m\u001b[38;5;241;43m=\u001b[39;49m\u001b[43mshow_progress_bar\u001b[49m\u001b[43m,\u001b[49m\n\u001b[1;32m    452\u001b[0m \u001b[43m    \u001b[49m\u001b[43m)\u001b[49m\n",
      "File \u001b[0;32m~/miniconda3/envs/thesis/lib/python3.10/site-packages/optuna/study/_optimize.py:66\u001b[0m, in \u001b[0;36m_optimize\u001b[0;34m(study, func, n_trials, timeout, n_jobs, catch, callbacks, gc_after_trial, show_progress_bar)\u001b[0m\n\u001b[1;32m     64\u001b[0m \u001b[38;5;28;01mtry\u001b[39;00m:\n\u001b[1;32m     65\u001b[0m     \u001b[38;5;28;01mif\u001b[39;00m n_jobs \u001b[38;5;241m==\u001b[39m \u001b[38;5;241m1\u001b[39m:\n\u001b[0;32m---> 66\u001b[0m         \u001b[43m_optimize_sequential\u001b[49m\u001b[43m(\u001b[49m\n\u001b[1;32m     67\u001b[0m \u001b[43m            \u001b[49m\u001b[43mstudy\u001b[49m\u001b[43m,\u001b[49m\n\u001b[1;32m     68\u001b[0m \u001b[43m            \u001b[49m\u001b[43mfunc\u001b[49m\u001b[43m,\u001b[49m\n\u001b[1;32m     69\u001b[0m \u001b[43m            \u001b[49m\u001b[43mn_trials\u001b[49m\u001b[43m,\u001b[49m\n\u001b[1;32m     70\u001b[0m \u001b[43m            \u001b[49m\u001b[43mtimeout\u001b[49m\u001b[43m,\u001b[49m\n\u001b[1;32m     71\u001b[0m \u001b[43m            \u001b[49m\u001b[43mcatch\u001b[49m\u001b[43m,\u001b[49m\n\u001b[1;32m     72\u001b[0m \u001b[43m            \u001b[49m\u001b[43mcallbacks\u001b[49m\u001b[43m,\u001b[49m\n\u001b[1;32m     73\u001b[0m \u001b[43m            \u001b[49m\u001b[43mgc_after_trial\u001b[49m\u001b[43m,\u001b[49m\n\u001b[1;32m     74\u001b[0m \u001b[43m            \u001b[49m\u001b[43mreseed_sampler_rng\u001b[49m\u001b[38;5;241;43m=\u001b[39;49m\u001b[38;5;28;43;01mFalse\u001b[39;49;00m\u001b[43m,\u001b[49m\n\u001b[1;32m     75\u001b[0m \u001b[43m            \u001b[49m\u001b[43mtime_start\u001b[49m\u001b[38;5;241;43m=\u001b[39;49m\u001b[38;5;28;43;01mNone\u001b[39;49;00m\u001b[43m,\u001b[49m\n\u001b[1;32m     76\u001b[0m \u001b[43m            \u001b[49m\u001b[43mprogress_bar\u001b[49m\u001b[38;5;241;43m=\u001b[39;49m\u001b[43mprogress_bar\u001b[49m\u001b[43m,\u001b[49m\n\u001b[1;32m     77\u001b[0m \u001b[43m        \u001b[49m\u001b[43m)\u001b[49m\n\u001b[1;32m     78\u001b[0m     \u001b[38;5;28;01melse\u001b[39;00m:\n\u001b[1;32m     79\u001b[0m         \u001b[38;5;28;01mif\u001b[39;00m n_jobs \u001b[38;5;241m==\u001b[39m \u001b[38;5;241m-\u001b[39m\u001b[38;5;241m1\u001b[39m:\n",
      "File \u001b[0;32m~/miniconda3/envs/thesis/lib/python3.10/site-packages/optuna/study/_optimize.py:163\u001b[0m, in \u001b[0;36m_optimize_sequential\u001b[0;34m(study, func, n_trials, timeout, catch, callbacks, gc_after_trial, reseed_sampler_rng, time_start, progress_bar)\u001b[0m\n\u001b[1;32m    160\u001b[0m         \u001b[38;5;28;01mbreak\u001b[39;00m\n\u001b[1;32m    162\u001b[0m \u001b[38;5;28;01mtry\u001b[39;00m:\n\u001b[0;32m--> 163\u001b[0m     frozen_trial \u001b[38;5;241m=\u001b[39m \u001b[43m_run_trial\u001b[49m\u001b[43m(\u001b[49m\u001b[43mstudy\u001b[49m\u001b[43m,\u001b[49m\u001b[43m \u001b[49m\u001b[43mfunc\u001b[49m\u001b[43m,\u001b[49m\u001b[43m \u001b[49m\u001b[43mcatch\u001b[49m\u001b[43m)\u001b[49m\n\u001b[1;32m    164\u001b[0m \u001b[38;5;28;01mfinally\u001b[39;00m:\n\u001b[1;32m    165\u001b[0m     \u001b[38;5;66;03m# The following line mitigates memory problems that can be occurred in some\u001b[39;00m\n\u001b[1;32m    166\u001b[0m     \u001b[38;5;66;03m# environments (e.g., services that use computing containers such as GitHub Actions).\u001b[39;00m\n\u001b[1;32m    167\u001b[0m     \u001b[38;5;66;03m# Please refer to the following PR for further details:\u001b[39;00m\n\u001b[1;32m    168\u001b[0m     \u001b[38;5;66;03m# https://github.com/optuna/optuna/pull/325.\u001b[39;00m\n\u001b[1;32m    169\u001b[0m     \u001b[38;5;28;01mif\u001b[39;00m gc_after_trial:\n",
      "File \u001b[0;32m~/miniconda3/envs/thesis/lib/python3.10/site-packages/optuna/study/_optimize.py:251\u001b[0m, in \u001b[0;36m_run_trial\u001b[0;34m(study, func, catch)\u001b[0m\n\u001b[1;32m    244\u001b[0m         \u001b[38;5;28;01massert\u001b[39;00m \u001b[38;5;28;01mFalse\u001b[39;00m, \u001b[38;5;124m\"\u001b[39m\u001b[38;5;124mShould not reach.\u001b[39m\u001b[38;5;124m\"\u001b[39m\n\u001b[1;32m    246\u001b[0m \u001b[38;5;28;01mif\u001b[39;00m (\n\u001b[1;32m    247\u001b[0m     frozen_trial\u001b[38;5;241m.\u001b[39mstate \u001b[38;5;241m==\u001b[39m TrialState\u001b[38;5;241m.\u001b[39mFAIL\n\u001b[1;32m    248\u001b[0m     \u001b[38;5;129;01mand\u001b[39;00m func_err \u001b[38;5;129;01mis\u001b[39;00m \u001b[38;5;129;01mnot\u001b[39;00m \u001b[38;5;28;01mNone\u001b[39;00m\n\u001b[1;32m    249\u001b[0m     \u001b[38;5;129;01mand\u001b[39;00m \u001b[38;5;129;01mnot\u001b[39;00m \u001b[38;5;28misinstance\u001b[39m(func_err, catch)\n\u001b[1;32m    250\u001b[0m ):\n\u001b[0;32m--> 251\u001b[0m     \u001b[38;5;28;01mraise\u001b[39;00m func_err\n\u001b[1;32m    252\u001b[0m \u001b[38;5;28;01mreturn\u001b[39;00m frozen_trial\n",
      "File \u001b[0;32m~/miniconda3/envs/thesis/lib/python3.10/site-packages/optuna/study/_optimize.py:200\u001b[0m, in \u001b[0;36m_run_trial\u001b[0;34m(study, func, catch)\u001b[0m\n\u001b[1;32m    198\u001b[0m \u001b[38;5;28;01mwith\u001b[39;00m get_heartbeat_thread(trial\u001b[38;5;241m.\u001b[39m_trial_id, study\u001b[38;5;241m.\u001b[39m_storage):\n\u001b[1;32m    199\u001b[0m     \u001b[38;5;28;01mtry\u001b[39;00m:\n\u001b[0;32m--> 200\u001b[0m         value_or_values \u001b[38;5;241m=\u001b[39m \u001b[43mfunc\u001b[49m\u001b[43m(\u001b[49m\u001b[43mtrial\u001b[49m\u001b[43m)\u001b[49m\n\u001b[1;32m    201\u001b[0m     \u001b[38;5;28;01mexcept\u001b[39;00m exceptions\u001b[38;5;241m.\u001b[39mTrialPruned \u001b[38;5;28;01mas\u001b[39;00m e:\n\u001b[1;32m    202\u001b[0m         \u001b[38;5;66;03m# TODO(mamu): Handle multi-objective cases.\u001b[39;00m\n\u001b[1;32m    203\u001b[0m         state \u001b[38;5;241m=\u001b[39m TrialState\u001b[38;5;241m.\u001b[39mPRUNED\n",
      "Cell \u001b[0;32mIn[28], line 17\u001b[0m, in \u001b[0;36mobjective\u001b[0;34m(trial)\u001b[0m\n\u001b[1;32m      2\u001b[0m x, y \u001b[38;5;241m=\u001b[39m sklearn\u001b[38;5;241m.\u001b[39mdatasets\u001b[38;5;241m.\u001b[39mload_breast_cancer(return_X_y\u001b[38;5;241m=\u001b[39m\u001b[38;5;28;01mTrue\u001b[39;00m)\n\u001b[1;32m      4\u001b[0m param \u001b[38;5;241m=\u001b[39m {\n\u001b[1;32m      5\u001b[0m \u001b[38;5;124m\"\u001b[39m\u001b[38;5;124mobjective\u001b[39m\u001b[38;5;124m\"\u001b[39m: \u001b[38;5;124m\"\u001b[39m\u001b[38;5;124mbinary\u001b[39m\u001b[38;5;124m\"\u001b[39m,\n\u001b[1;32m      6\u001b[0m \u001b[38;5;124m\"\u001b[39m\u001b[38;5;124mmetric\u001b[39m\u001b[38;5;124m\"\u001b[39m: \u001b[38;5;124m\"\u001b[39m\u001b[38;5;124mbinary_logloss\u001b[39m\u001b[38;5;124m\"\u001b[39m,\n\u001b[0;32m   (...)\u001b[0m\n\u001b[1;32m     15\u001b[0m \u001b[38;5;124m\"\u001b[39m\u001b[38;5;124mmin_child_samples\u001b[39m\u001b[38;5;124m\"\u001b[39m: trial\u001b[38;5;241m.\u001b[39msuggest_int(\u001b[38;5;124m\"\u001b[39m\u001b[38;5;124mmin_child_samples\u001b[39m\u001b[38;5;124m\"\u001b[39m, \u001b[38;5;241m5\u001b[39m, \u001b[38;5;241m100\u001b[39m),\n\u001b[1;32m     16\u001b[0m }\n\u001b[0;32m---> 17\u001b[0m rf_max_depth \u001b[38;5;241m=\u001b[39m \u001b[43mtrial\u001b[49m\u001b[38;5;241;43m.\u001b[39;49m\u001b[43msuggest_int\u001b[49m\u001b[43m(\u001b[49m\u001b[43mparam\u001b[49m\u001b[43m)\u001b[49m\n\u001b[1;32m     18\u001b[0m classifier_obj \u001b[38;5;241m=\u001b[39m LGBMClassifier(\n\u001b[1;32m     19\u001b[0m     max_depth\u001b[38;5;241m=\u001b[39mrf_max_depth, n_estimators\u001b[38;5;241m=\u001b[39m\u001b[38;5;241m10\u001b[39m\n\u001b[1;32m     20\u001b[0m )\n\u001b[1;32m     22\u001b[0m score \u001b[38;5;241m=\u001b[39m sklearn\u001b[38;5;241m.\u001b[39mmodel_selection\u001b[38;5;241m.\u001b[39mcross_val_score(classifier_obj, x, y, n_jobs\u001b[38;5;241m=\u001b[39m\u001b[38;5;241m-\u001b[39m\u001b[38;5;241m1\u001b[39m, cv\u001b[38;5;241m=\u001b[39mTimeSeriesSplit(n_splits\u001b[38;5;241m=\u001b[39m\u001b[38;5;241m4\u001b[39m))\n",
      "\u001b[0;31mTypeError\u001b[0m: Trial.suggest_int() missing 2 required positional arguments: 'low' and 'high'"
     ]
    }
   ],
   "source": [
    "study = optuna.create_study(direction=\"maximize\")\n",
    "study.optimize(objective, n_trials=100)\n",
    "print(study.best_trial)"
   ]
  },
  {
   "cell_type": "code",
   "execution_count": null,
   "id": "6e646f0d-7b97-4e8a-b8c6-50ff35d52525",
   "metadata": {},
   "outputs": [],
   "source": []
  }
 ],
 "metadata": {
  "kernelspec": {
   "display_name": "Python 3 (ipykernel)",
   "language": "python",
   "name": "python3"
  },
  "language_info": {
   "codemirror_mode": {
    "name": "ipython",
    "version": 3
   },
   "file_extension": ".py",
   "mimetype": "text/x-python",
   "name": "python",
   "nbconvert_exporter": "python",
   "pygments_lexer": "ipython3",
   "version": "3.10.8"
  }
 },
 "nbformat": 4,
 "nbformat_minor": 5
}
