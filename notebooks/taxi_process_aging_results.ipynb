{
 "cells": [
  {
   "cell_type": "code",
   "execution_count": 2,
   "metadata": {},
   "outputs": [
    {
     "name": "stderr",
     "output_type": "stream",
     "text": [
      "/Users/santiago/miniconda3/envs/thesis/lib/python3.10/site-packages/tqdm/auto.py:21: TqdmWarning: IProgress not found. Please update jupyter and ipywidgets. See https://ipywidgets.readthedocs.io/en/stable/user_install.html\n",
      "  from .autonotebook import tqdm as notebook_tqdm\n"
     ]
    }
   ],
   "source": [
    "import sys\n",
    "sys.path.insert(1, '../')\n",
    "import pandas as pd\n",
    "import numpy as np\n",
    "from matplotlib import pyplot as plt\n",
    "import seaborn as sns\n",
    "from sklearn.metrics import mean_absolute_percentage_error, mean_absolute_error, mean_squared_log_error\n",
    "\n",
    "from agingml import temporal_degradation_test as tdt"
   ]
  },
  {
   "cell_type": "code",
   "execution_count": 2,
   "metadata": {},
   "outputs": [],
   "source": [
    "def plot_results():\n",
    "    for model in models:\n",
    "        errors_df = pd.read_parquet(f'../results/aging/{dataset}/aging_{dataset}_{model}_{n_simulations}_simulations_{n_prod}_prod.parquet')\n",
    "        d_errors_df = pd.read_parquet(f'../results/aging/{dataset}/aging_{dataset}_{model}_{n_simulations}_simulations_{n_prod}_prod_{freq}.parquet')\n",
    "        \n",
    "        errors_df = errors_df[errors_df['model_age'] <= 800]\n",
    "        d_errors_df = d_errors_df[d_errors_df['model_age'] <= 800]\n",
    "        test_errors_df = errors_df[errors_df['partition'] == 'test']\n",
    "        test_mape = test_errors_df.groupby('simulation_id').apply(lambda group: mean_absolute_percentage_error(group.y, group.y_pred))\n",
    "        test_mape = pd.DataFrame(test_mape, columns=['test_mape']).reset_index()\n",
    "\n",
    "        d_errors_df = pd.merge(d_errors_df, test_mape, how='left', on='simulation_id')\n",
    "        d_errors_df = d_errors_df[d_errors_df['test_mape'] <= 0.1]\n",
    "\n",
    "        valid_models = len(d_errors_df['simulation_id'].drop_duplicates())\n",
    "        print(f'There are {valid_models} out of {n_simulations}')\n",
    "\n",
    "        d_errors_df['degradation'] = d_errors_df['error'] > 0.15\n",
    "\n",
    "        print(d_errors_df['degradation'].value_counts(normalize=True))\n",
    "        degradations_per_model = d_errors_df.groupby(['simulation_id'])[['degradation']].sum().reset_index()\n",
    "        num_degradated_models = len(degradations_per_model[degradations_per_model['degradation'] > 5])\n",
    "\n",
    "        print(f\"{num_degradated_models} out of {len(degradations_per_model)} models ({np.round(100 * num_degradated_models / len(degradations_per_model), 1)} %) degradaded\")\n",
    "\n",
    "        print(degradations_per_model.degradation.sort_values())\n",
    "        fig = tdt.plot_aging_chart(d_errors_df, metric='MAPE', freq='days', plot_name=f\"Model Aging Chart: NYC Taxi Trip Demand - {model}\")\n",
    "        fig.show()\n",
    "        fig.savefig(f'../figures/aging/{dataset}/aging_plot_{dataset}_{model}_{n_simulations}_simulations_{n_prod}_prod.svg', format='svg')"
   ]
  },
  {
   "cell_type": "code",
   "execution_count": 4,
   "metadata": {},
   "outputs": [],
   "source": [
    "errors_df = pd.read_parquet(f'../results/aging/{dataset}/aging_{dataset}_{models[0]}_{n_simulations}_simulations_{n_prod}_prod.parquet')"
   ]
  },
  {
   "cell_type": "code",
   "execution_count": 17,
   "metadata": {},
   "outputs": [],
   "source": [
    "errors_df = errors_df[errors_df['model_age'] <= 800]\n",
    "test_errors_df = errors_df[errors_df['partition'] == 'test']\n",
    "test_mape = test_errors_df.groupby('simulation_id').apply(lambda group: mean_absolute_percentage_error(group.y, group.y_pred))\n",
    "test_mape = pd.DataFrame(test_mape, columns=['test_mape']).reset_index()\n",
    "d_errors_df = test_mape[test_mape['test_mape'] <= 0.1]\n",
    "\n",
    "valid_model_ids = d_errors_df['simulation_id'].drop_duplicates()"
   ]
  },
  {
   "cell_type": "code",
   "execution_count": 21,
   "metadata": {},
   "outputs": [
    {
     "data": {
      "text/plain": [
       "array([   2,    3,    4, ..., 1497, 1498, 1499])"
      ]
     },
     "execution_count": 21,
     "metadata": {},
     "output_type": "execute_result"
    }
   ],
   "source": [
    "valid_model_ids.values"
   ]
  },
  {
   "cell_type": "code",
   "execution_count": 10,
   "metadata": {},
   "outputs": [
    {
     "data": {
      "text/html": [
       "<div>\n",
       "<style scoped>\n",
       "    .dataframe tbody tr th:only-of-type {\n",
       "        vertical-align: middle;\n",
       "    }\n",
       "\n",
       "    .dataframe tbody tr th {\n",
       "        vertical-align: top;\n",
       "    }\n",
       "\n",
       "    .dataframe thead th {\n",
       "        text-align: right;\n",
       "    }\n",
       "</style>\n",
       "<table border=\"1\" class=\"dataframe\">\n",
       "  <thead>\n",
       "    <tr style=\"text-align: right;\">\n",
       "      <th></th>\n",
       "      <th>y</th>\n",
       "      <th>y_pred</th>\n",
       "      <th>partition</th>\n",
       "      <th>timestamp</th>\n",
       "      <th>model_age</th>\n",
       "      <th>is_model_valid</th>\n",
       "      <th>simulation_id</th>\n",
       "    </tr>\n",
       "    <tr>\n",
       "      <th>timestamp</th>\n",
       "      <th></th>\n",
       "      <th></th>\n",
       "      <th></th>\n",
       "      <th></th>\n",
       "      <th></th>\n",
       "      <th></th>\n",
       "      <th></th>\n",
       "    </tr>\n",
       "  </thead>\n",
       "  <tbody>\n",
       "    <tr>\n",
       "      <th>2020-02-27 01:00:00</th>\n",
       "      <td>2329.0</td>\n",
       "      <td>2208.653849</td>\n",
       "      <td>train</td>\n",
       "      <td>2020-02-27 01:00:00</td>\n",
       "      <td>-459</td>\n",
       "      <td>False</td>\n",
       "      <td>0</td>\n",
       "    </tr>\n",
       "    <tr>\n",
       "      <th>2020-02-27 02:00:00</th>\n",
       "      <td>1408.0</td>\n",
       "      <td>1324.241803</td>\n",
       "      <td>train</td>\n",
       "      <td>2020-02-27 02:00:00</td>\n",
       "      <td>-459</td>\n",
       "      <td>False</td>\n",
       "      <td>0</td>\n",
       "    </tr>\n",
       "    <tr>\n",
       "      <th>2020-02-27 03:00:00</th>\n",
       "      <td>942.0</td>\n",
       "      <td>791.985780</td>\n",
       "      <td>train</td>\n",
       "      <td>2020-02-27 03:00:00</td>\n",
       "      <td>-459</td>\n",
       "      <td>False</td>\n",
       "      <td>0</td>\n",
       "    </tr>\n",
       "    <tr>\n",
       "      <th>2020-02-27 04:00:00</th>\n",
       "      <td>1030.0</td>\n",
       "      <td>973.328735</td>\n",
       "      <td>train</td>\n",
       "      <td>2020-02-27 04:00:00</td>\n",
       "      <td>-459</td>\n",
       "      <td>False</td>\n",
       "      <td>0</td>\n",
       "    </tr>\n",
       "    <tr>\n",
       "      <th>2020-02-27 05:00:00</th>\n",
       "      <td>1991.0</td>\n",
       "      <td>2237.026396</td>\n",
       "      <td>train</td>\n",
       "      <td>2020-02-27 05:00:00</td>\n",
       "      <td>-459</td>\n",
       "      <td>False</td>\n",
       "      <td>0</td>\n",
       "    </tr>\n",
       "    <tr>\n",
       "      <th>...</th>\n",
       "      <td>...</td>\n",
       "      <td>...</td>\n",
       "      <td>...</td>\n",
       "      <td>...</td>\n",
       "      <td>...</td>\n",
       "      <td>...</td>\n",
       "      <td>...</td>\n",
       "    </tr>\n",
       "    <tr>\n",
       "      <th>2017-09-18 14:00:00</th>\n",
       "      <td>16228.0</td>\n",
       "      <td>14794.759382</td>\n",
       "      <td>prod</td>\n",
       "      <td>2017-09-18 14:00:00</td>\n",
       "      <td>266</td>\n",
       "      <td>True</td>\n",
       "      <td>1499</td>\n",
       "    </tr>\n",
       "    <tr>\n",
       "      <th>2017-09-18 15:00:00</th>\n",
       "      <td>16175.0</td>\n",
       "      <td>14888.364949</td>\n",
       "      <td>prod</td>\n",
       "      <td>2017-09-18 15:00:00</td>\n",
       "      <td>266</td>\n",
       "      <td>True</td>\n",
       "      <td>1499</td>\n",
       "    </tr>\n",
       "    <tr>\n",
       "      <th>2017-09-18 16:00:00</th>\n",
       "      <td>15221.0</td>\n",
       "      <td>14910.916928</td>\n",
       "      <td>prod</td>\n",
       "      <td>2017-09-18 16:00:00</td>\n",
       "      <td>266</td>\n",
       "      <td>True</td>\n",
       "      <td>1499</td>\n",
       "    </tr>\n",
       "    <tr>\n",
       "      <th>2017-09-18 17:00:00</th>\n",
       "      <td>18004.0</td>\n",
       "      <td>14244.436028</td>\n",
       "      <td>prod</td>\n",
       "      <td>2017-09-18 17:00:00</td>\n",
       "      <td>266</td>\n",
       "      <td>True</td>\n",
       "      <td>1499</td>\n",
       "    </tr>\n",
       "    <tr>\n",
       "      <th>2017-09-18 18:00:00</th>\n",
       "      <td>20010.0</td>\n",
       "      <td>15489.680226</td>\n",
       "      <td>prod</td>\n",
       "      <td>2017-09-18 18:00:00</td>\n",
       "      <td>266</td>\n",
       "      <td>True</td>\n",
       "      <td>1499</td>\n",
       "    </tr>\n",
       "  </tbody>\n",
       "</table>\n",
       "<p>62279227 rows × 7 columns</p>\n",
       "</div>"
      ],
      "text/plain": [
       "                           y        y_pred partition           timestamp  \\\n",
       "timestamp                                                                  \n",
       "2020-02-27 01:00:00   2329.0   2208.653849     train 2020-02-27 01:00:00   \n",
       "2020-02-27 02:00:00   1408.0   1324.241803     train 2020-02-27 02:00:00   \n",
       "2020-02-27 03:00:00    942.0    791.985780     train 2020-02-27 03:00:00   \n",
       "2020-02-27 04:00:00   1030.0    973.328735     train 2020-02-27 04:00:00   \n",
       "2020-02-27 05:00:00   1991.0   2237.026396     train 2020-02-27 05:00:00   \n",
       "...                      ...           ...       ...                 ...   \n",
       "2017-09-18 14:00:00  16228.0  14794.759382      prod 2017-09-18 14:00:00   \n",
       "2017-09-18 15:00:00  16175.0  14888.364949      prod 2017-09-18 15:00:00   \n",
       "2017-09-18 16:00:00  15221.0  14910.916928      prod 2017-09-18 16:00:00   \n",
       "2017-09-18 17:00:00  18004.0  14244.436028      prod 2017-09-18 17:00:00   \n",
       "2017-09-18 18:00:00  20010.0  15489.680226      prod 2017-09-18 18:00:00   \n",
       "\n",
       "                     model_age  is_model_valid  simulation_id  \n",
       "timestamp                                                      \n",
       "2020-02-27 01:00:00       -459           False              0  \n",
       "2020-02-27 02:00:00       -459           False              0  \n",
       "2020-02-27 03:00:00       -459           False              0  \n",
       "2020-02-27 04:00:00       -459           False              0  \n",
       "2020-02-27 05:00:00       -459           False              0  \n",
       "...                        ...             ...            ...  \n",
       "2017-09-18 14:00:00        266            True           1499  \n",
       "2017-09-18 15:00:00        266            True           1499  \n",
       "2017-09-18 16:00:00        266            True           1499  \n",
       "2017-09-18 17:00:00        266            True           1499  \n",
       "2017-09-18 18:00:00        266            True           1499  \n",
       "\n",
       "[62279227 rows x 7 columns]"
      ]
     },
     "execution_count": 10,
     "metadata": {},
     "output_type": "execute_result"
    }
   ],
   "source": [
    "errors_df"
   ]
  },
  {
   "cell_type": "code",
   "execution_count": 12,
   "metadata": {},
   "outputs": [
    {
     "data": {
      "text/plain": [
       "False    858\n",
       "True     642\n",
       "Name: is_model_valid, dtype: int64"
      ]
     },
     "execution_count": 12,
     "metadata": {},
     "output_type": "execute_result"
    }
   ],
   "source": [
    "a = errors_df[['simulation_id', 'is_model_valid']].drop_duplicates()\n",
    "a['is_model_valid'].value_counts()"
   ]
  },
  {
   "cell_type": "code",
   "execution_count": 3,
   "metadata": {},
   "outputs": [],
   "source": [
    "dataset = 'taxi'\n",
    "n_train = 8800 # one year\n",
    "n_test = 2200\n",
    "n_prod = 4400\n",
    "n_simulations = 1500\n",
    "metric = mean_absolute_percentage_error\n",
    "freq = 'D'\n",
    "models =['LGBMRegressor', 'ElasticNet', 'RandomForestRegressor', 'MLPRegressor']\n",
    "plot_results()"
   ]
  },
  {
   "cell_type": "code",
   "execution_count": null,
   "metadata": {},
   "outputs": [],
   "source": []
  }
 ],
 "metadata": {
  "kernelspec": {
   "display_name": "thesis",
   "language": "python",
   "name": "python3"
  },
  "language_info": {
   "codemirror_mode": {
    "name": "ipython",
    "version": 3
   },
   "file_extension": ".py",
   "mimetype": "text/x-python",
   "name": "python",
   "nbconvert_exporter": "python",
   "pygments_lexer": "ipython3",
   "version": "3.10.8"
  },
  "orig_nbformat": 4
 },
 "nbformat": 4,
 "nbformat_minor": 2
}
