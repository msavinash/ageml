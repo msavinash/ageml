{
 "cells": [
  {
   "cell_type": "code",
   "execution_count": null,
   "metadata": {},
   "outputs": [],
   "source": [
    "import sys\n",
    "sys.path.insert(1, '../')\n",
    "import pandas as pd\n",
    "import numpy as np\n",
    "from matplotlib import pyplot as plt\n",
    "import seaborn as sns\n",
    "from sklearn.metrics import mean_absolute_percentage_error, mean_absolute_error, mean_squared_log_error\n",
    "\n",
    "from agingml import temporal_degradation_test as tdt"
   ]
  },
  {
   "cell_type": "code",
   "execution_count": null,
   "metadata": {},
   "outputs": [],
   "source": [
    "def plot_results():\n",
    "    for model in models:\n",
    "        errors_df = pd.read_parquet(f'../results/aging/{dataset}/aging_{dataset}_{model}_{n_simulations}_simulations_{n_prod}_prod.parquet')\n",
    "        d_errors_df = pd.read_parquet(f'../results/aging/{dataset}/aging_{dataset}_{model}_{n_simulations}_simulations_{n_prod}_prod_{freq}.parquet')\n",
    "        \n",
    "        errors_df = errors_df[errors_df['model_age'] <= 800]\n",
    "        d_errors_df = d_errors_df[d_errors_df['model_age'] <= 800]\n",
    "        test_errors_df = errors_df[errors_df['partition'] == 'test']\n",
    "        test_mape = test_errors_df.groupby('simulation_id').apply(lambda group: mean_absolute_percentage_error(group.y, group.y_pred))\n",
    "        test_mape = pd.DataFrame(test_mape, columns=['test_mape']).reset_index()\n",
    "\n",
    "        d_errors_df = pd.merge(d_errors_df, test_mape, how='left', on='simulation_id')\n",
    "        d_errors_df = d_errors_df[d_errors_df['test_mape'] <= 0.1]\n",
    "\n",
    "        valid_models = len(d_errors_df['simulation_id'].drop_duplicates())\n",
    "        print(f'There are {valid_models} out of {n_simulations}')\n",
    "\n",
    "        d_errors_df['degradation'] = d_errors_df['error'] > 0.15\n",
    "\n",
    "        print(d_errors_df['degradation'].value_counts(normalize=True))\n",
    "        degradations_per_model = d_errors_df.groupby(['simulation_id'])[['degradation']].sum().reset_index()\n",
    "        num_degradated_models = len(degradations_per_model[degradations_per_model['degradation'] > 5])\n",
    "\n",
    "        print(f\"{num_degradated_models} out of {len(degradations_per_model)} models ({np.round(100 * num_degradated_models / len(degradations_per_model), 1)} %) degradaded\")\n",
    "\n",
    "        print(degradations_per_model.degradation.sort_values())\n",
    "        fig = tdt.plot_aging_chart(d_errors_df, metric='MAPE', freq='days', plot_name=f\"Model Aging Chart: NYC Taxi Trip Demand - {model}\")\n",
    "        fig.show()\n",
    "        fig.savefig(f'../figures/aging/{dataset}/aging_plot_{dataset}_{model}_{n_simulations}_simulations_{n_prod}_prod.svg', format='svg')"
   ]
  },
  {
   "cell_type": "code",
   "execution_count": null,
   "metadata": {},
   "outputs": [],
   "source": [
    "dataset = 'taxi'\n",
    "n_train = 8800 # one year\n",
    "n_test = 2200\n",
    "n_prod = 4400\n",
    "n_simulations = 1500\n",
    "metric = mean_absolute_percentage_error\n",
    "freq = 'D'\n",
    "models =['LGBMRegressor', 'ElasticNet', 'RandomForestRegressor', 'MLPRegressor']\n",
    "plot_results()"
   ]
  },
  {
   "cell_type": "code",
   "execution_count": null,
   "metadata": {},
   "outputs": [],
   "source": []
  }
 ],
 "metadata": {
  "kernelspec": {
   "display_name": "thesis",
   "language": "python",
   "name": "python3"
  },
  "language_info": {
   "codemirror_mode": {
    "name": "ipython",
    "version": 3
   },
   "file_extension": ".py",
   "mimetype": "text/x-python",
   "name": "python",
   "nbconvert_exporter": "python",
   "pygments_lexer": "ipython3",
   "version": "3.10.8"
  },
  "orig_nbformat": 4
 },
 "nbformat": 4,
 "nbformat_minor": 2
}
